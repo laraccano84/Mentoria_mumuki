{
 "cells": [
  {
   "cell_type": "markdown",
   "metadata": {},
   "source": [
    "# Introducción"
   ]
  },
  {
   "cell_type": "markdown",
   "metadata": {},
   "source": [
    "## Objetivo general\n",
    "El proyecto consiste en predecir la deserción de estudiantes en el contexto una plataforma educativa online de código libre argentina que presenta una secuencia didáctica para aprender a programar. Para ello se utilizará un dataset anonimizado de aproximadamente 50.000 filas con progreso de estudiantes consistente en sus interacciones con la plataforma de aproximadamente 150 estudiantes. El mismo contiene tanto datos estructurados como no estructurados: tipos de eventos, fechas, transiciones entre estados, código fuente de soluciones enviadas, resultados de análisis sobre los árboles sintacticos y la ejecución del código fuente, entre otros."
   ]
  },
  {
   "cell_type": "markdown",
   "metadata": {},
   "source": [
    "## Primera entrega: análisis y visualización"
   ]
  },
  {
   "cell_type": "markdown",
   "metadata": {},
   "source": [
    "## Hitos\n",
    "\n",
    "La intención es avanzar de forma iterativa e incremental, en cuatro iteraciones: \n",
    "\n",
    "1. **Familiarización y planteo de preguntas** (📅 semana del 10 de Mayo) Conoceremos el problema, caracterizaremos a muy alto nivel el dataset y  partiendo de la pregunta _¿qué factores inciden en la deserción?_ se deberá:\n",
    "    1. producir nuevas preguntas, más específicas, que ayuden a responder a la pregunta general;\n",
    "    2. proponer a alto nivel (no es necesario en este punto código, aunque siempre suma) estrategias para resolverlas;\n",
    "    3. identificar, si fuera necesario, qué información falta para responder dichas preguntas\n",
    "2. **Caracterización y visualización I** (📅 semana del 17 de Mayo). Intentaremos dar respuesta a las preguntas de la iteración anterior a través de métricas estadísticas y visualizaciones. Plantearemos nuevas preguntas y refinaremos las anteriores\n",
    "3. **Caracterización y visualización II** (📅 semana del 24 de Mayo). Continuaremos iterando sobre las preguntas, métricas estadísticas y visualizaciones. **Este hito será opcional y en función del detalle alcanzado en el anterior**.  \n",
    "4. **Entrega final** (📅 semana del 31 de Mayo)"
   ]
  },
  {
   "cell_type": "markdown",
   "metadata": {},
   "source": [
    "## Los datos\n",
    "\n",
    "Cada fila de este datasets representa el envío de una solución a un ejercicio realizada por un@ estudiante y los resultados de la evaluación automática realizada por la plataforma [Mumuki](https://mumuki.io). Encontraremos las siguientes columnas: \n",
    "\n",
    "  * `exercise_name` y `exercise_eid`: nombre e identificador del ejercicio dentro de una guía \n",
    "  * `expectation_results`: resultados del análisis de expectativas y code smells realizado mediante  la herramienta mulang\n",
    "  * `guide_slug`: identificador único de la guía, que permite buscarle como un repositorio Github o dentro del API de contenido de Mumuki (por ejemplo la guía `mumukiproject/mumuki-guia-python-funciones-tipos-de-datos` se corresponde con la URL https://bibliotheca-api.mumuki.io/guides/mumukiproject/mumuki-guia-python-funciones-tipos-de-datos). Junto con el exercise_id constituyen la clave natural primaria del ejercicio. \n",
    "  * `result`: resutlado obtenido al intentar cargar la solución en un intérprete de Python. Sólo está presente en caso de que la solución no se haya podido cargar satisfactoriamiente debido a errores de sintaxis o referencias. Si la solución ha sido cargada correctamente, se deberá inspeccionar el campo `test_results`\n",
    "  * `sid`: identificador único del envío, o -1 si lo que se envío fue una prueba a través del REPL de Mumuki (consola) en lugar de una solución\n",
    "  * `student_uid`: identificador (anonimizado) de estudiante\n",
    "  * `submission_content`: código fuente de la solución enviada\n",
    "  * `submission_created_at`: fecha y hora GMT a la que la solución fue enviada\n",
    "  * `submission_status`: estado del envío: passed (solución correcta), passed_with_warnigns (solución correcta desde el punto de vista de las pruebas unitarias pero con errores de mulang), failed (solución que no pasa las pruebas unitarias), errored (solución que no puede ser cargada por errores de sintaxis o referencias), aborted (solución que puede ser cargada pero no puede ser ejecutada de forma completa)\n",
    "  * `submissions_count`: cantidad de soluciones enviadas hasta el momento para es@ estudiante y ejercicio\n",
    "  * `test_results`: resultados de las pruebas unitarias, en caso de que hayan podido ser ejecutadas"
   ]
  },
  {
   "cell_type": "code",
   "execution_count": 4,
   "metadata": {},
   "outputs": [],
   "source": [
    "import io\n",
    "import matplotlib\n",
    "import matplotlib.pyplot as plt\n",
    "import numpy\n",
    "import pandas as pd\n",
    "import seaborn\n",
    "import datetime as dt\n",
    "\n",
    "seaborn.set_context('talk')"
   ]
  },
  {
   "cell_type": "code",
   "execution_count": 5,
   "metadata": {},
   "outputs": [],
   "source": [
    "url= 'https://raw.githubusercontent.com/Natali-PP/diplodatos2021/main/mentoria/python_submissions.csv'\n",
    "df_mumuki = pd.read_csv(url)"
   ]
  },
  {
   "cell_type": "code",
   "execution_count": 6,
   "metadata": {},
   "outputs": [
    {
     "data": {
      "text/html": [
       "<div>\n",
       "<style scoped>\n",
       "    .dataframe tbody tr th:only-of-type {\n",
       "        vertical-align: middle;\n",
       "    }\n",
       "\n",
       "    .dataframe tbody tr th {\n",
       "        vertical-align: top;\n",
       "    }\n",
       "\n",
       "    .dataframe thead th {\n",
       "        text-align: right;\n",
       "    }\n",
       "</style>\n",
       "<table border=\"1\" class=\"dataframe\">\n",
       "  <thead>\n",
       "    <tr style=\"text-align: right;\">\n",
       "      <th></th>\n",
       "      <th>exercise_eid</th>\n",
       "      <th>exercise_name</th>\n",
       "      <th>expectation_results</th>\n",
       "      <th>feedback</th>\n",
       "      <th>guide_slug</th>\n",
       "      <th>result</th>\n",
       "      <th>sid</th>\n",
       "      <th>student_uid</th>\n",
       "      <th>submission_content</th>\n",
       "      <th>submission_created_at</th>\n",
       "      <th>submission_status</th>\n",
       "      <th>submissions_count</th>\n",
       "      <th>test_results</th>\n",
       "    </tr>\n",
       "  </thead>\n",
       "  <tbody>\n",
       "    <tr>\n",
       "      <th>0</th>\n",
       "      <td>1</td>\n",
       "      <td>Funciones, declaración</td>\n",
       "      <td>[]</td>\n",
       "      <td>NaN</td>\n",
       "      <td>mumukiproject/mumuki-guia-python-funciones-tip...</td>\n",
       "      <td>NaN</td>\n",
       "      <td>0</td>\n",
       "      <td>76</td>\n",
       "      <td>def mitad(numero):\\r\\n  return numero / 2</td>\n",
       "      <td>2019-08-30 13:17:17.700</td>\n",
       "      <td>passed</td>\n",
       "      <td>0</td>\n",
       "      <td>[{'title': 'Mitad de 10 es 5', 'status': 'pass...</td>\n",
       "    </tr>\n",
       "    <tr>\n",
       "      <th>1</th>\n",
       "      <td>1</td>\n",
       "      <td>Funciones, declaración</td>\n",
       "      <td>[]</td>\n",
       "      <td>NaN</td>\n",
       "      <td>mumukiproject/mumuki-guia-python-funciones-tip...</td>\n",
       "      <td>NaN</td>\n",
       "      <td>1</td>\n",
       "      <td>77</td>\n",
       "      <td>def mitad(numero):\\r\\n  return numero / 2</td>\n",
       "      <td>2019-09-04 01:29:22.351</td>\n",
       "      <td>passed</td>\n",
       "      <td>0</td>\n",
       "      <td>[{'title': 'Mitad de 10 es 5', 'status': 'pass...</td>\n",
       "    </tr>\n",
       "    <tr>\n",
       "      <th>2</th>\n",
       "      <td>1</td>\n",
       "      <td>Funciones, declaración</td>\n",
       "      <td>[]</td>\n",
       "      <td>NaN</td>\n",
       "      <td>mumukiproject/mumuki-guia-python-funciones-tip...</td>\n",
       "      <td>NaN</td>\n",
       "      <td>2</td>\n",
       "      <td>78</td>\n",
       "      <td>def Mitas(numero):\\r\\n  return 2 / numero\\r\\n</td>\n",
       "      <td>2019-09-04 02:53:01.099</td>\n",
       "      <td>failed</td>\n",
       "      <td>0</td>\n",
       "      <td>[{'title': 'Mitad de 10 es 5', 'status': 'fail...</td>\n",
       "    </tr>\n",
       "  </tbody>\n",
       "</table>\n",
       "</div>"
      ],
      "text/plain": [
       "   exercise_eid           exercise_name expectation_results  feedback  \\\n",
       "0             1  Funciones, declaración                  []       NaN   \n",
       "1             1  Funciones, declaración                  []       NaN   \n",
       "2             1  Funciones, declaración                  []       NaN   \n",
       "\n",
       "                                          guide_slug result  sid  student_uid  \\\n",
       "0  mumukiproject/mumuki-guia-python-funciones-tip...    NaN    0           76   \n",
       "1  mumukiproject/mumuki-guia-python-funciones-tip...    NaN    1           77   \n",
       "2  mumukiproject/mumuki-guia-python-funciones-tip...    NaN    2           78   \n",
       "\n",
       "                              submission_content    submission_created_at  \\\n",
       "0      def mitad(numero):\\r\\n  return numero / 2  2019-08-30 13:17:17.700   \n",
       "1      def mitad(numero):\\r\\n  return numero / 2  2019-09-04 01:29:22.351   \n",
       "2  def Mitas(numero):\\r\\n  return 2 / numero\\r\\n  2019-09-04 02:53:01.099   \n",
       "\n",
       "  submission_status  submissions_count  \\\n",
       "0            passed                  0   \n",
       "1            passed                  0   \n",
       "2            failed                  0   \n",
       "\n",
       "                                        test_results  \n",
       "0  [{'title': 'Mitad de 10 es 5', 'status': 'pass...  \n",
       "1  [{'title': 'Mitad de 10 es 5', 'status': 'pass...  \n",
       "2  [{'title': 'Mitad de 10 es 5', 'status': 'fail...  "
      ]
     },
     "execution_count": 6,
     "metadata": {},
     "output_type": "execute_result"
    }
   ],
   "source": [
    "df_mumuki[:3]"
   ]
  },
  {
   "cell_type": "markdown",
   "metadata": {},
   "source": [
    "## Caracterización\n",
    "\n",
    "Estas son algunas preguntas que pueden ayudarnos a entrar al lote de datos y caracterizarlo: \n",
    "\n",
    "* ¿Qué tamaño tiene?\n",
    "* ¿Qué valores únicos hay en cada columna?\n",
    "* ¿Durante qué período se enviaron las soluciones? ¿En qué dias de la semana?\n",
    "* ¿Cómo son las soluciones? ¿Cuántas soluciones únicas hay?\n",
    "* ¿Cuántos ejercicios únicos tenemos?"
   ]
  },
  {
   "cell_type": "code",
   "execution_count": 8,
   "metadata": {},
   "outputs": [
    {
     "ename": "SyntaxError",
     "evalue": "invalid syntax (<ipython-input-8-8a20ebaccc75>, line 1)",
     "output_type": "error",
     "traceback": [
      "\u001b[1;36m  File \u001b[1;32m\"<ipython-input-8-8a20ebaccc75>\"\u001b[1;36m, line \u001b[1;32m1\u001b[0m\n\u001b[1;33m    print{f'El tamaño del lote de datos es: {df_mumuki.shape} registros y columnas'}\u001b[0m\n\u001b[1;37m         ^\u001b[0m\n\u001b[1;31mSyntaxError\u001b[0m\u001b[1;31m:\u001b[0m invalid syntax\n"
     ]
    }
   ],
   "source": [
    "print{f'El tamaño del lote de datos es: {df_mumuki.shape} registros y columnas'}"
   ]
  }
 ],
 "metadata": {
  "kernelspec": {
   "display_name": "Python 3",
   "language": "python",
   "name": "python3"
  },
  "language_info": {
   "codemirror_mode": {
    "name": "ipython",
    "version": 3
   },
   "file_extension": ".py",
   "mimetype": "text/x-python",
   "name": "python",
   "nbconvert_exporter": "python",
   "pygments_lexer": "ipython3",
   "version": "3.8.5"
  }
 },
 "nbformat": 4,
 "nbformat_minor": 4
}
