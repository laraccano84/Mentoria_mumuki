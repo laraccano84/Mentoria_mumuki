{
 "cells": [
  {
   "cell_type": "markdown",
   "metadata": {},
   "source": [
    "# Introducción"
   ]
  },
  {
   "cell_type": "markdown",
   "metadata": {},
   "source": [
    "## Objetivo general\n",
    "El proyecto consiste en predecir la deserción de estudiantes en el contexto una plataforma educativa online de código libre argentina que presenta una secuencia didáctica para aprender a programar. Para ello se utilizará un dataset anonimizado de aproximadamente 50.000 filas con progreso de estudiantes consistente en sus interacciones con la plataforma de aproximadamente 150 estudiantes. El mismo contiene tanto datos estructurados como no estructurados: tipos de eventos, fechas, transiciones entre estados, código fuente de soluciones enviadas, resultados de análisis sobre los árboles sintacticos y la ejecución del código fuente, entre otros."
   ]
  },
  {
   "cell_type": "markdown",
   "metadata": {},
   "source": [
    "## Primera entrega: análisis y visualización"
   ]
  },
  {
   "cell_type": "markdown",
   "metadata": {},
   "source": [
    "## Hitos\n",
    "\n",
    "La intención es avanzar de forma iterativa e incremental, en cuatro iteraciones: \n",
    "\n",
    "1. **Familiarización y planteo de preguntas** (📅 semana del 10 de Mayo) Conoceremos el problema, caracterizaremos a muy alto nivel el dataset y  partiendo de la pregunta _¿qué factores inciden en la deserción?_ se deberá:\n",
    "    1. producir nuevas preguntas, más específicas, que ayuden a responder a la pregunta general;\n",
    "    2. proponer a alto nivel (no es necesario en este punto código, aunque siempre suma) estrategias para resolverlas;\n",
    "    3. identificar, si fuera necesario, qué información falta para responder dichas preguntas\n",
    "2. **Caracterización y visualización I** (📅 semana del 17 de Mayo). Intentaremos dar respuesta a las preguntas de la iteración anterior a través de métricas estadísticas y visualizaciones. Plantearemos nuevas preguntas y refinaremos las anteriores\n",
    "3. **Caracterización y visualización II** (📅 semana del 24 de Mayo). Continuaremos iterando sobre las preguntas, métricas estadísticas y visualizaciones. **Este hito será opcional y en función del detalle alcanzado en el anterior**.  \n",
    "4. **Entrega final** (📅 semana del 31 de Mayo)"
   ]
  },
  {
   "cell_type": "markdown",
   "metadata": {},
   "source": [
    "## Los datos\n",
    "\n",
    "Cada fila de este datasets representa el envío de una solución a un ejercicio realizada por un@ estudiante y los resultados de la evaluación automática realizada por la plataforma [Mumuki](https://mumuki.io). Encontraremos las siguientes columnas: \n",
    "\n",
    "  * `exercise_name` y `exercise_eid`: nombre e identificador del ejercicio dentro de una guía \n",
    "  * `expectation_results`: resultados del análisis de expectativas y code smells realizado mediante  la herramienta mulang\n",
    "  * `guide_slug`: identificador único de la guía, que permite buscarle como un repositorio Github o dentro del API de contenido de Mumuki (por ejemplo la guía `mumukiproject/mumuki-guia-python-funciones-tipos-de-datos` se corresponde con la URL https://bibliotheca-api.mumuki.io/guides/mumukiproject/mumuki-guia-python-funciones-tipos-de-datos). Junto con el exercise_id constituyen la clave natural primaria del ejercicio. \n",
    "  * `result`: resutlado obtenido al intentar cargar la solución en un intérprete de Python. Sólo está presente en caso de que la solución no se haya podido cargar satisfactoriamiente debido a errores de sintaxis o referencias. Si la solución ha sido cargada correctamente, se deberá inspeccionar el campo `test_results`\n",
    "  * `sid`: identificador único del envío, o -1 si lo que se envío fue una prueba a través del REPL de Mumuki (consola) en lugar de una solución\n",
    "  * `student_uid`: identificador (anonimizado) de estudiante\n",
    "  * `submission_content`: código fuente de la solución enviada\n",
    "  * `submission_created_at`: fecha y hora GMT a la que la solución fue enviada\n",
    "  * `submission_status`: estado del envío: passed (solución correcta), passed_with_warnigns (solución correcta desde el punto de vista de las pruebas unitarias pero con errores de mulang), failed (solución que no pasa las pruebas unitarias), errored (solución que no puede ser cargada por errores de sintaxis o referencias), aborted (solución que puede ser cargada pero no puede ser ejecutada de forma completa)\n",
    "  * `submissions_count`: cantidad de soluciones enviadas hasta el momento para es@ estudiante y ejercicio\n",
    "  * `test_results`: resultados de las pruebas unitarias, en caso de que hayan podido ser ejecutadas"
   ]
  },
  {
   "cell_type": "code",
   "execution_count": 6,
   "metadata": {},
   "outputs": [],
   "source": [
    "import io\n",
    "import matplotlib\n",
    "import matplotlib.pyplot as plt\n",
    "import numpy\n",
    "import pandas as pd\n",
    "import seaborn\n",
    "import time\n",
    "import datetime as dt\n",
    "from IPython.display import HTML, display\n",
    "import math\n",
    "\n",
    "seaborn.set_context('talk')\n",
    "\n"
   ]
  },
  {
   "cell_type": "code",
   "execution_count": 7,
   "metadata": {},
   "outputs": [],
   "source": [
    "url= 'https://raw.githubusercontent.com/Natali-PP/diplodatos2021/main/mentoria/python_submissions.csv'\n",
    "df_mumuki = pd.read_csv(url)"
   ]
  },
  {
   "cell_type": "code",
   "execution_count": 8,
   "metadata": {},
   "outputs": [
    {
     "data": {
      "text/html": [
       "<div>\n",
       "<style scoped>\n",
       "    .dataframe tbody tr th:only-of-type {\n",
       "        vertical-align: middle;\n",
       "    }\n",
       "\n",
       "    .dataframe tbody tr th {\n",
       "        vertical-align: top;\n",
       "    }\n",
       "\n",
       "    .dataframe thead th {\n",
       "        text-align: right;\n",
       "    }\n",
       "</style>\n",
       "<table border=\"1\" class=\"dataframe\">\n",
       "  <thead>\n",
       "    <tr style=\"text-align: right;\">\n",
       "      <th></th>\n",
       "      <th>exercise_eid</th>\n",
       "      <th>exercise_name</th>\n",
       "      <th>expectation_results</th>\n",
       "      <th>feedback</th>\n",
       "      <th>guide_slug</th>\n",
       "      <th>result</th>\n",
       "      <th>sid</th>\n",
       "      <th>student_uid</th>\n",
       "      <th>submission_content</th>\n",
       "      <th>submission_created_at</th>\n",
       "      <th>submission_status</th>\n",
       "      <th>submissions_count</th>\n",
       "      <th>test_results</th>\n",
       "    </tr>\n",
       "  </thead>\n",
       "  <tbody>\n",
       "    <tr>\n",
       "      <th>0</th>\n",
       "      <td>1</td>\n",
       "      <td>Funciones, declaración</td>\n",
       "      <td>[]</td>\n",
       "      <td>NaN</td>\n",
       "      <td>mumukiproject/mumuki-guia-python-funciones-tip...</td>\n",
       "      <td>NaN</td>\n",
       "      <td>0</td>\n",
       "      <td>76</td>\n",
       "      <td>def mitad(numero):\\r\\n  return numero / 2</td>\n",
       "      <td>2019-08-30 13:17:17.700</td>\n",
       "      <td>passed</td>\n",
       "      <td>0</td>\n",
       "      <td>[{'title': 'Mitad de 10 es 5', 'status': 'pass...</td>\n",
       "    </tr>\n",
       "    <tr>\n",
       "      <th>1</th>\n",
       "      <td>1</td>\n",
       "      <td>Funciones, declaración</td>\n",
       "      <td>[]</td>\n",
       "      <td>NaN</td>\n",
       "      <td>mumukiproject/mumuki-guia-python-funciones-tip...</td>\n",
       "      <td>NaN</td>\n",
       "      <td>1</td>\n",
       "      <td>77</td>\n",
       "      <td>def mitad(numero):\\r\\n  return numero / 2</td>\n",
       "      <td>2019-09-04 01:29:22.351</td>\n",
       "      <td>passed</td>\n",
       "      <td>0</td>\n",
       "      <td>[{'title': 'Mitad de 10 es 5', 'status': 'pass...</td>\n",
       "    </tr>\n",
       "    <tr>\n",
       "      <th>2</th>\n",
       "      <td>1</td>\n",
       "      <td>Funciones, declaración</td>\n",
       "      <td>[]</td>\n",
       "      <td>NaN</td>\n",
       "      <td>mumukiproject/mumuki-guia-python-funciones-tip...</td>\n",
       "      <td>NaN</td>\n",
       "      <td>2</td>\n",
       "      <td>78</td>\n",
       "      <td>def Mitas(numero):\\r\\n  return 2 / numero\\r\\n</td>\n",
       "      <td>2019-09-04 02:53:01.099</td>\n",
       "      <td>failed</td>\n",
       "      <td>0</td>\n",
       "      <td>[{'title': 'Mitad de 10 es 5', 'status': 'fail...</td>\n",
       "    </tr>\n",
       "  </tbody>\n",
       "</table>\n",
       "</div>"
      ],
      "text/plain": [
       "   exercise_eid           exercise_name expectation_results  feedback  \\\n",
       "0             1  Funciones, declaración                  []       NaN   \n",
       "1             1  Funciones, declaración                  []       NaN   \n",
       "2             1  Funciones, declaración                  []       NaN   \n",
       "\n",
       "                                          guide_slug result  sid  student_uid  \\\n",
       "0  mumukiproject/mumuki-guia-python-funciones-tip...    NaN    0           76   \n",
       "1  mumukiproject/mumuki-guia-python-funciones-tip...    NaN    1           77   \n",
       "2  mumukiproject/mumuki-guia-python-funciones-tip...    NaN    2           78   \n",
       "\n",
       "                              submission_content    submission_created_at  \\\n",
       "0      def mitad(numero):\\r\\n  return numero / 2  2019-08-30 13:17:17.700   \n",
       "1      def mitad(numero):\\r\\n  return numero / 2  2019-09-04 01:29:22.351   \n",
       "2  def Mitas(numero):\\r\\n  return 2 / numero\\r\\n  2019-09-04 02:53:01.099   \n",
       "\n",
       "  submission_status  submissions_count  \\\n",
       "0            passed                  0   \n",
       "1            passed                  0   \n",
       "2            failed                  0   \n",
       "\n",
       "                                        test_results  \n",
       "0  [{'title': 'Mitad de 10 es 5', 'status': 'pass...  \n",
       "1  [{'title': 'Mitad de 10 es 5', 'status': 'pass...  \n",
       "2  [{'title': 'Mitad de 10 es 5', 'status': 'fail...  "
      ]
     },
     "execution_count": 8,
     "metadata": {},
     "output_type": "execute_result"
    }
   ],
   "source": [
    "df_mumuki[:3]"
   ]
  },
  {
   "cell_type": "markdown",
   "metadata": {},
   "source": [
    "*Identificamos los tipos de datos*"
   ]
  },
  {
   "cell_type": "code",
   "execution_count": 64,
   "metadata": {},
   "outputs": [
    {
     "data": {
      "text/plain": [
       "exercise_eid               int64\n",
       "exercise_name             object\n",
       "expectation_results       object\n",
       "feedback                 float64\n",
       "guide_slug                object\n",
       "result                    object\n",
       "sid                        int64\n",
       "student_uid                int64\n",
       "submission_content        object\n",
       "submission_created_at     object\n",
       "submission_status         object\n",
       "submissions_count          int64\n",
       "test_results              object\n",
       "date                      object\n",
       "Year                       int64\n",
       "Month                      int64\n",
       "DayNameWeek               object\n",
       "dtype: object"
      ]
     },
     "execution_count": 64,
     "metadata": {},
     "output_type": "execute_result"
    }
   ],
   "source": [
    "df_mumuki.dtypes"
   ]
  },
  {
   "cell_type": "markdown",
   "metadata": {},
   "source": [
    "*Analisis de los datos por columna*"
   ]
  },
  {
   "cell_type": "code",
   "execution_count": 65,
   "metadata": {},
   "outputs": [
    {
     "data": {
      "text/html": [
       "<div>\n",
       "<style scoped>\n",
       "    .dataframe tbody tr th:only-of-type {\n",
       "        vertical-align: middle;\n",
       "    }\n",
       "\n",
       "    .dataframe tbody tr th {\n",
       "        vertical-align: top;\n",
       "    }\n",
       "\n",
       "    .dataframe thead th {\n",
       "        text-align: right;\n",
       "    }\n",
       "</style>\n",
       "<table border=\"1\" class=\"dataframe\">\n",
       "  <thead>\n",
       "    <tr style=\"text-align: right;\">\n",
       "      <th></th>\n",
       "      <th>exercise_eid</th>\n",
       "      <th>exercise_name</th>\n",
       "      <th>expectation_results</th>\n",
       "      <th>feedback</th>\n",
       "      <th>guide_slug</th>\n",
       "      <th>result</th>\n",
       "      <th>sid</th>\n",
       "      <th>student_uid</th>\n",
       "      <th>submission_content</th>\n",
       "      <th>submission_created_at</th>\n",
       "      <th>submission_status</th>\n",
       "      <th>submissions_count</th>\n",
       "      <th>test_results</th>\n",
       "      <th>date</th>\n",
       "      <th>Year</th>\n",
       "      <th>Month</th>\n",
       "      <th>DayNameWeek</th>\n",
       "    </tr>\n",
       "  </thead>\n",
       "  <tbody>\n",
       "    <tr>\n",
       "      <th>count</th>\n",
       "      <td>47183.000000</td>\n",
       "      <td>47183</td>\n",
       "      <td>47183</td>\n",
       "      <td>0.0</td>\n",
       "      <td>47183</td>\n",
       "      <td>15602</td>\n",
       "      <td>47183.000000</td>\n",
       "      <td>47183.000000</td>\n",
       "      <td>41459</td>\n",
       "      <td>47183</td>\n",
       "      <td>47183</td>\n",
       "      <td>47183.000000</td>\n",
       "      <td>41663</td>\n",
       "      <td>47183</td>\n",
       "      <td>47183.000000</td>\n",
       "      <td>47183.000000</td>\n",
       "      <td>47183</td>\n",
       "    </tr>\n",
       "    <tr>\n",
       "      <th>unique</th>\n",
       "      <td>NaN</td>\n",
       "      <td>46</td>\n",
       "      <td>337</td>\n",
       "      <td>NaN</td>\n",
       "      <td>3</td>\n",
       "      <td>9181</td>\n",
       "      <td>NaN</td>\n",
       "      <td>NaN</td>\n",
       "      <td>32937</td>\n",
       "      <td>47175</td>\n",
       "      <td>6</td>\n",
       "      <td>NaN</td>\n",
       "      <td>2780</td>\n",
       "      <td>198</td>\n",
       "      <td>NaN</td>\n",
       "      <td>NaN</td>\n",
       "      <td>7</td>\n",
       "    </tr>\n",
       "    <tr>\n",
       "      <th>top</th>\n",
       "      <td>NaN</td>\n",
       "      <td>Palabras, sólo palabras</td>\n",
       "      <td>[]</td>\n",
       "      <td>NaN</td>\n",
       "      <td>mumukiproject/mumuki-guia-python-funciones-tip...</td>\n",
       "      <td>File \"solucion.py\", line 11\\n    else:\\n    ...</td>\n",
       "      <td>NaN</td>\n",
       "      <td>NaN</td>\n",
       "      <td>0:3:4</td>\n",
       "      <td>2020-07-15 01:48:08.650</td>\n",
       "      <td>failed</td>\n",
       "      <td>NaN</td>\n",
       "      <td>[]</td>\n",
       "      <td>2020-05-26</td>\n",
       "      <td>NaN</td>\n",
       "      <td>NaN</td>\n",
       "      <td>Monday</td>\n",
       "    </tr>\n",
       "    <tr>\n",
       "      <th>freq</th>\n",
       "      <td>NaN</td>\n",
       "      <td>2610</td>\n",
       "      <td>30332</td>\n",
       "      <td>NaN</td>\n",
       "      <td>23961</td>\n",
       "      <td>78</td>\n",
       "      <td>NaN</td>\n",
       "      <td>NaN</td>\n",
       "      <td>252</td>\n",
       "      <td>2</td>\n",
       "      <td>17609</td>\n",
       "      <td>NaN</td>\n",
       "      <td>15605</td>\n",
       "      <td>2383</td>\n",
       "      <td>NaN</td>\n",
       "      <td>NaN</td>\n",
       "      <td>11194</td>\n",
       "    </tr>\n",
       "    <tr>\n",
       "      <th>mean</th>\n",
       "      <td>8.589450</td>\n",
       "      <td>NaN</td>\n",
       "      <td>NaN</td>\n",
       "      <td>NaN</td>\n",
       "      <td>NaN</td>\n",
       "      <td>NaN</td>\n",
       "      <td>18412.829155</td>\n",
       "      <td>221.765000</td>\n",
       "      <td>NaN</td>\n",
       "      <td>NaN</td>\n",
       "      <td>NaN</td>\n",
       "      <td>6.763538</td>\n",
       "      <td>NaN</td>\n",
       "      <td>NaN</td>\n",
       "      <td>2019.838628</td>\n",
       "      <td>7.544264</td>\n",
       "      <td>NaN</td>\n",
       "    </tr>\n",
       "    <tr>\n",
       "      <th>std</th>\n",
       "      <td>4.897098</td>\n",
       "      <td>NaN</td>\n",
       "      <td>NaN</td>\n",
       "      <td>NaN</td>\n",
       "      <td>NaN</td>\n",
       "      <td>NaN</td>\n",
       "      <td>13146.120096</td>\n",
       "      <td>74.852459</td>\n",
       "      <td>NaN</td>\n",
       "      <td>NaN</td>\n",
       "      <td>NaN</td>\n",
       "      <td>11.002089</td>\n",
       "      <td>NaN</td>\n",
       "      <td>NaN</td>\n",
       "      <td>0.367877</td>\n",
       "      <td>2.050212</td>\n",
       "      <td>NaN</td>\n",
       "    </tr>\n",
       "    <tr>\n",
       "      <th>min</th>\n",
       "      <td>1.000000</td>\n",
       "      <td>NaN</td>\n",
       "      <td>NaN</td>\n",
       "      <td>NaN</td>\n",
       "      <td>NaN</td>\n",
       "      <td>NaN</td>\n",
       "      <td>-1.000000</td>\n",
       "      <td>-1.000000</td>\n",
       "      <td>NaN</td>\n",
       "      <td>NaN</td>\n",
       "      <td>NaN</td>\n",
       "      <td>0.000000</td>\n",
       "      <td>NaN</td>\n",
       "      <td>NaN</td>\n",
       "      <td>2019.000000</td>\n",
       "      <td>5.000000</td>\n",
       "      <td>NaN</td>\n",
       "    </tr>\n",
       "    <tr>\n",
       "      <th>25%</th>\n",
       "      <td>4.000000</td>\n",
       "      <td>NaN</td>\n",
       "      <td>NaN</td>\n",
       "      <td>NaN</td>\n",
       "      <td>NaN</td>\n",
       "      <td>NaN</td>\n",
       "      <td>6287.500000</td>\n",
       "      <td>161.000000</td>\n",
       "      <td>NaN</td>\n",
       "      <td>NaN</td>\n",
       "      <td>NaN</td>\n",
       "      <td>0.000000</td>\n",
       "      <td>NaN</td>\n",
       "      <td>NaN</td>\n",
       "      <td>2020.000000</td>\n",
       "      <td>5.000000</td>\n",
       "      <td>NaN</td>\n",
       "    </tr>\n",
       "    <tr>\n",
       "      <th>50%</th>\n",
       "      <td>8.000000</td>\n",
       "      <td>NaN</td>\n",
       "      <td>NaN</td>\n",
       "      <td>NaN</td>\n",
       "      <td>NaN</td>\n",
       "      <td>NaN</td>\n",
       "      <td>18092.000000</td>\n",
       "      <td>223.000000</td>\n",
       "      <td>NaN</td>\n",
       "      <td>NaN</td>\n",
       "      <td>NaN</td>\n",
       "      <td>3.000000</td>\n",
       "      <td>NaN</td>\n",
       "      <td>NaN</td>\n",
       "      <td>2020.000000</td>\n",
       "      <td>9.000000</td>\n",
       "      <td>NaN</td>\n",
       "    </tr>\n",
       "    <tr>\n",
       "      <th>75%</th>\n",
       "      <td>13.000000</td>\n",
       "      <td>NaN</td>\n",
       "      <td>NaN</td>\n",
       "      <td>NaN</td>\n",
       "      <td>NaN</td>\n",
       "      <td>NaN</td>\n",
       "      <td>29895.500000</td>\n",
       "      <td>284.000000</td>\n",
       "      <td>NaN</td>\n",
       "      <td>NaN</td>\n",
       "      <td>NaN</td>\n",
       "      <td>8.000000</td>\n",
       "      <td>NaN</td>\n",
       "      <td>NaN</td>\n",
       "      <td>2020.000000</td>\n",
       "      <td>9.000000</td>\n",
       "      <td>NaN</td>\n",
       "    </tr>\n",
       "    <tr>\n",
       "      <th>max</th>\n",
       "      <td>19.000000</td>\n",
       "      <td>NaN</td>\n",
       "      <td>NaN</td>\n",
       "      <td>NaN</td>\n",
       "      <td>NaN</td>\n",
       "      <td>NaN</td>\n",
       "      <td>41700.000000</td>\n",
       "      <td>363.000000</td>\n",
       "      <td>NaN</td>\n",
       "      <td>NaN</td>\n",
       "      <td>NaN</td>\n",
       "      <td>144.000000</td>\n",
       "      <td>NaN</td>\n",
       "      <td>NaN</td>\n",
       "      <td>2020.000000</td>\n",
       "      <td>12.000000</td>\n",
       "      <td>NaN</td>\n",
       "    </tr>\n",
       "  </tbody>\n",
       "</table>\n",
       "</div>"
      ],
      "text/plain": [
       "        exercise_eid            exercise_name expectation_results  feedback  \\\n",
       "count   47183.000000                    47183               47183       0.0   \n",
       "unique           NaN                       46                 337       NaN   \n",
       "top              NaN  Palabras, sólo palabras                  []       NaN   \n",
       "freq             NaN                     2610               30332       NaN   \n",
       "mean        8.589450                      NaN                 NaN       NaN   \n",
       "std         4.897098                      NaN                 NaN       NaN   \n",
       "min         1.000000                      NaN                 NaN       NaN   \n",
       "25%         4.000000                      NaN                 NaN       NaN   \n",
       "50%         8.000000                      NaN                 NaN       NaN   \n",
       "75%        13.000000                      NaN                 NaN       NaN   \n",
       "max        19.000000                      NaN                 NaN       NaN   \n",
       "\n",
       "                                               guide_slug  \\\n",
       "count                                               47183   \n",
       "unique                                                  3   \n",
       "top     mumukiproject/mumuki-guia-python-funciones-tip...   \n",
       "freq                                                23961   \n",
       "mean                                                  NaN   \n",
       "std                                                   NaN   \n",
       "min                                                   NaN   \n",
       "25%                                                   NaN   \n",
       "50%                                                   NaN   \n",
       "75%                                                   NaN   \n",
       "max                                                   NaN   \n",
       "\n",
       "                                                   result           sid  \\\n",
       "count                                               15602  47183.000000   \n",
       "unique                                               9181           NaN   \n",
       "top       File \"solucion.py\", line 11\\n    else:\\n    ...           NaN   \n",
       "freq                                                   78           NaN   \n",
       "mean                                                  NaN  18412.829155   \n",
       "std                                                   NaN  13146.120096   \n",
       "min                                                   NaN     -1.000000   \n",
       "25%                                                   NaN   6287.500000   \n",
       "50%                                                   NaN  18092.000000   \n",
       "75%                                                   NaN  29895.500000   \n",
       "max                                                   NaN  41700.000000   \n",
       "\n",
       "         student_uid submission_content    submission_created_at  \\\n",
       "count   47183.000000              41459                    47183   \n",
       "unique           NaN              32937                    47175   \n",
       "top              NaN              0:3:4  2020-07-15 01:48:08.650   \n",
       "freq             NaN                252                        2   \n",
       "mean      221.765000                NaN                      NaN   \n",
       "std        74.852459                NaN                      NaN   \n",
       "min        -1.000000                NaN                      NaN   \n",
       "25%       161.000000                NaN                      NaN   \n",
       "50%       223.000000                NaN                      NaN   \n",
       "75%       284.000000                NaN                      NaN   \n",
       "max       363.000000                NaN                      NaN   \n",
       "\n",
       "       submission_status  submissions_count test_results        date  \\\n",
       "count              47183       47183.000000        41663       47183   \n",
       "unique                 6                NaN         2780         198   \n",
       "top               failed                NaN           []  2020-05-26   \n",
       "freq               17609                NaN        15605        2383   \n",
       "mean                 NaN           6.763538          NaN         NaN   \n",
       "std                  NaN          11.002089          NaN         NaN   \n",
       "min                  NaN           0.000000          NaN         NaN   \n",
       "25%                  NaN           0.000000          NaN         NaN   \n",
       "50%                  NaN           3.000000          NaN         NaN   \n",
       "75%                  NaN           8.000000          NaN         NaN   \n",
       "max                  NaN         144.000000          NaN         NaN   \n",
       "\n",
       "                Year         Month DayNameWeek  \n",
       "count   47183.000000  47183.000000       47183  \n",
       "unique           NaN           NaN           7  \n",
       "top              NaN           NaN      Monday  \n",
       "freq             NaN           NaN       11194  \n",
       "mean     2019.838628      7.544264         NaN  \n",
       "std         0.367877      2.050212         NaN  \n",
       "min      2019.000000      5.000000         NaN  \n",
       "25%      2020.000000      5.000000         NaN  \n",
       "50%      2020.000000      9.000000         NaN  \n",
       "75%      2020.000000      9.000000         NaN  \n",
       "max      2020.000000     12.000000         NaN  "
      ]
     },
     "execution_count": 65,
     "metadata": {},
     "output_type": "execute_result"
    }
   ],
   "source": [
    "df_mumuki.describe(include='all')"
   ]
  },
  {
   "cell_type": "markdown",
   "metadata": {},
   "source": [
    "*Vemos si existen correlaciones entre variables. De existir variables correlacionadas, podemos descartarlas*"
   ]
  },
  {
   "cell_type": "code",
   "execution_count": 71,
   "metadata": {},
   "outputs": [
    {
     "data": {
      "image/png": "[encoded data removed]",
      "text/plain": [
       "<Figure size 576x576 with 2 Axes>"
      ]
     },
     "metadata": {
      "needs_background": "light"
     },
     "output_type": "display_data"
    }
   ],
   "source": [
    "correlations = df_mumuki.corr().round(2)\n",
    "\n",
    "#Using Pearson Correlation\n",
    "plt.figure(figsize=(8,8))\n",
    "\n",
    "seaborn.heatmap(correlations, annot=True, cmap=plt.cm.Reds)\n",
    "plt.show()"
   ]
  },
  {
   "cell_type": "markdown",
   "metadata": {},
   "source": [
    "## Caracterización\n",
    "\n",
    "Estas son algunas preguntas que pueden ayudarnos a entrar al lote de datos y caracterizarlo: \n",
    "\n",
    "* ¿Qué tamaño tiene?\n",
    "* ¿Qué valores únicos hay en cada columna?\n",
    "* ¿Durante qué período se enviaron las soluciones? ¿En qué dias de la semana?\n",
    "* ¿Cómo son las soluciones? ¿Cuántas soluciones únicas hay?\n",
    "* ¿Cuántos ejercicios únicos tenemos?"
   ]
  },
  {
   "cell_type": "code",
   "execution_count": 12,
   "metadata": {},
   "outputs": [
    {
     "name": "stdout",
     "output_type": "stream",
     "text": [
      "El tamaño del lote de datos es: (47183, 13) (registros y columnas)\n"
     ]
    }
   ],
   "source": [
    "print(f\"El tamaño del lote de datos es: {df_mumuki.shape} (registros y columnas)\")"
   ]
  },
  {
   "cell_type": "code",
   "execution_count": 5,
   "metadata": {},
   "outputs": [
    {
     "data": {
      "text/plain": [
       "(47183, 13)"
      ]
     },
     "execution_count": 5,
     "metadata": {},
     "output_type": "execute_result"
    }
   ],
   "source": [
    "len(df_mumuki['exercise_eid'].value_counts())"
   ]
  },
  {
   "cell_type": "code",
   "execution_count": 31,
   "metadata": {},
   "outputs": [
    {
     "name": "stdout",
     "output_type": "stream",
     "text": [
      "Hay 19 valores unicos en `exercise_eid`\n",
      "Hay 46 valores unicos en `exercise_name`\n"
     ]
    }
   ],
   "source": [
    "print(f\"Hay {len(df_mumuki['exercise_eid'].value_counts())} valores unicos en exercise_eid\")\n",
    "print(f\"Hay {len(df_mumuki['exercise_name'].value_counts())} valores unicos en exercise_name\")"
   ]
  },
  {
   "cell_type": "code",
   "execution_count": 20,
   "metadata": {},
   "outputs": [
    {
     "data": {
      "text/plain": [
       "array(['Funciones, declaración', 'Funciones, uso', 'Los premios',\n",
       "       '¿Es par?', 'Libros de la buena memoria', 'Tipos de datos',\n",
       "       'Booleanos', 'Más booleanos', 'El retorno del booleano',\n",
       "       'Haciendo cuentas', 'Calefones', '¿Y qué tal si...?',\n",
       "       '¿De qué signo sos?', 'Palabras, sólo palabras',\n",
       "       'Operando strings', '¡GRITAR!', 'Probando funciones',\n",
       "       'Poniendo topes', 'No tan distintos', 'Datos de todo tipo',\n",
       "       'Comprando Hardware', '¿Me conviene?', 'Triangulos', 'Cuadrados',\n",
       "       '¿Está afinado?', 'Cartelitos', 'Más Cartelitos',\n",
       "       'Cartelitos óptimos', 'Cara o ceca', '¡Envido!',\n",
       "       '¡Quiero retruco!', '¡Quiero vale cuatro!', '¿Está cerca?',\n",
       "       '¿Y el program?', 'El círculo de la vida', 'Volviéndonos ricos',\n",
       "       'Variables globales', '¿Y los procedimientos?', '¿Y el tablero?',\n",
       "       'Impresión por pantalla', 'Martin Fierro', 'Conversiones',\n",
       "       '¿Y esto cuánto vale?', 'PIenso que así es más fácil',\n",
       "       'Pienso que así es más fácil', 'Esto no tiene valor'], dtype=object)"
      ]
     },
     "execution_count": 20,
     "metadata": {},
     "output_type": "execute_result"
    }
   ],
   "source": [
    "df_mumuki['exercise_name'].unique()"
   ]
  },
  {
   "cell_type": "code",
   "execution_count": 22,
   "metadata": {},
   "outputs": [
    {
     "name": "stdout",
     "output_type": "stream",
     "text": [
      "Hay 337 valores unicos en expectation_results\n",
      "Hay 0 valores unicos en feedback\n",
      "Hay 3 valores unicos en guide_slug\n"
     ]
    }
   ],
   "source": [
    "print(f\"Hay {len(df_mumuki['expectation_results'].value_counts())} valores unicos en expectation_results\")\n",
    "print(f\"Hay {len(df_mumuki['feedback'].value_counts())} valores unicos en feedback\")\n",
    "print(f\"Hay {len(df_mumuki['guide_slug'].value_counts())} valores unicos en guide_slug\")"
   ]
  },
  {
   "cell_type": "code",
   "execution_count": 23,
   "metadata": {},
   "outputs": [
    {
     "data": {
      "text/plain": [
       "array(['mumukiproject/mumuki-guia-python-funciones-tipos-de-datos',\n",
       "       'mumukiproject/mumuki-guia-python-practica-funciones-y-tipos-de-datos',\n",
       "       'mumukiproject/mumuki-guia-python-variables-y-procedimientos'],\n",
       "      dtype=object)"
      ]
     },
     "execution_count": 23,
     "metadata": {},
     "output_type": "execute_result"
    }
   ],
   "source": [
    "df_mumuki['guide_slug'].unique()"
   ]
  },
  {
   "cell_type": "code",
   "execution_count": 25,
   "metadata": {},
   "outputs": [
    {
     "name": "stdout",
     "output_type": "stream",
     "text": [
      "Hay 9181 valores unicos en result\n",
      "Hay 41676 valores unicos en sid\n",
      "Hay 286 valores unicos en student_uid\n",
      "Hay 32937 valores unicos en submission_content\n",
      "Hay 47175 valores unicos en submission_created_at\n",
      "Hay 6 valores unicos en submission_status\n",
      "Hay 145 valores unicos en submissions_count\n",
      "Hay 2780 valores unicos en test_results\n"
     ]
    }
   ],
   "source": [
    "print(f\"Hay {len(df_mumuki['result'].value_counts())} valores unicos en result\")\n",
    "print(f\"Hay {len(df_mumuki['sid'].value_counts())} valores unicos en sid\")\n",
    "print(f\"Hay {len(df_mumuki['student_uid'].value_counts())} valores unicos en student_uid\")\n",
    "print(f\"Hay {len(df_mumuki['submission_content'].value_counts())} valores unicos en submission_content\")\n",
    "print(f\"Hay {len(df_mumuki['submission_created_at'].value_counts())} valores unicos en submission_created_at\")\n",
    "print(f\"Hay {len(df_mumuki['submission_status'].value_counts())} valores unicos en submission_status\")"
   ]
  },
  {
   "cell_type": "code",
   "execution_count": 26,
   "metadata": {},
   "outputs": [
    {
     "data": {
      "text/plain": [
       "array(['passed', 'failed', 'errored', 'passed_with_warnings', 'pending',\n",
       "       'aborted'], dtype=object)"
      ]
     },
     "execution_count": 26,
     "metadata": {},
     "output_type": "execute_result"
    }
   ],
   "source": [
    "df_mumuki['submission_status'].unique()"
   ]
  },
  {
   "cell_type": "code",
   "execution_count": 15,
   "metadata": {},
   "outputs": [],
   "source": [
    "print(f\"Hay {len(df_mumuki['submissions_count'].value_counts())} valores unicos en submissions_count\")\n",
    "print(f\"Hay {len(df_mumuki['test_results'].value_counts())} valores unicos en test_results\")"
   ]
  },
  {
   "cell_type": "code",
   "execution_count": 28,
   "metadata": {},
   "outputs": [
    {
     "name": "stdout",
     "output_type": "stream",
     "text": [
      "El período que se enviaron las soluciones es desde: 2019-08-30 13:17:17.700  hasta: 2020-11-23 21:52:17.944\n"
     ]
    }
   ],
   "source": [
    "print(f\"El período que se enviaron las soluciones es desde: {df_mumuki['submission_created_at'].min()}  hasta: {df_mumuki['submission_created_at'].max()}\")"
   ]
  },
  {
   "cell_type": "code",
   "execution_count": 29,
   "metadata": {},
   "outputs": [],
   "source": [
    "df_mumuki['Date']= pd.to_datetime(df_mumuki['submission_created_at']).dt.date"
   ]
  },
  {
   "cell_type": "code",
   "execution_count": 30,
   "metadata": {},
   "outputs": [
    {
     "data": {
      "text/plain": [
       "<AxesSubplot:xlabel='date', ylabel='Count'>"
      ]
     },
     "execution_count": 30,
     "metadata": {},
     "output_type": "execute_result"
    },
    {
     "data": {
      "image/png": "[encoded data removed]",
      "text/plain": [
       "<Figure size 1440x360 with 1 Axes>"
      ]
     },
     "metadata": {},
     "output_type": "display_data"
    }
   ],
   "source": [
    "matplotlib.pyplot.figure(figsize = [20, 5] , dpi = None , facecolor = \"wheat\" , edgecolor = None , frameon = True  , clear = False )\n",
    "seaborn.histplot(data=df_mumuki, x=df_mumuki['Date'])"
   ]
  },
  {
   "cell_type": "markdown",
   "metadata": {},
   "source": [
    "Podemos observar que los ejercicios los ejercicios realizados por los estudiantes se da en 3 periodos principales:\n",
    "* 2019-10 al 2019-12\n",
    "* 2020-05 al 2020-07\n",
    "* 2020-09 al 2020-11\n",
    "\n",
    "Hay un periodo de principio de enero 2020 a abril 2020 sin información."
   ]
  },
  {
   "cell_type": "code",
   "execution_count": 32,
   "metadata": {},
   "outputs": [],
   "source": [
    "df_mumuki['Year'] = pd.DatetimeIndex(df_mumuki['submission_created_at']).year\n",
    "df_mumuki['Month'] = pd.DatetimeIndex(df_mumuki['submission_created_at']).month"
   ]
  },
  {
   "cell_type": "code",
   "execution_count": 35,
   "metadata": {},
   "outputs": [
    {
     "data": {
      "text/html": [
       "<div>\n",
       "<style scoped>\n",
       "    .dataframe tbody tr th:only-of-type {\n",
       "        vertical-align: middle;\n",
       "    }\n",
       "\n",
       "    .dataframe tbody tr th {\n",
       "        vertical-align: top;\n",
       "    }\n",
       "\n",
       "    .dataframe thead th {\n",
       "        text-align: right;\n",
       "    }\n",
       "</style>\n",
       "<table border=\"1\" class=\"dataframe\">\n",
       "  <thead>\n",
       "    <tr style=\"text-align: right;\">\n",
       "      <th></th>\n",
       "      <th></th>\n",
       "      <th>exercise_eid</th>\n",
       "    </tr>\n",
       "    <tr>\n",
       "      <th>Year</th>\n",
       "      <th>Month</th>\n",
       "      <th></th>\n",
       "    </tr>\n",
       "  </thead>\n",
       "  <tbody>\n",
       "    <tr>\n",
       "      <th rowspan=\"5\" valign=\"top\">2019</th>\n",
       "      <th>8</th>\n",
       "      <td>2</td>\n",
       "    </tr>\n",
       "    <tr>\n",
       "      <th>9</th>\n",
       "      <td>4746</td>\n",
       "    </tr>\n",
       "    <tr>\n",
       "      <th>10</th>\n",
       "      <td>2263</td>\n",
       "    </tr>\n",
       "    <tr>\n",
       "      <th>11</th>\n",
       "      <td>580</td>\n",
       "    </tr>\n",
       "    <tr>\n",
       "      <th>12</th>\n",
       "      <td>23</td>\n",
       "    </tr>\n",
       "    <tr>\n",
       "      <th rowspan=\"7\" valign=\"top\">2020</th>\n",
       "      <th>5</th>\n",
       "      <td>15732</td>\n",
       "    </tr>\n",
       "    <tr>\n",
       "      <th>6</th>\n",
       "      <td>3507</td>\n",
       "    </tr>\n",
       "    <tr>\n",
       "      <th>7</th>\n",
       "      <td>1126</td>\n",
       "    </tr>\n",
       "    <tr>\n",
       "      <th>8</th>\n",
       "      <td>494</td>\n",
       "    </tr>\n",
       "    <tr>\n",
       "      <th>9</th>\n",
       "      <td>15305</td>\n",
       "    </tr>\n",
       "    <tr>\n",
       "      <th>10</th>\n",
       "      <td>2791</td>\n",
       "    </tr>\n",
       "    <tr>\n",
       "      <th>11</th>\n",
       "      <td>614</td>\n",
       "    </tr>\n",
       "  </tbody>\n",
       "</table>\n",
       "</div>"
      ],
      "text/plain": [
       "            exercise_eid\n",
       "Year Month              \n",
       "2019 8                 2\n",
       "     9              4746\n",
       "     10             2263\n",
       "     11              580\n",
       "     12               23\n",
       "2020 5             15732\n",
       "     6              3507\n",
       "     7              1126\n",
       "     8               494\n",
       "     9             15305\n",
       "     10             2791\n",
       "     11              614"
      ]
     },
     "execution_count": 35,
     "metadata": {},
     "output_type": "execute_result"
    }
   ],
   "source": [
    "df_mumuki.groupby(['Year','Month']).agg({'exercise_eid':'count'})"
   ]
  },
  {
   "cell_type": "code",
   "execution_count": 37,
   "metadata": {},
   "outputs": [],
   "source": [
    "df_mumuki['DayNameWeek'] =pd.to_datetime(df_mumuki['submission_created_at']).dt.day_name()"
   ]
  },
  {
   "cell_type": "code",
   "execution_count": 45,
   "metadata": {
    "scrolled": true
   },
   "outputs": [
    {
     "data": {
      "text/plain": [
       "<AxesSubplot:xlabel='DayNameWeek', ylabel='Count'>"
      ]
     },
     "execution_count": 45,
     "metadata": {},
     "output_type": "execute_result"
    },
    {
     "data": {
      "image/png": "[encoded data removed]",
      "text/plain": [
       "<Figure size 1440x432 with 1 Axes>"
      ]
     },
     "metadata": {},
     "output_type": "display_data"
    }
   ],
   "source": [
    "matplotlib.pyplot.figure(figsize = [20, 6] , dpi = None , facecolor = \"wheat\" , edgecolor = None , frameon = True  , clear = False )\n",
    "seaborn.histplot(data=df_mumuki, x=df_mumuki['DayNameWeek'])"
   ]
  },
  {
   "cell_type": "markdown",
   "metadata": {},
   "source": [
    "*El día de la semana que más ejercicios presenta es el Lunes y Martes. El Sabado es el día de la semana que menos ejercicios presentan.*"
   ]
  },
  {
   "cell_type": "code",
   "execution_count": null,
   "metadata": {},
   "outputs": [],
   "source": [
    "#¿Cómo son las soluciones? ¿Cuántas soluciones únicas hay?"
   ]
  },
  {
   "cell_type": "code",
   "execution_count": null,
   "metadata": {},
   "outputs": [],
   "source": []
  },
  {
   "cell_type": "code",
   "execution_count": 46,
   "metadata": {},
   "outputs": [
    {
     "name": "stdout",
     "output_type": "stream",
     "text": [
      "Hay 46 valores unicos en exercise_name\n"
     ]
    }
   ],
   "source": [
    "print(f\"Hay {len(df_mumuki['exercise_name'].value_counts())} valores unicos en exercise_name\")"
   ]
  },
  {
   "cell_type": "code",
   "execution_count": 73,
   "metadata": {},
   "outputs": [],
   "source": [
    "#matplotlib.pyplot.figure(figsize = [15, 10] , dpi = None , facecolor = \"wheat\" , edgecolor = None , frameon = True  , clear = False )\n",
    "#ax= seaborn.barplot(y=df_mumuki['exercise_name'].value_counts(), x=df_mumuki['exercise_name'].value_counts().index, data=df_mumuki)\n",
    "#ax.set_xticklabels(ax.get_xticklabels(), rotation=90);"
   ]
  },
  {
   "cell_type": "markdown",
   "metadata": {},
   "source": [
    "*Identificamos las columnas que tienen faltantes de datos y las mangintudes de los faltantes*"
   ]
  },
  {
   "cell_type": "code",
   "execution_count": 72,
   "metadata": {},
   "outputs": [
    {
     "data": {
      "text/plain": [
       "exercise_eid                 0\n",
       "exercise_name                0\n",
       "expectation_results          0\n",
       "feedback                 47183\n",
       "guide_slug                   0\n",
       "result                   31581\n",
       "sid                          0\n",
       "student_uid                  0\n",
       "submission_content        5724\n",
       "submission_created_at        0\n",
       "submission_status            0\n",
       "submissions_count            0\n",
       "test_results              5520\n",
       "date                         0\n",
       "Year                         0\n",
       "Month                        0\n",
       "DayNameWeek                  0\n",
       "dtype: int64"
      ]
     },
     "execution_count": 72,
     "metadata": {},
     "output_type": "execute_result"
    }
   ],
   "source": [
    "df_mumuki.isna().sum()"
   ]
  },
  {
   "cell_type": "markdown",
   "metadata": {},
   "source": [
    "*Detectamos que no hay identificador ni nombre de ejercicos nulos.\n",
    " Detectamos que no hay identificador de estudiantes nulos.\n",
    " Los campos result, submission_content y test_results de acuerdo al significado puede darse que vengan nulos.\n",
    " Los campos de la columna Feedback no tiene datos, esta todos nulos, por la cual decidimos eliminarlo.*"
   ]
  },
  {
   "cell_type": "code",
   "execution_count": null,
   "metadata": {},
   "outputs": [],
   "source": []
  },
  {
   "cell_type": "markdown",
   "metadata": {},
   "source": [
    "*En la descripción de formulas por columnas detectamos que tenemos identificado a un estudiante con id -1.*"
   ]
  },
  {
   "cell_type": "code",
   "execution_count": 78,
   "metadata": {},
   "outputs": [],
   "source": [
    "df_mumuki_uid1=df_mumuki[df_mumuki[\"student_uid\"]==-1]"
   ]
  },
  {
   "cell_type": "code",
   "execution_count": 88,
   "metadata": {},
   "outputs": [
    {
     "data": {
      "text/html": [
       "<div>\n",
       "<style scoped>\n",
       "    .dataframe tbody tr th:only-of-type {\n",
       "        vertical-align: middle;\n",
       "    }\n",
       "\n",
       "    .dataframe tbody tr th {\n",
       "        vertical-align: top;\n",
       "    }\n",
       "\n",
       "    .dataframe thead th {\n",
       "        text-align: right;\n",
       "    }\n",
       "</style>\n",
       "<table border=\"1\" class=\"dataframe\">\n",
       "  <thead>\n",
       "    <tr style=\"text-align: right;\">\n",
       "      <th></th>\n",
       "      <th></th>\n",
       "      <th>sid</th>\n",
       "      <th>date</th>\n",
       "    </tr>\n",
       "    <tr>\n",
       "      <th>guide_slug</th>\n",
       "      <th>exercise_name</th>\n",
       "      <th></th>\n",
       "      <th></th>\n",
       "    </tr>\n",
       "  </thead>\n",
       "  <tbody>\n",
       "    <tr>\n",
       "      <th rowspan=\"17\" valign=\"top\">mumukiproject/mumuki-guia-python-funciones-tipos-de-datos</th>\n",
       "      <th>Booleanos</th>\n",
       "      <td>2</td>\n",
       "      <td>2020-07-16</td>\n",
       "    </tr>\n",
       "    <tr>\n",
       "      <th>Datos de todo tipo</th>\n",
       "      <td>1</td>\n",
       "      <td>2020-07-17</td>\n",
       "    </tr>\n",
       "    <tr>\n",
       "      <th>El retorno del booleano</th>\n",
       "      <td>1</td>\n",
       "      <td>2020-07-17</td>\n",
       "    </tr>\n",
       "    <tr>\n",
       "      <th>Funciones, declaración</th>\n",
       "      <td>3</td>\n",
       "      <td>2020-07-15</td>\n",
       "    </tr>\n",
       "    <tr>\n",
       "      <th>Funciones, uso</th>\n",
       "      <td>2</td>\n",
       "      <td>2020-07-15</td>\n",
       "    </tr>\n",
       "    <tr>\n",
       "      <th>Haciendo cuentas</th>\n",
       "      <td>7</td>\n",
       "      <td>2020-07-15</td>\n",
       "    </tr>\n",
       "    <tr>\n",
       "      <th>Libros de la buena memoria</th>\n",
       "      <td>3</td>\n",
       "      <td>2020-07-15</td>\n",
       "    </tr>\n",
       "    <tr>\n",
       "      <th>Los premios</th>\n",
       "      <td>1</td>\n",
       "      <td>2020-07-17</td>\n",
       "    </tr>\n",
       "    <tr>\n",
       "      <th>No tan distintos</th>\n",
       "      <td>8</td>\n",
       "      <td>2020-07-15</td>\n",
       "    </tr>\n",
       "    <tr>\n",
       "      <th>Operando strings</th>\n",
       "      <td>1</td>\n",
       "      <td>2020-07-16</td>\n",
       "    </tr>\n",
       "    <tr>\n",
       "      <th>Palabras, sólo palabras</th>\n",
       "      <td>3</td>\n",
       "      <td>2020-07-16</td>\n",
       "    </tr>\n",
       "    <tr>\n",
       "      <th>Poniendo topes</th>\n",
       "      <td>4</td>\n",
       "      <td>2020-07-16</td>\n",
       "    </tr>\n",
       "    <tr>\n",
       "      <th>Probando funciones</th>\n",
       "      <td>3</td>\n",
       "      <td>2020-07-15</td>\n",
       "    </tr>\n",
       "    <tr>\n",
       "      <th>Tipos de datos</th>\n",
       "      <td>4</td>\n",
       "      <td>2020-07-17</td>\n",
       "    </tr>\n",
       "    <tr>\n",
       "      <th>¡GRITAR!</th>\n",
       "      <td>4</td>\n",
       "      <td>2020-07-17</td>\n",
       "    </tr>\n",
       "    <tr>\n",
       "      <th>¿De qué signo sos?</th>\n",
       "      <td>1</td>\n",
       "      <td>2020-07-17</td>\n",
       "    </tr>\n",
       "    <tr>\n",
       "      <th>¿Y qué tal si...?</th>\n",
       "      <td>3</td>\n",
       "      <td>2020-07-17</td>\n",
       "    </tr>\n",
       "    <tr>\n",
       "      <th rowspan=\"13\" valign=\"top\">mumukiproject/mumuki-guia-python-practica-funciones-y-tipos-de-datos</th>\n",
       "      <th>Cara o ceca</th>\n",
       "      <td>1</td>\n",
       "      <td>2020-07-17</td>\n",
       "    </tr>\n",
       "    <tr>\n",
       "      <th>Cartelitos</th>\n",
       "      <td>1</td>\n",
       "      <td>2020-07-17</td>\n",
       "    </tr>\n",
       "    <tr>\n",
       "      <th>Cartelitos óptimos</th>\n",
       "      <td>1</td>\n",
       "      <td>2020-07-17</td>\n",
       "    </tr>\n",
       "    <tr>\n",
       "      <th>Comprando Hardware</th>\n",
       "      <td>2</td>\n",
       "      <td>2020-07-17</td>\n",
       "    </tr>\n",
       "    <tr>\n",
       "      <th>Cuadrados</th>\n",
       "      <td>4</td>\n",
       "      <td>2020-07-17</td>\n",
       "    </tr>\n",
       "    <tr>\n",
       "      <th>Más Cartelitos</th>\n",
       "      <td>1</td>\n",
       "      <td>2020-07-17</td>\n",
       "    </tr>\n",
       "    <tr>\n",
       "      <th>Triangulos</th>\n",
       "      <td>1</td>\n",
       "      <td>2020-07-17</td>\n",
       "    </tr>\n",
       "    <tr>\n",
       "      <th>¡Envido!</th>\n",
       "      <td>1</td>\n",
       "      <td>2020-07-17</td>\n",
       "    </tr>\n",
       "    <tr>\n",
       "      <th>¡Quiero retruco!</th>\n",
       "      <td>3</td>\n",
       "      <td>2020-07-17</td>\n",
       "    </tr>\n",
       "    <tr>\n",
       "      <th>¡Quiero vale cuatro!</th>\n",
       "      <td>2</td>\n",
       "      <td>2020-07-17</td>\n",
       "    </tr>\n",
       "    <tr>\n",
       "      <th>¿Está afinado?</th>\n",
       "      <td>1</td>\n",
       "      <td>2020-07-17</td>\n",
       "    </tr>\n",
       "    <tr>\n",
       "      <th>¿Está cerca?</th>\n",
       "      <td>2</td>\n",
       "      <td>2020-07-17</td>\n",
       "    </tr>\n",
       "    <tr>\n",
       "      <th>¿Me conviene?</th>\n",
       "      <td>1</td>\n",
       "      <td>2020-07-17</td>\n",
       "    </tr>\n",
       "  </tbody>\n",
       "</table>\n",
       "</div>"
      ],
      "text/plain": [
       "                                                                               sid  \\\n",
       "guide_slug                                         exercise_name                     \n",
       "mumukiproject/mumuki-guia-python-funciones-tipo... Booleanos                     2   \n",
       "                                                   Datos de todo tipo            1   \n",
       "                                                   El retorno del booleano       1   \n",
       "                                                   Funciones, declaración        3   \n",
       "                                                   Funciones, uso                2   \n",
       "                                                   Haciendo cuentas              7   \n",
       "                                                   Libros de la buena memoria    3   \n",
       "                                                   Los premios                   1   \n",
       "                                                   No tan distintos              8   \n",
       "                                                   Operando strings              1   \n",
       "                                                   Palabras, sólo palabras       3   \n",
       "                                                   Poniendo topes                4   \n",
       "                                                   Probando funciones            3   \n",
       "                                                   Tipos de datos                4   \n",
       "                                                   ¡GRITAR!                      4   \n",
       "                                                   ¿De qué signo sos?            1   \n",
       "                                                   ¿Y qué tal si...?             3   \n",
       "mumukiproject/mumuki-guia-python-practica-funci... Cara o ceca                   1   \n",
       "                                                   Cartelitos                    1   \n",
       "                                                   Cartelitos óptimos            1   \n",
       "                                                   Comprando Hardware            2   \n",
       "                                                   Cuadrados                     4   \n",
       "                                                   Más Cartelitos                1   \n",
       "                                                   Triangulos                    1   \n",
       "                                                   ¡Envido!                      1   \n",
       "                                                   ¡Quiero retruco!              3   \n",
       "                                                   ¡Quiero vale cuatro!          2   \n",
       "                                                   ¿Está afinado?                1   \n",
       "                                                   ¿Está cerca?                  2   \n",
       "                                                   ¿Me conviene?                 1   \n",
       "\n",
       "                                                                                     date  \n",
       "guide_slug                                         exercise_name                           \n",
       "mumukiproject/mumuki-guia-python-funciones-tipo... Booleanos                   2020-07-16  \n",
       "                                                   Datos de todo tipo          2020-07-17  \n",
       "                                                   El retorno del booleano     2020-07-17  \n",
       "                                                   Funciones, declaración      2020-07-15  \n",
       "                                                   Funciones, uso              2020-07-15  \n",
       "                                                   Haciendo cuentas            2020-07-15  \n",
       "                                                   Libros de la buena memoria  2020-07-15  \n",
       "                                                   Los premios                 2020-07-17  \n",
       "                                                   No tan distintos            2020-07-15  \n",
       "                                                   Operando strings            2020-07-16  \n",
       "                                                   Palabras, sólo palabras     2020-07-16  \n",
       "                                                   Poniendo topes              2020-07-16  \n",
       "                                                   Probando funciones          2020-07-15  \n",
       "                                                   Tipos de datos              2020-07-17  \n",
       "                                                   ¡GRITAR!                    2020-07-17  \n",
       "                                                   ¿De qué signo sos?          2020-07-17  \n",
       "                                                   ¿Y qué tal si...?           2020-07-17  \n",
       "mumukiproject/mumuki-guia-python-practica-funci... Cara o ceca                 2020-07-17  \n",
       "                                                   Cartelitos                  2020-07-17  \n",
       "                                                   Cartelitos óptimos          2020-07-17  \n",
       "                                                   Comprando Hardware          2020-07-17  \n",
       "                                                   Cuadrados                   2020-07-17  \n",
       "                                                   Más Cartelitos              2020-07-17  \n",
       "                                                   Triangulos                  2020-07-17  \n",
       "                                                   ¡Envido!                    2020-07-17  \n",
       "                                                   ¡Quiero retruco!            2020-07-17  \n",
       "                                                   ¡Quiero vale cuatro!        2020-07-17  \n",
       "                                                   ¿Está afinado?              2020-07-17  \n",
       "                                                   ¿Está cerca?                2020-07-17  \n",
       "                                                   ¿Me conviene?               2020-07-17  "
      ]
     },
     "execution_count": 88,
     "metadata": {},
     "output_type": "execute_result"
    }
   ],
   "source": [
    "df_mumuki_uid1.groupby(['guide_slug','exercise_name']).agg({'sid':'count','date':'max'})"
   ]
  },
  {
   "cell_type": "code",
   "execution_count": 74,
   "metadata": {},
   "outputs": [],
   "source": [
    "df_mumuki[\"status\"] = df_mumuki[\"submission_status\"].replace({\"failed\": \"no_paso\", \"passed\": \"paso\", \"errored\": \"no_paso\", \"passed_with_warnings\": \"no_paso\"})"
   ]
  },
  {
   "cell_type": "code",
   "execution_count": 75,
   "metadata": {},
   "outputs": [
    {
     "data": {
      "text/plain": [
       "no_paso    33652\n",
       "paso       13519\n",
       "pending        9\n",
       "aborted        3\n",
       "Name: status, dtype: int64"
      ]
     },
     "execution_count": 75,
     "metadata": {},
     "output_type": "execute_result"
    }
   ],
   "source": [
    "df_mumuki[\"status\"].value_counts()"
   ]
  }
 ],
 "metadata": {
  "kernelspec": {
   "display_name": "Python 3",
   "language": "python",
   "name": "python3"
  },
  "language_info": {
   "codemirror_mode": {
    "name": "ipython",
    "version": 3
   },
   "file_extension": ".py",
   "mimetype": "text/x-python",
   "name": "python",
   "nbconvert_exporter": "python",
   "pygments_lexer": "ipython3",
   "version": "3.8.5"
  }
 },
 "nbformat": 4,
 "nbformat_minor": 4
}
