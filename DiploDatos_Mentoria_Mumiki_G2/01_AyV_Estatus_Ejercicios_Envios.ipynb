{
 "cells": [
  {
   "cell_type": "markdown",
   "metadata": {
    "colab_type": "text",
    "id": "view-in-github"
   },
   "source": [
    "<a href=\"https://colab.research.google.com/github/laraccano84/Mentoria_mumuki/blob/main/analisis_mumuki_Estatus_Ejercicios_Envios_V2.ipynb\" target=\"_parent\"><img src=\"https://colab.research.google.com/assets/colab-badge.svg\" alt=\"Open In Colab\"/></a>"
   ]
  },
  {
   "cell_type": "markdown",
   "metadata": {},
   "source": [
    "# DIPLOMATURA EN CIENCIA DE DATOS, APRENDIZAJE AUTOMÁTICO Y SUS APLICACIONES"
   ]
  },
  {
   "cell_type": "markdown",
   "metadata": {},
   "source": [
    "## Analisis y visuzlización de datos "
   ]
  },
  {
   "cell_type": "markdown",
   "metadata": {},
   "source": [
    "*Lectura del DataSet*"
   ]
  },
  {
   "cell_type": "code",
   "execution_count": 1,
   "metadata": {
    "id": "Iq9rlD_o_FR5"
   },
   "outputs": [],
   "source": [
    "import io\n",
    "import matplotlib\n",
    "import matplotlib.pyplot as plt\n",
    "import numpy\n",
    "import pandas as pd\n",
    "import seaborn \n",
    "import datetime as dt\n",
    "import requests\n",
    "import json\n",
    "import math\n",
    "import glob\n",
    "import cufflinks as cf\n",
    "\n"
   ]
  },
  {
   "cell_type": "code",
   "execution_count": 2,
   "metadata": {
    "colab": {
     "base_uri": "https://localhost:8080/"
    },
    "id": "j4UIvnljvbBi",
    "outputId": "f973e45a-2d8c-414d-d1d9-11634d766152"
   },
   "outputs": [],
   "source": [
    "#pip install pandas_bokeh"
   ]
  },
  {
   "cell_type": "code",
   "execution_count": 3,
   "metadata": {
    "id": "FOD3RetvJeq0"
   },
   "outputs": [],
   "source": [
    "import pandas_bokeh\n"
   ]
  },
  {
   "cell_type": "code",
   "execution_count": 4,
   "metadata": {
    "id": "p9IH7hLR_FR-"
   },
   "outputs": [],
   "source": [
    "url= 'https://raw.githubusercontent.com/laraccano84/Mentoria_mumuki/main/DataSet_Mumuki_New.csv'\n",
    "df = pd.read_csv(url)"
   ]
  },
  {
   "cell_type": "code",
   "execution_count": 5,
   "metadata": {
    "id": "cZKm8k2l2rNa"
   },
   "outputs": [],
   "source": [
    "sns  = seaborn"
   ]
  },
  {
   "cell_type": "code",
   "execution_count": 6,
   "metadata": {
    "id": "GXLICB3bUmI1"
   },
   "outputs": [
    {
     "data": {
      "text/html": [
       "\n",
       "    <div class=\"bk-root\">\n",
       "        <a href=\"https://bokeh.org\" target=\"_blank\" class=\"bk-logo bk-logo-small bk-logo-notebook\"></a>\n",
       "        <span id=\"1001\">Loading BokehJS ...</span>\n",
       "    </div>"
      ]
     },
     "metadata": {},
     "output_type": "display_data"
    },
    {
     "data": {
      "application/javascript": [
       "\n",
       "(function(root) {\n",
       "  function now() {\n",
       "    return new Date();\n",
       "  }\n",
       "\n",
       "  var force = true;\n",
       "\n",
       "  if (typeof root._bokeh_onload_callbacks === \"undefined\" || force === true) {\n",
       "    root._bokeh_onload_callbacks = [];\n",
       "    root._bokeh_is_loading = undefined;\n",
       "  }\n",
       "\n",
       "  var JS_MIME_TYPE = 'application/javascript';\n",
       "  var HTML_MIME_TYPE = 'text/html';\n",
       "  var EXEC_MIME_TYPE = 'application/vnd.bokehjs_exec.v0+json';\n",
       "  var CLASS_NAME = 'output_bokeh rendered_html';\n",
       "\n",
       "  /**\n",
       "   * Render data to the DOM node\n",
       "   */\n",
       "  function render(props, node) {\n",
       "    var script = document.createElement(\"script\");\n",
       "    node.appendChild(script);\n",
       "  }\n",
       "\n",
       "  /**\n",
       "   * Handle when an output is cleared or removed\n",
       "   */\n",
       "  function handleClearOutput(event, handle) {\n",
       "    var cell = handle.cell;\n",
       "\n",
       "    var id = cell.output_area._bokeh_element_id;\n",
       "    var server_id = cell.output_area._bokeh_server_id;\n",
       "    // Clean up Bokeh references\n",
       "    if (id != null && id in Bokeh.index) {\n",
       "      Bokeh.index[id].model.document.clear();\n",
       "      delete Bokeh.index[id];\n",
       "    }\n",
       "\n",
       "    if (server_id !== undefined) {\n",
       "      // Clean up Bokeh references\n",
       "      var cmd = \"from bokeh.io.state import curstate; print(curstate().uuid_to_server['\" + server_id + \"'].get_sessions()[0].document.roots[0]._id)\";\n",
       "      cell.notebook.kernel.execute(cmd, {\n",
       "        iopub: {\n",
       "          output: function(msg) {\n",
       "            var id = msg.content.text.trim();\n",
       "            if (id in Bokeh.index) {\n",
       "              Bokeh.index[id].model.document.clear();\n",
       "              delete Bokeh.index[id];\n",
       "            }\n",
       "          }\n",
       "        }\n",
       "      });\n",
       "      // Destroy server and session\n",
       "      var cmd = \"import bokeh.io.notebook as ion; ion.destroy_server('\" + server_id + \"')\";\n",
       "      cell.notebook.kernel.execute(cmd);\n",
       "    }\n",
       "  }\n",
       "\n",
       "  /**\n",
       "   * Handle when a new output is added\n",
       "   */\n",
       "  function handleAddOutput(event, handle) {\n",
       "    var output_area = handle.output_area;\n",
       "    var output = handle.output;\n",
       "\n",
       "    // limit handleAddOutput to display_data with EXEC_MIME_TYPE content only\n",
       "    if ((output.output_type != \"display_data\") || (!output.data.hasOwnProperty(EXEC_MIME_TYPE))) {\n",
       "      return\n",
       "    }\n",
       "\n",
       "    var toinsert = output_area.element.find(\".\" + CLASS_NAME.split(' ')[0]);\n",
       "\n",
       "    if (output.metadata[EXEC_MIME_TYPE][\"id\"] !== undefined) {\n",
       "      toinsert[toinsert.length - 1].firstChild.textContent = output.data[JS_MIME_TYPE];\n",
       "      // store reference to embed id on output_area\n",
       "      output_area._bokeh_element_id = output.metadata[EXEC_MIME_TYPE][\"id\"];\n",
       "    }\n",
       "    if (output.metadata[EXEC_MIME_TYPE][\"server_id\"] !== undefined) {\n",
       "      var bk_div = document.createElement(\"div\");\n",
       "      bk_div.innerHTML = output.data[HTML_MIME_TYPE];\n",
       "      var script_attrs = bk_div.children[0].attributes;\n",
       "      for (var i = 0; i < script_attrs.length; i++) {\n",
       "        toinsert[toinsert.length - 1].firstChild.setAttribute(script_attrs[i].name, script_attrs[i].value);\n",
       "        toinsert[toinsert.length - 1].firstChild.textContent = bk_div.children[0].textContent\n",
       "      }\n",
       "      // store reference to server id on output_area\n",
       "      output_area._bokeh_server_id = output.metadata[EXEC_MIME_TYPE][\"server_id\"];\n",
       "    }\n",
       "  }\n",
       "\n",
       "  function register_renderer(events, OutputArea) {\n",
       "\n",
       "    function append_mime(data, metadata, element) {\n",
       "      // create a DOM node to render to\n",
       "      var toinsert = this.create_output_subarea(\n",
       "        metadata,\n",
       "        CLASS_NAME,\n",
       "        EXEC_MIME_TYPE\n",
       "      );\n",
       "      this.keyboard_manager.register_events(toinsert);\n",
       "      // Render to node\n",
       "      var props = {data: data, metadata: metadata[EXEC_MIME_TYPE]};\n",
       "      render(props, toinsert[toinsert.length - 1]);\n",
       "      element.append(toinsert);\n",
       "      return toinsert\n",
       "    }\n",
       "\n",
       "    /* Handle when an output is cleared or removed */\n",
       "    events.on('clear_output.CodeCell', handleClearOutput);\n",
       "    events.on('delete.Cell', handleClearOutput);\n",
       "\n",
       "    /* Handle when a new output is added */\n",
       "    events.on('output_added.OutputArea', handleAddOutput);\n",
       "\n",
       "    /**\n",
       "     * Register the mime type and append_mime function with output_area\n",
       "     */\n",
       "    OutputArea.prototype.register_mime_type(EXEC_MIME_TYPE, append_mime, {\n",
       "      /* Is output safe? */\n",
       "      safe: true,\n",
       "      /* Index of renderer in `output_area.display_order` */\n",
       "      index: 0\n",
       "    });\n",
       "  }\n",
       "\n",
       "  // register the mime type if in Jupyter Notebook environment and previously unregistered\n",
       "  if (root.Jupyter !== undefined) {\n",
       "    var events = require('base/js/events');\n",
       "    var OutputArea = require('notebook/js/outputarea').OutputArea;\n",
       "\n",
       "    if (OutputArea.prototype.mime_types().indexOf(EXEC_MIME_TYPE) == -1) {\n",
       "      register_renderer(events, OutputArea);\n",
       "    }\n",
       "  }\n",
       "\n",
       "  \n",
       "  if (typeof (root._bokeh_timeout) === \"undefined\" || force === true) {\n",
       "    root._bokeh_timeout = Date.now() + 5000;\n",
       "    root._bokeh_failed_load = false;\n",
       "  }\n",
       "\n",
       "  var NB_LOAD_WARNING = {'data': {'text/html':\n",
       "     \"<div style='background-color: #fdd'>\\n\"+\n",
       "     \"<p>\\n\"+\n",
       "     \"BokehJS does not appear to have successfully loaded. If loading BokehJS from CDN, this \\n\"+\n",
       "     \"may be due to a slow or bad network connection. Possible fixes:\\n\"+\n",
       "     \"</p>\\n\"+\n",
       "     \"<ul>\\n\"+\n",
       "     \"<li>re-rerun `output_notebook()` to attempt to load from CDN again, or</li>\\n\"+\n",
       "     \"<li>use INLINE resources instead, as so:</li>\\n\"+\n",
       "     \"</ul>\\n\"+\n",
       "     \"<code>\\n\"+\n",
       "     \"from bokeh.resources import INLINE\\n\"+\n",
       "     \"output_notebook(resources=INLINE)\\n\"+\n",
       "     \"</code>\\n\"+\n",
       "     \"</div>\"}};\n",
       "\n",
       "  function display_loaded() {\n",
       "    var el = document.getElementById(\"1001\");\n",
       "    if (el != null) {\n",
       "      el.textContent = \"BokehJS is loading...\";\n",
       "    }\n",
       "    if (root.Bokeh !== undefined) {\n",
       "      if (el != null) {\n",
       "        el.textContent = \"BokehJS \" + root.Bokeh.version + \" successfully loaded.\";\n",
       "      }\n",
       "    } else if (Date.now() < root._bokeh_timeout) {\n",
       "      setTimeout(display_loaded, 100)\n",
       "    }\n",
       "  }\n",
       "\n",
       "\n",
       "  function run_callbacks() {\n",
       "    try {\n",
       "      root._bokeh_onload_callbacks.forEach(function(callback) {\n",
       "        if (callback != null)\n",
       "          callback();\n",
       "      });\n",
       "    } finally {\n",
       "      delete root._bokeh_onload_callbacks\n",
       "    }\n",
       "    console.debug(\"Bokeh: all callbacks have finished\");\n",
       "  }\n",
       "\n",
       "  function load_libs(css_urls, js_urls, callback) {\n",
       "    if (css_urls == null) css_urls = [];\n",
       "    if (js_urls == null) js_urls = [];\n",
       "\n",
       "    root._bokeh_onload_callbacks.push(callback);\n",
       "    if (root._bokeh_is_loading > 0) {\n",
       "      console.debug(\"Bokeh: BokehJS is being loaded, scheduling callback at\", now());\n",
       "      return null;\n",
       "    }\n",
       "    if (js_urls == null || js_urls.length === 0) {\n",
       "      run_callbacks();\n",
       "      return null;\n",
       "    }\n",
       "    console.debug(\"Bokeh: BokehJS not loaded, scheduling load and callback at\", now());\n",
       "    root._bokeh_is_loading = css_urls.length + js_urls.length;\n",
       "\n",
       "    function on_load() {\n",
       "      root._bokeh_is_loading--;\n",
       "      if (root._bokeh_is_loading === 0) {\n",
       "        console.debug(\"Bokeh: all BokehJS libraries/stylesheets loaded\");\n",
       "        run_callbacks()\n",
       "      }\n",
       "    }\n",
       "\n",
       "    function on_error() {\n",
       "      console.error(\"failed to load \" + url);\n",
       "    }\n",
       "\n",
       "    for (var i = 0; i < css_urls.length; i++) {\n",
       "      var url = css_urls[i];\n",
       "      const element = document.createElement(\"link\");\n",
       "      element.onload = on_load;\n",
       "      element.onerror = on_error;\n",
       "      element.rel = \"stylesheet\";\n",
       "      element.type = \"text/css\";\n",
       "      element.href = url;\n",
       "      console.debug(\"Bokeh: injecting link tag for BokehJS stylesheet: \", url);\n",
       "      document.body.appendChild(element);\n",
       "    }\n",
       "\n",
       "    const hashes = {\"https://cdn.bokeh.org/bokeh/release/bokeh-2.2.3.min.js\": \"T2yuo9Oe71Cz/I4X9Ac5+gpEa5a8PpJCDlqKYO0CfAuEszu1JrXLl8YugMqYe3sM\", \"https://cdn.bokeh.org/bokeh/release/bokeh-widgets-2.2.3.min.js\": \"98GDGJ0kOMCUMUePhksaQ/GYgB3+NH9h996V88sh3aOiUNX3N+fLXAtry6xctSZ6\", \"https://cdn.bokeh.org/bokeh/release/bokeh-tables-2.2.3.min.js\": \"89bArO+nlbP3sgakeHjCo1JYxYR5wufVgA3IbUvDY+K7w4zyxJqssu7wVnfeKCq8\"};\n",
       "\n",
       "    for (var i = 0; i < js_urls.length; i++) {\n",
       "      var url = js_urls[i];\n",
       "      var element = document.createElement('script');\n",
       "      element.onload = on_load;\n",
       "      element.onerror = on_error;\n",
       "      element.async = false;\n",
       "      element.src = url;\n",
       "      if (url in hashes) {\n",
       "        element.crossOrigin = \"anonymous\";\n",
       "        element.integrity = \"sha384-\" + hashes[url];\n",
       "      }\n",
       "      console.debug(\"Bokeh: injecting script tag for BokehJS library: \", url);\n",
       "      document.head.appendChild(element);\n",
       "    }\n",
       "  };\n",
       "\n",
       "  function inject_raw_css(css) {\n",
       "    const element = document.createElement(\"style\");\n",
       "    element.appendChild(document.createTextNode(css));\n",
       "    document.body.appendChild(element);\n",
       "  }\n",
       "\n",
       "  \n",
       "  var js_urls = [\"https://cdn.bokeh.org/bokeh/release/bokeh-2.2.3.min.js\", \"https://cdn.bokeh.org/bokeh/release/bokeh-widgets-2.2.3.min.js\", \"https://cdn.bokeh.org/bokeh/release/bokeh-tables-2.2.3.min.js\"];\n",
       "  var css_urls = [];\n",
       "  \n",
       "\n",
       "  var inline_js = [\n",
       "    function(Bokeh) {\n",
       "      Bokeh.set_log_level(\"info\");\n",
       "    },\n",
       "    function(Bokeh) {\n",
       "    \n",
       "    \n",
       "    }\n",
       "  ];\n",
       "\n",
       "  function run_inline_js() {\n",
       "    \n",
       "    if (root.Bokeh !== undefined || force === true) {\n",
       "      \n",
       "    for (var i = 0; i < inline_js.length; i++) {\n",
       "      inline_js[i].call(root, root.Bokeh);\n",
       "    }\n",
       "    if (force === true) {\n",
       "        display_loaded();\n",
       "      }} else if (Date.now() < root._bokeh_timeout) {\n",
       "      setTimeout(run_inline_js, 100);\n",
       "    } else if (!root._bokeh_failed_load) {\n",
       "      console.log(\"Bokeh: BokehJS failed to load within specified timeout.\");\n",
       "      root._bokeh_failed_load = true;\n",
       "    } else if (force !== true) {\n",
       "      var cell = $(document.getElementById(\"1001\")).parents('.cell').data().cell;\n",
       "      cell.output_area.append_execute_result(NB_LOAD_WARNING)\n",
       "    }\n",
       "\n",
       "  }\n",
       "\n",
       "  if (root._bokeh_is_loading === 0) {\n",
       "    console.debug(\"Bokeh: BokehJS loaded, going straight to plotting\");\n",
       "    run_inline_js();\n",
       "  } else {\n",
       "    load_libs(css_urls, js_urls, function() {\n",
       "      console.debug(\"Bokeh: BokehJS plotting callback run at\", now());\n",
       "      run_inline_js();\n",
       "    });\n",
       "  }\n",
       "}(window));"
      ],
      "application/vnd.bokehjs_load.v0+json": "\n(function(root) {\n  function now() {\n    return new Date();\n  }\n\n  var force = true;\n\n  if (typeof root._bokeh_onload_callbacks === \"undefined\" || force === true) {\n    root._bokeh_onload_callbacks = [];\n    root._bokeh_is_loading = undefined;\n  }\n\n  \n\n  \n  if (typeof (root._bokeh_timeout) === \"undefined\" || force === true) {\n    root._bokeh_timeout = Date.now() + 5000;\n    root._bokeh_failed_load = false;\n  }\n\n  var NB_LOAD_WARNING = {'data': {'text/html':\n     \"<div style='background-color: #fdd'>\\n\"+\n     \"<p>\\n\"+\n     \"BokehJS does not appear to have successfully loaded. If loading BokehJS from CDN, this \\n\"+\n     \"may be due to a slow or bad network connection. Possible fixes:\\n\"+\n     \"</p>\\n\"+\n     \"<ul>\\n\"+\n     \"<li>re-rerun `output_notebook()` to attempt to load from CDN again, or</li>\\n\"+\n     \"<li>use INLINE resources instead, as so:</li>\\n\"+\n     \"</ul>\\n\"+\n     \"<code>\\n\"+\n     \"from bokeh.resources import INLINE\\n\"+\n     \"output_notebook(resources=INLINE)\\n\"+\n     \"</code>\\n\"+\n     \"</div>\"}};\n\n  function display_loaded() {\n    var el = document.getElementById(\"1001\");\n    if (el != null) {\n      el.textContent = \"BokehJS is loading...\";\n    }\n    if (root.Bokeh !== undefined) {\n      if (el != null) {\n        el.textContent = \"BokehJS \" + root.Bokeh.version + \" successfully loaded.\";\n      }\n    } else if (Date.now() < root._bokeh_timeout) {\n      setTimeout(display_loaded, 100)\n    }\n  }\n\n\n  function run_callbacks() {\n    try {\n      root._bokeh_onload_callbacks.forEach(function(callback) {\n        if (callback != null)\n          callback();\n      });\n    } finally {\n      delete root._bokeh_onload_callbacks\n    }\n    console.debug(\"Bokeh: all callbacks have finished\");\n  }\n\n  function load_libs(css_urls, js_urls, callback) {\n    if (css_urls == null) css_urls = [];\n    if (js_urls == null) js_urls = [];\n\n    root._bokeh_onload_callbacks.push(callback);\n    if (root._bokeh_is_loading > 0) {\n      console.debug(\"Bokeh: BokehJS is being loaded, scheduling callback at\", now());\n      return null;\n    }\n    if (js_urls == null || js_urls.length === 0) {\n      run_callbacks();\n      return null;\n    }\n    console.debug(\"Bokeh: BokehJS not loaded, scheduling load and callback at\", now());\n    root._bokeh_is_loading = css_urls.length + js_urls.length;\n\n    function on_load() {\n      root._bokeh_is_loading--;\n      if (root._bokeh_is_loading === 0) {\n        console.debug(\"Bokeh: all BokehJS libraries/stylesheets loaded\");\n        run_callbacks()\n      }\n    }\n\n    function on_error() {\n      console.error(\"failed to load \" + url);\n    }\n\n    for (var i = 0; i < css_urls.length; i++) {\n      var url = css_urls[i];\n      const element = document.createElement(\"link\");\n      element.onload = on_load;\n      element.onerror = on_error;\n      element.rel = \"stylesheet\";\n      element.type = \"text/css\";\n      element.href = url;\n      console.debug(\"Bokeh: injecting link tag for BokehJS stylesheet: \", url);\n      document.body.appendChild(element);\n    }\n\n    const hashes = {\"https://cdn.bokeh.org/bokeh/release/bokeh-2.2.3.min.js\": \"T2yuo9Oe71Cz/I4X9Ac5+gpEa5a8PpJCDlqKYO0CfAuEszu1JrXLl8YugMqYe3sM\", \"https://cdn.bokeh.org/bokeh/release/bokeh-widgets-2.2.3.min.js\": \"98GDGJ0kOMCUMUePhksaQ/GYgB3+NH9h996V88sh3aOiUNX3N+fLXAtry6xctSZ6\", \"https://cdn.bokeh.org/bokeh/release/bokeh-tables-2.2.3.min.js\": \"89bArO+nlbP3sgakeHjCo1JYxYR5wufVgA3IbUvDY+K7w4zyxJqssu7wVnfeKCq8\"};\n\n    for (var i = 0; i < js_urls.length; i++) {\n      var url = js_urls[i];\n      var element = document.createElement('script');\n      element.onload = on_load;\n      element.onerror = on_error;\n      element.async = false;\n      element.src = url;\n      if (url in hashes) {\n        element.crossOrigin = \"anonymous\";\n        element.integrity = \"sha384-\" + hashes[url];\n      }\n      console.debug(\"Bokeh: injecting script tag for BokehJS library: \", url);\n      document.head.appendChild(element);\n    }\n  };\n\n  function inject_raw_css(css) {\n    const element = document.createElement(\"style\");\n    element.appendChild(document.createTextNode(css));\n    document.body.appendChild(element);\n  }\n\n  \n  var js_urls = [\"https://cdn.bokeh.org/bokeh/release/bokeh-2.2.3.min.js\", \"https://cdn.bokeh.org/bokeh/release/bokeh-widgets-2.2.3.min.js\", \"https://cdn.bokeh.org/bokeh/release/bokeh-tables-2.2.3.min.js\"];\n  var css_urls = [];\n  \n\n  var inline_js = [\n    function(Bokeh) {\n      Bokeh.set_log_level(\"info\");\n    },\n    function(Bokeh) {\n    \n    \n    }\n  ];\n\n  function run_inline_js() {\n    \n    if (root.Bokeh !== undefined || force === true) {\n      \n    for (var i = 0; i < inline_js.length; i++) {\n      inline_js[i].call(root, root.Bokeh);\n    }\n    if (force === true) {\n        display_loaded();\n      }} else if (Date.now() < root._bokeh_timeout) {\n      setTimeout(run_inline_js, 100);\n    } else if (!root._bokeh_failed_load) {\n      console.log(\"Bokeh: BokehJS failed to load within specified timeout.\");\n      root._bokeh_failed_load = true;\n    } else if (force !== true) {\n      var cell = $(document.getElementById(\"1001\")).parents('.cell').data().cell;\n      cell.output_area.append_execute_result(NB_LOAD_WARNING)\n    }\n\n  }\n\n  if (root._bokeh_is_loading === 0) {\n    console.debug(\"Bokeh: BokehJS loaded, going straight to plotting\");\n    run_inline_js();\n  } else {\n    load_libs(css_urls, js_urls, function() {\n      console.debug(\"Bokeh: BokehJS plotting callback run at\", now());\n      run_inline_js();\n    });\n  }\n}(window));"
     },
     "metadata": {},
     "output_type": "display_data"
    }
   ],
   "source": [
    "pandas_bokeh.output_notebook()"
   ]
  },
  {
   "cell_type": "markdown",
   "metadata": {},
   "source": [
    "## Analisis de temas por Frustración, poner la hipotesis o preguta?????"
   ]
  },
  {
   "cell_type": "markdown",
   "metadata": {
    "id": "_tW2HcYAUkAN"
   },
   "source": [
    " **Se crea una columna Estatus donde el valor 1 equivale a paso y 0 equivale a no_paso.**"
   ]
  },
  {
   "cell_type": "code",
   "execution_count": 7,
   "metadata": {
    "id": "LiQgPDkxdbMu"
   },
   "outputs": [],
   "source": [
    "def set_status(Estatus):\n",
    "    if Estatus == ('paso'):\n",
    "        return 1\n",
    "    if Estatus == ('no_paso' or 'pending' or 'aborted' ):\n",
    "        return 0\n",
    " "
   ]
  },
  {
   "cell_type": "code",
   "execution_count": 8,
   "metadata": {
    "id": "dv_jxUzUeEx4"
   },
   "outputs": [],
   "source": [
    "df['Estatus_2'] = df['Estatus'].apply(set_status) "
   ]
  },
  {
   "cell_type": "markdown",
   "metadata": {
    "id": "NoXRVJz6B70V"
   },
   "source": [
    "**Análisis de los datos:**"
   ]
  },
  {
   "cell_type": "markdown",
   "metadata": {
    "id": "Hx7nWRmHVVxl"
   },
   "source": [
    "Se define arbitrariamente los intentos de realizar el ultimo ejercicio de cada leccion, para luego identificar la cantidad  de alumnos llegaron al final del recorrido de esa lección y lo aprobaron. \n",
    "Para eso se realiza la siguiente función:"
   ]
  },
  {
   "cell_type": "code",
   "execution_count": 9,
   "metadata": {
    "id": "_kRJERElG6d3"
   },
   "outputs": [],
   "source": [
    "def set_leccion_realizada(exercise_name):\n",
    "    if (exercise_name == ('Tipos de datos / Datos de todo tipo'or 'Calefones / Poniendo topes')):\n",
    "        return 'Llego al final de la leccion Uno'\n",
    "    if (exercise_name == ('¿Está cerca?')):\n",
    "        return 'Llego al final de la leccion Dos'\n",
    "    if (exercise_name == ('Esto no tiene valor')):\n",
    "        return 'Llego al final de la leccion Tres'\n",
    "  \n",
    "    "
   ]
  },
  {
   "cell_type": "code",
   "execution_count": 10,
   "metadata": {
    "id": "c_fihLkrGDM2"
   },
   "outputs": [],
   "source": [
    "df['Lecciones_completas'] = df['exercise_name'].apply(set_leccion_realizada) "
   ]
  },
  {
   "cell_type": "markdown",
   "metadata": {},
   "source": [
    "Frecuencia de envios para el ultimo ejercicio de cada leccion"
   ]
  },
  {
   "cell_type": "code",
   "execution_count": 11,
   "metadata": {
    "colab": {
     "base_uri": "https://localhost:8080/"
    },
    "id": "BMLpGgqmb64e",
    "outputId": "333d5c9e-c70a-4796-8d91-f47cec844a5b"
   },
   "outputs": [
    {
     "name": "stdout",
     "output_type": "stream",
     "text": [
      "                                   frequency\n",
      "Lecciones_completas                         \n",
      "Llego al final de la leccion Dos        1197\n",
      "Llego al final de la leccion Tres        378\n",
      "Llego al final de la leccion Uno        2658\n"
     ]
    }
   ],
   "source": [
    "freq_by_lecciones = (df.groupby(\"Lecciones_completas\").agg(frequency=(\"Lecciones_completas\", \"count\")))\n",
    "print(freq_by_lecciones)"
   ]
  },
  {
   "cell_type": "code",
   "execution_count": 12,
   "metadata": {
    "colab": {
     "base_uri": "https://localhost:8080/",
     "height": 416
    },
    "id": "tQsV9dATco57",
    "outputId": "12ab2714-b013-4ba5-a450-d24912eb36b6"
   },
   "outputs": [
    {
     "data": {
      "text/html": [
       "\n",
       "\n",
       "\n",
       "\n",
       "\n",
       "\n",
       "  <div class=\"bk-root\" id=\"b9f8cb47-ab23-475d-91a0-b276196697b1\" data-root-id=\"1038\"></div>\n"
      ]
     },
     "metadata": {},
     "output_type": "display_data"
    },
    {
     "data": {
      "application/javascript": [
       "(function(root) {\n",
       "  function embed_document(root) {\n",
       "    \n",
       "  var docs_json = {\"0b4805cf-6fc6-48f1-aefa-27d8c5025b6c\":{\"roots\":{\"references\":[{\"attributes\":{\"below\":[{\"id\":\"1049\"}],\"center\":[{\"id\":\"1052\"},{\"id\":\"1056\"},{\"id\":\"1087\"}],\"left\":[{\"id\":\"1053\"}],\"output_backend\":\"webgl\",\"plot_height\":400,\"renderers\":[{\"id\":\"1078\"}],\"sizing_mode\":\"fixed\",\"title\":{\"id\":\"1039\"},\"toolbar\":{\"id\":\"1064\"},\"x_range\":{\"id\":\"1041\"},\"x_scale\":{\"id\":\"1045\"},\"y_range\":{\"id\":\"1043\"},\"y_scale\":{\"id\":\"1047\"}},\"id\":\"1038\",\"subtype\":\"Figure\",\"type\":\"Plot\"},{\"attributes\":{\"label\":{\"value\":\"frequency\"},\"renderers\":[{\"id\":\"1078\"}]},\"id\":\"1088\",\"type\":\"LegendItem\"},{\"attributes\":{\"data_source\":{\"id\":\"1037\"},\"glyph\":{\"id\":\"1076\"},\"hover_glyph\":null,\"muted_glyph\":null,\"name\":\"frequency\",\"nonselection_glyph\":{\"id\":\"1077\"},\"selection_glyph\":null,\"view\":{\"id\":\"1079\"}},\"id\":\"1078\",\"type\":\"GlyphRenderer\"},{\"attributes\":{},\"id\":\"1047\",\"type\":\"LinearScale\"},{\"attributes\":{\"items\":[{\"id\":\"1088\"}]},\"id\":\"1087\",\"type\":\"Legend\"},{\"attributes\":{\"bottom_units\":\"screen\",\"fill_alpha\":0.5,\"fill_color\":\"lightgrey\",\"left_units\":\"screen\",\"level\":\"overlay\",\"line_alpha\":1.0,\"line_color\":\"black\",\"line_dash\":[4,4],\"line_width\":2,\"right_units\":\"screen\",\"top_units\":\"screen\"},\"id\":\"1063\",\"type\":\"BoxAnnotation\"},{\"attributes\":{},\"id\":\"1081\",\"type\":\"BasicTickFormatter\"},{\"attributes\":{\"fields\":[\"frequency\"]},\"id\":\"1074\",\"type\":\"Stack\"},{\"attributes\":{},\"id\":\"1085\",\"type\":\"Selection\"},{\"attributes\":{\"data\":{\"__x__values\":[0,1,2],\"__x__values_original\":[\"Llego al final de la leccion Dos\",\"Llego al final de la leccion Tres\",\"Llego al final de la leccion Uno\"],\"frequency\":[1197,378,2658]},\"selected\":{\"id\":\"1085\"},\"selection_policy\":{\"id\":\"1086\"}},\"id\":\"1037\",\"type\":\"ColumnDataSource\"},{\"attributes\":{},\"id\":\"1086\",\"type\":\"UnionRenderers\"},{\"attributes\":{\"callback\":null,\"mode\":\"hline\",\"renderers\":[{\"id\":\"1078\"}],\"tooltips\":[[\"Lecciones_completas\",\"@__x__values_original\"],[\"frequency\",\"@{frequency}\"]]},\"id\":\"1089\",\"type\":\"HoverTool\"},{\"attributes\":{\"axis_label\":\"Lecciones_completas\",\"formatter\":{\"id\":\"1071\"},\"ticker\":{\"id\":\"1091\"}},\"id\":\"1053\",\"type\":\"LinearAxis\"},{\"attributes\":{\"code\":\"\\n                                    var labels = {0: 'Llego al final de la leccion Dos', 1: 'Llego al final de la leccion Tres', 2: 'Llego al final de la leccion Uno'};\\n                                    return labels[tick];\\n                                    \"},\"id\":\"1071\",\"type\":\"FuncTickFormatter\"},{\"attributes\":{},\"id\":\"1062\",\"type\":\"HelpTool\"},{\"attributes\":{},\"id\":\"1061\",\"type\":\"ResetTool\"},{\"attributes\":{\"active_drag\":\"auto\",\"active_inspect\":\"auto\",\"active_multi\":null,\"active_scroll\":{\"id\":\"1058\"},\"active_tap\":\"auto\",\"tools\":[{\"id\":\"1057\"},{\"id\":\"1058\"},{\"id\":\"1059\"},{\"id\":\"1060\"},{\"id\":\"1061\"},{\"id\":\"1062\"},{\"id\":\"1089\"}]},\"id\":\"1064\",\"type\":\"Toolbar\"},{\"attributes\":{\"axis\":{\"id\":\"1053\"},\"dimension\":1,\"ticker\":null},\"id\":\"1056\",\"type\":\"Grid\"},{\"attributes\":{},\"id\":\"1057\",\"type\":\"PanTool\"},{\"attributes\":{},\"id\":\"1041\",\"type\":\"DataRange1d\"},{\"attributes\":{\"text\":\"\"},\"id\":\"1039\",\"type\":\"Title\"},{\"attributes\":{\"overlay\":{\"id\":\"1063\"}},\"id\":\"1059\",\"type\":\"BoxZoomTool\"},{\"attributes\":{},\"id\":\"1043\",\"type\":\"DataRange1d\"},{\"attributes\":{\"axis\":{\"id\":\"1049\"},\"ticker\":null},\"id\":\"1052\",\"type\":\"Grid\"},{\"attributes\":{},\"id\":\"1045\",\"type\":\"LinearScale\"},{\"attributes\":{},\"id\":\"1058\",\"type\":\"WheelZoomTool\"},{\"attributes\":{},\"id\":\"1050\",\"type\":\"BasicTicker\"},{\"attributes\":{\"axis_label\":\"frequency\",\"formatter\":{\"id\":\"1081\"},\"ticker\":{\"id\":\"1050\"}},\"id\":\"1049\",\"type\":\"LinearAxis\"},{\"attributes\":{\"fill_color\":{\"value\":\"#1f77b4\"},\"height\":{\"value\":0.8},\"left\":{\"expr\":{\"id\":\"1073\"}},\"line_color\":{\"value\":\"#1f77b4\"},\"line_width\":{\"value\":2},\"right\":{\"expr\":{\"id\":\"1074\"}},\"y\":{\"field\":\"__x__values\"}},\"id\":\"1076\",\"type\":\"HBar\"},{\"attributes\":{\"source\":{\"id\":\"1037\"}},\"id\":\"1079\",\"type\":\"CDSView\"},{\"attributes\":{},\"id\":\"1060\",\"type\":\"SaveTool\"},{\"attributes\":{\"fields\":[]},\"id\":\"1073\",\"type\":\"Stack\"},{\"attributes\":{\"ticks\":[0,1,2]},\"id\":\"1091\",\"type\":\"FixedTicker\"},{\"attributes\":{\"fill_alpha\":{\"value\":0.1},\"fill_color\":{\"value\":\"#1f77b4\"},\"height\":{\"value\":0.8},\"left\":{\"expr\":{\"id\":\"1073\"}},\"line_alpha\":{\"value\":0.1},\"line_color\":{\"value\":\"#1f77b4\"},\"line_width\":{\"value\":2},\"right\":{\"expr\":{\"id\":\"1074\"}},\"y\":{\"field\":\"__x__values\"}},\"id\":\"1077\",\"type\":\"HBar\"}],\"root_ids\":[\"1038\"]},\"title\":\"Bokeh Application\",\"version\":\"2.2.3\"}};\n",
       "  var render_items = [{\"docid\":\"0b4805cf-6fc6-48f1-aefa-27d8c5025b6c\",\"root_ids\":[\"1038\"],\"roots\":{\"1038\":\"b9f8cb47-ab23-475d-91a0-b276196697b1\"}}];\n",
       "  root.Bokeh.embed.embed_items_notebook(docs_json, render_items);\n",
       "\n",
       "  }\n",
       "  if (root.Bokeh !== undefined) {\n",
       "    embed_document(root);\n",
       "  } else {\n",
       "    var attempts = 0;\n",
       "    var timer = setInterval(function(root) {\n",
       "      if (root.Bokeh !== undefined) {\n",
       "        clearInterval(timer);\n",
       "        embed_document(root);\n",
       "      } else {\n",
       "        attempts++;\n",
       "        if (attempts > 100) {\n",
       "          clearInterval(timer);\n",
       "          console.log(\"Bokeh: ERROR: Unable to run BokehJS code because BokehJS library is missing\");\n",
       "        }\n",
       "      }\n",
       "    }, 10, root)\n",
       "  }\n",
       "})(window);"
      ],
      "application/vnd.bokehjs_exec.v0+json": ""
     },
     "metadata": {
      "application/vnd.bokehjs_exec.v0+json": {
       "id": "1038"
      }
     },
     "output_type": "display_data"
    }
   ],
   "source": [
    "freq_by_lecciones.plot_bokeh(kind='barh',stacked=True);"
   ]
  },
  {
   "cell_type": "markdown",
   "metadata": {},
   "source": [
    "Agrupando por estatus podemos indertificar de estos cuantos envios aprobaron el ultimo ejercicio de cada leccion."
   ]
  },
  {
   "cell_type": "code",
   "execution_count": 13,
   "metadata": {
    "colab": {
     "base_uri": "https://localhost:8080/"
    },
    "id": "pEqmDSxwdQc-",
    "outputId": "aa03ed54-56dd-4462-ac72-5113cab3fdb5"
   },
   "outputs": [
    {
     "name": "stdout",
     "output_type": "stream",
     "text": [
      "                                           student_uid\n",
      "Estatus Lecciones_completas                           \n",
      "no_paso Llego al final de la leccion Dos           987\n",
      "        Llego al final de la leccion Uno          1152\n",
      "paso    Llego al final de la leccion Dos           210\n",
      "        Llego al final de la leccion Tres          378\n",
      "        Llego al final de la leccion Uno          1506\n"
     ]
    }
   ],
   "source": [
    "df_conj3=df.groupby(['Estatus','Lecciones_completas']).agg({'student_uid':'count'})\n",
    "print(df_conj3)"
   ]
  },
  {
   "cell_type": "markdown",
   "metadata": {
    "id": "7ZSx3l3HekBD"
   },
   "source": [
    "*De estos datos se pueden observar que el 100% de envios que llegan al ultimo ejercicio de la leccion 3 lo aprueban. La leccion 1 tiene mas intentos de envios y de estos la mayoria aprueba.*\n",
    "\n",
    "*Se oberva una notable baja entre la cantidad de envios por leccion.*"
   ]
  },
  {
   "cell_type": "code",
   "execution_count": 15,
   "metadata": {
    "colab": {
     "base_uri": "https://localhost:8080/"
    },
    "id": "Zv_Pa-dpEWwR",
    "outputId": "91b07a45-e013-4c72-d329-66c8d0cc1571"
   },
   "outputs": [
    {
     "name": "stdout",
     "output_type": "stream",
     "text": [
      "                                           student_uid\n",
      "Estatus Lecciones_completas                           \n",
      "no_paso Llego al final de la leccion Dos           173\n",
      "        Llego al final de la leccion Uno           148\n",
      "paso    Llego al final de la leccion Dos           204\n",
      "        Llego al final de la leccion Tres          195\n",
      "        Llego al final de la leccion Uno           243\n"
     ]
    }
   ],
   "source": [
    "#Cantidad de estudiantes que aprueban y/o desaprueban cada leccion\n",
    "df_conj5=df.groupby(['Estatus','Lecciones_completas']).agg({'student_uid': (lambda x: len(set(x)))})\n",
    "print(df_conj5)"
   ]
  },
  {
   "cell_type": "code",
   "execution_count": 16,
   "metadata": {
    "colab": {
     "base_uri": "https://localhost:8080/",
     "height": 416
    },
    "id": "2RZFoGa5diDA",
    "outputId": "78206d53-c147-4994-fcd2-1bf5673358ce"
   },
   "outputs": [
    {
     "data": {
      "text/html": [
       "\n",
       "\n",
       "\n",
       "\n",
       "\n",
       "\n",
       "  <div class=\"bk-root\" id=\"f25521b6-1a74-480b-9d6c-b68833608459\" data-root-id=\"1165\"></div>\n"
      ]
     },
     "metadata": {},
     "output_type": "display_data"
    },
    {
     "data": {
      "application/javascript": [
       "(function(root) {\n",
       "  function embed_document(root) {\n",
       "    \n",
       "  var docs_json = {\"e5d217b6-715b-4ab4-bec0-661c1e2297dd\":{\"roots\":{\"references\":[{\"attributes\":{\"below\":[{\"id\":\"1176\"}],\"center\":[{\"id\":\"1179\"},{\"id\":\"1183\"},{\"id\":\"1214\"}],\"left\":[{\"id\":\"1180\"}],\"output_backend\":\"webgl\",\"plot_height\":400,\"renderers\":[{\"id\":\"1205\"}],\"sizing_mode\":\"fixed\",\"title\":{\"id\":\"1166\"},\"toolbar\":{\"id\":\"1191\"},\"x_range\":{\"id\":\"1168\"},\"x_scale\":{\"id\":\"1172\"},\"y_range\":{\"id\":\"1170\"},\"y_scale\":{\"id\":\"1174\"}},\"id\":\"1165\",\"subtype\":\"Figure\",\"type\":\"Plot\"},{\"attributes\":{},\"id\":\"1168\",\"type\":\"DataRange1d\"},{\"attributes\":{\"callback\":null,\"mode\":\"hline\",\"renderers\":[{\"id\":\"1205\"}],\"tooltips\":[[\"x\",\"@__x__values_original\"],[\"student_uid\",\"@{student_uid}\"]]},\"id\":\"1216\",\"type\":\"HoverTool\"},{\"attributes\":{},\"id\":\"1174\",\"type\":\"LinearScale\"},{\"attributes\":{},\"id\":\"1208\",\"type\":\"BasicTickFormatter\"},{\"attributes\":{},\"id\":\"1170\",\"type\":\"DataRange1d\"},{\"attributes\":{\"axis_label\":\"student_uid\",\"formatter\":{\"id\":\"1208\"},\"ticker\":{\"id\":\"1177\"}},\"id\":\"1176\",\"type\":\"LinearAxis\"},{\"attributes\":{},\"id\":\"1172\",\"type\":\"LinearScale\"},{\"attributes\":{},\"id\":\"1189\",\"type\":\"HelpTool\"},{\"attributes\":{\"axis\":{\"id\":\"1176\"},\"ticker\":null},\"id\":\"1179\",\"type\":\"Grid\"},{\"attributes\":{},\"id\":\"1177\",\"type\":\"BasicTicker\"},{\"attributes\":{\"formatter\":{\"id\":\"1198\"},\"ticker\":{\"id\":\"1218\"}},\"id\":\"1180\",\"type\":\"LinearAxis\"},{\"attributes\":{\"code\":\"\\n                                    var labels = {0: \\\"('no_paso', 'Llego al final de la leccion Dos')\\\", 1: \\\"('no_paso', 'Llego al final de la leccion Uno')\\\", 2: \\\"('paso', 'Llego al final de la leccion Dos')\\\", 3: \\\"('paso', 'Llego al final de la leccion Tres')\\\", 4: \\\"('paso', 'Llego al final de la leccion Uno')\\\"};\\n                                    return labels[tick];\\n                                    \"},\"id\":\"1198\",\"type\":\"FuncTickFormatter\"},{\"attributes\":{\"axis\":{\"id\":\"1180\"},\"dimension\":1,\"ticker\":null},\"id\":\"1183\",\"type\":\"Grid\"},{\"attributes\":{\"text\":\"\"},\"id\":\"1166\",\"type\":\"Title\"},{\"attributes\":{\"fill_alpha\":{\"value\":0.1},\"fill_color\":{\"value\":\"#1f77b4\"},\"height\":{\"value\":0.8},\"left\":{\"expr\":{\"id\":\"1200\"}},\"line_alpha\":{\"value\":0.1},\"line_color\":{\"value\":\"#1f77b4\"},\"line_width\":{\"value\":2},\"right\":{\"expr\":{\"id\":\"1201\"}},\"y\":{\"field\":\"__x__values\"}},\"id\":\"1204\",\"type\":\"HBar\"},{\"attributes\":{\"fill_color\":{\"value\":\"#1f77b4\"},\"height\":{\"value\":0.8},\"left\":{\"expr\":{\"id\":\"1200\"}},\"line_color\":{\"value\":\"#1f77b4\"},\"line_width\":{\"value\":2},\"right\":{\"expr\":{\"id\":\"1201\"}},\"y\":{\"field\":\"__x__values\"}},\"id\":\"1203\",\"type\":\"HBar\"},{\"attributes\":{},\"id\":\"1185\",\"type\":\"WheelZoomTool\"},{\"attributes\":{},\"id\":\"1184\",\"type\":\"PanTool\"},{\"attributes\":{\"overlay\":{\"id\":\"1190\"}},\"id\":\"1186\",\"type\":\"BoxZoomTool\"},{\"attributes\":{},\"id\":\"1187\",\"type\":\"SaveTool\"},{\"attributes\":{\"active_drag\":\"auto\",\"active_inspect\":\"auto\",\"active_multi\":null,\"active_scroll\":{\"id\":\"1185\"},\"active_tap\":\"auto\",\"tools\":[{\"id\":\"1184\"},{\"id\":\"1185\"},{\"id\":\"1186\"},{\"id\":\"1187\"},{\"id\":\"1188\"},{\"id\":\"1189\"},{\"id\":\"1216\"}]},\"id\":\"1191\",\"type\":\"Toolbar\"},{\"attributes\":{},\"id\":\"1188\",\"type\":\"ResetTool\"},{\"attributes\":{\"fields\":[\"student_uid\"]},\"id\":\"1201\",\"type\":\"Stack\"},{\"attributes\":{},\"id\":\"1213\",\"type\":\"UnionRenderers\"},{\"attributes\":{\"fields\":[]},\"id\":\"1200\",\"type\":\"Stack\"},{\"attributes\":{\"data\":{\"__x__values\":[0,1,2,3,4],\"__x__values_original\":[[\"no_paso\",\"Llego al final de la leccion Dos\"],[\"no_paso\",\"Llego al final de la leccion Uno\"],[\"paso\",\"Llego al final de la leccion Dos\"],[\"paso\",\"Llego al final de la leccion Tres\"],[\"paso\",\"Llego al final de la leccion Uno\"]],\"student_uid\":[173,148,204,195,243]},\"selected\":{\"id\":\"1212\"},\"selection_policy\":{\"id\":\"1213\"}},\"id\":\"1164\",\"type\":\"ColumnDataSource\"},{\"attributes\":{\"source\":{\"id\":\"1164\"}},\"id\":\"1206\",\"type\":\"CDSView\"},{\"attributes\":{\"data_source\":{\"id\":\"1164\"},\"glyph\":{\"id\":\"1203\"},\"hover_glyph\":null,\"muted_glyph\":null,\"name\":\"student_uid\",\"nonselection_glyph\":{\"id\":\"1204\"},\"selection_glyph\":null,\"view\":{\"id\":\"1206\"}},\"id\":\"1205\",\"type\":\"GlyphRenderer\"},{\"attributes\":{},\"id\":\"1212\",\"type\":\"Selection\"},{\"attributes\":{\"label\":{\"value\":\"student_uid\"},\"renderers\":[{\"id\":\"1205\"}]},\"id\":\"1215\",\"type\":\"LegendItem\"},{\"attributes\":{\"bottom_units\":\"screen\",\"fill_alpha\":0.5,\"fill_color\":\"lightgrey\",\"left_units\":\"screen\",\"level\":\"overlay\",\"line_alpha\":1.0,\"line_color\":\"black\",\"line_dash\":[4,4],\"line_width\":2,\"right_units\":\"screen\",\"top_units\":\"screen\"},\"id\":\"1190\",\"type\":\"BoxAnnotation\"},{\"attributes\":{\"ticks\":[0,1,2,3,4]},\"id\":\"1218\",\"type\":\"FixedTicker\"},{\"attributes\":{\"items\":[{\"id\":\"1215\"}]},\"id\":\"1214\",\"type\":\"Legend\"}],\"root_ids\":[\"1165\"]},\"title\":\"Bokeh Application\",\"version\":\"2.2.3\"}};\n",
       "  var render_items = [{\"docid\":\"e5d217b6-715b-4ab4-bec0-661c1e2297dd\",\"root_ids\":[\"1165\"],\"roots\":{\"1165\":\"f25521b6-1a74-480b-9d6c-b68833608459\"}}];\n",
       "  root.Bokeh.embed.embed_items_notebook(docs_json, render_items);\n",
       "\n",
       "  }\n",
       "  if (root.Bokeh !== undefined) {\n",
       "    embed_document(root);\n",
       "  } else {\n",
       "    var attempts = 0;\n",
       "    var timer = setInterval(function(root) {\n",
       "      if (root.Bokeh !== undefined) {\n",
       "        clearInterval(timer);\n",
       "        embed_document(root);\n",
       "      } else {\n",
       "        attempts++;\n",
       "        if (attempts > 100) {\n",
       "          clearInterval(timer);\n",
       "          console.log(\"Bokeh: ERROR: Unable to run BokehJS code because BokehJS library is missing\");\n",
       "        }\n",
       "      }\n",
       "    }, 10, root)\n",
       "  }\n",
       "})(window);"
      ],
      "application/vnd.bokehjs_exec.v0+json": ""
     },
     "metadata": {
      "application/vnd.bokehjs_exec.v0+json": {
       "id": "1165"
      }
     },
     "output_type": "display_data"
    }
   ],
   "source": [
    "df_conj5.plot_bokeh(kind='barh',stacked=True);"
   ]
  },
  {
   "cell_type": "code",
   "execution_count": 17,
   "metadata": {
    "colab": {
     "base_uri": "https://localhost:8080/"
    },
    "id": "zl44aLkcA4lz",
    "outputId": "f06072b7-5908-43a5-d091-8f90aafac5c2"
   },
   "outputs": [
    {
     "name": "stdout",
     "output_type": "stream",
     "text": [
      "no_paso    33664\n",
      "paso       13519\n",
      "Name: Estatus, dtype: int64\n"
     ]
    }
   ],
   "source": [
    "#Frecuencia de estatus por cantidad total de intentos\n",
    "freq_estatus_envio = df['Estatus'].value_counts() \n",
    "print(freq_estatus_envio) "
   ]
  },
  {
   "cell_type": "markdown",
   "metadata": {},
   "source": [
    "Relacion porcentual de los intentos por estatus"
   ]
  },
  {
   "cell_type": "code",
   "execution_count": 18,
   "metadata": {
    "colab": {
     "base_uri": "https://localhost:8080/"
    },
    "id": "fpYZQvWmlB_L",
    "outputId": "08222e14-3bb8-4fab-99f8-8da7dfb2871c"
   },
   "outputs": [
    {
     "data": {
      "text/plain": [
       "no_paso    71.347731\n",
       "paso       28.652269\n",
       "Name: Estatus, dtype: float64"
      ]
     },
     "execution_count": 18,
     "metadata": {},
     "output_type": "execute_result"
    }
   ],
   "source": [
    "100 * df['Estatus'].value_counts() / len(df['submission_status'])"
   ]
  },
  {
   "cell_type": "markdown",
   "metadata": {},
   "source": [
    "Grafica del promedio del estatus de los ejercicios"
   ]
  },
  {
   "cell_type": "code",
   "execution_count": 19,
   "metadata": {
    "colab": {
     "base_uri": "https://localhost:8080/",
     "height": 373
    },
    "id": "YoGRQMilqBiC",
    "outputId": "ac706359-2043-42a7-96bf-833487ce6715"
   },
   "outputs": [
    {
     "data": {
      "image/png": "[encoded data removed]",
      "text/plain": [
       "<Figure size 432x432 with 1 Axes>"
      ]
     },
     "metadata": {},
     "output_type": "display_data"
    }
   ],
   "source": [
    "plot = df['Estatus'].value_counts().plot(kind='pie', autopct='%.2f', \n",
    "                                            figsize=(6, 6),\n",
    "                                            title='Frecuencia Estado del envio')"
   ]
  },
  {
   "cell_type": "markdown",
   "metadata": {
    "id": "14Jpl_WFo_m0"
   },
   "source": [
    "Como se puede visualizar en los datos como en las graficas, la mayor cantidad de intentos tiene como estatus NO PASO, y esto se traduce en los intentos por ejercicio. "
   ]
  },
  {
   "cell_type": "code",
   "execution_count": 21,
   "metadata": {
    "colab": {
     "base_uri": "https://localhost:8080/",
     "height": 591
    },
    "id": "i_xHKgElHCc3",
    "outputId": "cd3697a9-19ab-4c40-f6b8-c664386c9c9a"
   },
   "outputs": [
    {
     "data": {
      "image/png": "[encoded data removed]",
      "text/plain": [
       "<Figure size 2520x720 with 1 Axes>"
      ]
     },
     "metadata": {
      "needs_background": "light"
     },
     "output_type": "display_data"
    }
   ],
   "source": [
    "fig=plt.figure(figsize=(35,10))\n",
    "\n",
    "seaborn.histplot(data=df,  # the long-formatted data frame\n",
    "kde=True,     # draw kernel density estimation line as well\n",
    "stat='frequency',  # the y-axis is the frequency\n",
    "x='exercise_name',  # the column of dataframe we want to visualize\n",
    "hue='Estatus',    # the categorical column\n",
    "multiple='layer',   # how to lay out different categories's data\n",
    "kde_kws={'bw_adjust':5},   # adjust the smoothness of kde curve\n",
    "line_kws={'linewidth':7}, #adjust the aesthetic element of kde curve\n",
    "palette='Set2')\n",
    "plt.xticks(rotation=90);\n"
   ]
  },
  {
   "cell_type": "markdown",
   "metadata": {
    "id": "AVKVMSFwv8Ue"
   },
   "source": [
    "### Hipotesis 3: Todos los ejercicios tienen igual cantidad de fallos.\n",
    "Con la siguiente tabla se comprueba que estos es FALSO"
   ]
  },
  {
   "cell_type": "code",
   "execution_count": 23,
   "metadata": {
    "colab": {
     "base_uri": "https://localhost:8080/",
     "height": 1000
    },
    "id": "k8ZhZvRVvh45",
    "outputId": "808ff310-2359-4629-c1d1-a2ef3926c478"
   },
   "outputs": [
    {
     "data": {
      "text/html": [
       "<div>\n",
       "<style scoped>\n",
       "    .dataframe tbody tr th:only-of-type {\n",
       "        vertical-align: middle;\n",
       "    }\n",
       "\n",
       "    .dataframe tbody tr th {\n",
       "        vertical-align: top;\n",
       "    }\n",
       "\n",
       "    .dataframe thead tr th {\n",
       "        text-align: left;\n",
       "    }\n",
       "\n",
       "    .dataframe thead tr:last-of-type th {\n",
       "        text-align: right;\n",
       "    }\n",
       "</style>\n",
       "<table border=\"1\" class=\"dataframe\">\n",
       "  <thead>\n",
       "    <tr>\n",
       "      <th></th>\n",
       "      <th colspan=\"8\" halign=\"left\">student_uid</th>\n",
       "    </tr>\n",
       "    <tr>\n",
       "      <th></th>\n",
       "      <th>count</th>\n",
       "      <th>mean</th>\n",
       "      <th>std</th>\n",
       "      <th>min</th>\n",
       "      <th>25%</th>\n",
       "      <th>50%</th>\n",
       "      <th>75%</th>\n",
       "      <th>max</th>\n",
       "    </tr>\n",
       "    <tr>\n",
       "      <th>exercise_name</th>\n",
       "      <th></th>\n",
       "      <th></th>\n",
       "      <th></th>\n",
       "      <th></th>\n",
       "      <th></th>\n",
       "      <th></th>\n",
       "      <th></th>\n",
       "      <th></th>\n",
       "    </tr>\n",
       "  </thead>\n",
       "  <tbody>\n",
       "    <tr>\n",
       "      <th>Booleanos</th>\n",
       "      <td>1275.0</td>\n",
       "      <td>215.890196</td>\n",
       "      <td>81.516526</td>\n",
       "      <td>-1.0</td>\n",
       "      <td>149.50</td>\n",
       "      <td>216.0</td>\n",
       "      <td>281.50</td>\n",
       "      <td>355.0</td>\n",
       "    </tr>\n",
       "    <tr>\n",
       "      <th>Calefones / Poniendo topes</th>\n",
       "      <td>1423.0</td>\n",
       "      <td>209.815882</td>\n",
       "      <td>81.500131</td>\n",
       "      <td>-1.0</td>\n",
       "      <td>150.00</td>\n",
       "      <td>209.0</td>\n",
       "      <td>281.50</td>\n",
       "      <td>353.0</td>\n",
       "    </tr>\n",
       "    <tr>\n",
       "      <th>Cara o ceca</th>\n",
       "      <td>860.0</td>\n",
       "      <td>219.182558</td>\n",
       "      <td>66.087468</td>\n",
       "      <td>-1.0</td>\n",
       "      <td>161.00</td>\n",
       "      <td>216.0</td>\n",
       "      <td>271.25</td>\n",
       "      <td>353.0</td>\n",
       "    </tr>\n",
       "    <tr>\n",
       "      <th>Cartelitos</th>\n",
       "      <td>1574.0</td>\n",
       "      <td>225.130241</td>\n",
       "      <td>74.593479</td>\n",
       "      <td>-1.0</td>\n",
       "      <td>169.25</td>\n",
       "      <td>222.5</td>\n",
       "      <td>288.00</td>\n",
       "      <td>363.0</td>\n",
       "    </tr>\n",
       "    <tr>\n",
       "      <th>Cartelitos óptimos</th>\n",
       "      <td>1597.0</td>\n",
       "      <td>232.542267</td>\n",
       "      <td>68.000380</td>\n",
       "      <td>-1.0</td>\n",
       "      <td>175.00</td>\n",
       "      <td>250.0</td>\n",
       "      <td>285.00</td>\n",
       "      <td>363.0</td>\n",
       "    </tr>\n",
       "    <tr>\n",
       "      <th>Comprando Hardware</th>\n",
       "      <td>827.0</td>\n",
       "      <td>228.239420</td>\n",
       "      <td>77.194423</td>\n",
       "      <td>-1.0</td>\n",
       "      <td>166.00</td>\n",
       "      <td>235.0</td>\n",
       "      <td>290.00</td>\n",
       "      <td>355.0</td>\n",
       "    </tr>\n",
       "    <tr>\n",
       "      <th>Conversiones</th>\n",
       "      <td>1513.0</td>\n",
       "      <td>225.218771</td>\n",
       "      <td>72.325820</td>\n",
       "      <td>76.0</td>\n",
       "      <td>174.00</td>\n",
       "      <td>228.0</td>\n",
       "      <td>282.00</td>\n",
       "      <td>359.0</td>\n",
       "    </tr>\n",
       "    <tr>\n",
       "      <th>Cuadrados</th>\n",
       "      <td>626.0</td>\n",
       "      <td>228.736422</td>\n",
       "      <td>72.773023</td>\n",
       "      <td>-1.0</td>\n",
       "      <td>170.25</td>\n",
       "      <td>228.0</td>\n",
       "      <td>301.00</td>\n",
       "      <td>353.0</td>\n",
       "    </tr>\n",
       "    <tr>\n",
       "      <th>El círculo de la vida</th>\n",
       "      <td>709.0</td>\n",
       "      <td>223.142454</td>\n",
       "      <td>70.454684</td>\n",
       "      <td>77.0</td>\n",
       "      <td>168.00</td>\n",
       "      <td>222.0</td>\n",
       "      <td>284.00</td>\n",
       "      <td>359.0</td>\n",
       "    </tr>\n",
       "    <tr>\n",
       "      <th>El retorno del booleano</th>\n",
       "      <td>1542.0</td>\n",
       "      <td>224.552529</td>\n",
       "      <td>70.921181</td>\n",
       "      <td>-1.0</td>\n",
       "      <td>174.00</td>\n",
       "      <td>227.0</td>\n",
       "      <td>283.00</td>\n",
       "      <td>353.0</td>\n",
       "    </tr>\n",
       "    <tr>\n",
       "      <th>Esto no tiene valor</th>\n",
       "      <td>378.0</td>\n",
       "      <td>222.730159</td>\n",
       "      <td>74.562179</td>\n",
       "      <td>77.0</td>\n",
       "      <td>163.25</td>\n",
       "      <td>222.0</td>\n",
       "      <td>290.00</td>\n",
       "      <td>359.0</td>\n",
       "    </tr>\n",
       "    <tr>\n",
       "      <th>Funciones, declaración / No tan distintos</th>\n",
       "      <td>1574.0</td>\n",
       "      <td>225.144219</td>\n",
       "      <td>82.947100</td>\n",
       "      <td>-1.0</td>\n",
       "      <td>162.00</td>\n",
       "      <td>228.0</td>\n",
       "      <td>303.00</td>\n",
       "      <td>359.0</td>\n",
       "    </tr>\n",
       "    <tr>\n",
       "      <th>Funciones, uso</th>\n",
       "      <td>1221.0</td>\n",
       "      <td>221.000000</td>\n",
       "      <td>77.798637</td>\n",
       "      <td>-1.0</td>\n",
       "      <td>162.00</td>\n",
       "      <td>226.0</td>\n",
       "      <td>288.00</td>\n",
       "      <td>353.0</td>\n",
       "    </tr>\n",
       "    <tr>\n",
       "      <th>Haciendo cuentas</th>\n",
       "      <td>1909.0</td>\n",
       "      <td>217.199057</td>\n",
       "      <td>82.167609</td>\n",
       "      <td>-1.0</td>\n",
       "      <td>149.00</td>\n",
       "      <td>220.0</td>\n",
       "      <td>288.00</td>\n",
       "      <td>353.0</td>\n",
       "    </tr>\n",
       "    <tr>\n",
       "      <th>Impresión por pantalla</th>\n",
       "      <td>509.0</td>\n",
       "      <td>218.385069</td>\n",
       "      <td>73.429013</td>\n",
       "      <td>76.0</td>\n",
       "      <td>160.00</td>\n",
       "      <td>215.0</td>\n",
       "      <td>277.00</td>\n",
       "      <td>359.0</td>\n",
       "    </tr>\n",
       "    <tr>\n",
       "      <th>Libros de la buena memoria</th>\n",
       "      <td>1273.0</td>\n",
       "      <td>199.158680</td>\n",
       "      <td>81.533716</td>\n",
       "      <td>-1.0</td>\n",
       "      <td>133.00</td>\n",
       "      <td>184.0</td>\n",
       "      <td>273.00</td>\n",
       "      <td>355.0</td>\n",
       "    </tr>\n",
       "    <tr>\n",
       "      <th>Los premios</th>\n",
       "      <td>1347.0</td>\n",
       "      <td>220.213066</td>\n",
       "      <td>73.145796</td>\n",
       "      <td>-1.0</td>\n",
       "      <td>164.00</td>\n",
       "      <td>226.0</td>\n",
       "      <td>277.00</td>\n",
       "      <td>353.0</td>\n",
       "    </tr>\n",
       "    <tr>\n",
       "      <th>Martin Fierro</th>\n",
       "      <td>1148.0</td>\n",
       "      <td>222.742160</td>\n",
       "      <td>68.778124</td>\n",
       "      <td>76.0</td>\n",
       "      <td>169.75</td>\n",
       "      <td>227.0</td>\n",
       "      <td>276.00</td>\n",
       "      <td>359.0</td>\n",
       "    </tr>\n",
       "    <tr>\n",
       "      <th>Más Cartelitos</th>\n",
       "      <td>2125.0</td>\n",
       "      <td>224.268706</td>\n",
       "      <td>72.398346</td>\n",
       "      <td>-1.0</td>\n",
       "      <td>158.00</td>\n",
       "      <td>222.0</td>\n",
       "      <td>283.00</td>\n",
       "      <td>363.0</td>\n",
       "    </tr>\n",
       "    <tr>\n",
       "      <th>Operando strings</th>\n",
       "      <td>2168.0</td>\n",
       "      <td>223.828875</td>\n",
       "      <td>73.759870</td>\n",
       "      <td>-1.0</td>\n",
       "      <td>161.00</td>\n",
       "      <td>219.0</td>\n",
       "      <td>288.25</td>\n",
       "      <td>358.0</td>\n",
       "    </tr>\n",
       "    <tr>\n",
       "      <th>Palabras, sólo palabras</th>\n",
       "      <td>2610.0</td>\n",
       "      <td>224.827969</td>\n",
       "      <td>81.744265</td>\n",
       "      <td>-1.0</td>\n",
       "      <td>161.00</td>\n",
       "      <td>222.0</td>\n",
       "      <td>298.75</td>\n",
       "      <td>355.0</td>\n",
       "    </tr>\n",
       "    <tr>\n",
       "      <th>Pienso que así es más fácil</th>\n",
       "      <td>365.0</td>\n",
       "      <td>220.980822</td>\n",
       "      <td>69.937744</td>\n",
       "      <td>77.0</td>\n",
       "      <td>172.00</td>\n",
       "      <td>224.0</td>\n",
       "      <td>274.00</td>\n",
       "      <td>359.0</td>\n",
       "    </tr>\n",
       "    <tr>\n",
       "      <th>Probando funciones</th>\n",
       "      <td>881.0</td>\n",
       "      <td>216.552781</td>\n",
       "      <td>83.767792</td>\n",
       "      <td>-1.0</td>\n",
       "      <td>147.00</td>\n",
       "      <td>217.0</td>\n",
       "      <td>292.00</td>\n",
       "      <td>353.0</td>\n",
       "    </tr>\n",
       "    <tr>\n",
       "      <th>Tipos de datos / Datos de todo tipo</th>\n",
       "      <td>2658.0</td>\n",
       "      <td>224.621520</td>\n",
       "      <td>69.887988</td>\n",
       "      <td>-1.0</td>\n",
       "      <td>172.00</td>\n",
       "      <td>223.0</td>\n",
       "      <td>283.00</td>\n",
       "      <td>353.0</td>\n",
       "    </tr>\n",
       "    <tr>\n",
       "      <th>Triangulos</th>\n",
       "      <td>690.0</td>\n",
       "      <td>230.418841</td>\n",
       "      <td>69.516388</td>\n",
       "      <td>-1.0</td>\n",
       "      <td>173.00</td>\n",
       "      <td>231.0</td>\n",
       "      <td>291.00</td>\n",
       "      <td>362.0</td>\n",
       "    </tr>\n",
       "    <tr>\n",
       "      <th>Variables globales</th>\n",
       "      <td>1262.0</td>\n",
       "      <td>218.079239</td>\n",
       "      <td>75.423773</td>\n",
       "      <td>76.0</td>\n",
       "      <td>152.00</td>\n",
       "      <td>227.0</td>\n",
       "      <td>283.00</td>\n",
       "      <td>359.0</td>\n",
       "    </tr>\n",
       "    <tr>\n",
       "      <th>Volviéndonos ricos</th>\n",
       "      <td>1187.0</td>\n",
       "      <td>224.778433</td>\n",
       "      <td>69.397654</td>\n",
       "      <td>76.0</td>\n",
       "      <td>175.50</td>\n",
       "      <td>223.0</td>\n",
       "      <td>283.00</td>\n",
       "      <td>359.0</td>\n",
       "    </tr>\n",
       "    <tr>\n",
       "      <th>¡Envido!</th>\n",
       "      <td>835.0</td>\n",
       "      <td>219.021557</td>\n",
       "      <td>70.972718</td>\n",
       "      <td>-1.0</td>\n",
       "      <td>159.50</td>\n",
       "      <td>219.0</td>\n",
       "      <td>279.00</td>\n",
       "      <td>353.0</td>\n",
       "    </tr>\n",
       "    <tr>\n",
       "      <th>¡GRITAR!</th>\n",
       "      <td>1571.0</td>\n",
       "      <td>225.773393</td>\n",
       "      <td>76.215732</td>\n",
       "      <td>-1.0</td>\n",
       "      <td>163.00</td>\n",
       "      <td>242.0</td>\n",
       "      <td>285.00</td>\n",
       "      <td>353.0</td>\n",
       "    </tr>\n",
       "    <tr>\n",
       "      <th>¡Quiero retruco!</th>\n",
       "      <td>1071.0</td>\n",
       "      <td>221.116713</td>\n",
       "      <td>69.541559</td>\n",
       "      <td>-1.0</td>\n",
       "      <td>165.00</td>\n",
       "      <td>218.0</td>\n",
       "      <td>279.50</td>\n",
       "      <td>353.0</td>\n",
       "    </tr>\n",
       "    <tr>\n",
       "      <th>¡Quiero vale cuatro!</th>\n",
       "      <td>571.0</td>\n",
       "      <td>226.865149</td>\n",
       "      <td>69.467430</td>\n",
       "      <td>-1.0</td>\n",
       "      <td>164.00</td>\n",
       "      <td>229.0</td>\n",
       "      <td>283.00</td>\n",
       "      <td>353.0</td>\n",
       "    </tr>\n",
       "    <tr>\n",
       "      <th>¿De qué signo sos?</th>\n",
       "      <td>1553.0</td>\n",
       "      <td>210.297489</td>\n",
       "      <td>70.732027</td>\n",
       "      <td>-1.0</td>\n",
       "      <td>154.00</td>\n",
       "      <td>214.0</td>\n",
       "      <td>271.00</td>\n",
       "      <td>353.0</td>\n",
       "    </tr>\n",
       "    <tr>\n",
       "      <th>¿Está afinado?</th>\n",
       "      <td>626.0</td>\n",
       "      <td>225.081470</td>\n",
       "      <td>72.476853</td>\n",
       "      <td>-1.0</td>\n",
       "      <td>165.00</td>\n",
       "      <td>233.0</td>\n",
       "      <td>283.00</td>\n",
       "      <td>353.0</td>\n",
       "    </tr>\n",
       "    <tr>\n",
       "      <th>¿Está cerca?</th>\n",
       "      <td>1197.0</td>\n",
       "      <td>222.948204</td>\n",
       "      <td>71.885609</td>\n",
       "      <td>-1.0</td>\n",
       "      <td>160.00</td>\n",
       "      <td>225.0</td>\n",
       "      <td>285.00</td>\n",
       "      <td>353.0</td>\n",
       "    </tr>\n",
       "    <tr>\n",
       "      <th>¿Me conviene?</th>\n",
       "      <td>2066.0</td>\n",
       "      <td>220.209100</td>\n",
       "      <td>72.108889</td>\n",
       "      <td>-1.0</td>\n",
       "      <td>160.25</td>\n",
       "      <td>219.0</td>\n",
       "      <td>283.00</td>\n",
       "      <td>361.0</td>\n",
       "    </tr>\n",
       "    <tr>\n",
       "      <th>¿Y el program?</th>\n",
       "      <td>234.0</td>\n",
       "      <td>222.269231</td>\n",
       "      <td>74.944215</td>\n",
       "      <td>76.0</td>\n",
       "      <td>163.25</td>\n",
       "      <td>220.5</td>\n",
       "      <td>285.75</td>\n",
       "      <td>359.0</td>\n",
       "    </tr>\n",
       "    <tr>\n",
       "      <th>¿Y el tablero?</th>\n",
       "      <td>504.0</td>\n",
       "      <td>216.140873</td>\n",
       "      <td>80.728357</td>\n",
       "      <td>76.0</td>\n",
       "      <td>151.75</td>\n",
       "      <td>222.0</td>\n",
       "      <td>285.00</td>\n",
       "      <td>359.0</td>\n",
       "    </tr>\n",
       "    <tr>\n",
       "      <th>¿Y esto cuánto vale?</th>\n",
       "      <td>512.0</td>\n",
       "      <td>225.810547</td>\n",
       "      <td>69.069984</td>\n",
       "      <td>76.0</td>\n",
       "      <td>172.75</td>\n",
       "      <td>227.0</td>\n",
       "      <td>281.00</td>\n",
       "      <td>359.0</td>\n",
       "    </tr>\n",
       "    <tr>\n",
       "      <th>¿Y los procedimientos?</th>\n",
       "      <td>236.0</td>\n",
       "      <td>230.216102</td>\n",
       "      <td>71.629543</td>\n",
       "      <td>76.0</td>\n",
       "      <td>173.75</td>\n",
       "      <td>238.0</td>\n",
       "      <td>286.25</td>\n",
       "      <td>359.0</td>\n",
       "    </tr>\n",
       "    <tr>\n",
       "      <th>¿Y qué tal si...?</th>\n",
       "      <td>956.0</td>\n",
       "      <td>225.926778</td>\n",
       "      <td>75.428971</td>\n",
       "      <td>-1.0</td>\n",
       "      <td>165.00</td>\n",
       "      <td>231.0</td>\n",
       "      <td>293.00</td>\n",
       "      <td>353.0</td>\n",
       "    </tr>\n",
       "  </tbody>\n",
       "</table>\n",
       "</div>"
      ],
      "text/plain": [
       "                                          student_uid                         \\\n",
       "                                                count        mean        std   \n",
       "exercise_name                                                                  \n",
       "Booleanos                                      1275.0  215.890196  81.516526   \n",
       "Calefones / Poniendo topes                     1423.0  209.815882  81.500131   \n",
       "Cara o ceca                                     860.0  219.182558  66.087468   \n",
       "Cartelitos                                     1574.0  225.130241  74.593479   \n",
       "Cartelitos óptimos                             1597.0  232.542267  68.000380   \n",
       "Comprando Hardware                              827.0  228.239420  77.194423   \n",
       "Conversiones                                   1513.0  225.218771  72.325820   \n",
       "Cuadrados                                       626.0  228.736422  72.773023   \n",
       "El círculo de la vida                           709.0  223.142454  70.454684   \n",
       "El retorno del booleano                        1542.0  224.552529  70.921181   \n",
       "Esto no tiene valor                             378.0  222.730159  74.562179   \n",
       "Funciones, declaración / No tan distintos      1574.0  225.144219  82.947100   \n",
       "Funciones, uso                                 1221.0  221.000000  77.798637   \n",
       "Haciendo cuentas                               1909.0  217.199057  82.167609   \n",
       "Impresión por pantalla                          509.0  218.385069  73.429013   \n",
       "Libros de la buena memoria                     1273.0  199.158680  81.533716   \n",
       "Los premios                                    1347.0  220.213066  73.145796   \n",
       "Martin Fierro                                  1148.0  222.742160  68.778124   \n",
       "Más Cartelitos                                 2125.0  224.268706  72.398346   \n",
       "Operando strings                               2168.0  223.828875  73.759870   \n",
       "Palabras, sólo palabras                        2610.0  224.827969  81.744265   \n",
       "Pienso que así es más fácil                     365.0  220.980822  69.937744   \n",
       "Probando funciones                              881.0  216.552781  83.767792   \n",
       "Tipos de datos / Datos de todo tipo            2658.0  224.621520  69.887988   \n",
       "Triangulos                                      690.0  230.418841  69.516388   \n",
       "Variables globales                             1262.0  218.079239  75.423773   \n",
       "Volviéndonos ricos                             1187.0  224.778433  69.397654   \n",
       "¡Envido!                                        835.0  219.021557  70.972718   \n",
       "¡GRITAR!                                       1571.0  225.773393  76.215732   \n",
       "¡Quiero retruco!                               1071.0  221.116713  69.541559   \n",
       "¡Quiero vale cuatro!                            571.0  226.865149  69.467430   \n",
       "¿De qué signo sos?                             1553.0  210.297489  70.732027   \n",
       "¿Está afinado?                                  626.0  225.081470  72.476853   \n",
       "¿Está cerca?                                   1197.0  222.948204  71.885609   \n",
       "¿Me conviene?                                  2066.0  220.209100  72.108889   \n",
       "¿Y el program?                                  234.0  222.269231  74.944215   \n",
       "¿Y el tablero?                                  504.0  216.140873  80.728357   \n",
       "¿Y esto cuánto vale?                            512.0  225.810547  69.069984   \n",
       "¿Y los procedimientos?                          236.0  230.216102  71.629543   \n",
       "¿Y qué tal si...?                               956.0  225.926778  75.428971   \n",
       "\n",
       "                                                                               \n",
       "                                            min     25%    50%     75%    max  \n",
       "exercise_name                                                                  \n",
       "Booleanos                                  -1.0  149.50  216.0  281.50  355.0  \n",
       "Calefones / Poniendo topes                 -1.0  150.00  209.0  281.50  353.0  \n",
       "Cara o ceca                                -1.0  161.00  216.0  271.25  353.0  \n",
       "Cartelitos                                 -1.0  169.25  222.5  288.00  363.0  \n",
       "Cartelitos óptimos                         -1.0  175.00  250.0  285.00  363.0  \n",
       "Comprando Hardware                         -1.0  166.00  235.0  290.00  355.0  \n",
       "Conversiones                               76.0  174.00  228.0  282.00  359.0  \n",
       "Cuadrados                                  -1.0  170.25  228.0  301.00  353.0  \n",
       "El círculo de la vida                      77.0  168.00  222.0  284.00  359.0  \n",
       "El retorno del booleano                    -1.0  174.00  227.0  283.00  353.0  \n",
       "Esto no tiene valor                        77.0  163.25  222.0  290.00  359.0  \n",
       "Funciones, declaración / No tan distintos  -1.0  162.00  228.0  303.00  359.0  \n",
       "Funciones, uso                             -1.0  162.00  226.0  288.00  353.0  \n",
       "Haciendo cuentas                           -1.0  149.00  220.0  288.00  353.0  \n",
       "Impresión por pantalla                     76.0  160.00  215.0  277.00  359.0  \n",
       "Libros de la buena memoria                 -1.0  133.00  184.0  273.00  355.0  \n",
       "Los premios                                -1.0  164.00  226.0  277.00  353.0  \n",
       "Martin Fierro                              76.0  169.75  227.0  276.00  359.0  \n",
       "Más Cartelitos                             -1.0  158.00  222.0  283.00  363.0  \n",
       "Operando strings                           -1.0  161.00  219.0  288.25  358.0  \n",
       "Palabras, sólo palabras                    -1.0  161.00  222.0  298.75  355.0  \n",
       "Pienso que así es más fácil                77.0  172.00  224.0  274.00  359.0  \n",
       "Probando funciones                         -1.0  147.00  217.0  292.00  353.0  \n",
       "Tipos de datos / Datos de todo tipo        -1.0  172.00  223.0  283.00  353.0  \n",
       "Triangulos                                 -1.0  173.00  231.0  291.00  362.0  \n",
       "Variables globales                         76.0  152.00  227.0  283.00  359.0  \n",
       "Volviéndonos ricos                         76.0  175.50  223.0  283.00  359.0  \n",
       "¡Envido!                                   -1.0  159.50  219.0  279.00  353.0  \n",
       "¡GRITAR!                                   -1.0  163.00  242.0  285.00  353.0  \n",
       "¡Quiero retruco!                           -1.0  165.00  218.0  279.50  353.0  \n",
       "¡Quiero vale cuatro!                       -1.0  164.00  229.0  283.00  353.0  \n",
       "¿De qué signo sos?                         -1.0  154.00  214.0  271.00  353.0  \n",
       "¿Está afinado?                             -1.0  165.00  233.0  283.00  353.0  \n",
       "¿Está cerca?                               -1.0  160.00  225.0  285.00  353.0  \n",
       "¿Me conviene?                              -1.0  160.25  219.0  283.00  361.0  \n",
       "¿Y el program?                             76.0  163.25  220.5  285.75  359.0  \n",
       "¿Y el tablero?                             76.0  151.75  222.0  285.00  359.0  \n",
       "¿Y esto cuánto vale?                       76.0  172.75  227.0  281.00  359.0  \n",
       "¿Y los procedimientos?                     76.0  173.75  238.0  286.25  359.0  \n",
       "¿Y qué tal si...?                          -1.0  165.00  231.0  293.00  353.0  "
      ]
     },
     "execution_count": 23,
     "metadata": {},
     "output_type": "execute_result"
    }
   ],
   "source": [
    "df[['student_uid', 'exercise_name']].groupby('exercise_name').describe()"
   ]
  },
  {
   "cell_type": "markdown",
   "metadata": {},
   "source": [
    "Frecuencia de estatus por ejercicio"
   ]
  },
  {
   "cell_type": "code",
   "execution_count": 24,
   "metadata": {
    "colab": {
     "base_uri": "https://localhost:8080/",
     "height": 1000
    },
    "id": "T7XRcx_Lf4b9",
    "outputId": "f4d7b0db-eb46-427d-9d8b-0c84059b83eb"
   },
   "outputs": [
    {
     "data": {
      "text/html": [
       "<div>\n",
       "<style scoped>\n",
       "    .dataframe tbody tr th:only-of-type {\n",
       "        vertical-align: middle;\n",
       "    }\n",
       "\n",
       "    .dataframe tbody tr th {\n",
       "        vertical-align: top;\n",
       "    }\n",
       "\n",
       "    .dataframe thead th {\n",
       "        text-align: right;\n",
       "    }\n",
       "</style>\n",
       "<table border=\"1\" class=\"dataframe\">\n",
       "  <thead>\n",
       "    <tr style=\"text-align: right;\">\n",
       "      <th>Estatus</th>\n",
       "      <th>no_paso</th>\n",
       "      <th>paso</th>\n",
       "    </tr>\n",
       "    <tr>\n",
       "      <th>exercise_name</th>\n",
       "      <th></th>\n",
       "      <th></th>\n",
       "    </tr>\n",
       "  </thead>\n",
       "  <tbody>\n",
       "    <tr>\n",
       "      <th>Booleanos</th>\n",
       "      <td>1022.0</td>\n",
       "      <td>253.0</td>\n",
       "    </tr>\n",
       "    <tr>\n",
       "      <th>Calefones / Poniendo topes</th>\n",
       "      <td>1152.0</td>\n",
       "      <td>271.0</td>\n",
       "    </tr>\n",
       "    <tr>\n",
       "      <th>Cara o ceca</th>\n",
       "      <td>655.0</td>\n",
       "      <td>205.0</td>\n",
       "    </tr>\n",
       "    <tr>\n",
       "      <th>Cartelitos</th>\n",
       "      <td>1345.0</td>\n",
       "      <td>229.0</td>\n",
       "    </tr>\n",
       "    <tr>\n",
       "      <th>Cartelitos óptimos</th>\n",
       "      <td>1402.0</td>\n",
       "      <td>195.0</td>\n",
       "    </tr>\n",
       "    <tr>\n",
       "      <th>Comprando Hardware</th>\n",
       "      <td>595.0</td>\n",
       "      <td>232.0</td>\n",
       "    </tr>\n",
       "    <tr>\n",
       "      <th>Conversiones</th>\n",
       "      <td>1304.0</td>\n",
       "      <td>209.0</td>\n",
       "    </tr>\n",
       "    <tr>\n",
       "      <th>Cuadrados</th>\n",
       "      <td>408.0</td>\n",
       "      <td>218.0</td>\n",
       "    </tr>\n",
       "    <tr>\n",
       "      <th>El círculo de la vida</th>\n",
       "      <td>508.0</td>\n",
       "      <td>201.0</td>\n",
       "    </tr>\n",
       "    <tr>\n",
       "      <th>El retorno del booleano</th>\n",
       "      <td>1299.0</td>\n",
       "      <td>243.0</td>\n",
       "    </tr>\n",
       "    <tr>\n",
       "      <th>Esto no tiene valor</th>\n",
       "      <td>NaN</td>\n",
       "      <td>378.0</td>\n",
       "    </tr>\n",
       "    <tr>\n",
       "      <th>Funciones, declaración / No tan distintos</th>\n",
       "      <td>1040.0</td>\n",
       "      <td>534.0</td>\n",
       "    </tr>\n",
       "    <tr>\n",
       "      <th>Funciones, uso</th>\n",
       "      <td>943.0</td>\n",
       "      <td>278.0</td>\n",
       "    </tr>\n",
       "    <tr>\n",
       "      <th>Haciendo cuentas</th>\n",
       "      <td>NaN</td>\n",
       "      <td>1909.0</td>\n",
       "    </tr>\n",
       "    <tr>\n",
       "      <th>Impresión por pantalla</th>\n",
       "      <td>NaN</td>\n",
       "      <td>509.0</td>\n",
       "    </tr>\n",
       "    <tr>\n",
       "      <th>Libros de la buena memoria</th>\n",
       "      <td>1006.0</td>\n",
       "      <td>267.0</td>\n",
       "    </tr>\n",
       "    <tr>\n",
       "      <th>Los premios</th>\n",
       "      <td>1120.0</td>\n",
       "      <td>227.0</td>\n",
       "    </tr>\n",
       "    <tr>\n",
       "      <th>Martin Fierro</th>\n",
       "      <td>953.0</td>\n",
       "      <td>195.0</td>\n",
       "    </tr>\n",
       "    <tr>\n",
       "      <th>Más Cartelitos</th>\n",
       "      <td>1899.0</td>\n",
       "      <td>226.0</td>\n",
       "    </tr>\n",
       "    <tr>\n",
       "      <th>Operando strings</th>\n",
       "      <td>1915.0</td>\n",
       "      <td>253.0</td>\n",
       "    </tr>\n",
       "    <tr>\n",
       "      <th>Palabras, sólo palabras</th>\n",
       "      <td>2365.0</td>\n",
       "      <td>245.0</td>\n",
       "    </tr>\n",
       "    <tr>\n",
       "      <th>Pienso que así es más fácil</th>\n",
       "      <td>171.0</td>\n",
       "      <td>194.0</td>\n",
       "    </tr>\n",
       "    <tr>\n",
       "      <th>Probando funciones</th>\n",
       "      <td>NaN</td>\n",
       "      <td>881.0</td>\n",
       "    </tr>\n",
       "    <tr>\n",
       "      <th>Tipos de datos / Datos de todo tipo</th>\n",
       "      <td>1152.0</td>\n",
       "      <td>1506.0</td>\n",
       "    </tr>\n",
       "    <tr>\n",
       "      <th>Triangulos</th>\n",
       "      <td>473.0</td>\n",
       "      <td>217.0</td>\n",
       "    </tr>\n",
       "    <tr>\n",
       "      <th>Variables globales</th>\n",
       "      <td>1069.0</td>\n",
       "      <td>193.0</td>\n",
       "    </tr>\n",
       "    <tr>\n",
       "      <th>Volviéndonos ricos</th>\n",
       "      <td>985.0</td>\n",
       "      <td>202.0</td>\n",
       "    </tr>\n",
       "    <tr>\n",
       "      <th>¡Envido!</th>\n",
       "      <td>627.0</td>\n",
       "      <td>208.0</td>\n",
       "    </tr>\n",
       "    <tr>\n",
       "      <th>¡GRITAR!</th>\n",
       "      <td>1332.0</td>\n",
       "      <td>239.0</td>\n",
       "    </tr>\n",
       "    <tr>\n",
       "      <th>¡Quiero retruco!</th>\n",
       "      <td>881.0</td>\n",
       "      <td>190.0</td>\n",
       "    </tr>\n",
       "    <tr>\n",
       "      <th>¡Quiero vale cuatro!</th>\n",
       "      <td>379.0</td>\n",
       "      <td>192.0</td>\n",
       "    </tr>\n",
       "    <tr>\n",
       "      <th>¿De qué signo sos?</th>\n",
       "      <td>1319.0</td>\n",
       "      <td>234.0</td>\n",
       "    </tr>\n",
       "    <tr>\n",
       "      <th>¿Está afinado?</th>\n",
       "      <td>412.0</td>\n",
       "      <td>214.0</td>\n",
       "    </tr>\n",
       "    <tr>\n",
       "      <th>¿Está cerca?</th>\n",
       "      <td>987.0</td>\n",
       "      <td>210.0</td>\n",
       "    </tr>\n",
       "    <tr>\n",
       "      <th>¿Me conviene?</th>\n",
       "      <td>1854.0</td>\n",
       "      <td>212.0</td>\n",
       "    </tr>\n",
       "    <tr>\n",
       "      <th>¿Y el program?</th>\n",
       "      <td>20.0</td>\n",
       "      <td>214.0</td>\n",
       "    </tr>\n",
       "    <tr>\n",
       "      <th>¿Y el tablero?</th>\n",
       "      <td>NaN</td>\n",
       "      <td>504.0</td>\n",
       "    </tr>\n",
       "    <tr>\n",
       "      <th>¿Y esto cuánto vale?</th>\n",
       "      <td>312.0</td>\n",
       "      <td>200.0</td>\n",
       "    </tr>\n",
       "    <tr>\n",
       "      <th>¿Y los procedimientos?</th>\n",
       "      <td>36.0</td>\n",
       "      <td>200.0</td>\n",
       "    </tr>\n",
       "    <tr>\n",
       "      <th>¿Y qué tal si...?</th>\n",
       "      <td>724.0</td>\n",
       "      <td>232.0</td>\n",
       "    </tr>\n",
       "  </tbody>\n",
       "</table>\n",
       "</div>"
      ],
      "text/plain": [
       "Estatus                                    no_paso    paso\n",
       "exercise_name                                             \n",
       "Booleanos                                   1022.0   253.0\n",
       "Calefones / Poniendo topes                  1152.0   271.0\n",
       "Cara o ceca                                  655.0   205.0\n",
       "Cartelitos                                  1345.0   229.0\n",
       "Cartelitos óptimos                          1402.0   195.0\n",
       "Comprando Hardware                           595.0   232.0\n",
       "Conversiones                                1304.0   209.0\n",
       "Cuadrados                                    408.0   218.0\n",
       "El círculo de la vida                        508.0   201.0\n",
       "El retorno del booleano                     1299.0   243.0\n",
       "Esto no tiene valor                            NaN   378.0\n",
       "Funciones, declaración / No tan distintos   1040.0   534.0\n",
       "Funciones, uso                               943.0   278.0\n",
       "Haciendo cuentas                               NaN  1909.0\n",
       "Impresión por pantalla                         NaN   509.0\n",
       "Libros de la buena memoria                  1006.0   267.0\n",
       "Los premios                                 1120.0   227.0\n",
       "Martin Fierro                                953.0   195.0\n",
       "Más Cartelitos                              1899.0   226.0\n",
       "Operando strings                            1915.0   253.0\n",
       "Palabras, sólo palabras                     2365.0   245.0\n",
       "Pienso que así es más fácil                  171.0   194.0\n",
       "Probando funciones                             NaN   881.0\n",
       "Tipos de datos / Datos de todo tipo         1152.0  1506.0\n",
       "Triangulos                                   473.0   217.0\n",
       "Variables globales                          1069.0   193.0\n",
       "Volviéndonos ricos                           985.0   202.0\n",
       "¡Envido!                                     627.0   208.0\n",
       "¡GRITAR!                                    1332.0   239.0\n",
       "¡Quiero retruco!                             881.0   190.0\n",
       "¡Quiero vale cuatro!                         379.0   192.0\n",
       "¿De qué signo sos?                          1319.0   234.0\n",
       "¿Está afinado?                               412.0   214.0\n",
       "¿Está cerca?                                 987.0   210.0\n",
       "¿Me conviene?                               1854.0   212.0\n",
       "¿Y el program?                                20.0   214.0\n",
       "¿Y el tablero?                                 NaN   504.0\n",
       "¿Y esto cuánto vale?                         312.0   200.0\n",
       "¿Y los procedimientos?                        36.0   200.0\n",
       "¿Y qué tal si...?                            724.0   232.0"
      ]
     },
     "execution_count": 24,
     "metadata": {},
     "output_type": "execute_result"
    }
   ],
   "source": [
    "# 0. es no_paso\n",
    "# 1. es Paso\n",
    "df.groupby(['exercise_name', 'Estatus'])['student_uid'].count().unstack()"
   ]
  },
  {
   "cell_type": "code",
   "execution_count": 25,
   "metadata": {
    "id": "_dTLYakdLdmW"
   },
   "outputs": [],
   "source": [
    "Aprobo = df[df['Estatus'] == 'paso']\n",
    "no_aprobo = df[df['Estatus'] == 'no_paso']"
   ]
  },
  {
   "cell_type": "markdown",
   "metadata": {},
   "source": [
    "Identificar ejercicio con más intentos en estatus [Paso]"
   ]
  },
  {
   "cell_type": "code",
   "execution_count": 26,
   "metadata": {
    "colab": {
     "base_uri": "https://localhost:8080/"
    },
    "id": "OIZVuVp6z4_O",
    "outputId": "8940c6e4-4042-4ee9-956e-45e0e4f20c63"
   },
   "outputs": [
    {
     "data": {
      "text/plain": [
       "count                13519\n",
       "unique                  40\n",
       "top       Haciendo cuentas\n",
       "freq                  1909\n",
       "Name: exercise_name, dtype: object"
      ]
     },
     "execution_count": 26,
     "metadata": {},
     "output_type": "execute_result"
    }
   ],
   "source": [
    "Aprobo['exercise_name'].describe()"
   ]
  },
  {
   "cell_type": "markdown",
   "metadata": {},
   "source": [
    "Identificar ejercicio con más intentos en estatus [No_paso]"
   ]
  },
  {
   "cell_type": "code",
   "execution_count": 27,
   "metadata": {
    "colab": {
     "base_uri": "https://localhost:8080/"
    },
    "id": "bxINOaBd8yI6",
    "outputId": "f73f2e75-a141-4ccc-bb7f-9366a1b653d6",
    "scrolled": true
   },
   "outputs": [
    {
     "data": {
      "text/plain": [
       "count                       33664\n",
       "unique                         35\n",
       "top       Palabras, sólo palabras\n",
       "freq                         2365\n",
       "Name: exercise_name, dtype: object"
      ]
     },
     "execution_count": 27,
     "metadata": {},
     "output_type": "execute_result"
    }
   ],
   "source": [
    "no_aprobo['exercise_name'].describe()"
   ]
  },
  {
   "cell_type": "markdown",
   "metadata": {},
   "source": [
    "Grafica de correlacion entre ejercicio y estatus"
   ]
  },
  {
   "cell_type": "code",
   "execution_count": 28,
   "metadata": {
    "colab": {
     "base_uri": "https://localhost:8080/",
     "height": 562
    },
    "id": "N--hI7IjnbLo",
    "outputId": "c238df0c-672e-43a0-f17b-811c78624ea7"
   },
   "outputs": [
    {
     "data": {
      "image/png": "[encoded data removed]",
      "text/plain": [
       "<Figure size 1440x360 with 1 Axes>"
      ]
     },
     "metadata": {
      "needs_background": "light"
     },
     "output_type": "display_data"
    }
   ],
   "source": [
    "sns.displot(df, x=\"exercise_name\", y=\"Estatus\", aspect=4)\n",
    "plt.xticks(rotation=90);"
   ]
  },
  {
   "cell_type": "markdown",
   "metadata": {
    "id": "R8CXjq3lGMxe"
   },
   "source": [
    "**Se puede identificar que hay ejercicios con una mayor dificultad que otros para los estudiantes ya que tienen una cantidad de envios en estatus no_paso**"
   ]
  },
  {
   "cell_type": "markdown",
   "metadata": {},
   "source": [
    "Cantidad de envios realizado por usuario, total, paso, no paso"
   ]
  },
  {
   "cell_type": "code",
   "execution_count": 29,
   "metadata": {
    "colab": {
     "base_uri": "https://localhost:8080/",
     "height": 436
    },
    "id": "ZafCEhJ0TEvY",
    "outputId": "ea909744-04a1-41c0-ad14-0bde48b14ccd",
    "scrolled": true
   },
   "outputs": [
    {
     "data": {
      "text/html": [
       "<div>\n",
       "<style scoped>\n",
       "    .dataframe tbody tr th:only-of-type {\n",
       "        vertical-align: middle;\n",
       "    }\n",
       "\n",
       "    .dataframe tbody tr th {\n",
       "        vertical-align: top;\n",
       "    }\n",
       "\n",
       "    .dataframe thead th {\n",
       "        text-align: right;\n",
       "    }\n",
       "</style>\n",
       "<table border=\"1\" class=\"dataframe\">\n",
       "  <thead>\n",
       "    <tr style=\"text-align: right;\">\n",
       "      <th>Estatus</th>\n",
       "      <th>no_paso</th>\n",
       "      <th>paso</th>\n",
       "      <th>All</th>\n",
       "    </tr>\n",
       "    <tr>\n",
       "      <th>student_uid</th>\n",
       "      <th></th>\n",
       "      <th></th>\n",
       "      <th></th>\n",
       "    </tr>\n",
       "  </thead>\n",
       "  <tbody>\n",
       "    <tr>\n",
       "      <th>-1</th>\n",
       "      <td>31</td>\n",
       "      <td>41</td>\n",
       "      <td>72</td>\n",
       "    </tr>\n",
       "    <tr>\n",
       "      <th>75</th>\n",
       "      <td>1</td>\n",
       "      <td>0</td>\n",
       "      <td>1</td>\n",
       "    </tr>\n",
       "    <tr>\n",
       "      <th>76</th>\n",
       "      <td>42</td>\n",
       "      <td>47</td>\n",
       "      <td>89</td>\n",
       "    </tr>\n",
       "    <tr>\n",
       "      <th>77</th>\n",
       "      <td>91</td>\n",
       "      <td>95</td>\n",
       "      <td>186</td>\n",
       "    </tr>\n",
       "    <tr>\n",
       "      <th>78</th>\n",
       "      <td>69</td>\n",
       "      <td>15</td>\n",
       "      <td>84</td>\n",
       "    </tr>\n",
       "    <tr>\n",
       "      <th>...</th>\n",
       "      <td>...</td>\n",
       "      <td>...</td>\n",
       "      <td>...</td>\n",
       "    </tr>\n",
       "    <tr>\n",
       "      <th>359</th>\n",
       "      <td>19</td>\n",
       "      <td>19</td>\n",
       "      <td>38</td>\n",
       "    </tr>\n",
       "    <tr>\n",
       "      <th>361</th>\n",
       "      <td>1</td>\n",
       "      <td>0</td>\n",
       "      <td>1</td>\n",
       "    </tr>\n",
       "    <tr>\n",
       "      <th>362</th>\n",
       "      <td>3</td>\n",
       "      <td>0</td>\n",
       "      <td>3</td>\n",
       "    </tr>\n",
       "    <tr>\n",
       "      <th>363</th>\n",
       "      <td>18</td>\n",
       "      <td>1</td>\n",
       "      <td>19</td>\n",
       "    </tr>\n",
       "    <tr>\n",
       "      <th>All</th>\n",
       "      <td>33664</td>\n",
       "      <td>13519</td>\n",
       "      <td>47183</td>\n",
       "    </tr>\n",
       "  </tbody>\n",
       "</table>\n",
       "<p>287 rows × 3 columns</p>\n",
       "</div>"
      ],
      "text/plain": [
       "Estatus      no_paso   paso    All\n",
       "student_uid                       \n",
       "-1                31     41     72\n",
       "75                 1      0      1\n",
       "76                42     47     89\n",
       "77                91     95    186\n",
       "78                69     15     84\n",
       "...              ...    ...    ...\n",
       "359               19     19     38\n",
       "361                1      0      1\n",
       "362                3      0      3\n",
       "363               18      1     19\n",
       "All            33664  13519  47183\n",
       "\n",
       "[287 rows x 3 columns]"
      ]
     },
     "execution_count": 29,
     "metadata": {},
     "output_type": "execute_result"
    }
   ],
   "source": [
    "contador_estatus_estudiante= pd.crosstab(df[\"student_uid\"],df[\"Estatus\"],margins=True) \n",
    "contador_estatus_estudiante"
   ]
  },
  {
   "cell_type": "markdown",
   "metadata": {},
   "source": [
    "Cantidad de envios correctos y totales por alumnos y media de estatus por alumno"
   ]
  },
  {
   "cell_type": "code",
   "execution_count": 30,
   "metadata": {
    "colab": {
     "base_uri": "https://localhost:8080/",
     "height": 466
    },
    "id": "x8dhvXWu_OxP",
    "outputId": "575637a5-0a43-40a7-f025-ab6fcff3fa20",
    "scrolled": true
   },
   "outputs": [
    {
     "data": {
      "text/html": [
       "<div>\n",
       "<style scoped>\n",
       "    .dataframe tbody tr th:only-of-type {\n",
       "        vertical-align: middle;\n",
       "    }\n",
       "\n",
       "    .dataframe tbody tr th {\n",
       "        vertical-align: top;\n",
       "    }\n",
       "\n",
       "    .dataframe thead tr th {\n",
       "        text-align: left;\n",
       "    }\n",
       "\n",
       "    .dataframe thead tr:last-of-type th {\n",
       "        text-align: right;\n",
       "    }\n",
       "</style>\n",
       "<table border=\"1\" class=\"dataframe\">\n",
       "  <thead>\n",
       "    <tr>\n",
       "      <th></th>\n",
       "      <th colspan=\"3\" halign=\"left\">Estatus_2</th>\n",
       "    </tr>\n",
       "    <tr>\n",
       "      <th></th>\n",
       "      <th>sum</th>\n",
       "      <th>count</th>\n",
       "      <th>mean</th>\n",
       "    </tr>\n",
       "    <tr>\n",
       "      <th>student_uid</th>\n",
       "      <th></th>\n",
       "      <th></th>\n",
       "      <th></th>\n",
       "    </tr>\n",
       "  </thead>\n",
       "  <tbody>\n",
       "    <tr>\n",
       "      <th>-1</th>\n",
       "      <td>41</td>\n",
       "      <td>72</td>\n",
       "      <td>0.569444</td>\n",
       "    </tr>\n",
       "    <tr>\n",
       "      <th>75</th>\n",
       "      <td>0</td>\n",
       "      <td>1</td>\n",
       "      <td>0.000000</td>\n",
       "    </tr>\n",
       "    <tr>\n",
       "      <th>76</th>\n",
       "      <td>47</td>\n",
       "      <td>89</td>\n",
       "      <td>0.528090</td>\n",
       "    </tr>\n",
       "    <tr>\n",
       "      <th>77</th>\n",
       "      <td>95</td>\n",
       "      <td>186</td>\n",
       "      <td>0.510753</td>\n",
       "    </tr>\n",
       "    <tr>\n",
       "      <th>78</th>\n",
       "      <td>15</td>\n",
       "      <td>84</td>\n",
       "      <td>0.178571</td>\n",
       "    </tr>\n",
       "    <tr>\n",
       "      <th>...</th>\n",
       "      <td>...</td>\n",
       "      <td>...</td>\n",
       "      <td>...</td>\n",
       "    </tr>\n",
       "    <tr>\n",
       "      <th>358</th>\n",
       "      <td>1</td>\n",
       "      <td>6</td>\n",
       "      <td>0.166667</td>\n",
       "    </tr>\n",
       "    <tr>\n",
       "      <th>359</th>\n",
       "      <td>19</td>\n",
       "      <td>38</td>\n",
       "      <td>0.500000</td>\n",
       "    </tr>\n",
       "    <tr>\n",
       "      <th>361</th>\n",
       "      <td>0</td>\n",
       "      <td>1</td>\n",
       "      <td>0.000000</td>\n",
       "    </tr>\n",
       "    <tr>\n",
       "      <th>362</th>\n",
       "      <td>0</td>\n",
       "      <td>3</td>\n",
       "      <td>0.000000</td>\n",
       "    </tr>\n",
       "    <tr>\n",
       "      <th>363</th>\n",
       "      <td>1</td>\n",
       "      <td>19</td>\n",
       "      <td>0.052632</td>\n",
       "    </tr>\n",
       "  </tbody>\n",
       "</table>\n",
       "<p>286 rows × 3 columns</p>\n",
       "</div>"
      ],
      "text/plain": [
       "            Estatus_2                \n",
       "                  sum count      mean\n",
       "student_uid                          \n",
       "-1                 41    72  0.569444\n",
       " 75                 0     1  0.000000\n",
       " 76                47    89  0.528090\n",
       " 77                95   186  0.510753\n",
       " 78                15    84  0.178571\n",
       "...               ...   ...       ...\n",
       " 358                1     6  0.166667\n",
       " 359               19    38  0.500000\n",
       " 361                0     1  0.000000\n",
       " 362                0     3  0.000000\n",
       " 363                1    19  0.052632\n",
       "\n",
       "[286 rows x 3 columns]"
      ]
     },
     "execution_count": 30,
     "metadata": {},
     "output_type": "execute_result"
    }
   ],
   "source": [
    "data_esp = df.groupby('student_uid').agg({'Estatus_2':['sum', 'count', 'mean']})\n",
    "data_esp"
   ]
  },
  {
   "cell_type": "markdown",
   "metadata": {},
   "source": [
    "Cantidad de ejercicios que intento resolver cada estudiante."
   ]
  },
  {
   "cell_type": "code",
   "execution_count": 31,
   "metadata": {
    "colab": {
     "base_uri": "https://localhost:8080/",
     "height": 436
    },
    "id": "9Jk2WijYk0dA",
    "outputId": "3bc08020-83b4-4a87-feda-059cfa373242",
    "scrolled": true
   },
   "outputs": [
    {
     "data": {
      "text/html": [
       "<div>\n",
       "<style scoped>\n",
       "    .dataframe tbody tr th:only-of-type {\n",
       "        vertical-align: middle;\n",
       "    }\n",
       "\n",
       "    .dataframe tbody tr th {\n",
       "        vertical-align: top;\n",
       "    }\n",
       "\n",
       "    .dataframe thead th {\n",
       "        text-align: right;\n",
       "    }\n",
       "</style>\n",
       "<table border=\"1\" class=\"dataframe\">\n",
       "  <thead>\n",
       "    <tr style=\"text-align: right;\">\n",
       "      <th></th>\n",
       "      <th>exercise_name</th>\n",
       "    </tr>\n",
       "    <tr>\n",
       "      <th>student_uid</th>\n",
       "      <th></th>\n",
       "    </tr>\n",
       "  </thead>\n",
       "  <tbody>\n",
       "    <tr>\n",
       "      <th>-1</th>\n",
       "      <td>28</td>\n",
       "    </tr>\n",
       "    <tr>\n",
       "      <th>75</th>\n",
       "      <td>1</td>\n",
       "    </tr>\n",
       "    <tr>\n",
       "      <th>76</th>\n",
       "      <td>36</td>\n",
       "    </tr>\n",
       "    <tr>\n",
       "      <th>77</th>\n",
       "      <td>40</td>\n",
       "    </tr>\n",
       "    <tr>\n",
       "      <th>78</th>\n",
       "      <td>9</td>\n",
       "    </tr>\n",
       "    <tr>\n",
       "      <th>...</th>\n",
       "      <td>...</td>\n",
       "    </tr>\n",
       "    <tr>\n",
       "      <th>358</th>\n",
       "      <td>1</td>\n",
       "    </tr>\n",
       "    <tr>\n",
       "      <th>359</th>\n",
       "      <td>16</td>\n",
       "    </tr>\n",
       "    <tr>\n",
       "      <th>361</th>\n",
       "      <td>1</td>\n",
       "    </tr>\n",
       "    <tr>\n",
       "      <th>362</th>\n",
       "      <td>1</td>\n",
       "    </tr>\n",
       "    <tr>\n",
       "      <th>363</th>\n",
       "      <td>3</td>\n",
       "    </tr>\n",
       "  </tbody>\n",
       "</table>\n",
       "<p>286 rows × 1 columns</p>\n",
       "</div>"
      ],
      "text/plain": [
       "             exercise_name\n",
       "student_uid               \n",
       "-1                      28\n",
       " 75                      1\n",
       " 76                     36\n",
       " 77                     40\n",
       " 78                      9\n",
       "...                    ...\n",
       " 358                     1\n",
       " 359                    16\n",
       " 361                     1\n",
       " 362                     1\n",
       " 363                     3\n",
       "\n",
       "[286 rows x 1 columns]"
      ]
     },
     "execution_count": 31,
     "metadata": {},
     "output_type": "execute_result"
    }
   ],
   "source": [
    "df_student_exe = df.groupby(['student_uid']).agg({'exercise_name': (lambda x: len(set(x)))})\n",
    "df_student_exe"
   ]
  },
  {
   "cell_type": "markdown",
   "metadata": {},
   "source": [
    "La media de ejercicios resultos es de 31 con un desvio de 13.74 \n",
    "\n",
    "El alumne/s que mas ejercicios resolvieron fue en numero de 41 "
   ]
  },
  {
   "cell_type": "code",
   "execution_count": 32,
   "metadata": {
    "colab": {
     "base_uri": "https://localhost:8080/",
     "height": 287
    },
    "id": "0Pg-I6Gsq_6a",
    "outputId": "8fcaac62-695d-4578-ed41-4d80bd040c4b",
    "scrolled": true
   },
   "outputs": [
    {
     "data": {
      "text/html": [
       "<div>\n",
       "<style scoped>\n",
       "    .dataframe tbody tr th:only-of-type {\n",
       "        vertical-align: middle;\n",
       "    }\n",
       "\n",
       "    .dataframe tbody tr th {\n",
       "        vertical-align: top;\n",
       "    }\n",
       "\n",
       "    .dataframe thead th {\n",
       "        text-align: right;\n",
       "    }\n",
       "</style>\n",
       "<table border=\"1\" class=\"dataframe\">\n",
       "  <thead>\n",
       "    <tr style=\"text-align: right;\">\n",
       "      <th></th>\n",
       "      <th>exercise_name</th>\n",
       "    </tr>\n",
       "  </thead>\n",
       "  <tbody>\n",
       "    <tr>\n",
       "      <th>count</th>\n",
       "      <td>286.000000</td>\n",
       "    </tr>\n",
       "    <tr>\n",
       "      <th>mean</th>\n",
       "      <td>31.150350</td>\n",
       "    </tr>\n",
       "    <tr>\n",
       "      <th>std</th>\n",
       "      <td>13.386893</td>\n",
       "    </tr>\n",
       "    <tr>\n",
       "      <th>min</th>\n",
       "      <td>1.000000</td>\n",
       "    </tr>\n",
       "    <tr>\n",
       "      <th>25%</th>\n",
       "      <td>22.250000</td>\n",
       "    </tr>\n",
       "    <tr>\n",
       "      <th>50%</th>\n",
       "      <td>40.000000</td>\n",
       "    </tr>\n",
       "    <tr>\n",
       "      <th>75%</th>\n",
       "      <td>40.000000</td>\n",
       "    </tr>\n",
       "    <tr>\n",
       "      <th>max</th>\n",
       "      <td>40.000000</td>\n",
       "    </tr>\n",
       "  </tbody>\n",
       "</table>\n",
       "</div>"
      ],
      "text/plain": [
       "       exercise_name\n",
       "count     286.000000\n",
       "mean       31.150350\n",
       "std        13.386893\n",
       "min         1.000000\n",
       "25%        22.250000\n",
       "50%        40.000000\n",
       "75%        40.000000\n",
       "max        40.000000"
      ]
     },
     "execution_count": 32,
     "metadata": {},
     "output_type": "execute_result"
    }
   ],
   "source": [
    "df_student_exe.describe()"
   ]
  },
  {
   "cell_type": "code",
   "execution_count": 36,
   "metadata": {},
   "outputs": [
    {
     "data": {
      "text/plain": [
       "<AxesSubplot:ylabel='Count'>"
      ]
     },
     "execution_count": 36,
     "metadata": {},
     "output_type": "execute_result"
    },
    {
     "data": {
      "image/png": "[encoded data removed]",
      "text/plain": [
       "<Figure size 1440x576 with 1 Axes>"
      ]
     },
     "metadata": {
      "needs_background": "light"
     },
     "output_type": "display_data"
    }
   ],
   "source": [
    "plt.figure(figsize=(20, 8))\n",
    "seaborn.histplot(df_student_exe, kde=True)"
   ]
  },
  {
   "cell_type": "markdown",
   "metadata": {},
   "source": [
    "Cantidad de ejercicios aprobados y desapronbados por alumno"
   ]
  },
  {
   "cell_type": "code",
   "execution_count": 34,
   "metadata": {
    "colab": {
     "base_uri": "https://localhost:8080/",
     "height": 436
    },
    "id": "goYx8A79UFE7",
    "outputId": "7623c41e-f25e-4acf-df28-5d4747fcfb7a"
   },
   "outputs": [
    {
     "data": {
      "text/html": [
       "<div>\n",
       "<style scoped>\n",
       "    .dataframe tbody tr th:only-of-type {\n",
       "        vertical-align: middle;\n",
       "    }\n",
       "\n",
       "    .dataframe tbody tr th {\n",
       "        vertical-align: top;\n",
       "    }\n",
       "\n",
       "    .dataframe thead th {\n",
       "        text-align: right;\n",
       "    }\n",
       "</style>\n",
       "<table border=\"1\" class=\"dataframe\">\n",
       "  <thead>\n",
       "    <tr style=\"text-align: right;\">\n",
       "      <th></th>\n",
       "      <th></th>\n",
       "      <th>exercise_name</th>\n",
       "    </tr>\n",
       "    <tr>\n",
       "      <th>student_uid</th>\n",
       "      <th>submission_status</th>\n",
       "      <th></th>\n",
       "    </tr>\n",
       "  </thead>\n",
       "  <tbody>\n",
       "    <tr>\n",
       "      <th rowspan=\"3\" valign=\"top\">-1</th>\n",
       "      <th>errored</th>\n",
       "      <td>3</td>\n",
       "    </tr>\n",
       "    <tr>\n",
       "      <th>failed</th>\n",
       "      <td>11</td>\n",
       "    </tr>\n",
       "    <tr>\n",
       "      <th>passed</th>\n",
       "      <td>28</td>\n",
       "    </tr>\n",
       "    <tr>\n",
       "      <th>75</th>\n",
       "      <th>failed</th>\n",
       "      <td>1</td>\n",
       "    </tr>\n",
       "    <tr>\n",
       "      <th>76</th>\n",
       "      <th>errored</th>\n",
       "      <td>6</td>\n",
       "    </tr>\n",
       "    <tr>\n",
       "      <th>...</th>\n",
       "      <th>...</th>\n",
       "      <td>...</td>\n",
       "    </tr>\n",
       "    <tr>\n",
       "      <th>361</th>\n",
       "      <th>failed</th>\n",
       "      <td>1</td>\n",
       "    </tr>\n",
       "    <tr>\n",
       "      <th>362</th>\n",
       "      <th>failed</th>\n",
       "      <td>1</td>\n",
       "    </tr>\n",
       "    <tr>\n",
       "      <th rowspan=\"3\" valign=\"top\">363</th>\n",
       "      <th>errored</th>\n",
       "      <td>3</td>\n",
       "    </tr>\n",
       "    <tr>\n",
       "      <th>failed</th>\n",
       "      <td>1</td>\n",
       "    </tr>\n",
       "    <tr>\n",
       "      <th>passed</th>\n",
       "      <td>1</td>\n",
       "    </tr>\n",
       "  </tbody>\n",
       "</table>\n",
       "<p>995 rows × 1 columns</p>\n",
       "</div>"
      ],
      "text/plain": [
       "                               exercise_name\n",
       "student_uid submission_status               \n",
       "-1          errored                        3\n",
       "            failed                        11\n",
       "            passed                        28\n",
       " 75         failed                         1\n",
       " 76         errored                        6\n",
       "...                                      ...\n",
       " 361        failed                         1\n",
       " 362        failed                         1\n",
       " 363        errored                        3\n",
       "            failed                         1\n",
       "            passed                         1\n",
       "\n",
       "[995 rows x 1 columns]"
      ]
     },
     "execution_count": 34,
     "metadata": {},
     "output_type": "execute_result"
    }
   ],
   "source": [
    "df_student_estatus = df.groupby(['student_uid','submission_status' ]).agg({'exercise_name': (lambda x: len(set(x)))})\n",
    "df_student_estatus"
   ]
  },
  {
   "cell_type": "code",
   "execution_count": 35,
   "metadata": {
    "colab": {
     "base_uri": "https://localhost:8080/",
     "height": 501
    },
    "id": "1Bb1RPN7Uqpm",
    "outputId": "ac5dc472-f962-410d-d625-0fc15f49a423"
   },
   "outputs": [
    {
     "data": {
      "text/plain": [
       "<AxesSubplot:ylabel='Count'>"
      ]
     },
     "execution_count": 35,
     "metadata": {},
     "output_type": "execute_result"
    },
    {
     "data": {
      "image/png": "[encoded data removed]",
      "text/plain": [
       "<Figure size 1440x576 with 1 Axes>"
      ]
     },
     "metadata": {
      "needs_background": "light"
     },
     "output_type": "display_data"
    }
   ],
   "source": [
    "plt.figure(figsize=(20, 8))\n",
    "seaborn.histplot(df_student_estatus, kde=True)"
   ]
  },
  {
   "cell_type": "code",
   "execution_count": 37,
   "metadata": {
    "colab": {
     "base_uri": "https://localhost:8080/",
     "height": 466
    },
    "id": "iMB7TCDnjx4R",
    "outputId": "07e6d55b-917d-4c69-98a5-c03bb9bc3c7b"
   },
   "outputs": [
    {
     "data": {
      "text/html": [
       "<div>\n",
       "<style scoped>\n",
       "    .dataframe tbody tr th:only-of-type {\n",
       "        vertical-align: middle;\n",
       "    }\n",
       "\n",
       "    .dataframe tbody tr th {\n",
       "        vertical-align: top;\n",
       "    }\n",
       "\n",
       "    .dataframe thead tr th {\n",
       "        text-align: left;\n",
       "    }\n",
       "\n",
       "    .dataframe thead tr:last-of-type th {\n",
       "        text-align: right;\n",
       "    }\n",
       "</style>\n",
       "<table border=\"1\" class=\"dataframe\">\n",
       "  <thead>\n",
       "    <tr>\n",
       "      <th></th>\n",
       "      <th colspan=\"4\" halign=\"left\">exercise_name</th>\n",
       "    </tr>\n",
       "    <tr>\n",
       "      <th></th>\n",
       "      <th>count</th>\n",
       "      <th>unique</th>\n",
       "      <th>top</th>\n",
       "      <th>freq</th>\n",
       "    </tr>\n",
       "    <tr>\n",
       "      <th>student_uid</th>\n",
       "      <th></th>\n",
       "      <th></th>\n",
       "      <th></th>\n",
       "      <th></th>\n",
       "    </tr>\n",
       "  </thead>\n",
       "  <tbody>\n",
       "    <tr>\n",
       "      <th>-1</th>\n",
       "      <td>72</td>\n",
       "      <td>28</td>\n",
       "      <td>Funciones, declaración / No tan distintos</td>\n",
       "      <td>11</td>\n",
       "    </tr>\n",
       "    <tr>\n",
       "      <th>75</th>\n",
       "      <td>1</td>\n",
       "      <td>1</td>\n",
       "      <td>Funciones, declaración / No tan distintos</td>\n",
       "      <td>1</td>\n",
       "    </tr>\n",
       "    <tr>\n",
       "      <th>76</th>\n",
       "      <td>89</td>\n",
       "      <td>36</td>\n",
       "      <td>Calefones / Poniendo topes</td>\n",
       "      <td>10</td>\n",
       "    </tr>\n",
       "    <tr>\n",
       "      <th>77</th>\n",
       "      <td>186</td>\n",
       "      <td>40</td>\n",
       "      <td>Cartelitos óptimos</td>\n",
       "      <td>31</td>\n",
       "    </tr>\n",
       "    <tr>\n",
       "      <th>78</th>\n",
       "      <td>84</td>\n",
       "      <td>9</td>\n",
       "      <td>Libros de la buena memoria</td>\n",
       "      <td>38</td>\n",
       "    </tr>\n",
       "    <tr>\n",
       "      <th>...</th>\n",
       "      <td>...</td>\n",
       "      <td>...</td>\n",
       "      <td>...</td>\n",
       "      <td>...</td>\n",
       "    </tr>\n",
       "    <tr>\n",
       "      <th>358</th>\n",
       "      <td>6</td>\n",
       "      <td>1</td>\n",
       "      <td>Operando strings</td>\n",
       "      <td>6</td>\n",
       "    </tr>\n",
       "    <tr>\n",
       "      <th>359</th>\n",
       "      <td>38</td>\n",
       "      <td>16</td>\n",
       "      <td>Conversiones</td>\n",
       "      <td>7</td>\n",
       "    </tr>\n",
       "    <tr>\n",
       "      <th>361</th>\n",
       "      <td>1</td>\n",
       "      <td>1</td>\n",
       "      <td>¿Me conviene?</td>\n",
       "      <td>1</td>\n",
       "    </tr>\n",
       "    <tr>\n",
       "      <th>362</th>\n",
       "      <td>3</td>\n",
       "      <td>1</td>\n",
       "      <td>Triangulos</td>\n",
       "      <td>3</td>\n",
       "    </tr>\n",
       "    <tr>\n",
       "      <th>363</th>\n",
       "      <td>19</td>\n",
       "      <td>3</td>\n",
       "      <td>Cartelitos óptimos</td>\n",
       "      <td>12</td>\n",
       "    </tr>\n",
       "  </tbody>\n",
       "</table>\n",
       "<p>286 rows × 4 columns</p>\n",
       "</div>"
      ],
      "text/plain": [
       "            exercise_name                                                    \\\n",
       "                    count unique                                        top   \n",
       "student_uid                                                                   \n",
       "-1                     72     28  Funciones, declaración / No tan distintos   \n",
       " 75                     1      1  Funciones, declaración / No tan distintos   \n",
       " 76                    89     36                 Calefones / Poniendo topes   \n",
       " 77                   186     40                         Cartelitos óptimos   \n",
       " 78                    84      9                 Libros de la buena memoria   \n",
       "...                   ...    ...                                        ...   \n",
       " 358                    6      1                           Operando strings   \n",
       " 359                   38     16                               Conversiones   \n",
       " 361                    1      1                              ¿Me conviene?   \n",
       " 362                    3      1                                 Triangulos   \n",
       " 363                   19      3                         Cartelitos óptimos   \n",
       "\n",
       "                  \n",
       "            freq  \n",
       "student_uid       \n",
       "-1            11  \n",
       " 75            1  \n",
       " 76           10  \n",
       " 77           31  \n",
       " 78           38  \n",
       "...          ...  \n",
       " 358           6  \n",
       " 359           7  \n",
       " 361           1  \n",
       " 362           3  \n",
       " 363          12  \n",
       "\n",
       "[286 rows x 4 columns]"
      ]
     },
     "execution_count": 37,
     "metadata": {},
     "output_type": "execute_result"
    }
   ],
   "source": [
    "df[['exercise_name', 'student_uid']].groupby('student_uid').describe()"
   ]
  },
  {
   "cell_type": "code",
   "execution_count": 39,
   "metadata": {
    "colab": {
     "base_uri": "https://localhost:8080/",
     "height": 691
    },
    "id": "90qe737HMh9W",
    "outputId": "0fac268d-c186-4362-ef07-99d095c46b19"
   },
   "outputs": [
    {
     "data": {
      "image/png": "[encoded data removed]",
      "text/plain": [
       "<Figure size 1440x576 with 1 Axes>"
      ]
     },
     "metadata": {
      "needs_background": "light"
     },
     "output_type": "display_data"
    }
   ],
   "source": [
    "plt.figure(figsize=(20, 8))\n",
    "seaborn.histplot(df.exercise_name, kde=True)\n",
    "plt.xticks(rotation=90);"
   ]
  },
  {
   "cell_type": "code",
   "execution_count": 40,
   "metadata": {
    "colab": {
     "base_uri": "https://localhost:8080/"
    },
    "id": "2VUSbMVdOSZa",
    "outputId": "e0bf5bc1-1130-472a-975c-b39f33559bae"
   },
   "outputs": [
    {
     "name": "stdout",
     "output_type": "stream",
     "text": [
      "Estatus_2  sum       95.0\n",
      "           count    660.0\n",
      "           mean       1.0\n",
      "dtype: float64 Estatus_2  sum      0.0\n",
      "           count    1.0\n",
      "           mean     0.0\n",
      "dtype: float64\n"
     ]
    }
   ],
   "source": [
    "#Identificar rango: mayor cantidad de envios en status paso, no paso y mayor y menor cantidad de envios realizados por un estudiante\n",
    "max_cantidad_envios_correctos = data_esp.max()\n",
    "min_cantidad_envios_correctos = data_esp.min()\n",
    "\n",
    "print(max_cantidad_envios_correctos, min_cantidad_envios_correctos)"
   ]
  },
  {
   "cell_type": "markdown",
   "metadata": {
    "id": "y2tw18xSdjfu"
   },
   "source": [
    "El alumno que hizo mayor cantidad de envios correctos es de 95 y la mayor cantidad de envios totales de un alumno es de 660\n",
    "\n",
    "El alumno que hizo menor cantidad de envios es de 1 envio y exiten alumnos que no tienen envios correctos"
   ]
  },
  {
   "cell_type": "code",
   "execution_count": 41,
   "metadata": {
    "colab": {
     "base_uri": "https://localhost:8080/"
    },
    "id": "hRfqCsRPdQ7M",
    "outputId": "129492cf-04ba-498c-eaf7-7a3749cc85ea"
   },
   "outputs": [
    {
     "name": "stdout",
     "output_type": "stream",
     "text": [
      "377.5\n"
     ]
    }
   ],
   "source": [
    "iqr = max_cantidad_envios_correctos.quantile(0.75) - min_cantidad_envios_correctos.quantile(0.25)\n",
    "print(iqr)"
   ]
  },
  {
   "cell_type": "code",
   "execution_count": 42,
   "metadata": {
    "colab": {
     "base_uri": "https://localhost:8080/",
     "height": 77
    },
    "id": "LxoJkk0mxTUl",
    "outputId": "8d93a042-d3cc-4e12-9213-990487643d9d"
   },
   "outputs": [
    {
     "data": {
      "text/html": [
       "<div>\n",
       "<style scoped>\n",
       "    .dataframe tbody tr th:only-of-type {\n",
       "        vertical-align: middle;\n",
       "    }\n",
       "\n",
       "    .dataframe tbody tr th {\n",
       "        vertical-align: top;\n",
       "    }\n",
       "\n",
       "    .dataframe thead th {\n",
       "        text-align: right;\n",
       "    }\n",
       "</style>\n",
       "<table border=\"1\" class=\"dataframe\">\n",
       "  <thead>\n",
       "    <tr style=\"text-align: right;\">\n",
       "      <th>Estatus</th>\n",
       "      <th>student_uid</th>\n",
       "      <th>no_paso</th>\n",
       "      <th>paso</th>\n",
       "    </tr>\n",
       "  </thead>\n",
       "  <tbody>\n",
       "    <tr>\n",
       "      <th>173</th>\n",
       "      <td>247</td>\n",
       "      <td>0</td>\n",
       "      <td>7</td>\n",
       "    </tr>\n",
       "  </tbody>\n",
       "</table>\n",
       "</div>"
      ],
      "text/plain": [
       "Estatus  student_uid  no_paso  paso\n",
       "173              247        0     7"
      ]
     },
     "execution_count": 42,
     "metadata": {},
     "output_type": "execute_result"
    }
   ],
   "source": [
    "#Estudiante con 100% de envios correctos\n",
    "df_promedio_por_ej_por_std=df.groupby('student_uid').Estatus.value_counts() \\\n",
    "  .unstack(fill_value=0).reset_index()\n",
    "df_promedio_por_ej_por_std[df_promedio_por_ej_por_std['no_paso']==0]"
   ]
  },
  {
   "cell_type": "code",
   "execution_count": 43,
   "metadata": {
    "colab": {
     "base_uri": "https://localhost:8080/",
     "height": 227
    },
    "id": "6spMfRMq1WgK",
    "outputId": "47991131-68d7-4691-c548-250fe0ad41e6"
   },
   "outputs": [
    {
     "data": {
      "text/html": [
       "<div>\n",
       "<style scoped>\n",
       "    .dataframe tbody tr th:only-of-type {\n",
       "        vertical-align: middle;\n",
       "    }\n",
       "\n",
       "    .dataframe tbody tr th {\n",
       "        vertical-align: top;\n",
       "    }\n",
       "\n",
       "    .dataframe thead th {\n",
       "        text-align: right;\n",
       "    }\n",
       "</style>\n",
       "<table border=\"1\" class=\"dataframe\">\n",
       "  <thead>\n",
       "    <tr style=\"text-align: right;\">\n",
       "      <th>Estatus</th>\n",
       "      <th>student_uid</th>\n",
       "      <th>no_paso</th>\n",
       "      <th>paso</th>\n",
       "    </tr>\n",
       "  </thead>\n",
       "  <tbody>\n",
       "    <tr>\n",
       "      <th>1</th>\n",
       "      <td>75</td>\n",
       "      <td>1</td>\n",
       "      <td>0</td>\n",
       "    </tr>\n",
       "    <tr>\n",
       "      <th>57</th>\n",
       "      <td>131</td>\n",
       "      <td>6</td>\n",
       "      <td>0</td>\n",
       "    </tr>\n",
       "    <tr>\n",
       "      <th>68</th>\n",
       "      <td>142</td>\n",
       "      <td>1</td>\n",
       "      <td>0</td>\n",
       "    </tr>\n",
       "    <tr>\n",
       "      <th>69</th>\n",
       "      <td>143</td>\n",
       "      <td>3</td>\n",
       "      <td>0</td>\n",
       "    </tr>\n",
       "    <tr>\n",
       "      <th>283</th>\n",
       "      <td>361</td>\n",
       "      <td>1</td>\n",
       "      <td>0</td>\n",
       "    </tr>\n",
       "    <tr>\n",
       "      <th>284</th>\n",
       "      <td>362</td>\n",
       "      <td>3</td>\n",
       "      <td>0</td>\n",
       "    </tr>\n",
       "  </tbody>\n",
       "</table>\n",
       "</div>"
      ],
      "text/plain": [
       "Estatus  student_uid  no_paso  paso\n",
       "1                 75        1     0\n",
       "57               131        6     0\n",
       "68               142        1     0\n",
       "69               143        3     0\n",
       "283              361        1     0\n",
       "284              362        3     0"
      ]
     },
     "execution_count": 43,
     "metadata": {},
     "output_type": "execute_result"
    }
   ],
   "source": [
    "#Estudiante con 100% de envios incorrectos\n",
    "\n",
    "df_promedio_por_ej_por_std=df.groupby('student_uid').Estatus.value_counts() \\\n",
    "  .unstack(fill_value=0).reset_index()\n",
    "df_promedio_por_ej_por_std[df_promedio_por_ej_por_std['paso']==0]"
   ]
  },
  {
   "cell_type": "code",
   "execution_count": 44,
   "metadata": {
    "id": "elCAconChoD2"
   },
   "outputs": [],
   "source": [
    "df_promedio_por_ej_por_std['grupo_submission_status']=[ 'no_paso' if no_paso>paso else 'paso' for no_paso,paso,student_uid in zip(df_promedio_por_ej_por_std['no_paso'],df_promedio_por_ej_por_std['paso'],df_promedio_por_ej_por_std['student_uid'])]"
   ]
  },
  {
   "cell_type": "markdown",
   "metadata": {
    "id": "ggHaAVttH0Xx"
   },
   "source": [
    "Se decide agrupar a los alumnos en dos grupos segun tenga mayor cantidad de envios correctos/incorrectos"
   ]
  },
  {
   "cell_type": "code",
   "execution_count": 45,
   "metadata": {
    "colab": {
     "base_uri": "https://localhost:8080/"
    },
    "id": "kNo2mll_0Pbm",
    "outputId": "195cc937-4d62-48e7-e024-9f00563ad497"
   },
   "outputs": [
    {
     "data": {
      "text/plain": [
       "no_paso    235\n",
       "paso        51\n",
       "Name: grupo_submission_status, dtype: int64"
      ]
     },
     "execution_count": 45,
     "metadata": {},
     "output_type": "execute_result"
    }
   ],
   "source": [
    "# Cantidad de alumnos con mayor cantidad de envios no_paso que paso y lo opuesto\n",
    "df_promedio_por_ej_por_std['grupo_submission_status'].value_counts()"
   ]
  },
  {
   "cell_type": "code",
   "execution_count": 46,
   "metadata": {
    "id": "1Jn7YSvZ4vCq"
   },
   "outputs": [],
   "source": [
    "#Se crean dos grupos:\n",
    "#Un grupo_a de alumnos con mas envio correctos, que incorrectos o iguales.\n",
    "#Un grupo_b con mayor cantidad de envios incorrectos que correctos.\n",
    "\n",
    "grupo_a=df_promedio_por_ej_por_std[df_promedio_por_ej_por_std['grupo_submission_status']=='paso']\n",
    "grupo_b=df_promedio_por_ej_por_std[df_promedio_por_ej_por_std['grupo_submission_status']=='no_paso']\n",
    "\n"
   ]
  },
  {
   "cell_type": "code",
   "execution_count": 48,
   "metadata": {
    "colab": {
     "base_uri": "https://localhost:8080/"
    },
    "id": "UbBGkp_vWSka",
    "outputId": "619f9c46-38cf-4625-f609-d5a639a664c5"
   },
   "outputs": [
    {
     "name": "stdout",
     "output_type": "stream",
     "text": [
      "submission_status  exercise_name             \n",
      "aborted            Cartelitos                    0.000635\n",
      "                   Cuadrados                     0.001597\n",
      "                   Palabras, sólo palabras       0.000383\n",
      "errored            Booleanos                     0.472157\n",
      "                   Calefones / Poniendo topes    0.205903\n",
      "                                                   ...   \n",
      "pending            Variables globales            0.000792\n",
      "                   Volviéndonos ricos            0.000842\n",
      "                   ¿De qué signo sos?            0.001288\n",
      "                   ¿Me conviene?                 0.000484\n",
      "                   ¿Y los procedimientos?        0.004237\n",
      "Name: student_uid, Length: 131, dtype: float64\n"
     ]
    }
   ],
   "source": [
    "#probabilidad de sacar estatus no paso/paso, por ejercicio ante un envio\n",
    "Prob_ejer_grupo_b=(df.groupby(['submission_status', 'exercise_name']).count() / df.groupby('exercise_name').count())['student_uid']\n",
    "print(Prob_ejer_grupo_b)"
   ]
  },
  {
   "cell_type": "code",
   "execution_count": 49,
   "metadata": {
    "id": "owLui1a3wkgm"
   },
   "outputs": [],
   "source": [
    "array_std_id_paso=[ student_uid for student_uid, ex_status in zip(df_promedio_por_ej_por_std['student_uid'],df_promedio_por_ej_por_std['grupo_submission_status']) if ex_status=='paso' ]"
   ]
  },
  {
   "cell_type": "code",
   "execution_count": 50,
   "metadata": {
    "id": "LS9kXtNhwpXP"
   },
   "outputs": [],
   "source": [
    "df_std_id_paso=df[ df['student_uid'].isin(array_std_id_paso)]"
   ]
  },
  {
   "cell_type": "code",
   "execution_count": 51,
   "metadata": {
    "id": "bVbTs1oGwq49"
   },
   "outputs": [],
   "source": [
    "df_ex_name=df_std_id_paso.groupby(['exercise_name']).Estatus.value_counts() \\\n",
    "  .unstack(fill_value=0).reset_index()"
   ]
  },
  {
   "cell_type": "code",
   "execution_count": 52,
   "metadata": {
    "colab": {
     "base_uri": "https://localhost:8080/",
     "height": 1000
    },
    "id": "qYO-A348wwmE",
    "outputId": "8585280d-fb26-4719-eeea-8ad84189360a"
   },
   "outputs": [
    {
     "data": {
      "text/html": [
       "<div>\n",
       "<style scoped>\n",
       "    .dataframe tbody tr th:only-of-type {\n",
       "        vertical-align: middle;\n",
       "    }\n",
       "\n",
       "    .dataframe tbody tr th {\n",
       "        vertical-align: top;\n",
       "    }\n",
       "\n",
       "    .dataframe thead th {\n",
       "        text-align: right;\n",
       "    }\n",
       "</style>\n",
       "<table border=\"1\" class=\"dataframe\">\n",
       "  <thead>\n",
       "    <tr style=\"text-align: right;\">\n",
       "      <th>Estatus</th>\n",
       "      <th>exercise_name</th>\n",
       "      <th>no_paso</th>\n",
       "      <th>paso</th>\n",
       "      <th>prom_no_paso</th>\n",
       "      <th>prom_paso</th>\n",
       "    </tr>\n",
       "  </thead>\n",
       "  <tbody>\n",
       "    <tr>\n",
       "      <th>0</th>\n",
       "      <td>Booleanos</td>\n",
       "      <td>84</td>\n",
       "      <td>41</td>\n",
       "      <td>0.672000</td>\n",
       "      <td>0.328000</td>\n",
       "    </tr>\n",
       "    <tr>\n",
       "      <th>1</th>\n",
       "      <td>Calefones / Poniendo topes</td>\n",
       "      <td>65</td>\n",
       "      <td>50</td>\n",
       "      <td>0.565217</td>\n",
       "      <td>0.434783</td>\n",
       "    </tr>\n",
       "    <tr>\n",
       "      <th>2</th>\n",
       "      <td>Cara o ceca</td>\n",
       "      <td>26</td>\n",
       "      <td>32</td>\n",
       "      <td>0.448276</td>\n",
       "      <td>0.551724</td>\n",
       "    </tr>\n",
       "    <tr>\n",
       "      <th>3</th>\n",
       "      <td>Cartelitos</td>\n",
       "      <td>55</td>\n",
       "      <td>34</td>\n",
       "      <td>0.617978</td>\n",
       "      <td>0.382022</td>\n",
       "    </tr>\n",
       "    <tr>\n",
       "      <th>4</th>\n",
       "      <td>Cartelitos óptimos</td>\n",
       "      <td>96</td>\n",
       "      <td>29</td>\n",
       "      <td>0.768000</td>\n",
       "      <td>0.232000</td>\n",
       "    </tr>\n",
       "    <tr>\n",
       "      <th>5</th>\n",
       "      <td>Comprando Hardware</td>\n",
       "      <td>34</td>\n",
       "      <td>32</td>\n",
       "      <td>0.515152</td>\n",
       "      <td>0.484848</td>\n",
       "    </tr>\n",
       "    <tr>\n",
       "      <th>6</th>\n",
       "      <td>Conversiones</td>\n",
       "      <td>71</td>\n",
       "      <td>30</td>\n",
       "      <td>0.702970</td>\n",
       "      <td>0.297030</td>\n",
       "    </tr>\n",
       "    <tr>\n",
       "      <th>7</th>\n",
       "      <td>Cuadrados</td>\n",
       "      <td>14</td>\n",
       "      <td>34</td>\n",
       "      <td>0.291667</td>\n",
       "      <td>0.708333</td>\n",
       "    </tr>\n",
       "    <tr>\n",
       "      <th>8</th>\n",
       "      <td>El círculo de la vida</td>\n",
       "      <td>15</td>\n",
       "      <td>28</td>\n",
       "      <td>0.348837</td>\n",
       "      <td>0.651163</td>\n",
       "    </tr>\n",
       "    <tr>\n",
       "      <th>9</th>\n",
       "      <td>El retorno del booleano</td>\n",
       "      <td>50</td>\n",
       "      <td>37</td>\n",
       "      <td>0.574713</td>\n",
       "      <td>0.425287</td>\n",
       "    </tr>\n",
       "    <tr>\n",
       "      <th>10</th>\n",
       "      <td>Esto no tiene valor</td>\n",
       "      <td>0</td>\n",
       "      <td>50</td>\n",
       "      <td>0.000000</td>\n",
       "      <td>1.000000</td>\n",
       "    </tr>\n",
       "    <tr>\n",
       "      <th>11</th>\n",
       "      <td>Funciones, declaración / No tan distintos</td>\n",
       "      <td>97</td>\n",
       "      <td>87</td>\n",
       "      <td>0.527174</td>\n",
       "      <td>0.472826</td>\n",
       "    </tr>\n",
       "    <tr>\n",
       "      <th>12</th>\n",
       "      <td>Funciones, uso</td>\n",
       "      <td>81</td>\n",
       "      <td>49</td>\n",
       "      <td>0.623077</td>\n",
       "      <td>0.376923</td>\n",
       "    </tr>\n",
       "    <tr>\n",
       "      <th>13</th>\n",
       "      <td>Haciendo cuentas</td>\n",
       "      <td>0</td>\n",
       "      <td>319</td>\n",
       "      <td>0.000000</td>\n",
       "      <td>1.000000</td>\n",
       "    </tr>\n",
       "    <tr>\n",
       "      <th>14</th>\n",
       "      <td>Impresión por pantalla</td>\n",
       "      <td>0</td>\n",
       "      <td>66</td>\n",
       "      <td>0.000000</td>\n",
       "      <td>1.000000</td>\n",
       "    </tr>\n",
       "    <tr>\n",
       "      <th>15</th>\n",
       "      <td>Libros de la buena memoria</td>\n",
       "      <td>52</td>\n",
       "      <td>46</td>\n",
       "      <td>0.530612</td>\n",
       "      <td>0.469388</td>\n",
       "    </tr>\n",
       "    <tr>\n",
       "      <th>16</th>\n",
       "      <td>Los premios</td>\n",
       "      <td>44</td>\n",
       "      <td>36</td>\n",
       "      <td>0.550000</td>\n",
       "      <td>0.450000</td>\n",
       "    </tr>\n",
       "    <tr>\n",
       "      <th>17</th>\n",
       "      <td>Martin Fierro</td>\n",
       "      <td>40</td>\n",
       "      <td>29</td>\n",
       "      <td>0.579710</td>\n",
       "      <td>0.420290</td>\n",
       "    </tr>\n",
       "    <tr>\n",
       "      <th>18</th>\n",
       "      <td>Más Cartelitos</td>\n",
       "      <td>100</td>\n",
       "      <td>32</td>\n",
       "      <td>0.757576</td>\n",
       "      <td>0.242424</td>\n",
       "    </tr>\n",
       "    <tr>\n",
       "      <th>19</th>\n",
       "      <td>Operando strings</td>\n",
       "      <td>36</td>\n",
       "      <td>40</td>\n",
       "      <td>0.473684</td>\n",
       "      <td>0.526316</td>\n",
       "    </tr>\n",
       "    <tr>\n",
       "      <th>20</th>\n",
       "      <td>Palabras, sólo palabras</td>\n",
       "      <td>81</td>\n",
       "      <td>38</td>\n",
       "      <td>0.680672</td>\n",
       "      <td>0.319328</td>\n",
       "    </tr>\n",
       "    <tr>\n",
       "      <th>21</th>\n",
       "      <td>Pienso que así es más fácil</td>\n",
       "      <td>19</td>\n",
       "      <td>28</td>\n",
       "      <td>0.404255</td>\n",
       "      <td>0.595745</td>\n",
       "    </tr>\n",
       "    <tr>\n",
       "      <th>22</th>\n",
       "      <td>Probando funciones</td>\n",
       "      <td>0</td>\n",
       "      <td>161</td>\n",
       "      <td>0.000000</td>\n",
       "      <td>1.000000</td>\n",
       "    </tr>\n",
       "    <tr>\n",
       "      <th>23</th>\n",
       "      <td>Tipos de datos / Datos de todo tipo</td>\n",
       "      <td>91</td>\n",
       "      <td>240</td>\n",
       "      <td>0.274924</td>\n",
       "      <td>0.725076</td>\n",
       "    </tr>\n",
       "    <tr>\n",
       "      <th>24</th>\n",
       "      <td>Triangulos</td>\n",
       "      <td>17</td>\n",
       "      <td>33</td>\n",
       "      <td>0.340000</td>\n",
       "      <td>0.660000</td>\n",
       "    </tr>\n",
       "    <tr>\n",
       "      <th>25</th>\n",
       "      <td>Variables globales</td>\n",
       "      <td>61</td>\n",
       "      <td>29</td>\n",
       "      <td>0.677778</td>\n",
       "      <td>0.322222</td>\n",
       "    </tr>\n",
       "    <tr>\n",
       "      <th>26</th>\n",
       "      <td>Volviéndonos ricos</td>\n",
       "      <td>32</td>\n",
       "      <td>32</td>\n",
       "      <td>0.500000</td>\n",
       "      <td>0.500000</td>\n",
       "    </tr>\n",
       "    <tr>\n",
       "      <th>27</th>\n",
       "      <td>¡Envido!</td>\n",
       "      <td>25</td>\n",
       "      <td>34</td>\n",
       "      <td>0.423729</td>\n",
       "      <td>0.576271</td>\n",
       "    </tr>\n",
       "    <tr>\n",
       "      <th>28</th>\n",
       "      <td>¡GRITAR!</td>\n",
       "      <td>39</td>\n",
       "      <td>39</td>\n",
       "      <td>0.500000</td>\n",
       "      <td>0.500000</td>\n",
       "    </tr>\n",
       "    <tr>\n",
       "      <th>29</th>\n",
       "      <td>¡Quiero retruco!</td>\n",
       "      <td>32</td>\n",
       "      <td>30</td>\n",
       "      <td>0.516129</td>\n",
       "      <td>0.483871</td>\n",
       "    </tr>\n",
       "    <tr>\n",
       "      <th>30</th>\n",
       "      <td>¡Quiero vale cuatro!</td>\n",
       "      <td>13</td>\n",
       "      <td>31</td>\n",
       "      <td>0.295455</td>\n",
       "      <td>0.704545</td>\n",
       "    </tr>\n",
       "    <tr>\n",
       "      <th>31</th>\n",
       "      <td>¿De qué signo sos?</td>\n",
       "      <td>52</td>\n",
       "      <td>36</td>\n",
       "      <td>0.590909</td>\n",
       "      <td>0.409091</td>\n",
       "    </tr>\n",
       "    <tr>\n",
       "      <th>32</th>\n",
       "      <td>¿Está afinado?</td>\n",
       "      <td>9</td>\n",
       "      <td>33</td>\n",
       "      <td>0.214286</td>\n",
       "      <td>0.785714</td>\n",
       "    </tr>\n",
       "    <tr>\n",
       "      <th>33</th>\n",
       "      <td>¿Está cerca?</td>\n",
       "      <td>38</td>\n",
       "      <td>31</td>\n",
       "      <td>0.550725</td>\n",
       "      <td>0.449275</td>\n",
       "    </tr>\n",
       "    <tr>\n",
       "      <th>34</th>\n",
       "      <td>¿Me conviene?</td>\n",
       "      <td>35</td>\n",
       "      <td>33</td>\n",
       "      <td>0.514706</td>\n",
       "      <td>0.485294</td>\n",
       "    </tr>\n",
       "    <tr>\n",
       "      <th>35</th>\n",
       "      <td>¿Y el program?</td>\n",
       "      <td>3</td>\n",
       "      <td>32</td>\n",
       "      <td>0.085714</td>\n",
       "      <td>0.914286</td>\n",
       "    </tr>\n",
       "    <tr>\n",
       "      <th>36</th>\n",
       "      <td>¿Y el tablero?</td>\n",
       "      <td>0</td>\n",
       "      <td>94</td>\n",
       "      <td>0.000000</td>\n",
       "      <td>1.000000</td>\n",
       "    </tr>\n",
       "    <tr>\n",
       "      <th>37</th>\n",
       "      <td>¿Y esto cuánto vale?</td>\n",
       "      <td>18</td>\n",
       "      <td>30</td>\n",
       "      <td>0.375000</td>\n",
       "      <td>0.625000</td>\n",
       "    </tr>\n",
       "    <tr>\n",
       "      <th>38</th>\n",
       "      <td>¿Y los procedimientos?</td>\n",
       "      <td>6</td>\n",
       "      <td>31</td>\n",
       "      <td>0.162162</td>\n",
       "      <td>0.837838</td>\n",
       "    </tr>\n",
       "    <tr>\n",
       "      <th>39</th>\n",
       "      <td>¿Y qué tal si...?</td>\n",
       "      <td>31</td>\n",
       "      <td>38</td>\n",
       "      <td>0.449275</td>\n",
       "      <td>0.550725</td>\n",
       "    </tr>\n",
       "  </tbody>\n",
       "</table>\n",
       "</div>"
      ],
      "text/plain": [
       "Estatus                              exercise_name  no_paso  paso  \\\n",
       "0                                        Booleanos       84    41   \n",
       "1                       Calefones / Poniendo topes       65    50   \n",
       "2                                      Cara o ceca       26    32   \n",
       "3                                       Cartelitos       55    34   \n",
       "4                               Cartelitos óptimos       96    29   \n",
       "5                               Comprando Hardware       34    32   \n",
       "6                                     Conversiones       71    30   \n",
       "7                                        Cuadrados       14    34   \n",
       "8                            El círculo de la vida       15    28   \n",
       "9                          El retorno del booleano       50    37   \n",
       "10                             Esto no tiene valor        0    50   \n",
       "11       Funciones, declaración / No tan distintos       97    87   \n",
       "12                                  Funciones, uso       81    49   \n",
       "13                                Haciendo cuentas        0   319   \n",
       "14                          Impresión por pantalla        0    66   \n",
       "15                      Libros de la buena memoria       52    46   \n",
       "16                                     Los premios       44    36   \n",
       "17                                   Martin Fierro       40    29   \n",
       "18                                  Más Cartelitos      100    32   \n",
       "19                                Operando strings       36    40   \n",
       "20                         Palabras, sólo palabras       81    38   \n",
       "21                     Pienso que así es más fácil       19    28   \n",
       "22                              Probando funciones        0   161   \n",
       "23             Tipos de datos / Datos de todo tipo       91   240   \n",
       "24                                      Triangulos       17    33   \n",
       "25                              Variables globales       61    29   \n",
       "26                              Volviéndonos ricos       32    32   \n",
       "27                                        ¡Envido!       25    34   \n",
       "28                                        ¡GRITAR!       39    39   \n",
       "29                                ¡Quiero retruco!       32    30   \n",
       "30                            ¡Quiero vale cuatro!       13    31   \n",
       "31                              ¿De qué signo sos?       52    36   \n",
       "32                                  ¿Está afinado?        9    33   \n",
       "33                                    ¿Está cerca?       38    31   \n",
       "34                                   ¿Me conviene?       35    33   \n",
       "35                                  ¿Y el program?        3    32   \n",
       "36                                  ¿Y el tablero?        0    94   \n",
       "37                            ¿Y esto cuánto vale?       18    30   \n",
       "38                          ¿Y los procedimientos?        6    31   \n",
       "39                               ¿Y qué tal si...?       31    38   \n",
       "\n",
       "Estatus  prom_no_paso  prom_paso  \n",
       "0            0.672000   0.328000  \n",
       "1            0.565217   0.434783  \n",
       "2            0.448276   0.551724  \n",
       "3            0.617978   0.382022  \n",
       "4            0.768000   0.232000  \n",
       "5            0.515152   0.484848  \n",
       "6            0.702970   0.297030  \n",
       "7            0.291667   0.708333  \n",
       "8            0.348837   0.651163  \n",
       "9            0.574713   0.425287  \n",
       "10           0.000000   1.000000  \n",
       "11           0.527174   0.472826  \n",
       "12           0.623077   0.376923  \n",
       "13           0.000000   1.000000  \n",
       "14           0.000000   1.000000  \n",
       "15           0.530612   0.469388  \n",
       "16           0.550000   0.450000  \n",
       "17           0.579710   0.420290  \n",
       "18           0.757576   0.242424  \n",
       "19           0.473684   0.526316  \n",
       "20           0.680672   0.319328  \n",
       "21           0.404255   0.595745  \n",
       "22           0.000000   1.000000  \n",
       "23           0.274924   0.725076  \n",
       "24           0.340000   0.660000  \n",
       "25           0.677778   0.322222  \n",
       "26           0.500000   0.500000  \n",
       "27           0.423729   0.576271  \n",
       "28           0.500000   0.500000  \n",
       "29           0.516129   0.483871  \n",
       "30           0.295455   0.704545  \n",
       "31           0.590909   0.409091  \n",
       "32           0.214286   0.785714  \n",
       "33           0.550725   0.449275  \n",
       "34           0.514706   0.485294  \n",
       "35           0.085714   0.914286  \n",
       "36           0.000000   1.000000  \n",
       "37           0.375000   0.625000  \n",
       "38           0.162162   0.837838  \n",
       "39           0.449275   0.550725  "
      ]
     },
     "execution_count": 52,
     "metadata": {},
     "output_type": "execute_result"
    }
   ],
   "source": [
    "#Probabilidad de pasar cada ejercicio siendo del grupo_a\n",
    "df_ex_name['prom_no_paso']=[no_paso/(no_paso+paso) for paso,no_paso in zip(df_ex_name['paso'],df_ex_name['no_paso'])]\n",
    "df_ex_name['prom_paso']=[paso/(no_paso+paso) for paso,no_paso in zip(df_ex_name['paso'],df_ex_name['no_paso'])]\n",
    "df_ex_name"
   ]
  },
  {
   "cell_type": "code",
   "execution_count": 53,
   "metadata": {
    "colab": {
     "base_uri": "https://localhost:8080/",
     "height": 416
    },
    "id": "4nYFGnDNu_Gk",
    "outputId": "5d5cccd8-db1d-41d0-8ed8-60c1372cab13"
   },
   "outputs": [
    {
     "data": {
      "text/html": [
       "\n",
       "\n",
       "\n",
       "\n",
       "\n",
       "\n",
       "  <div class=\"bk-root\" id=\"8e1d7847-c52b-481f-a16c-1a86f0837b2d\" data-root-id=\"1298\"></div>\n"
      ]
     },
     "metadata": {},
     "output_type": "display_data"
    },
    {
     "data": {
      "application/javascript": [
       "(function(root) {\n",
       "  function embed_document(root) {\n",
       "    \n",
       "  var docs_json = {\"14e25b57-704c-41d1-a542-cb551c0063fe\":{\"roots\":{\"references\":[{\"attributes\":{\"below\":[{\"id\":\"1309\"}],\"center\":[{\"id\":\"1312\"},{\"id\":\"1316\"},{\"id\":\"1353\"}],\"left\":[{\"id\":\"1313\"}],\"output_backend\":\"webgl\",\"plot_height\":400,\"renderers\":[{\"id\":\"1344\"},{\"id\":\"1358\"},{\"id\":\"1371\"},{\"id\":\"1384\"}],\"sizing_mode\":\"fixed\",\"title\":{\"id\":\"1299\"},\"toolbar\":{\"id\":\"1324\"},\"x_range\":{\"id\":\"1301\"},\"x_scale\":{\"id\":\"1305\"},\"y_range\":{\"id\":\"1303\"},\"y_scale\":{\"id\":\"1307\"}},\"id\":\"1298\",\"subtype\":\"Figure\",\"type\":\"Plot\"},{\"attributes\":{\"items\":[{\"id\":\"1354\"},{\"id\":\"1367\"},{\"id\":\"1380\"},{\"id\":\"1393\"}]},\"id\":\"1353\",\"type\":\"Legend\"},{\"attributes\":{\"fields\":[\"no_paso\",\"paso\",\"prom_no_paso\",\"prom_paso\"]},\"id\":\"1340\",\"type\":\"Stack\"},{\"attributes\":{\"data_source\":{\"id\":\"1297\"},\"glyph\":{\"id\":\"1382\"},\"hover_glyph\":null,\"muted_glyph\":null,\"name\":\"prom_paso\",\"nonselection_glyph\":{\"id\":\"1383\"},\"selection_glyph\":null,\"view\":{\"id\":\"1385\"}},\"id\":\"1384\",\"type\":\"GlyphRenderer\"},{\"attributes\":{\"fill_alpha\":{\"value\":0.1},\"fill_color\":{\"value\":\"#1f77b4\"},\"height\":{\"value\":0.8},\"left\":{\"expr\":{\"id\":\"1333\"}},\"line_alpha\":{\"value\":0.1},\"line_color\":{\"value\":\"#1f77b4\"},\"line_width\":{\"value\":2},\"right\":{\"expr\":{\"id\":\"1334\"}},\"y\":{\"field\":\"__x__values\"}},\"id\":\"1343\",\"type\":\"HBar\"},{\"attributes\":{\"fill_color\":{\"value\":\"#1f77b4\"},\"height\":{\"value\":0.8},\"left\":{\"expr\":{\"id\":\"1333\"}},\"line_color\":{\"value\":\"#1f77b4\"},\"line_width\":{\"value\":2},\"right\":{\"expr\":{\"id\":\"1334\"}},\"y\":{\"field\":\"__x__values\"}},\"id\":\"1342\",\"type\":\"HBar\"},{\"attributes\":{\"fields\":[\"no_paso\",\"paso\",\"prom_no_paso\"]},\"id\":\"1338\",\"type\":\"Stack\"},{\"attributes\":{\"label\":{\"value\":\"prom_no_paso\"},\"renderers\":[{\"id\":\"1371\"}]},\"id\":\"1380\",\"type\":\"LegendItem\"},{\"attributes\":{\"fields\":[\"no_paso\",\"paso\",\"prom_no_paso\"]},\"id\":\"1339\",\"type\":\"Stack\"},{\"attributes\":{\"fields\":[\"no_paso\"]},\"id\":\"1335\",\"type\":\"Stack\"},{\"attributes\":{\"label\":{\"value\":\"paso\"},\"renderers\":[{\"id\":\"1358\"}]},\"id\":\"1367\",\"type\":\"LegendItem\"},{\"attributes\":{\"source\":{\"id\":\"1297\"}},\"id\":\"1345\",\"type\":\"CDSView\"},{\"attributes\":{\"code\":\"\\n                                    var labels = {0: '0', 1: '1', 2: '2', 3: '3', 4: '4', 5: '5', 6: '6', 7: '7', 8: '8', 9: '9', 10: '10', 11: '11', 12: '12', 13: '13', 14: '14', 15: '15', 16: '16', 17: '17', 18: '18', 19: '19', 20: '20', 21: '21', 22: '22', 23: '23', 24: '24', 25: '25', 26: '26', 27: '27', 28: '28', 29: '29', 30: '30', 31: '31', 32: '32', 33: '33', 34: '34', 35: '35', 36: '36', 37: '37', 38: '38', 39: '39'};\\n                                    return labels[tick];\\n                                    \"},\"id\":\"1331\",\"type\":\"FuncTickFormatter\"},{\"attributes\":{\"source\":{\"id\":\"1297\"}},\"id\":\"1359\",\"type\":\"CDSView\"},{\"attributes\":{\"label\":{\"value\":\"no_paso\"},\"renderers\":[{\"id\":\"1344\"}]},\"id\":\"1354\",\"type\":\"LegendItem\"},{\"attributes\":{\"source\":{\"id\":\"1297\"}},\"id\":\"1372\",\"type\":\"CDSView\"},{\"attributes\":{},\"id\":\"1305\",\"type\":\"LinearScale\"},{\"attributes\":{},\"id\":\"1303\",\"type\":\"DataRange1d\"},{\"attributes\":{},\"id\":\"1321\",\"type\":\"ResetTool\"},{\"attributes\":{\"data_source\":{\"id\":\"1297\"},\"glyph\":{\"id\":\"1356\"},\"hover_glyph\":null,\"muted_glyph\":null,\"name\":\"paso\",\"nonselection_glyph\":{\"id\":\"1357\"},\"selection_glyph\":null,\"view\":{\"id\":\"1359\"}},\"id\":\"1358\",\"type\":\"GlyphRenderer\"},{\"attributes\":{\"fields\":[\"no_paso\"]},\"id\":\"1334\",\"type\":\"Stack\"},{\"attributes\":{\"data_source\":{\"id\":\"1297\"},\"glyph\":{\"id\":\"1369\"},\"hover_glyph\":null,\"muted_glyph\":null,\"name\":\"prom_no_paso\",\"nonselection_glyph\":{\"id\":\"1370\"},\"selection_glyph\":null,\"view\":{\"id\":\"1372\"}},\"id\":\"1371\",\"type\":\"GlyphRenderer\"},{\"attributes\":{},\"id\":\"1310\",\"type\":\"BasicTicker\"},{\"attributes\":{\"callback\":null,\"mode\":\"hline\",\"renderers\":[{\"id\":\"1384\"}],\"tooltips\":[[\"x\",\"@__x__values_original\"],[\"no_paso\",\"@{no_paso}\"],[\"paso\",\"@{paso}\"],[\"prom_no_paso\",\"@{prom_no_paso}\"],[\"prom_paso\",\"@{prom_paso}\"]]},\"id\":\"1394\",\"type\":\"HoverTool\"},{\"attributes\":{\"ticks\":[0,1,2,3,4,5,6,7,8,9,10,11,12,13,14,15,16,17,18,19,20,21,22,23,24,25,26,27,28,29,30,31,32,33,34,35,36,37,38,39]},\"id\":\"1396\",\"type\":\"FixedTicker\"},{\"attributes\":{\"fill_color\":{\"value\":\"#2ca02c\"},\"height\":{\"value\":0.8},\"left\":{\"expr\":{\"id\":\"1337\"}},\"line_color\":{\"value\":\"#2ca02c\"},\"line_width\":{\"value\":2},\"right\":{\"expr\":{\"id\":\"1338\"}},\"y\":{\"field\":\"__x__values\"}},\"id\":\"1369\",\"type\":\"HBar\"},{\"attributes\":{\"bottom_units\":\"screen\",\"fill_alpha\":0.5,\"fill_color\":\"lightgrey\",\"left_units\":\"screen\",\"level\":\"overlay\",\"line_alpha\":1.0,\"line_color\":\"black\",\"line_dash\":[4,4],\"line_width\":2,\"right_units\":\"screen\",\"top_units\":\"screen\"},\"id\":\"1323\",\"type\":\"BoxAnnotation\"},{\"attributes\":{},\"id\":\"1317\",\"type\":\"PanTool\"},{\"attributes\":{},\"id\":\"1351\",\"type\":\"Selection\"},{\"attributes\":{\"text\":\"\"},\"id\":\"1299\",\"type\":\"Title\"},{\"attributes\":{\"formatter\":{\"id\":\"1347\"},\"ticker\":{\"id\":\"1310\"}},\"id\":\"1309\",\"type\":\"LinearAxis\"},{\"attributes\":{},\"id\":\"1347\",\"type\":\"BasicTickFormatter\"},{\"attributes\":{},\"id\":\"1320\",\"type\":\"SaveTool\"},{\"attributes\":{\"overlay\":{\"id\":\"1323\"}},\"id\":\"1319\",\"type\":\"BoxZoomTool\"},{\"attributes\":{},\"id\":\"1307\",\"type\":\"LinearScale\"},{\"attributes\":{},\"id\":\"1352\",\"type\":\"UnionRenderers\"},{\"attributes\":{\"data_source\":{\"id\":\"1297\"},\"glyph\":{\"id\":\"1342\"},\"hover_glyph\":null,\"muted_glyph\":null,\"name\":\"no_paso\",\"nonselection_glyph\":{\"id\":\"1343\"},\"selection_glyph\":null,\"view\":{\"id\":\"1345\"}},\"id\":\"1344\",\"type\":\"GlyphRenderer\"},{\"attributes\":{\"label\":{\"value\":\"prom_paso\"},\"renderers\":[{\"id\":\"1384\"}]},\"id\":\"1393\",\"type\":\"LegendItem\"},{\"attributes\":{\"active_drag\":\"auto\",\"active_inspect\":\"auto\",\"active_multi\":null,\"active_scroll\":{\"id\":\"1318\"},\"active_tap\":\"auto\",\"tools\":[{\"id\":\"1317\"},{\"id\":\"1318\"},{\"id\":\"1319\"},{\"id\":\"1320\"},{\"id\":\"1321\"},{\"id\":\"1322\"},{\"id\":\"1394\"}]},\"id\":\"1324\",\"type\":\"Toolbar\"},{\"attributes\":{\"source\":{\"id\":\"1297\"}},\"id\":\"1385\",\"type\":\"CDSView\"},{\"attributes\":{\"fill_alpha\":{\"value\":0.1},\"fill_color\":{\"value\":\"#ff7f0e\"},\"height\":{\"value\":0.8},\"left\":{\"expr\":{\"id\":\"1335\"}},\"line_alpha\":{\"value\":0.1},\"line_color\":{\"value\":\"#ff7f0e\"},\"line_width\":{\"value\":2},\"right\":{\"expr\":{\"id\":\"1336\"}},\"y\":{\"field\":\"__x__values\"}},\"id\":\"1357\",\"type\":\"HBar\"},{\"attributes\":{\"formatter\":{\"id\":\"1331\"},\"ticker\":{\"id\":\"1396\"}},\"id\":\"1313\",\"type\":\"LinearAxis\"},{\"attributes\":{\"fields\":[\"no_paso\",\"paso\"]},\"id\":\"1337\",\"type\":\"Stack\"},{\"attributes\":{\"fill_alpha\":{\"value\":0.1},\"fill_color\":{\"value\":\"#d62728\"},\"height\":{\"value\":0.8},\"left\":{\"expr\":{\"id\":\"1339\"}},\"line_alpha\":{\"value\":0.1},\"line_color\":{\"value\":\"#d62728\"},\"line_width\":{\"value\":2},\"right\":{\"expr\":{\"id\":\"1340\"}},\"y\":{\"field\":\"__x__values\"}},\"id\":\"1383\",\"type\":\"HBar\"},{\"attributes\":{\"fill_color\":{\"value\":\"#ff7f0e\"},\"height\":{\"value\":0.8},\"left\":{\"expr\":{\"id\":\"1335\"}},\"line_color\":{\"value\":\"#ff7f0e\"},\"line_width\":{\"value\":2},\"right\":{\"expr\":{\"id\":\"1336\"}},\"y\":{\"field\":\"__x__values\"}},\"id\":\"1356\",\"type\":\"HBar\"},{\"attributes\":{\"fill_alpha\":{\"value\":0.1},\"fill_color\":{\"value\":\"#2ca02c\"},\"height\":{\"value\":0.8},\"left\":{\"expr\":{\"id\":\"1337\"}},\"line_alpha\":{\"value\":0.1},\"line_color\":{\"value\":\"#2ca02c\"},\"line_width\":{\"value\":2},\"right\":{\"expr\":{\"id\":\"1338\"}},\"y\":{\"field\":\"__x__values\"}},\"id\":\"1370\",\"type\":\"HBar\"},{\"attributes\":{\"axis\":{\"id\":\"1313\"},\"dimension\":1,\"ticker\":null},\"id\":\"1316\",\"type\":\"Grid\"},{\"attributes\":{\"fill_color\":{\"value\":\"#d62728\"},\"height\":{\"value\":0.8},\"left\":{\"expr\":{\"id\":\"1339\"}},\"line_color\":{\"value\":\"#d62728\"},\"line_width\":{\"value\":2},\"right\":{\"expr\":{\"id\":\"1340\"}},\"y\":{\"field\":\"__x__values\"}},\"id\":\"1382\",\"type\":\"HBar\"},{\"attributes\":{\"fields\":[]},\"id\":\"1333\",\"type\":\"Stack\"},{\"attributes\":{},\"id\":\"1322\",\"type\":\"HelpTool\"},{\"attributes\":{\"data\":{\"__x__values\":[0,1,2,3,4,5,6,7,8,9,10,11,12,13,14,15,16,17,18,19,20,21,22,23,24,25,26,27,28,29,30,31,32,33,34,35,36,37,38,39],\"__x__values_original\":[0,1,2,3,4,5,6,7,8,9,10,11,12,13,14,15,16,17,18,19,20,21,22,23,24,25,26,27,28,29,30,31,32,33,34,35,36,37,38,39],\"no_paso\":[84,65,26,55,96,34,71,14,15,50,0,97,81,0,0,52,44,40,100,36,81,19,0,91,17,61,32,25,39,32,13,52,9,38,35,3,0,18,6,31],\"paso\":[41,50,32,34,29,32,30,34,28,37,50,87,49,319,66,46,36,29,32,40,38,28,161,240,33,29,32,34,39,30,31,36,33,31,33,32,94,30,31,38],\"prom_no_paso\":{\"__ndarray__\":\"Gy/dJAaB5T8hC1nIQhbiP9QIyz2NsNw/POMZz3jG4z/6fmq8dJPoP3zwwQcffOA/0ql5kLt+5j+rqqqqqqrSP5U1ZU1ZU9Y/vEAmxQtk4j8AAAAAAAAAAE5vetOb3uA/BD/wAz/w4z8AAAAAAAAAAAAAAAAAAAAAPzTWh8b64D+amZmZmZnhPynxM0r8jOI/Pvjggw8+6D8N5TWU11DePzYRyDURyOU/Z6O+s1Hf2T8AAAAAAAAAAHNhRs9cmNE/w/UoXI/C1T8GW7AFW7DlPwAAAAAAAOA/BA0ndV8e2z8AAAAAAADgP4QQQgghhOA/6aKLLrro0j/poosuuujiP9u2bdu2bcs/GiV+Romf4T94eHh4eHjgPxZf8RVf8bU/AAAAAAAAAAAAAAAAAADYPxxMkc+6wcQ/zLUDc+3A3D8=\",\"dtype\":\"float64\",\"order\":\"little\",\"shape\":[40]},\"prom_paso\":{\"__ndarray__\":\"y6FFtvP91D+96U1vetPbP5Z7GmG5p+E/hznMYQ5z2D8ZBFYOLbLNPwgffPDBB98/W6wM34gC0z+rqqqqqqrmPzZlTVlT1uQ/h36zdeg32z8AAAAAAADwP2QhC1nIQt4/+IEf+IEf2D8AAAAAAADwPwAAAAAAAPA/g5dT8HIK3j/NzMzMzMzcP64dmGsH5to/CB988MEHzz95DeU1lNfgP5Tdb5Tdb9Q/TK4gJlcQ4z8AAAAAAADwP0bPXJjRM+c/H4XrUbge5T/1SZ/0SZ/UPwAAAAAAAOA/fnlsRdBw4j8AAAAAAADgP/jee++9994/jC666KKL5j8vuuiiiy7aP0mSJEmSJOk/zLUDc+3A3D8PDw8PDw/fPx3UQR3UQe0/AAAAAAAA8D8AAAAAAADkP/msG0yRz+o/GiV+Romf4T8=\",\"dtype\":\"float64\",\"order\":\"little\",\"shape\":[40]}},\"selected\":{\"id\":\"1351\"},\"selection_policy\":{\"id\":\"1352\"}},\"id\":\"1297\",\"type\":\"ColumnDataSource\"},{\"attributes\":{\"fields\":[\"no_paso\",\"paso\"]},\"id\":\"1336\",\"type\":\"Stack\"},{\"attributes\":{\"axis\":{\"id\":\"1309\"},\"ticker\":null},\"id\":\"1312\",\"type\":\"Grid\"},{\"attributes\":{},\"id\":\"1318\",\"type\":\"WheelZoomTool\"},{\"attributes\":{},\"id\":\"1301\",\"type\":\"DataRange1d\"}],\"root_ids\":[\"1298\"]},\"title\":\"Bokeh Application\",\"version\":\"2.2.3\"}};\n",
       "  var render_items = [{\"docid\":\"14e25b57-704c-41d1-a542-cb551c0063fe\",\"root_ids\":[\"1298\"],\"roots\":{\"1298\":\"8e1d7847-c52b-481f-a16c-1a86f0837b2d\"}}];\n",
       "  root.Bokeh.embed.embed_items_notebook(docs_json, render_items);\n",
       "\n",
       "  }\n",
       "  if (root.Bokeh !== undefined) {\n",
       "    embed_document(root);\n",
       "  } else {\n",
       "    var attempts = 0;\n",
       "    var timer = setInterval(function(root) {\n",
       "      if (root.Bokeh !== undefined) {\n",
       "        clearInterval(timer);\n",
       "        embed_document(root);\n",
       "      } else {\n",
       "        attempts++;\n",
       "        if (attempts > 100) {\n",
       "          clearInterval(timer);\n",
       "          console.log(\"Bokeh: ERROR: Unable to run BokehJS code because BokehJS library is missing\");\n",
       "        }\n",
       "      }\n",
       "    }, 10, root)\n",
       "  }\n",
       "})(window);"
      ],
      "application/vnd.bokehjs_exec.v0+json": ""
     },
     "metadata": {
      "application/vnd.bokehjs_exec.v0+json": {
       "id": "1298"
      }
     },
     "output_type": "display_data"
    }
   ],
   "source": [
    "#Frecuencia de Estatus y probabilidad de aproba o desaprobar del grupo a por index de ejercicio\n",
    "df_ex_name.plot_bokeh(kind='barh',stacked=True);"
   ]
  },
  {
   "cell_type": "code",
   "execution_count": 54,
   "metadata": {
    "colab": {
     "base_uri": "https://localhost:8080/",
     "height": 1000
    },
    "id": "r0soeGePw4OY",
    "outputId": "c172b3cc-d6f9-47fe-8f63-f324618c014e"
   },
   "outputs": [
    {
     "data": {
      "text/html": [
       "<div>\n",
       "<style scoped>\n",
       "    .dataframe tbody tr th:only-of-type {\n",
       "        vertical-align: middle;\n",
       "    }\n",
       "\n",
       "    .dataframe tbody tr th {\n",
       "        vertical-align: top;\n",
       "    }\n",
       "\n",
       "    .dataframe thead th {\n",
       "        text-align: right;\n",
       "    }\n",
       "</style>\n",
       "<table border=\"1\" class=\"dataframe\">\n",
       "  <thead>\n",
       "    <tr style=\"text-align: right;\">\n",
       "      <th>Estatus</th>\n",
       "      <th>exercise_name</th>\n",
       "      <th>no_paso</th>\n",
       "      <th>paso</th>\n",
       "      <th>prom_no_paso</th>\n",
       "      <th>prom_paso</th>\n",
       "    </tr>\n",
       "  </thead>\n",
       "  <tbody>\n",
       "    <tr>\n",
       "      <th>0</th>\n",
       "      <td>Booleanos</td>\n",
       "      <td>938</td>\n",
       "      <td>212</td>\n",
       "      <td>0.815652</td>\n",
       "      <td>0.184348</td>\n",
       "    </tr>\n",
       "    <tr>\n",
       "      <th>1</th>\n",
       "      <td>Calefones / Poniendo topes</td>\n",
       "      <td>1087</td>\n",
       "      <td>221</td>\n",
       "      <td>0.831040</td>\n",
       "      <td>0.168960</td>\n",
       "    </tr>\n",
       "    <tr>\n",
       "      <th>2</th>\n",
       "      <td>Cara o ceca</td>\n",
       "      <td>629</td>\n",
       "      <td>173</td>\n",
       "      <td>0.784289</td>\n",
       "      <td>0.215711</td>\n",
       "    </tr>\n",
       "    <tr>\n",
       "      <th>3</th>\n",
       "      <td>Cartelitos</td>\n",
       "      <td>1290</td>\n",
       "      <td>195</td>\n",
       "      <td>0.868687</td>\n",
       "      <td>0.131313</td>\n",
       "    </tr>\n",
       "    <tr>\n",
       "      <th>4</th>\n",
       "      <td>Cartelitos óptimos</td>\n",
       "      <td>1306</td>\n",
       "      <td>166</td>\n",
       "      <td>0.887228</td>\n",
       "      <td>0.112772</td>\n",
       "    </tr>\n",
       "    <tr>\n",
       "      <th>5</th>\n",
       "      <td>Comprando Hardware</td>\n",
       "      <td>561</td>\n",
       "      <td>200</td>\n",
       "      <td>0.737188</td>\n",
       "      <td>0.262812</td>\n",
       "    </tr>\n",
       "    <tr>\n",
       "      <th>6</th>\n",
       "      <td>Conversiones</td>\n",
       "      <td>1233</td>\n",
       "      <td>179</td>\n",
       "      <td>0.873229</td>\n",
       "      <td>0.126771</td>\n",
       "    </tr>\n",
       "    <tr>\n",
       "      <th>7</th>\n",
       "      <td>Cuadrados</td>\n",
       "      <td>394</td>\n",
       "      <td>184</td>\n",
       "      <td>0.681661</td>\n",
       "      <td>0.318339</td>\n",
       "    </tr>\n",
       "    <tr>\n",
       "      <th>8</th>\n",
       "      <td>El círculo de la vida</td>\n",
       "      <td>493</td>\n",
       "      <td>173</td>\n",
       "      <td>0.740240</td>\n",
       "      <td>0.259760</td>\n",
       "    </tr>\n",
       "    <tr>\n",
       "      <th>9</th>\n",
       "      <td>El retorno del booleano</td>\n",
       "      <td>1249</td>\n",
       "      <td>206</td>\n",
       "      <td>0.858419</td>\n",
       "      <td>0.141581</td>\n",
       "    </tr>\n",
       "    <tr>\n",
       "      <th>10</th>\n",
       "      <td>Esto no tiene valor</td>\n",
       "      <td>0</td>\n",
       "      <td>328</td>\n",
       "      <td>0.000000</td>\n",
       "      <td>1.000000</td>\n",
       "    </tr>\n",
       "    <tr>\n",
       "      <th>11</th>\n",
       "      <td>Funciones, declaración / No tan distintos</td>\n",
       "      <td>943</td>\n",
       "      <td>447</td>\n",
       "      <td>0.678417</td>\n",
       "      <td>0.321583</td>\n",
       "    </tr>\n",
       "    <tr>\n",
       "      <th>12</th>\n",
       "      <td>Funciones, uso</td>\n",
       "      <td>862</td>\n",
       "      <td>229</td>\n",
       "      <td>0.790101</td>\n",
       "      <td>0.209899</td>\n",
       "    </tr>\n",
       "    <tr>\n",
       "      <th>13</th>\n",
       "      <td>Haciendo cuentas</td>\n",
       "      <td>0</td>\n",
       "      <td>1590</td>\n",
       "      <td>0.000000</td>\n",
       "      <td>1.000000</td>\n",
       "    </tr>\n",
       "    <tr>\n",
       "      <th>14</th>\n",
       "      <td>Impresión por pantalla</td>\n",
       "      <td>0</td>\n",
       "      <td>443</td>\n",
       "      <td>0.000000</td>\n",
       "      <td>1.000000</td>\n",
       "    </tr>\n",
       "    <tr>\n",
       "      <th>15</th>\n",
       "      <td>Libros de la buena memoria</td>\n",
       "      <td>954</td>\n",
       "      <td>221</td>\n",
       "      <td>0.811915</td>\n",
       "      <td>0.188085</td>\n",
       "    </tr>\n",
       "    <tr>\n",
       "      <th>16</th>\n",
       "      <td>Los premios</td>\n",
       "      <td>1076</td>\n",
       "      <td>191</td>\n",
       "      <td>0.849250</td>\n",
       "      <td>0.150750</td>\n",
       "    </tr>\n",
       "    <tr>\n",
       "      <th>17</th>\n",
       "      <td>Martin Fierro</td>\n",
       "      <td>913</td>\n",
       "      <td>166</td>\n",
       "      <td>0.846154</td>\n",
       "      <td>0.153846</td>\n",
       "    </tr>\n",
       "    <tr>\n",
       "      <th>18</th>\n",
       "      <td>Más Cartelitos</td>\n",
       "      <td>1799</td>\n",
       "      <td>194</td>\n",
       "      <td>0.902659</td>\n",
       "      <td>0.097341</td>\n",
       "    </tr>\n",
       "    <tr>\n",
       "      <th>19</th>\n",
       "      <td>Operando strings</td>\n",
       "      <td>1879</td>\n",
       "      <td>213</td>\n",
       "      <td>0.898184</td>\n",
       "      <td>0.101816</td>\n",
       "    </tr>\n",
       "    <tr>\n",
       "      <th>20</th>\n",
       "      <td>Palabras, sólo palabras</td>\n",
       "      <td>2284</td>\n",
       "      <td>207</td>\n",
       "      <td>0.916901</td>\n",
       "      <td>0.083099</td>\n",
       "    </tr>\n",
       "    <tr>\n",
       "      <th>21</th>\n",
       "      <td>Pienso que así es más fácil</td>\n",
       "      <td>152</td>\n",
       "      <td>166</td>\n",
       "      <td>0.477987</td>\n",
       "      <td>0.522013</td>\n",
       "    </tr>\n",
       "    <tr>\n",
       "      <th>22</th>\n",
       "      <td>Probando funciones</td>\n",
       "      <td>0</td>\n",
       "      <td>720</td>\n",
       "      <td>0.000000</td>\n",
       "      <td>1.000000</td>\n",
       "    </tr>\n",
       "    <tr>\n",
       "      <th>23</th>\n",
       "      <td>Tipos de datos / Datos de todo tipo</td>\n",
       "      <td>1061</td>\n",
       "      <td>1266</td>\n",
       "      <td>0.455952</td>\n",
       "      <td>0.544048</td>\n",
       "    </tr>\n",
       "    <tr>\n",
       "      <th>24</th>\n",
       "      <td>Triangulos</td>\n",
       "      <td>456</td>\n",
       "      <td>184</td>\n",
       "      <td>0.712500</td>\n",
       "      <td>0.287500</td>\n",
       "    </tr>\n",
       "    <tr>\n",
       "      <th>25</th>\n",
       "      <td>Variables globales</td>\n",
       "      <td>1008</td>\n",
       "      <td>164</td>\n",
       "      <td>0.860068</td>\n",
       "      <td>0.139932</td>\n",
       "    </tr>\n",
       "    <tr>\n",
       "      <th>26</th>\n",
       "      <td>Volviéndonos ricos</td>\n",
       "      <td>953</td>\n",
       "      <td>170</td>\n",
       "      <td>0.848620</td>\n",
       "      <td>0.151380</td>\n",
       "    </tr>\n",
       "    <tr>\n",
       "      <th>27</th>\n",
       "      <td>¡Envido!</td>\n",
       "      <td>602</td>\n",
       "      <td>174</td>\n",
       "      <td>0.775773</td>\n",
       "      <td>0.224227</td>\n",
       "    </tr>\n",
       "    <tr>\n",
       "      <th>28</th>\n",
       "      <td>¡GRITAR!</td>\n",
       "      <td>1293</td>\n",
       "      <td>200</td>\n",
       "      <td>0.866042</td>\n",
       "      <td>0.133958</td>\n",
       "    </tr>\n",
       "    <tr>\n",
       "      <th>29</th>\n",
       "      <td>¡Quiero retruco!</td>\n",
       "      <td>849</td>\n",
       "      <td>160</td>\n",
       "      <td>0.841427</td>\n",
       "      <td>0.158573</td>\n",
       "    </tr>\n",
       "    <tr>\n",
       "      <th>30</th>\n",
       "      <td>¡Quiero vale cuatro!</td>\n",
       "      <td>366</td>\n",
       "      <td>161</td>\n",
       "      <td>0.694497</td>\n",
       "      <td>0.305503</td>\n",
       "    </tr>\n",
       "    <tr>\n",
       "      <th>31</th>\n",
       "      <td>¿De qué signo sos?</td>\n",
       "      <td>1267</td>\n",
       "      <td>198</td>\n",
       "      <td>0.864846</td>\n",
       "      <td>0.135154</td>\n",
       "    </tr>\n",
       "    <tr>\n",
       "      <th>32</th>\n",
       "      <td>¿Está afinado?</td>\n",
       "      <td>403</td>\n",
       "      <td>181</td>\n",
       "      <td>0.690068</td>\n",
       "      <td>0.309932</td>\n",
       "    </tr>\n",
       "    <tr>\n",
       "      <th>33</th>\n",
       "      <td>¿Está cerca?</td>\n",
       "      <td>949</td>\n",
       "      <td>179</td>\n",
       "      <td>0.841312</td>\n",
       "      <td>0.158688</td>\n",
       "    </tr>\n",
       "    <tr>\n",
       "      <th>34</th>\n",
       "      <td>¿Me conviene?</td>\n",
       "      <td>1819</td>\n",
       "      <td>179</td>\n",
       "      <td>0.910410</td>\n",
       "      <td>0.089590</td>\n",
       "    </tr>\n",
       "    <tr>\n",
       "      <th>35</th>\n",
       "      <td>¿Y el program?</td>\n",
       "      <td>17</td>\n",
       "      <td>182</td>\n",
       "      <td>0.085427</td>\n",
       "      <td>0.914573</td>\n",
       "    </tr>\n",
       "    <tr>\n",
       "      <th>36</th>\n",
       "      <td>¿Y el tablero?</td>\n",
       "      <td>0</td>\n",
       "      <td>410</td>\n",
       "      <td>0.000000</td>\n",
       "      <td>1.000000</td>\n",
       "    </tr>\n",
       "    <tr>\n",
       "      <th>37</th>\n",
       "      <td>¿Y esto cuánto vale?</td>\n",
       "      <td>294</td>\n",
       "      <td>170</td>\n",
       "      <td>0.633621</td>\n",
       "      <td>0.366379</td>\n",
       "    </tr>\n",
       "    <tr>\n",
       "      <th>38</th>\n",
       "      <td>¿Y los procedimientos?</td>\n",
       "      <td>30</td>\n",
       "      <td>169</td>\n",
       "      <td>0.150754</td>\n",
       "      <td>0.849246</td>\n",
       "    </tr>\n",
       "    <tr>\n",
       "      <th>39</th>\n",
       "      <td>¿Y qué tal si...?</td>\n",
       "      <td>693</td>\n",
       "      <td>194</td>\n",
       "      <td>0.781285</td>\n",
       "      <td>0.218715</td>\n",
       "    </tr>\n",
       "  </tbody>\n",
       "</table>\n",
       "</div>"
      ],
      "text/plain": [
       "Estatus                              exercise_name  no_paso  paso  \\\n",
       "0                                        Booleanos      938   212   \n",
       "1                       Calefones / Poniendo topes     1087   221   \n",
       "2                                      Cara o ceca      629   173   \n",
       "3                                       Cartelitos     1290   195   \n",
       "4                               Cartelitos óptimos     1306   166   \n",
       "5                               Comprando Hardware      561   200   \n",
       "6                                     Conversiones     1233   179   \n",
       "7                                        Cuadrados      394   184   \n",
       "8                            El círculo de la vida      493   173   \n",
       "9                          El retorno del booleano     1249   206   \n",
       "10                             Esto no tiene valor        0   328   \n",
       "11       Funciones, declaración / No tan distintos      943   447   \n",
       "12                                  Funciones, uso      862   229   \n",
       "13                                Haciendo cuentas        0  1590   \n",
       "14                          Impresión por pantalla        0   443   \n",
       "15                      Libros de la buena memoria      954   221   \n",
       "16                                     Los premios     1076   191   \n",
       "17                                   Martin Fierro      913   166   \n",
       "18                                  Más Cartelitos     1799   194   \n",
       "19                                Operando strings     1879   213   \n",
       "20                         Palabras, sólo palabras     2284   207   \n",
       "21                     Pienso que así es más fácil      152   166   \n",
       "22                              Probando funciones        0   720   \n",
       "23             Tipos de datos / Datos de todo tipo     1061  1266   \n",
       "24                                      Triangulos      456   184   \n",
       "25                              Variables globales     1008   164   \n",
       "26                              Volviéndonos ricos      953   170   \n",
       "27                                        ¡Envido!      602   174   \n",
       "28                                        ¡GRITAR!     1293   200   \n",
       "29                                ¡Quiero retruco!      849   160   \n",
       "30                            ¡Quiero vale cuatro!      366   161   \n",
       "31                              ¿De qué signo sos?     1267   198   \n",
       "32                                  ¿Está afinado?      403   181   \n",
       "33                                    ¿Está cerca?      949   179   \n",
       "34                                   ¿Me conviene?     1819   179   \n",
       "35                                  ¿Y el program?       17   182   \n",
       "36                                  ¿Y el tablero?        0   410   \n",
       "37                            ¿Y esto cuánto vale?      294   170   \n",
       "38                          ¿Y los procedimientos?       30   169   \n",
       "39                               ¿Y qué tal si...?      693   194   \n",
       "\n",
       "Estatus  prom_no_paso  prom_paso  \n",
       "0            0.815652   0.184348  \n",
       "1            0.831040   0.168960  \n",
       "2            0.784289   0.215711  \n",
       "3            0.868687   0.131313  \n",
       "4            0.887228   0.112772  \n",
       "5            0.737188   0.262812  \n",
       "6            0.873229   0.126771  \n",
       "7            0.681661   0.318339  \n",
       "8            0.740240   0.259760  \n",
       "9            0.858419   0.141581  \n",
       "10           0.000000   1.000000  \n",
       "11           0.678417   0.321583  \n",
       "12           0.790101   0.209899  \n",
       "13           0.000000   1.000000  \n",
       "14           0.000000   1.000000  \n",
       "15           0.811915   0.188085  \n",
       "16           0.849250   0.150750  \n",
       "17           0.846154   0.153846  \n",
       "18           0.902659   0.097341  \n",
       "19           0.898184   0.101816  \n",
       "20           0.916901   0.083099  \n",
       "21           0.477987   0.522013  \n",
       "22           0.000000   1.000000  \n",
       "23           0.455952   0.544048  \n",
       "24           0.712500   0.287500  \n",
       "25           0.860068   0.139932  \n",
       "26           0.848620   0.151380  \n",
       "27           0.775773   0.224227  \n",
       "28           0.866042   0.133958  \n",
       "29           0.841427   0.158573  \n",
       "30           0.694497   0.305503  \n",
       "31           0.864846   0.135154  \n",
       "32           0.690068   0.309932  \n",
       "33           0.841312   0.158688  \n",
       "34           0.910410   0.089590  \n",
       "35           0.085427   0.914573  \n",
       "36           0.000000   1.000000  \n",
       "37           0.633621   0.366379  \n",
       "38           0.150754   0.849246  \n",
       "39           0.781285   0.218715  "
      ]
     },
     "execution_count": 54,
     "metadata": {},
     "output_type": "execute_result"
    }
   ],
   "source": [
    "#analisis de prob de pasar cada tipo de ejercicio si se es del grupo b\n",
    "\n",
    "array_std_id_no_paso=[ student_uid for student_uid, ex_status in zip(df_promedio_por_ej_por_std['student_uid'],df_promedio_por_ej_por_std['grupo_submission_status']) if ex_status=='no_paso' ]\n",
    "\n",
    "df_std_id_no_paso=df[ df['student_uid'].isin(array_std_id_no_paso)]\n",
    "\n",
    "df_ex_name_no_paso=df_std_id_no_paso.groupby(['exercise_name']).Estatus.value_counts() \\\n",
    "  .unstack(fill_value=0).reset_index()\n",
    "\n",
    "df_ex_name_no_paso['prom_no_paso']=[no_paso/(no_paso+paso) for paso,no_paso in zip(df_ex_name_no_paso['paso'],df_ex_name_no_paso['no_paso'])]\n",
    "df_ex_name_no_paso['prom_paso']=[paso/(no_paso+paso) for paso,no_paso in zip(df_ex_name_no_paso['paso'],df_ex_name_no_paso['no_paso'])]\n",
    "\n",
    "df_ex_name_no_paso"
   ]
  },
  {
   "cell_type": "code",
   "execution_count": 55,
   "metadata": {
    "colab": {
     "base_uri": "https://localhost:8080/",
     "height": 416
    },
    "id": "JSjKYsOm13E5",
    "outputId": "f561ca1a-bfc1-49d0-af3a-8dcbc1e5cac9"
   },
   "outputs": [
    {
     "data": {
      "text/html": [
       "\n",
       "\n",
       "\n",
       "\n",
       "\n",
       "\n",
       "  <div class=\"bk-root\" id=\"ca215d58-4c10-49cf-aaf7-da3adf4b195e\" data-root-id=\"1482\"></div>\n"
      ]
     },
     "metadata": {},
     "output_type": "display_data"
    },
    {
     "data": {
      "application/javascript": [
       "(function(root) {\n",
       "  function embed_document(root) {\n",
       "    \n",
       "  var docs_json = {\"572a1d35-5f69-4fc6-a6a8-4fd6d0671fc9\":{\"roots\":{\"references\":[{\"attributes\":{\"below\":[{\"id\":\"1493\"}],\"center\":[{\"id\":\"1496\"},{\"id\":\"1500\"},{\"id\":\"1537\"}],\"left\":[{\"id\":\"1497\"}],\"output_backend\":\"webgl\",\"plot_height\":400,\"renderers\":[{\"id\":\"1528\"},{\"id\":\"1542\"},{\"id\":\"1555\"},{\"id\":\"1568\"}],\"sizing_mode\":\"fixed\",\"title\":{\"id\":\"1483\"},\"toolbar\":{\"id\":\"1508\"},\"x_range\":{\"id\":\"1485\"},\"x_scale\":{\"id\":\"1489\"},\"y_range\":{\"id\":\"1487\"},\"y_scale\":{\"id\":\"1491\"}},\"id\":\"1482\",\"subtype\":\"Figure\",\"type\":\"Plot\"},{\"attributes\":{\"source\":{\"id\":\"1481\"}},\"id\":\"1556\",\"type\":\"CDSView\"},{\"attributes\":{\"label\":{\"value\":\"prom_no_paso\"},\"renderers\":[{\"id\":\"1555\"}]},\"id\":\"1564\",\"type\":\"LegendItem\"},{\"attributes\":{\"fill_color\":{\"value\":\"#1f77b4\"},\"height\":{\"value\":0.8},\"left\":{\"expr\":{\"id\":\"1517\"}},\"line_color\":{\"value\":\"#1f77b4\"},\"line_width\":{\"value\":2},\"right\":{\"expr\":{\"id\":\"1518\"}},\"y\":{\"field\":\"__x__values\"}},\"id\":\"1526\",\"type\":\"HBar\"},{\"attributes\":{\"fields\":[\"no_paso\",\"paso\",\"prom_no_paso\"]},\"id\":\"1523\",\"type\":\"Stack\"},{\"attributes\":{\"source\":{\"id\":\"1481\"}},\"id\":\"1543\",\"type\":\"CDSView\"},{\"attributes\":{\"axis\":{\"id\":\"1497\"},\"dimension\":1,\"ticker\":null},\"id\":\"1500\",\"type\":\"Grid\"},{\"attributes\":{\"bottom_units\":\"screen\",\"fill_alpha\":0.5,\"fill_color\":\"lightgrey\",\"left_units\":\"screen\",\"level\":\"overlay\",\"line_alpha\":1.0,\"line_color\":\"black\",\"line_dash\":[4,4],\"line_width\":2,\"right_units\":\"screen\",\"top_units\":\"screen\"},\"id\":\"1507\",\"type\":\"BoxAnnotation\"},{\"attributes\":{\"fields\":[\"no_paso\",\"paso\",\"prom_no_paso\",\"prom_paso\"]},\"id\":\"1524\",\"type\":\"Stack\"},{\"attributes\":{},\"id\":\"1491\",\"type\":\"LinearScale\"},{\"attributes\":{\"overlay\":{\"id\":\"1507\"}},\"id\":\"1503\",\"type\":\"BoxZoomTool\"},{\"attributes\":{\"label\":{\"value\":\"paso\"},\"renderers\":[{\"id\":\"1542\"}]},\"id\":\"1551\",\"type\":\"LegendItem\"},{\"attributes\":{},\"id\":\"1506\",\"type\":\"HelpTool\"},{\"attributes\":{\"fill_alpha\":{\"value\":0.1},\"fill_color\":{\"value\":\"#d62728\"},\"height\":{\"value\":0.8},\"left\":{\"expr\":{\"id\":\"1523\"}},\"line_alpha\":{\"value\":0.1},\"line_color\":{\"value\":\"#d62728\"},\"line_width\":{\"value\":2},\"right\":{\"expr\":{\"id\":\"1524\"}},\"y\":{\"field\":\"__x__values\"}},\"id\":\"1567\",\"type\":\"HBar\"},{\"attributes\":{\"fields\":[\"no_paso\",\"paso\"]},\"id\":\"1521\",\"type\":\"Stack\"},{\"attributes\":{\"data_source\":{\"id\":\"1481\"},\"glyph\":{\"id\":\"1566\"},\"hover_glyph\":null,\"muted_glyph\":null,\"name\":\"prom_paso\",\"nonselection_glyph\":{\"id\":\"1567\"},\"selection_glyph\":null,\"view\":{\"id\":\"1569\"}},\"id\":\"1568\",\"type\":\"GlyphRenderer\"},{\"attributes\":{\"fill_color\":{\"value\":\"#d62728\"},\"height\":{\"value\":0.8},\"left\":{\"expr\":{\"id\":\"1523\"}},\"line_color\":{\"value\":\"#d62728\"},\"line_width\":{\"value\":2},\"right\":{\"expr\":{\"id\":\"1524\"}},\"y\":{\"field\":\"__x__values\"}},\"id\":\"1566\",\"type\":\"HBar\"},{\"attributes\":{\"fill_alpha\":{\"value\":0.1},\"fill_color\":{\"value\":\"#1f77b4\"},\"height\":{\"value\":0.8},\"left\":{\"expr\":{\"id\":\"1517\"}},\"line_alpha\":{\"value\":0.1},\"line_color\":{\"value\":\"#1f77b4\"},\"line_width\":{\"value\":2},\"right\":{\"expr\":{\"id\":\"1518\"}},\"y\":{\"field\":\"__x__values\"}},\"id\":\"1527\",\"type\":\"HBar\"},{\"attributes\":{\"text\":\"\"},\"id\":\"1483\",\"type\":\"Title\"},{\"attributes\":{\"fill_color\":{\"value\":\"#ff7f0e\"},\"height\":{\"value\":0.8},\"left\":{\"expr\":{\"id\":\"1519\"}},\"line_color\":{\"value\":\"#ff7f0e\"},\"line_width\":{\"value\":2},\"right\":{\"expr\":{\"id\":\"1520\"}},\"y\":{\"field\":\"__x__values\"}},\"id\":\"1540\",\"type\":\"HBar\"},{\"attributes\":{},\"id\":\"1536\",\"type\":\"UnionRenderers\"},{\"attributes\":{\"label\":{\"value\":\"prom_paso\"},\"renderers\":[{\"id\":\"1568\"}]},\"id\":\"1577\",\"type\":\"LegendItem\"},{\"attributes\":{\"source\":{\"id\":\"1481\"}},\"id\":\"1529\",\"type\":\"CDSView\"},{\"attributes\":{},\"id\":\"1502\",\"type\":\"WheelZoomTool\"},{\"attributes\":{},\"id\":\"1505\",\"type\":\"ResetTool\"},{\"attributes\":{},\"id\":\"1485\",\"type\":\"DataRange1d\"},{\"attributes\":{\"fields\":[]},\"id\":\"1517\",\"type\":\"Stack\"},{\"attributes\":{\"data_source\":{\"id\":\"1481\"},\"glyph\":{\"id\":\"1526\"},\"hover_glyph\":null,\"muted_glyph\":null,\"name\":\"no_paso\",\"nonselection_glyph\":{\"id\":\"1527\"},\"selection_glyph\":null,\"view\":{\"id\":\"1529\"}},\"id\":\"1528\",\"type\":\"GlyphRenderer\"},{\"attributes\":{\"fill_color\":{\"value\":\"#2ca02c\"},\"height\":{\"value\":0.8},\"left\":{\"expr\":{\"id\":\"1521\"}},\"line_color\":{\"value\":\"#2ca02c\"},\"line_width\":{\"value\":2},\"right\":{\"expr\":{\"id\":\"1522\"}},\"y\":{\"field\":\"__x__values\"}},\"id\":\"1553\",\"type\":\"HBar\"},{\"attributes\":{},\"id\":\"1489\",\"type\":\"LinearScale\"},{\"attributes\":{\"formatter\":{\"id\":\"1515\"},\"ticker\":{\"id\":\"1580\"}},\"id\":\"1497\",\"type\":\"LinearAxis\"},{\"attributes\":{\"axis\":{\"id\":\"1493\"},\"ticker\":null},\"id\":\"1496\",\"type\":\"Grid\"},{\"attributes\":{\"callback\":null,\"mode\":\"hline\",\"renderers\":[{\"id\":\"1568\"}],\"tooltips\":[[\"x\",\"@__x__values_original\"],[\"no_paso\",\"@{no_paso}\"],[\"paso\",\"@{paso}\"],[\"prom_no_paso\",\"@{prom_no_paso}\"],[\"prom_paso\",\"@{prom_paso}\"]]},\"id\":\"1578\",\"type\":\"HoverTool\"},{\"attributes\":{\"active_drag\":\"auto\",\"active_inspect\":\"auto\",\"active_multi\":null,\"active_scroll\":{\"id\":\"1502\"},\"active_tap\":\"auto\",\"tools\":[{\"id\":\"1501\"},{\"id\":\"1502\"},{\"id\":\"1503\"},{\"id\":\"1504\"},{\"id\":\"1505\"},{\"id\":\"1506\"},{\"id\":\"1578\"}]},\"id\":\"1508\",\"type\":\"Toolbar\"},{\"attributes\":{\"label\":{\"value\":\"no_paso\"},\"renderers\":[{\"id\":\"1528\"}]},\"id\":\"1538\",\"type\":\"LegendItem\"},{\"attributes\":{\"ticks\":[0,1,2,3,4,5,6,7,8,9,10,11,12,13,14,15,16,17,18,19,20,21,22,23,24,25,26,27,28,29,30,31,32,33,34,35,36,37,38,39]},\"id\":\"1580\",\"type\":\"FixedTicker\"},{\"attributes\":{},\"id\":\"1535\",\"type\":\"Selection\"},{\"attributes\":{},\"id\":\"1504\",\"type\":\"SaveTool\"},{\"attributes\":{\"items\":[{\"id\":\"1538\"},{\"id\":\"1551\"},{\"id\":\"1564\"},{\"id\":\"1577\"}]},\"id\":\"1537\",\"type\":\"Legend\"},{\"attributes\":{\"data_source\":{\"id\":\"1481\"},\"glyph\":{\"id\":\"1553\"},\"hover_glyph\":null,\"muted_glyph\":null,\"name\":\"prom_no_paso\",\"nonselection_glyph\":{\"id\":\"1554\"},\"selection_glyph\":null,\"view\":{\"id\":\"1556\"}},\"id\":\"1555\",\"type\":\"GlyphRenderer\"},{\"attributes\":{\"data_source\":{\"id\":\"1481\"},\"glyph\":{\"id\":\"1540\"},\"hover_glyph\":null,\"muted_glyph\":null,\"name\":\"paso\",\"nonselection_glyph\":{\"id\":\"1541\"},\"selection_glyph\":null,\"view\":{\"id\":\"1543\"}},\"id\":\"1542\",\"type\":\"GlyphRenderer\"},{\"attributes\":{\"fill_alpha\":{\"value\":0.1},\"fill_color\":{\"value\":\"#ff7f0e\"},\"height\":{\"value\":0.8},\"left\":{\"expr\":{\"id\":\"1519\"}},\"line_alpha\":{\"value\":0.1},\"line_color\":{\"value\":\"#ff7f0e\"},\"line_width\":{\"value\":2},\"right\":{\"expr\":{\"id\":\"1520\"}},\"y\":{\"field\":\"__x__values\"}},\"id\":\"1541\",\"type\":\"HBar\"},{\"attributes\":{\"fill_alpha\":{\"value\":0.1},\"fill_color\":{\"value\":\"#2ca02c\"},\"height\":{\"value\":0.8},\"left\":{\"expr\":{\"id\":\"1521\"}},\"line_alpha\":{\"value\":0.1},\"line_color\":{\"value\":\"#2ca02c\"},\"line_width\":{\"value\":2},\"right\":{\"expr\":{\"id\":\"1522\"}},\"y\":{\"field\":\"__x__values\"}},\"id\":\"1554\",\"type\":\"HBar\"},{\"attributes\":{\"fields\":[\"no_paso\",\"paso\"]},\"id\":\"1520\",\"type\":\"Stack\"},{\"attributes\":{\"fields\":[\"no_paso\",\"paso\",\"prom_no_paso\"]},\"id\":\"1522\",\"type\":\"Stack\"},{\"attributes\":{},\"id\":\"1494\",\"type\":\"BasicTicker\"},{\"attributes\":{},\"id\":\"1487\",\"type\":\"DataRange1d\"},{\"attributes\":{\"formatter\":{\"id\":\"1531\"},\"ticker\":{\"id\":\"1494\"}},\"id\":\"1493\",\"type\":\"LinearAxis\"},{\"attributes\":{\"fields\":[\"no_paso\"]},\"id\":\"1518\",\"type\":\"Stack\"},{\"attributes\":{\"source\":{\"id\":\"1481\"}},\"id\":\"1569\",\"type\":\"CDSView\"},{\"attributes\":{\"code\":\"\\n                                    var labels = {0: '0', 1: '1', 2: '2', 3: '3', 4: '4', 5: '5', 6: '6', 7: '7', 8: '8', 9: '9', 10: '10', 11: '11', 12: '12', 13: '13', 14: '14', 15: '15', 16: '16', 17: '17', 18: '18', 19: '19', 20: '20', 21: '21', 22: '22', 23: '23', 24: '24', 25: '25', 26: '26', 27: '27', 28: '28', 29: '29', 30: '30', 31: '31', 32: '32', 33: '33', 34: '34', 35: '35', 36: '36', 37: '37', 38: '38', 39: '39'};\\n                                    return labels[tick];\\n                                    \"},\"id\":\"1515\",\"type\":\"FuncTickFormatter\"},{\"attributes\":{\"fields\":[\"no_paso\"]},\"id\":\"1519\",\"type\":\"Stack\"},{\"attributes\":{},\"id\":\"1501\",\"type\":\"PanTool\"},{\"attributes\":{\"data\":{\"__x__values\":[0,1,2,3,4,5,6,7,8,9,10,11,12,13,14,15,16,17,18,19,20,21,22,23,24,25,26,27,28,29,30,31,32,33,34,35,36,37,38,39],\"__x__values_original\":[0,1,2,3,4,5,6,7,8,9,10,11,12,13,14,15,16,17,18,19,20,21,22,23,24,25,26,27,28,29,30,31,32,33,34,35,36,37,38,39],\"no_paso\":[938,1087,629,1290,1306,561,1233,394,493,1249,0,943,862,0,0,954,1076,913,1799,1879,2284,152,0,1061,456,1008,953,602,1293,849,366,1267,403,949,1819,17,0,294,30,693],\"paso\":[212,221,173,195,166,200,179,184,173,206,328,447,229,1590,443,221,191,166,194,213,207,166,720,1266,184,164,170,174,200,160,161,198,181,179,179,182,410,170,169,194],\"prom_no_paso\":{\"__ndarray__\":\"O8V7ltIZ6j9+KV2v4JfqP+3MT9PlGOk/IjFvZ0jM6z8WspCFLGTsP0Ab5xkLl+c/wbaE6X7x6z+UOd+EKtDlPwF74EwMsOc/O7Jloit46z8AAAAAAAAAAF0VaiCYteU/aupzhoFI6T8AAAAAAAAAAAAAAAAAAAAAug1n8TT76T+UEfO/Di3rPzuxEzuxE+s/pxOvxZXi7D9kHBJx673sP5JQ0G9AV+0/Mn+vjViX3j8AAAAAAAAAAL7L3L9QLt0/zczMzMzM5j9Vc8zerYXrP4orC6XkJ+s/sd0sTyLT6D9Dkn+4nLbrP/6HaKT47Oo/OdZJGFI55j8blk1k0qzrP1GhQoUKFeY/3GMtQwfs6j8h0lQDFSLtP2397YGN3rU/AAAAAAAAAADuaYTlnkbkP2Cjd0XmS8M/vLqP4kkA6T8=\",\"dtype\":\"float64\",\"order\":\"little\",\"shape\":[40]},\"prom_paso\":{\"__ndarray__\":\"E+sQprWYxz8IWotCfaDFP0rMwLJonMs/ejtDYt7OwD9Ob3rTm968P4HJMczp0dA//CTtWQQ6wD/YjEH2ql/UP/4JP2bnn9A/EjdpdlEfwj8AAAAAAADwP0bVK7/PlNQ/WlYw5vndyj8AAAAAAADwPwAAAAAAAPA/GcljOiwTyD+wuTMAxUvDPxQ7sRM7scM/x2KH0lHruD/hHG93pBC6P217fYH8RbU/Z0AouVO04D8AAAAAAADwPyGaEaDXaOE/ZmZmZmZm0j+tMs6ESOnBP9dR02ttYMM/PYlMw3azzD/1tgEejSXBPwjgXW4dTMQ/jVNsz1uN0z+Up8lutkzBP1+9evXq1dM/kXBK8+JPxD/1blnlV++2P1JAwk8uRO0/AAAAAAAA8D8jLPc0wnLXPygXom4GLes/EhXBddj+yz8=\",\"dtype\":\"float64\",\"order\":\"little\",\"shape\":[40]}},\"selected\":{\"id\":\"1535\"},\"selection_policy\":{\"id\":\"1536\"}},\"id\":\"1481\",\"type\":\"ColumnDataSource\"},{\"attributes\":{},\"id\":\"1531\",\"type\":\"BasicTickFormatter\"}],\"root_ids\":[\"1482\"]},\"title\":\"Bokeh Application\",\"version\":\"2.2.3\"}};\n",
       "  var render_items = [{\"docid\":\"572a1d35-5f69-4fc6-a6a8-4fd6d0671fc9\",\"root_ids\":[\"1482\"],\"roots\":{\"1482\":\"ca215d58-4c10-49cf-aaf7-da3adf4b195e\"}}];\n",
       "  root.Bokeh.embed.embed_items_notebook(docs_json, render_items);\n",
       "\n",
       "  }\n",
       "  if (root.Bokeh !== undefined) {\n",
       "    embed_document(root);\n",
       "  } else {\n",
       "    var attempts = 0;\n",
       "    var timer = setInterval(function(root) {\n",
       "      if (root.Bokeh !== undefined) {\n",
       "        clearInterval(timer);\n",
       "        embed_document(root);\n",
       "      } else {\n",
       "        attempts++;\n",
       "        if (attempts > 100) {\n",
       "          clearInterval(timer);\n",
       "          console.log(\"Bokeh: ERROR: Unable to run BokehJS code because BokehJS library is missing\");\n",
       "        }\n",
       "      }\n",
       "    }, 10, root)\n",
       "  }\n",
       "})(window);"
      ],
      "application/vnd.bokehjs_exec.v0+json": ""
     },
     "metadata": {
      "application/vnd.bokehjs_exec.v0+json": {
       "id": "1482"
      }
     },
     "output_type": "display_data"
    }
   ],
   "source": [
    "#Frecuencia de Estatus y probabilidad de aproba o desaprobar del grupo a por index de ejercicio\n",
    "df_ex_name_no_paso.plot_bokeh(kind='barh',stacked=True);"
   ]
  },
  {
   "cell_type": "code",
   "execution_count": 56,
   "metadata": {
    "colab": {
     "base_uri": "https://localhost:8080/"
    },
    "id": "LZ5dqIhdyt9U",
    "outputId": "4e3446fe-41c2-48e5-b45d-e7f40a7314f5"
   },
   "outputs": [
    {
     "name": "stdout",
     "output_type": "stream",
     "text": [
      "0.5724409582207739 0.3434548654995961\n"
     ]
    }
   ],
   "source": [
    "#Medias de las probabilidades de pasar un ejercicio por grupo\n",
    "mean_a_prom_grupo_a= df_ex_name['prom_paso'].mean() # media de probabilidad de pasar un ej del grupo paso\n",
    "mean_b_prom_grupo_b=df_ex_name_no_paso['prom_paso'].mean() # media de probabilidad de pasar un ej del grupo no_paso\n",
    "print(mean_a_prom_grupo_a, mean_b_prom_grupo_b)"
   ]
  },
  {
   "cell_type": "code",
   "execution_count": 57,
   "metadata": {
    "colab": {
     "base_uri": "https://localhost:8080/"
    },
    "id": "sb7O-Hxx0I6Y",
    "outputId": "70db732f-5fa2-4510-95b8-c3bfa065dd94"
   },
   "outputs": [
    {
     "data": {
      "text/plain": [
       "[{'exercise_name': 'Booleanos', 'diferencia_prob': 0.1436521739130435},\n",
       " {'exercise_name': 'Calefones / Poniendo topes',\n",
       "  'diferencia_prob': 0.2658223640473341},\n",
       " {'exercise_name': 'Cara o ceca', 'diferencia_prob': 0.3360134147390145},\n",
       " {'exercise_name': 'Cartelitos', 'diferencia_prob': 0.250709340596981},\n",
       " {'exercise_name': 'Cartelitos óptimos',\n",
       "  'diferencia_prob': 0.11922826086956523},\n",
       " {'exercise_name': 'Comprando Hardware',\n",
       "  'diferencia_prob': 0.22203639549237447},\n",
       " {'exercise_name': 'Conversiones', 'diferencia_prob': 0.17025916472667096},\n",
       " {'exercise_name': 'Cuadrados', 'diferencia_prob': 0.3899942329873126},\n",
       " {'exercise_name': 'El círculo de la vida',\n",
       "  'diferencia_prob': 0.39140303093791473},\n",
       " {'exercise_name': 'El retorno del booleano',\n",
       "  'diferencia_prob': 0.28370660030809336},\n",
       " {'exercise_name': 'Esto no tiene valor', 'diferencia_prob': 0.0},\n",
       " {'exercise_name': 'Funciones, declaración / No tan distintos',\n",
       "  'diferencia_prob': 0.15124335314357207},\n",
       " {'exercise_name': 'Funciones, uso', 'diferencia_prob': 0.16702390185433263},\n",
       " {'exercise_name': 'Haciendo cuentas', 'diferencia_prob': 0.0},\n",
       " {'exercise_name': 'Impresión por pantalla', 'diferencia_prob': 0.0},\n",
       " {'exercise_name': 'Libros de la buena memoria',\n",
       "  'diferencia_prob': 0.2813026487190621},\n",
       " {'exercise_name': 'Los premios', 'diferencia_prob': 0.29925019731649566},\n",
       " {'exercise_name': 'Martin Fierro', 'diferencia_prob': 0.2664437012263099},\n",
       " {'exercise_name': 'Más Cartelitos', 'diferencia_prob': 0.14508355000076023},\n",
       " {'exercise_name': 'Operando strings', 'diferencia_prob': 0.4244993458790379},\n",
       " {'exercise_name': 'Palabras, sólo palabras',\n",
       "  'diferencia_prob': 0.2362285741273627},\n",
       " {'exercise_name': 'Pienso que así es más fácil',\n",
       "  'diferencia_prob': 0.0737321022347116},\n",
       " {'exercise_name': 'Probando funciones', 'diferencia_prob': 0.0},\n",
       " {'exercise_name': 'Tipos de datos / Datos de todo tipo',\n",
       "  'diferencia_prob': 0.18102739806059687},\n",
       " {'exercise_name': 'Triangulos', 'diferencia_prob': 0.37250000000000005},\n",
       " {'exercise_name': 'Variables globales',\n",
       "  'diferencia_prob': 0.18229048160788777},\n",
       " {'exercise_name': 'Volviéndonos ricos',\n",
       "  'diferencia_prob': 0.3486197684772929},\n",
       " {'exercise_name': '¡Envido!', 'diferencia_prob': 0.35204438231696666},\n",
       " {'exercise_name': '¡GRITAR!', 'diferencia_prob': 0.36604152712659077},\n",
       " {'exercise_name': '¡Quiero retruco!', 'diferencia_prob': 0.32529812334153907},\n",
       " {'exercise_name': '¡Quiero vale cuatro!',\n",
       "  'diferencia_prob': 0.39904260824564436},\n",
       " {'exercise_name': '¿De qué signo sos?',\n",
       "  'diferencia_prob': 0.2739373254731617},\n",
       " {'exercise_name': '¿Está afinado?', 'diferencia_prob': 0.4757827788649706},\n",
       " {'exercise_name': '¿Está cerca?', 'diferencia_prob': 0.29058741905642926},\n",
       " {'exercise_name': '¿Me conviene?', 'diferencia_prob': 0.39570452805746925},\n",
       " {'exercise_name': '¿Y el program?',\n",
       "  'diferencia_prob': -0.0002871500358937462},\n",
       " {'exercise_name': '¿Y el tablero?', 'diferencia_prob': 0.0},\n",
       " {'exercise_name': '¿Y esto cuánto vale?',\n",
       "  'diferencia_prob': 0.25862068965517243},\n",
       " {'exercise_name': '¿Y los procedimientos?',\n",
       "  'diferencia_prob': -0.011408393317941079},\n",
       " {'exercise_name': '¿Y qué tal si...?',\n",
       "  'diferencia_prob': 0.33200986879728117}]"
      ]
     },
     "execution_count": 57,
     "metadata": {},
     "output_type": "execute_result"
    }
   ],
   "source": [
    "#Diferencia de las probabilidades del estatus paso, entre los grupos\n",
    "diferencia_prob_paso= [ {'exercise_name':ex_name, 'diferencia_prob':prob_paso_a-prob_paso_b } for prob_paso_a, prob_paso_b, ex_name in zip(df_ex_name['prom_paso'],df_ex_name_no_paso['prom_paso'],df_ex_name_no_paso['exercise_name']) ]\n",
    "diferencia_prob_paso"
   ]
  },
  {
   "cell_type": "markdown",
   "metadata": {
    "id": "VNqc0pWUzV24"
   },
   "source": [
    "Se puede concluir que cada grupo tiene probabilidades disntintas para pasar los ejercicios, siendo los alumnos del grupo \n",
    "a tiene mayor probabilidad de pasar los ejercicios, respecto a los del grupo b. De aca se pueden derivar otros hipotesis \n",
    "sobre comportamiento progreso por grupo y tipo de comportamiento (planner, no planner)"
   ]
  },
  {
   "cell_type": "code",
   "execution_count": 58,
   "metadata": {
    "id": "TBmbe1kR_yie"
   },
   "outputs": [],
   "source": [
    "df_ex_name_date=df.groupby(['exercise_name', 'Date']).Estatus.value_counts().unstack(fill_value=0).reset_index()"
   ]
  },
  {
   "cell_type": "code",
   "execution_count": 59,
   "metadata": {
    "colab": {
     "base_uri": "https://localhost:8080/"
    },
    "id": "2FduW_lfAO6w",
    "outputId": "22b39501-87a0-4a35-f03d-cf9c2fb85342"
   },
   "outputs": [
    {
     "data": {
      "text/plain": [
       "exercise_name\n",
       "¿Me conviene?                                105\n",
       "Cartelitos óptimos                           102\n",
       "Tipos de datos / Datos de todo tipo          102\n",
       "Palabras, sólo palabras                       99\n",
       "Más Cartelitos                                98\n",
       "Cartelitos                                    98\n",
       "Martin Fierro                                 95\n",
       "Conversiones                                  95\n",
       "¡Envido!                                      94\n",
       "¡Quiero retruco!                              94\n",
       "Funciones, declaración / No tan distintos     94\n",
       "Comprando Hardware                            94\n",
       "Cara o ceca                                   93\n",
       "Booleanos                                     93\n",
       "Funciones, uso                                92\n",
       "Variables globales                            92\n",
       "Los premios                                   92\n",
       "Volviéndonos ricos                            91\n",
       "¿Está cerca?                                  91\n",
       "Libros de la buena memoria                    90\n",
       "Operando strings                              90\n",
       "¿Está afinado?                                90\n",
       "¿De qué signo sos?                            89\n",
       "¡GRITAR!                                      89\n",
       "¡Quiero vale cuatro!                          89\n",
       "Cuadrados                                     89\n",
       "El retorno del booleano                       88\n",
       "Calefones / Poniendo topes                    88\n",
       "Impresión por pantalla                        88\n",
       "¿Y esto cuánto vale?                          88\n",
       "¿Y el program?                                88\n",
       "Triangulos                                    87\n",
       "¿Y el tablero?                                86\n",
       "¿Y los procedimientos?                        86\n",
       "El círculo de la vida                         86\n",
       "¿Y qué tal si...?                             86\n",
       "Pienso que así es más fácil                   85\n",
       "Esto no tiene valor                           84\n",
       "Probando funciones                            84\n",
       "Haciendo cuentas                              78\n",
       "Name: Date, dtype: int64"
      ]
     },
     "execution_count": 59,
     "metadata": {},
     "output_type": "execute_result"
    }
   ],
   "source": [
    "#Ejercicios con mas frecuencia de accesos\n",
    "ejercicios_mas_frecuencia_data=df_ex_name_date.groupby('exercise_name')['Date'].count().sort_values(ascending=False)\n",
    "ejercicios_mas_frecuencia_data"
   ]
  },
  {
   "cell_type": "code",
   "execution_count": 60,
   "metadata": {
    "colab": {
     "base_uri": "https://localhost:8080/",
     "height": 416
    },
    "id": "e4x1dXk1AbbO",
    "outputId": "c59eb385-ee73-4b09-e606-bce761cb181d"
   },
   "outputs": [
    {
     "data": {
      "text/html": [
       "\n",
       "\n",
       "\n",
       "\n",
       "\n",
       "\n",
       "  <div class=\"bk-root\" id=\"20f7c3c1-9cd7-4455-9364-83f0a11cb1f3\" data-root-id=\"1672\"></div>\n"
      ]
     },
     "metadata": {},
     "output_type": "display_data"
    },
    {
     "data": {
      "application/javascript": [
       "(function(root) {\n",
       "  function embed_document(root) {\n",
       "    \n",
       "  var docs_json = {\"e381e656-c9f8-48b5-86a9-c1b7302fc1e8\":{\"roots\":{\"references\":[{\"attributes\":{\"below\":[{\"id\":\"1683\"}],\"center\":[{\"id\":\"1686\"},{\"id\":\"1690\"},{\"id\":\"1721\"}],\"left\":[{\"id\":\"1687\"}],\"output_backend\":\"webgl\",\"plot_height\":400,\"renderers\":[{\"id\":\"1712\"}],\"sizing_mode\":\"fixed\",\"title\":{\"id\":\"1673\"},\"toolbar\":{\"id\":\"1698\"},\"x_range\":{\"id\":\"1675\"},\"x_scale\":{\"id\":\"1679\"},\"y_range\":{\"id\":\"1677\"},\"y_scale\":{\"id\":\"1681\"}},\"id\":\"1672\",\"subtype\":\"Figure\",\"type\":\"Plot\"},{\"attributes\":{},\"id\":\"1692\",\"type\":\"WheelZoomTool\"},{\"attributes\":{\"callback\":null,\"mode\":\"hline\",\"renderers\":[{\"id\":\"1712\"}],\"tooltips\":[[\"exercise_name\",\"@__x__values_original\"],[\"Date\",\"@{Date}\"]]},\"id\":\"1723\",\"type\":\"HoverTool\"},{\"attributes\":{},\"id\":\"1715\",\"type\":\"BasicTickFormatter\"},{\"attributes\":{},\"id\":\"1684\",\"type\":\"BasicTicker\"},{\"attributes\":{\"text\":\"\"},\"id\":\"1673\",\"type\":\"Title\"},{\"attributes\":{\"axis\":{\"id\":\"1687\"},\"dimension\":1,\"ticker\":null},\"id\":\"1690\",\"type\":\"Grid\"},{\"attributes\":{\"ticks\":[0,1,2,3,4,5,6,7,8,9,10,11,12,13,14,15,16,17,18,19,20,21,22,23,24,25,26,27,28,29,30,31,32,33,34,35,36,37,38,39]},\"id\":\"1725\",\"type\":\"FixedTicker\"},{\"attributes\":{},\"id\":\"1696\",\"type\":\"HelpTool\"},{\"attributes\":{},\"id\":\"1679\",\"type\":\"LinearScale\"},{\"attributes\":{\"active_drag\":\"auto\",\"active_inspect\":\"auto\",\"active_multi\":null,\"active_scroll\":{\"id\":\"1692\"},\"active_tap\":\"auto\",\"tools\":[{\"id\":\"1691\"},{\"id\":\"1692\"},{\"id\":\"1693\"},{\"id\":\"1694\"},{\"id\":\"1695\"},{\"id\":\"1696\"},{\"id\":\"1723\"}]},\"id\":\"1698\",\"type\":\"Toolbar\"},{\"attributes\":{\"fill_alpha\":{\"value\":0.1},\"fill_color\":{\"value\":\"#1f77b4\"},\"height\":{\"value\":0.8},\"left\":{\"expr\":{\"id\":\"1707\"}},\"line_alpha\":{\"value\":0.1},\"line_color\":{\"value\":\"#1f77b4\"},\"line_width\":{\"value\":2},\"right\":{\"expr\":{\"id\":\"1708\"}},\"y\":{\"field\":\"__x__values\"}},\"id\":\"1711\",\"type\":\"HBar\"},{\"attributes\":{\"bottom_units\":\"screen\",\"fill_alpha\":0.5,\"fill_color\":\"lightgrey\",\"left_units\":\"screen\",\"level\":\"overlay\",\"line_alpha\":1.0,\"line_color\":\"black\",\"line_dash\":[4,4],\"line_width\":2,\"right_units\":\"screen\",\"top_units\":\"screen\"},\"id\":\"1697\",\"type\":\"BoxAnnotation\"},{\"attributes\":{\"axis_label\":\"Date\",\"formatter\":{\"id\":\"1715\"},\"ticker\":{\"id\":\"1684\"}},\"id\":\"1683\",\"type\":\"LinearAxis\"},{\"attributes\":{\"source\":{\"id\":\"1671\"}},\"id\":\"1713\",\"type\":\"CDSView\"},{\"attributes\":{\"overlay\":{\"id\":\"1697\"}},\"id\":\"1693\",\"type\":\"BoxZoomTool\"},{\"attributes\":{},\"id\":\"1691\",\"type\":\"PanTool\"},{\"attributes\":{\"fields\":[]},\"id\":\"1707\",\"type\":\"Stack\"},{\"attributes\":{\"fill_color\":{\"value\":\"#1f77b4\"},\"height\":{\"value\":0.8},\"left\":{\"expr\":{\"id\":\"1707\"}},\"line_color\":{\"value\":\"#1f77b4\"},\"line_width\":{\"value\":2},\"right\":{\"expr\":{\"id\":\"1708\"}},\"y\":{\"field\":\"__x__values\"}},\"id\":\"1710\",\"type\":\"HBar\"},{\"attributes\":{\"axis\":{\"id\":\"1683\"},\"ticker\":null},\"id\":\"1686\",\"type\":\"Grid\"},{\"attributes\":{},\"id\":\"1681\",\"type\":\"LinearScale\"},{\"attributes\":{\"fields\":[\"Date\"]},\"id\":\"1708\",\"type\":\"Stack\"},{\"attributes\":{},\"id\":\"1675\",\"type\":\"DataRange1d\"},{\"attributes\":{},\"id\":\"1677\",\"type\":\"DataRange1d\"},{\"attributes\":{\"label\":{\"value\":\"Date\"},\"renderers\":[{\"id\":\"1712\"}]},\"id\":\"1722\",\"type\":\"LegendItem\"},{\"attributes\":{\"data_source\":{\"id\":\"1671\"},\"glyph\":{\"id\":\"1710\"},\"hover_glyph\":null,\"muted_glyph\":null,\"name\":\"Date\",\"nonselection_glyph\":{\"id\":\"1711\"},\"selection_glyph\":null,\"view\":{\"id\":\"1713\"}},\"id\":\"1712\",\"type\":\"GlyphRenderer\"},{\"attributes\":{},\"id\":\"1695\",\"type\":\"ResetTool\"},{\"attributes\":{\"data\":{\"Date\":[105,102,102,99,98,98,95,95,94,94,94,94,93,93,92,92,92,91,91,90,90,90,89,89,89,89,88,88,88,88,88,87,86,86,86,86,85,84,84,78],\"__x__values\":[0,1,2,3,4,5,6,7,8,9,10,11,12,13,14,15,16,17,18,19,20,21,22,23,24,25,26,27,28,29,30,31,32,33,34,35,36,37,38,39],\"__x__values_original\":[\"\\u00bfMe conviene?\",\"Cartelitos \\u00f3ptimos\",\"Tipos de datos / Datos de todo tipo\",\"Palabras, s\\u00f3lo palabras\",\"M\\u00e1s Cartelitos\",\"Cartelitos\",\"Martin Fierro\",\"Conversiones\",\"\\u00a1Envido!\",\"\\u00a1Quiero retruco!\",\"Funciones, declaraci\\u00f3n / No tan distintos\",\"Comprando Hardware\",\"Cara o ceca\",\"Booleanos\",\"Funciones, uso\",\"Variables globales\",\"Los premios\",\"Volvi\\u00e9ndonos ricos\",\"\\u00bfEst\\u00e1 cerca?\",\"Libros de la buena memoria\",\"Operando strings\",\"\\u00bfEst\\u00e1 afinado?\",\"\\u00bfDe qu\\u00e9 signo sos?\",\"\\u00a1GRITAR!\",\"\\u00a1Quiero vale cuatro!\",\"Cuadrados\",\"El retorno del booleano\",\"Calefones / Poniendo topes\",\"Impresi\\u00f3n por pantalla\",\"\\u00bfY esto cu\\u00e1nto vale?\",\"\\u00bfY el program?\",\"Triangulos\",\"\\u00bfY el tablero?\",\"\\u00bfY los procedimientos?\",\"El c\\u00edrculo de la vida\",\"\\u00bfY qu\\u00e9 tal si...?\",\"Pienso que as\\u00ed es m\\u00e1s f\\u00e1cil\",\"Esto no tiene valor\",\"Probando funciones\",\"Haciendo cuentas\"]},\"selected\":{\"id\":\"1719\"},\"selection_policy\":{\"id\":\"1720\"}},\"id\":\"1671\",\"type\":\"ColumnDataSource\"},{\"attributes\":{\"axis_label\":\"exercise_name\",\"formatter\":{\"id\":\"1705\"},\"ticker\":{\"id\":\"1725\"}},\"id\":\"1687\",\"type\":\"LinearAxis\"},{\"attributes\":{\"code\":\"\\n                                    var labels = {0: '\\u00bfMe conviene?', 1: 'Cartelitos \\u00f3ptimos', 2: 'Tipos de datos / Datos de todo tipo', 3: 'Palabras, s\\u00f3lo palabras', 4: 'M\\u00e1s Cartelitos', 5: 'Cartelitos', 6: 'Martin Fierro', 7: 'Conversiones', 8: '\\u00a1Envido!', 9: '\\u00a1Quiero retruco!', 10: 'Funciones, declaraci\\u00f3n / No tan distintos', 11: 'Comprando Hardware', 12: 'Cara o ceca', 13: 'Booleanos', 14: 'Funciones, uso', 15: 'Variables globales', 16: 'Los premios', 17: 'Volvi\\u00e9ndonos ricos', 18: '\\u00bfEst\\u00e1 cerca?', 19: 'Libros de la buena memoria', 20: 'Operando strings', 21: '\\u00bfEst\\u00e1 afinado?', 22: '\\u00bfDe qu\\u00e9 signo sos?', 23: '\\u00a1GRITAR!', 24: '\\u00a1Quiero vale cuatro!', 25: 'Cuadrados', 26: 'El retorno del booleano', 27: 'Calefones / Poniendo topes', 28: 'Impresi\\u00f3n por pantalla', 29: '\\u00bfY esto cu\\u00e1nto vale?', 30: '\\u00bfY el program?', 31: 'Triangulos', 32: '\\u00bfY el tablero?', 33: '\\u00bfY los procedimientos?', 34: 'El c\\u00edrculo de la vida', 35: '\\u00bfY qu\\u00e9 tal si...?', 36: 'Pienso que as\\u00ed es m\\u00e1s f\\u00e1cil', 37: 'Esto no tiene valor', 38: 'Probando funciones', 39: 'Haciendo cuentas'};\\n                                    return labels[tick];\\n                                    \"},\"id\":\"1705\",\"type\":\"FuncTickFormatter\"},{\"attributes\":{\"items\":[{\"id\":\"1722\"}]},\"id\":\"1721\",\"type\":\"Legend\"},{\"attributes\":{},\"id\":\"1694\",\"type\":\"SaveTool\"},{\"attributes\":{},\"id\":\"1720\",\"type\":\"UnionRenderers\"},{\"attributes\":{},\"id\":\"1719\",\"type\":\"Selection\"}],\"root_ids\":[\"1672\"]},\"title\":\"Bokeh Application\",\"version\":\"2.2.3\"}};\n",
       "  var render_items = [{\"docid\":\"e381e656-c9f8-48b5-86a9-c1b7302fc1e8\",\"root_ids\":[\"1672\"],\"roots\":{\"1672\":\"20f7c3c1-9cd7-4455-9364-83f0a11cb1f3\"}}];\n",
       "  root.Bokeh.embed.embed_items_notebook(docs_json, render_items);\n",
       "\n",
       "  }\n",
       "  if (root.Bokeh !== undefined) {\n",
       "    embed_document(root);\n",
       "  } else {\n",
       "    var attempts = 0;\n",
       "    var timer = setInterval(function(root) {\n",
       "      if (root.Bokeh !== undefined) {\n",
       "        clearInterval(timer);\n",
       "        embed_document(root);\n",
       "      } else {\n",
       "        attempts++;\n",
       "        if (attempts > 100) {\n",
       "          clearInterval(timer);\n",
       "          console.log(\"Bokeh: ERROR: Unable to run BokehJS code because BokehJS library is missing\");\n",
       "        }\n",
       "      }\n",
       "    }, 10, root)\n",
       "  }\n",
       "})(window);"
      ],
      "application/vnd.bokehjs_exec.v0+json": ""
     },
     "metadata": {
      "application/vnd.bokehjs_exec.v0+json": {
       "id": "1672"
      }
     },
     "output_type": "display_data"
    }
   ],
   "source": [
    "ejercicios_mas_frecuencia_data.plot_bokeh(kind='barh',stacked=True);"
   ]
  },
  {
   "cell_type": "code",
   "execution_count": 61,
   "metadata": {
    "colab": {
     "base_uri": "https://localhost:8080/"
    },
    "id": "ol-FfYJMPRK8",
    "outputId": "48b4f751-d6ce-4dda-dc50-cd24cd76ef12"
   },
   "outputs": [
    {
     "name": "stdout",
     "output_type": "stream",
     "text": [
      "la varianza del grupo A es:  Estatus\n",
      "student_uid    7447.656471\n",
      "no_paso         401.198431\n",
      "paso            424.223529\n",
      "dtype: float64\n",
      "la varianza del grupo B es:  Estatus\n",
      "student_uid    6867.293581\n",
      "no_paso        8952.761520\n",
      "paso            430.898527\n",
      "dtype: float64\n",
      "la desviación estandar del grupo A es:  Estatus\n",
      "student_uid    86.299806\n",
      "no_paso        20.029938\n",
      "paso           20.596687\n",
      "dtype: float64\n",
      "la desviación estandar del grupo B es:  Estatus\n",
      "student_uid    82.869135\n",
      "no_paso        94.619034\n",
      "paso           20.758095\n",
      "dtype: float64\n"
     ]
    }
   ],
   "source": [
    "#Varianza y desvio de estatus por envio identificado por grupo\n",
    "#no tener en cuenta el student_uid\n",
    "n = len(grupo_a)\n",
    "m = len(grupo_b)\n",
    "\n",
    "varianza_grupo_a = grupo_a.var()\n",
    "print(\"la varianza del grupo A es: \", varianza_grupo_a)\n",
    "varianza_grupo_b = grupo_b.var()\n",
    "print(\"la varianza del grupo B es: \", varianza_grupo_b)\n",
    "\n",
    "desvst_grupo_a = grupo_a.std()\n",
    "print(\"la desviación estandar del grupo A es: \", desvst_grupo_a)\n",
    "desvst_grupo_b = grupo_b.std()\n",
    "print(\"la desviación estandar del grupo B es: \", desvst_grupo_b)"
   ]
  },
  {
   "cell_type": "code",
   "execution_count": 62,
   "metadata": {
    "id": "Wygu2dKB1f3q"
   },
   "outputs": [],
   "source": [
    "##DE ACA HACIA ABAJO FALTA ANALISIS##"
   ]
  },
  {
   "cell_type": "code",
   "execution_count": 63,
   "metadata": {
    "id": "SqiTvmobOeIg"
   },
   "outputs": [
    {
     "data": {
      "text/plain": [
       "0.22898609272117781"
      ]
     },
     "execution_count": 63,
     "metadata": {},
     "output_type": "execute_result"
    }
   ],
   "source": [
    "#EstimacionPuntual\n",
    "estimacion_puntual = mean_a_prom_grupo_a - mean_b_prom_grupo_b\n",
    "estimacion_puntual\n"
   ]
  }
 ],
 "metadata": {
  "colab": {
   "include_colab_link": true,
   "name": "analisis_mumuki_Estatus/Ejercicios/Envios_V2",
   "provenance": []
  },
  "kernelspec": {
   "display_name": "Python 3",
   "language": "python",
   "name": "python3"
  },
  "language_info": {
   "codemirror_mode": {
    "name": "ipython",
    "version": 3
   },
   "file_extension": ".py",
   "mimetype": "text/x-python",
   "name": "python",
   "nbconvert_exporter": "python",
   "pygments_lexer": "ipython3",
   "version": "3.8.5"
  }
 },
 "nbformat": 4,
 "nbformat_minor": 1
}
