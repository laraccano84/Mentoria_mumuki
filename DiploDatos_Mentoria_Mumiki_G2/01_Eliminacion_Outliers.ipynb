{
  "nbformat": 4,
  "nbformat_minor": 0,
  "metadata": {
    "colab": {
      "name": "01_Eliminacion_Outliers.ipynb",
      "provenance": []
    },
    "kernelspec": {
      "name": "python3",
      "display_name": "Python 3"
    },
    "language_info": {
      "name": "python"
    }
  },
  "cells": [
    {
      "cell_type": "code",
      "metadata": {
        "id": "RLA-eUSJny7p"
      },
      "source": [
        "import io\n",
        "import matplotlib\n",
        "import matplotlib.pyplot as plt\n",
        "import numpy\n",
        "import pandas as pd\n",
        "import seaborn\n",
        "import time\n",
        "import datetime as dt\n",
        "from IPython.display import HTML, display\n",
        "import math\n",
        "\n",
        "seaborn.set_context('talk')"
      ],
      "execution_count": 101,
      "outputs": []
    },
    {
      "cell_type": "markdown",
      "metadata": {
        "id": "2U0PRiColTUQ"
      },
      "source": [
        "#Filtrado Bianca"
      ]
    },
    {
      "cell_type": "code",
      "metadata": {
        "id": "k0_dOy6PlQeK"
      },
      "source": [
        "url= 'https://raw.githubusercontent.com/laraccano84/Mentoria_mumuki/main/DiploDatos_Mentoria_Mumiki_G2/DataSet_Mumuki_Transformed.csv'\n",
        "df_mumuki = pd.read_csv(url)\n",
        "df_mumuki=df_mumuki.drop(columns='Unnamed: 0',axis=1)"
      ],
      "execution_count": 102,
      "outputs": []
    },
    {
      "cell_type": "code",
      "metadata": {
        "colab": {
          "base_uri": "https://localhost:8080/"
        },
        "id": "n_588v5y9w_6",
        "outputId": "e7c40553-43d3-4963-a23e-8a3439476501"
      },
      "source": [
        "len(df_mumuki)"
      ],
      "execution_count": 103,
      "outputs": [
        {
          "output_type": "execute_result",
          "data": {
            "text/plain": [
              "47099"
            ]
          },
          "metadata": {
            "tags": []
          },
          "execution_count": 103
        }
      ]
    },
    {
      "cell_type": "code",
      "metadata": {
        "id": "PHfzmrxBnx_v"
      },
      "source": [
        "df_mumuki['created_at'] = df_mumuki['submission_created_at']\n",
        "df_student = df_mumuki.groupby(['student_uid'], as_index=True).agg({'id_exercise':'count','exercise_name': (lambda x: len(set(x))),'submission_created_at':'min','created_at':'max'}).rename(columns={'id_exercise':'cant_envios','exercise_name':'cant_ejercicios_unicos','submission_created_at':'f_primer_envio','created_at':'f_ultimo_envio'})\n",
        "df_student['tiempo_invertido'] = pd.to_datetime(df_student['f_ultimo_envio'])-pd.to_datetime(df_student['f_primer_envio'])\n",
        "df_student['tiempo_invertido_horas'] = round((pd.to_datetime(df_student['f_ultimo_envio'])-pd.to_datetime(df_student['f_primer_envio'])).dt.total_seconds() / 3600.0,2) \n",
        "df_student['tiempo_invertido_dias'] = round(df_student['tiempo_invertido_horas']/24,4)\n",
        "\n",
        "#eliminacion\n",
        "df_student = df_student[df_student['tiempo_invertido_dias']<=100]\n"
      ],
      "execution_count": 104,
      "outputs": []
    },
    {
      "cell_type": "markdown",
      "metadata": {
        "id": "uwSVqOPNp8Zg"
      },
      "source": [
        "es el user con student_uid: 97"
      ]
    },
    {
      "cell_type": "code",
      "metadata": {
        "colab": {
          "base_uri": "https://localhost:8080/",
          "height": 301
        },
        "id": "MUYJP2zAoC3W",
        "outputId": "28292f25-74a3-46b6-8d71-cecf768966a0"
      },
      "source": [
        "#checkeo\n",
        "plt.figure(figsize=(12, 4))\n",
        "seaborn.boxplot(x=df_student['tiempo_invertido_dias'])\n",
        "seaborn.despine()"
      ],
      "execution_count": 105,
      "outputs": [
        {
          "output_type": "display_data",
          "data": {
            "image/png": "[encoded data removed]",
            "text/plain": [
              "<Figure size 864x288 with 1 Axes>"
            ]
          },
          "metadata": {
            "tags": [],
            "needs_background": "light"
          }
        }
      ]
    },
    {
      "cell_type": "markdown",
      "metadata": {
        "id": "lSDqBvT-pgzD"
      },
      "source": [
        "#Filtrado Lara"
      ]
    },
    {
      "cell_type": "code",
      "metadata": {
        "colab": {
          "base_uri": "https://localhost:8080/",
          "height": 424
        },
        "id": "VRO2I5jQogL8",
        "outputId": "0059b2a3-0ee2-4860-c9b7-b06e4a586aeb"
      },
      "source": [
        "df_envios=df_mumuki.groupby(['student_uid'], as_index=False).agg({'id_exercise':'count','exercise_name': (lambda x: len(set(x))),}).rename(columns={'id_exercise':'Cant_Envios','exercise_name':'Ejercicios_ Resueltos', \"student_uid\": 'UID del estudiante'})\n",
        "df_envios"
      ],
      "execution_count": 106,
      "outputs": [
        {
          "output_type": "execute_result",
          "data": {
            "text/html": [
              "<div>\n",
              "<style scoped>\n",
              "    .dataframe tbody tr th:only-of-type {\n",
              "        vertical-align: middle;\n",
              "    }\n",
              "\n",
              "    .dataframe tbody tr th {\n",
              "        vertical-align: top;\n",
              "    }\n",
              "\n",
              "    .dataframe thead th {\n",
              "        text-align: right;\n",
              "    }\n",
              "</style>\n",
              "<table border=\"1\" class=\"dataframe\">\n",
              "  <thead>\n",
              "    <tr style=\"text-align: right;\">\n",
              "      <th></th>\n",
              "      <th>UID del estudiante</th>\n",
              "      <th>Cant_Envios</th>\n",
              "      <th>Ejercicios_ Resueltos</th>\n",
              "    </tr>\n",
              "  </thead>\n",
              "  <tbody>\n",
              "    <tr>\n",
              "      <th>0</th>\n",
              "      <td>75</td>\n",
              "      <td>1</td>\n",
              "      <td>1</td>\n",
              "    </tr>\n",
              "    <tr>\n",
              "      <th>1</th>\n",
              "      <td>76</td>\n",
              "      <td>89</td>\n",
              "      <td>36</td>\n",
              "    </tr>\n",
              "    <tr>\n",
              "      <th>2</th>\n",
              "      <td>77</td>\n",
              "      <td>186</td>\n",
              "      <td>40</td>\n",
              "    </tr>\n",
              "    <tr>\n",
              "      <th>3</th>\n",
              "      <td>78</td>\n",
              "      <td>84</td>\n",
              "      <td>9</td>\n",
              "    </tr>\n",
              "    <tr>\n",
              "      <th>4</th>\n",
              "      <td>79</td>\n",
              "      <td>95</td>\n",
              "      <td>22</td>\n",
              "    </tr>\n",
              "    <tr>\n",
              "      <th>...</th>\n",
              "      <td>...</td>\n",
              "      <td>...</td>\n",
              "      <td>...</td>\n",
              "    </tr>\n",
              "    <tr>\n",
              "      <th>280</th>\n",
              "      <td>358</td>\n",
              "      <td>6</td>\n",
              "      <td>1</td>\n",
              "    </tr>\n",
              "    <tr>\n",
              "      <th>281</th>\n",
              "      <td>359</td>\n",
              "      <td>38</td>\n",
              "      <td>16</td>\n",
              "    </tr>\n",
              "    <tr>\n",
              "      <th>282</th>\n",
              "      <td>361</td>\n",
              "      <td>1</td>\n",
              "      <td>1</td>\n",
              "    </tr>\n",
              "    <tr>\n",
              "      <th>283</th>\n",
              "      <td>362</td>\n",
              "      <td>3</td>\n",
              "      <td>1</td>\n",
              "    </tr>\n",
              "    <tr>\n",
              "      <th>284</th>\n",
              "      <td>363</td>\n",
              "      <td>19</td>\n",
              "      <td>3</td>\n",
              "    </tr>\n",
              "  </tbody>\n",
              "</table>\n",
              "<p>285 rows × 3 columns</p>\n",
              "</div>"
            ],
            "text/plain": [
              "     UID del estudiante  Cant_Envios  Ejercicios_ Resueltos\n",
              "0                    75            1                      1\n",
              "1                    76           89                     36\n",
              "2                    77          186                     40\n",
              "3                    78           84                      9\n",
              "4                    79           95                     22\n",
              "..                  ...          ...                    ...\n",
              "280                 358            6                      1\n",
              "281                 359           38                     16\n",
              "282                 361            1                      1\n",
              "283                 362            3                      1\n",
              "284                 363           19                      3\n",
              "\n",
              "[285 rows x 3 columns]"
            ]
          },
          "metadata": {
            "tags": []
          },
          "execution_count": 106
        }
      ]
    },
    {
      "cell_type": "code",
      "metadata": {
        "colab": {
          "base_uri": "https://localhost:8080/",
          "height": 300
        },
        "id": "05C4f80XpNBR",
        "outputId": "708029b6-f077-4d8d-9823-f35492823b98"
      },
      "source": [
        "df_envios.describe()"
      ],
      "execution_count": 107,
      "outputs": [
        {
          "output_type": "execute_result",
          "data": {
            "text/html": [
              "<div>\n",
              "<style scoped>\n",
              "    .dataframe tbody tr th:only-of-type {\n",
              "        vertical-align: middle;\n",
              "    }\n",
              "\n",
              "    .dataframe tbody tr th {\n",
              "        vertical-align: top;\n",
              "    }\n",
              "\n",
              "    .dataframe thead th {\n",
              "        text-align: right;\n",
              "    }\n",
              "</style>\n",
              "<table border=\"1\" class=\"dataframe\">\n",
              "  <thead>\n",
              "    <tr style=\"text-align: right;\">\n",
              "      <th></th>\n",
              "      <th>UID del estudiante</th>\n",
              "      <th>Cant_Envios</th>\n",
              "      <th>Ejercicios_ Resueltos</th>\n",
              "    </tr>\n",
              "  </thead>\n",
              "  <tbody>\n",
              "    <tr>\n",
              "      <th>count</th>\n",
              "      <td>285.000000</td>\n",
              "      <td>285.000000</td>\n",
              "      <td>285.000000</td>\n",
              "    </tr>\n",
              "    <tr>\n",
              "      <th>mean</th>\n",
              "      <td>217.066667</td>\n",
              "      <td>165.259649</td>\n",
              "      <td>31.161404</td>\n",
              "    </tr>\n",
              "    <tr>\n",
              "      <th>std</th>\n",
              "      <td>82.531593</td>\n",
              "      <td>108.395741</td>\n",
              "      <td>13.409133</td>\n",
              "    </tr>\n",
              "    <tr>\n",
              "      <th>min</th>\n",
              "      <td>75.000000</td>\n",
              "      <td>1.000000</td>\n",
              "      <td>1.000000</td>\n",
              "    </tr>\n",
              "    <tr>\n",
              "      <th>25%</th>\n",
              "      <td>146.000000</td>\n",
              "      <td>86.000000</td>\n",
              "      <td>22.000000</td>\n",
              "    </tr>\n",
              "    <tr>\n",
              "      <th>50%</th>\n",
              "      <td>217.000000</td>\n",
              "      <td>149.000000</td>\n",
              "      <td>40.000000</td>\n",
              "    </tr>\n",
              "    <tr>\n",
              "      <th>75%</th>\n",
              "      <td>288.000000</td>\n",
              "      <td>223.000000</td>\n",
              "      <td>40.000000</td>\n",
              "    </tr>\n",
              "    <tr>\n",
              "      <th>max</th>\n",
              "      <td>363.000000</td>\n",
              "      <td>660.000000</td>\n",
              "      <td>40.000000</td>\n",
              "    </tr>\n",
              "  </tbody>\n",
              "</table>\n",
              "</div>"
            ],
            "text/plain": [
              "       UID del estudiante  Cant_Envios  Ejercicios_ Resueltos\n",
              "count          285.000000   285.000000             285.000000\n",
              "mean           217.066667   165.259649              31.161404\n",
              "std             82.531593   108.395741              13.409133\n",
              "min             75.000000     1.000000               1.000000\n",
              "25%            146.000000    86.000000              22.000000\n",
              "50%            217.000000   149.000000              40.000000\n",
              "75%            288.000000   223.000000              40.000000\n",
              "max            363.000000   660.000000              40.000000"
            ]
          },
          "metadata": {
            "tags": []
          },
          "execution_count": 107
        }
      ]
    },
    {
      "cell_type": "code",
      "metadata": {
        "colab": {
          "base_uri": "https://localhost:8080/",
          "height": 301
        },
        "id": "T6wWhlJepS3P",
        "outputId": "8a567b28-efc2-46b1-d726-764c25b31a23"
      },
      "source": [
        "plt.figure(figsize=(12, 4))\n",
        "seaborn.boxplot(x=df_envios['Cant_Envios'])\n",
        "seaborn.despine()"
      ],
      "execution_count": 108,
      "outputs": [
        {
          "output_type": "display_data",
          "data": {
            "image/png": "[encoded data removed]",
            "text/plain": [
              "<Figure size 864x288 with 1 Axes>"
            ]
          },
          "metadata": {
            "tags": [],
            "needs_background": "light"
          }
        }
      ]
    },
    {
      "cell_type": "code",
      "metadata": {
        "id": "sPe6kDLNpZVc"
      },
      "source": [
        "interesting_range_envios = df_envios['Cant_Envios'].quantile([.02, .97])\n",
        "min = interesting_range_envios.values[0]\n",
        "max = interesting_range_envios.values[1]\n",
        "df_envios_2 = df_envios[df_envios['Cant_Envios'].between(min, max)]"
      ],
      "execution_count": 109,
      "outputs": []
    },
    {
      "cell_type": "code",
      "metadata": {
        "colab": {
          "base_uri": "https://localhost:8080/",
          "height": 301
        },
        "id": "KVEzHBlDpd1S",
        "outputId": "100b163a-9484-48b6-c4a1-59f926974bc3"
      },
      "source": [
        "plt.figure(figsize=(12, 4))\n",
        "seaborn.boxplot(x=df_envios['Cant_Envios'])\n",
        "seaborn.despine()"
      ],
      "execution_count": 110,
      "outputs": [
        {
          "output_type": "display_data",
          "data": {
            "image/png": "[encoded data removed]",
            "text/plain": [
              "<Figure size 864x288 with 1 Axes>"
            ]
          },
          "metadata": {
            "tags": [],
            "needs_background": "light"
          }
        }
      ]
    },
    {
      "cell_type": "markdown",
      "metadata": {
        "id": "aRcWlzcmpjvC"
      },
      "source": [
        "#Juntar en el dataframe original"
      ]
    },
    {
      "cell_type": "markdown",
      "metadata": {
        "id": "hLkEBwOGrOFs"
      },
      "source": [
        "###Eliminacion outlier fechas - bianca"
      ]
    },
    {
      "cell_type": "code",
      "metadata": {
        "colab": {
          "base_uri": "https://localhost:8080/"
        },
        "id": "UQauw4qL6BwN",
        "outputId": "bc4d5fa2-06ab-4b8e-f098-dcd6d7bfb4bf"
      },
      "source": [
        "len(df_mumuki['student_uid'].value_counts())"
      ],
      "execution_count": 111,
      "outputs": [
        {
          "output_type": "execute_result",
          "data": {
            "text/plain": [
              "285"
            ]
          },
          "metadata": {
            "tags": []
          },
          "execution_count": 111
        }
      ]
    },
    {
      "cell_type": "code",
      "metadata": {
        "colab": {
          "base_uri": "https://localhost:8080/"
        },
        "id": "Q796okAo9XCY",
        "outputId": "9305bd00-06c9-4208-fc30-31d9d9937e04"
      },
      "source": [
        "len(df_mumuki)"
      ],
      "execution_count": 112,
      "outputs": [
        {
          "output_type": "execute_result",
          "data": {
            "text/plain": [
              "47099"
            ]
          },
          "metadata": {
            "tags": []
          },
          "execution_count": 112
        }
      ]
    },
    {
      "cell_type": "code",
      "metadata": {
        "id": "yRxqlPAkpvbZ"
      },
      "source": [
        "df_mumuki=df_mumuki[df_mumuki['student_uid']!=97]"
      ],
      "execution_count": 113,
      "outputs": []
    },
    {
      "cell_type": "code",
      "metadata": {
        "colab": {
          "base_uri": "https://localhost:8080/"
        },
        "id": "CavrSfYR622V",
        "outputId": "00b1a996-0ea1-4109-fa1d-fd18f1a57001"
      },
      "source": [
        "len(df_mumuki['student_uid'].value_counts())"
      ],
      "execution_count": 114,
      "outputs": [
        {
          "output_type": "execute_result",
          "data": {
            "text/plain": [
              "284"
            ]
          },
          "metadata": {
            "tags": []
          },
          "execution_count": 114
        }
      ]
    },
    {
      "cell_type": "code",
      "metadata": {
        "colab": {
          "base_uri": "https://localhost:8080/"
        },
        "id": "-mIfmbrq9dSy",
        "outputId": "f78230a4-e062-41ca-d4f5-bfa2b2b9a6b3"
      },
      "source": [
        "len(df_mumuki)"
      ],
      "execution_count": 115,
      "outputs": [
        {
          "output_type": "execute_result",
          "data": {
            "text/plain": [
              "46998"
            ]
          },
          "metadata": {
            "tags": []
          },
          "execution_count": 115
        }
      ]
    },
    {
      "cell_type": "code",
      "metadata": {
        "id": "xBfi5-6_qh4o"
      },
      "source": [
        "df_student_despues_fechas = df_mumuki.groupby(['student_uid'], as_index=True).agg({'id_exercise':'count','exercise_name': (lambda x: len(set(x))),'submission_created_at':'min','created_at':'max'}).rename(columns={'id_exercise':'cant_envios','exercise_name':'cant_ejercicios_unicos','submission_created_at':'f_primer_envio','created_at':'f_ultimo_envio'})\n",
        "df_student_despues_fechas['tiempo_invertido'] = pd.to_datetime(df_student_despues_fechas['f_ultimo_envio'])-pd.to_datetime(df_student_despues_fechas['f_primer_envio'])\n",
        "df_student_despues_fechas['tiempo_invertido_horas'] = round((pd.to_datetime(df_student_despues_fechas['f_ultimo_envio'])-pd.to_datetime(df_student_despues_fechas['f_primer_envio'])).dt.total_seconds() / 3600.0,2) \n",
        "df_student_despues_fechas['tiempo_invertido_dias'] = round(df_student_despues_fechas['tiempo_invertido_horas']/24,4)"
      ],
      "execution_count": 116,
      "outputs": []
    },
    {
      "cell_type": "code",
      "metadata": {
        "colab": {
          "base_uri": "https://localhost:8080/",
          "height": 301
        },
        "id": "ycHA4wuprGoJ",
        "outputId": "87126308-c81e-4c8b-940a-783b23a2982d"
      },
      "source": [
        "plt.figure(figsize=(12, 4))\n",
        "seaborn.boxplot(x=df_student_despues_fechas['tiempo_invertido_dias'])\n",
        "seaborn.despine()"
      ],
      "execution_count": 117,
      "outputs": [
        {
          "output_type": "display_data",
          "data": {
            "image/png": "[encoded data removed]",
            "text/plain": [
              "<Figure size 864x288 with 1 Axes>"
            ]
          },
          "metadata": {
            "tags": [],
            "needs_background": "light"
          }
        }
      ]
    },
    {
      "cell_type": "markdown",
      "metadata": {
        "id": "8aJP3ZecrTcG"
      },
      "source": [
        "###Eliminacion outliers envios - Lara"
      ]
    },
    {
      "cell_type": "code",
      "metadata": {
        "colab": {
          "base_uri": "https://localhost:8080/"
        },
        "id": "WlhR1cQkscnC",
        "outputId": "25d415a3-d301-4e0c-9301-20328a3af9b0"
      },
      "source": [
        "# id de students con un solo envío\n",
        "std_un_solo_envio= df_envios[df_envios['Cant_Envios']==1]['UID del estudiante'].to_list()\n",
        "std_un_solo_envio"
      ],
      "execution_count": 118,
      "outputs": [
        {
          "output_type": "execute_result",
          "data": {
            "text/plain": [
              "[75, 142, 361]"
            ]
          },
          "metadata": {
            "tags": []
          },
          "execution_count": 118
        }
      ]
    },
    {
      "cell_type": "code",
      "metadata": {
        "colab": {
          "base_uri": "https://localhost:8080/"
        },
        "id": "w3h8AoristHP",
        "outputId": "35926bb3-7347-437a-8ff8-3a47de491fe7"
      },
      "source": [
        "# id de students con cantidad de envios mayor al percentil 0.97\n",
        "std_envios_97_percentil= df_envios[df_envios['Cant_Envios']>max]['UID del estudiante'].to_list() \n",
        "std_envios_97_percentil"
      ],
      "execution_count": 119,
      "outputs": [
        {
          "output_type": "execute_result",
          "data": {
            "text/plain": [
              "[147, 157, 179, 191, 231, 256, 265, 283, 301]"
            ]
          },
          "metadata": {
            "tags": []
          },
          "execution_count": 119
        }
      ]
    },
    {
      "cell_type": "code",
      "metadata": {
        "id": "mhMjsbiBySS5"
      },
      "source": [
        "filtered_uids_stds=std_un_solo_envio+std_envios_97_percentil"
      ],
      "execution_count": 120,
      "outputs": []
    },
    {
      "cell_type": "code",
      "metadata": {
        "colab": {
          "base_uri": "https://localhost:8080/"
        },
        "id": "LWbwQ6FHBAtk",
        "outputId": "5726fad6-2c6b-4b00-8382-9c4dd2b08cad"
      },
      "source": [
        "len(df_mumuki[~df_mumuki['student_uid'].isin(filtered_uids_stds)])"
      ],
      "execution_count": 126,
      "outputs": [
        {
          "output_type": "execute_result",
          "data": {
            "text/plain": [
              "42785"
            ]
          },
          "metadata": {
            "tags": []
          },
          "execution_count": 126
        }
      ]
    },
    {
      "cell_type": "code",
      "metadata": {
        "colab": {
          "base_uri": "https://localhost:8080/"
        },
        "id": "JxikN057yn1w",
        "outputId": "6f4cb556-621f-4843-f1c2-22b6c8b6e47e"
      },
      "source": [
        "len(df_mumuki[~df_mumuki['student_uid'].isin(filtered_uids_stds)])/len(df_mumuki)"
      ],
      "execution_count": 125,
      "outputs": [
        {
          "output_type": "execute_result",
          "data": {
            "text/plain": [
              "0.9103578875696838"
            ]
          },
          "metadata": {
            "tags": []
          },
          "execution_count": 125
        }
      ]
    },
    {
      "cell_type": "code",
      "metadata": {
        "colab": {
          "base_uri": "https://localhost:8080/"
        },
        "id": "Kd-zQzRg_uIx",
        "outputId": "3b382602-8025-4c5b-d0df-2aa2c2093860"
      },
      "source": [
        "len(df_mumuki[df_mumuki['student_uid'].isin(filtered_uids_stds)])"
      ],
      "execution_count": 122,
      "outputs": [
        {
          "output_type": "execute_result",
          "data": {
            "text/plain": [
              "4213"
            ]
          },
          "metadata": {
            "tags": []
          },
          "execution_count": 122
        }
      ]
    },
    {
      "cell_type": "code",
      "metadata": {
        "id": "7P4c5iFhBjtM"
      },
      "source": [
        "#eliminacion\n",
        "df_mumuki=df_mumuki[~df_mumuki['student_uid'].isin(filtered_uids_stds)]"
      ],
      "execution_count": 127,
      "outputs": []
    },
    {
      "cell_type": "code",
      "metadata": {
        "colab": {
          "base_uri": "https://localhost:8080/",
          "height": 301
        },
        "id": "IMNUeyKUBycz",
        "outputId": "e1740d86-38ce-4e92-e479-9e5b78ebf124"
      },
      "source": [
        "#validacion\n",
        "df_envios_sin_otl=df_mumuki.groupby(['student_uid'], as_index=False).agg({'id_exercise':'count','exercise_name': (lambda x: len(set(x))),}).rename(columns={'id_exercise':'Cant_Envios','exercise_name':'Ejercicios_ Resueltos', \"student_uid\": 'UID del estudiante'})\n",
        "plt.figure(figsize=(12, 4))\n",
        "seaborn.boxplot(x=df_envios_sin_otl['Cant_Envios'])\n",
        "seaborn.despine()"
      ],
      "execution_count": 128,
      "outputs": [
        {
          "output_type": "display_data",
          "data": {
            "image/png": "[encoded data removed]",
            "text/plain": [
              "<Figure size 864x288 with 1 Axes>"
            ]
          },
          "metadata": {
            "tags": [],
            "needs_background": "light"
          }
        }
      ]
    },
    {
      "cell_type": "markdown",
      "metadata": {
        "id": "G5uoPk_bDUKs"
      },
      "source": [
        "#### Crear y guardar un nuevo conjunto de datos con todas las transformaciones realizadas."
      ]
    },
    {
      "cell_type": "code",
      "metadata": {
        "id": "etoY3LjhDNkj"
      },
      "source": [
        "df_mumuki.to_csv('DataSet_Mumuki_Outliers.csv')"
      ],
      "execution_count": 129,
      "outputs": []
    }
  ]
}