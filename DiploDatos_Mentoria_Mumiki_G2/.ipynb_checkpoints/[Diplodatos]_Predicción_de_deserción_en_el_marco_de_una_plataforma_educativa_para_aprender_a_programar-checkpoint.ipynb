{
 "cells": [
  {
   "cell_type": "markdown",
   "metadata": {
    "id": "-lk7UEl0fzoX"
   },
   "source": [
    "# Introducción\n",
    "\n"
   ]
  },
  {
   "cell_type": "markdown",
   "metadata": {
    "id": "s150OA8uiOmx"
   },
   "source": [
    "## Objetivo general\n",
    "\n",
    "El proyecto consiste en predecir la deserción de estudiantes en el contexto una plataforma educativa online de código libre argentina que presenta una secuencia didáctica para aprender a programar. Para ello se utilizará un dataset anonimizado de aproximadamente 50.000 filas con progreso de estudiantes consistente en sus interacciones con la plataforma de aproximadamente 150 estudiantes. El mismo contiene tanto datos estructurados como no estructurados: tipos de eventos, fechas, transiciones entre estados,  código fuente de soluciones enviadas, resultados de análisis sobre los árboles sintacticos  y la ejecución del código fuente, entre otros.  "
   ]
  },
  {
   "cell_type": "markdown",
   "metadata": {
    "id": "QjGNWBuyf6ts"
   },
   "source": [
    "## Predicción vs Análisis\n",
    "\n",
    "Pese a que el título es _Predicción de deserción en el marco de una plataforma educativa para aprender a programar_ (que suena un poco pomposo, sí 😜) la predicción en sí no será nuestra principal meta, sino más bien el análisis de sus posibles causas. \n",
    "\n",
    "La construcción de un modelo predicitivo será más bien un efecto secundario de este proceso, el cual buscará ante todo producir conicimiento científico antes que un software funcional. \n",
    "\n"
   ]
  },
  {
   "cell_type": "markdown",
   "metadata": {
    "id": "1SQybs7mhEOe"
   },
   "source": [
    "## El lote de datos\n",
    "\n",
    "El lote de datos se encuentra [acá](https://drive.google.com/file/d/1htj8TBmR9Xkk3Bi7yXb71HvqoikJrwTh/view?usp=sharing), y está formateado como una archivo de valores separados por comas. \n",
    "\n"
   ]
  },
  {
   "cell_type": "markdown",
   "metadata": {
    "id": "tPW3XTFriYcr"
   },
   "source": [
    "\n",
    "\n",
    "```\n",
    "# Esto tiene formato de código\n",
    "```\n",
    "\n",
    "## Los datos\n",
    "\n",
    "Cada fila de este datasets representa el envío de una solución a un ejercicio realizada por un@ estudiante y los resultados de la evaluación automática realizada por la plataforma [Mumuki](https://mumuki.io). Encontraremos las siguientes columnas: \n",
    "\n",
    "  * `exercise_name` y `exercise_eid`: nombre e identificador del ejercicio dentro de una guía \n",
    "  * `expectation_results`: resultados del análisis de expectativas y code smells realizado mediante  la herramienta mulang\n",
    "  * `guide_slug`: identificador único de la guía, que permite buscarle como un repositorio Github o dentro del API de contenido de Mumuki (por ejemplo la guía `mumukiproject/mumuki-guia-python-funciones-tipos-de-datos` se corresponde con la URL https://bibliotheca-api.mumuki.io/guides/mumukiproject/mumuki-guia-python-funciones-tipos-de-datos). Junto con el exercise_id constituyen la clave natural primaria del ejercicio. \n",
    "  * `result`: resutlado obtenido al intentar cargar la solución en un intérprete de Python. Sólo está presente en caso de que la solución no se haya podido cargar satisfactoriamiente debido a errores de sintaxis o referencias. Si la solución ha sido cargada correctamente, se deberá inspeccionar el campo `test_results`\n",
    "  * `sid`: identificador único del envío, o -1 si lo que se envío fue una prueba a través del REPL de Mumuki (consola) en lugar de una solución\n",
    "  * `student_uid`: identificador (anonimizado) de estudiante\n",
    "  * `submission_content`: código fuente de la solución enviada\n",
    "  * `submission_created_at`: fecha y hora GMT a la que la solución fue enviada\n",
    "  * `submission_status`: estado del envío: passed (solución correcta), passed_with_warnigns (solución correcta desde el punto de vista de las pruebas unitarias pero con errores de mulang), failed (solución que no pasa las pruebas unitarias), errored (solución que no puede ser cargada por errores de sintaxis o referencias), aborted (solución que puede ser cargada pero no puede ser ejecutada de forma completa)\n",
    "  * `submissions_count`: cantidad de soluciones enviadas hasta el momento para es@ estudiante y ejercicio\n",
    "  * `test_results`: resultados de las pruebas unitarias, en caso de que hayan podido ser ejecutadas"
   ]
  },
  {
   "cell_type": "markdown",
   "metadata": {
    "id": "oAUSZ3Y4h2C3"
   },
   "source": [
    "# Primera entrega: análisis y visualización\n",
    "\n"
   ]
  },
  {
   "cell_type": "markdown",
   "metadata": {
    "id": "JIgcIzVXi9o3"
   },
   "source": [
    "## Objetivo general \n",
    "\n",
    "El objetivo de esta entrega es la caracterización del lote de datos utilizando métricas estadísticas básicas, cálculo y visualización de la distribución de soluciones según diferentes parámetros que caracticen el recorrido tanto general del curso como de cada estudiante. \n",
    "\n"
   ]
  },
  {
   "cell_type": "markdown",
   "metadata": {
    "id": "f4HVi_d-jKUT"
   },
   "source": [
    "## Hitos\n",
    "\n",
    "La intención es avanzar de forma iterativa e incremental, en cuatro iteraciones: \n",
    "\n",
    "1. **Familiarización y planteo de preguntas** (📅 semana del 10 de Mayo) Conoceremos el problema, caracterizaremos a muy alto nivel el dataset y  partiendo de la pregunta _¿qué factores inciden en la deserción?_ se deberá:\n",
    "    1. producir nuevas preguntas, más específicas, que ayuden a responder a la pregunta general;\n",
    "    2. proponer a alto nivel (no es necesario en este punto código, aunque siempre suma) estrategias para resolverlas;\n",
    "    3. identificar, si fuera necesario, qué información falta para responder dichas preguntas\n",
    "2. **Caracterización y visualización I** (📅 semana del 17 de Mayo). Intentaremos dar respuesta a las preguntas de la iteración anterior a través de métricas estadísticas y visualizaciones. Plantearemos nuevas preguntas y refinaremos las anteriores\n",
    "3. **Caracterización y visualización II** (📅 semana del 24 de Mayo). Continuaremos iterando sobre las preguntas, métricas estadísticas y visualizaciones. **Este hito será opcional y en función del detalle alcanzado en el anterior**.  \n",
    "4. **Entrega final** (📅 semana del 31 de Mayo)\n",
    "\n",
    "\n",
    "En cada iteración deberán trabajar con sus respectivos equipos para dar respuesta a las problemáticas planteadas, y, al finalizar cada una, haremos una breve puesta en común sincrónica de 1 hora por equipo. \n"
   ]
  },
  {
   "cell_type": "markdown",
   "metadata": {
    "id": "aglbNA0gj5SW"
   },
   "source": [
    "## Recomendaciones generales\n",
    "\n",
    "### Navegar la aplicación\n",
    "\n",
    "Para entender mejor al dataset, recomiendo fuertemente que hagan algunos ejercicios en Mumuki para entender su mecánica y con qué situaciones les estudiantes pueden encontrarse. \n",
    "\n",
    "Dado que Mumuki tiene muchos contenidos, cree una _organización_ donde encontrarán la secuencia didáctica con la que trabajaron quienes generaron este lote de datos: https://mumuki.io/mentoria-diplodatos.\n",
    "\n",
    "⚠️ **Importante**: tienen que entrar con los mails con los que nos estamos comunicando. \n",
    "\n",
    "\n",
    "\n"
   ]
  },
  {
   "cell_type": "markdown",
   "metadata": {
    "id": "lF7DFhyH14cE"
   },
   "source": [
    "## Caracterización\n",
    "\n",
    "Estas son algunas preguntas que pueden ayudarnos a entrar al lote de datos y caracterizarlo: \n",
    "\n",
    "* ¿Qué tamaño tiene?\n",
    "* ¿Qué valores únicos hay en cada columna?\n",
    "* ¿Durante qué período se enviaron las soluciones? ¿En qué dias de la semana?\n",
    "* ¿Cómo son las soluciones? ¿Cuántas soluciones únicas hay?\n",
    "* ¿Cuántos ejercicios únicos tenemos?"
   ]
  },
  {
   "cell_type": "markdown",
   "metadata": {
    "id": "6rG_VFdM13Ae"
   },
   "source": [
    "\n",
    "### Preguntas disparadoras\n",
    "\n",
    "⚠️ **¡Cuidado!** Esta sección tiene spoilers. \n",
    "\n",
    "En caso de que se esté volviendo difícil pensar las primeras preguntas, estas son algunas que pueden orientarnos. De todas formas, ojo, porque también pueden sesgarnos 😄.\n",
    "\n",
    " * ¿Qué grado de avance (entendido como porcentaje de completitud del recorrido) presenta cada estudiante?\n",
    " * ¿Cuánto tiempo calendario inviritió cada estudiante? ¿Cuánto tiempo neto?\n",
    " * ¿Cuál es el tiempo promedio para cada estudiante entre un envío y el siguiente?\n",
    " * ¿Qué proporción de los ejercicios intentados respetó la secuencia didáctica para cada estudiante?\n",
    " * ¿Cuál es la cantidad de intentos promedio en cada ejercicio para cada estudiante? \n",
    " * ¿Qué proporción de los intentos de cada estudiante son de tipo failed? ¿Y errored? ¿Y passed_with_warnings?\n",
    " * ¿Qué proporción de intentos tiene expectativas no cumplidas para cada estudiante?\n",
    " * ¿Cuánto usó la consola (REPL) cada estudiante?\n",
    " * ¿Qué proporción de los envíos errored son errores de sintaxis? ¿Y para cada estudiante?\n",
    " * ¿Qué proporción de tests fallidos hay para cada estudiante? ¿Y para cada ejercicio? ¿Qué proporción de tests fallidos hay en los ejercicios de cada estudiante que no llegan a ser resueltos?\n",
    " * ¿En qué grado cada solución representa una mejoría (cantidad de tests fallidos, expectativas fallidas, estados de error) respecto del estado anterior?\n",
    " * ¿Cuáles son los tests que más fallan para cada ejercicio?\n",
    " * ¿Cuál es la cantidad de intentos máximos por ejercicio en general y para cada persona? ¿Cuánto tiempo le toma a una persona alcanzar ese máximo? \n",
    " * Bonus: ¿existen características textuales código asociadas a los parámetros anteriores?\n",
    " * ¿Cuáles ejercicios presentan mayores niveles de deserción?\n",
    " * ¿Qué estado de solución presenta mayores niveles de deserción?\n",
    " * ¿Cuáles son las características que mayor inciden en la deserción?\n",
    " * ¿Es posible construir un modelo que estime la probabilidad de deserción durante en un momento particular del recorrido en base a las variables anteriores?\n"
   ]
  },
  {
   "cell_type": "markdown",
   "metadata": {
    "id": "j5UY5ct31z-I"
   },
   "source": [
    "\n",
    "### Bonus: leer la documentación de Mulang\n",
    "\n",
    "Mulang es la herramienta que utilizamos para analizar semánticamente al código y es la fuente de las expectativas (`expectation_results`) y podría más adelante ofrecernos otras herramientas de procesamiento de los envíos más allá del texto plano de las mismas (sobre todo hacia el final de la diplomatura). \n",
    "\n",
    "Por ahora no es un conocimiento fundamental, pero acá está su documentación: https://mumuki.github.io/mulang/. \n",
    "\n"
   ]
  },
  {
   "cell_type": "markdown",
   "metadata": {
    "id": "JG7nFj8E02UU"
   },
   "source": [
    "### Leer papers\n",
    "\n",
    "Hay algunos papers sobre Mumuki que pueden ser interesantes. En esta etapa no son lectura obligatoria, pero sí es muy deseable para quien quiera profundizar.  \n",
    "\n",
    "\n",
    "* [Estudio comparativo](https://www.researchgate.net/publication/323326031_The_Effect_of_a_Web-based_Coding_Tool_with_Automatic_Feedback_on_Students'_Performance_and_Perceptions) del uso de Mumuki. Es un paper con ya varios años pero muy ameno. \n",
    "* Bonus: [Tesis de maestría](https://github.com/mrcmoresi/msc-thesis/raw/master/Marco_Moresi_Thesis.pdf) de Marco Moresi sobre la aplicación de redes LSTM para predicir abandonos en Mumuki. Puede llegar a ser muy relevante en las etapas finales de la diplomaturas. \n",
    "* Super bonus: [Tesis doctoral](https://rdu.unc.edu.ar/bitstream/handle/11086/16051/G%C3%B3mez%2C%20Marcos.%20Aspectos%20de%20adquisici%C3%B3n%20de%20lenguaje%20en%20la%20ense%C3%B1anza%20de%20programaci%C3%B3n%20.pdf?sequence=1&isAllowed=y) de Marcos Gomez (UNC). Extenso, va mucho más allá de Mumuki y es para leer con tiempo. \n"
   ]
  },
  {
   "cell_type": "markdown",
   "metadata": {
    "id": "iEX7jq9A0auK"
   },
   "source": [
    "### Bonus: navegar el código\n",
    "\n",
    "Este es un _super_ bonus. Pero si querés, podés _chusmear_ el código del sistema para entender su motor de evaluación. Se encuentra [acá](https://github.com/mumuki/), son muchísimos repositorios, pero preguntame y te puedo orientar. "
   ]
  }
 ],
 "metadata": {
  "colab": {
   "collapsed_sections": [],
   "name": "[Diplodatos] Predicción de deserción en el marco de una plataforma educativa para aprender a programar.ipynb",
   "provenance": [],
   "toc_visible": true
  },
  "kernelspec": {
   "display_name": "Python 3",
   "language": "python",
   "name": "python3"
  },
  "language_info": {
   "codemirror_mode": {
    "name": "ipython",
    "version": 3
   },
   "file_extension": ".py",
   "mimetype": "text/x-python",
   "name": "python",
   "nbconvert_exporter": "python",
   "pygments_lexer": "ipython3",
   "version": "3.8.5"
  }
 },
 "nbformat": 4,
 "nbformat_minor": 1
}
