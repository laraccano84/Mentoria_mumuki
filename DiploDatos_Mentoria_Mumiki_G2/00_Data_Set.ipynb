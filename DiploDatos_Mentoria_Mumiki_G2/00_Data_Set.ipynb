{
 "cells": [
  {
   "cell_type": "markdown",
   "metadata": {},
   "source": [
    "# DIPLOMATURA EN CIENCIA DE DATOS, APRENDIZAJE AUTOMÁTICO Y SUS APLICACIONES"
   ]
  },
  {
   "cell_type": "markdown",
   "metadata": {},
   "source": [
    "## Predicción de deserción en una plataforma educativa para aprender a programar\n",
    "**DataSet**"
   ]
  },
  {
   "cell_type": "markdown",
   "metadata": {},
   "source": [
    "El Objetivo de este Notebook es realizar un reconocimiento de cada uno de los datos del data set, y realizar las transformaciones necesarias para su posterior análisis."
   ]
  },
  {
   "cell_type": "code",
   "execution_count": 1,
   "metadata": {},
   "outputs": [],
   "source": [
    "import io\n",
    "import matplotlib\n",
    "import matplotlib.pyplot as plt\n",
    "import numpy as np\n",
    "import pandas as pd\n",
    "import seaborn\n",
    "import time\n",
    "import datetime as dt\n",
    "from IPython.display import HTML, display\n",
    "import requests\n",
    "import json\n",
    "import math\n",
    "import glob\n",
    "\n",
    "seaborn.set_context('talk')\n"
   ]
  },
  {
   "cell_type": "code",
   "execution_count": 2,
   "metadata": {},
   "outputs": [],
   "source": [
    "#pip install pandas_bokeh"
   ]
  },
  {
   "cell_type": "code",
   "execution_count": 3,
   "metadata": {},
   "outputs": [],
   "source": [
    "#pip install cufflinks"
   ]
  },
  {
   "cell_type": "code",
   "execution_count": 4,
   "metadata": {},
   "outputs": [],
   "source": [
    "import cufflinks as cf\n",
    "import pandas_bokeh"
   ]
  },
  {
   "cell_type": "markdown",
   "metadata": {},
   "source": [
    "# 1. Lectura del dataset de Mumuki."
   ]
  },
  {
   "cell_type": "markdown",
   "metadata": {},
   "source": [
    "Visión de datos generales del DataSet"
   ]
  },
  {
   "cell_type": "code",
   "execution_count": 5,
   "metadata": {},
   "outputs": [],
   "source": [
    "url= 'https://raw.githubusercontent.com/Natali-PP/diplodatos2021/main/mentoria/python_submissions.csv'\n",
    "df_mumuki = pd.read_csv(url)"
   ]
  },
  {
   "cell_type": "code",
   "execution_count": 6,
   "metadata": {
    "scrolled": false
   },
   "outputs": [
    {
     "data": {
      "text/html": [
       "<div>\n",
       "<style scoped>\n",
       "    .dataframe tbody tr th:only-of-type {\n",
       "        vertical-align: middle;\n",
       "    }\n",
       "\n",
       "    .dataframe tbody tr th {\n",
       "        vertical-align: top;\n",
       "    }\n",
       "\n",
       "    .dataframe thead th {\n",
       "        text-align: right;\n",
       "    }\n",
       "</style>\n",
       "<table border=\"1\" class=\"dataframe\">\n",
       "  <thead>\n",
       "    <tr style=\"text-align: right;\">\n",
       "      <th></th>\n",
       "      <th>exercise_eid</th>\n",
       "      <th>exercise_name</th>\n",
       "      <th>expectation_results</th>\n",
       "      <th>feedback</th>\n",
       "      <th>guide_slug</th>\n",
       "      <th>result</th>\n",
       "      <th>sid</th>\n",
       "      <th>student_uid</th>\n",
       "      <th>submission_content</th>\n",
       "      <th>submission_created_at</th>\n",
       "      <th>submission_status</th>\n",
       "      <th>submissions_count</th>\n",
       "      <th>test_results</th>\n",
       "    </tr>\n",
       "  </thead>\n",
       "  <tbody>\n",
       "    <tr>\n",
       "      <th>0</th>\n",
       "      <td>1</td>\n",
       "      <td>Funciones, declaración</td>\n",
       "      <td>[]</td>\n",
       "      <td>NaN</td>\n",
       "      <td>mumukiproject/mumuki-guia-python-funciones-tip...</td>\n",
       "      <td>NaN</td>\n",
       "      <td>0</td>\n",
       "      <td>76</td>\n",
       "      <td>def mitad(numero):\\r\\n  return numero / 2</td>\n",
       "      <td>2019-08-30 13:17:17.700</td>\n",
       "      <td>passed</td>\n",
       "      <td>0</td>\n",
       "      <td>[{'title': 'Mitad de 10 es 5', 'status': 'pass...</td>\n",
       "    </tr>\n",
       "    <tr>\n",
       "      <th>1</th>\n",
       "      <td>1</td>\n",
       "      <td>Funciones, declaración</td>\n",
       "      <td>[]</td>\n",
       "      <td>NaN</td>\n",
       "      <td>mumukiproject/mumuki-guia-python-funciones-tip...</td>\n",
       "      <td>NaN</td>\n",
       "      <td>1</td>\n",
       "      <td>77</td>\n",
       "      <td>def mitad(numero):\\r\\n  return numero / 2</td>\n",
       "      <td>2019-09-04 01:29:22.351</td>\n",
       "      <td>passed</td>\n",
       "      <td>0</td>\n",
       "      <td>[{'title': 'Mitad de 10 es 5', 'status': 'pass...</td>\n",
       "    </tr>\n",
       "    <tr>\n",
       "      <th>2</th>\n",
       "      <td>1</td>\n",
       "      <td>Funciones, declaración</td>\n",
       "      <td>[]</td>\n",
       "      <td>NaN</td>\n",
       "      <td>mumukiproject/mumuki-guia-python-funciones-tip...</td>\n",
       "      <td>NaN</td>\n",
       "      <td>2</td>\n",
       "      <td>78</td>\n",
       "      <td>def Mitas(numero):\\r\\n  return 2 / numero\\r\\n</td>\n",
       "      <td>2019-09-04 02:53:01.099</td>\n",
       "      <td>failed</td>\n",
       "      <td>0</td>\n",
       "      <td>[{'title': 'Mitad de 10 es 5', 'status': 'fail...</td>\n",
       "    </tr>\n",
       "  </tbody>\n",
       "</table>\n",
       "</div>"
      ],
      "text/plain": [
       "   exercise_eid           exercise_name expectation_results  feedback  \\\n",
       "0             1  Funciones, declaración                  []       NaN   \n",
       "1             1  Funciones, declaración                  []       NaN   \n",
       "2             1  Funciones, declaración                  []       NaN   \n",
       "\n",
       "                                          guide_slug result  sid  student_uid  \\\n",
       "0  mumukiproject/mumuki-guia-python-funciones-tip...    NaN    0           76   \n",
       "1  mumukiproject/mumuki-guia-python-funciones-tip...    NaN    1           77   \n",
       "2  mumukiproject/mumuki-guia-python-funciones-tip...    NaN    2           78   \n",
       "\n",
       "                              submission_content    submission_created_at  \\\n",
       "0      def mitad(numero):\\r\\n  return numero / 2  2019-08-30 13:17:17.700   \n",
       "1      def mitad(numero):\\r\\n  return numero / 2  2019-09-04 01:29:22.351   \n",
       "2  def Mitas(numero):\\r\\n  return 2 / numero\\r\\n  2019-09-04 02:53:01.099   \n",
       "\n",
       "  submission_status  submissions_count  \\\n",
       "0            passed                  0   \n",
       "1            passed                  0   \n",
       "2            failed                  0   \n",
       "\n",
       "                                        test_results  \n",
       "0  [{'title': 'Mitad de 10 es 5', 'status': 'pass...  \n",
       "1  [{'title': 'Mitad de 10 es 5', 'status': 'pass...  \n",
       "2  [{'title': 'Mitad de 10 es 5', 'status': 'fail...  "
      ]
     },
     "execution_count": 6,
     "metadata": {},
     "output_type": "execute_result"
    }
   ],
   "source": [
    "df_mumuki[:3]"
   ]
  },
  {
   "cell_type": "markdown",
   "metadata": {},
   "source": [
    "## 1.1 Tamaño del DataSet"
   ]
  },
  {
   "cell_type": "code",
   "execution_count": 7,
   "metadata": {},
   "outputs": [
    {
     "name": "stdout",
     "output_type": "stream",
     "text": [
      "El tamaño del lote de datos es: (47183, 13) (registros y columnas)\n"
     ]
    }
   ],
   "source": [
    "print(f\"El tamaño del lote de datos es: {df_mumuki.shape} (registros y columnas)\")"
   ]
  },
  {
   "cell_type": "markdown",
   "metadata": {},
   "source": [
    "## 1.2 Identificamos los tipos de datos"
   ]
  },
  {
   "cell_type": "code",
   "execution_count": 8,
   "metadata": {},
   "outputs": [
    {
     "data": {
      "text/plain": [
       "exercise_eid               int64\n",
       "exercise_name             object\n",
       "expectation_results       object\n",
       "feedback                 float64\n",
       "guide_slug                object\n",
       "result                    object\n",
       "sid                        int64\n",
       "student_uid                int64\n",
       "submission_content        object\n",
       "submission_created_at     object\n",
       "submission_status         object\n",
       "submissions_count          int64\n",
       "test_results              object\n",
       "dtype: object"
      ]
     },
     "execution_count": 8,
     "metadata": {},
     "output_type": "execute_result"
    }
   ],
   "source": [
    "df_mumuki.dtypes"
   ]
  },
  {
   "cell_type": "markdown",
   "metadata": {},
   "source": [
    "## 1.3 Análisis de los datos por columna"
   ]
  },
  {
   "cell_type": "markdown",
   "metadata": {},
   "source": [
    "A continuación se presenta una tabla por cada campo del dataset de Mumuki, donde vamos a identificar: cantidades, valores unicos, top, frequencia, media, estandar, minimo, 25%, 50%, 75% y máximo. De esta forma tenemos un conocimiento general de los campos.\n"
   ]
  },
  {
   "cell_type": "code",
   "execution_count": 9,
   "metadata": {},
   "outputs": [
    {
     "data": {
      "text/html": [
       "<div>\n",
       "<style scoped>\n",
       "    .dataframe tbody tr th:only-of-type {\n",
       "        vertical-align: middle;\n",
       "    }\n",
       "\n",
       "    .dataframe tbody tr th {\n",
       "        vertical-align: top;\n",
       "    }\n",
       "\n",
       "    .dataframe thead th {\n",
       "        text-align: right;\n",
       "    }\n",
       "</style>\n",
       "<table border=\"1\" class=\"dataframe\">\n",
       "  <thead>\n",
       "    <tr style=\"text-align: right;\">\n",
       "      <th></th>\n",
       "      <th>exercise_eid</th>\n",
       "      <th>exercise_name</th>\n",
       "      <th>expectation_results</th>\n",
       "      <th>feedback</th>\n",
       "      <th>guide_slug</th>\n",
       "      <th>result</th>\n",
       "      <th>sid</th>\n",
       "      <th>student_uid</th>\n",
       "      <th>submission_content</th>\n",
       "      <th>submission_created_at</th>\n",
       "      <th>submission_status</th>\n",
       "      <th>submissions_count</th>\n",
       "      <th>test_results</th>\n",
       "    </tr>\n",
       "  </thead>\n",
       "  <tbody>\n",
       "    <tr>\n",
       "      <th>count</th>\n",
       "      <td>47183.000000</td>\n",
       "      <td>47183</td>\n",
       "      <td>47183</td>\n",
       "      <td>0.0</td>\n",
       "      <td>47183</td>\n",
       "      <td>15602</td>\n",
       "      <td>47183.000000</td>\n",
       "      <td>47183.000000</td>\n",
       "      <td>41459</td>\n",
       "      <td>47183</td>\n",
       "      <td>47183</td>\n",
       "      <td>47183.000000</td>\n",
       "      <td>41663</td>\n",
       "    </tr>\n",
       "    <tr>\n",
       "      <th>unique</th>\n",
       "      <td>NaN</td>\n",
       "      <td>46</td>\n",
       "      <td>337</td>\n",
       "      <td>NaN</td>\n",
       "      <td>3</td>\n",
       "      <td>9181</td>\n",
       "      <td>NaN</td>\n",
       "      <td>NaN</td>\n",
       "      <td>32937</td>\n",
       "      <td>47175</td>\n",
       "      <td>6</td>\n",
       "      <td>NaN</td>\n",
       "      <td>2780</td>\n",
       "    </tr>\n",
       "    <tr>\n",
       "      <th>top</th>\n",
       "      <td>NaN</td>\n",
       "      <td>Palabras, sólo palabras</td>\n",
       "      <td>[]</td>\n",
       "      <td>NaN</td>\n",
       "      <td>mumukiproject/mumuki-guia-python-funciones-tip...</td>\n",
       "      <td>File \"solucion.py\", line 11\\n    else:\\n    ...</td>\n",
       "      <td>NaN</td>\n",
       "      <td>NaN</td>\n",
       "      <td>0:3:4</td>\n",
       "      <td>2020-07-20 03:54:32.224</td>\n",
       "      <td>failed</td>\n",
       "      <td>NaN</td>\n",
       "      <td>[]</td>\n",
       "    </tr>\n",
       "    <tr>\n",
       "      <th>freq</th>\n",
       "      <td>NaN</td>\n",
       "      <td>2610</td>\n",
       "      <td>30332</td>\n",
       "      <td>NaN</td>\n",
       "      <td>23961</td>\n",
       "      <td>78</td>\n",
       "      <td>NaN</td>\n",
       "      <td>NaN</td>\n",
       "      <td>252</td>\n",
       "      <td>2</td>\n",
       "      <td>17609</td>\n",
       "      <td>NaN</td>\n",
       "      <td>15605</td>\n",
       "    </tr>\n",
       "    <tr>\n",
       "      <th>mean</th>\n",
       "      <td>8.589450</td>\n",
       "      <td>NaN</td>\n",
       "      <td>NaN</td>\n",
       "      <td>NaN</td>\n",
       "      <td>NaN</td>\n",
       "      <td>NaN</td>\n",
       "      <td>18412.829155</td>\n",
       "      <td>221.765000</td>\n",
       "      <td>NaN</td>\n",
       "      <td>NaN</td>\n",
       "      <td>NaN</td>\n",
       "      <td>6.763538</td>\n",
       "      <td>NaN</td>\n",
       "    </tr>\n",
       "    <tr>\n",
       "      <th>std</th>\n",
       "      <td>4.897098</td>\n",
       "      <td>NaN</td>\n",
       "      <td>NaN</td>\n",
       "      <td>NaN</td>\n",
       "      <td>NaN</td>\n",
       "      <td>NaN</td>\n",
       "      <td>13146.120096</td>\n",
       "      <td>74.852459</td>\n",
       "      <td>NaN</td>\n",
       "      <td>NaN</td>\n",
       "      <td>NaN</td>\n",
       "      <td>11.002089</td>\n",
       "      <td>NaN</td>\n",
       "    </tr>\n",
       "    <tr>\n",
       "      <th>min</th>\n",
       "      <td>1.000000</td>\n",
       "      <td>NaN</td>\n",
       "      <td>NaN</td>\n",
       "      <td>NaN</td>\n",
       "      <td>NaN</td>\n",
       "      <td>NaN</td>\n",
       "      <td>-1.000000</td>\n",
       "      <td>-1.000000</td>\n",
       "      <td>NaN</td>\n",
       "      <td>NaN</td>\n",
       "      <td>NaN</td>\n",
       "      <td>0.000000</td>\n",
       "      <td>NaN</td>\n",
       "    </tr>\n",
       "    <tr>\n",
       "      <th>25%</th>\n",
       "      <td>4.000000</td>\n",
       "      <td>NaN</td>\n",
       "      <td>NaN</td>\n",
       "      <td>NaN</td>\n",
       "      <td>NaN</td>\n",
       "      <td>NaN</td>\n",
       "      <td>6287.500000</td>\n",
       "      <td>161.000000</td>\n",
       "      <td>NaN</td>\n",
       "      <td>NaN</td>\n",
       "      <td>NaN</td>\n",
       "      <td>0.000000</td>\n",
       "      <td>NaN</td>\n",
       "    </tr>\n",
       "    <tr>\n",
       "      <th>50%</th>\n",
       "      <td>8.000000</td>\n",
       "      <td>NaN</td>\n",
       "      <td>NaN</td>\n",
       "      <td>NaN</td>\n",
       "      <td>NaN</td>\n",
       "      <td>NaN</td>\n",
       "      <td>18092.000000</td>\n",
       "      <td>223.000000</td>\n",
       "      <td>NaN</td>\n",
       "      <td>NaN</td>\n",
       "      <td>NaN</td>\n",
       "      <td>3.000000</td>\n",
       "      <td>NaN</td>\n",
       "    </tr>\n",
       "    <tr>\n",
       "      <th>75%</th>\n",
       "      <td>13.000000</td>\n",
       "      <td>NaN</td>\n",
       "      <td>NaN</td>\n",
       "      <td>NaN</td>\n",
       "      <td>NaN</td>\n",
       "      <td>NaN</td>\n",
       "      <td>29895.500000</td>\n",
       "      <td>284.000000</td>\n",
       "      <td>NaN</td>\n",
       "      <td>NaN</td>\n",
       "      <td>NaN</td>\n",
       "      <td>8.000000</td>\n",
       "      <td>NaN</td>\n",
       "    </tr>\n",
       "    <tr>\n",
       "      <th>max</th>\n",
       "      <td>19.000000</td>\n",
       "      <td>NaN</td>\n",
       "      <td>NaN</td>\n",
       "      <td>NaN</td>\n",
       "      <td>NaN</td>\n",
       "      <td>NaN</td>\n",
       "      <td>41700.000000</td>\n",
       "      <td>363.000000</td>\n",
       "      <td>NaN</td>\n",
       "      <td>NaN</td>\n",
       "      <td>NaN</td>\n",
       "      <td>144.000000</td>\n",
       "      <td>NaN</td>\n",
       "    </tr>\n",
       "  </tbody>\n",
       "</table>\n",
       "</div>"
      ],
      "text/plain": [
       "        exercise_eid            exercise_name expectation_results  feedback  \\\n",
       "count   47183.000000                    47183               47183       0.0   \n",
       "unique           NaN                       46                 337       NaN   \n",
       "top              NaN  Palabras, sólo palabras                  []       NaN   \n",
       "freq             NaN                     2610               30332       NaN   \n",
       "mean        8.589450                      NaN                 NaN       NaN   \n",
       "std         4.897098                      NaN                 NaN       NaN   \n",
       "min         1.000000                      NaN                 NaN       NaN   \n",
       "25%         4.000000                      NaN                 NaN       NaN   \n",
       "50%         8.000000                      NaN                 NaN       NaN   \n",
       "75%        13.000000                      NaN                 NaN       NaN   \n",
       "max        19.000000                      NaN                 NaN       NaN   \n",
       "\n",
       "                                               guide_slug  \\\n",
       "count                                               47183   \n",
       "unique                                                  3   \n",
       "top     mumukiproject/mumuki-guia-python-funciones-tip...   \n",
       "freq                                                23961   \n",
       "mean                                                  NaN   \n",
       "std                                                   NaN   \n",
       "min                                                   NaN   \n",
       "25%                                                   NaN   \n",
       "50%                                                   NaN   \n",
       "75%                                                   NaN   \n",
       "max                                                   NaN   \n",
       "\n",
       "                                                   result           sid  \\\n",
       "count                                               15602  47183.000000   \n",
       "unique                                               9181           NaN   \n",
       "top       File \"solucion.py\", line 11\\n    else:\\n    ...           NaN   \n",
       "freq                                                   78           NaN   \n",
       "mean                                                  NaN  18412.829155   \n",
       "std                                                   NaN  13146.120096   \n",
       "min                                                   NaN     -1.000000   \n",
       "25%                                                   NaN   6287.500000   \n",
       "50%                                                   NaN  18092.000000   \n",
       "75%                                                   NaN  29895.500000   \n",
       "max                                                   NaN  41700.000000   \n",
       "\n",
       "         student_uid submission_content    submission_created_at  \\\n",
       "count   47183.000000              41459                    47183   \n",
       "unique           NaN              32937                    47175   \n",
       "top              NaN              0:3:4  2020-07-20 03:54:32.224   \n",
       "freq             NaN                252                        2   \n",
       "mean      221.765000                NaN                      NaN   \n",
       "std        74.852459                NaN                      NaN   \n",
       "min        -1.000000                NaN                      NaN   \n",
       "25%       161.000000                NaN                      NaN   \n",
       "50%       223.000000                NaN                      NaN   \n",
       "75%       284.000000                NaN                      NaN   \n",
       "max       363.000000                NaN                      NaN   \n",
       "\n",
       "       submission_status  submissions_count test_results  \n",
       "count              47183       47183.000000        41663  \n",
       "unique                 6                NaN         2780  \n",
       "top               failed                NaN           []  \n",
       "freq               17609                NaN        15605  \n",
       "mean                 NaN           6.763538          NaN  \n",
       "std                  NaN          11.002089          NaN  \n",
       "min                  NaN           0.000000          NaN  \n",
       "25%                  NaN           0.000000          NaN  \n",
       "50%                  NaN           3.000000          NaN  \n",
       "75%                  NaN           8.000000          NaN  \n",
       "max                  NaN         144.000000          NaN  "
      ]
     },
     "execution_count": 9,
     "metadata": {},
     "output_type": "execute_result"
    }
   ],
   "source": [
    "df_mumuki.describe(include='all')"
   ]
  },
  {
   "cell_type": "markdown",
   "metadata": {},
   "source": [
    "De aquí podemos obtener bastante información, cantidad de registro no nulos, cantidad de valores unicos, identificar si son variables categoricas y numericas.\n",
    "Si debemo destacar que varias de las variables numericas, la mayoria son identificadores. La unica variable numerica que no es identificador es el campo `submissions_count`."
   ]
  },
  {
   "cell_type": "markdown",
   "metadata": {},
   "source": [
    "# 2. Analizando las columnas del Dataset"
   ]
  },
  {
   "cell_type": "markdown",
   "metadata": {},
   "source": [
    "A continuación se hace un análisis por cada columna."
   ]
  },
  {
   "cell_type": "markdown",
   "metadata": {},
   "source": [
    "## 2.1 `exercise_eid` y `exercise_name`."
   ]
  },
  {
   "cell_type": "markdown",
   "metadata": {},
   "source": [
    "Analizamos estos dos variables en conjunto ya que deberian tener relación y determinar si en el exercise_eid se tuvo en cuenta el orden en que se encuentran los ejercicios de la cuadrícula del curso, o estaba anonimizado o randomizado."
   ]
  },
  {
   "cell_type": "code",
   "execution_count": 10,
   "metadata": {},
   "outputs": [
    {
     "name": "stdout",
     "output_type": "stream",
     "text": [
      "Hay 19 valores unicos en exercise_eid, identificador de ejercicio.\n",
      "Hay 46 valores unicos en exercise_name, nombre de ejercicios\n"
     ]
    }
   ],
   "source": [
    "print(f\"Hay {len(df_mumuki['exercise_eid'].value_counts())} valores unicos en exercise_eid, identificador de ejercicio.\")\n",
    "print(f\"Hay {len(df_mumuki['exercise_name'].value_counts())} valores unicos en exercise_name, nombre de ejercicios\")"
   ]
  },
  {
   "cell_type": "markdown",
   "metadata": {},
   "source": [
    "Para ver esto de una manera gráfica, agrupemos, por lección, por nombre y id de ejercicio. (`guide_slug`,`exercise_eid`,`exercise_name`)"
   ]
  },
  {
   "cell_type": "code",
   "execution_count": 11,
   "metadata": {},
   "outputs": [
    {
     "data": {
      "text/html": [
       "<div>\n",
       "<style scoped>\n",
       "    .dataframe tbody tr th:only-of-type {\n",
       "        vertical-align: middle;\n",
       "    }\n",
       "\n",
       "    .dataframe tbody tr th {\n",
       "        vertical-align: top;\n",
       "    }\n",
       "\n",
       "    .dataframe thead th {\n",
       "        text-align: right;\n",
       "    }\n",
       "</style>\n",
       "<table border=\"1\" class=\"dataframe\">\n",
       "  <thead>\n",
       "    <tr style=\"text-align: right;\">\n",
       "      <th></th>\n",
       "      <th></th>\n",
       "      <th></th>\n",
       "      <th>cant_envios</th>\n",
       "    </tr>\n",
       "    <tr>\n",
       "      <th>guide_slug</th>\n",
       "      <th>exercise_eid</th>\n",
       "      <th>exercise_name</th>\n",
       "      <th></th>\n",
       "    </tr>\n",
       "  </thead>\n",
       "  <tbody>\n",
       "    <tr>\n",
       "      <th rowspan=\"20\" valign=\"top\">mumukiproject/mumuki-guia-python-funciones-tipos-de-datos</th>\n",
       "      <th>1</th>\n",
       "      <th>Funciones, declaración</th>\n",
       "      <td>1069</td>\n",
       "    </tr>\n",
       "    <tr>\n",
       "      <th>2</th>\n",
       "      <th>Funciones, uso</th>\n",
       "      <td>1221</td>\n",
       "    </tr>\n",
       "    <tr>\n",
       "      <th>3</th>\n",
       "      <th>Los premios</th>\n",
       "      <td>1347</td>\n",
       "    </tr>\n",
       "    <tr>\n",
       "      <th rowspan=\"2\" valign=\"top\">4</th>\n",
       "      <th>Libros de la buena memoria</th>\n",
       "      <td>892</td>\n",
       "    </tr>\n",
       "    <tr>\n",
       "      <th>¿Es par?</th>\n",
       "      <td>381</td>\n",
       "    </tr>\n",
       "    <tr>\n",
       "      <th>5</th>\n",
       "      <th>Tipos de datos</th>\n",
       "      <td>1327</td>\n",
       "    </tr>\n",
       "    <tr>\n",
       "      <th>6</th>\n",
       "      <th>Booleanos</th>\n",
       "      <td>1275</td>\n",
       "    </tr>\n",
       "    <tr>\n",
       "      <th rowspan=\"2\" valign=\"top\">7</th>\n",
       "      <th>El retorno del booleano</th>\n",
       "      <td>1307</td>\n",
       "    </tr>\n",
       "    <tr>\n",
       "      <th>Más booleanos</th>\n",
       "      <td>235</td>\n",
       "    </tr>\n",
       "    <tr>\n",
       "      <th>8</th>\n",
       "      <th>Haciendo cuentas</th>\n",
       "      <td>1909</td>\n",
       "    </tr>\n",
       "    <tr>\n",
       "      <th>9</th>\n",
       "      <th>Calefones</th>\n",
       "      <td>97</td>\n",
       "    </tr>\n",
       "    <tr>\n",
       "      <th>11</th>\n",
       "      <th>¿Y qué tal si...?</th>\n",
       "      <td>956</td>\n",
       "    </tr>\n",
       "    <tr>\n",
       "      <th>12</th>\n",
       "      <th>¿De qué signo sos?</th>\n",
       "      <td>1553</td>\n",
       "    </tr>\n",
       "    <tr>\n",
       "      <th>13</th>\n",
       "      <th>Palabras, sólo palabras</th>\n",
       "      <td>2610</td>\n",
       "    </tr>\n",
       "    <tr>\n",
       "      <th>14</th>\n",
       "      <th>Operando strings</th>\n",
       "      <td>2168</td>\n",
       "    </tr>\n",
       "    <tr>\n",
       "      <th>15</th>\n",
       "      <th>¡GRITAR!</th>\n",
       "      <td>1571</td>\n",
       "    </tr>\n",
       "    <tr>\n",
       "      <th>16</th>\n",
       "      <th>Probando funciones</th>\n",
       "      <td>881</td>\n",
       "    </tr>\n",
       "    <tr>\n",
       "      <th>17</th>\n",
       "      <th>Poniendo topes</th>\n",
       "      <td>1326</td>\n",
       "    </tr>\n",
       "    <tr>\n",
       "      <th>18</th>\n",
       "      <th>No tan distintos</th>\n",
       "      <td>505</td>\n",
       "    </tr>\n",
       "    <tr>\n",
       "      <th>19</th>\n",
       "      <th>Datos de todo tipo</th>\n",
       "      <td>1331</td>\n",
       "    </tr>\n",
       "    <tr>\n",
       "      <th rowspan=\"13\" valign=\"top\">mumukiproject/mumuki-guia-python-practica-funciones-y-tipos-de-datos</th>\n",
       "      <th>1</th>\n",
       "      <th>Comprando Hardware</th>\n",
       "      <td>827</td>\n",
       "    </tr>\n",
       "    <tr>\n",
       "      <th>2</th>\n",
       "      <th>¿Me conviene?</th>\n",
       "      <td>2066</td>\n",
       "    </tr>\n",
       "    <tr>\n",
       "      <th>3</th>\n",
       "      <th>Triangulos</th>\n",
       "      <td>690</td>\n",
       "    </tr>\n",
       "    <tr>\n",
       "      <th>4</th>\n",
       "      <th>Cuadrados</th>\n",
       "      <td>626</td>\n",
       "    </tr>\n",
       "    <tr>\n",
       "      <th>5</th>\n",
       "      <th>¿Está afinado?</th>\n",
       "      <td>626</td>\n",
       "    </tr>\n",
       "    <tr>\n",
       "      <th>6</th>\n",
       "      <th>Cartelitos</th>\n",
       "      <td>1574</td>\n",
       "    </tr>\n",
       "    <tr>\n",
       "      <th>7</th>\n",
       "      <th>Más Cartelitos</th>\n",
       "      <td>2125</td>\n",
       "    </tr>\n",
       "    <tr>\n",
       "      <th>8</th>\n",
       "      <th>Cartelitos óptimos</th>\n",
       "      <td>1597</td>\n",
       "    </tr>\n",
       "    <tr>\n",
       "      <th>9</th>\n",
       "      <th>Cara o ceca</th>\n",
       "      <td>860</td>\n",
       "    </tr>\n",
       "    <tr>\n",
       "      <th>10</th>\n",
       "      <th>¡Envido!</th>\n",
       "      <td>835</td>\n",
       "    </tr>\n",
       "    <tr>\n",
       "      <th>11</th>\n",
       "      <th>¡Quiero retruco!</th>\n",
       "      <td>1071</td>\n",
       "    </tr>\n",
       "    <tr>\n",
       "      <th>12</th>\n",
       "      <th>¡Quiero vale cuatro!</th>\n",
       "      <td>571</td>\n",
       "    </tr>\n",
       "    <tr>\n",
       "      <th>13</th>\n",
       "      <th>¿Está cerca?</th>\n",
       "      <td>1197</td>\n",
       "    </tr>\n",
       "    <tr>\n",
       "      <th rowspan=\"13\" valign=\"top\">mumukiproject/mumuki-guia-python-variables-y-procedimientos</th>\n",
       "      <th>1</th>\n",
       "      <th>¿Y el program?</th>\n",
       "      <td>234</td>\n",
       "    </tr>\n",
       "    <tr>\n",
       "      <th>2</th>\n",
       "      <th>El círculo de la vida</th>\n",
       "      <td>709</td>\n",
       "    </tr>\n",
       "    <tr>\n",
       "      <th>3</th>\n",
       "      <th>Volviéndonos ricos</th>\n",
       "      <td>1187</td>\n",
       "    </tr>\n",
       "    <tr>\n",
       "      <th>4</th>\n",
       "      <th>Variables globales</th>\n",
       "      <td>1262</td>\n",
       "    </tr>\n",
       "    <tr>\n",
       "      <th>5</th>\n",
       "      <th>¿Y los procedimientos?</th>\n",
       "      <td>236</td>\n",
       "    </tr>\n",
       "    <tr>\n",
       "      <th>6</th>\n",
       "      <th>¿Y el tablero?</th>\n",
       "      <td>504</td>\n",
       "    </tr>\n",
       "    <tr>\n",
       "      <th>9</th>\n",
       "      <th>Impresión por pantalla</th>\n",
       "      <td>509</td>\n",
       "    </tr>\n",
       "    <tr>\n",
       "      <th>10</th>\n",
       "      <th>Martin Fierro</th>\n",
       "      <td>1148</td>\n",
       "    </tr>\n",
       "    <tr>\n",
       "      <th>11</th>\n",
       "      <th>Conversiones</th>\n",
       "      <td>1513</td>\n",
       "    </tr>\n",
       "    <tr>\n",
       "      <th>12</th>\n",
       "      <th>¿Y esto cuánto vale?</th>\n",
       "      <td>512</td>\n",
       "    </tr>\n",
       "    <tr>\n",
       "      <th rowspan=\"2\" valign=\"top\">13</th>\n",
       "      <th>PIenso que así es más fácil</th>\n",
       "      <td>61</td>\n",
       "    </tr>\n",
       "    <tr>\n",
       "      <th>Pienso que así es más fácil</th>\n",
       "      <td>304</td>\n",
       "    </tr>\n",
       "    <tr>\n",
       "      <th>14</th>\n",
       "      <th>Esto no tiene valor</th>\n",
       "      <td>378</td>\n",
       "    </tr>\n",
       "  </tbody>\n",
       "</table>\n",
       "</div>"
      ],
      "text/plain": [
       "                                                                                             cant_envios\n",
       "guide_slug                                         exercise_eid exercise_name                           \n",
       "mumukiproject/mumuki-guia-python-funciones-tipo... 1            Funciones, declaración              1069\n",
       "                                                   2            Funciones, uso                      1221\n",
       "                                                   3            Los premios                         1347\n",
       "                                                   4            Libros de la buena memoria           892\n",
       "                                                                ¿Es par?                             381\n",
       "                                                   5            Tipos de datos                      1327\n",
       "                                                   6            Booleanos                           1275\n",
       "                                                   7            El retorno del booleano             1307\n",
       "                                                                Más booleanos                        235\n",
       "                                                   8            Haciendo cuentas                    1909\n",
       "                                                   9            Calefones                             97\n",
       "                                                   11           ¿Y qué tal si...?                    956\n",
       "                                                   12           ¿De qué signo sos?                  1553\n",
       "                                                   13           Palabras, sólo palabras             2610\n",
       "                                                   14           Operando strings                    2168\n",
       "                                                   15           ¡GRITAR!                            1571\n",
       "                                                   16           Probando funciones                   881\n",
       "                                                   17           Poniendo topes                      1326\n",
       "                                                   18           No tan distintos                     505\n",
       "                                                   19           Datos de todo tipo                  1331\n",
       "mumukiproject/mumuki-guia-python-practica-funci... 1            Comprando Hardware                   827\n",
       "                                                   2            ¿Me conviene?                       2066\n",
       "                                                   3            Triangulos                           690\n",
       "                                                   4            Cuadrados                            626\n",
       "                                                   5            ¿Está afinado?                       626\n",
       "                                                   6            Cartelitos                          1574\n",
       "                                                   7            Más Cartelitos                      2125\n",
       "                                                   8            Cartelitos óptimos                  1597\n",
       "                                                   9            Cara o ceca                          860\n",
       "                                                   10           ¡Envido!                             835\n",
       "                                                   11           ¡Quiero retruco!                    1071\n",
       "                                                   12           ¡Quiero vale cuatro!                 571\n",
       "                                                   13           ¿Está cerca?                        1197\n",
       "mumukiproject/mumuki-guia-python-variables-y-pr... 1            ¿Y el program?                       234\n",
       "                                                   2            El círculo de la vida                709\n",
       "                                                   3            Volviéndonos ricos                  1187\n",
       "                                                   4            Variables globales                  1262\n",
       "                                                   5            ¿Y los procedimientos?               236\n",
       "                                                   6            ¿Y el tablero?                       504\n",
       "                                                   9            Impresión por pantalla               509\n",
       "                                                   10           Martin Fierro                       1148\n",
       "                                                   11           Conversiones                        1513\n",
       "                                                   12           ¿Y esto cuánto vale?                 512\n",
       "                                                   13           PIenso que así es más fácil           61\n",
       "                                                                Pienso que así es más fácil          304\n",
       "                                                   14           Esto no tiene valor                  378"
      ]
     },
     "execution_count": 11,
     "metadata": {},
     "output_type": "execute_result"
    }
   ],
   "source": [
    "df_mumuki.groupby(['guide_slug','exercise_eid','exercise_name']).agg({'student_uid':'count'}).rename(columns={'student_uid':'cant_envios'})"
   ]
  },
  {
   "cell_type": "markdown",
   "metadata": {},
   "source": [
    "Podemos ver que `exercise_eid` no esta ordenada, ni sigue ninguna secuencia ya que se saltean números, por ejemplo en la lección `python-funciones-tipos-de-datos` se saltea el número 10 y en la lección `variables-y-procedimientos` se saltea el 7 y el 8.\n",
    "\n",
    "Si lo comparamos con el orden de los ejercicios en la web de Mumuki - https://mumuki.io/mentoria-diplodatos/ - `exercise_eid` no se corresponde con el orden dentro de la planilla de ejercicios.\n",
    "\n",
    "Debido a ésto, no nos será de mucha ayuda como variable para entender mejor el dataset.\n",
    "\n",
    "También nos dimos cuenta que habían diferentes ejercicios con id iguales. Por ejemplo la lección `mumuki-guia-python-funciones-tipos-de-datos` tenemos dos `exercise_name` con el mismo `exercise_eid`. \n",
    "Y que el `exercise_name` = `Pienso que así es más fácil` esta escrito de dos forma distinta. \n",
    "\n",
    "Ésto esta análizado con más detalle en la notebook https://github.com/laraccano84/Mentoria_mumuki/blob/main/DiploDatos_Mentoria_Mumiki_G2/00_Cambio_de_nombres_de_ejercicios.ipynb .\n"
   ]
  },
  {
   "cell_type": "code",
   "execution_count": 12,
   "metadata": {},
   "outputs": [
    {
     "data": {
      "image/png": "[encoded data removed]",
      "text/plain": [
       "<Figure size 1080x720 with 1 Axes>"
      ]
     },
     "metadata": {},
     "output_type": "display_data"
    }
   ],
   "source": [
    "matplotlib.pyplot.figure(figsize = [15, 10] , dpi = None , facecolor = \"wheat\" , edgecolor = None , frameon = True  , clear = False )\n",
    "ax= seaborn.barplot(y=df_mumuki['exercise_name'].value_counts(), x=df_mumuki['exercise_name'].value_counts().index, data=df_mumuki)\n",
    "ax.set_xticklabels(ax.get_xticklabels(), rotation=90);\n",
    "\n",
    "ax.set_ylabel('cant. envios')\n",
    "ax.set_ylabel('exercise_name')\n",
    "ax.set_title('Cantidad de envios por ejercicio', fontsize=20)\n",
    "plt.show()"
   ]
  },
  {
   "cell_type": "markdown",
   "metadata": {},
   "source": [
    "Este gráfico fue ordenado de acuerdo a la cantidad de ejercicio, para conocer cual es el ejercicio con más y menos envios. "
   ]
  },
  {
   "cell_type": "markdown",
   "metadata": {},
   "source": [
    "## 2.2 `submission_status`: Cantidad de ejercicios por status"
   ]
  },
  {
   "cell_type": "markdown",
   "metadata": {},
   "source": [
    "¿Qué tipo de datos nos encontramos en esta columna?"
   ]
  },
  {
   "cell_type": "code",
   "execution_count": 13,
   "metadata": {},
   "outputs": [
    {
     "data": {
      "text/plain": [
       "count      47183\n",
       "unique         6\n",
       "top       failed\n",
       "freq       17609\n",
       "Name: submission_status, dtype: object"
      ]
     },
     "execution_count": 13,
     "metadata": {},
     "output_type": "execute_result"
    }
   ],
   "source": [
    "df_mumuki[\"submission_status\"].describe()"
   ]
  },
  {
   "cell_type": "markdown",
   "metadata": {},
   "source": [
    "Ésta es una variable categórica no ordinal. Que tiene 6 valores únicos de status, no existen valores nulos y el de mayor frecuencia es el estado failed."
   ]
  },
  {
   "cell_type": "code",
   "execution_count": 14,
   "metadata": {},
   "outputs": [
    {
     "data": {
      "image/png": "[encoded data removed]",
      "text/plain": [
       "<Figure size 1080x360 with 1 Axes>"
      ]
     },
     "metadata": {
      "needs_background": "light"
     },
     "output_type": "display_data"
    }
   ],
   "source": [
    "ejercicios_status=df_mumuki['submission_status'].value_counts().index.tolist()[:10]\n",
    "fig = plt.figure(figsize=(15,5))\n",
    "g=seaborn.histplot(y=df_mumuki[df_mumuki['submission_status'].isin(ejercicios_status)]['submission_status'], color='gray')\n",
    "plt.xticks(rotation=45)\n",
    "\n",
    "g.set_xlabel('cant. envios')\n",
    "g.set_ylabel('status')\n",
    "g.set_title('Cantidad de envios por status', fontsize=20)\n",
    "plt.show()"
   ]
  },
  {
   "cell_type": "markdown",
   "metadata": {},
   "source": [
    "Nos encontramos con diferentes estados de 'no pasar el test', según la circunstancia. Pero, al seguir discutiendo sobre ésta columna, decidimos que lo que nos importa verdaderamente, es si pasó el ejercicio o no. De aquí se decide luego reagrupar en menos categorías el estado del ejercicio."
   ]
  },
  {
   "cell_type": "code",
   "execution_count": 15,
   "metadata": {},
   "outputs": [],
   "source": [
    "df_mumuki[\"Estatus\"] = df_mumuki[\"submission_status\"].replace({\"failed\": \"no_paso\", \"passed\": \"paso\", \"errored\": \"no_paso\", \"passed_with_warnings\": \"no_paso\",  \"aborted\": \"no_paso\", \"pending\": \"no_paso\"})"
   ]
  },
  {
   "cell_type": "markdown",
   "metadata": {},
   "source": [
    "Visualizamos como nos quedan los status de acuerdo a los cambios."
   ]
  },
  {
   "cell_type": "code",
   "execution_count": 16,
   "metadata": {},
   "outputs": [
    {
     "data": {
      "text/plain": [
       "no_paso    33664\n",
       "paso       13519\n",
       "Name: Estatus, dtype: int64"
      ]
     },
     "execution_count": 16,
     "metadata": {},
     "output_type": "execute_result"
    }
   ],
   "source": [
    "df_mumuki[\"Estatus\"].value_counts()"
   ]
  },
  {
   "cell_type": "markdown",
   "metadata": {},
   "source": [
    "Decidimos dejar el campo original para luego realizar análisis de los tipos de casos con Estatus no_paso."
   ]
  },
  {
   "cell_type": "markdown",
   "metadata": {},
   "source": [
    "## 2.3 `sid`"
   ]
  },
  {
   "cell_type": "markdown",
   "metadata": {},
   "source": [
    "Ésta es una variable numérica, un identificador único del envío. Si el valor es igual a -1 el envío fue una prueba a través del REPL de Mumuki."
   ]
  },
  {
   "cell_type": "code",
   "execution_count": 17,
   "metadata": {},
   "outputs": [
    {
     "data": {
      "text/plain": [
       "-1        5508\n",
       " 38200       1\n",
       " 9550        1\n",
       " 15693       1\n",
       " 13644       1\n",
       "          ... \n",
       " 25241       1\n",
       " 27288       1\n",
       " 4759        1\n",
       " 6806        1\n",
       " 0           1\n",
       "Name: sid, Length: 41676, dtype: int64"
      ]
     },
     "execution_count": 17,
     "metadata": {},
     "output_type": "execute_result"
    }
   ],
   "source": [
    "df_mumuki['sid'].value_counts()"
   ]
  },
  {
   "cell_type": "code",
   "execution_count": 18,
   "metadata": {},
   "outputs": [
    {
     "data": {
      "text/plain": [
       "47183"
      ]
     },
     "execution_count": 18,
     "metadata": {},
     "output_type": "execute_result"
    }
   ],
   "source": [
    "len(df_mumuki)"
   ]
  },
  {
   "cell_type": "code",
   "execution_count": 19,
   "metadata": {},
   "outputs": [
    {
     "name": "stdout",
     "output_type": "stream",
     "text": [
      "Hay 5508 envíos que fueron mediante REPL, el 11.67% del total. El 41675 son identificadores unicos de los envíos.\n"
     ]
    }
   ],
   "source": [
    "print(f\"Hay {len(df_mumuki[df_mumuki['sid']==-1])} envíos que fueron mediante REPL, el {round(len(df_mumuki[df_mumuki['sid']==-1])/len(df_mumuki)*100,2)}% del total. El {len(df_mumuki)-len(df_mumuki[df_mumuki['sid']==-1])} son identificadores unicos de los envíos.\") "
   ]
  },
  {
   "cell_type": "markdown",
   "metadata": {},
   "source": [
    "## 2.4 `expectation_results`"
   ]
  },
  {
   "cell_type": "markdown",
   "metadata": {},
   "source": [
    "Esta variable resultada del análisis de expectativas y code smells realizado mediante la herramienta mulang"
   ]
  },
  {
   "cell_type": "code",
   "execution_count": 20,
   "metadata": {},
   "outputs": [
    {
     "data": {
      "text/plain": [
       "expectation_results\n",
       "[]                                                                                                                                                                                        30332\n",
       "[{'binding': '*', 'inspection': 'Declares:=cuanto_cuesta', 'result': 'failed'}, {'binding': 'cuanto_cuenta', 'inspection': 'HasDeclarationTypos:cuanto_cuesta', 'result': 'failed'}]          1\n",
       "[{'binding': '*', 'inspection': 'Declares:=cuanto_cuesta', 'result': 'failed'}, {'binding': 'cuanto_cuestas', 'inspection': 'HasDeclarationTypos:cuanto_cuesta', 'result': 'failed'}]         3\n",
       "[{'binding': '*', 'inspection': 'Declares:=cuanto_cuesta', 'result': 'failed'}, {'binding': 'cuento_cuesta', 'inspection': 'HasDeclarationTypos:cuanto_cuesta', 'result': 'failed'}]          3\n",
       "[{'binding': '*', 'inspection': 'Declares:=cuanto_cuesta', 'result': 'failed'}]                                                                                                              23\n",
       "                                                                                                                                                                                          ...  \n",
       "[{'binding': 'valor_envido', 'inspection': 'DoesTypeTest', 'result': 'failed'}]                                                                                                               6\n",
       "[{'binding': 'valor_envido1', 'inspection': 'HasWrongCaseIdentifiers', 'result': 'failed'}, {'binding': 'valor_envido2', 'inspection': 'HasWrongCaseIdentifiers', 'result': 'failed'}]        1\n",
       "[{'binding': 'versos_martin_Fierro', 'inspection': 'HasWrongCaseIdentifiers', 'result': 'failed'}]                                                                                            4\n",
       "[{'binding': 'versos_martin_fierro', 'inspection': 'DoesTypeTest', 'result': 'failed'}]                                                                                                       4\n",
       "[{'binding': 'versos_martin_fierro', 'inspection': 'HasUnreachableCode', 'result': 'failed'}]                                                                                                 2\n",
       "Length: 337, dtype: int64"
      ]
     },
     "execution_count": 20,
     "metadata": {},
     "output_type": "execute_result"
    }
   ],
   "source": [
    "df_mumuki.groupby('expectation_results').size()"
   ]
  },
  {
   "cell_type": "markdown",
   "metadata": {},
   "source": [
    "Podemos ver que la mayoria de las veces espera un valor vacio, pero necesitaríamos más tiempo para analizar y entender mejor esta variable"
   ]
  },
  {
   "cell_type": "markdown",
   "metadata": {},
   "source": [
    "## 2.5 `feedback`"
   ]
  },
  {
   "cell_type": "markdown",
   "metadata": {},
   "source": [
    "¿Feedback de qué trata esta columna?"
   ]
  },
  {
   "cell_type": "code",
   "execution_count": 21,
   "metadata": {},
   "outputs": [
    {
     "data": {
      "text/plain": [
       "NaN    47183\n",
       "Name: feedback, dtype: int64"
      ]
     },
     "execution_count": 21,
     "metadata": {},
     "output_type": "execute_result"
    }
   ],
   "source": [
    "df_mumuki['feedback'].value_counts(dropna=False)"
   ]
  },
  {
   "cell_type": "markdown",
   "metadata": {},
   "source": [
    "La columna siempre tiene un valor vacío. Al no tener información, es buena candidata para eliminarla del dataset"
   ]
  },
  {
   "cell_type": "code",
   "execution_count": 22,
   "metadata": {},
   "outputs": [],
   "source": [
    "df_mumuki=df_mumuki.drop(['feedback'], axis=1)"
   ]
  },
  {
   "cell_type": "markdown",
   "metadata": {},
   "source": [
    "## 2.6 `guide_slug`"
   ]
  },
  {
   "cell_type": "markdown",
   "metadata": {},
   "source": [
    "Esta variable es un identificador único de la guía, y nos ayudó a buscar los repositorios"
   ]
  },
  {
   "cell_type": "code",
   "execution_count": 23,
   "metadata": {},
   "outputs": [
    {
     "data": {
      "text/plain": [
       "mumukiproject/mumuki-guia-python-funciones-tipos-de-datos               23961\n",
       "mumukiproject/mumuki-guia-python-practica-funciones-y-tipos-de-datos    14665\n",
       "mumukiproject/mumuki-guia-python-variables-y-procedimientos              8557\n",
       "Name: guide_slug, dtype: int64"
      ]
     },
     "execution_count": 23,
     "metadata": {},
     "output_type": "execute_result"
    }
   ],
   "source": [
    "df_mumuki['guide_slug'].value_counts(dropna=False)"
   ]
  },
  {
   "cell_type": "markdown",
   "metadata": {},
   "source": [
    "Es una variable categórica y no hay valores nulos\n",
    "\n",
    "De todos los envíos, la mayoría son submissions son a la primera guía, `mumukiproject/mumuki-guia-python-funciones-tipos-de-datos`. "
   ]
  },
  {
   "cell_type": "markdown",
   "metadata": {},
   "source": [
    "## 2.7 `result`"
   ]
  },
  {
   "cell_type": "markdown",
   "metadata": {},
   "source": [
    "Representa el resultado obtenido al intentar cargar la solución en un intérprete de Python."
   ]
  },
  {
   "cell_type": "code",
   "execution_count": 24,
   "metadata": {},
   "outputs": [
    {
     "data": {
      "text/plain": [
       "result\n",
       "\\n                                                                                                                                                                                                                                                                                                                                                                                                                                                                                                                                                                                                                                                                                                                                                                                                                                                                                                                                                                                                                                                                                                                                                                                                                                                                                          2\n",
       "\\nRunning tests...\\n                                                                                                                                                                                                                                                                                                                                                                                                                                                                                                                                                                                                                                                                                                                                                                                                                                                                                                                                                                                                                                                                                                                                                                                                                                                                        1\n",
       "\\nRunning tests...\\n----------------------------------------------------------------------\\n..\\n----------------------------------------------------------------------\\nRan 2 tests in 0.002s\\n\\nOK\\n\\nGenerating XML reports...\\nAquí me pongo a cantar\\nAl compás de la vigüela\\nQue el hombre que lo desvela\\nUna pena extraordinaria\\n<?xml version=\"1.0\" encoding=\"UTF-8\"?>\\n<testsuite errors=\"0\" failures=\"0\" file=\".py\" name=\"MumukiTest-20200919042804\" skipped=\"0\" tests=\"2\" time=\"0.002\" timestamp=\"2020-09-19T04:28:04\">\\n\\t<testcase classname=\"MumukiTest\" file=\"tmp/mumuki.compile20200919-23-127v9hs.py\" line=\"33\" name=\"test_deberia_imprimir_los_versos\" time=\"0.001\" timestamp=\"2020-09-19T04:28:04\">\\n\\t\\t<system-out>\\n<![CDATA[]]>\\t\\t</system-out>\\n\\t\\t<system-err>\\n<![CDATA[]]>\\t\\t</system-err>\\n\\t</testcase>\\n\\t<testcase classname=\"MumukiTest\" file=\"tmp/mumuki.compile20200919-23-127v9hs.py\" line=\"37\" name=\"test_deberia_retornar_cero\" time=\"0.001\" timestamp=\"2020-09-19T04:28:04\">\\n\\t\\t<system-out>\\n<![CDATA['Aqu\\xc3\\xad me pongo a cantar\\nAl comp\\xc3\\xa1s de la vig\\xc3\\xbcela\\nQue el hombre que lo desvela\\nUna pena extraordinaria\\n']]>\\t\\t</system-out>\\n\\t\\t<system-err>\\n<![CDATA[]]>\\t\\t</system-err>\\n\\t</testcase>\\n</testsuite>\\n     1\n",
       "\\nRunning tests...\\n----------------------------------------------------------------------\\n..\\n----------------------------------------------------------------------\\nRan 2 tests in 0.005s\\n\\nAquí me pongo a cantar\\nAl compás de la vigüela\\nQue el hombre que lo desvela\\nOK\\n\\nGenerating XML reports...\\nUna pena extraordinaria\\n<?xml version=\"1.0\" encoding=\"UTF-8\"?>\\n<testsuite errors=\"0\" failures=\"0\" file=\".py\" name=\"MumukiTest-20190925144832\" skipped=\"0\" tests=\"2\" time=\"0.004\" timestamp=\"2019-09-25T14:48:32\">\\n\\t<testcase classname=\"MumukiTest\" file=\"tmp/mumuki.compile20190925-24-18b4ykm.py\" line=\"32\" name=\"test_deberia_imprimir_los_versos\" time=\"0.003\" timestamp=\"2019-09-25T14:48:32\">\\n\\t\\t<system-out>\\n<![CDATA[]]>\\t\\t</system-out>\\n\\t\\t<system-err>\\n<![CDATA[]]>\\t\\t</system-err>\\n\\t</testcase>\\n\\t<testcase classname=\"MumukiTest\" file=\"tmp/mumuki.compile20190925-24-18b4ykm.py\" line=\"36\" name=\"test_deberia_retornar_cero\" time=\"0.001\" timestamp=\"2019-09-25T14:48:32\">\\n\\t\\t<system-out>\\n<![CDATA['Aqu\\xc3\\xad me pongo a cantar\\nAl comp\\xc3\\xa1s de la vig\\xc3\\xbcela\\nQue el hombre que lo desvela\\nUna pena extraordinaria\\n']]>\\t\\t</system-out>\\n\\t\\t<system-err>\\n<![CDATA[]]>\\t\\t</system-err>\\n\\t</testcase>\\n</testsuite>\\n     1\n",
       "\\nRunning tests...\\n----------------------------------------------------------------------\\n..\\n----------------------------------------------------------------------\\nRan 2 tests in 0.008s\\n\\nOK\\n\\nGenerating XML reports...\\nAquí me pongo a cantar\\nAl compás de la vigüela\\nQue el hombre que lo desvela\\nUna pena extraordinaria\\n<?xml version=\"1.0\" encoding=\"UTF-8\"?>\\n<testsuite errors=\"0\" failures=\"0\" file=\".py\" name=\"MumukiTest-20191120162917\" skipped=\"0\" tests=\"2\" time=\"0.008\" timestamp=\"2019-11-20T16:29:17\">\\n\\t<testcase classname=\"MumukiTest\" file=\"tmp/mumuki.compile20191120-24-uw8v39.py\" line=\"31\" name=\"test_deberia_imprimir_los_versos\" time=\"0.006\" timestamp=\"2019-11-20T16:29:17\">\\n\\t\\t<system-out>\\n<![CDATA[]]>\\t\\t</system-out>\\n\\t\\t<system-err>\\n<![CDATA[]]>\\t\\t</system-err>\\n\\t</testcase>\\n\\t<testcase classname=\"MumukiTest\" file=\"tmp/mumuki.compile20191120-24-uw8v39.py\" line=\"35\" name=\"test_no_deberia_retornar_nada\" time=\"0.001\" timestamp=\"2019-11-20T16:29:17\">\\n\\t\\t<system-out>\\n<![CDATA['Aqu\\xc3\\xad me pongo a cantar\\nAl comp\\xc3\\xa1s de la vig\\xc3\\xbcela\\nQue el hombre que lo desvela\\nUna pena extraordinaria\\n']]>\\t\\t</system-out>\\n\\t\\t<system-err>\\n<![CDATA[]]>\\t\\t</system-err>\\n\\t</testcase>\\n</testsuite>\\n    1\n",
       "                                                                                                                                                                                                                                                                                                                                                                                                                                                                                                                                                                                                                                                                                                                                                                                                                                                                                                                                                                                                                                                                                                                                                                                                                                                                                           ..\n",
       "elefantes_equilibristas\\nTraceback (most recent call last):\\n  File \"solucion.py\", line 26, in <module>\\n    print((numero) + \"elefantes se balanceaban\")\\nNameError: name 'numero' is not defined\\n                                                                                                                                                                                                                                                                                                                                                                                                                                                                                                                                                                                                                                                                                                                                                                                                                                                                                                                                                                                                                                                                                        1\n",
       "elefantes_equilibristas\\nTraceback (most recent call last):\\n  File \"solucion.py\", line 26, in <module>\\n    print(str(cantidad_elefantes()) + \"elefantes se balanceaban\")\\nNameError: name 'cantidad_elefantes' is not defined\\n                                                                                                                                                                                                                                                                                                                                                                                                                                                                                                                                                                                                                                                                                                                                                                                                                                                                                                                                                                                                                                                           1\n",
       "elefantes_equilibristas\\nTraceback (most recent call last):\\n  File \"solucion.py\", line 26, in <module>\\n    print(str(cantidad_elefantes) + \"elefantes se balanceaban\")\\nNameError: name 'cantidad_elefantes' is not defined\\n                                                                                                                                                                                                                                                                                                                                                                                                                                                                                                                                                                                                                                                                                                                                                                                                                                                                                                                                                                                                                                                             1\n",
       "elefantes_equilibristas(numero)\\nTraceback (most recent call last):\\n  File \"solucion.py\", line 26, in <module>\\n    print ((str(numero) + \" \" + \"elefantes se balanceaban\"))\\nNameError: name 'numero' is not defined\\n                                                                                                                                                                                                                                                                                                                                                                                                                                                                                                                                                                                                                                                                                                                                                                                                                                                                                                                                                                                                                                                                    1\n",
       "solucion.py:28: SyntaxWarning: name 'pesos_en_mi_billetera' is assigned to before global declaration\\n  global pesos_en_mi_billetera\\nTraceback (most recent call last):\\n  File \"solucion.py\", line 30, in <module>\\n    aumentar_fortuna = pesos_en_mi_billtera * 2\\nNameError: name 'pesos_en_mi_billtera' is not defined\\n                                                                                                                                                                                                                                                                                                                                                                                                                                                                                                                                                                                                                                                                                                                                                                                                                                                                                                                                                              1\n",
       "Length: 9181, dtype: int64"
      ]
     },
     "execution_count": 24,
     "metadata": {},
     "output_type": "execute_result"
    }
   ],
   "source": [
    "df_mumuki.groupby('result').size()"
   ]
  },
  {
   "cell_type": "markdown",
   "metadata": {},
   "source": [
    "Podemos detectar que es una variable con información de los envíos, la cual puede tener valores nulos. Al principio parece que son todos distintos, pero tiene información la cual parece que es la misma respuesta.\n",
    "Se va a análizar en detalle más adelante."
   ]
  },
  {
   "cell_type": "markdown",
   "metadata": {},
   "source": [
    "## 2.8 `submission_content`"
   ]
  },
  {
   "cell_type": "markdown",
   "metadata": {},
   "source": [
    "Es el código fuente de la solución enviada."
   ]
  },
  {
   "cell_type": "code",
   "execution_count": 25,
   "metadata": {},
   "outputs": [
    {
     "data": {
      "text/plain": [
       "0:3:4                                                                                                                                                                                         252\n",
       "3                                                                                                                                                                                             204\n",
       "0:1:3:4:6:7                                                                                                                                                                                   179\n",
       "0:1:3:6:7                                                                                                                                                                                     151\n",
       "0                                                                                                                                                                                             129\n",
       "                                                                                                                                                                                             ... \n",
       "def extraer(saldo, monto):\\r\\n  return max(saldo-monto>=,0)\\r\\n\\r\\n                                                                                                                             1\n",
       "\\r\\ndef aumentar_fortuna():\\r\\n  global pesos_en_mi_billetera\\r\\n  return pesos_en_mi_billetera == pesos_en_mi_billetera * 2                                                                    1\n",
       "def elefantes_equilibristas ():\\r\\n  return (\"elefantes se balanceaban\" + \" \" + str(elefantes_equilibristas()))\\r\\n                                                                             1\n",
       "def versos_martin_fierro():\\r\\n  print(\"Aquí me pongo a cantar\")\\r\\n   print(\"Al compás de la vigüela\")\\r\\n   print(\"Que el hombre que lo desvela\")\\r\\n   print(\"Una pena extraordinaria\")      1\n",
       "def elefantes_equilibristas(numero):\\r\\n  return \"elefantes se balanceaban\" + str(numero)                                                                                                       1\n",
       "Name: submission_content, Length: 32937, dtype: int64"
      ]
     },
     "execution_count": 25,
     "metadata": {},
     "output_type": "execute_result"
    }
   ],
   "source": [
    "df_mumuki['submission_content'].value_counts()"
   ]
  },
  {
   "cell_type": "markdown",
   "metadata": {},
   "source": [
    "Nos llamó la atención la aparición de valores como `0:3:4` o `0:1:3:4:6:7`, que no son strings ni representan una solución a un ejercicio de programación.\n",
    "\n",
    "Éstos valores significan que el ejercicio era teórico y de múltiple opción, y separados por dos puntos, son las opciones enviadas.\n",
    "\n",
    "Variable que tiene puede tener nulos, que podemos detectar si fue un ejercicio o de múltiple opciones."
   ]
  },
  {
   "cell_type": "markdown",
   "metadata": {},
   "source": [
    "## 2.9 `submission_created_at`"
   ]
  },
  {
   "cell_type": "markdown",
   "metadata": {},
   "source": [
    "Es la fecha y hora GMT a la que la solución fue enviada\n",
    "\n",
    "¿Durante qué período se enviaron las soluciones? "
   ]
  },
  {
   "cell_type": "code",
   "execution_count": 26,
   "metadata": {},
   "outputs": [
    {
     "name": "stdout",
     "output_type": "stream",
     "text": [
      "El período que se enviaron las soluciones es desde: 2019-08-30 13:17:17.700  hasta: 2020-11-23 21:52:17.944\n"
     ]
    }
   ],
   "source": [
    "print(f\"El período que se enviaron las soluciones es desde: {df_mumuki['submission_created_at'].min()}  hasta: {df_mumuki['submission_created_at'].max()}\")"
   ]
  },
  {
   "cell_type": "code",
   "execution_count": 27,
   "metadata": {},
   "outputs": [
    {
     "data": {
      "text/plain": [
       "submission_created_at\n",
       "2019-08-30 13:17:17.700    1\n",
       "2019-08-30 13:40:26.023    1\n",
       "2019-09-04 01:29:22.351    1\n",
       "2019-09-04 01:32:42.763    1\n",
       "2019-09-04 01:34:52.318    1\n",
       "                          ..\n",
       "2020-11-23 21:46:39.531    1\n",
       "2020-11-23 21:46:55.629    1\n",
       "2020-11-23 21:50:56.250    1\n",
       "2020-11-23 21:51:58.312    1\n",
       "2020-11-23 21:52:17.944    1\n",
       "Length: 47175, dtype: int64"
      ]
     },
     "execution_count": 27,
     "metadata": {},
     "output_type": "execute_result"
    }
   ],
   "source": [
    "df_mumuki.groupby('submission_created_at').size()"
   ]
  },
  {
   "cell_type": "markdown",
   "metadata": {},
   "source": [
    "Este es un valor int64. \n",
    "\n",
    "Es una variable de fecha y hora, que se puede analizar separandolo para una mayor comodidad. Por lo tanto en esta sección vamos a tranformar el campo y mantener el original por si necesitamos trabajar con la variable tal cual esta."
   ]
  },
  {
   "cell_type": "code",
   "execution_count": 28,
   "metadata": {},
   "outputs": [
    {
     "data": {
      "text/plain": [
       "198"
      ]
     },
     "execution_count": 28,
     "metadata": {},
     "output_type": "execute_result"
    }
   ],
   "source": [
    "df_mumuki['Date']= pd.to_datetime(df_mumuki['submission_created_at']).dt.date\n",
    "len(df_mumuki['Date'].value_counts())"
   ]
  },
  {
   "cell_type": "code",
   "execution_count": 29,
   "metadata": {},
   "outputs": [
    {
     "data": {
      "image/png": "[encoded data removed]",
      "text/plain": [
       "<Figure size 1440x360 with 1 Axes>"
      ]
     },
     "metadata": {},
     "output_type": "display_data"
    }
   ],
   "source": [
    "matplotlib.pyplot.figure(figsize = [20, 5] , dpi = None , facecolor = \"wheat\" , edgecolor = None , frameon = True  , clear = False )\n",
    "ti = seaborn.histplot(data=df_mumuki, x=df_mumuki['Date'])\n",
    "\n",
    "ti.set_xlabel('Fecha')\n",
    "ti.set_ylabel('Cant Envios')\n",
    "ti.set_title('Cantidad de envios en el tiempo', fontsize=20)\n",
    "plt.show()"
   ]
  },
  {
   "cell_type": "markdown",
   "metadata": {},
   "source": [
    "Los envíos se realizaron en 198 días diferentes."
   ]
  },
  {
   "cell_type": "markdown",
   "metadata": {},
   "source": [
    "Podemos observar que los ejercicios fueron enviados por los estudiantes en en 3 periodos principales:\n",
    "\n",
    "2019-10 al 2019-12\n",
    "\n",
    "2020-05 al 2020-07\n",
    "\n",
    "2020-09 al 2020-11\n",
    "\n",
    "Hay un periodo, de principio de enero 2020 a abril 2020, sin información.\n",
    "\n",
    "Nos preguntamos, cuáles son las fechas con más envíos?"
   ]
  },
  {
   "cell_type": "code",
   "execution_count": 30,
   "metadata": {},
   "outputs": [
    {
     "data": {
      "image/png": "[encoded data removed]",
      "text/plain": [
       "<Figure size 1440x360 with 1 Axes>"
      ]
     },
     "metadata": {},
     "output_type": "display_data"
    }
   ],
   "source": [
    "matplotlib.pyplot.figure(figsize = [20, 5] , dpi = None , facecolor = \"wheat\" , edgecolor = None , frameon = True  , clear = False )\n",
    "ax = seaborn.barplot(y=df_mumuki['Date'].value_counts()[:10], x=df_mumuki['Date'].value_counts()[:10].index, data=df_mumuki)\n",
    "ax.set_xticklabels(ax.get_xticklabels(), rotation=45);\n",
    "\n",
    "ax.set_xlabel('Fecha')\n",
    "ax.set_ylabel('Cant Envios')\n",
    "ax.set_title('Top 10 de fechas con más envíos', fontsize=20)\n",
    "plt.show()"
   ]
  },
  {
   "cell_type": "markdown",
   "metadata": {},
   "source": [
    "Vemos que la mayoria de los envíos son en año 2020, y en los meses de mayo y septiembre, que está relacionado a que los cursos son cuatrimestrales.\n",
    "\n",
    "Ésta columna nos produjo varias preguntas para seguir analizando las fechas, que serán discutidas más adelante. Por lo cual se decidio crear, como año, mes, periodo, tiempo, hora, minuto, número de semana, día de la semana, para un mejor análisis."
   ]
  },
  {
   "cell_type": "code",
   "execution_count": 31,
   "metadata": {},
   "outputs": [],
   "source": [
    "df_mumuki['Periodo'] =pd.to_datetime(df_mumuki['submission_created_at']).dt.to_period(\"M\")\n",
    "df_mumuki['Year'] = pd.DatetimeIndex(df_mumuki['submission_created_at']).year\n",
    "df_mumuki['Month'] = pd.DatetimeIndex(df_mumuki['submission_created_at']).month\n",
    "df_mumuki['Week'] =pd.to_datetime(df_mumuki['submission_created_at']).dt.isocalendar().week\n",
    "df_mumuki['DayNroWeek'] =pd.to_datetime(df_mumuki['submission_created_at']).dt.weekday\n",
    "df_mumuki['DayNameWeek'] =pd.to_datetime(df_mumuki['submission_created_at']).dt.day_name()\n",
    "\n",
    "df_mumuki['Time']= pd.to_datetime(df_mumuki['submission_created_at']).dt.time\n",
    "df_mumuki['Hora'] =pd.to_datetime(df_mumuki['submission_created_at']).dt.hour\n",
    "df_mumuki['Minute'] =pd.to_datetime(df_mumuki['submission_created_at']).dt.minute"
   ]
  },
  {
   "cell_type": "markdown",
   "metadata": {},
   "source": [
    "Visualizamos las columnas agregadas"
   ]
  },
  {
   "cell_type": "code",
   "execution_count": 32,
   "metadata": {},
   "outputs": [
    {
     "data": {
      "text/html": [
       "<div>\n",
       "<style scoped>\n",
       "    .dataframe tbody tr th:only-of-type {\n",
       "        vertical-align: middle;\n",
       "    }\n",
       "\n",
       "    .dataframe tbody tr th {\n",
       "        vertical-align: top;\n",
       "    }\n",
       "\n",
       "    .dataframe thead th {\n",
       "        text-align: right;\n",
       "    }\n",
       "</style>\n",
       "<table border=\"1\" class=\"dataframe\">\n",
       "  <thead>\n",
       "    <tr style=\"text-align: right;\">\n",
       "      <th></th>\n",
       "      <th>submission_created_at</th>\n",
       "      <th>Date</th>\n",
       "      <th>Periodo</th>\n",
       "      <th>Year</th>\n",
       "      <th>Month</th>\n",
       "      <th>Week</th>\n",
       "      <th>DayNroWeek</th>\n",
       "      <th>DayNameWeek</th>\n",
       "      <th>Time</th>\n",
       "      <th>Hora</th>\n",
       "      <th>Minute</th>\n",
       "    </tr>\n",
       "  </thead>\n",
       "  <tbody>\n",
       "    <tr>\n",
       "      <th>0</th>\n",
       "      <td>2019-08-30 13:17:17.700</td>\n",
       "      <td>2019-08-30</td>\n",
       "      <td>2019-08</td>\n",
       "      <td>2019</td>\n",
       "      <td>8</td>\n",
       "      <td>35</td>\n",
       "      <td>4</td>\n",
       "      <td>Friday</td>\n",
       "      <td>13:17:17.700000</td>\n",
       "      <td>13</td>\n",
       "      <td>17</td>\n",
       "    </tr>\n",
       "    <tr>\n",
       "      <th>1</th>\n",
       "      <td>2019-09-04 01:29:22.351</td>\n",
       "      <td>2019-09-04</td>\n",
       "      <td>2019-09</td>\n",
       "      <td>2019</td>\n",
       "      <td>9</td>\n",
       "      <td>36</td>\n",
       "      <td>2</td>\n",
       "      <td>Wednesday</td>\n",
       "      <td>01:29:22.351000</td>\n",
       "      <td>1</td>\n",
       "      <td>29</td>\n",
       "    </tr>\n",
       "    <tr>\n",
       "      <th>2</th>\n",
       "      <td>2019-09-04 02:53:01.099</td>\n",
       "      <td>2019-09-04</td>\n",
       "      <td>2019-09</td>\n",
       "      <td>2019</td>\n",
       "      <td>9</td>\n",
       "      <td>36</td>\n",
       "      <td>2</td>\n",
       "      <td>Wednesday</td>\n",
       "      <td>02:53:01.099000</td>\n",
       "      <td>2</td>\n",
       "      <td>53</td>\n",
       "    </tr>\n",
       "    <tr>\n",
       "      <th>3</th>\n",
       "      <td>2019-09-04 02:53:24.673</td>\n",
       "      <td>2019-09-04</td>\n",
       "      <td>2019-09</td>\n",
       "      <td>2019</td>\n",
       "      <td>9</td>\n",
       "      <td>36</td>\n",
       "      <td>2</td>\n",
       "      <td>Wednesday</td>\n",
       "      <td>02:53:24.673000</td>\n",
       "      <td>2</td>\n",
       "      <td>53</td>\n",
       "    </tr>\n",
       "    <tr>\n",
       "      <th>4</th>\n",
       "      <td>2019-09-04 02:53:41.949</td>\n",
       "      <td>2019-09-04</td>\n",
       "      <td>2019-09</td>\n",
       "      <td>2019</td>\n",
       "      <td>9</td>\n",
       "      <td>36</td>\n",
       "      <td>2</td>\n",
       "      <td>Wednesday</td>\n",
       "      <td>02:53:41.949000</td>\n",
       "      <td>2</td>\n",
       "      <td>53</td>\n",
       "    </tr>\n",
       "    <tr>\n",
       "      <th>...</th>\n",
       "      <td>...</td>\n",
       "      <td>...</td>\n",
       "      <td>...</td>\n",
       "      <td>...</td>\n",
       "      <td>...</td>\n",
       "      <td>...</td>\n",
       "      <td>...</td>\n",
       "      <td>...</td>\n",
       "      <td>...</td>\n",
       "      <td>...</td>\n",
       "      <td>...</td>\n",
       "    </tr>\n",
       "    <tr>\n",
       "      <th>47178</th>\n",
       "      <td>2020-11-08 22:03:56.946</td>\n",
       "      <td>2020-11-08</td>\n",
       "      <td>2020-11</td>\n",
       "      <td>2020</td>\n",
       "      <td>11</td>\n",
       "      <td>45</td>\n",
       "      <td>6</td>\n",
       "      <td>Sunday</td>\n",
       "      <td>22:03:56.946000</td>\n",
       "      <td>22</td>\n",
       "      <td>3</td>\n",
       "    </tr>\n",
       "    <tr>\n",
       "      <th>47179</th>\n",
       "      <td>2020-11-12 11:10:08.054</td>\n",
       "      <td>2020-11-12</td>\n",
       "      <td>2020-11</td>\n",
       "      <td>2020</td>\n",
       "      <td>11</td>\n",
       "      <td>46</td>\n",
       "      <td>3</td>\n",
       "      <td>Thursday</td>\n",
       "      <td>11:10:08.054000</td>\n",
       "      <td>11</td>\n",
       "      <td>10</td>\n",
       "    </tr>\n",
       "    <tr>\n",
       "      <th>47180</th>\n",
       "      <td>2020-11-12 13:56:29.344</td>\n",
       "      <td>2020-11-12</td>\n",
       "      <td>2020-11</td>\n",
       "      <td>2020</td>\n",
       "      <td>11</td>\n",
       "      <td>46</td>\n",
       "      <td>3</td>\n",
       "      <td>Thursday</td>\n",
       "      <td>13:56:29.344000</td>\n",
       "      <td>13</td>\n",
       "      <td>56</td>\n",
       "    </tr>\n",
       "    <tr>\n",
       "      <th>47181</th>\n",
       "      <td>2020-11-16 18:22:54.768</td>\n",
       "      <td>2020-11-16</td>\n",
       "      <td>2020-11</td>\n",
       "      <td>2020</td>\n",
       "      <td>11</td>\n",
       "      <td>47</td>\n",
       "      <td>0</td>\n",
       "      <td>Monday</td>\n",
       "      <td>18:22:54.768000</td>\n",
       "      <td>18</td>\n",
       "      <td>22</td>\n",
       "    </tr>\n",
       "    <tr>\n",
       "      <th>47182</th>\n",
       "      <td>2020-11-23 21:46:55.629</td>\n",
       "      <td>2020-11-23</td>\n",
       "      <td>2020-11</td>\n",
       "      <td>2020</td>\n",
       "      <td>11</td>\n",
       "      <td>48</td>\n",
       "      <td>0</td>\n",
       "      <td>Monday</td>\n",
       "      <td>21:46:55.629000</td>\n",
       "      <td>21</td>\n",
       "      <td>46</td>\n",
       "    </tr>\n",
       "  </tbody>\n",
       "</table>\n",
       "<p>47183 rows × 11 columns</p>\n",
       "</div>"
      ],
      "text/plain": [
       "         submission_created_at        Date  Periodo  Year  Month  Week  \\\n",
       "0      2019-08-30 13:17:17.700  2019-08-30  2019-08  2019      8    35   \n",
       "1      2019-09-04 01:29:22.351  2019-09-04  2019-09  2019      9    36   \n",
       "2      2019-09-04 02:53:01.099  2019-09-04  2019-09  2019      9    36   \n",
       "3      2019-09-04 02:53:24.673  2019-09-04  2019-09  2019      9    36   \n",
       "4      2019-09-04 02:53:41.949  2019-09-04  2019-09  2019      9    36   \n",
       "...                        ...         ...      ...   ...    ...   ...   \n",
       "47178  2020-11-08 22:03:56.946  2020-11-08  2020-11  2020     11    45   \n",
       "47179  2020-11-12 11:10:08.054  2020-11-12  2020-11  2020     11    46   \n",
       "47180  2020-11-12 13:56:29.344  2020-11-12  2020-11  2020     11    46   \n",
       "47181  2020-11-16 18:22:54.768  2020-11-16  2020-11  2020     11    47   \n",
       "47182  2020-11-23 21:46:55.629  2020-11-23  2020-11  2020     11    48   \n",
       "\n",
       "       DayNroWeek DayNameWeek             Time  Hora  Minute  \n",
       "0               4      Friday  13:17:17.700000    13      17  \n",
       "1               2   Wednesday  01:29:22.351000     1      29  \n",
       "2               2   Wednesday  02:53:01.099000     2      53  \n",
       "3               2   Wednesday  02:53:24.673000     2      53  \n",
       "4               2   Wednesday  02:53:41.949000     2      53  \n",
       "...           ...         ...              ...   ...     ...  \n",
       "47178           6      Sunday  22:03:56.946000    22       3  \n",
       "47179           3    Thursday  11:10:08.054000    11      10  \n",
       "47180           3    Thursday  13:56:29.344000    13      56  \n",
       "47181           0      Monday  18:22:54.768000    18      22  \n",
       "47182           0      Monday  21:46:55.629000    21      46  \n",
       "\n",
       "[47183 rows x 11 columns]"
      ]
     },
     "execution_count": 32,
     "metadata": {},
     "output_type": "execute_result"
    }
   ],
   "source": [
    "df_mumuki[['submission_created_at','Date','Periodo','Year','Month','Week','DayNroWeek','DayNameWeek','Time','Hora','Minute']]"
   ]
  },
  {
   "cell_type": "markdown",
   "metadata": {},
   "source": [
    "¿En qué dias de la semana se enviaron?"
   ]
  },
  {
   "cell_type": "code",
   "execution_count": 33,
   "metadata": {
    "scrolled": true
   },
   "outputs": [
    {
     "data": {
      "image/png": "[encoded data removed]",
      "text/plain": [
       "<Figure size 1440x432 with 1 Axes>"
      ]
     },
     "metadata": {},
     "output_type": "display_data"
    }
   ],
   "source": [
    "orderDiaSemana = df_mumuki.sort_values('DayNroWeek')\n",
    "matplotlib.pyplot.figure(figsize = [20, 6] , dpi = None , facecolor = \"wheat\" , edgecolor = None , frameon = True  , clear = False )\n",
    "ax=seaborn.histplot( x=orderDiaSemana['DayNameWeek'],data=orderDiaSemana)\n",
    "ax.set_xlabel('Día de la semana')\n",
    "ax.set_ylabel('Cant Envios')\n",
    "ax.set_title('Cantidad de envíos por día de la semana', fontsize=20)\n",
    "plt.show()"
   ]
  },
  {
   "cell_type": "markdown",
   "metadata": {},
   "source": [
    "El día de la semana que más ejercicios se envían son el Lunes y Martes. El Sábado es el día de la semana que menos ejercicios presentan."
   ]
  },
  {
   "cell_type": "markdown",
   "metadata": {},
   "source": [
    "## 2.10 `student_uid`"
   ]
  },
  {
   "cell_type": "markdown",
   "metadata": {},
   "source": [
    "Es el identificador (anonimizado) de estudiante.\n",
    "\n",
    "Nos preguntamos cuántas personas tenemos en nuestro dataset? "
   ]
  },
  {
   "cell_type": "code",
   "execution_count": 34,
   "metadata": {},
   "outputs": [
    {
     "name": "stdout",
     "output_type": "stream",
     "text": [
      "La cantidad de estudiante que tiene el data set es: 286\n"
     ]
    }
   ],
   "source": [
    "print(f\"La cantidad de estudiante que tiene el data set es: {len(df_mumuki['student_uid'].unique())}\") "
   ]
  },
  {
   "cell_type": "code",
   "execution_count": 35,
   "metadata": {},
   "outputs": [
    {
     "name": "stdout",
     "output_type": "stream",
     "text": [
      "Existen vacíos en los id de estudiantes?: False\n"
     ]
    }
   ],
   "source": [
    "print(f\"Existen vacíos en los id de estudiantes?: {df_mumuki.student_uid.isnull().values.any()}\") "
   ]
  },
  {
   "cell_type": "code",
   "execution_count": 36,
   "metadata": {
    "scrolled": true
   },
   "outputs": [
    {
     "data": {
      "image/png": "[encoded data removed]",
      "text/plain": [
       "<Figure size 432x288 with 1 Axes>"
      ]
     },
     "metadata": {
      "needs_background": "light"
     },
     "output_type": "display_data"
    }
   ],
   "source": [
    "ax = seaborn.histplot(data=df_mumuki, x='student_uid')\n",
    "\n",
    "ax.set_ylabel('cant. envios')\n",
    "ax.set_xlabel('id estudiante')\n",
    "ax.set_title('Cantidad de envios por estudiante', fontsize=20)\n",
    "plt.show()"
   ]
  },
  {
   "cell_type": "code",
   "execution_count": 37,
   "metadata": {},
   "outputs": [
    {
     "data": {
      "text/plain": [
       "-1"
      ]
     },
     "execution_count": 37,
     "metadata": {},
     "output_type": "execute_result"
    }
   ],
   "source": [
    "df_mumuki['student_uid'].min()"
   ]
  },
  {
   "cell_type": "markdown",
   "metadata": {},
   "source": [
    "En la gráfica, detectamos separacion de seguimiento identificacion de estudiantes, por la cual verificamos cual es el identificardor minimo y detectamos que el valor es igual a -1."
   ]
  },
  {
   "cell_type": "code",
   "execution_count": 38,
   "metadata": {},
   "outputs": [
    {
     "name": "stdout",
     "output_type": "stream",
     "text": [
      "La cantidad de envios que tiene el estudiante identificado con -1 es: 72\n"
     ]
    }
   ],
   "source": [
    "print(f\"La cantidad de envios que tiene el estudiante identificado con -1 es: {len(df_mumuki[df_mumuki['student_uid']==-1])}\")  "
   ]
  },
  {
   "cell_type": "markdown",
   "metadata": {},
   "source": [
    "Al no identificar si es un estudiante o varios, si es un error del dataset o no, se definio no tener en cuenta la información de los registro con 'student_uid' igual a -1. Por lo tanto se eliminara los registros."
   ]
  },
  {
   "cell_type": "code",
   "execution_count": 39,
   "metadata": {},
   "outputs": [],
   "source": [
    "df_mumuki_sin_uid_1 = df_mumuki[df_mumuki['student_uid']!=-1]"
   ]
  },
  {
   "cell_type": "markdown",
   "metadata": {},
   "source": [
    "Se valida que se eliminaron los registros"
   ]
  },
  {
   "cell_type": "code",
   "execution_count": 40,
   "metadata": {},
   "outputs": [
    {
     "name": "stdout",
     "output_type": "stream",
     "text": [
      "La cantidad de envios que tiene el estudiante identificado con -1 es: 0\n"
     ]
    }
   ],
   "source": [
    "print(f\"La cantidad de envios que tiene el estudiante identificado con -1 es: {len(df_mumuki_sin_uid_1[df_mumuki_sin_uid_1['student_uid']==-1])}\")  "
   ]
  },
  {
   "cell_type": "markdown",
   "metadata": {},
   "source": [
    "# 3. Preguntas realizadas durante la exploración del Dataset"
   ]
  },
  {
   "cell_type": "markdown",
   "metadata": {},
   "source": [
    "## 3.1 ¿Cuántos envíos se realizaron por user?"
   ]
  },
  {
   "cell_type": "code",
   "execution_count": 41,
   "metadata": {},
   "outputs": [
    {
     "data": {
      "text/html": [
       "<div>\n",
       "<style scoped>\n",
       "    .dataframe tbody tr th:only-of-type {\n",
       "        vertical-align: middle;\n",
       "    }\n",
       "\n",
       "    .dataframe tbody tr th {\n",
       "        vertical-align: top;\n",
       "    }\n",
       "\n",
       "    .dataframe thead th {\n",
       "        text-align: right;\n",
       "    }\n",
       "</style>\n",
       "<table border=\"1\" class=\"dataframe\">\n",
       "  <thead>\n",
       "    <tr style=\"text-align: right;\">\n",
       "      <th></th>\n",
       "      <th>exercise_name</th>\n",
       "    </tr>\n",
       "    <tr>\n",
       "      <th>student_uid</th>\n",
       "      <th></th>\n",
       "    </tr>\n",
       "  </thead>\n",
       "  <tbody>\n",
       "    <tr>\n",
       "      <th>75</th>\n",
       "      <td>1</td>\n",
       "    </tr>\n",
       "    <tr>\n",
       "      <th>76</th>\n",
       "      <td>89</td>\n",
       "    </tr>\n",
       "    <tr>\n",
       "      <th>77</th>\n",
       "      <td>186</td>\n",
       "    </tr>\n",
       "    <tr>\n",
       "      <th>78</th>\n",
       "      <td>84</td>\n",
       "    </tr>\n",
       "    <tr>\n",
       "      <th>79</th>\n",
       "      <td>95</td>\n",
       "    </tr>\n",
       "    <tr>\n",
       "      <th>...</th>\n",
       "      <td>...</td>\n",
       "    </tr>\n",
       "    <tr>\n",
       "      <th>358</th>\n",
       "      <td>6</td>\n",
       "    </tr>\n",
       "    <tr>\n",
       "      <th>359</th>\n",
       "      <td>38</td>\n",
       "    </tr>\n",
       "    <tr>\n",
       "      <th>361</th>\n",
       "      <td>1</td>\n",
       "    </tr>\n",
       "    <tr>\n",
       "      <th>362</th>\n",
       "      <td>3</td>\n",
       "    </tr>\n",
       "    <tr>\n",
       "      <th>363</th>\n",
       "      <td>19</td>\n",
       "    </tr>\n",
       "  </tbody>\n",
       "</table>\n",
       "<p>285 rows × 1 columns</p>\n",
       "</div>"
      ],
      "text/plain": [
       "             exercise_name\n",
       "student_uid               \n",
       "75                       1\n",
       "76                      89\n",
       "77                     186\n",
       "78                      84\n",
       "79                      95\n",
       "...                    ...\n",
       "358                      6\n",
       "359                     38\n",
       "361                      1\n",
       "362                      3\n",
       "363                     19\n",
       "\n",
       "[285 rows x 1 columns]"
      ]
     },
     "execution_count": 41,
     "metadata": {},
     "output_type": "execute_result"
    }
   ],
   "source": [
    "df_mumuki_sin_uid_1.groupby(['student_uid']).agg({'exercise_name':'count'})"
   ]
  },
  {
   "cell_type": "markdown",
   "metadata": {},
   "source": [
    "## 3.2 ¿Cuántas personas aprobaron aunque sea un ejercicio que han enviado?"
   ]
  },
  {
   "cell_type": "markdown",
   "metadata": {},
   "source": [
    "Agrupamos por usuarix, y por estado de envío, de acuerdo a la reagrupación de paso y no_paso."
   ]
  },
  {
   "cell_type": "code",
   "execution_count": 42,
   "metadata": {},
   "outputs": [],
   "source": [
    "users_por_status=df_mumuki_sin_uid_1.groupby('student_uid').Estatus.value_counts() \\\n",
    ".unstack(fill_value=0).reset_index()"
   ]
  },
  {
   "cell_type": "code",
   "execution_count": 43,
   "metadata": {},
   "outputs": [
    {
     "name": "stdout",
     "output_type": "stream",
     "text": [
      "La cantidad de personas que aprobaron aunque sea un ejercicio son: 279\n"
     ]
    }
   ],
   "source": [
    "print(f\"La cantidad de personas que aprobaron aunque sea un ejercicio son: {len(users_por_status[users_por_status['paso']>0])}\")   "
   ]
  },
  {
   "cell_type": "markdown",
   "metadata": {},
   "source": [
    "## 3.3 ¿Cuántas personas desaprobaron aunque sea un ejercicio que han enviado?"
   ]
  },
  {
   "cell_type": "code",
   "execution_count": 44,
   "metadata": {},
   "outputs": [
    {
     "name": "stdout",
     "output_type": "stream",
     "text": [
      "La cantidad de personas que desaprobaron aunque sea un ejercicio son: 284\n"
     ]
    }
   ],
   "source": [
    "print(f\"La cantidad de personas que desaprobaron aunque sea un ejercicio son: {len(users_por_status[users_por_status['no_paso']>0])}\") "
   ]
  },
  {
   "cell_type": "markdown",
   "metadata": {},
   "source": [
    "Hay más usuarixs que realizaron envíos que no pasaron la prueba que los que pasaron. Es decir, hay personas dentro del dataset que todos sus envíos fueron desaprobados."
   ]
  },
  {
   "cell_type": "markdown",
   "metadata": {},
   "source": [
    "## 3.4 ¿Cuántas personas no aprobaron ningun ejercicio?"
   ]
  },
  {
   "cell_type": "code",
   "execution_count": 45,
   "metadata": {},
   "outputs": [
    {
     "name": "stdout",
     "output_type": "stream",
     "text": [
      "En el dataset, 6 estudiantes hicieron envíos que sólo desaprobaron.\n"
     ]
    }
   ],
   "source": [
    "print(f\"En el dataset, {len(users_por_status[users_por_status['paso']==0])} estudiantes hicieron envíos que sólo desaprobaron.\")  "
   ]
  },
  {
   "cell_type": "markdown",
   "metadata": {},
   "source": [
    "## 3.5  ¿Cuántas personas aprobaron todos los ejercicios que enviaron?"
   ]
  },
  {
   "cell_type": "code",
   "execution_count": 46,
   "metadata": {},
   "outputs": [
    {
     "name": "stdout",
     "output_type": "stream",
     "text": [
      "En el dataset, 1 estudiante/s aprobo todos los envíos que realizó.\n"
     ]
    }
   ],
   "source": [
    "print(f\"En el dataset, {len(users_por_status[users_por_status['no_paso']==0])} estudiante/s aprobo todos los envíos que realizó.\")  "
   ]
  },
  {
   "cell_type": "markdown",
   "metadata": {},
   "source": [
    "## 3.6 ¿Cuáles son los ejercicios con más envíos?"
   ]
  },
  {
   "cell_type": "code",
   "execution_count": 47,
   "metadata": {
    "scrolled": true
   },
   "outputs": [],
   "source": [
    "nombre_ejercicios_con_mas_ocurrencias=df_mumuki_sin_uid_1['exercise_name'].value_counts().index.tolist()[:10]\n",
    "df_ejercicios_con_mas_ocurrencias=df_mumuki_sin_uid_1[df_mumuki_sin_uid_1['exercise_name'].isin(nombre_ejercicios_con_mas_ocurrencias)]"
   ]
  },
  {
   "cell_type": "code",
   "execution_count": 57,
   "metadata": {},
   "outputs": [
    {
     "data": {
      "text/plain": [
       "Text(0.5, 1.0, 'Top 10 de cantidad de envíos por nombre de ejercicios')"
      ]
     },
     "execution_count": 57,
     "metadata": {},
     "output_type": "execute_result"
    },
    {
     "data": {
      "image/png": "[encoded data removed]",
      "text/plain": [
       "<Figure size 360x360 with 1 Axes>"
      ]
     },
     "metadata": {
      "needs_background": "light"
     },
     "output_type": "display_data"
    }
   ],
   "source": [
    "seaborn.catplot(\n",
    "    data=df_ejercicios_con_mas_ocurrencias, \n",
    "    y=df_ejercicios_con_mas_ocurrencias['exercise_name'].value_counts().index,  \n",
    "    x=df_ejercicios_con_mas_ocurrencias['exercise_name'].value_counts().values,\n",
    "    kind='bar')\n",
    "plt.xlabel('cant envios')\n",
    "plt.ylabel('exercise_name')\n",
    "plt.title('Top 10 de cantidad de envíos por nombre de ejercicios', fontsize=20)"
   ]
  },
  {
   "cell_type": "markdown",
   "metadata": {},
   "source": [
    "**Modificaciones al dataSet:**\n",
    "\n",
    "En esta notebook se crearon columnas para un mejor análisis. Se crearon las siguientes columnas para datos de tiempo: año, mes, periodo, numero de semana del año, numero y dia de la semana, separo el tiempo, hora, minuto.\n",
    "\n",
    "Se creo una funcion para asignar dos categorias de resultados: Paso y no paso. \n",
    "\n",
    "Y se unifico nombres de los siguientes ejercicios. La explicación de la unificación de nombres estan en la notebok con el nombre: '00_Cambio_de_nombres_de_ejercicios'"
   ]
  },
  {
   "cell_type": "code",
   "execution_count": 49,
   "metadata": {},
   "outputs": [],
   "source": [
    "df_mumuki_sin_uid_1['exercise_name'] = df_mumuki_sin_uid_1['exercise_name'].replace(\n",
    "      {'PIenso que así es más fácil':'Pienso que así es más fácil', \n",
    "       '¿Es par?':'Libros de la buena memoria', \n",
    "       'Más booleanos' :'El retorno del booleano'\n",
    "       })"
   ]
  },
  {
   "cell_type": "code",
   "execution_count": 50,
   "metadata": {},
   "outputs": [],
   "source": [
    "df_mumuki_sin_uid_1['exercise_name'] = df_mumuki_sin_uid_1['exercise_name'].replace(\n",
    "      {'Funciones, declaración': 'Funciones, declaración / No tan distintos',\n",
    "       'No tan distintos': 'Funciones, declaración / No tan distintos' })"
   ]
  },
  {
   "cell_type": "code",
   "execution_count": 51,
   "metadata": {},
   "outputs": [],
   "source": [
    "df_mumuki_sin_uid_1['exercise_name'] = df_mumuki_sin_uid_1['exercise_name'].replace(\n",
    "      {'Calefones': 'Calefones / Poniendo topes',\n",
    "       'Poniendo topes': 'Calefones / Poniendo topes'})"
   ]
  },
  {
   "cell_type": "code",
   "execution_count": 52,
   "metadata": {},
   "outputs": [],
   "source": [
    "df_mumuki_sin_uid_1['exercise_name'] = df_mumuki_sin_uid_1['exercise_name'].replace(\n",
    "      {'Datos de todo tipo': 'Tipos de datos / Datos de todo tipo',\n",
    "       'Tipos de datos': 'Tipos de datos / Datos de todo tipo'})"
   ]
  },
  {
   "cell_type": "markdown",
   "metadata": {},
   "source": [
    "Se visualiza como queda el dataSet con los cambios"
   ]
  },
  {
   "cell_type": "code",
   "execution_count": 53,
   "metadata": {},
   "outputs": [
    {
     "data": {
      "text/html": [
       "<div>\n",
       "<style scoped>\n",
       "    .dataframe tbody tr th:only-of-type {\n",
       "        vertical-align: middle;\n",
       "    }\n",
       "\n",
       "    .dataframe tbody tr th {\n",
       "        vertical-align: top;\n",
       "    }\n",
       "\n",
       "    .dataframe thead th {\n",
       "        text-align: right;\n",
       "    }\n",
       "</style>\n",
       "<table border=\"1\" class=\"dataframe\">\n",
       "  <thead>\n",
       "    <tr style=\"text-align: right;\">\n",
       "      <th></th>\n",
       "      <th>exercise_eid</th>\n",
       "      <th>exercise_name</th>\n",
       "      <th>expectation_results</th>\n",
       "      <th>guide_slug</th>\n",
       "      <th>result</th>\n",
       "      <th>sid</th>\n",
       "      <th>student_uid</th>\n",
       "      <th>submission_content</th>\n",
       "      <th>submission_created_at</th>\n",
       "      <th>submission_status</th>\n",
       "      <th>...</th>\n",
       "      <th>Date</th>\n",
       "      <th>Periodo</th>\n",
       "      <th>Year</th>\n",
       "      <th>Month</th>\n",
       "      <th>Week</th>\n",
       "      <th>DayNroWeek</th>\n",
       "      <th>DayNameWeek</th>\n",
       "      <th>Time</th>\n",
       "      <th>Hora</th>\n",
       "      <th>Minute</th>\n",
       "    </tr>\n",
       "  </thead>\n",
       "  <tbody>\n",
       "    <tr>\n",
       "      <th>0</th>\n",
       "      <td>1</td>\n",
       "      <td>Funciones, declaración / No tan distintos</td>\n",
       "      <td>[]</td>\n",
       "      <td>mumukiproject/mumuki-guia-python-funciones-tip...</td>\n",
       "      <td>NaN</td>\n",
       "      <td>0</td>\n",
       "      <td>76</td>\n",
       "      <td>def mitad(numero):\\r\\n  return numero / 2</td>\n",
       "      <td>2019-08-30 13:17:17.700</td>\n",
       "      <td>passed</td>\n",
       "      <td>...</td>\n",
       "      <td>2019-08-30</td>\n",
       "      <td>2019-08</td>\n",
       "      <td>2019</td>\n",
       "      <td>8</td>\n",
       "      <td>35</td>\n",
       "      <td>4</td>\n",
       "      <td>Friday</td>\n",
       "      <td>13:17:17.700000</td>\n",
       "      <td>13</td>\n",
       "      <td>17</td>\n",
       "    </tr>\n",
       "    <tr>\n",
       "      <th>1</th>\n",
       "      <td>1</td>\n",
       "      <td>Funciones, declaración / No tan distintos</td>\n",
       "      <td>[]</td>\n",
       "      <td>mumukiproject/mumuki-guia-python-funciones-tip...</td>\n",
       "      <td>NaN</td>\n",
       "      <td>1</td>\n",
       "      <td>77</td>\n",
       "      <td>def mitad(numero):\\r\\n  return numero / 2</td>\n",
       "      <td>2019-09-04 01:29:22.351</td>\n",
       "      <td>passed</td>\n",
       "      <td>...</td>\n",
       "      <td>2019-09-04</td>\n",
       "      <td>2019-09</td>\n",
       "      <td>2019</td>\n",
       "      <td>9</td>\n",
       "      <td>36</td>\n",
       "      <td>2</td>\n",
       "      <td>Wednesday</td>\n",
       "      <td>01:29:22.351000</td>\n",
       "      <td>1</td>\n",
       "      <td>29</td>\n",
       "    </tr>\n",
       "    <tr>\n",
       "      <th>2</th>\n",
       "      <td>1</td>\n",
       "      <td>Funciones, declaración / No tan distintos</td>\n",
       "      <td>[]</td>\n",
       "      <td>mumukiproject/mumuki-guia-python-funciones-tip...</td>\n",
       "      <td>NaN</td>\n",
       "      <td>2</td>\n",
       "      <td>78</td>\n",
       "      <td>def Mitas(numero):\\r\\n  return 2 / numero\\r\\n</td>\n",
       "      <td>2019-09-04 02:53:01.099</td>\n",
       "      <td>failed</td>\n",
       "      <td>...</td>\n",
       "      <td>2019-09-04</td>\n",
       "      <td>2019-09</td>\n",
       "      <td>2019</td>\n",
       "      <td>9</td>\n",
       "      <td>36</td>\n",
       "      <td>2</td>\n",
       "      <td>Wednesday</td>\n",
       "      <td>02:53:01.099000</td>\n",
       "      <td>2</td>\n",
       "      <td>53</td>\n",
       "    </tr>\n",
       "  </tbody>\n",
       "</table>\n",
       "<p>3 rows × 23 columns</p>\n",
       "</div>"
      ],
      "text/plain": [
       "   exercise_eid                              exercise_name  \\\n",
       "0             1  Funciones, declaración / No tan distintos   \n",
       "1             1  Funciones, declaración / No tan distintos   \n",
       "2             1  Funciones, declaración / No tan distintos   \n",
       "\n",
       "  expectation_results                                         guide_slug  \\\n",
       "0                  []  mumukiproject/mumuki-guia-python-funciones-tip...   \n",
       "1                  []  mumukiproject/mumuki-guia-python-funciones-tip...   \n",
       "2                  []  mumukiproject/mumuki-guia-python-funciones-tip...   \n",
       "\n",
       "  result  sid  student_uid                             submission_content  \\\n",
       "0    NaN    0           76      def mitad(numero):\\r\\n  return numero / 2   \n",
       "1    NaN    1           77      def mitad(numero):\\r\\n  return numero / 2   \n",
       "2    NaN    2           78  def Mitas(numero):\\r\\n  return 2 / numero\\r\\n   \n",
       "\n",
       "     submission_created_at submission_status  ...        Date  Periodo  Year  \\\n",
       "0  2019-08-30 13:17:17.700            passed  ...  2019-08-30  2019-08  2019   \n",
       "1  2019-09-04 01:29:22.351            passed  ...  2019-09-04  2019-09  2019   \n",
       "2  2019-09-04 02:53:01.099            failed  ...  2019-09-04  2019-09  2019   \n",
       "\n",
       "  Month Week  DayNroWeek  DayNameWeek             Time  Hora Minute  \n",
       "0     8   35           4       Friday  13:17:17.700000    13     17  \n",
       "1     9   36           2    Wednesday  01:29:22.351000     1     29  \n",
       "2     9   36           2    Wednesday  02:53:01.099000     2     53  \n",
       "\n",
       "[3 rows x 23 columns]"
      ]
     },
     "execution_count": 53,
     "metadata": {},
     "output_type": "execute_result"
    }
   ],
   "source": [
    "df_mumuki_sin_uid_1[:3]"
   ]
  },
  {
   "cell_type": "markdown",
   "metadata": {},
   "source": [
    "#### Crear y guardar un nuevo conjunto de datos con todas las transformaciones realizadas."
   ]
  },
  {
   "cell_type": "code",
   "execution_count": 54,
   "metadata": {},
   "outputs": [],
   "source": [
    "df_mumuki_sin_uid_1.to_csv('DataSet_Mumuki_New.csv')"
   ]
  }
 ],
 "metadata": {
  "kernelspec": {
   "display_name": "Python 3",
   "language": "python",
   "name": "python3"
  },
  "language_info": {
   "codemirror_mode": {
    "name": "ipython",
    "version": 3
   },
   "file_extension": ".py",
   "mimetype": "text/x-python",
   "name": "python",
   "nbconvert_exporter": "python",
   "pygments_lexer": "ipython3",
   "version": "3.8.5"
  }
 },
 "nbformat": 4,
 "nbformat_minor": 4
}
