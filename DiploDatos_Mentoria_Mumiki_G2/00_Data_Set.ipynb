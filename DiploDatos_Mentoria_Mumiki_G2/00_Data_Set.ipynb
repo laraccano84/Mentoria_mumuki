{
  "nbformat": 4,
  "nbformat_minor": 0,
  "metadata": {
    "kernelspec": {
      "display_name": "Python 3",
      "language": "python",
      "name": "python3"
    },
    "language_info": {
      "codemirror_mode": {
        "name": "ipython",
        "version": 3
      },
      "file_extension": ".py",
      "mimetype": "text/x-python",
      "name": "python",
      "nbconvert_exporter": "python",
      "pygments_lexer": "ipython3",
      "version": "3.8.5"
    },
    "colab": {
      "name": "Copia de 00_Data_Set.ipynb",
      "provenance": []
    }
  },
  "cells": [
    {
      "cell_type": "markdown",
      "metadata": {
        "id": "GCKa0TN8u8wV"
      },
      "source": [
        "# DIPLOMATURA EN CIENCIA DE DATOS, APRENDIZAJE AUTOMÁTICO Y SUS APLICACIONES"
      ]
    },
    {
      "cell_type": "markdown",
      "metadata": {
        "id": "26sVoV-ju8wX"
      },
      "source": [
        "## Predicción de deserción en una plataforma educativa para aprender a programar\n",
        "**DataSet**"
      ]
    },
    {
      "cell_type": "markdown",
      "metadata": {
        "id": "WBLoMND-u8wY"
      },
      "source": [
        "El Objetivo de este Notebook es realizar un reconocimiento de cada uno de los datos del data set, y realizar las transformaciones necesarias para su posterior análisis."
      ]
    },
    {
      "cell_type": "code",
      "metadata": {
        "id": "3j7GXUI7u8wZ"
      },
      "source": [
        "import io\n",
        "import matplotlib\n",
        "import matplotlib.pyplot as plt\n",
        "import numpy as np\n",
        "import pandas as pd\n",
        "import seaborn\n",
        "import time\n",
        "import datetime as dt\n",
        "from IPython.display import HTML, display\n",
        "import requests\n",
        "import json\n",
        "import math\n",
        "import glob\n",
        "\n",
        "seaborn.set_context('talk')\n"
      ],
      "execution_count": 71,
      "outputs": []
    },
    {
      "cell_type": "code",
      "metadata": {
        "id": "iFHiqWKJu8wa",
        "colab": {
          "base_uri": "https://localhost:8080/"
        },
        "outputId": "445a4028-2c40-420d-c838-b464b4cb1142"
      },
      "source": [
        "pip install pandas_bokeh"
      ],
      "execution_count": 72,
      "outputs": [
        {
          "output_type": "stream",
          "text": [
            "Requirement already satisfied: pandas_bokeh in /usr/local/lib/python3.7/dist-packages (0.5.5)\n",
            "Requirement already satisfied: pandas>=0.22.0 in /usr/local/lib/python3.7/dist-packages (from pandas_bokeh) (1.1.5)\n",
            "Requirement already satisfied: bokeh>=2.0 in /usr/local/lib/python3.7/dist-packages (from pandas_bokeh) (2.3.2)\n",
            "Requirement already satisfied: python-dateutil>=2.7.3 in /usr/local/lib/python3.7/dist-packages (from pandas>=0.22.0->pandas_bokeh) (2.8.1)\n",
            "Requirement already satisfied: numpy>=1.15.4 in /usr/local/lib/python3.7/dist-packages (from pandas>=0.22.0->pandas_bokeh) (1.19.5)\n",
            "Requirement already satisfied: pytz>=2017.2 in /usr/local/lib/python3.7/dist-packages (from pandas>=0.22.0->pandas_bokeh) (2018.9)\n",
            "Requirement already satisfied: pillow>=7.1.0 in /usr/local/lib/python3.7/dist-packages (from bokeh>=2.0->pandas_bokeh) (7.1.2)\n",
            "Requirement already satisfied: tornado>=5.1 in /usr/local/lib/python3.7/dist-packages (from bokeh>=2.0->pandas_bokeh) (5.1.1)\n",
            "Requirement already satisfied: PyYAML>=3.10 in /usr/local/lib/python3.7/dist-packages (from bokeh>=2.0->pandas_bokeh) (3.13)\n",
            "Requirement already satisfied: packaging>=16.8 in /usr/local/lib/python3.7/dist-packages (from bokeh>=2.0->pandas_bokeh) (20.9)\n",
            "Requirement already satisfied: Jinja2>=2.9 in /usr/local/lib/python3.7/dist-packages (from bokeh>=2.0->pandas_bokeh) (2.11.3)\n",
            "Requirement already satisfied: typing-extensions>=3.7.4 in /usr/local/lib/python3.7/dist-packages (from bokeh>=2.0->pandas_bokeh) (3.7.4.3)\n",
            "Requirement already satisfied: six>=1.5 in /usr/local/lib/python3.7/dist-packages (from python-dateutil>=2.7.3->pandas>=0.22.0->pandas_bokeh) (1.15.0)\n",
            "Requirement already satisfied: pyparsing>=2.0.2 in /usr/local/lib/python3.7/dist-packages (from packaging>=16.8->bokeh>=2.0->pandas_bokeh) (2.4.7)\n",
            "Requirement already satisfied: MarkupSafe>=0.23 in /usr/local/lib/python3.7/dist-packages (from Jinja2>=2.9->bokeh>=2.0->pandas_bokeh) (2.0.1)\n"
          ],
          "name": "stdout"
        }
      ]
    },
    {
      "cell_type": "code",
      "metadata": {
        "id": "lKGXOaFSu8wa"
      },
      "source": [
        "#pip install cufflinks"
      ],
      "execution_count": 73,
      "outputs": []
    },
    {
      "cell_type": "code",
      "metadata": {
        "id": "l8vkd-Sfu8wb"
      },
      "source": [
        "import cufflinks as cf\n",
        "import pandas_bokeh"
      ],
      "execution_count": 74,
      "outputs": []
    },
    {
      "cell_type": "markdown",
      "metadata": {
        "id": "JVVxqF7Qu8wc"
      },
      "source": [
        "# 1. Lectura del dataset de Mumuki."
      ]
    },
    {
      "cell_type": "markdown",
      "metadata": {
        "id": "Q_zZz9cYu8wd"
      },
      "source": [
        "Visión de datos generales del DataSet"
      ]
    },
    {
      "cell_type": "code",
      "metadata": {
        "id": "FVOGlbFUu8we"
      },
      "source": [
        "url= 'https://raw.githubusercontent.com/Natali-PP/diplodatos2021/main/mentoria/python_submissions.csv'\n",
        "df_mumuki = pd.read_csv(url)"
      ],
      "execution_count": 75,
      "outputs": []
    },
    {
      "cell_type": "code",
      "metadata": {
        "scrolled": false,
        "id": "nfK7glBLu8we",
        "colab": {
          "base_uri": "https://localhost:8080/",
          "height": 320
        },
        "outputId": "d132ce97-2eeb-4344-e8fb-a710ce8509d0"
      },
      "source": [
        "df_mumuki[:3]"
      ],
      "execution_count": 76,
      "outputs": [
        {
          "output_type": "execute_result",
          "data": {
            "text/html": [
              "<div>\n",
              "<style scoped>\n",
              "    .dataframe tbody tr th:only-of-type {\n",
              "        vertical-align: middle;\n",
              "    }\n",
              "\n",
              "    .dataframe tbody tr th {\n",
              "        vertical-align: top;\n",
              "    }\n",
              "\n",
              "    .dataframe thead th {\n",
              "        text-align: right;\n",
              "    }\n",
              "</style>\n",
              "<table border=\"1\" class=\"dataframe\">\n",
              "  <thead>\n",
              "    <tr style=\"text-align: right;\">\n",
              "      <th></th>\n",
              "      <th>exercise_eid</th>\n",
              "      <th>exercise_name</th>\n",
              "      <th>expectation_results</th>\n",
              "      <th>feedback</th>\n",
              "      <th>guide_slug</th>\n",
              "      <th>result</th>\n",
              "      <th>sid</th>\n",
              "      <th>student_uid</th>\n",
              "      <th>submission_content</th>\n",
              "      <th>submission_created_at</th>\n",
              "      <th>submission_status</th>\n",
              "      <th>submissions_count</th>\n",
              "      <th>test_results</th>\n",
              "    </tr>\n",
              "  </thead>\n",
              "  <tbody>\n",
              "    <tr>\n",
              "      <th>0</th>\n",
              "      <td>1</td>\n",
              "      <td>Funciones, declaración</td>\n",
              "      <td>[]</td>\n",
              "      <td>NaN</td>\n",
              "      <td>mumukiproject/mumuki-guia-python-funciones-tip...</td>\n",
              "      <td>NaN</td>\n",
              "      <td>0</td>\n",
              "      <td>76</td>\n",
              "      <td>def mitad(numero):\\r\\n  return numero / 2</td>\n",
              "      <td>2019-08-30 13:17:17.700</td>\n",
              "      <td>passed</td>\n",
              "      <td>0</td>\n",
              "      <td>[{'title': 'Mitad de 10 es 5', 'status': 'pass...</td>\n",
              "    </tr>\n",
              "    <tr>\n",
              "      <th>1</th>\n",
              "      <td>1</td>\n",
              "      <td>Funciones, declaración</td>\n",
              "      <td>[]</td>\n",
              "      <td>NaN</td>\n",
              "      <td>mumukiproject/mumuki-guia-python-funciones-tip...</td>\n",
              "      <td>NaN</td>\n",
              "      <td>1</td>\n",
              "      <td>77</td>\n",
              "      <td>def mitad(numero):\\r\\n  return numero / 2</td>\n",
              "      <td>2019-09-04 01:29:22.351</td>\n",
              "      <td>passed</td>\n",
              "      <td>0</td>\n",
              "      <td>[{'title': 'Mitad de 10 es 5', 'status': 'pass...</td>\n",
              "    </tr>\n",
              "    <tr>\n",
              "      <th>2</th>\n",
              "      <td>1</td>\n",
              "      <td>Funciones, declaración</td>\n",
              "      <td>[]</td>\n",
              "      <td>NaN</td>\n",
              "      <td>mumukiproject/mumuki-guia-python-funciones-tip...</td>\n",
              "      <td>NaN</td>\n",
              "      <td>2</td>\n",
              "      <td>78</td>\n",
              "      <td>def Mitas(numero):\\r\\n  return 2 / numero\\r\\n</td>\n",
              "      <td>2019-09-04 02:53:01.099</td>\n",
              "      <td>failed</td>\n",
              "      <td>0</td>\n",
              "      <td>[{'title': 'Mitad de 10 es 5', 'status': 'fail...</td>\n",
              "    </tr>\n",
              "  </tbody>\n",
              "</table>\n",
              "</div>"
            ],
            "text/plain": [
              "   exercise_eid  ...                                       test_results\n",
              "0             1  ...  [{'title': 'Mitad de 10 es 5', 'status': 'pass...\n",
              "1             1  ...  [{'title': 'Mitad de 10 es 5', 'status': 'pass...\n",
              "2             1  ...  [{'title': 'Mitad de 10 es 5', 'status': 'fail...\n",
              "\n",
              "[3 rows x 13 columns]"
            ]
          },
          "metadata": {
            "tags": []
          },
          "execution_count": 76
        }
      ]
    },
    {
      "cell_type": "markdown",
      "metadata": {
        "id": "yut_Hd7cu8wf"
      },
      "source": [
        "## 1.1 Tamaño del DataSet"
      ]
    },
    {
      "cell_type": "code",
      "metadata": {
        "id": "wvtjlB-qu8wg",
        "colab": {
          "base_uri": "https://localhost:8080/"
        },
        "outputId": "44b27ff8-8f44-43e4-81dc-b97f7e88205d"
      },
      "source": [
        "print(f\"El tamaño del lote de datos es: {df_mumuki.shape} (registros y columnas)\")"
      ],
      "execution_count": 77,
      "outputs": [
        {
          "output_type": "stream",
          "text": [
            "El tamaño del lote de datos es: (47183, 13) (registros y columnas)\n"
          ],
          "name": "stdout"
        }
      ]
    },
    {
      "cell_type": "markdown",
      "metadata": {
        "id": "L6c5AOlHu8wg"
      },
      "source": [
        "## 1.2 Identificamos los tipos de datos"
      ]
    },
    {
      "cell_type": "code",
      "metadata": {
        "id": "QGMAXB7Gu8wh",
        "colab": {
          "base_uri": "https://localhost:8080/"
        },
        "outputId": "82056c63-14e6-49ff-e035-07857ceceebd"
      },
      "source": [
        "df_mumuki.dtypes"
      ],
      "execution_count": 78,
      "outputs": [
        {
          "output_type": "execute_result",
          "data": {
            "text/plain": [
              "exercise_eid               int64\n",
              "exercise_name             object\n",
              "expectation_results       object\n",
              "feedback                 float64\n",
              "guide_slug                object\n",
              "result                    object\n",
              "sid                        int64\n",
              "student_uid                int64\n",
              "submission_content        object\n",
              "submission_created_at     object\n",
              "submission_status         object\n",
              "submissions_count          int64\n",
              "test_results              object\n",
              "dtype: object"
            ]
          },
          "metadata": {
            "tags": []
          },
          "execution_count": 78
        }
      ]
    },
    {
      "cell_type": "markdown",
      "metadata": {
        "id": "Swiemxc3u8wi"
      },
      "source": [
        "## 1.3 Análisis de los datos por columna"
      ]
    },
    {
      "cell_type": "markdown",
      "metadata": {
        "id": "CopXLPpxu8wi"
      },
      "source": [
        "A continuación se presenta una tabla por cada campo del dataset de Mumuki, donde vamos a identificar: cantidades, valores unicos, top, frequencia, media, estandar, minimo, 25%, 50%, 75% y máximo. De esta forma tenemos un conocimiento general de los campos.\n"
      ]
    },
    {
      "cell_type": "code",
      "metadata": {
        "id": "EEJZzJ2Yu8wi",
        "colab": {
          "base_uri": "https://localhost:8080/",
          "height": 0
        },
        "outputId": "dc9b33df-ba49-47d0-ace1-8e896de86465"
      },
      "source": [
        "df_mumuki.describe(include='all')"
      ],
      "execution_count": 79,
      "outputs": [
        {
          "output_type": "execute_result",
          "data": {
            "text/html": [
              "<div>\n",
              "<style scoped>\n",
              "    .dataframe tbody tr th:only-of-type {\n",
              "        vertical-align: middle;\n",
              "    }\n",
              "\n",
              "    .dataframe tbody tr th {\n",
              "        vertical-align: top;\n",
              "    }\n",
              "\n",
              "    .dataframe thead th {\n",
              "        text-align: right;\n",
              "    }\n",
              "</style>\n",
              "<table border=\"1\" class=\"dataframe\">\n",
              "  <thead>\n",
              "    <tr style=\"text-align: right;\">\n",
              "      <th></th>\n",
              "      <th>exercise_eid</th>\n",
              "      <th>exercise_name</th>\n",
              "      <th>expectation_results</th>\n",
              "      <th>feedback</th>\n",
              "      <th>guide_slug</th>\n",
              "      <th>result</th>\n",
              "      <th>sid</th>\n",
              "      <th>student_uid</th>\n",
              "      <th>submission_content</th>\n",
              "      <th>submission_created_at</th>\n",
              "      <th>submission_status</th>\n",
              "      <th>submissions_count</th>\n",
              "      <th>test_results</th>\n",
              "    </tr>\n",
              "  </thead>\n",
              "  <tbody>\n",
              "    <tr>\n",
              "      <th>count</th>\n",
              "      <td>47183.000000</td>\n",
              "      <td>47183</td>\n",
              "      <td>47183</td>\n",
              "      <td>0.0</td>\n",
              "      <td>47183</td>\n",
              "      <td>15602</td>\n",
              "      <td>47183.000000</td>\n",
              "      <td>47183.000000</td>\n",
              "      <td>41459</td>\n",
              "      <td>47183</td>\n",
              "      <td>47183</td>\n",
              "      <td>47183.000000</td>\n",
              "      <td>41663</td>\n",
              "    </tr>\n",
              "    <tr>\n",
              "      <th>unique</th>\n",
              "      <td>NaN</td>\n",
              "      <td>46</td>\n",
              "      <td>337</td>\n",
              "      <td>NaN</td>\n",
              "      <td>3</td>\n",
              "      <td>9181</td>\n",
              "      <td>NaN</td>\n",
              "      <td>NaN</td>\n",
              "      <td>32937</td>\n",
              "      <td>47175</td>\n",
              "      <td>6</td>\n",
              "      <td>NaN</td>\n",
              "      <td>2780</td>\n",
              "    </tr>\n",
              "    <tr>\n",
              "      <th>top</th>\n",
              "      <td>NaN</td>\n",
              "      <td>Palabras, sólo palabras</td>\n",
              "      <td>[]</td>\n",
              "      <td>NaN</td>\n",
              "      <td>mumukiproject/mumuki-guia-python-funciones-tip...</td>\n",
              "      <td>File \"solucion.py\", line 11\\n    else:\\n    ...</td>\n",
              "      <td>NaN</td>\n",
              "      <td>NaN</td>\n",
              "      <td>0:3:4</td>\n",
              "      <td>2020-07-21 14:14:48.529</td>\n",
              "      <td>failed</td>\n",
              "      <td>NaN</td>\n",
              "      <td>[]</td>\n",
              "    </tr>\n",
              "    <tr>\n",
              "      <th>freq</th>\n",
              "      <td>NaN</td>\n",
              "      <td>2610</td>\n",
              "      <td>30332</td>\n",
              "      <td>NaN</td>\n",
              "      <td>23961</td>\n",
              "      <td>78</td>\n",
              "      <td>NaN</td>\n",
              "      <td>NaN</td>\n",
              "      <td>252</td>\n",
              "      <td>2</td>\n",
              "      <td>17609</td>\n",
              "      <td>NaN</td>\n",
              "      <td>15605</td>\n",
              "    </tr>\n",
              "    <tr>\n",
              "      <th>mean</th>\n",
              "      <td>8.589450</td>\n",
              "      <td>NaN</td>\n",
              "      <td>NaN</td>\n",
              "      <td>NaN</td>\n",
              "      <td>NaN</td>\n",
              "      <td>NaN</td>\n",
              "      <td>18412.829155</td>\n",
              "      <td>221.765000</td>\n",
              "      <td>NaN</td>\n",
              "      <td>NaN</td>\n",
              "      <td>NaN</td>\n",
              "      <td>6.763538</td>\n",
              "      <td>NaN</td>\n",
              "    </tr>\n",
              "    <tr>\n",
              "      <th>std</th>\n",
              "      <td>4.897098</td>\n",
              "      <td>NaN</td>\n",
              "      <td>NaN</td>\n",
              "      <td>NaN</td>\n",
              "      <td>NaN</td>\n",
              "      <td>NaN</td>\n",
              "      <td>13146.120096</td>\n",
              "      <td>74.852459</td>\n",
              "      <td>NaN</td>\n",
              "      <td>NaN</td>\n",
              "      <td>NaN</td>\n",
              "      <td>11.002089</td>\n",
              "      <td>NaN</td>\n",
              "    </tr>\n",
              "    <tr>\n",
              "      <th>min</th>\n",
              "      <td>1.000000</td>\n",
              "      <td>NaN</td>\n",
              "      <td>NaN</td>\n",
              "      <td>NaN</td>\n",
              "      <td>NaN</td>\n",
              "      <td>NaN</td>\n",
              "      <td>-1.000000</td>\n",
              "      <td>-1.000000</td>\n",
              "      <td>NaN</td>\n",
              "      <td>NaN</td>\n",
              "      <td>NaN</td>\n",
              "      <td>0.000000</td>\n",
              "      <td>NaN</td>\n",
              "    </tr>\n",
              "    <tr>\n",
              "      <th>25%</th>\n",
              "      <td>4.000000</td>\n",
              "      <td>NaN</td>\n",
              "      <td>NaN</td>\n",
              "      <td>NaN</td>\n",
              "      <td>NaN</td>\n",
              "      <td>NaN</td>\n",
              "      <td>6287.500000</td>\n",
              "      <td>161.000000</td>\n",
              "      <td>NaN</td>\n",
              "      <td>NaN</td>\n",
              "      <td>NaN</td>\n",
              "      <td>0.000000</td>\n",
              "      <td>NaN</td>\n",
              "    </tr>\n",
              "    <tr>\n",
              "      <th>50%</th>\n",
              "      <td>8.000000</td>\n",
              "      <td>NaN</td>\n",
              "      <td>NaN</td>\n",
              "      <td>NaN</td>\n",
              "      <td>NaN</td>\n",
              "      <td>NaN</td>\n",
              "      <td>18092.000000</td>\n",
              "      <td>223.000000</td>\n",
              "      <td>NaN</td>\n",
              "      <td>NaN</td>\n",
              "      <td>NaN</td>\n",
              "      <td>3.000000</td>\n",
              "      <td>NaN</td>\n",
              "    </tr>\n",
              "    <tr>\n",
              "      <th>75%</th>\n",
              "      <td>13.000000</td>\n",
              "      <td>NaN</td>\n",
              "      <td>NaN</td>\n",
              "      <td>NaN</td>\n",
              "      <td>NaN</td>\n",
              "      <td>NaN</td>\n",
              "      <td>29895.500000</td>\n",
              "      <td>284.000000</td>\n",
              "      <td>NaN</td>\n",
              "      <td>NaN</td>\n",
              "      <td>NaN</td>\n",
              "      <td>8.000000</td>\n",
              "      <td>NaN</td>\n",
              "    </tr>\n",
              "    <tr>\n",
              "      <th>max</th>\n",
              "      <td>19.000000</td>\n",
              "      <td>NaN</td>\n",
              "      <td>NaN</td>\n",
              "      <td>NaN</td>\n",
              "      <td>NaN</td>\n",
              "      <td>NaN</td>\n",
              "      <td>41700.000000</td>\n",
              "      <td>363.000000</td>\n",
              "      <td>NaN</td>\n",
              "      <td>NaN</td>\n",
              "      <td>NaN</td>\n",
              "      <td>144.000000</td>\n",
              "      <td>NaN</td>\n",
              "    </tr>\n",
              "  </tbody>\n",
              "</table>\n",
              "</div>"
            ],
            "text/plain": [
              "        exercise_eid            exercise_name  ... submissions_count  test_results\n",
              "count   47183.000000                    47183  ...      47183.000000         41663\n",
              "unique           NaN                       46  ...               NaN          2780\n",
              "top              NaN  Palabras, sólo palabras  ...               NaN            []\n",
              "freq             NaN                     2610  ...               NaN         15605\n",
              "mean        8.589450                      NaN  ...          6.763538           NaN\n",
              "std         4.897098                      NaN  ...         11.002089           NaN\n",
              "min         1.000000                      NaN  ...          0.000000           NaN\n",
              "25%         4.000000                      NaN  ...          0.000000           NaN\n",
              "50%         8.000000                      NaN  ...          3.000000           NaN\n",
              "75%        13.000000                      NaN  ...          8.000000           NaN\n",
              "max        19.000000                      NaN  ...        144.000000           NaN\n",
              "\n",
              "[11 rows x 13 columns]"
            ]
          },
          "metadata": {
            "tags": []
          },
          "execution_count": 79
        }
      ]
    },
    {
      "cell_type": "markdown",
      "metadata": {
        "id": "_svrayfJu8wj"
      },
      "source": [
        "De aquí podemos obtener bastante información, cantidad de registro no nulos, cantidad de valores unicos, identificar si son variables categoricas y numericas.\n",
        "Si debemo destacar que varias de las variables numericas, la mayoria son identificadores. La unica variable numerica que no es identificador es el campo `submissions_count`."
      ]
    },
    {
      "cell_type": "markdown",
      "metadata": {
        "id": "fqHH_3bBu8wj"
      },
      "source": [
        "# 2. Analizando las columnas del Dataset"
      ]
    },
    {
      "cell_type": "markdown",
      "metadata": {
        "id": "mSO8fuV1u8wj"
      },
      "source": [
        "A continuación se hace un análisis por cada columna."
      ]
    },
    {
      "cell_type": "markdown",
      "metadata": {
        "id": "OZTeCKrcu8wk"
      },
      "source": [
        "## 2.1 `exercise_eid` y `exercise_name`."
      ]
    },
    {
      "cell_type": "markdown",
      "metadata": {
        "id": "-OYCmBoou8wk"
      },
      "source": [
        "Analizamos estos dos variables en conjunto ya que deberian tener relación y determinar si en el exercise_eid se tuvo en cuenta el orden en que se encuentran los ejercicios de la cuadrícula del curso, o estaba anonimizado o randomizado."
      ]
    },
    {
      "cell_type": "code",
      "metadata": {
        "id": "FIpAXZAru8wk",
        "colab": {
          "base_uri": "https://localhost:8080/"
        },
        "outputId": "3393c415-df3e-477f-e3ac-76f01e52dcb0"
      },
      "source": [
        "print(f\"Hay {len(df_mumuki['exercise_eid'].value_counts())} valores unicos en exercise_eid, identificador de ejercicio.\")\n",
        "print(f\"Hay {len(df_mumuki['exercise_name'].value_counts())} valores unicos en exercise_name, nombre de ejercicios\")"
      ],
      "execution_count": 80,
      "outputs": [
        {
          "output_type": "stream",
          "text": [
            "Hay 19 valores unicos en exercise_eid, identificador de ejercicio.\n",
            "Hay 46 valores unicos en exercise_name, nombre de ejercicios\n"
          ],
          "name": "stdout"
        }
      ]
    },
    {
      "cell_type": "markdown",
      "metadata": {
        "id": "SE3yxhaGu8wl"
      },
      "source": [
        "Para ver esto de una manera gráfica, agrupemos, por lección, por nombre y id de ejercicio. (`guide_slug`,`exercise_eid`,`exercise_name`)"
      ]
    },
    {
      "cell_type": "code",
      "metadata": {
        "id": "i4UtP9Lcu8wl",
        "colab": {
          "base_uri": "https://localhost:8080/",
          "height": 1000
        },
        "outputId": "16f6c301-c480-4bd0-cf4c-e1b0fa9302d1"
      },
      "source": [
        "df_mumuki.groupby(['guide_slug','exercise_eid','exercise_name']).agg({'student_uid':'count'}).rename(columns={'student_uid':'cant_envios'})"
      ],
      "execution_count": 81,
      "outputs": [
        {
          "output_type": "execute_result",
          "data": {
            "text/html": [
              "<div>\n",
              "<style scoped>\n",
              "    .dataframe tbody tr th:only-of-type {\n",
              "        vertical-align: middle;\n",
              "    }\n",
              "\n",
              "    .dataframe tbody tr th {\n",
              "        vertical-align: top;\n",
              "    }\n",
              "\n",
              "    .dataframe thead th {\n",
              "        text-align: right;\n",
              "    }\n",
              "</style>\n",
              "<table border=\"1\" class=\"dataframe\">\n",
              "  <thead>\n",
              "    <tr style=\"text-align: right;\">\n",
              "      <th></th>\n",
              "      <th></th>\n",
              "      <th></th>\n",
              "      <th>cant_envios</th>\n",
              "    </tr>\n",
              "    <tr>\n",
              "      <th>guide_slug</th>\n",
              "      <th>exercise_eid</th>\n",
              "      <th>exercise_name</th>\n",
              "      <th></th>\n",
              "    </tr>\n",
              "  </thead>\n",
              "  <tbody>\n",
              "    <tr>\n",
              "      <th rowspan=\"20\" valign=\"top\">mumukiproject/mumuki-guia-python-funciones-tipos-de-datos</th>\n",
              "      <th>1</th>\n",
              "      <th>Funciones, declaración</th>\n",
              "      <td>1069</td>\n",
              "    </tr>\n",
              "    <tr>\n",
              "      <th>2</th>\n",
              "      <th>Funciones, uso</th>\n",
              "      <td>1221</td>\n",
              "    </tr>\n",
              "    <tr>\n",
              "      <th>3</th>\n",
              "      <th>Los premios</th>\n",
              "      <td>1347</td>\n",
              "    </tr>\n",
              "    <tr>\n",
              "      <th rowspan=\"2\" valign=\"top\">4</th>\n",
              "      <th>Libros de la buena memoria</th>\n",
              "      <td>892</td>\n",
              "    </tr>\n",
              "    <tr>\n",
              "      <th>¿Es par?</th>\n",
              "      <td>381</td>\n",
              "    </tr>\n",
              "    <tr>\n",
              "      <th>5</th>\n",
              "      <th>Tipos de datos</th>\n",
              "      <td>1327</td>\n",
              "    </tr>\n",
              "    <tr>\n",
              "      <th>6</th>\n",
              "      <th>Booleanos</th>\n",
              "      <td>1275</td>\n",
              "    </tr>\n",
              "    <tr>\n",
              "      <th rowspan=\"2\" valign=\"top\">7</th>\n",
              "      <th>El retorno del booleano</th>\n",
              "      <td>1307</td>\n",
              "    </tr>\n",
              "    <tr>\n",
              "      <th>Más booleanos</th>\n",
              "      <td>235</td>\n",
              "    </tr>\n",
              "    <tr>\n",
              "      <th>8</th>\n",
              "      <th>Haciendo cuentas</th>\n",
              "      <td>1909</td>\n",
              "    </tr>\n",
              "    <tr>\n",
              "      <th>9</th>\n",
              "      <th>Calefones</th>\n",
              "      <td>97</td>\n",
              "    </tr>\n",
              "    <tr>\n",
              "      <th>11</th>\n",
              "      <th>¿Y qué tal si...?</th>\n",
              "      <td>956</td>\n",
              "    </tr>\n",
              "    <tr>\n",
              "      <th>12</th>\n",
              "      <th>¿De qué signo sos?</th>\n",
              "      <td>1553</td>\n",
              "    </tr>\n",
              "    <tr>\n",
              "      <th>13</th>\n",
              "      <th>Palabras, sólo palabras</th>\n",
              "      <td>2610</td>\n",
              "    </tr>\n",
              "    <tr>\n",
              "      <th>14</th>\n",
              "      <th>Operando strings</th>\n",
              "      <td>2168</td>\n",
              "    </tr>\n",
              "    <tr>\n",
              "      <th>15</th>\n",
              "      <th>¡GRITAR!</th>\n",
              "      <td>1571</td>\n",
              "    </tr>\n",
              "    <tr>\n",
              "      <th>16</th>\n",
              "      <th>Probando funciones</th>\n",
              "      <td>881</td>\n",
              "    </tr>\n",
              "    <tr>\n",
              "      <th>17</th>\n",
              "      <th>Poniendo topes</th>\n",
              "      <td>1326</td>\n",
              "    </tr>\n",
              "    <tr>\n",
              "      <th>18</th>\n",
              "      <th>No tan distintos</th>\n",
              "      <td>505</td>\n",
              "    </tr>\n",
              "    <tr>\n",
              "      <th>19</th>\n",
              "      <th>Datos de todo tipo</th>\n",
              "      <td>1331</td>\n",
              "    </tr>\n",
              "    <tr>\n",
              "      <th rowspan=\"13\" valign=\"top\">mumukiproject/mumuki-guia-python-practica-funciones-y-tipos-de-datos</th>\n",
              "      <th>1</th>\n",
              "      <th>Comprando Hardware</th>\n",
              "      <td>827</td>\n",
              "    </tr>\n",
              "    <tr>\n",
              "      <th>2</th>\n",
              "      <th>¿Me conviene?</th>\n",
              "      <td>2066</td>\n",
              "    </tr>\n",
              "    <tr>\n",
              "      <th>3</th>\n",
              "      <th>Triangulos</th>\n",
              "      <td>690</td>\n",
              "    </tr>\n",
              "    <tr>\n",
              "      <th>4</th>\n",
              "      <th>Cuadrados</th>\n",
              "      <td>626</td>\n",
              "    </tr>\n",
              "    <tr>\n",
              "      <th>5</th>\n",
              "      <th>¿Está afinado?</th>\n",
              "      <td>626</td>\n",
              "    </tr>\n",
              "    <tr>\n",
              "      <th>6</th>\n",
              "      <th>Cartelitos</th>\n",
              "      <td>1574</td>\n",
              "    </tr>\n",
              "    <tr>\n",
              "      <th>7</th>\n",
              "      <th>Más Cartelitos</th>\n",
              "      <td>2125</td>\n",
              "    </tr>\n",
              "    <tr>\n",
              "      <th>8</th>\n",
              "      <th>Cartelitos óptimos</th>\n",
              "      <td>1597</td>\n",
              "    </tr>\n",
              "    <tr>\n",
              "      <th>9</th>\n",
              "      <th>Cara o ceca</th>\n",
              "      <td>860</td>\n",
              "    </tr>\n",
              "    <tr>\n",
              "      <th>10</th>\n",
              "      <th>¡Envido!</th>\n",
              "      <td>835</td>\n",
              "    </tr>\n",
              "    <tr>\n",
              "      <th>11</th>\n",
              "      <th>¡Quiero retruco!</th>\n",
              "      <td>1071</td>\n",
              "    </tr>\n",
              "    <tr>\n",
              "      <th>12</th>\n",
              "      <th>¡Quiero vale cuatro!</th>\n",
              "      <td>571</td>\n",
              "    </tr>\n",
              "    <tr>\n",
              "      <th>13</th>\n",
              "      <th>¿Está cerca?</th>\n",
              "      <td>1197</td>\n",
              "    </tr>\n",
              "    <tr>\n",
              "      <th rowspan=\"13\" valign=\"top\">mumukiproject/mumuki-guia-python-variables-y-procedimientos</th>\n",
              "      <th>1</th>\n",
              "      <th>¿Y el program?</th>\n",
              "      <td>234</td>\n",
              "    </tr>\n",
              "    <tr>\n",
              "      <th>2</th>\n",
              "      <th>El círculo de la vida</th>\n",
              "      <td>709</td>\n",
              "    </tr>\n",
              "    <tr>\n",
              "      <th>3</th>\n",
              "      <th>Volviéndonos ricos</th>\n",
              "      <td>1187</td>\n",
              "    </tr>\n",
              "    <tr>\n",
              "      <th>4</th>\n",
              "      <th>Variables globales</th>\n",
              "      <td>1262</td>\n",
              "    </tr>\n",
              "    <tr>\n",
              "      <th>5</th>\n",
              "      <th>¿Y los procedimientos?</th>\n",
              "      <td>236</td>\n",
              "    </tr>\n",
              "    <tr>\n",
              "      <th>6</th>\n",
              "      <th>¿Y el tablero?</th>\n",
              "      <td>504</td>\n",
              "    </tr>\n",
              "    <tr>\n",
              "      <th>9</th>\n",
              "      <th>Impresión por pantalla</th>\n",
              "      <td>509</td>\n",
              "    </tr>\n",
              "    <tr>\n",
              "      <th>10</th>\n",
              "      <th>Martin Fierro</th>\n",
              "      <td>1148</td>\n",
              "    </tr>\n",
              "    <tr>\n",
              "      <th>11</th>\n",
              "      <th>Conversiones</th>\n",
              "      <td>1513</td>\n",
              "    </tr>\n",
              "    <tr>\n",
              "      <th>12</th>\n",
              "      <th>¿Y esto cuánto vale?</th>\n",
              "      <td>512</td>\n",
              "    </tr>\n",
              "    <tr>\n",
              "      <th rowspan=\"2\" valign=\"top\">13</th>\n",
              "      <th>PIenso que así es más fácil</th>\n",
              "      <td>61</td>\n",
              "    </tr>\n",
              "    <tr>\n",
              "      <th>Pienso que así es más fácil</th>\n",
              "      <td>304</td>\n",
              "    </tr>\n",
              "    <tr>\n",
              "      <th>14</th>\n",
              "      <th>Esto no tiene valor</th>\n",
              "      <td>378</td>\n",
              "    </tr>\n",
              "  </tbody>\n",
              "</table>\n",
              "</div>"
            ],
            "text/plain": [
              "                                                                                             cant_envios\n",
              "guide_slug                                         exercise_eid exercise_name                           \n",
              "mumukiproject/mumuki-guia-python-funciones-tipo... 1            Funciones, declaración              1069\n",
              "                                                   2            Funciones, uso                      1221\n",
              "                                                   3            Los premios                         1347\n",
              "                                                   4            Libros de la buena memoria           892\n",
              "                                                                ¿Es par?                             381\n",
              "                                                   5            Tipos de datos                      1327\n",
              "                                                   6            Booleanos                           1275\n",
              "                                                   7            El retorno del booleano             1307\n",
              "                                                                Más booleanos                        235\n",
              "                                                   8            Haciendo cuentas                    1909\n",
              "                                                   9            Calefones                             97\n",
              "                                                   11           ¿Y qué tal si...?                    956\n",
              "                                                   12           ¿De qué signo sos?                  1553\n",
              "                                                   13           Palabras, sólo palabras             2610\n",
              "                                                   14           Operando strings                    2168\n",
              "                                                   15           ¡GRITAR!                            1571\n",
              "                                                   16           Probando funciones                   881\n",
              "                                                   17           Poniendo topes                      1326\n",
              "                                                   18           No tan distintos                     505\n",
              "                                                   19           Datos de todo tipo                  1331\n",
              "mumukiproject/mumuki-guia-python-practica-funci... 1            Comprando Hardware                   827\n",
              "                                                   2            ¿Me conviene?                       2066\n",
              "                                                   3            Triangulos                           690\n",
              "                                                   4            Cuadrados                            626\n",
              "                                                   5            ¿Está afinado?                       626\n",
              "                                                   6            Cartelitos                          1574\n",
              "                                                   7            Más Cartelitos                      2125\n",
              "                                                   8            Cartelitos óptimos                  1597\n",
              "                                                   9            Cara o ceca                          860\n",
              "                                                   10           ¡Envido!                             835\n",
              "                                                   11           ¡Quiero retruco!                    1071\n",
              "                                                   12           ¡Quiero vale cuatro!                 571\n",
              "                                                   13           ¿Está cerca?                        1197\n",
              "mumukiproject/mumuki-guia-python-variables-y-pr... 1            ¿Y el program?                       234\n",
              "                                                   2            El círculo de la vida                709\n",
              "                                                   3            Volviéndonos ricos                  1187\n",
              "                                                   4            Variables globales                  1262\n",
              "                                                   5            ¿Y los procedimientos?               236\n",
              "                                                   6            ¿Y el tablero?                       504\n",
              "                                                   9            Impresión por pantalla               509\n",
              "                                                   10           Martin Fierro                       1148\n",
              "                                                   11           Conversiones                        1513\n",
              "                                                   12           ¿Y esto cuánto vale?                 512\n",
              "                                                   13           PIenso que así es más fácil           61\n",
              "                                                                Pienso que así es más fácil          304\n",
              "                                                   14           Esto no tiene valor                  378"
            ]
          },
          "metadata": {
            "tags": []
          },
          "execution_count": 81
        }
      ]
    },
    {
      "cell_type": "markdown",
      "metadata": {
        "id": "aexso03Wu8wl"
      },
      "source": [
        "Podemos ver que `exercise_eid` no esta ordenada, ni sigue ninguna secuencia ya que se saltean números, por ejemplo en la lección `python-funciones-tipos-de-datos` se saltea el número 10 y en la lección `variables-y-procedimientos` se saltea el 7 y el 8.\n",
        "\n",
        "Si lo comparamos con el orden de los ejercicios en la web de Mumuki - https://mumuki.io/mentoria-diplodatos/ - `exercise_eid` no se corresponde con el orden dentro de la planilla de ejercicios.\n",
        "\n",
        "Debido a ésto, no nos será de mucha ayuda como variable para entender mejor el dataset.\n",
        "\n",
        "También nos dimos cuenta que habían diferentes ejercicios con id iguales. Por ejemplo la lección `mumuki-guia-python-funciones-tipos-de-datos` tenemos dos `exercise_name` con el mismo `exercise_eid`. \n",
        "Y que el `exercise_name` = `Pienso que así es más fácil` esta escrito de dos forma distinta. \n",
        "\n",
        "Ésto esta análizado con más detalle en la notebook https://github.com/laraccano84/Mentoria_mumuki/blob/main/DiploDatos_Mentoria_Mumiki_G2/00_Cambio_de_nombres_de_ejercicios.ipynb .\n"
      ]
    },
    {
      "cell_type": "code",
      "metadata": {
        "id": "fX3JIZDhu8wm",
        "colab": {
          "base_uri": "https://localhost:8080/",
          "height": 839
        },
        "outputId": "3ddb9d3b-e4e4-4dbe-f47d-df7f984a39d2"
      },
      "source": [
        "matplotlib.pyplot.figure(figsize = [15, 10] , dpi = None , facecolor = \"wheat\" , edgecolor = None , frameon = True  , clear = False )\n",
        "ax= seaborn.barplot(y=df_mumuki['exercise_name'].value_counts(), x=df_mumuki['exercise_name'].value_counts().index, data=df_mumuki)\n",
        "ax.set_xticklabels(ax.get_xticklabels(), rotation=90);\n",
        "\n",
        "ax.set_ylabel('cant. envios')\n",
        "ax.set_ylabel('exercise_name')\n",
        "ax.set_title('Cantidad de envios por ejercicio', fontsize=20)\n",
        "plt.show()"
      ],
      "execution_count": 82,
      "outputs": [
        {
          "output_type": "display_data",
          "data": {
            "image/png": "[encoded data removed]",
            "text/plain": [
              "<Figure size 1080x720 with 1 Axes>"
            ]
          },
          "metadata": {
            "tags": []
          }
        }
      ]
    },
    {
      "cell_type": "markdown",
      "metadata": {
        "id": "KMM4AodAu8wm"
      },
      "source": [
        "Este gráfico fue ordenado de acuerdo a la cantidad de ejercicio, para conocer cual es el ejercicio con más y menos envios. "
      ]
    },
    {
      "cell_type": "markdown",
      "metadata": {
        "id": "XystKwEhvz-z"
      },
      "source": [
        "### 2.1.1 Creacion columna 'exercise_id' que represente el orden de los ejercicios\n",
        "\n"
      ]
    },
    {
      "cell_type": "markdown",
      "metadata": {
        "id": "mH9ER1CdwQV3"
      },
      "source": [
        "Actualmente, exercise_eid no representa el orden de los ejercicios, sino mas bien se usa para identificarlos\n",
        "\n",
        "En proximos analisis, sería de ayuda tener una columna que represente en que parte del curso se encuentra ese ejercicio enviado\n",
        "\n",
        "Para evitar confusiones, y viendo que exercise_id no generará nueva informacion, se decide sacarla"
      ]
    },
    {
      "cell_type": "code",
      "metadata": {
        "id": "FiIPGoMCxsAF"
      },
      "source": [
        "#traemos csv con  los nuevos nombres\n",
        "url_new_names='https://raw.githubusercontent.com/laraccano84/Mentoria_mumuki/main/DiploDatos_Mentoria_Mumiki_G2/dataset_mumuki_new_exercises_names.csv'\n",
        "df_mumuki_new_names=pd.read_csv(url_new_names)"
      ],
      "execution_count": 83,
      "outputs": []
    },
    {
      "cell_type": "code",
      "metadata": {
        "id": "gNi_62G8wu3i"
      },
      "source": [
        "df_mumuki_new_names=df_mumuki_new_names.drop(columns=['Unnamed: 0','exercise_eid'])"
      ],
      "execution_count": 84,
      "outputs": []
    },
    {
      "cell_type": "code",
      "metadata": {
        "id": "eFn2v6mCw1s3"
      },
      "source": [
        "#urls a las que haremos la petición\n",
        "url_lesson_1 = 'https://bibliotheca-api.mumuki.io/guides/mumukiproject/mumuki-guia-python-funciones-tipos-de-datos'\n",
        "url_lesson_2 = 'https://bibliotheca-api.mumuki.io/guides/mumukiproject/mumuki-guia-python-practica-funciones-y-tipos-de-datos'\n",
        "url_lesson_3 = 'https://bibliotheca-api.mumuki.io/guides/mumukiproject/mumuki-guia-python-variables-y-procedimientos'\n",
        "\n",
        "#hacemos get request y guardamos en una variable\n",
        "data_lesson_1 = requests.get(url_lesson_1)\n",
        "data_lesson_2 = requests.get(url_lesson_2)\n",
        "data_lesson_3 = requests.get(url_lesson_3)\n",
        "\n",
        "#transformamos a json para poder manipularla\n",
        "available_data_lesson_1 = data_lesson_1.json()\n",
        "available_data_lesson_2 = data_lesson_2.json()\n",
        "available_data_lesson_3 = data_lesson_3.json()\n",
        "\n",
        "#esta request nos brinda muchisima información\n",
        "#pero solo queremos el indice y el nombre\n",
        "#guardamos en un array, para cada leccion, el indice y nombre del json de ejercicios pedido\n",
        "exercises_lesson_1=[ {\"index\":ind, \"name\":elem['name']} for ind,elem in enumerate(available_data_lesson_1['exercises'])]\n",
        "exercises_lesson_2=[ {\"index\":ind, \"name\":elem['name']} for ind,elem in enumerate(available_data_lesson_2['exercises'])]\n",
        "exercises_lesson_3=[ {\"index\":ind, \"name\":elem['name']} for ind,elem in enumerate(available_data_lesson_3['exercises'])]"
      ],
      "execution_count": 85,
      "outputs": []
    },
    {
      "cell_type": "code",
      "metadata": {
        "colab": {
          "base_uri": "https://localhost:8080/"
        },
        "id": "4jQthgOQxcRV",
        "outputId": "5181e847-8637-4e23-d1f9-b9d24dd79ee0"
      },
      "source": [
        "exercises_lesson_1"
      ],
      "execution_count": 60,
      "outputs": [
        {
          "output_type": "execute_result",
          "data": {
            "text/plain": [
              "[{'index': 0, 'name': 'No tan distintos'},\n",
              " {'index': 1, 'name': 'Funciones, declaración'},\n",
              " {'index': 2, 'name': 'Funciones, uso'},\n",
              " {'index': 3, 'name': 'Probando funciones'},\n",
              " {'index': 4, 'name': 'Haciendo cuentas'},\n",
              " {'index': 5, 'name': 'Poniendo topes'},\n",
              " {'index': 6, 'name': 'Libros de la buena memoria'},\n",
              " {'index': 7, 'name': 'Booleanos'},\n",
              " {'index': 8, 'name': 'Palabras, sólo palabras'},\n",
              " {'index': 9, 'name': 'Operando strings'},\n",
              " {'index': 10, 'name': '¡GRITAR!'},\n",
              " {'index': 11, 'name': '¿Y qué tal si...?'},\n",
              " {'index': 12, 'name': '¿De qué signo sos?'},\n",
              " {'index': 13, 'name': 'El retorno del booleano'},\n",
              " {'index': 14, 'name': 'Los premios'},\n",
              " {'index': 15, 'name': 'Tipos de datos'},\n",
              " {'index': 16, 'name': 'Datos de todo tipo'}]"
            ]
          },
          "metadata": {
            "tags": []
          },
          "execution_count": 60
        }
      ]
    },
    {
      "cell_type": "markdown",
      "metadata": {
        "id": "mOAQwX-Xxijw"
      },
      "source": [
        "En el punto anterior habiamos reemplazado \n",
        "\n",
        "* Funciones, declaración por Funciones, declaración / No tan distintos. \n",
        "* Tipos de datos Y Datos de todo tipo por 'Tipos de datos / Datos de todo tipo'\n",
        "* Poniendo topes por Calefones / Poniendo topes\n",
        "\n",
        "\n",
        "\n",
        "Lo hacemos ahora en nuestro array construido que usaremos como guía"
      ]
    },
    {
      "cell_type": "code",
      "metadata": {
        "colab": {
          "base_uri": "https://localhost:8080/"
        },
        "id": "-LyqZJDqyPRk",
        "outputId": "27e9ae63-0860-43a1-d017-60b4e3c85bdb"
      },
      "source": [
        "exercises_lesson_1[0]['name']='Funciones, declaración / No tan distintos'\n",
        "exercises_lesson_1[1]['name']='Funciones, declaración / No tan distintos'\n",
        "exercises_lesson_1[15]['name']='Tipos de datos / Datos de todo tipo'\n",
        "exercises_lesson_1[5]['name']='Calefones / Poniendo topes'\n",
        "exercises_lesson_1.pop()\n",
        "exercises_lesson_1.pop(0)\n",
        "\n",
        "exercises_lesson_1"
      ],
      "execution_count": 86,
      "outputs": [
        {
          "output_type": "execute_result",
          "data": {
            "text/plain": [
              "[{'index': 1, 'name': 'Funciones, declaración / No tan distintos'},\n",
              " {'index': 2, 'name': 'Funciones, uso'},\n",
              " {'index': 3, 'name': 'Probando funciones'},\n",
              " {'index': 4, 'name': 'Haciendo cuentas'},\n",
              " {'index': 5, 'name': 'Calefones / Poniendo topes'},\n",
              " {'index': 6, 'name': 'Libros de la buena memoria'},\n",
              " {'index': 7, 'name': 'Booleanos'},\n",
              " {'index': 8, 'name': 'Palabras, sólo palabras'},\n",
              " {'index': 9, 'name': 'Operando strings'},\n",
              " {'index': 10, 'name': '¡GRITAR!'},\n",
              " {'index': 11, 'name': '¿Y qué tal si...?'},\n",
              " {'index': 12, 'name': '¿De qué signo sos?'},\n",
              " {'index': 13, 'name': 'El retorno del booleano'},\n",
              " {'index': 14, 'name': 'Los premios'},\n",
              " {'index': 15, 'name': 'Tipos de datos / Datos de todo tipo'}]"
            ]
          },
          "metadata": {
            "tags": []
          },
          "execution_count": 86
        }
      ]
    },
    {
      "cell_type": "code",
      "metadata": {
        "colab": {
          "base_uri": "https://localhost:8080/"
        },
        "id": "guQZyzAxyTU-",
        "outputId": "1532dadf-3887-4990-d1e6-137e7088479f"
      },
      "source": [
        "exercises_lesson_2"
      ],
      "execution_count": 65,
      "outputs": [
        {
          "output_type": "execute_result",
          "data": {
            "text/plain": [
              "[{'index': 0, 'name': 'Comprando Hardware'},\n",
              " {'index': 1, 'name': '¿Me conviene?'},\n",
              " {'index': 2, 'name': 'Triangulos'},\n",
              " {'index': 3, 'name': 'Cuadrados'},\n",
              " {'index': 4, 'name': '¿Está afinado?'},\n",
              " {'index': 5, 'name': '¿Está cerca?'},\n",
              " {'index': 6, 'name': 'Cartelitos'},\n",
              " {'index': 7, 'name': 'Más Cartelitos'},\n",
              " {'index': 8, 'name': 'Cartelitos óptimos'},\n",
              " {'index': 9, 'name': 'Cara o ceca'},\n",
              " {'index': 10, 'name': '¡Envido!'},\n",
              " {'index': 11, 'name': '¡Quiero retruco!'},\n",
              " {'index': 12, 'name': '¡Quiero vale cuatro!'}]"
            ]
          },
          "metadata": {
            "tags": []
          },
          "execution_count": 65
        }
      ]
    },
    {
      "cell_type": "code",
      "metadata": {
        "colab": {
          "base_uri": "https://localhost:8080/"
        },
        "id": "vTw_Hg97yVeJ",
        "outputId": "50776675-f93a-4ca8-df4c-dea83a3b99ea"
      },
      "source": [
        "exercises_lesson_3"
      ],
      "execution_count": 66,
      "outputs": [
        {
          "output_type": "execute_result",
          "data": {
            "text/plain": [
              "[{'index': 0, 'name': '¿Y el tablero?'},\n",
              " {'index': 1, 'name': 'Impresión por pantalla'},\n",
              " {'index': 2, 'name': 'Martin Fierro'},\n",
              " {'index': 3, 'name': '¿Y los procedimientos?'},\n",
              " {'index': 4, 'name': '¿Y el program?'},\n",
              " {'index': 5, 'name': 'Conversiones'},\n",
              " {'index': 6, 'name': 'El círculo de la vida'},\n",
              " {'index': 7, 'name': 'Pienso que así es más fácil'},\n",
              " {'index': 8, 'name': 'Esto no tiene valor'},\n",
              " {'index': 9, 'name': 'Variables globales'},\n",
              " {'index': 10, 'name': 'Volviéndonos ricos'},\n",
              " {'index': 11, 'name': '¿Y esto cuánto vale?'}]"
            ]
          },
          "metadata": {
            "tags": []
          },
          "execution_count": 66
        }
      ]
    },
    {
      "cell_type": "markdown",
      "metadata": {
        "id": "xWkFHskayZ55"
      },
      "source": [
        "Ahora generaremos columnas auxiliares para ayudarnos a calcular el orden según la lección del ejercicio"
      ]
    },
    {
      "cell_type": "code",
      "metadata": {
        "id": "-NCC9Vj4yWgB"
      },
      "source": [
        "#funcion que toma el guide_slug y devuelve un int que representa el nro de leccion\n",
        "def set_lesson(repo):\n",
        "    if repo=='mumukiproject/mumuki-guia-python-funciones-tipos-de-datos':\n",
        "    # es repo_y_ejercicios[0]\n",
        "      return 1\n",
        "    elif repo == 'mumukiproject/mumuki-guia-python-practica-funciones-y-tipos-de-datos':\n",
        "      return 2\n",
        "    elif repo == 'mumukiproject/mumuki-guia-python-variables-y-procedimientos':\n",
        "      return 3\n",
        "    else:\n",
        "      return {'Exercise not found'}"
      ],
      "execution_count": 87,
      "outputs": []
    },
    {
      "cell_type": "code",
      "metadata": {
        "colab": {
          "base_uri": "https://localhost:8080/",
          "height": 504
        },
        "id": "CO1tov83yue6",
        "outputId": "86a06cda-8fd9-4ec0-c82d-7a8613f8739a"
      },
      "source": [
        "#creacion de la columna auxiliar\n",
        "df_mumuki_new_names['lesson_number']=df_mumuki_new_names.apply(lambda x: set_lesson( x.guide_slug), axis=1)\n",
        "df_mumuki_new_names.sample(5)"
      ],
      "execution_count": 88,
      "outputs": [
        {
          "output_type": "execute_result",
          "data": {
            "text/html": [
              "<div>\n",
              "<style scoped>\n",
              "    .dataframe tbody tr th:only-of-type {\n",
              "        vertical-align: middle;\n",
              "    }\n",
              "\n",
              "    .dataframe tbody tr th {\n",
              "        vertical-align: top;\n",
              "    }\n",
              "\n",
              "    .dataframe thead th {\n",
              "        text-align: right;\n",
              "    }\n",
              "</style>\n",
              "<table border=\"1\" class=\"dataframe\">\n",
              "  <thead>\n",
              "    <tr style=\"text-align: right;\">\n",
              "      <th></th>\n",
              "      <th>exercise_name</th>\n",
              "      <th>expectation_results</th>\n",
              "      <th>feedback</th>\n",
              "      <th>guide_slug</th>\n",
              "      <th>result</th>\n",
              "      <th>sid</th>\n",
              "      <th>student_uid</th>\n",
              "      <th>submission_content</th>\n",
              "      <th>submission_created_at</th>\n",
              "      <th>submission_status</th>\n",
              "      <th>submissions_count</th>\n",
              "      <th>test_results</th>\n",
              "      <th>date</th>\n",
              "      <th>lesson_number</th>\n",
              "    </tr>\n",
              "  </thead>\n",
              "  <tbody>\n",
              "    <tr>\n",
              "      <th>1794</th>\n",
              "      <td>Funciones, uso</td>\n",
              "      <td>[{'binding': 'anterior_del_triple', 'inspectio...</td>\n",
              "      <td>NaN</td>\n",
              "      <td>mumukiproject/mumuki-guia-python-funciones-tip...</td>\n",
              "      <td>NaN</td>\n",
              "      <td>1794</td>\n",
              "      <td>254</td>\n",
              "      <td>def anterior(numero):\\r\\n  return (numero) - 1...</td>\n",
              "      <td>2020-09-02 10:10:53.360</td>\n",
              "      <td>passed</td>\n",
              "      <td>0</td>\n",
              "      <td>[{'title': 'Anterior1 es 0', 'status': 'passed...</td>\n",
              "      <td>2020-09-02</td>\n",
              "      <td>1</td>\n",
              "    </tr>\n",
              "    <tr>\n",
              "      <th>43399</th>\n",
              "      <td>Martin Fierro</td>\n",
              "      <td>[]</td>\n",
              "      <td>NaN</td>\n",
              "      <td>mumukiproject/mumuki-guia-python-variables-y-p...</td>\n",
              "      <td>File \"solucion.py\", line 24\\n    def versos_...</td>\n",
              "      <td>38293</td>\n",
              "      <td>144</td>\n",
              "      <td>def versos_martin_fierro(print):\\r\\n  return \"...</td>\n",
              "      <td>2019-11-06 20:42:54.221</td>\n",
              "      <td>errored</td>\n",
              "      <td>2</td>\n",
              "      <td>[]</td>\n",
              "      <td>2019-11-06</td>\n",
              "      <td>3</td>\n",
              "    </tr>\n",
              "    <tr>\n",
              "      <th>14382</th>\n",
              "      <td>Palabras, sólo palabras</td>\n",
              "      <td>[]</td>\n",
              "      <td>NaN</td>\n",
              "      <td>mumukiproject/mumuki-guia-python-funciones-tip...</td>\n",
              "      <td>File \"solucion.py\", line 8\\n    def es_fin_d...</td>\n",
              "      <td>11147</td>\n",
              "      <td>151</td>\n",
              "      <td>def es_fin_de_semana(día_de_semana):\\r\\n  retu...</td>\n",
              "      <td>2020-05-14 23:20:14.924</td>\n",
              "      <td>errored</td>\n",
              "      <td>4</td>\n",
              "      <td>[]</td>\n",
              "      <td>2020-05-14</td>\n",
              "      <td>1</td>\n",
              "    </tr>\n",
              "    <tr>\n",
              "      <th>13840</th>\n",
              "      <td>Palabras, sólo palabras</td>\n",
              "      <td>[{'binding': '*', 'inspection': 'DeclaresCompu...</td>\n",
              "      <td>NaN</td>\n",
              "      <td>mumukiproject/mumuki-guia-python-funciones-tip...</td>\n",
              "      <td>NaN</td>\n",
              "      <td>10605</td>\n",
              "      <td>124</td>\n",
              "      <td>def es_fin_de_semana(dia):\\r\\n   return dia==\"...</td>\n",
              "      <td>2019-09-26 13:20:52.315</td>\n",
              "      <td>passed</td>\n",
              "      <td>2</td>\n",
              "      <td>[{'title': 'El domingo es fin de semana', 'sta...</td>\n",
              "      <td>2019-09-26</td>\n",
              "      <td>1</td>\n",
              "    </tr>\n",
              "    <tr>\n",
              "      <th>37446</th>\n",
              "      <td>¿Está cerca?</td>\n",
              "      <td>[{'binding': 'esta_cerca', 'inspection': 'HasR...</td>\n",
              "      <td>NaN</td>\n",
              "      <td>mumukiproject/mumuki-guia-python-practica-func...</td>\n",
              "      <td>NaN</td>\n",
              "      <td>33346</td>\n",
              "      <td>76</td>\n",
              "      <td>def esta_cerca(frec):\\r\\n  if frec &gt; 436 and f...</td>\n",
              "      <td>2019-09-30 13:03:33.477</td>\n",
              "      <td>passed_with_warnings</td>\n",
              "      <td>3</td>\n",
              "      <td>[{'title': 'No esta cerca 420', 'status': 'pas...</td>\n",
              "      <td>2019-09-30</td>\n",
              "      <td>2</td>\n",
              "    </tr>\n",
              "  </tbody>\n",
              "</table>\n",
              "</div>"
            ],
            "text/plain": [
              "                 exercise_name  ... lesson_number\n",
              "1794            Funciones, uso  ...             1\n",
              "43399            Martin Fierro  ...             3\n",
              "14382  Palabras, sólo palabras  ...             1\n",
              "13840  Palabras, sólo palabras  ...             1\n",
              "37446             ¿Está cerca?  ...             2\n",
              "\n",
              "[5 rows x 14 columns]"
            ]
          },
          "metadata": {
            "tags": []
          },
          "execution_count": 88
        }
      ]
    },
    {
      "cell_type": "code",
      "metadata": {
        "id": "B4mulBwQzMh6"
      },
      "source": [
        "#funcion que de define el index del ejercicio dentro de la lección\n",
        "def set_exercise_index_per_lesson(row):\n",
        "  if row['guide_slug']=='mumukiproject/mumuki-guia-python-funciones-tipos-de-datos':\n",
        "    for x in exercises_lesson_1:\n",
        "      if x['name']==row['exercise_name']:\n",
        "        return math.floor(x['index'])\n",
        "  elif row['guide_slug']=='mumukiproject/mumuki-guia-python-practica-funciones-y-tipos-de-datos':\n",
        "    for x in exercises_lesson_2:\n",
        "      if x['name']==row['exercise_name']:\n",
        "        return  math.floor(x['index'])\n",
        "  elif row['guide_slug']=='mumukiproject/mumuki-guia-python-variables-y-procedimientos':\n",
        "    for x in exercises_lesson_3:\n",
        "      if x['name']==row['exercise_name']:\n",
        "        return math.floor(x['index'])\n",
        "  else:\n",
        "    return 0"
      ],
      "execution_count": 90,
      "outputs": []
    },
    {
      "cell_type": "code",
      "metadata": {
        "colab": {
          "base_uri": "https://localhost:8080/",
          "height": 469
        },
        "id": "tjUSGnQYzYfY",
        "outputId": "e5e3ebdd-d77c-4f44-dc50-bbb277566956"
      },
      "source": [
        "df_mumuki_new_names['exercise_index_per_lesson']=df_mumuki_new_names.apply(lambda x: set_exercise_index_per_lesson(x), axis=1)\n",
        "df_mumuki_new_names.sample(5)"
      ],
      "execution_count": 91,
      "outputs": [
        {
          "output_type": "execute_result",
          "data": {
            "text/html": [
              "<div>\n",
              "<style scoped>\n",
              "    .dataframe tbody tr th:only-of-type {\n",
              "        vertical-align: middle;\n",
              "    }\n",
              "\n",
              "    .dataframe tbody tr th {\n",
              "        vertical-align: top;\n",
              "    }\n",
              "\n",
              "    .dataframe thead th {\n",
              "        text-align: right;\n",
              "    }\n",
              "</style>\n",
              "<table border=\"1\" class=\"dataframe\">\n",
              "  <thead>\n",
              "    <tr style=\"text-align: right;\">\n",
              "      <th></th>\n",
              "      <th>exercise_name</th>\n",
              "      <th>expectation_results</th>\n",
              "      <th>feedback</th>\n",
              "      <th>guide_slug</th>\n",
              "      <th>result</th>\n",
              "      <th>sid</th>\n",
              "      <th>student_uid</th>\n",
              "      <th>submission_content</th>\n",
              "      <th>submission_created_at</th>\n",
              "      <th>submission_status</th>\n",
              "      <th>submissions_count</th>\n",
              "      <th>test_results</th>\n",
              "      <th>date</th>\n",
              "      <th>lesson_number</th>\n",
              "      <th>exercise_index_per_lesson</th>\n",
              "    </tr>\n",
              "  </thead>\n",
              "  <tbody>\n",
              "    <tr>\n",
              "      <th>17213</th>\n",
              "      <td>Operando strings</td>\n",
              "      <td>[{'binding': '*', 'inspection': 'Not:Uses:star...</td>\n",
              "      <td>NaN</td>\n",
              "      <td>mumukiproject/mumuki-guia-python-funciones-tip...</td>\n",
              "      <td>NaN</td>\n",
              "      <td>13979</td>\n",
              "      <td>209</td>\n",
              "      <td>def longitud_nombre_completo (nombre, apellido...</td>\n",
              "      <td>2020-05-25 03:47:51.026</td>\n",
              "      <td>failed</td>\n",
              "      <td>14</td>\n",
              "      <td>[{'title': 'No falta contemplar el espacio', '...</td>\n",
              "      <td>2020-05-25</td>\n",
              "      <td>1</td>\n",
              "      <td>9</td>\n",
              "    </tr>\n",
              "    <tr>\n",
              "      <th>5968</th>\n",
              "      <td>Tipos de datos / Datos de todo tipo</td>\n",
              "      <td>[]</td>\n",
              "      <td>NaN</td>\n",
              "      <td>mumukiproject/mumuki-guia-python-funciones-tip...</td>\n",
              "      <td>NaN</td>\n",
              "      <td>-1</td>\n",
              "      <td>272</td>\n",
              "      <td>NaN</td>\n",
              "      <td>2020-09-12 21:55:49.648</td>\n",
              "      <td>passed</td>\n",
              "      <td>0</td>\n",
              "      <td>NaN</td>\n",
              "      <td>2020-09-12</td>\n",
              "      <td>1</td>\n",
              "      <td>15</td>\n",
              "    </tr>\n",
              "    <tr>\n",
              "      <th>19141</th>\n",
              "      <td>¡GRITAR!</td>\n",
              "      <td>[{'binding': '*', 'inspection': 'Declares:grit...</td>\n",
              "      <td>NaN</td>\n",
              "      <td>mumukiproject/mumuki-guia-python-funciones-tip...</td>\n",
              "      <td>NaN</td>\n",
              "      <td>15914</td>\n",
              "      <td>248</td>\n",
              "      <td>def gritar (string):\\r\\n  return (str.upper(st...</td>\n",
              "      <td>2020-07-13 22:57:45.903</td>\n",
              "      <td>failed</td>\n",
              "      <td>0</td>\n",
              "      <td>[{'title': 'Gritar gritar ', 'status': 'failed...</td>\n",
              "      <td>2020-07-13</td>\n",
              "      <td>1</td>\n",
              "      <td>10</td>\n",
              "    </tr>\n",
              "    <tr>\n",
              "      <th>6335</th>\n",
              "      <td>Booleanos</td>\n",
              "      <td>[{'binding': '*', 'inspection': 'Declares:=est...</td>\n",
              "      <td>NaN</td>\n",
              "      <td>mumukiproject/mumuki-guia-python-funciones-tip...</td>\n",
              "      <td>NaN</td>\n",
              "      <td>5008</td>\n",
              "      <td>102</td>\n",
              "      <td>def esta_entre (numero, numero1, numero2):\\r\\n...</td>\n",
              "      <td>2019-09-25 13:00:32.416</td>\n",
              "      <td>failed</td>\n",
              "      <td>2</td>\n",
              "      <td>[{'title': 'Esta entre 2 0 100 es true', 'stat...</td>\n",
              "      <td>2019-09-25</td>\n",
              "      <td>1</td>\n",
              "      <td>7</td>\n",
              "    </tr>\n",
              "    <tr>\n",
              "      <th>18364</th>\n",
              "      <td>¡GRITAR!</td>\n",
              "      <td>[]</td>\n",
              "      <td>NaN</td>\n",
              "      <td>mumukiproject/mumuki-guia-python-funciones-tip...</td>\n",
              "      <td>File \"solucion.py\", line 9\\n    return (str....</td>\n",
              "      <td>15135</td>\n",
              "      <td>82</td>\n",
              "      <td>def gritar (string):\\r\\n  return (str.upper \"¡...</td>\n",
              "      <td>2019-09-23 13:39:40.860</td>\n",
              "      <td>errored</td>\n",
              "      <td>12</td>\n",
              "      <td>[]</td>\n",
              "      <td>2019-09-23</td>\n",
              "      <td>1</td>\n",
              "      <td>10</td>\n",
              "    </tr>\n",
              "  </tbody>\n",
              "</table>\n",
              "</div>"
            ],
            "text/plain": [
              "                             exercise_name  ... exercise_index_per_lesson\n",
              "17213                     Operando strings  ...                         9\n",
              "5968   Tipos de datos / Datos de todo tipo  ...                        15\n",
              "19141                             ¡GRITAR!  ...                        10\n",
              "6335                             Booleanos  ...                         7\n",
              "18364                             ¡GRITAR!  ...                        10\n",
              "\n",
              "[5 rows x 15 columns]"
            ]
          },
          "metadata": {
            "tags": []
          },
          "execution_count": 91
        }
      ]
    },
    {
      "cell_type": "code",
      "metadata": {
        "id": "99Sm8MQSzjWC"
      },
      "source": [
        "#funcion que, tomando las columnas auxiliares, calcula el indice del ejercicio gral total\n",
        "def set_excercise_id(index_per_lesson,lesson_number):\n",
        "  if lesson_number==3:\n",
        "    return index_per_lesson+len(exercises_lesson_1)+len(exercises_lesson_2)+1\n",
        "  elif lesson_number==2:\n",
        "    return index_per_lesson+ len(exercises_lesson_1)+1\n",
        "  else:\n",
        "    return index_per_lesson"
      ],
      "execution_count": 92,
      "outputs": []
    },
    {
      "cell_type": "code",
      "metadata": {
        "colab": {
          "base_uri": "https://localhost:8080/",
          "height": 487
        },
        "id": "wVkZfUXqzv19",
        "outputId": "62fe7fe6-dbde-40a7-ab32-2abf71e10227"
      },
      "source": [
        "df_mumuki_new_names['exercise_id']=df_mumuki_new_names.apply(lambda x: set_excercise_id(x.exercise_index_per_lesson,x.lesson_number), axis=1)\n",
        "df_mumuki_new_names.sample(5)"
      ],
      "execution_count": 96,
      "outputs": [
        {
          "output_type": "execute_result",
          "data": {
            "text/html": [
              "<div>\n",
              "<style scoped>\n",
              "    .dataframe tbody tr th:only-of-type {\n",
              "        vertical-align: middle;\n",
              "    }\n",
              "\n",
              "    .dataframe tbody tr th {\n",
              "        vertical-align: top;\n",
              "    }\n",
              "\n",
              "    .dataframe thead th {\n",
              "        text-align: right;\n",
              "    }\n",
              "</style>\n",
              "<table border=\"1\" class=\"dataframe\">\n",
              "  <thead>\n",
              "    <tr style=\"text-align: right;\">\n",
              "      <th></th>\n",
              "      <th>exercise_name</th>\n",
              "      <th>expectation_results</th>\n",
              "      <th>feedback</th>\n",
              "      <th>guide_slug</th>\n",
              "      <th>result</th>\n",
              "      <th>sid</th>\n",
              "      <th>student_uid</th>\n",
              "      <th>submission_content</th>\n",
              "      <th>submission_created_at</th>\n",
              "      <th>submission_status</th>\n",
              "      <th>submissions_count</th>\n",
              "      <th>test_results</th>\n",
              "      <th>date</th>\n",
              "      <th>lesson_number</th>\n",
              "      <th>exercise_index_per_lesson</th>\n",
              "      <th>exercise_id</th>\n",
              "    </tr>\n",
              "  </thead>\n",
              "  <tbody>\n",
              "    <tr>\n",
              "      <th>43796</th>\n",
              "      <td>Martin Fierro</td>\n",
              "      <td>[]</td>\n",
              "      <td>NaN</td>\n",
              "      <td>mumukiproject/mumuki-guia-python-variables-y-p...</td>\n",
              "      <td>File \"solucion.py\", line 24\\n    def versos_...</td>\n",
              "      <td>38690</td>\n",
              "      <td>201</td>\n",
              "      <td>def versos_martin_fierro(primeros versos): \\r\\...</td>\n",
              "      <td>2020-06-08 22:10:50.808</td>\n",
              "      <td>errored</td>\n",
              "      <td>5</td>\n",
              "      <td>[]</td>\n",
              "      <td>2020-06-08</td>\n",
              "      <td>3</td>\n",
              "      <td>2</td>\n",
              "      <td>31</td>\n",
              "    </tr>\n",
              "    <tr>\n",
              "      <th>39786</th>\n",
              "      <td>Volviéndonos ricos</td>\n",
              "      <td>[]</td>\n",
              "      <td>NaN</td>\n",
              "      <td>mumukiproject/mumuki-guia-python-variables-y-p...</td>\n",
              "      <td>File \"solucion.py\", line 29\\n    global peso...</td>\n",
              "      <td>35686</td>\n",
              "      <td>148</td>\n",
              "      <td>def aumentar_fortuna():\\r\\n  global pesos_en_m...</td>\n",
              "      <td>2020-05-23 02:54:29.606</td>\n",
              "      <td>errored</td>\n",
              "      <td>9</td>\n",
              "      <td>[]</td>\n",
              "      <td>2020-05-23</td>\n",
              "      <td>3</td>\n",
              "      <td>10</td>\n",
              "      <td>39</td>\n",
              "    </tr>\n",
              "    <tr>\n",
              "      <th>12709</th>\n",
              "      <td>¿De qué signo sos?</td>\n",
              "      <td>[{'binding': '*', 'inspection': 'Declares:sign...</td>\n",
              "      <td>NaN</td>\n",
              "      <td>mumukiproject/mumuki-guia-python-funciones-tip...</td>\n",
              "      <td>NaN</td>\n",
              "      <td>9474</td>\n",
              "      <td>214</td>\n",
              "      <td>def signo(numero):\\r\\n  if numero &gt; 0:\\r\\n    ...</td>\n",
              "      <td>2020-05-23 22:45:02.167</td>\n",
              "      <td>failed</td>\n",
              "      <td>9</td>\n",
              "      <td>[{'title': 'Signo 10 es 1', 'status': 'passed'...</td>\n",
              "      <td>2020-05-23</td>\n",
              "      <td>1</td>\n",
              "      <td>12</td>\n",
              "      <td>12</td>\n",
              "    </tr>\n",
              "    <tr>\n",
              "      <th>1338</th>\n",
              "      <td>Funciones, uso</td>\n",
              "      <td>[]</td>\n",
              "      <td>NaN</td>\n",
              "      <td>mumukiproject/mumuki-guia-python-funciones-tip...</td>\n",
              "      <td>File \"solucion.py\", line 12\\n    def anterio...</td>\n",
              "      <td>1338</td>\n",
              "      <td>157</td>\n",
              "      <td>def anterior(numero):\\r\\n  return numero - 1\\r...</td>\n",
              "      <td>2020-05-09 19:34:14.335</td>\n",
              "      <td>errored</td>\n",
              "      <td>2</td>\n",
              "      <td>[]</td>\n",
              "      <td>2020-05-09</td>\n",
              "      <td>1</td>\n",
              "      <td>2</td>\n",
              "      <td>2</td>\n",
              "    </tr>\n",
              "    <tr>\n",
              "      <th>36081</th>\n",
              "      <td>¡Quiero retruco!</td>\n",
              "      <td>[]</td>\n",
              "      <td>NaN</td>\n",
              "      <td>mumukiproject/mumuki-guia-python-practica-func...</td>\n",
              "      <td>File \"solucion.py\", line 19\\n    if valor1 &gt;...</td>\n",
              "      <td>31981</td>\n",
              "      <td>162</td>\n",
              "      <td>def puntos_de_envido_totales(valor1, palo1, va...</td>\n",
              "      <td>2020-05-20 00:26:46.725</td>\n",
              "      <td>errored</td>\n",
              "      <td>11</td>\n",
              "      <td>[]</td>\n",
              "      <td>2020-05-20</td>\n",
              "      <td>2</td>\n",
              "      <td>11</td>\n",
              "      <td>27</td>\n",
              "    </tr>\n",
              "  </tbody>\n",
              "</table>\n",
              "</div>"
            ],
            "text/plain": [
              "            exercise_name  ... exercise_id\n",
              "43796       Martin Fierro  ...          31\n",
              "39786  Volviéndonos ricos  ...          39\n",
              "12709  ¿De qué signo sos?  ...          12\n",
              "1338       Funciones, uso  ...           2\n",
              "36081    ¡Quiero retruco!  ...          27\n",
              "\n",
              "[5 rows x 16 columns]"
            ]
          },
          "metadata": {
            "tags": []
          },
          "execution_count": 96
        }
      ]
    },
    {
      "cell_type": "markdown",
      "metadata": {
        "id": "f8S5HvNY0BYZ"
      },
      "source": [
        "Vemos como quedó entonces en la siguiente tabla donde agrupamos cada id de exercicio creado con su nombre correspondiente."
      ]
    },
    {
      "cell_type": "code",
      "metadata": {
        "colab": {
          "base_uri": "https://localhost:8080/",
          "height": 1000
        },
        "id": "aBYnXZESz4KJ",
        "outputId": "ba863ff8-9b6b-4bff-ce37-b82fea48d80b"
      },
      "source": [
        "df_mumuki_new_names.groupby('exercise_id', as_index=True).agg({'exercise_name':'unique'}).reset_index()"
      ],
      "execution_count": 99,
      "outputs": [
        {
          "output_type": "execute_result",
          "data": {
            "text/html": [
              "<div>\n",
              "<style scoped>\n",
              "    .dataframe tbody tr th:only-of-type {\n",
              "        vertical-align: middle;\n",
              "    }\n",
              "\n",
              "    .dataframe tbody tr th {\n",
              "        vertical-align: top;\n",
              "    }\n",
              "\n",
              "    .dataframe thead th {\n",
              "        text-align: right;\n",
              "    }\n",
              "</style>\n",
              "<table border=\"1\" class=\"dataframe\">\n",
              "  <thead>\n",
              "    <tr style=\"text-align: right;\">\n",
              "      <th></th>\n",
              "      <th>exercise_id</th>\n",
              "      <th>exercise_name</th>\n",
              "    </tr>\n",
              "  </thead>\n",
              "  <tbody>\n",
              "    <tr>\n",
              "      <th>0</th>\n",
              "      <td>1</td>\n",
              "      <td>[Funciones, declaración / No tan distintos]</td>\n",
              "    </tr>\n",
              "    <tr>\n",
              "      <th>1</th>\n",
              "      <td>2</td>\n",
              "      <td>[Funciones, uso]</td>\n",
              "    </tr>\n",
              "    <tr>\n",
              "      <th>2</th>\n",
              "      <td>3</td>\n",
              "      <td>[Probando funciones]</td>\n",
              "    </tr>\n",
              "    <tr>\n",
              "      <th>3</th>\n",
              "      <td>4</td>\n",
              "      <td>[Haciendo cuentas]</td>\n",
              "    </tr>\n",
              "    <tr>\n",
              "      <th>4</th>\n",
              "      <td>5</td>\n",
              "      <td>[Calefones / Poniendo topes]</td>\n",
              "    </tr>\n",
              "    <tr>\n",
              "      <th>5</th>\n",
              "      <td>6</td>\n",
              "      <td>[Libros de la buena memoria]</td>\n",
              "    </tr>\n",
              "    <tr>\n",
              "      <th>6</th>\n",
              "      <td>7</td>\n",
              "      <td>[Booleanos]</td>\n",
              "    </tr>\n",
              "    <tr>\n",
              "      <th>7</th>\n",
              "      <td>8</td>\n",
              "      <td>[Palabras, sólo palabras]</td>\n",
              "    </tr>\n",
              "    <tr>\n",
              "      <th>8</th>\n",
              "      <td>9</td>\n",
              "      <td>[Operando strings]</td>\n",
              "    </tr>\n",
              "    <tr>\n",
              "      <th>9</th>\n",
              "      <td>10</td>\n",
              "      <td>[¡GRITAR!]</td>\n",
              "    </tr>\n",
              "    <tr>\n",
              "      <th>10</th>\n",
              "      <td>11</td>\n",
              "      <td>[¿Y qué tal si...?]</td>\n",
              "    </tr>\n",
              "    <tr>\n",
              "      <th>11</th>\n",
              "      <td>12</td>\n",
              "      <td>[¿De qué signo sos?]</td>\n",
              "    </tr>\n",
              "    <tr>\n",
              "      <th>12</th>\n",
              "      <td>13</td>\n",
              "      <td>[El retorno del booleano]</td>\n",
              "    </tr>\n",
              "    <tr>\n",
              "      <th>13</th>\n",
              "      <td>14</td>\n",
              "      <td>[Los premios]</td>\n",
              "    </tr>\n",
              "    <tr>\n",
              "      <th>14</th>\n",
              "      <td>15</td>\n",
              "      <td>[Tipos de datos / Datos de todo tipo]</td>\n",
              "    </tr>\n",
              "    <tr>\n",
              "      <th>15</th>\n",
              "      <td>16</td>\n",
              "      <td>[Comprando Hardware]</td>\n",
              "    </tr>\n",
              "    <tr>\n",
              "      <th>16</th>\n",
              "      <td>17</td>\n",
              "      <td>[¿Me conviene?]</td>\n",
              "    </tr>\n",
              "    <tr>\n",
              "      <th>17</th>\n",
              "      <td>18</td>\n",
              "      <td>[Triangulos]</td>\n",
              "    </tr>\n",
              "    <tr>\n",
              "      <th>18</th>\n",
              "      <td>19</td>\n",
              "      <td>[Cuadrados]</td>\n",
              "    </tr>\n",
              "    <tr>\n",
              "      <th>19</th>\n",
              "      <td>20</td>\n",
              "      <td>[¿Está afinado?]</td>\n",
              "    </tr>\n",
              "    <tr>\n",
              "      <th>20</th>\n",
              "      <td>21</td>\n",
              "      <td>[¿Está cerca?]</td>\n",
              "    </tr>\n",
              "    <tr>\n",
              "      <th>21</th>\n",
              "      <td>22</td>\n",
              "      <td>[Cartelitos]</td>\n",
              "    </tr>\n",
              "    <tr>\n",
              "      <th>22</th>\n",
              "      <td>23</td>\n",
              "      <td>[Más Cartelitos]</td>\n",
              "    </tr>\n",
              "    <tr>\n",
              "      <th>23</th>\n",
              "      <td>24</td>\n",
              "      <td>[Cartelitos óptimos]</td>\n",
              "    </tr>\n",
              "    <tr>\n",
              "      <th>24</th>\n",
              "      <td>25</td>\n",
              "      <td>[Cara o ceca]</td>\n",
              "    </tr>\n",
              "    <tr>\n",
              "      <th>25</th>\n",
              "      <td>26</td>\n",
              "      <td>[¡Envido!]</td>\n",
              "    </tr>\n",
              "    <tr>\n",
              "      <th>26</th>\n",
              "      <td>27</td>\n",
              "      <td>[¡Quiero retruco!]</td>\n",
              "    </tr>\n",
              "    <tr>\n",
              "      <th>27</th>\n",
              "      <td>28</td>\n",
              "      <td>[¡Quiero vale cuatro!]</td>\n",
              "    </tr>\n",
              "    <tr>\n",
              "      <th>28</th>\n",
              "      <td>29</td>\n",
              "      <td>[¿Y el tablero?]</td>\n",
              "    </tr>\n",
              "    <tr>\n",
              "      <th>29</th>\n",
              "      <td>30</td>\n",
              "      <td>[Impresión por pantalla]</td>\n",
              "    </tr>\n",
              "    <tr>\n",
              "      <th>30</th>\n",
              "      <td>31</td>\n",
              "      <td>[Martin Fierro]</td>\n",
              "    </tr>\n",
              "    <tr>\n",
              "      <th>31</th>\n",
              "      <td>32</td>\n",
              "      <td>[¿Y los procedimientos?]</td>\n",
              "    </tr>\n",
              "    <tr>\n",
              "      <th>32</th>\n",
              "      <td>33</td>\n",
              "      <td>[¿Y el program?]</td>\n",
              "    </tr>\n",
              "    <tr>\n",
              "      <th>33</th>\n",
              "      <td>34</td>\n",
              "      <td>[Conversiones]</td>\n",
              "    </tr>\n",
              "    <tr>\n",
              "      <th>34</th>\n",
              "      <td>35</td>\n",
              "      <td>[El círculo de la vida]</td>\n",
              "    </tr>\n",
              "    <tr>\n",
              "      <th>35</th>\n",
              "      <td>36</td>\n",
              "      <td>[Pienso que así es más fácil]</td>\n",
              "    </tr>\n",
              "    <tr>\n",
              "      <th>36</th>\n",
              "      <td>37</td>\n",
              "      <td>[Esto no tiene valor]</td>\n",
              "    </tr>\n",
              "    <tr>\n",
              "      <th>37</th>\n",
              "      <td>38</td>\n",
              "      <td>[Variables globales]</td>\n",
              "    </tr>\n",
              "    <tr>\n",
              "      <th>38</th>\n",
              "      <td>39</td>\n",
              "      <td>[Volviéndonos ricos]</td>\n",
              "    </tr>\n",
              "    <tr>\n",
              "      <th>39</th>\n",
              "      <td>40</td>\n",
              "      <td>[¿Y esto cuánto vale?]</td>\n",
              "    </tr>\n",
              "  </tbody>\n",
              "</table>\n",
              "</div>"
            ],
            "text/plain": [
              "    exercise_id                                exercise_name\n",
              "0             1  [Funciones, declaración / No tan distintos]\n",
              "1             2                             [Funciones, uso]\n",
              "2             3                         [Probando funciones]\n",
              "3             4                           [Haciendo cuentas]\n",
              "4             5                 [Calefones / Poniendo topes]\n",
              "5             6                 [Libros de la buena memoria]\n",
              "6             7                                  [Booleanos]\n",
              "7             8                    [Palabras, sólo palabras]\n",
              "8             9                           [Operando strings]\n",
              "9            10                                   [¡GRITAR!]\n",
              "10           11                          [¿Y qué tal si...?]\n",
              "11           12                         [¿De qué signo sos?]\n",
              "12           13                    [El retorno del booleano]\n",
              "13           14                                [Los premios]\n",
              "14           15        [Tipos de datos / Datos de todo tipo]\n",
              "15           16                         [Comprando Hardware]\n",
              "16           17                              [¿Me conviene?]\n",
              "17           18                                 [Triangulos]\n",
              "18           19                                  [Cuadrados]\n",
              "19           20                             [¿Está afinado?]\n",
              "20           21                               [¿Está cerca?]\n",
              "21           22                                 [Cartelitos]\n",
              "22           23                             [Más Cartelitos]\n",
              "23           24                         [Cartelitos óptimos]\n",
              "24           25                                [Cara o ceca]\n",
              "25           26                                   [¡Envido!]\n",
              "26           27                           [¡Quiero retruco!]\n",
              "27           28                       [¡Quiero vale cuatro!]\n",
              "28           29                             [¿Y el tablero?]\n",
              "29           30                     [Impresión por pantalla]\n",
              "30           31                              [Martin Fierro]\n",
              "31           32                     [¿Y los procedimientos?]\n",
              "32           33                             [¿Y el program?]\n",
              "33           34                               [Conversiones]\n",
              "34           35                      [El círculo de la vida]\n",
              "35           36                [Pienso que así es más fácil]\n",
              "36           37                        [Esto no tiene valor]\n",
              "37           38                         [Variables globales]\n",
              "38           39                         [Volviéndonos ricos]\n",
              "39           40                       [¿Y esto cuánto vale?]"
            ]
          },
          "metadata": {
            "tags": []
          },
          "execution_count": 99
        }
      ]
    },
    {
      "cell_type": "markdown",
      "metadata": {
        "id": "S4vX45IM0npH"
      },
      "source": [
        "Como podemos ver, en ningún momento se 'pisan' los indices, y corrresponden a los indices de los datos pedidos a la API de mumuki y según el análisis previo de nombres."
      ]
    },
    {
      "cell_type": "markdown",
      "metadata": {
        "id": "ipL_LQlfu8wn"
      },
      "source": [
        "## 2.2 `submission_status`: Cantidad de ejercicios por status"
      ]
    },
    {
      "cell_type": "markdown",
      "metadata": {
        "id": "hwY6H1u8u8wn"
      },
      "source": [
        "¿Qué tipo de datos nos encontramos en esta columna?"
      ]
    },
    {
      "cell_type": "code",
      "metadata": {
        "id": "od9vIETTu8wn",
        "colab": {
          "base_uri": "https://localhost:8080/"
        },
        "outputId": "76a0f3aa-dcd2-4709-f949-b7900c526367"
      },
      "source": [
        "df_mumuki[\"submission_status\"].describe()"
      ],
      "execution_count": 13,
      "outputs": [
        {
          "output_type": "execute_result",
          "data": {
            "text/plain": [
              "count      47183\n",
              "unique         6\n",
              "top       failed\n",
              "freq       17609\n",
              "Name: submission_status, dtype: object"
            ]
          },
          "metadata": {
            "tags": []
          },
          "execution_count": 13
        }
      ]
    },
    {
      "cell_type": "markdown",
      "metadata": {
        "id": "EhAwr3YZu8wn"
      },
      "source": [
        "Ésta es una variable categórica no ordinal. Que tiene 6 valores únicos de status, no existen valores nulos y el de mayor frecuencia es el estado failed."
      ]
    },
    {
      "cell_type": "code",
      "metadata": {
        "id": "aLnL-zbLu8wo",
        "colab": {
          "base_uri": "https://localhost:8080/",
          "height": 408
        },
        "outputId": "52eab175-36cc-408c-983f-55acb00a25e9"
      },
      "source": [
        "ejercicios_status=df_mumuki['submission_status'].value_counts().index.tolist()[:10]\n",
        "fig = plt.figure(figsize=(15,5))\n",
        "g=seaborn.histplot(y=df_mumuki[df_mumuki['submission_status'].isin(ejercicios_status)]['submission_status'], color='gray')\n",
        "plt.xticks(rotation=45)\n",
        "\n",
        "g.set_xlabel('cant. envios')\n",
        "g.set_ylabel('status')\n",
        "g.set_title('Cantidad de envios por status', fontsize=20)\n",
        "plt.show()"
      ],
      "execution_count": 14,
      "outputs": [
        {
          "output_type": "display_data",
          "data": {
            "image/png": "[encoded data removed]",
            "text/plain": [
              "<Figure size 1080x360 with 1 Axes>"
            ]
          },
          "metadata": {
            "tags": [],
            "needs_background": "light"
          }
        }
      ]
    },
    {
      "cell_type": "markdown",
      "metadata": {
        "id": "EsjcWTtUu8wo"
      },
      "source": [
        "Nos encontramos con diferentes estados de 'no pasar el test', según la circunstancia. Pero, al seguir discutiendo sobre ésta columna, decidimos que lo que nos importa verdaderamente, es si pasó el ejercicio o no. De aquí se decide luego reagrupar en menos categorías el estado del ejercicio."
      ]
    },
    {
      "cell_type": "code",
      "metadata": {
        "id": "WcOx3KScu8wo"
      },
      "source": [
        "df_mumuki[\"Estatus\"] = df_mumuki[\"submission_status\"].replace({\"failed\": \"no_paso\", \"passed\": \"paso\", \"errored\": \"no_paso\", \"passed_with_warnings\": \"no_paso\",  \"aborted\": \"no_paso\", \"pending\": \"no_paso\"})"
      ],
      "execution_count": 15,
      "outputs": []
    },
    {
      "cell_type": "markdown",
      "metadata": {
        "id": "b5jDAGiMu8wp"
      },
      "source": [
        "Visualizamos como nos quedan los status de acuerdo a los cambios."
      ]
    },
    {
      "cell_type": "code",
      "metadata": {
        "id": "fog6aULIu8wp",
        "colab": {
          "base_uri": "https://localhost:8080/"
        },
        "outputId": "99751aea-36bf-47b2-ee1b-79d7072fd77b"
      },
      "source": [
        "df_mumuki[\"Estatus\"].value_counts()"
      ],
      "execution_count": 16,
      "outputs": [
        {
          "output_type": "execute_result",
          "data": {
            "text/plain": [
              "no_paso    33664\n",
              "paso       13519\n",
              "Name: Estatus, dtype: int64"
            ]
          },
          "metadata": {
            "tags": []
          },
          "execution_count": 16
        }
      ]
    },
    {
      "cell_type": "markdown",
      "metadata": {
        "id": "gTWUsrreu8wp"
      },
      "source": [
        "Decidimos dejar el campo original para luego realizar análisis de los tipos de casos con Estatus no_paso."
      ]
    },
    {
      "cell_type": "markdown",
      "metadata": {
        "id": "7-u8qi5Cu8wp"
      },
      "source": [
        "## 2.3 `sid`"
      ]
    },
    {
      "cell_type": "markdown",
      "metadata": {
        "id": "03TtG5cUu8wq"
      },
      "source": [
        "Ésta es una variable numérica, un identificador único del envío. Si el valor es igual a -1 el envío fue una prueba a través del REPL de Mumuki."
      ]
    },
    {
      "cell_type": "code",
      "metadata": {
        "id": "3o5e3GNru8wq",
        "colab": {
          "base_uri": "https://localhost:8080/"
        },
        "outputId": "2b359f65-41f4-4557-cdb6-27500902b0ae"
      },
      "source": [
        "df_mumuki['sid'].value_counts()"
      ],
      "execution_count": 17,
      "outputs": [
        {
          "output_type": "execute_result",
          "data": {
            "text/plain": [
              "-1        5508\n",
              " 38200       1\n",
              " 9550        1\n",
              " 15693       1\n",
              " 13644       1\n",
              "          ... \n",
              " 25241       1\n",
              " 27288       1\n",
              " 4759        1\n",
              " 6806        1\n",
              " 0           1\n",
              "Name: sid, Length: 41676, dtype: int64"
            ]
          },
          "metadata": {
            "tags": []
          },
          "execution_count": 17
        }
      ]
    },
    {
      "cell_type": "code",
      "metadata": {
        "id": "vSXx5x3zu8wq",
        "colab": {
          "base_uri": "https://localhost:8080/"
        },
        "outputId": "6774af0a-330d-432a-f3b3-ccf6f5b10834"
      },
      "source": [
        "len(df_mumuki)"
      ],
      "execution_count": 18,
      "outputs": [
        {
          "output_type": "execute_result",
          "data": {
            "text/plain": [
              "47183"
            ]
          },
          "metadata": {
            "tags": []
          },
          "execution_count": 18
        }
      ]
    },
    {
      "cell_type": "code",
      "metadata": {
        "id": "0SrA7yD2u8wq",
        "colab": {
          "base_uri": "https://localhost:8080/"
        },
        "outputId": "8ca56b1b-d4f3-4417-afd2-16b83d515440"
      },
      "source": [
        "print(f\"Hay {len(df_mumuki[df_mumuki['sid']==-1])} envíos que fueron mediante REPL, el {round(len(df_mumuki[df_mumuki['sid']==-1])/len(df_mumuki)*100,2)}% del total. El {len(df_mumuki)-len(df_mumuki[df_mumuki['sid']==-1])} son identificadores unicos de los envíos.\") "
      ],
      "execution_count": 19,
      "outputs": [
        {
          "output_type": "stream",
          "text": [
            "Hay 5508 envíos que fueron mediante REPL, el 11.67% del total. El 41675 son identificadores unicos de los envíos.\n"
          ],
          "name": "stdout"
        }
      ]
    },
    {
      "cell_type": "markdown",
      "metadata": {
        "id": "DD_ogOfUu8wr"
      },
      "source": [
        "## 2.4 `expectation_results`"
      ]
    },
    {
      "cell_type": "markdown",
      "metadata": {
        "id": "cNuxLg58u8wr"
      },
      "source": [
        "Esta variable resultada del análisis de expectativas y code smells realizado mediante la herramienta mulang"
      ]
    },
    {
      "cell_type": "code",
      "metadata": {
        "id": "fUHTseGvu8wr",
        "colab": {
          "base_uri": "https://localhost:8080/"
        },
        "outputId": "f9082fe9-7013-4f35-a61c-775f27f32b26"
      },
      "source": [
        "df_mumuki.groupby('expectation_results').size()"
      ],
      "execution_count": 20,
      "outputs": [
        {
          "output_type": "execute_result",
          "data": {
            "text/plain": [
              "expectation_results\n",
              "[]                                                                                                                                                                                        30332\n",
              "[{'binding': '*', 'inspection': 'Declares:=cuanto_cuesta', 'result': 'failed'}, {'binding': 'cuanto_cuenta', 'inspection': 'HasDeclarationTypos:cuanto_cuesta', 'result': 'failed'}]          1\n",
              "[{'binding': '*', 'inspection': 'Declares:=cuanto_cuesta', 'result': 'failed'}, {'binding': 'cuanto_cuestas', 'inspection': 'HasDeclarationTypos:cuanto_cuesta', 'result': 'failed'}]         3\n",
              "[{'binding': '*', 'inspection': 'Declares:=cuanto_cuesta', 'result': 'failed'}, {'binding': 'cuento_cuesta', 'inspection': 'HasDeclarationTypos:cuanto_cuesta', 'result': 'failed'}]          3\n",
              "[{'binding': '*', 'inspection': 'Declares:=cuanto_cuesta', 'result': 'failed'}]                                                                                                              23\n",
              "                                                                                                                                                                                          ...  \n",
              "[{'binding': 'valor_envido', 'inspection': 'DoesTypeTest', 'result': 'failed'}]                                                                                                               6\n",
              "[{'binding': 'valor_envido1', 'inspection': 'HasWrongCaseIdentifiers', 'result': 'failed'}, {'binding': 'valor_envido2', 'inspection': 'HasWrongCaseIdentifiers', 'result': 'failed'}]        1\n",
              "[{'binding': 'versos_martin_Fierro', 'inspection': 'HasWrongCaseIdentifiers', 'result': 'failed'}]                                                                                            4\n",
              "[{'binding': 'versos_martin_fierro', 'inspection': 'DoesTypeTest', 'result': 'failed'}]                                                                                                       4\n",
              "[{'binding': 'versos_martin_fierro', 'inspection': 'HasUnreachableCode', 'result': 'failed'}]                                                                                                 2\n",
              "Length: 337, dtype: int64"
            ]
          },
          "metadata": {
            "tags": []
          },
          "execution_count": 20
        }
      ]
    },
    {
      "cell_type": "markdown",
      "metadata": {
        "id": "ZddFGkrGu8wr"
      },
      "source": [
        "Podemos ver que la mayoria de las veces espera un valor vacio, pero necesitaríamos más tiempo para analizar y entender mejor esta variable"
      ]
    },
    {
      "cell_type": "markdown",
      "metadata": {
        "id": "ekyOwlYmu8ws"
      },
      "source": [
        "## 2.5 `feedback`"
      ]
    },
    {
      "cell_type": "markdown",
      "metadata": {
        "id": "HQw_3mrku8ws"
      },
      "source": [
        "¿Feedback de qué trata esta columna?"
      ]
    },
    {
      "cell_type": "code",
      "metadata": {
        "id": "tmF1uv66u8ws",
        "colab": {
          "base_uri": "https://localhost:8080/"
        },
        "outputId": "b7273f8f-ea6a-486b-a82d-fa6f7f3894fd"
      },
      "source": [
        "df_mumuki['feedback'].value_counts(dropna=False)"
      ],
      "execution_count": 21,
      "outputs": [
        {
          "output_type": "execute_result",
          "data": {
            "text/plain": [
              "NaN    47183\n",
              "Name: feedback, dtype: int64"
            ]
          },
          "metadata": {
            "tags": []
          },
          "execution_count": 21
        }
      ]
    },
    {
      "cell_type": "markdown",
      "metadata": {
        "id": "xsLLlXlBu8ws"
      },
      "source": [
        "La columna siempre tiene un valor vacío. Al no tener información, es buena candidata para eliminarla del dataset"
      ]
    },
    {
      "cell_type": "code",
      "metadata": {
        "id": "Zn4Zbqr9u8wt"
      },
      "source": [
        "df_mumuki=df_mumuki.drop(['feedback'], axis=1)"
      ],
      "execution_count": 22,
      "outputs": []
    },
    {
      "cell_type": "markdown",
      "metadata": {
        "id": "acX3r-r9u8wt"
      },
      "source": [
        "## 2.6 `guide_slug`"
      ]
    },
    {
      "cell_type": "markdown",
      "metadata": {
        "id": "h0qZ2N2Eu8wt"
      },
      "source": [
        "Esta variable es un identificador único de la guía, y nos ayudó a buscar los repositorios"
      ]
    },
    {
      "cell_type": "code",
      "metadata": {
        "id": "FvTuBhrFu8wt",
        "colab": {
          "base_uri": "https://localhost:8080/"
        },
        "outputId": "59339921-c340-42fa-ccb0-1f6ed11f9859"
      },
      "source": [
        "df_mumuki['guide_slug'].value_counts(dropna=False)"
      ],
      "execution_count": 23,
      "outputs": [
        {
          "output_type": "execute_result",
          "data": {
            "text/plain": [
              "mumukiproject/mumuki-guia-python-funciones-tipos-de-datos               23961\n",
              "mumukiproject/mumuki-guia-python-practica-funciones-y-tipos-de-datos    14665\n",
              "mumukiproject/mumuki-guia-python-variables-y-procedimientos              8557\n",
              "Name: guide_slug, dtype: int64"
            ]
          },
          "metadata": {
            "tags": []
          },
          "execution_count": 23
        }
      ]
    },
    {
      "cell_type": "markdown",
      "metadata": {
        "id": "wBvAyw8fu8wu"
      },
      "source": [
        "Es una variable categórica y no hay valores nulos\n",
        "\n",
        "De todos los envíos, la mayoría son submissions son a la primera guía, `mumukiproject/mumuki-guia-python-funciones-tipos-de-datos`. "
      ]
    },
    {
      "cell_type": "markdown",
      "metadata": {
        "id": "vijQMSfQu8wu"
      },
      "source": [
        "## 2.7 `result`"
      ]
    },
    {
      "cell_type": "markdown",
      "metadata": {
        "id": "pg0s5MrLu8wu"
      },
      "source": [
        "Representa el resultado obtenido al intentar cargar la solución en un intérprete de Python."
      ]
    },
    {
      "cell_type": "code",
      "metadata": {
        "id": "3ENBL0L3u8wu",
        "colab": {
          "base_uri": "https://localhost:8080/"
        },
        "outputId": "438e1974-79e5-4034-8522-9e3fe51e6bf3"
      },
      "source": [
        "df_mumuki.groupby('result').size()"
      ],
      "execution_count": 24,
      "outputs": [
        {
          "output_type": "execute_result",
          "data": {
            "text/plain": [
              "result\n",
              "\\n                                                                                                                                                                                                                                                                                                                                                                                                                                                                                                                                                                                                                                                                                                                                                                                                                                                                                                                                                                                                                                                                                                                                                                                                                                                                                          2\n",
              "\\nRunning tests...\\n                                                                                                                                                                                                                                                                                                                                                                                                                                                                                                                                                                                                                                                                                                                                                                                                                                                                                                                                                                                                                                                                                                                                                                                                                                                                        1\n",
              "\\nRunning tests...\\n----------------------------------------------------------------------\\n..\\n----------------------------------------------------------------------\\nRan 2 tests in 0.002s\\n\\nOK\\n\\nGenerating XML reports...\\nAquí me pongo a cantar\\nAl compás de la vigüela\\nQue el hombre que lo desvela\\nUna pena extraordinaria\\n<?xml version=\"1.0\" encoding=\"UTF-8\"?>\\n<testsuite errors=\"0\" failures=\"0\" file=\".py\" name=\"MumukiTest-20200919042804\" skipped=\"0\" tests=\"2\" time=\"0.002\" timestamp=\"2020-09-19T04:28:04\">\\n\\t<testcase classname=\"MumukiTest\" file=\"tmp/mumuki.compile20200919-23-127v9hs.py\" line=\"33\" name=\"test_deberia_imprimir_los_versos\" time=\"0.001\" timestamp=\"2020-09-19T04:28:04\">\\n\\t\\t<system-out>\\n<![CDATA[]]>\\t\\t</system-out>\\n\\t\\t<system-err>\\n<![CDATA[]]>\\t\\t</system-err>\\n\\t</testcase>\\n\\t<testcase classname=\"MumukiTest\" file=\"tmp/mumuki.compile20200919-23-127v9hs.py\" line=\"37\" name=\"test_deberia_retornar_cero\" time=\"0.001\" timestamp=\"2020-09-19T04:28:04\">\\n\\t\\t<system-out>\\n<![CDATA['Aqu\\xc3\\xad me pongo a cantar\\nAl comp\\xc3\\xa1s de la vig\\xc3\\xbcela\\nQue el hombre que lo desvela\\nUna pena extraordinaria\\n']]>\\t\\t</system-out>\\n\\t\\t<system-err>\\n<![CDATA[]]>\\t\\t</system-err>\\n\\t</testcase>\\n</testsuite>\\n     1\n",
              "\\nRunning tests...\\n----------------------------------------------------------------------\\n..\\n----------------------------------------------------------------------\\nRan 2 tests in 0.005s\\n\\nAquí me pongo a cantar\\nAl compás de la vigüela\\nQue el hombre que lo desvela\\nOK\\n\\nGenerating XML reports...\\nUna pena extraordinaria\\n<?xml version=\"1.0\" encoding=\"UTF-8\"?>\\n<testsuite errors=\"0\" failures=\"0\" file=\".py\" name=\"MumukiTest-20190925144832\" skipped=\"0\" tests=\"2\" time=\"0.004\" timestamp=\"2019-09-25T14:48:32\">\\n\\t<testcase classname=\"MumukiTest\" file=\"tmp/mumuki.compile20190925-24-18b4ykm.py\" line=\"32\" name=\"test_deberia_imprimir_los_versos\" time=\"0.003\" timestamp=\"2019-09-25T14:48:32\">\\n\\t\\t<system-out>\\n<![CDATA[]]>\\t\\t</system-out>\\n\\t\\t<system-err>\\n<![CDATA[]]>\\t\\t</system-err>\\n\\t</testcase>\\n\\t<testcase classname=\"MumukiTest\" file=\"tmp/mumuki.compile20190925-24-18b4ykm.py\" line=\"36\" name=\"test_deberia_retornar_cero\" time=\"0.001\" timestamp=\"2019-09-25T14:48:32\">\\n\\t\\t<system-out>\\n<![CDATA['Aqu\\xc3\\xad me pongo a cantar\\nAl comp\\xc3\\xa1s de la vig\\xc3\\xbcela\\nQue el hombre que lo desvela\\nUna pena extraordinaria\\n']]>\\t\\t</system-out>\\n\\t\\t<system-err>\\n<![CDATA[]]>\\t\\t</system-err>\\n\\t</testcase>\\n</testsuite>\\n     1\n",
              "\\nRunning tests...\\n----------------------------------------------------------------------\\n..\\n----------------------------------------------------------------------\\nRan 2 tests in 0.008s\\n\\nOK\\n\\nGenerating XML reports...\\nAquí me pongo a cantar\\nAl compás de la vigüela\\nQue el hombre que lo desvela\\nUna pena extraordinaria\\n<?xml version=\"1.0\" encoding=\"UTF-8\"?>\\n<testsuite errors=\"0\" failures=\"0\" file=\".py\" name=\"MumukiTest-20191120162917\" skipped=\"0\" tests=\"2\" time=\"0.008\" timestamp=\"2019-11-20T16:29:17\">\\n\\t<testcase classname=\"MumukiTest\" file=\"tmp/mumuki.compile20191120-24-uw8v39.py\" line=\"31\" name=\"test_deberia_imprimir_los_versos\" time=\"0.006\" timestamp=\"2019-11-20T16:29:17\">\\n\\t\\t<system-out>\\n<![CDATA[]]>\\t\\t</system-out>\\n\\t\\t<system-err>\\n<![CDATA[]]>\\t\\t</system-err>\\n\\t</testcase>\\n\\t<testcase classname=\"MumukiTest\" file=\"tmp/mumuki.compile20191120-24-uw8v39.py\" line=\"35\" name=\"test_no_deberia_retornar_nada\" time=\"0.001\" timestamp=\"2019-11-20T16:29:17\">\\n\\t\\t<system-out>\\n<![CDATA['Aqu\\xc3\\xad me pongo a cantar\\nAl comp\\xc3\\xa1s de la vig\\xc3\\xbcela\\nQue el hombre que lo desvela\\nUna pena extraordinaria\\n']]>\\t\\t</system-out>\\n\\t\\t<system-err>\\n<![CDATA[]]>\\t\\t</system-err>\\n\\t</testcase>\\n</testsuite>\\n    1\n",
              "                                                                                                                                                                                                                                                                                                                                                                                                                                                                                                                                                                                                                                                                                                                                                                                                                                                                                                                                                                                                                                                                                                                                                                                                                                                                                           ..\n",
              "elefantes_equilibristas\\nTraceback (most recent call last):\\n  File \"solucion.py\", line 26, in <module>\\n    print((numero) + \"elefantes se balanceaban\")\\nNameError: name 'numero' is not defined\\n                                                                                                                                                                                                                                                                                                                                                                                                                                                                                                                                                                                                                                                                                                                                                                                                                                                                                                                                                                                                                                                                                        1\n",
              "elefantes_equilibristas\\nTraceback (most recent call last):\\n  File \"solucion.py\", line 26, in <module>\\n    print(str(cantidad_elefantes()) + \"elefantes se balanceaban\")\\nNameError: name 'cantidad_elefantes' is not defined\\n                                                                                                                                                                                                                                                                                                                                                                                                                                                                                                                                                                                                                                                                                                                                                                                                                                                                                                                                                                                                                                                           1\n",
              "elefantes_equilibristas\\nTraceback (most recent call last):\\n  File \"solucion.py\", line 26, in <module>\\n    print(str(cantidad_elefantes) + \"elefantes se balanceaban\")\\nNameError: name 'cantidad_elefantes' is not defined\\n                                                                                                                                                                                                                                                                                                                                                                                                                                                                                                                                                                                                                                                                                                                                                                                                                                                                                                                                                                                                                                                             1\n",
              "elefantes_equilibristas(numero)\\nTraceback (most recent call last):\\n  File \"solucion.py\", line 26, in <module>\\n    print ((str(numero) + \" \" + \"elefantes se balanceaban\"))\\nNameError: name 'numero' is not defined\\n                                                                                                                                                                                                                                                                                                                                                                                                                                                                                                                                                                                                                                                                                                                                                                                                                                                                                                                                                                                                                                                                    1\n",
              "solucion.py:28: SyntaxWarning: name 'pesos_en_mi_billetera' is assigned to before global declaration\\n  global pesos_en_mi_billetera\\nTraceback (most recent call last):\\n  File \"solucion.py\", line 30, in <module>\\n    aumentar_fortuna = pesos_en_mi_billtera * 2\\nNameError: name 'pesos_en_mi_billtera' is not defined\\n                                                                                                                                                                                                                                                                                                                                                                                                                                                                                                                                                                                                                                                                                                                                                                                                                                                                                                                                                              1\n",
              "Length: 9181, dtype: int64"
            ]
          },
          "metadata": {
            "tags": []
          },
          "execution_count": 24
        }
      ]
    },
    {
      "cell_type": "markdown",
      "metadata": {
        "id": "ODGad129u8wv"
      },
      "source": [
        "Podemos detectar que es una variable con información de los envíos, la cual puede tener valores nulos. Al principio parece que son todos distintos, pero tiene información la cual parece que es la misma respuesta.\n",
        "Se va a análizar en detalle más adelante."
      ]
    },
    {
      "cell_type": "markdown",
      "metadata": {
        "id": "vWF3WRv1u8wv"
      },
      "source": [
        "## 2.8 `submission_content`"
      ]
    },
    {
      "cell_type": "markdown",
      "metadata": {
        "id": "X2FYLzwXu8wv"
      },
      "source": [
        "Es el código fuente de la solución enviada."
      ]
    },
    {
      "cell_type": "code",
      "metadata": {
        "id": "u1F-Z87hu8wv",
        "colab": {
          "base_uri": "https://localhost:8080/"
        },
        "outputId": "9a4dd5bd-5401-46b5-b042-fc1ae8e1277e"
      },
      "source": [
        "df_mumuki['submission_content'].value_counts()"
      ],
      "execution_count": 25,
      "outputs": [
        {
          "output_type": "execute_result",
          "data": {
            "text/plain": [
              "0:3:4                                                                                                                                                                                   252\n",
              "3                                                                                                                                                                                       204\n",
              "0:1:3:4:6:7                                                                                                                                                                             179\n",
              "0:1:3:6:7                                                                                                                                                                               151\n",
              "0                                                                                                                                                                                       129\n",
              "                                                                                                                                                                                       ... \n",
              "carga_maxima_en_kilogramos = 300\\r\\n\\r\\ndef ascensor_sobrecargado (peso_promedio_persona_en_kilogramos):\\r\\n  return peso_promedio_persona_en_kilogramos>=carga_maxima_en_kilogramos      1\n",
              "def esta_entre(numero1, numero2, numero3):\\r\\n  return 1 > 0 and < 3\\r\\n                                                                                                                  1\n",
              "def mitad():\\r\\n  return 2/numero                                                                                                                                                         1\n",
              "def elefantes_equilibristas(x):\\r\\n  ((str(x)) + (\" elefantes se balanceaban\"))                                                                                                           1\n",
              "def ascensor_sobrecargado(numero):\\r\\n  carga_maxima_en_kilogramos = peso_promedio_persona_en_kilogramos * numero\\r\\n  return carga_maxima_en_kilogramos <= 300\\r\\n                       1\n",
              "Name: submission_content, Length: 32937, dtype: int64"
            ]
          },
          "metadata": {
            "tags": []
          },
          "execution_count": 25
        }
      ]
    },
    {
      "cell_type": "markdown",
      "metadata": {
        "id": "SydpemlIu8ww"
      },
      "source": [
        "Nos llamó la atención la aparición de valores como `0:3:4` o `0:1:3:4:6:7`, que no son strings ni representan una solución a un ejercicio de programación.\n",
        "\n",
        "Éstos valores significan que el ejercicio era teórico y de múltiple opción, y separados por dos puntos, son las opciones enviadas.\n",
        "\n",
        "Variable que tiene puede tener nulos, que podemos detectar si fue un ejercicio o de múltiple opciones."
      ]
    },
    {
      "cell_type": "markdown",
      "metadata": {
        "id": "82pk0GzPu8ww"
      },
      "source": [
        "## 2.9 `submission_created_at`"
      ]
    },
    {
      "cell_type": "markdown",
      "metadata": {
        "id": "AoaTbP0ru8ww"
      },
      "source": [
        "Es la fecha y hora GMT a la que la solución fue enviada\n",
        "\n",
        "¿Durante qué período se enviaron las soluciones? "
      ]
    },
    {
      "cell_type": "code",
      "metadata": {
        "id": "HXGdGp0lu8ww",
        "colab": {
          "base_uri": "https://localhost:8080/"
        },
        "outputId": "bc4985ef-0391-4918-e872-4ea07d8aa3dc"
      },
      "source": [
        "print(f\"El período que se enviaron las soluciones es desde: {df_mumuki['submission_created_at'].min()}  hasta: {df_mumuki['submission_created_at'].max()}\")"
      ],
      "execution_count": 26,
      "outputs": [
        {
          "output_type": "stream",
          "text": [
            "El período que se enviaron las soluciones es desde: 2019-08-30 13:17:17.700  hasta: 2020-11-23 21:52:17.944\n"
          ],
          "name": "stdout"
        }
      ]
    },
    {
      "cell_type": "code",
      "metadata": {
        "id": "ynwGYGNHu8wx",
        "colab": {
          "base_uri": "https://localhost:8080/"
        },
        "outputId": "bcf718ac-c9d5-4c71-8772-1729d57ae882"
      },
      "source": [
        "df_mumuki.groupby('submission_created_at').size()"
      ],
      "execution_count": 27,
      "outputs": [
        {
          "output_type": "execute_result",
          "data": {
            "text/plain": [
              "submission_created_at\n",
              "2019-08-30 13:17:17.700    1\n",
              "2019-08-30 13:40:26.023    1\n",
              "2019-09-04 01:29:22.351    1\n",
              "2019-09-04 01:32:42.763    1\n",
              "2019-09-04 01:34:52.318    1\n",
              "                          ..\n",
              "2020-11-23 21:46:39.531    1\n",
              "2020-11-23 21:46:55.629    1\n",
              "2020-11-23 21:50:56.250    1\n",
              "2020-11-23 21:51:58.312    1\n",
              "2020-11-23 21:52:17.944    1\n",
              "Length: 47175, dtype: int64"
            ]
          },
          "metadata": {
            "tags": []
          },
          "execution_count": 27
        }
      ]
    },
    {
      "cell_type": "markdown",
      "metadata": {
        "id": "pB7sFTwQu8wx"
      },
      "source": [
        "Este es un valor int64. \n",
        "\n",
        "Es una variable de fecha y hora, que se puede analizar separandolo para una mayor comodidad. Por lo tanto en esta sección vamos a tranformar el campo y mantener el original por si necesitamos trabajar con la variable tal cual esta."
      ]
    },
    {
      "cell_type": "code",
      "metadata": {
        "id": "JeoAfDBPu8wx",
        "colab": {
          "base_uri": "https://localhost:8080/"
        },
        "outputId": "614eb40c-5fdc-4428-8af7-57cd84d3d2ff"
      },
      "source": [
        "df_mumuki['Date']= pd.to_datetime(df_mumuki['submission_created_at']).dt.date\n",
        "len(df_mumuki['Date'].value_counts())"
      ],
      "execution_count": 28,
      "outputs": [
        {
          "output_type": "execute_result",
          "data": {
            "text/plain": [
              "198"
            ]
          },
          "metadata": {
            "tags": []
          },
          "execution_count": 28
        }
      ]
    },
    {
      "cell_type": "code",
      "metadata": {
        "id": "VJNwMHbku8wx",
        "colab": {
          "base_uri": "https://localhost:8080/",
          "height": 0
        },
        "outputId": "b187fa5b-5c51-41c6-f76c-42e7258ddc1d"
      },
      "source": [
        "matplotlib.pyplot.figure(figsize = [20, 5] , dpi = None , facecolor = \"wheat\" , edgecolor = None , frameon = True  , clear = False )\n",
        "ti = seaborn.histplot(data=df_mumuki, x=df_mumuki['Date'])\n",
        "\n",
        "ti.set_xlabel('Fecha')\n",
        "ti.set_ylabel('Cant Envios')\n",
        "ti.set_title('Cantidad de envios en el tiempo', fontsize=20)\n",
        "plt.show()"
      ],
      "execution_count": 29,
      "outputs": [
        {
          "output_type": "display_data",
          "data": {
            "image/png": "[encoded data removed]",
            "text/plain": [
              "<Figure size 1440x360 with 1 Axes>"
            ]
          },
          "metadata": {
            "tags": []
          }
        }
      ]
    },
    {
      "cell_type": "markdown",
      "metadata": {
        "id": "qK88O_pUu8wy"
      },
      "source": [
        "Los envíos se realizaron en 198 días diferentes."
      ]
    },
    {
      "cell_type": "markdown",
      "metadata": {
        "id": "Wm-zFnViu8wy"
      },
      "source": [
        "Podemos observar que los ejercicios fueron enviados por los estudiantes en en 3 periodos principales:\n",
        "\n",
        "2019-10 al 2019-12\n",
        "\n",
        "2020-05 al 2020-07\n",
        "\n",
        "2020-09 al 2020-11\n",
        "\n",
        "Hay un periodo, de principio de enero 2020 a abril 2020, sin información.\n",
        "\n",
        "Nos preguntamos, cuáles son las fechas con más envíos?"
      ]
    },
    {
      "cell_type": "code",
      "metadata": {
        "id": "YaMko8JZu8wy",
        "colab": {
          "base_uri": "https://localhost:8080/",
          "height": 0
        },
        "outputId": "baf5e189-1748-4926-d7e0-626c71e71c0d"
      },
      "source": [
        "matplotlib.pyplot.figure(figsize = [20, 5] , dpi = None , facecolor = \"wheat\" , edgecolor = None , frameon = True  , clear = False )\n",
        "ax = seaborn.barplot(y=df_mumuki['Date'].value_counts()[:10], x=df_mumuki['Date'].value_counts()[:10].index, data=df_mumuki)\n",
        "ax.set_xticklabels(ax.get_xticklabels(), rotation=45);\n",
        "\n",
        "ax.set_xlabel('Fecha')\n",
        "ax.set_ylabel('Cant Envios')\n",
        "ax.set_title('Top 10 de fechas con más envíos', fontsize=20)\n",
        "plt.show()"
      ],
      "execution_count": 30,
      "outputs": [
        {
          "output_type": "display_data",
          "data": {
            "image/png": "[encoded data removed]",
            "text/plain": [
              "<Figure size 1440x360 with 1 Axes>"
            ]
          },
          "metadata": {
            "tags": []
          }
        }
      ]
    },
    {
      "cell_type": "markdown",
      "metadata": {
        "id": "4p4p_bsRu8wz"
      },
      "source": [
        "Vemos que la mayoria de los envíos son en año 2020, y en los meses de mayo y septiembre, que está relacionado a que los cursos son cuatrimestrales.\n",
        "\n",
        "Ésta columna nos produjo varias preguntas para seguir analizando las fechas, que serán discutidas más adelante. Por lo cual se decidio crear, como año, mes, periodo, tiempo, hora, minuto, número de semana, día de la semana, para un mejor análisis."
      ]
    },
    {
      "cell_type": "code",
      "metadata": {
        "id": "czSlfcF2u8wz"
      },
      "source": [
        "df_mumuki['Periodo'] =pd.to_datetime(df_mumuki['submission_created_at']).dt.to_period(\"M\")\n",
        "df_mumuki['Year'] = pd.DatetimeIndex(df_mumuki['submission_created_at']).year\n",
        "df_mumuki['Month'] = pd.DatetimeIndex(df_mumuki['submission_created_at']).month\n",
        "df_mumuki['Week'] =pd.to_datetime(df_mumuki['submission_created_at']).dt.isocalendar().week\n",
        "df_mumuki['DayNroWeek'] =pd.to_datetime(df_mumuki['submission_created_at']).dt.weekday\n",
        "df_mumuki['DayNameWeek'] =pd.to_datetime(df_mumuki['submission_created_at']).dt.day_name()\n",
        "\n",
        "df_mumuki['Time']= pd.to_datetime(df_mumuki['submission_created_at']).dt.time\n",
        "df_mumuki['Hora'] =pd.to_datetime(df_mumuki['submission_created_at']).dt.hour\n",
        "df_mumuki['Minute'] =pd.to_datetime(df_mumuki['submission_created_at']).dt.minute"
      ],
      "execution_count": 31,
      "outputs": []
    },
    {
      "cell_type": "markdown",
      "metadata": {
        "id": "v9PWe_h3u8wz"
      },
      "source": [
        "Visualizamos las columnas agregadas"
      ]
    },
    {
      "cell_type": "code",
      "metadata": {
        "id": "TbEfs-eFu8wz",
        "colab": {
          "base_uri": "https://localhost:8080/",
          "height": 0
        },
        "outputId": "00bc90a4-26dc-4e93-8127-b34f470bfc99"
      },
      "source": [
        "df_mumuki[['submission_created_at','Date','Periodo','Year','Month','Week','DayNroWeek','DayNameWeek','Time','Hora','Minute']]"
      ],
      "execution_count": 32,
      "outputs": [
        {
          "output_type": "execute_result",
          "data": {
            "text/html": [
              "<div>\n",
              "<style scoped>\n",
              "    .dataframe tbody tr th:only-of-type {\n",
              "        vertical-align: middle;\n",
              "    }\n",
              "\n",
              "    .dataframe tbody tr th {\n",
              "        vertical-align: top;\n",
              "    }\n",
              "\n",
              "    .dataframe thead th {\n",
              "        text-align: right;\n",
              "    }\n",
              "</style>\n",
              "<table border=\"1\" class=\"dataframe\">\n",
              "  <thead>\n",
              "    <tr style=\"text-align: right;\">\n",
              "      <th></th>\n",
              "      <th>submission_created_at</th>\n",
              "      <th>Date</th>\n",
              "      <th>Periodo</th>\n",
              "      <th>Year</th>\n",
              "      <th>Month</th>\n",
              "      <th>Week</th>\n",
              "      <th>DayNroWeek</th>\n",
              "      <th>DayNameWeek</th>\n",
              "      <th>Time</th>\n",
              "      <th>Hora</th>\n",
              "      <th>Minute</th>\n",
              "    </tr>\n",
              "  </thead>\n",
              "  <tbody>\n",
              "    <tr>\n",
              "      <th>0</th>\n",
              "      <td>2019-08-30 13:17:17.700</td>\n",
              "      <td>2019-08-30</td>\n",
              "      <td>2019-08</td>\n",
              "      <td>2019</td>\n",
              "      <td>8</td>\n",
              "      <td>35</td>\n",
              "      <td>4</td>\n",
              "      <td>Friday</td>\n",
              "      <td>13:17:17.700000</td>\n",
              "      <td>13</td>\n",
              "      <td>17</td>\n",
              "    </tr>\n",
              "    <tr>\n",
              "      <th>1</th>\n",
              "      <td>2019-09-04 01:29:22.351</td>\n",
              "      <td>2019-09-04</td>\n",
              "      <td>2019-09</td>\n",
              "      <td>2019</td>\n",
              "      <td>9</td>\n",
              "      <td>36</td>\n",
              "      <td>2</td>\n",
              "      <td>Wednesday</td>\n",
              "      <td>01:29:22.351000</td>\n",
              "      <td>1</td>\n",
              "      <td>29</td>\n",
              "    </tr>\n",
              "    <tr>\n",
              "      <th>2</th>\n",
              "      <td>2019-09-04 02:53:01.099</td>\n",
              "      <td>2019-09-04</td>\n",
              "      <td>2019-09</td>\n",
              "      <td>2019</td>\n",
              "      <td>9</td>\n",
              "      <td>36</td>\n",
              "      <td>2</td>\n",
              "      <td>Wednesday</td>\n",
              "      <td>02:53:01.099000</td>\n",
              "      <td>2</td>\n",
              "      <td>53</td>\n",
              "    </tr>\n",
              "    <tr>\n",
              "      <th>3</th>\n",
              "      <td>2019-09-04 02:53:24.673</td>\n",
              "      <td>2019-09-04</td>\n",
              "      <td>2019-09</td>\n",
              "      <td>2019</td>\n",
              "      <td>9</td>\n",
              "      <td>36</td>\n",
              "      <td>2</td>\n",
              "      <td>Wednesday</td>\n",
              "      <td>02:53:24.673000</td>\n",
              "      <td>2</td>\n",
              "      <td>53</td>\n",
              "    </tr>\n",
              "    <tr>\n",
              "      <th>4</th>\n",
              "      <td>2019-09-04 02:53:41.949</td>\n",
              "      <td>2019-09-04</td>\n",
              "      <td>2019-09</td>\n",
              "      <td>2019</td>\n",
              "      <td>9</td>\n",
              "      <td>36</td>\n",
              "      <td>2</td>\n",
              "      <td>Wednesday</td>\n",
              "      <td>02:53:41.949000</td>\n",
              "      <td>2</td>\n",
              "      <td>53</td>\n",
              "    </tr>\n",
              "    <tr>\n",
              "      <th>...</th>\n",
              "      <td>...</td>\n",
              "      <td>...</td>\n",
              "      <td>...</td>\n",
              "      <td>...</td>\n",
              "      <td>...</td>\n",
              "      <td>...</td>\n",
              "      <td>...</td>\n",
              "      <td>...</td>\n",
              "      <td>...</td>\n",
              "      <td>...</td>\n",
              "      <td>...</td>\n",
              "    </tr>\n",
              "    <tr>\n",
              "      <th>47178</th>\n",
              "      <td>2020-11-08 22:03:56.946</td>\n",
              "      <td>2020-11-08</td>\n",
              "      <td>2020-11</td>\n",
              "      <td>2020</td>\n",
              "      <td>11</td>\n",
              "      <td>45</td>\n",
              "      <td>6</td>\n",
              "      <td>Sunday</td>\n",
              "      <td>22:03:56.946000</td>\n",
              "      <td>22</td>\n",
              "      <td>3</td>\n",
              "    </tr>\n",
              "    <tr>\n",
              "      <th>47179</th>\n",
              "      <td>2020-11-12 11:10:08.054</td>\n",
              "      <td>2020-11-12</td>\n",
              "      <td>2020-11</td>\n",
              "      <td>2020</td>\n",
              "      <td>11</td>\n",
              "      <td>46</td>\n",
              "      <td>3</td>\n",
              "      <td>Thursday</td>\n",
              "      <td>11:10:08.054000</td>\n",
              "      <td>11</td>\n",
              "      <td>10</td>\n",
              "    </tr>\n",
              "    <tr>\n",
              "      <th>47180</th>\n",
              "      <td>2020-11-12 13:56:29.344</td>\n",
              "      <td>2020-11-12</td>\n",
              "      <td>2020-11</td>\n",
              "      <td>2020</td>\n",
              "      <td>11</td>\n",
              "      <td>46</td>\n",
              "      <td>3</td>\n",
              "      <td>Thursday</td>\n",
              "      <td>13:56:29.344000</td>\n",
              "      <td>13</td>\n",
              "      <td>56</td>\n",
              "    </tr>\n",
              "    <tr>\n",
              "      <th>47181</th>\n",
              "      <td>2020-11-16 18:22:54.768</td>\n",
              "      <td>2020-11-16</td>\n",
              "      <td>2020-11</td>\n",
              "      <td>2020</td>\n",
              "      <td>11</td>\n",
              "      <td>47</td>\n",
              "      <td>0</td>\n",
              "      <td>Monday</td>\n",
              "      <td>18:22:54.768000</td>\n",
              "      <td>18</td>\n",
              "      <td>22</td>\n",
              "    </tr>\n",
              "    <tr>\n",
              "      <th>47182</th>\n",
              "      <td>2020-11-23 21:46:55.629</td>\n",
              "      <td>2020-11-23</td>\n",
              "      <td>2020-11</td>\n",
              "      <td>2020</td>\n",
              "      <td>11</td>\n",
              "      <td>48</td>\n",
              "      <td>0</td>\n",
              "      <td>Monday</td>\n",
              "      <td>21:46:55.629000</td>\n",
              "      <td>21</td>\n",
              "      <td>46</td>\n",
              "    </tr>\n",
              "  </tbody>\n",
              "</table>\n",
              "<p>47183 rows × 11 columns</p>\n",
              "</div>"
            ],
            "text/plain": [
              "         submission_created_at        Date  ... Hora  Minute\n",
              "0      2019-08-30 13:17:17.700  2019-08-30  ...   13      17\n",
              "1      2019-09-04 01:29:22.351  2019-09-04  ...    1      29\n",
              "2      2019-09-04 02:53:01.099  2019-09-04  ...    2      53\n",
              "3      2019-09-04 02:53:24.673  2019-09-04  ...    2      53\n",
              "4      2019-09-04 02:53:41.949  2019-09-04  ...    2      53\n",
              "...                        ...         ...  ...  ...     ...\n",
              "47178  2020-11-08 22:03:56.946  2020-11-08  ...   22       3\n",
              "47179  2020-11-12 11:10:08.054  2020-11-12  ...   11      10\n",
              "47180  2020-11-12 13:56:29.344  2020-11-12  ...   13      56\n",
              "47181  2020-11-16 18:22:54.768  2020-11-16  ...   18      22\n",
              "47182  2020-11-23 21:46:55.629  2020-11-23  ...   21      46\n",
              "\n",
              "[47183 rows x 11 columns]"
            ]
          },
          "metadata": {
            "tags": []
          },
          "execution_count": 32
        }
      ]
    },
    {
      "cell_type": "markdown",
      "metadata": {
        "id": "3KScXcgju8w0"
      },
      "source": [
        "¿En qué dias de la semana se enviaron?"
      ]
    },
    {
      "cell_type": "code",
      "metadata": {
        "scrolled": true,
        "id": "YWWnJj3Lu8w0",
        "colab": {
          "base_uri": "https://localhost:8080/",
          "height": 0
        },
        "outputId": "9300d10c-23af-4d6e-a351-b949fce832fb"
      },
      "source": [
        "orderDiaSemana = df_mumuki.sort_values('DayNroWeek')\n",
        "matplotlib.pyplot.figure(figsize = [20, 6] , dpi = None , facecolor = \"wheat\" , edgecolor = None , frameon = True  , clear = False )\n",
        "ax=seaborn.histplot( x=orderDiaSemana['DayNameWeek'],data=orderDiaSemana)\n",
        "ax.set_xlabel('Día de la semana')\n",
        "ax.set_ylabel('Cant Envios')\n",
        "ax.set_title('Cantidad de envíos por día de la semana', fontsize=20)\n",
        "plt.show()"
      ],
      "execution_count": 33,
      "outputs": [
        {
          "output_type": "display_data",
          "data": {
            "image/png": "[encoded data removed]",
            "text/plain": [
              "<Figure size 1440x432 with 1 Axes>"
            ]
          },
          "metadata": {
            "tags": []
          }
        }
      ]
    },
    {
      "cell_type": "markdown",
      "metadata": {
        "id": "gu00JKR7u8w0"
      },
      "source": [
        "El día de la semana que más ejercicios se envían son el Lunes y Martes. El Sábado es el día de la semana que menos ejercicios presentan."
      ]
    },
    {
      "cell_type": "markdown",
      "metadata": {
        "id": "8z8TqnZAu8w0"
      },
      "source": [
        "## 2.10 `student_uid`"
      ]
    },
    {
      "cell_type": "markdown",
      "metadata": {
        "id": "X5zhlorKu8w1"
      },
      "source": [
        "Es el identificador (anonimizado) de estudiante.\n",
        "\n",
        "Nos preguntamos cuántas personas tenemos en nuestro dataset? "
      ]
    },
    {
      "cell_type": "code",
      "metadata": {
        "id": "Zv_xcTs8u8w1",
        "colab": {
          "base_uri": "https://localhost:8080/"
        },
        "outputId": "9ac3ff48-1614-4075-b64b-5db273c72b3b"
      },
      "source": [
        "print(f\"La cantidad de estudiante que tiene el data set es: {len(df_mumuki['student_uid'].unique())}\") "
      ],
      "execution_count": 34,
      "outputs": [
        {
          "output_type": "stream",
          "text": [
            "La cantidad de estudiante que tiene el data set es: 286\n"
          ],
          "name": "stdout"
        }
      ]
    },
    {
      "cell_type": "code",
      "metadata": {
        "id": "HBffzQbku8w1",
        "colab": {
          "base_uri": "https://localhost:8080/"
        },
        "outputId": "99272dc5-11ba-41d0-ac28-6a06e82f6749"
      },
      "source": [
        "print(f\"Existen vacíos en los id de estudiantes?: {df_mumuki.student_uid.isnull().values.any()}\") "
      ],
      "execution_count": 35,
      "outputs": [
        {
          "output_type": "stream",
          "text": [
            "Existen vacíos en los id de estudiantes?: False\n"
          ],
          "name": "stdout"
        }
      ]
    },
    {
      "cell_type": "code",
      "metadata": {
        "scrolled": true,
        "id": "jPQ7F_ELu8w1",
        "colab": {
          "base_uri": "https://localhost:8080/",
          "height": 0
        },
        "outputId": "aeb582d8-2f44-441f-a8e4-b4632f3c488d"
      },
      "source": [
        "ax = seaborn.histplot(data=df_mumuki, x='student_uid')\n",
        "\n",
        "ax.set_ylabel('cant. envios')\n",
        "ax.set_xlabel('id estudiante')\n",
        "ax.set_title('Cantidad de envios por estudiante', fontsize=20)\n",
        "plt.show()"
      ],
      "execution_count": 36,
      "outputs": [
        {
          "output_type": "display_data",
          "data": {
            "image/png": "[encoded data removed]",
            "text/plain": [
              "<Figure size 432x288 with 1 Axes>"
            ]
          },
          "metadata": {
            "tags": [],
            "needs_background": "light"
          }
        }
      ]
    },
    {
      "cell_type": "code",
      "metadata": {
        "id": "TP2cyAiku8w2",
        "colab": {
          "base_uri": "https://localhost:8080/"
        },
        "outputId": "de2ff469-4561-42e3-f68b-136abebe9400"
      },
      "source": [
        "df_mumuki['student_uid'].min()"
      ],
      "execution_count": 37,
      "outputs": [
        {
          "output_type": "execute_result",
          "data": {
            "text/plain": [
              "-1"
            ]
          },
          "metadata": {
            "tags": []
          },
          "execution_count": 37
        }
      ]
    },
    {
      "cell_type": "markdown",
      "metadata": {
        "id": "7eiOIyuVu8w2"
      },
      "source": [
        "En la gráfica, detectamos separacion de seguimiento identificacion de estudiantes, por la cual verificamos cual es el identificardor minimo y detectamos que el valor es igual a -1."
      ]
    },
    {
      "cell_type": "code",
      "metadata": {
        "id": "POlobJotu8w3",
        "colab": {
          "base_uri": "https://localhost:8080/"
        },
        "outputId": "91b74e3c-362b-4f9e-be47-508e0c0cc7ec"
      },
      "source": [
        "print(f\"La cantidad de envios que tiene el estudiante identificado con -1 es: {len(df_mumuki[df_mumuki['student_uid']==-1])}\")  "
      ],
      "execution_count": 38,
      "outputs": [
        {
          "output_type": "stream",
          "text": [
            "La cantidad de envios que tiene el estudiante identificado con -1 es: 72\n"
          ],
          "name": "stdout"
        }
      ]
    },
    {
      "cell_type": "markdown",
      "metadata": {
        "id": "IuudE8lgu8w3"
      },
      "source": [
        "Al no identificar si es un estudiante o varios, si es un error del dataset o no, se definio no tener en cuenta la información de los registro con 'student_uid' igual a -1. Por lo tanto se eliminara los registros."
      ]
    },
    {
      "cell_type": "code",
      "metadata": {
        "id": "tbcAQN8Pu8w3"
      },
      "source": [
        "df_mumuki_sin_uid_1 = df_mumuki[df_mumuki['student_uid']!=-1]"
      ],
      "execution_count": 39,
      "outputs": []
    },
    {
      "cell_type": "markdown",
      "metadata": {
        "id": "7c4RDlvMu8w3"
      },
      "source": [
        "Se valida que se eliminaron los registros"
      ]
    },
    {
      "cell_type": "code",
      "metadata": {
        "id": "SVVBIEusu8w4",
        "colab": {
          "base_uri": "https://localhost:8080/"
        },
        "outputId": "c730d0fc-5794-4c74-c604-fed5755654b9"
      },
      "source": [
        "print(f\"La cantidad de envios que tiene el estudiante identificado con -1 es: {len(df_mumuki_sin_uid_1[df_mumuki_sin_uid_1['student_uid']==-1])}\")  "
      ],
      "execution_count": 40,
      "outputs": [
        {
          "output_type": "stream",
          "text": [
            "La cantidad de envios que tiene el estudiante identificado con -1 es: 0\n"
          ],
          "name": "stdout"
        }
      ]
    },
    {
      "cell_type": "markdown",
      "metadata": {
        "id": "drw8xsEJu8w4"
      },
      "source": [
        "# 3. Preguntas realizadas durante la exploración del Dataset"
      ]
    },
    {
      "cell_type": "markdown",
      "metadata": {
        "id": "WhRxvLLtu8w4"
      },
      "source": [
        "## 3.1 ¿Cuántos envíos se realizaron por user?"
      ]
    },
    {
      "cell_type": "code",
      "metadata": {
        "id": "1wGN-mxYu8w4",
        "colab": {
          "base_uri": "https://localhost:8080/",
          "height": 0
        },
        "outputId": "b5e22417-0bbd-4106-93a7-be879c246548"
      },
      "source": [
        "df_mumuki_sin_uid_1.groupby(['student_uid']).agg({'exercise_name':'count'})"
      ],
      "execution_count": 41,
      "outputs": [
        {
          "output_type": "execute_result",
          "data": {
            "text/html": [
              "<div>\n",
              "<style scoped>\n",
              "    .dataframe tbody tr th:only-of-type {\n",
              "        vertical-align: middle;\n",
              "    }\n",
              "\n",
              "    .dataframe tbody tr th {\n",
              "        vertical-align: top;\n",
              "    }\n",
              "\n",
              "    .dataframe thead th {\n",
              "        text-align: right;\n",
              "    }\n",
              "</style>\n",
              "<table border=\"1\" class=\"dataframe\">\n",
              "  <thead>\n",
              "    <tr style=\"text-align: right;\">\n",
              "      <th></th>\n",
              "      <th>exercise_name</th>\n",
              "    </tr>\n",
              "    <tr>\n",
              "      <th>student_uid</th>\n",
              "      <th></th>\n",
              "    </tr>\n",
              "  </thead>\n",
              "  <tbody>\n",
              "    <tr>\n",
              "      <th>75</th>\n",
              "      <td>1</td>\n",
              "    </tr>\n",
              "    <tr>\n",
              "      <th>76</th>\n",
              "      <td>89</td>\n",
              "    </tr>\n",
              "    <tr>\n",
              "      <th>77</th>\n",
              "      <td>186</td>\n",
              "    </tr>\n",
              "    <tr>\n",
              "      <th>78</th>\n",
              "      <td>84</td>\n",
              "    </tr>\n",
              "    <tr>\n",
              "      <th>79</th>\n",
              "      <td>95</td>\n",
              "    </tr>\n",
              "    <tr>\n",
              "      <th>...</th>\n",
              "      <td>...</td>\n",
              "    </tr>\n",
              "    <tr>\n",
              "      <th>358</th>\n",
              "      <td>6</td>\n",
              "    </tr>\n",
              "    <tr>\n",
              "      <th>359</th>\n",
              "      <td>38</td>\n",
              "    </tr>\n",
              "    <tr>\n",
              "      <th>361</th>\n",
              "      <td>1</td>\n",
              "    </tr>\n",
              "    <tr>\n",
              "      <th>362</th>\n",
              "      <td>3</td>\n",
              "    </tr>\n",
              "    <tr>\n",
              "      <th>363</th>\n",
              "      <td>19</td>\n",
              "    </tr>\n",
              "  </tbody>\n",
              "</table>\n",
              "<p>285 rows × 1 columns</p>\n",
              "</div>"
            ],
            "text/plain": [
              "             exercise_name\n",
              "student_uid               \n",
              "75                       1\n",
              "76                      89\n",
              "77                     186\n",
              "78                      84\n",
              "79                      95\n",
              "...                    ...\n",
              "358                      6\n",
              "359                     38\n",
              "361                      1\n",
              "362                      3\n",
              "363                     19\n",
              "\n",
              "[285 rows x 1 columns]"
            ]
          },
          "metadata": {
            "tags": []
          },
          "execution_count": 41
        }
      ]
    },
    {
      "cell_type": "markdown",
      "metadata": {
        "id": "J05fhjqIu8w5"
      },
      "source": [
        "## 3.2 ¿Cuántas personas aprobaron aunque sea un ejercicio que han enviado?"
      ]
    },
    {
      "cell_type": "markdown",
      "metadata": {
        "id": "rEx3g1f8u8w6"
      },
      "source": [
        "Agrupamos por usuarix, y por estado de envío, de acuerdo a la reagrupación de paso y no_paso."
      ]
    },
    {
      "cell_type": "code",
      "metadata": {
        "id": "h20RyUH6u8w6"
      },
      "source": [
        "users_por_status=df_mumuki_sin_uid_1.groupby('student_uid').Estatus.value_counts() \\\n",
        ".unstack(fill_value=0).reset_index()"
      ],
      "execution_count": 42,
      "outputs": []
    },
    {
      "cell_type": "code",
      "metadata": {
        "id": "6Xo8rwteu8w7",
        "colab": {
          "base_uri": "https://localhost:8080/"
        },
        "outputId": "b32cc6c1-a8bd-4e82-d5fe-2d90ea3b17c1"
      },
      "source": [
        "print(f\"La cantidad de personas que aprobaron aunque sea un ejercicio son: {len(users_por_status[users_por_status['paso']>0])}\")   "
      ],
      "execution_count": 43,
      "outputs": [
        {
          "output_type": "stream",
          "text": [
            "La cantidad de personas que aprobaron aunque sea un ejercicio son: 279\n"
          ],
          "name": "stdout"
        }
      ]
    },
    {
      "cell_type": "markdown",
      "metadata": {
        "id": "3B6luBIsu8w7"
      },
      "source": [
        "## 3.3 ¿Cuántas personas desaprobaron aunque sea un ejercicio que han enviado?"
      ]
    },
    {
      "cell_type": "code",
      "metadata": {
        "id": "agsSfujNu8w7",
        "colab": {
          "base_uri": "https://localhost:8080/"
        },
        "outputId": "d1af0383-2c3e-4fe7-e762-19c395c4c9a5"
      },
      "source": [
        "print(f\"La cantidad de personas que desaprobaron aunque sea un ejercicio son: {len(users_por_status[users_por_status['no_paso']>0])}\") "
      ],
      "execution_count": 44,
      "outputs": [
        {
          "output_type": "stream",
          "text": [
            "La cantidad de personas que desaprobaron aunque sea un ejercicio son: 284\n"
          ],
          "name": "stdout"
        }
      ]
    },
    {
      "cell_type": "markdown",
      "metadata": {
        "id": "Y6i0MnDVu8w8"
      },
      "source": [
        "Hay más usuarixs que realizaron envíos que no pasaron la prueba que los que pasaron. Es decir, hay personas dentro del dataset que todos sus envíos fueron desaprobados."
      ]
    },
    {
      "cell_type": "markdown",
      "metadata": {
        "id": "1uJuZ60ru8w8"
      },
      "source": [
        "## 3.4 ¿Cuántas personas no aprobaron ningun ejercicio?"
      ]
    },
    {
      "cell_type": "code",
      "metadata": {
        "id": "KZQZWowvu8w8",
        "colab": {
          "base_uri": "https://localhost:8080/"
        },
        "outputId": "6261cf86-ac35-41e5-a494-16a8b0ca0d52"
      },
      "source": [
        "print(f\"En el dataset, {len(users_por_status[users_por_status['paso']==0])} estudiantes hicieron envíos que sólo desaprobaron.\")  "
      ],
      "execution_count": 45,
      "outputs": [
        {
          "output_type": "stream",
          "text": [
            "En el dataset, 6 estudiantes hicieron envíos que sólo desaprobaron.\n"
          ],
          "name": "stdout"
        }
      ]
    },
    {
      "cell_type": "markdown",
      "metadata": {
        "id": "1qrsmV9vu8w8"
      },
      "source": [
        "## 3.5  ¿Cuántas personas aprobaron todos los ejercicios que enviaron?"
      ]
    },
    {
      "cell_type": "code",
      "metadata": {
        "id": "1zid92LAu8w8",
        "colab": {
          "base_uri": "https://localhost:8080/"
        },
        "outputId": "9431a330-d59b-42a1-87e5-5eca57637115"
      },
      "source": [
        "print(f\"En el dataset, {len(users_por_status[users_por_status['no_paso']==0])} estudiante/s aprobo todos los envíos que realizó.\")  "
      ],
      "execution_count": 46,
      "outputs": [
        {
          "output_type": "stream",
          "text": [
            "En el dataset, 1 estudiante/s aprobo todos los envíos que realizó.\n"
          ],
          "name": "stdout"
        }
      ]
    },
    {
      "cell_type": "markdown",
      "metadata": {
        "id": "8edxdL29u8w9"
      },
      "source": [
        "## 3.6 ¿Cuáles son los ejercicios con más envíos?"
      ]
    },
    {
      "cell_type": "code",
      "metadata": {
        "scrolled": true,
        "id": "FndBJqotu8w9"
      },
      "source": [
        "nombre_ejercicios_con_mas_ocurrencias=df_mumuki_sin_uid_1['exercise_name'].value_counts().index.tolist()[:10]\n",
        "df_ejercicios_con_mas_ocurrencias=df_mumuki_sin_uid_1[df_mumuki_sin_uid_1['exercise_name'].isin(nombre_ejercicios_con_mas_ocurrencias)]"
      ],
      "execution_count": 47,
      "outputs": []
    },
    {
      "cell_type": "code",
      "metadata": {
        "id": "AhjwBul2u8w9",
        "colab": {
          "base_uri": "https://localhost:8080/",
          "height": 0
        },
        "outputId": "21da5056-9f22-4145-c8f7-0998896b223e"
      },
      "source": [
        "seaborn.catplot(\n",
        "    data=df_ejercicios_con_mas_ocurrencias, \n",
        "    y=df_ejercicios_con_mas_ocurrencias['exercise_name'].value_counts().index,  \n",
        "    x=df_ejercicios_con_mas_ocurrencias['exercise_name'].value_counts().values,\n",
        "    kind='bar')\n",
        "plt.xlabel('cant envios')\n",
        "plt.ylabel('exercise_name')\n",
        "plt.title('Top 10 de cantidad de envíos por nombre de ejercicios', fontsize=20)"
      ],
      "execution_count": 48,
      "outputs": [
        {
          "output_type": "execute_result",
          "data": {
            "text/plain": [
              "Text(0.5, 1.0, 'Top 10 de cantidad de envíos por nombre de ejercicios')"
            ]
          },
          "metadata": {
            "tags": []
          },
          "execution_count": 48
        },
        {
          "output_type": "display_data",
          "data": {
            "image/png": "[encoded data removed]",
            "text/plain": [
              "<Figure size 360x360 with 1 Axes>"
            ]
          },
          "metadata": {
            "tags": [],
            "needs_background": "light"
          }
        }
      ]
    },
    {
      "cell_type": "markdown",
      "metadata": {
        "id": "UQi83xxHu8w9"
      },
      "source": [
        "**Modificaciones al dataSet:**\n",
        "\n",
        "En esta notebook se crearon columnas para un mejor análisis. Se crearon las siguientes columnas para datos de tiempo: año, mes, periodo, numero de semana del año, numero y dia de la semana, separo el tiempo, hora, minuto.\n",
        "\n",
        "Se creo una funcion para asignar dos categorias de resultados: Paso y no paso. \n",
        "\n",
        "Y se unifico nombres de los siguientes ejercicios. La explicación de la unificación de nombres estan en la notebok con el nombre: '00_Cambio_de_nombres_de_ejercicios'"
      ]
    },
    {
      "cell_type": "code",
      "metadata": {
        "id": "ahMKsP9bu8w9"
      },
      "source": [
        "df_mumuki_sin_uid_1['exercise_name'] = df_mumuki_sin_uid_1['exercise_name'].replace(\n",
        "      {'PIenso que así es más fácil':'Pienso que así es más fácil', \n",
        "       '¿Es par?':'Libros de la buena memoria', \n",
        "       'Más booleanos' :'El retorno del booleano'\n",
        "       })"
      ],
      "execution_count": 49,
      "outputs": []
    },
    {
      "cell_type": "code",
      "metadata": {
        "id": "DD7oQfkfu8w-"
      },
      "source": [
        "df_mumuki_sin_uid_1['exercise_name'] = df_mumuki_sin_uid_1['exercise_name'].replace(\n",
        "      {'Funciones, declaración': 'Funciones, declaración / No tan distintos',\n",
        "       'No tan distintos': 'Funciones, declaración / No tan distintos' })"
      ],
      "execution_count": 50,
      "outputs": []
    },
    {
      "cell_type": "code",
      "metadata": {
        "id": "qe5qYCuFu8w-"
      },
      "source": [
        "df_mumuki_sin_uid_1['exercise_name'] = df_mumuki_sin_uid_1['exercise_name'].replace(\n",
        "      {'Calefones': 'Calefones / Poniendo topes',\n",
        "       'Poniendo topes': 'Calefones / Poniendo topes'})"
      ],
      "execution_count": 51,
      "outputs": []
    },
    {
      "cell_type": "code",
      "metadata": {
        "id": "Ks3ONNnru8w-"
      },
      "source": [
        "df_mumuki_sin_uid_1['exercise_name'] = df_mumuki_sin_uid_1['exercise_name'].replace(\n",
        "      {'Datos de todo tipo': 'Tipos de datos / Datos de todo tipo',\n",
        "       'Tipos de datos': 'Tipos de datos / Datos de todo tipo'})"
      ],
      "execution_count": 52,
      "outputs": []
    },
    {
      "cell_type": "markdown",
      "metadata": {
        "id": "_xkl_K0wu8w-"
      },
      "source": [
        "Se visualiza como queda el dataSet con los cambios"
      ]
    },
    {
      "cell_type": "code",
      "metadata": {
        "id": "XvV965Qxu8w_",
        "colab": {
          "base_uri": "https://localhost:8080/",
          "height": 0
        },
        "outputId": "d07cf1c5-bf8f-4171-c611-9884535e439a"
      },
      "source": [
        "df_mumuki_sin_uid_1[:3]"
      ],
      "execution_count": 53,
      "outputs": [
        {
          "output_type": "execute_result",
          "data": {
            "text/html": [
              "<div>\n",
              "<style scoped>\n",
              "    .dataframe tbody tr th:only-of-type {\n",
              "        vertical-align: middle;\n",
              "    }\n",
              "\n",
              "    .dataframe tbody tr th {\n",
              "        vertical-align: top;\n",
              "    }\n",
              "\n",
              "    .dataframe thead th {\n",
              "        text-align: right;\n",
              "    }\n",
              "</style>\n",
              "<table border=\"1\" class=\"dataframe\">\n",
              "  <thead>\n",
              "    <tr style=\"text-align: right;\">\n",
              "      <th></th>\n",
              "      <th>exercise_eid</th>\n",
              "      <th>exercise_name</th>\n",
              "      <th>expectation_results</th>\n",
              "      <th>guide_slug</th>\n",
              "      <th>result</th>\n",
              "      <th>sid</th>\n",
              "      <th>student_uid</th>\n",
              "      <th>submission_content</th>\n",
              "      <th>submission_created_at</th>\n",
              "      <th>submission_status</th>\n",
              "      <th>submissions_count</th>\n",
              "      <th>test_results</th>\n",
              "      <th>Estatus</th>\n",
              "      <th>Date</th>\n",
              "      <th>Periodo</th>\n",
              "      <th>Year</th>\n",
              "      <th>Month</th>\n",
              "      <th>Week</th>\n",
              "      <th>DayNroWeek</th>\n",
              "      <th>DayNameWeek</th>\n",
              "      <th>Time</th>\n",
              "      <th>Hora</th>\n",
              "      <th>Minute</th>\n",
              "    </tr>\n",
              "  </thead>\n",
              "  <tbody>\n",
              "    <tr>\n",
              "      <th>0</th>\n",
              "      <td>1</td>\n",
              "      <td>Funciones, declaración / No tan distintos</td>\n",
              "      <td>[]</td>\n",
              "      <td>mumukiproject/mumuki-guia-python-funciones-tip...</td>\n",
              "      <td>NaN</td>\n",
              "      <td>0</td>\n",
              "      <td>76</td>\n",
              "      <td>def mitad(numero):\\r\\n  return numero / 2</td>\n",
              "      <td>2019-08-30 13:17:17.700</td>\n",
              "      <td>passed</td>\n",
              "      <td>0</td>\n",
              "      <td>[{'title': 'Mitad de 10 es 5', 'status': 'pass...</td>\n",
              "      <td>paso</td>\n",
              "      <td>2019-08-30</td>\n",
              "      <td>2019-08</td>\n",
              "      <td>2019</td>\n",
              "      <td>8</td>\n",
              "      <td>35</td>\n",
              "      <td>4</td>\n",
              "      <td>Friday</td>\n",
              "      <td>13:17:17.700000</td>\n",
              "      <td>13</td>\n",
              "      <td>17</td>\n",
              "    </tr>\n",
              "    <tr>\n",
              "      <th>1</th>\n",
              "      <td>1</td>\n",
              "      <td>Funciones, declaración / No tan distintos</td>\n",
              "      <td>[]</td>\n",
              "      <td>mumukiproject/mumuki-guia-python-funciones-tip...</td>\n",
              "      <td>NaN</td>\n",
              "      <td>1</td>\n",
              "      <td>77</td>\n",
              "      <td>def mitad(numero):\\r\\n  return numero / 2</td>\n",
              "      <td>2019-09-04 01:29:22.351</td>\n",
              "      <td>passed</td>\n",
              "      <td>0</td>\n",
              "      <td>[{'title': 'Mitad de 10 es 5', 'status': 'pass...</td>\n",
              "      <td>paso</td>\n",
              "      <td>2019-09-04</td>\n",
              "      <td>2019-09</td>\n",
              "      <td>2019</td>\n",
              "      <td>9</td>\n",
              "      <td>36</td>\n",
              "      <td>2</td>\n",
              "      <td>Wednesday</td>\n",
              "      <td>01:29:22.351000</td>\n",
              "      <td>1</td>\n",
              "      <td>29</td>\n",
              "    </tr>\n",
              "    <tr>\n",
              "      <th>2</th>\n",
              "      <td>1</td>\n",
              "      <td>Funciones, declaración / No tan distintos</td>\n",
              "      <td>[]</td>\n",
              "      <td>mumukiproject/mumuki-guia-python-funciones-tip...</td>\n",
              "      <td>NaN</td>\n",
              "      <td>2</td>\n",
              "      <td>78</td>\n",
              "      <td>def Mitas(numero):\\r\\n  return 2 / numero\\r\\n</td>\n",
              "      <td>2019-09-04 02:53:01.099</td>\n",
              "      <td>failed</td>\n",
              "      <td>0</td>\n",
              "      <td>[{'title': 'Mitad de 10 es 5', 'status': 'fail...</td>\n",
              "      <td>no_paso</td>\n",
              "      <td>2019-09-04</td>\n",
              "      <td>2019-09</td>\n",
              "      <td>2019</td>\n",
              "      <td>9</td>\n",
              "      <td>36</td>\n",
              "      <td>2</td>\n",
              "      <td>Wednesday</td>\n",
              "      <td>02:53:01.099000</td>\n",
              "      <td>2</td>\n",
              "      <td>53</td>\n",
              "    </tr>\n",
              "  </tbody>\n",
              "</table>\n",
              "</div>"
            ],
            "text/plain": [
              "   exercise_eid                              exercise_name  ... Hora Minute\n",
              "0             1  Funciones, declaración / No tan distintos  ...   13     17\n",
              "1             1  Funciones, declaración / No tan distintos  ...    1     29\n",
              "2             1  Funciones, declaración / No tan distintos  ...    2     53\n",
              "\n",
              "[3 rows x 23 columns]"
            ]
          },
          "metadata": {
            "tags": []
          },
          "execution_count": 53
        }
      ]
    },
    {
      "cell_type": "markdown",
      "metadata": {
        "id": "gaaJhrLau8w_"
      },
      "source": [
        "#### Crear y guardar un nuevo conjunto de datos con todas las transformaciones realizadas."
      ]
    },
    {
      "cell_type": "code",
      "metadata": {
        "id": "yLhSc5gDu8w_"
      },
      "source": [
        "df_mumuki_sin_uid_1.to_csv('DataSet_Mumuki_New.csv')"
      ],
      "execution_count": 54,
      "outputs": []
    }
  ]
}