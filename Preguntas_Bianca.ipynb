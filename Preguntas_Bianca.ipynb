{
 "cells": [
  {
   "cell_type": "markdown",
   "metadata": {},
   "source": [
    "**Calcular metricas refutando una hipotesis."
   ]
  },
  {
   "cell_type": "markdown",
   "metadata": {},
   "source": [
    "# Orden Logico:\n",
    "1) buscar y establecer el orden logico de los ejercicio, tener en cuenta que hay 3 guias y dentro de ellas hay un grupo de ejercicios. Extrayendo y uniendo por cada guia podemos establecer el orden. Definir que hacer con los ejercicios que no identifica por nombre en cada guia o comparten mismo id y distinto nombre.\n",
    "\n",
    "**2) H1, los estudiantes realizan el orden logico de los ejercicios establecido por mumuki?\n",
    "            Determinar el procentaje que siguen el orden logico.\n",
    "            /Respeta el estudiante la secuencia real que propone mumuki?\n",
    "            /Saber si los estudiantes respeta el orde de las guias y ejercicios**\n",
    "            \n",
    "3) En caso que no siguen un orden logico, cual es el orden con mayor frecuencia?\n",
    "            /Cual es la secuencia que el estudiante mas realiza.\n",
    "            /cual es el orden con mas frecuencia/ trabajar con grupos/trabajar con clastering\n",
    "    Porponer: por cada ejericicio por persona tomar una fecha (min y max) y ver en que orden realiza los ejercicio, despues determinar cuantas personas siguen la misma secuencia."
   ]
  },
  {
   "cell_type": "markdown",
   "metadata": {},
   "source": [
    "# Frecuencia de acceso a la app: \n",
    "Se determina que la fecha de envio puede considerance como el dia de ingreso a la app.\n",
    "**Determinar la cantidad de dias que ingresa un estudiante.**\n",
    "Con que frecuencia entran?\n",
    "- Cual es la cantidad de ingresos por semana? Cuantas personas ingresa por semana?\n",
    "- Cual es la cantidad de ingresos por estudiante? Cuantos dias ingresa por estudiante? Cantidad dias que accedieron\n",
    "- Cantidad de dias que entro a la semana.\n",
    "- Por dia cuantos ingresos/ intentos tiene por estudiante/ ejercicios - estudiante\n",
    "\n",
    "**Todas las personas acceden la misma cantidad de dias aproximadamente**\n",
    "\n",
    "**Cuanto tiempo tarda entre realizar un envio y otro por estudiante y entre ejercicios**\n",
    "\n",
    "- Cuantas sesiones/guias/ejercicios envio en un periodo de tiempo.\n",
    "- Cual es su periodo de uso.\n",
    "- Pasa mucho tiempo entre enviar un ejercicio y otro ejercicio?\n",
    "- tiempo promedio de mandar ejercicios\n",
    "\n",
    "- Promedio por ejercicio y por estudiante de envios\n",
    "\n",
    "H1 Es cierto que a todos los estudiantes le lleva aproximadamente el mismo tiempo resolver los ejercicios?\n",
    "   Es cierto que a todos los ejercicios le lleva aproximadamente el mismo tiempo de un ejercico a otro (determinar tolerancia + o -)\n",
    "   \n",
    "   Distribucion de los numeros /desviacion estandar entre los ejercicio o no"
   ]
  },
  {
   "cell_type": "markdown",
   "metadata": {},
   "source": [
    "# Frustracion:\n",
    "- Cantidad de intentos por persona de cada ejercicio (nos va a permitir determinar la dificultad de resolucion, la intensidad del estudiante.\n",
    "- Cuantas pruebas necesita para llegar a una prueba\n",
    "\n",
    "**Realizar mas intentos es porque le cuesta mas?**\n",
    "- Aca hablamos de estilo de persona, hay dos estilos: 1) planificadores/ pensadores 2) manipulan - Tinkerer vs Planner\n",
    "- Llega hasta el final\n",
    "- Cuantos llegaron\n",
    "- Cuantos intentos hizo en rojo\n",
    "- Aprovo y no intento de nuevo\n",
    "\n",
    "**Cantidad fallos vs cantidad intentos (trampa/ruido)**\n",
    "- Quien llega al final, puede tener mas intentos fallidos.\n",
    "- Mas fallidos puede ser que hizo mas ejercicios.\n",
    "\n",
    "**H1. Quienes tienen status faild tiene un mayor drado de avance?\n",
    "\n",
    "-todas las estudiantes le lelva el mismo tiempo los ejercicios.\n",
    "\n",
    "- No hay grupos de ejercicos que presenten mayor tiempo (dificultad)\n",
    "        Todos los ejercicios tienen la misma cantidad fail, errores\n",
    "        \n",
    "% ocurre cada uno de los status        "
   ]
  }
 ],
 "metadata": {
  "kernelspec": {
   "display_name": "Python 3",
   "language": "python",
   "name": "python3"
  },
  "language_info": {
   "codemirror_mode": {
    "name": "ipython",
    "version": 3
   },
   "file_extension": ".py",
   "mimetype": "text/x-python",
   "name": "python",
   "nbconvert_exporter": "python",
   "pygments_lexer": "ipython3",
   "version": "3.8.5"
  }
 },
 "nbformat": 4,
 "nbformat_minor": 4
}
