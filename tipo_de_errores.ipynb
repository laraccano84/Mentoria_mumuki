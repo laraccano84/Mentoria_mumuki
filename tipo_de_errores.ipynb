{
  "nbformat": 4,
  "nbformat_minor": 0,
  "metadata": {
    "colab": {
      "name": "tipo de errores.ipynb",
      "provenance": [],
      "collapsed_sections": [],
      "authorship_tag": "ABX9TyMMxWUlchRGkWJOTHFOAMjc",
      "include_colab_link": true
    },
    "kernelspec": {
      "name": "python3",
      "display_name": "Python 3"
    },
    "language_info": {
      "name": "python"
    }
  },
  "cells": [
    {
      "cell_type": "markdown",
      "metadata": {
        "id": "view-in-github",
        "colab_type": "text"
      },
      "source": [
        "<a href=\"https://colab.research.google.com/github/laraccano84/Mentoria_mumuki/blob/main/tipo_de_errores.ipynb\" target=\"_parent\"><img src=\"https://colab.research.google.com/assets/colab-badge.svg\" alt=\"Open In Colab\"/></a>"
      ]
    },
    {
      "cell_type": "code",
      "metadata": {
        "id": "ym9mKYFs6LiT"
      },
      "source": [
        "import io\n",
        "import matplotlib\n",
        "import matplotlib.pyplot as plt\n",
        "import numpy as np\n",
        "import pandas as pd\n",
        "import seaborn\n",
        "import time\n",
        "import datetime as dt\n",
        "import math\n",
        "import glob\n",
        "\n",
        "seaborn.set_context('talk')"
      ],
      "execution_count": 68,
      "outputs": []
    },
    {
      "cell_type": "code",
      "metadata": {
        "id": "hVhXBxK5Gw6z"
      },
      "source": [
        "url = 'https://raw.githubusercontent.com/laraccano84/Mentoria_mumuki/main/Entregable_2/DataSet_Mumuki_Outliers.csv'\n",
        "df_mumuki = pd.read_csv(url)\n",
        "df_mumuki=df_mumuki.drop(columns='Unnamed: 0',axis=1)"
      ],
      "execution_count": 69,
      "outputs": []
    },
    {
      "cell_type": "code",
      "metadata": {
        "colab": {
          "base_uri": "https://localhost:8080/",
          "height": 1000
        },
        "id": "hQmux4a-JIRz",
        "outputId": "d63e6097-e6cc-4641-ea3c-ba2e3c25fea4"
      },
      "source": [
        "df_mumuki[:3]"
      ],
      "execution_count": 70,
      "outputs": [
        {
          "output_type": "execute_result",
          "data": {
            "text/html": [
              "<div>\n",
              "<style scoped>\n",
              "    .dataframe tbody tr th:only-of-type {\n",
              "        vertical-align: middle;\n",
              "    }\n",
              "\n",
              "    .dataframe tbody tr th {\n",
              "        vertical-align: top;\n",
              "    }\n",
              "\n",
              "    .dataframe thead th {\n",
              "        text-align: right;\n",
              "    }\n",
              "</style>\n",
              "<table border=\"1\" class=\"dataframe\">\n",
              "  <thead>\n",
              "    <tr style=\"text-align: right;\">\n",
              "      <th></th>\n",
              "      <th>exercise_name</th>\n",
              "      <th>expectation_results</th>\n",
              "      <th>guide_slug</th>\n",
              "      <th>result</th>\n",
              "      <th>sid</th>\n",
              "      <th>student_uid</th>\n",
              "      <th>submission_content</th>\n",
              "      <th>submission_created_at</th>\n",
              "      <th>submission_status</th>\n",
              "      <th>submissions_count</th>\n",
              "      <th>test_results</th>\n",
              "      <th>Estatus</th>\n",
              "      <th>Date</th>\n",
              "      <th>Periodo</th>\n",
              "      <th>Year</th>\n",
              "      <th>Month</th>\n",
              "      <th>Week</th>\n",
              "      <th>DayNroWeek</th>\n",
              "      <th>DayNameWeek</th>\n",
              "      <th>Time</th>\n",
              "      <th>Hora</th>\n",
              "      <th>Minute</th>\n",
              "      <th>lesson_number</th>\n",
              "      <th>exercise_index_per_lesson</th>\n",
              "      <th>id_exercise</th>\n",
              "      <th>created_at</th>\n",
              "    </tr>\n",
              "  </thead>\n",
              "  <tbody>\n",
              "    <tr>\n",
              "      <th>0</th>\n",
              "      <td>Funciones, declaración / No tan distintos</td>\n",
              "      <td>[]</td>\n",
              "      <td>mumukiproject/mumuki-guia-python-funciones-tipos-de-datos</td>\n",
              "      <td>NaN</td>\n",
              "      <td>0</td>\n",
              "      <td>76</td>\n",
              "      <td>def mitad(numero):\\r\\n  return numero / 2</td>\n",
              "      <td>2019-08-30 13:17:17.700</td>\n",
              "      <td>passed</td>\n",
              "      <td>0</td>\n",
              "      <td>[{'title': 'Mitad de 10 es 5', 'status': 'passed', 'result': ''}, {'title': 'Mitad de 20 es 10', 'status': 'passed', 'result': ''}, {'title': 'Mitad de 2 es 1', 'status': 'passed', 'result': ''}]</td>\n",
              "      <td>paso</td>\n",
              "      <td>2019-08-30</td>\n",
              "      <td>2019-08</td>\n",
              "      <td>2019</td>\n",
              "      <td>8</td>\n",
              "      <td>35</td>\n",
              "      <td>4</td>\n",
              "      <td>Friday</td>\n",
              "      <td>13:17:17.700000</td>\n",
              "      <td>13</td>\n",
              "      <td>17</td>\n",
              "      <td>1</td>\n",
              "      <td>1</td>\n",
              "      <td>1</td>\n",
              "      <td>2019-08-30 13:17:17.700</td>\n",
              "    </tr>\n",
              "    <tr>\n",
              "      <th>1</th>\n",
              "      <td>Funciones, declaración / No tan distintos</td>\n",
              "      <td>[]</td>\n",
              "      <td>mumukiproject/mumuki-guia-python-funciones-tipos-de-datos</td>\n",
              "      <td>NaN</td>\n",
              "      <td>1</td>\n",
              "      <td>77</td>\n",
              "      <td>def mitad(numero):\\r\\n  return numero / 2</td>\n",
              "      <td>2019-09-04 01:29:22.351</td>\n",
              "      <td>passed</td>\n",
              "      <td>0</td>\n",
              "      <td>[{'title': 'Mitad de 10 es 5', 'status': 'passed', 'result': ''}, {'title': 'Mitad de 20 es 10', 'status': 'passed', 'result': ''}, {'title': 'Mitad de 2 es 1', 'status': 'passed', 'result': ''}]</td>\n",
              "      <td>paso</td>\n",
              "      <td>2019-09-04</td>\n",
              "      <td>2019-09</td>\n",
              "      <td>2019</td>\n",
              "      <td>9</td>\n",
              "      <td>36</td>\n",
              "      <td>2</td>\n",
              "      <td>Wednesday</td>\n",
              "      <td>01:29:22.351000</td>\n",
              "      <td>1</td>\n",
              "      <td>29</td>\n",
              "      <td>1</td>\n",
              "      <td>1</td>\n",
              "      <td>1</td>\n",
              "      <td>2019-09-04 01:29:22.351</td>\n",
              "    </tr>\n",
              "    <tr>\n",
              "      <th>2</th>\n",
              "      <td>Funciones, declaración / No tan distintos</td>\n",
              "      <td>[]</td>\n",
              "      <td>mumukiproject/mumuki-guia-python-funciones-tipos-de-datos</td>\n",
              "      <td>NaN</td>\n",
              "      <td>2</td>\n",
              "      <td>78</td>\n",
              "      <td>def Mitas(numero):\\r\\n  return 2 / numero\\r\\n</td>\n",
              "      <td>2019-09-04 02:53:01.099</td>\n",
              "      <td>failed</td>\n",
              "      <td>0</td>\n",
              "      <td>[{'title': 'Mitad de 10 es 5', 'status': 'failed', 'result': \"NameError: global name 'mitad' is not defined\"}, {'title': 'Mitad de 20 es 10', 'status': 'failed', 'result': \"NameError: global name 'mitad' is not defined\"}, {'title': 'Mitad de 2 es 1', 'status': 'failed', 'result': \"NameError: global name 'mitad' is not defined\"}]</td>\n",
              "      <td>no_paso</td>\n",
              "      <td>2019-09-04</td>\n",
              "      <td>2019-09</td>\n",
              "      <td>2019</td>\n",
              "      <td>9</td>\n",
              "      <td>36</td>\n",
              "      <td>2</td>\n",
              "      <td>Wednesday</td>\n",
              "      <td>02:53:01.099000</td>\n",
              "      <td>2</td>\n",
              "      <td>53</td>\n",
              "      <td>1</td>\n",
              "      <td>1</td>\n",
              "      <td>1</td>\n",
              "      <td>2019-09-04 02:53:01.099</td>\n",
              "    </tr>\n",
              "  </tbody>\n",
              "</table>\n",
              "</div>"
            ],
            "text/plain": [
              "                               exercise_name  ...               created_at\n",
              "0  Funciones, declaración / No tan distintos  ...  2019-08-30 13:17:17.700\n",
              "1  Funciones, declaración / No tan distintos  ...  2019-09-04 01:29:22.351\n",
              "2  Funciones, declaración / No tan distintos  ...  2019-09-04 02:53:01.099\n",
              "\n",
              "[3 rows x 26 columns]"
            ]
          },
          "metadata": {
            "tags": []
          },
          "execution_count": 70
        }
      ]
    },
    {
      "cell_type": "code",
      "metadata": {
        "id": "dxMeXR1BKM6r"
      },
      "source": [
        "pd.set_option('display.max_colwidth', None)"
      ],
      "execution_count": 71,
      "outputs": []
    },
    {
      "cell_type": "code",
      "metadata": {
        "colab": {
          "base_uri": "https://localhost:8080/"
        },
        "id": "gyiHrYUE2O_z",
        "outputId": "96618df3-7e5d-4c17-ac22-5e7630597427"
      },
      "source": [
        "df_mumuki['result'][4:5]"
      ],
      "execution_count": 72,
      "outputs": [
        {
          "output_type": "execute_result",
          "data": {
            "text/plain": [
              "4    NaN\n",
              "Name: result, dtype: object"
            ]
          },
          "metadata": {
            "tags": []
          },
          "execution_count": 72
        }
      ]
    },
    {
      "cell_type": "code",
      "metadata": {
        "id": "FmdSalChMeIV"
      },
      "source": [
        "#df_mumuki[ df_mumuki['submission_status'] != 'passed'] 28904--> indentationerror"
      ],
      "execution_count": 73,
      "outputs": []
    },
    {
      "cell_type": "code",
      "metadata": {
        "id": "4Ur3zpapKfNz"
      },
      "source": [
        "df_no_paso= df_mumuki[ df_mumuki['result'].notna()]"
      ],
      "execution_count": 74,
      "outputs": []
    },
    {
      "cell_type": "code",
      "metadata": {
        "colab": {
          "base_uri": "https://localhost:8080/"
        },
        "id": "iRmf8kfqE2V4",
        "outputId": "159c410e-5e8b-4fc0-db29-5b34bf07f99d"
      },
      "source": [
        "df_no_paso['result'].sample(2)"
      ],
      "execution_count": 75,
      "outputs": [
        {
          "output_type": "execute_result",
          "data": {
            "text/plain": [
              "27123      File \"solucion.py\", line 9\\n    return \"titulo\" + \" \" \"nombre\" + \" \" + \"apellido\"!\\n                                                     ^\\nSyntaxError: invalid syntax\\n\n",
              "10666                                                                    File \"solucion.py\", line 10\\n    return numero1\\n         ^\\nIndentationError: expected an indented block\\n\n",
              "Name: result, dtype: object"
            ]
          },
          "metadata": {
            "tags": []
          },
          "execution_count": 75
        }
      ]
    },
    {
      "cell_type": "code",
      "metadata": {
        "id": "_V0J988smSg-",
        "colab": {
          "base_uri": "https://localhost:8080/",
          "height": 1000
        },
        "outputId": "970e143d-1517-49e3-9cbc-648e50e07b02"
      },
      "source": [
        "df_no_paso[ df_no_paso.apply(lambda x: 'FAIL [0.002s]' in x['result'], axis=1)]"
      ],
      "execution_count": 76,
      "outputs": [
        {
          "output_type": "execute_result",
          "data": {
            "text/html": [
              "<div>\n",
              "<style scoped>\n",
              "    .dataframe tbody tr th:only-of-type {\n",
              "        vertical-align: middle;\n",
              "    }\n",
              "\n",
              "    .dataframe tbody tr th {\n",
              "        vertical-align: top;\n",
              "    }\n",
              "\n",
              "    .dataframe thead th {\n",
              "        text-align: right;\n",
              "    }\n",
              "</style>\n",
              "<table border=\"1\" class=\"dataframe\">\n",
              "  <thead>\n",
              "    <tr style=\"text-align: right;\">\n",
              "      <th></th>\n",
              "      <th>exercise_name</th>\n",
              "      <th>expectation_results</th>\n",
              "      <th>guide_slug</th>\n",
              "      <th>result</th>\n",
              "      <th>sid</th>\n",
              "      <th>student_uid</th>\n",
              "      <th>submission_content</th>\n",
              "      <th>submission_created_at</th>\n",
              "      <th>submission_status</th>\n",
              "      <th>submissions_count</th>\n",
              "      <th>test_results</th>\n",
              "      <th>Estatus</th>\n",
              "      <th>Date</th>\n",
              "      <th>Periodo</th>\n",
              "      <th>Year</th>\n",
              "      <th>Month</th>\n",
              "      <th>Week</th>\n",
              "      <th>DayNroWeek</th>\n",
              "      <th>DayNameWeek</th>\n",
              "      <th>Time</th>\n",
              "      <th>Hora</th>\n",
              "      <th>Minute</th>\n",
              "      <th>lesson_number</th>\n",
              "      <th>exercise_index_per_lesson</th>\n",
              "      <th>id_exercise</th>\n",
              "      <th>created_at</th>\n",
              "    </tr>\n",
              "  </thead>\n",
              "  <tbody>\n",
              "    <tr>\n",
              "      <th>7960</th>\n",
              "      <td>El retorno del booleano</td>\n",
              "      <td>[{'binding': '*', 'inspection': 'Not:UsesIf', 'result': 'passed'}, {'binding': '*', 'inspection': 'DeclaresComputationWithArity1:es_numero_de_la_suerte', 'result': 'passed'}]</td>\n",
              "      <td>mumukiproject/mumuki-guia-python-funciones-tipos-de-datos</td>\n",
              "      <td>\\nRunning tests...\\n----------------------------------------------------------------------\\nFF.FFFFFF.\\n======================================================================\\nFAIL [0.002s]: test_es_numero_de_la_suerte_101_es_falso (__main__.MumukiTest)\\n</td>\n",
              "      <td>7411</td>\n",
              "      <td>306</td>\n",
              "      <td>def es_numero_de_la_suerte (numero) :\\r\\n  return 0 &lt; numero &gt; 100 and numero &lt;&gt; 15 \\r\\n  \\r\\n\\r\\n</td>\n",
              "      <td>2020-09-14 02:09:07.294</td>\n",
              "      <td>errored</td>\n",
              "      <td>0</td>\n",
              "      <td>[]</td>\n",
              "      <td>no_paso</td>\n",
              "      <td>2020-09-14</td>\n",
              "      <td>2020-09</td>\n",
              "      <td>2020</td>\n",
              "      <td>9</td>\n",
              "      <td>38</td>\n",
              "      <td>0</td>\n",
              "      <td>Monday</td>\n",
              "      <td>02:09:07.294000</td>\n",
              "      <td>2</td>\n",
              "      <td>9</td>\n",
              "      <td>1</td>\n",
              "      <td>13</td>\n",
              "      <td>13</td>\n",
              "      <td>2020-09-14 02:09:07.294</td>\n",
              "    </tr>\n",
              "    <tr>\n",
              "      <th>39676</th>\n",
              "      <td>Martin Fierro</td>\n",
              "      <td>[]</td>\n",
              "      <td>mumukiproject/mumuki-guia-python-variables-y-procedimientos</td>\n",
              "      <td>\\nRunning tests...\\n----------------------------------------------------------------------\\nF.\\n======================================================================\\nFAIL [0.002s]: test_deberia_imprimir_los_versos (__main__.MumukiTest)\\n----------------------------------------------------------------------\\nTraceback (most recent call last):\\n  File \"solucion.py\", line 34, in test_deberia_imprimir_los_versos\\n    self.assertEqual(out, \"Aquí me pongo a cantar\\nAl compás de la vigüela\\nQue el hombre que lo desvela\\nUna pena extraordinaria\\n\")\\nAssertionError: 'aqui me pongo a cantar\\nal compas de la viguela\\nque el hombre que lo desvela\\nuna pena extraordinaria\\n' != 'Aqu\\xc3\\xad me pongo a cantar\\nAl comp\\xc3\\xa1s de la vig\\xc3\\xbcela\\nQue el hombre que lo desvela\\nUna pena extraordinaria\\n'\\n\\n----------------------------------------------------------------------\\nRan 2 tests in 0.009s\\n\\nFAILED (failures=1)\\n\\nGenerating XML reports...\\naqui me pongo a cantar\\nal compas de la viguela\\nque el hombre que lo desvela\\nuna pena extraordinaria\\n&lt;?xml version=\"1.0\" encoding=\"UTF-8\"?&gt;\\n&lt;testsuite errors=\"0\" failures=\"1\" file=\".py\" name=\"MumukiTest-20200608233558\" skipped=\"0\" tests=\"2\" time=\"0.002\" timestamp=\"2020-06-08T23:35:58\"&gt;\\n\\t&lt;testcase classname=\"MumukiTest\" file=\"tmp/mumuki.compile20200608-23-iejao.py\" line=\"36\" name=\"test_deberia_retornar_cero\" time=\"0.001\" timestamp=\"2020-06-08T23:35:58\"&gt;\\n\\t\\t&lt;system-out&gt;\\n&lt;![CDATA[aqui me pongo a cantar\\nal compas de la viguela\\nque el hombre que lo desvela\\nuna pena extraordinaria\\n]]&gt;\\t\\t&lt;/system-out&gt;\\n\\t\\t&lt;system-err&gt;\\n&lt;![CDATA[]]&gt;\\t\\t&lt;/system-err&gt;\\n\\t&lt;/testcase&gt;\\n\\t&lt;testcase classname=\"MumukiTest\" file=\"tmp/mumuki.compile20200608-23-iejao.py\" line=\"32\" name=\"test_deberia_imprimir_los_versos\" time=\"0.002\" timestamp=\"2020-06-08T23:35:58\"&gt;\\n\\t\\t&lt;failure message=\"'aqui me pongo a cantar\\nal compas de la viguela\\nque el hombre que lo desvela\\nuna pena extraordinaria\\n' != 'Aqu\\xc3\\xad me pongo a cantar\\nAl comp\\xc3\\xa1s de la vig\\xc3\\xbcela\\nQue el hombre que lo desvela\\nUna pena extraordinaria\\n'\" type=\"AssertionError\"&gt;\\n&lt;![CDATA['Traceback (most recent call last):\\n  File \"solucion.py\", line 34, in test_deberia_imprimir_los_versos\\n    self.assertEqual(out, \"Aqu\\xc3\\xad me pongo a cantar\\\\nAl comp\\xc3\\xa1s de la vig\\xc3\\xbcela\\\\nQue el hombre que lo desvela\\\\nUna pena extraordinaria\\\\n\")\\nAssertionError: \\'aqui me pongo a cantar\\\\nal compas de la viguela\\\\nque el hombre que lo desvela\\\\nuna pena extraordinaria\\\\n\\' != \\'Aqu\\\\xc3\\\\xad me pongo a cantar\\\\nAl comp\\\\xc3\\\\xa1s de la vig\\\\xc3\\\\xbcela\\\\nQue el hombre que lo desvela\\\\nUna pena extraordinaria\\\\n\\'\\n']]&gt;\\t\\t&lt;/failure&gt;\\n\\t\\t&lt;system-out&gt;\\n&lt;![CDATA[]]&gt;\\t\\t&lt;/system-out&gt;\\n\\t\\t&lt;system-err&gt;\\n&lt;![CDATA[]]&gt;\\t\\t&lt;/system-err&gt;\\n\\t&lt;/testcase&gt;\\n&lt;/testsuite&gt;\\n</td>\n",
              "      <td>38694</td>\n",
              "      <td>224</td>\n",
              "      <td>def versos_martin_fierro():\\r\\n  print(\"aqui me pongo a cantar\")\\r\\n  print(\"al compas de la viguela\")\\r\\n  print(\"que el hombre que lo desvela\")\\r\\n  print(\"una pena extraordinaria\")\\r\\n  return 0</td>\n",
              "      <td>2020-06-08 23:35:57.570</td>\n",
              "      <td>errored</td>\n",
              "      <td>2</td>\n",
              "      <td>[]</td>\n",
              "      <td>no_paso</td>\n",
              "      <td>2020-06-08</td>\n",
              "      <td>2020-06</td>\n",
              "      <td>2020</td>\n",
              "      <td>6</td>\n",
              "      <td>24</td>\n",
              "      <td>0</td>\n",
              "      <td>Monday</td>\n",
              "      <td>23:35:57.570000</td>\n",
              "      <td>23</td>\n",
              "      <td>35</td>\n",
              "      <td>3</td>\n",
              "      <td>2</td>\n",
              "      <td>31</td>\n",
              "      <td>2020-06-08 23:35:57.570</td>\n",
              "    </tr>\n",
              "    <tr>\n",
              "      <th>39989</th>\n",
              "      <td>Martin Fierro</td>\n",
              "      <td>[]</td>\n",
              "      <td>mumukiproject/mumuki-guia-python-variables-y-procedimientos</td>\n",
              "      <td>\\nRunning tests...\\n----------------------------------------------------------------------\\nF.\\n======================================================================\\nFAIL [0.002s]: test_deberia_imprimir_los_versos (__main__.MumukiTest)\\n----------------------------------------------------------------------\\nTraceback (most recent call last):\\n  File \"solucion.py\", line 32, in test_deberia_imprimir_los_versos\\n    self.assertEqual(out, \"Aquí me pongo a cantar\\nAl compás de la vigüela\\nQue el hombre que lo desvela\\nUna pena extraordinaria\\n\")\\nAssertionError: 'Aqu\\xc3\\xad me pongo a cantar\\nAl comp\\xc3\\xa1s de la viguela\\n' != 'Aqu\\xc3\\xad me pongo a cantar\\nAl comp\\xc3\\xa1s de la vig\\xc3\\xbcela\\nQue el hombre que lo desvela\\nUna pena extraordinaria\\n'\\n\\n----------------------------------------------------------------------\\nRan 2 tests in 0.003s\\n\\nFAILED (failures=1)\\n\\nGenerating XML reports...\\nAquí me pongo a cantar\\nAl compás de la viguela\\n&lt;?xml version=\"1.0\" encoding=\"UTF-8\"?&gt;\\n&lt;testsuite errors=\"0\" failures=\"1\" file=\".py\" name=\"MumukiTest-20200917232811\" skipped=\"0\" tests=\"2\" time=\"0.002\" timestamp=\"2020-09-17T23:28:11\"&gt;\\n\\t&lt;testcase classname=\"MumukiTest\" file=\"tmp/mumuki.compile20200917-23-b655sw.py\" line=\"34\" name=\"test_deberia_retornar_cero\" time=\"0.000\" timestamp=\"2020-09-17T23:28:11\"&gt;\\n\\t\\t&lt;system-out&gt;\\n&lt;![CDATA['Aqu\\xc3\\xad me pongo a cantar\\nAl comp\\xc3\\xa1s de la viguela\\n']]&gt;\\t\\t&lt;/system-out&gt;\\n\\t\\t&lt;system-err&gt;\\n&lt;![CDATA[]]&gt;\\t\\t&lt;/system-err&gt;\\n\\t&lt;/testcase&gt;\\n\\t&lt;testcase classname=\"MumukiTest\" file=\"tmp/mumuki.compile20200917-23-b655sw.py\" line=\"30\" name=\"test_deberia_imprimir_los_versos\" time=\"0.002\" timestamp=\"2020-09-17T23:28:11\"&gt;\\n\\t\\t&lt;failure message=\"'Aqu\\xc3\\xad me pongo a cantar\\nAl comp\\xc3\\xa1s de la viguela\\n' != 'Aqu\\xc3\\xad me pongo a cantar\\nAl comp\\xc3\\xa1s de la vig\\xc3\\xbcela\\nQue el hombre que lo desvela\\nUna pena extraordinaria\\n'\" type=\"AssertionError\"&gt;\\n&lt;![CDATA['Traceback (most recent call last):\\n  File \"solucion.py\", line 32, in test_deberia_imprimir_los_versos\\n    self.assertEqual(out, \"Aqu\\xc3\\xad me pongo a cantar\\\\nAl comp\\xc3\\xa1s de la vig\\xc3\\xbcela\\\\nQue el hombre que lo desvela\\\\nUna pena extraordinaria\\\\n\")\\nAssertionError: \\'Aqu\\\\xc3\\\\xad me pongo a cantar\\\\nAl comp\\\\xc3\\\\xa1s de la viguela\\\\n\\' != \\'Aqu\\\\xc3\\\\xad me pongo a cantar\\\\nAl comp\\\\xc3\\\\xa1s de la vig\\\\xc3\\\\xbcela\\\\nQue el hombre que lo desvela\\\\nUna pena extraordinaria\\\\n\\'\\n']]&gt;\\t\\t&lt;/failure&gt;\\n\\t\\t&lt;system-out&gt;\\n&lt;![CDATA[]]&gt;\\t\\t&lt;/system-out&gt;\\n\\t\\t&lt;system-err&gt;\\n&lt;![CDATA[]]&gt;\\t\\t&lt;/system-err&gt;\\n\\t&lt;/testcase&gt;\\n&lt;/testsuite&gt;\\n</td>\n",
              "      <td>39037</td>\n",
              "      <td>276</td>\n",
              "      <td>def versos_martin_fierro():\\r\\n  print(\"Aquí me pongo a cantar\")\\r\\n  print(\"Al compás de la viguela\")\\r\\n  return 0</td>\n",
              "      <td>2020-09-17 23:28:10.446</td>\n",
              "      <td>errored</td>\n",
              "      <td>0</td>\n",
              "      <td>[]</td>\n",
              "      <td>no_paso</td>\n",
              "      <td>2020-09-17</td>\n",
              "      <td>2020-09</td>\n",
              "      <td>2020</td>\n",
              "      <td>9</td>\n",
              "      <td>38</td>\n",
              "      <td>3</td>\n",
              "      <td>Thursday</td>\n",
              "      <td>23:28:10.446000</td>\n",
              "      <td>23</td>\n",
              "      <td>28</td>\n",
              "      <td>3</td>\n",
              "      <td>2</td>\n",
              "      <td>31</td>\n",
              "      <td>2020-09-17 23:28:10.446</td>\n",
              "    </tr>\n",
              "  </tbody>\n",
              "</table>\n",
              "</div>"
            ],
            "text/plain": [
              "                 exercise_name  ...               created_at\n",
              "7960   El retorno del booleano  ...  2020-09-14 02:09:07.294\n",
              "39676            Martin Fierro  ...  2020-06-08 23:35:57.570\n",
              "39989            Martin Fierro  ...  2020-09-17 23:28:10.446\n",
              "\n",
              "[3 rows x 26 columns]"
            ]
          },
          "metadata": {
            "tags": []
          },
          "execution_count": 76
        }
      ]
    },
    {
      "cell_type": "code",
      "metadata": {
        "id": "MlYXjscK7pYf"
      },
      "source": [
        "pruebita = { 'column': r for r in df_no_paso['result'][50:51] }"
      ],
      "execution_count": 77,
      "outputs": []
    },
    {
      "cell_type": "code",
      "metadata": {
        "id": "vEv3x3JHDc52",
        "colab": {
          "base_uri": "https://localhost:8080/"
        },
        "outputId": "d9dd2e02-81cb-4ed9-b824-e1170f0aa6b3"
      },
      "source": [
        "pruebita"
      ],
      "execution_count": 78,
      "outputs": [
        {
          "output_type": "execute_result",
          "data": {
            "text/plain": [
              "{'column': '  File \"solucion.py\", line 9\\n    return / * numero\\n           ^\\nSyntaxError: invalid syntax\\n'}"
            ]
          },
          "metadata": {
            "tags": []
          },
          "execution_count": 78
        }
      ]
    },
    {
      "cell_type": "code",
      "metadata": {
        "colab": {
          "base_uri": "https://localhost:8080/",
          "height": 35
        },
        "id": "8wWWm9Kp8Jch",
        "outputId": "a18aef4c-0dd0-4352-e4d8-c0ca9039c38a"
      },
      "source": [
        "pruebita['column'].split('\\n')[-2]"
      ],
      "execution_count": 79,
      "outputs": [
        {
          "output_type": "execute_result",
          "data": {
            "application/vnd.google.colaboratory.intrinsic+json": {
              "type": "string"
            },
            "text/plain": [
              "'SyntaxError: invalid syntax'"
            ]
          },
          "metadata": {
            "tags": []
          },
          "execution_count": 79
        }
      ]
    },
    {
      "cell_type": "code",
      "metadata": {
        "id": "fgb73qiB7-Ys",
        "colab": {
          "base_uri": "https://localhost:8080/"
        },
        "outputId": "a3e3ea61-4eb3-4034-b037-bbdaa83ae2fc"
      },
      "source": [
        "pruebita['column'].split('\\n')[-2].split(':')"
      ],
      "execution_count": 80,
      "outputs": [
        {
          "output_type": "execute_result",
          "data": {
            "text/plain": [
              "['SyntaxError', ' invalid syntax']"
            ]
          },
          "metadata": {
            "tags": []
          },
          "execution_count": 80
        }
      ]
    },
    {
      "cell_type": "code",
      "metadata": {
        "colab": {
          "base_uri": "https://localhost:8080/",
          "height": 35
        },
        "id": "snCp-7YqwMLi",
        "outputId": "2ec40729-e98a-4006-a571-303f3b01ffee"
      },
      "source": [
        "pruebita['column'].split('\\n')[-2].split(':')[0]"
      ],
      "execution_count": 81,
      "outputs": [
        {
          "output_type": "execute_result",
          "data": {
            "application/vnd.google.colaboratory.intrinsic+json": {
              "type": "string"
            },
            "text/plain": [
              "'SyntaxError'"
            ]
          },
          "metadata": {
            "tags": []
          },
          "execution_count": 81
        }
      ]
    },
    {
      "cell_type": "code",
      "metadata": {
        "id": "MDvYRLrW7NWX"
      },
      "source": [
        "error_type_yea= [x for x in pruebita['column'].split('\\n')[-2].split(':') if 'Error' in x ][0]"
      ],
      "execution_count": 82,
      "outputs": []
    },
    {
      "cell_type": "code",
      "metadata": {
        "colab": {
          "base_uri": "https://localhost:8080/",
          "height": 35
        },
        "id": "VHuMX-qKC2Ce",
        "outputId": "64606b29-dcb8-48f5-8441-12c27b0ac15a"
      },
      "source": [
        "error_type_yea"
      ],
      "execution_count": 83,
      "outputs": [
        {
          "output_type": "execute_result",
          "data": {
            "application/vnd.google.colaboratory.intrinsic+json": {
              "type": "string"
            },
            "text/plain": [
              "'SyntaxError'"
            ]
          },
          "metadata": {
            "tags": []
          },
          "execution_count": 83
        }
      ]
    },
    {
      "cell_type": "code",
      "metadata": {
        "colab": {
          "base_uri": "https://localhost:8080/",
          "height": 35
        },
        "id": "SpIN_EKCGI3w",
        "outputId": "2782a691-7576-43d0-93db-65e3b58911a5"
      },
      "source": [
        "error_prueba='SyntaxError: invalid syntax'\n",
        "error_prueba.split(':')[1]"
      ],
      "execution_count": 84,
      "outputs": [
        {
          "output_type": "execute_result",
          "data": {
            "application/vnd.google.colaboratory.intrinsic+json": {
              "type": "string"
            },
            "text/plain": [
              "' invalid syntax'"
            ]
          },
          "metadata": {
            "tags": []
          },
          "execution_count": 84
        }
      ]
    },
    {
      "cell_type": "code",
      "metadata": {
        "id": "reFYLc0f5miO"
      },
      "source": [
        "def get_error_type( row ):\n",
        "  error_type= row['result'].split('\\n')[-2].split(':')[0] \n",
        "  if 'Error' in error_type:\n",
        "    return error_type \n",
        "  elif 'FAIL' in error_type:\n",
        "    error_type=row['result'].split('\\n')[0]\n",
        "    if 'Error' in error_type:\n",
        "      return error_type\n",
        "    elif 'AssertionError' in row['result']:\n",
        "      return 'AssertionError'\n",
        "    else:\n",
        "      return 'Otra cosa'#[ x for x in row['result'].split('\\n') if 'Error' in x][0].split(':')[0]"
      ],
      "execution_count": 85,
      "outputs": []
    },
    {
      "cell_type": "code",
      "metadata": {
        "id": "201fcQRnGdrk"
      },
      "source": [
        "def get_error_description( row ):\n",
        "  error_type= row['result'].split('\\n')[-2].split(':')[1]\n",
        "  return error_type"
      ],
      "execution_count": 86,
      "outputs": []
    },
    {
      "cell_type": "code",
      "metadata": {
        "id": "rsMk6Wqa15H2"
      },
      "source": [
        "#get_error_type(df_no_paso[ df_no_paso['sid']==28014])"
      ],
      "execution_count": 87,
      "outputs": []
    },
    {
      "cell_type": "code",
      "metadata": {
        "colab": {
          "base_uri": "https://localhost:8080/"
        },
        "id": "BptNQEQHClEC",
        "outputId": "04b73765-e9a8-467f-87a1-72c4e2401c4a"
      },
      "source": [
        "df_no_paso['result'].isnull().sum()"
      ],
      "execution_count": 88,
      "outputs": [
        {
          "output_type": "execute_result",
          "data": {
            "text/plain": [
              "0"
            ]
          },
          "metadata": {
            "tags": []
          },
          "execution_count": 88
        }
      ]
    },
    {
      "cell_type": "code",
      "metadata": {
        "colab": {
          "base_uri": "https://localhost:8080/"
        },
        "id": "4HF_St0q8uuh",
        "outputId": "6026f3bc-7987-4aa7-a43a-d785683a4110"
      },
      "source": [
        "df_no_paso['ErrorType']=df_no_paso.apply(lambda row: get_error_type(row),axis=1)"
      ],
      "execution_count": 89,
      "outputs": [
        {
          "output_type": "stream",
          "text": [
            "/usr/local/lib/python3.7/dist-packages/ipykernel_launcher.py:1: SettingWithCopyWarning: \n",
            "A value is trying to be set on a copy of a slice from a DataFrame.\n",
            "Try using .loc[row_indexer,col_indexer] = value instead\n",
            "\n",
            "See the caveats in the documentation: https://pandas.pydata.org/pandas-docs/stable/user_guide/indexing.html#returning-a-view-versus-a-copy\n",
            "  \"\"\"Entry point for launching an IPython kernel.\n"
          ],
          "name": "stderr"
        }
      ]
    },
    {
      "cell_type": "code",
      "metadata": {
        "id": "Xmg6B1vVGhJv"
      },
      "source": [
        "#df_no_paso['ErrorDescription']=df_no_paso.apply(lambda row: get_error_description(row),axis=1)"
      ],
      "execution_count": 90,
      "outputs": []
    },
    {
      "cell_type": "code",
      "metadata": {
        "id": "yrntORg2JXJ9",
        "colab": {
          "base_uri": "https://localhost:8080/"
        },
        "outputId": "f34ae2c8-f8c2-4477-aa5c-f16d7829ad33"
      },
      "source": [
        "df_no_paso['ErrorType'].sample(2)"
      ],
      "execution_count": 91,
      "outputs": [
        {
          "output_type": "execute_result",
          "data": {
            "text/plain": [
              "4421     SyntaxError\n",
              "29942    SyntaxError\n",
              "Name: ErrorType, dtype: object"
            ]
          },
          "metadata": {
            "tags": []
          },
          "execution_count": 91
        }
      ]
    },
    {
      "cell_type": "code",
      "metadata": {
        "colab": {
          "base_uri": "https://localhost:8080/"
        },
        "id": "iKXjozGUEhp3",
        "outputId": "30fa0836-6e24-4878-fbcb-01260940adb3"
      },
      "source": [
        "df_no_paso['ErrorType'].value_counts(dropna=False)"
      ],
      "execution_count": 92,
      "outputs": [
        {
          "output_type": "execute_result",
          "data": {
            "text/plain": [
              "SyntaxError         10912\n",
              "IndentationError     2826\n",
              "NameError             232\n",
              "NaN                    28\n",
              "TypeError               3\n",
              "Otra cosa               1\n",
              "EOFError                1\n",
              "Name: ErrorType, dtype: int64"
            ]
          },
          "metadata": {
            "tags": []
          },
          "execution_count": 92
        }
      ]
    },
    {
      "cell_type": "code",
      "metadata": {
        "colab": {
          "base_uri": "https://localhost:8080/"
        },
        "id": "ljljLJ02krwd",
        "outputId": "9482cf10-05f4-4d63-8108-503db633c43e"
      },
      "source": [
        "error_prueba=df_no_paso[ df_no_paso['sid']==38447]['result']\n",
        "error_prueba"
      ],
      "execution_count": 93,
      "outputs": [
        {
          "output_type": "execute_result",
          "data": {
            "text/plain": [
              "39456    \\nRunning tests...\\n----------------------------------------------------------------------\\naquí me pongo a cantar\\nal compás de la vigüela\\nF.\\n======================================================================\\nFAIL [0.001s]: test_deberia_imprimir_los_versos (__main__.MumukiTest)\\n----------------------------------------------------------------------\\nTraceback (most recent call last):\\n  File \"solucion.py\", line 35, in test_deberia_imprimir_los_versos\\n    self.assertEqual(out, \"Aquí me pongo a cantar\\nAl compás de la vigüela\\nQue el hombre que lo desvela\\nUna pena extraordinaria\\n\")\\nAssertionError: 'aqu\\xc3\\xad me pongo a cantar\\nal comp\\xc3\\xa1s de la vig\\xc3\\xbcela\\nque el hombre que lo desvela\\nuna pena extraordinaria\\ny estoy por devolver el valor 0\\n' != 'Aqu\\xc3\\xad me pongo a cantar\\nAl comp\\xc3\\xa1s de la vig\\xc3\\xbcela\\nQue el hombre que lo desvela\\nUna pena extraordinaria\\n'\\n\\n----------------------------------------------------------------------\\nRan 2 tests in 0.003s\\n\\nFAILED (failures=1)\\n\\nGenerating XML reports...\\nque el hombre que lo desvela\\nuna pena extraordinaria\\ny estoy por devolver el valor 0\\n<?xml version=\"1.0\" encoding=\"UTF-8\"?>\\n<testsuite errors=\"0\" failures=\"1\" file=\".py\" name=\"MumukiTest-20200525221634\" skipped=\"0\" tests=\"2\" time=\"0.002\" timestamp=\"2020-05-25T22:16:34\">\\n\\t<testcase classname=\"MumukiTest\" file=\"tmp/mumuki.compile20200525-23-f80jv1.py\" line=\"37\" name=\"test_deberia_retornar_cero\" time=\"0.001\" timestamp=\"2020-05-25T22:16:34\">\\n\\t\\t<system-out>\\n<![CDATA['aqu\\xc3\\xad me pongo a cantar\\nal comp\\xc3\\xa1s de la vig\\xc3\\xbcela\\nque el hombre que lo desvela\\nuna pena extraordinaria\\ny estoy por devolver el valor 0\\n']]>\\t\\t</system-out>\\n\\t\\t<system-err>\\n<![CDATA[]]>\\t\\t</system-err>\\n\\t</testcase>\\n\\t<testcase classname=\"MumukiTest\" file=\"tmp/mumuki.compile20200525-23-f80jv1.py\" line=\"33\" name=\"test_deberia_imprimir_los_versos\" time=\"0.001\" timestamp=\"2020-05-25T22:16:34\">\\n\\t\\t<failure message=\"'aqu\\xc3\\xad me pongo a cantar\\nal comp\\xc3\\xa1s de la vig\\xc3\\xbcela\\nque el hombre que lo desvela\\nuna pena extraordinaria\\ny estoy por devolver el valor 0\\n' != 'Aqu\\xc3\\xad me pongo a cantar\\nAl comp\\xc3\\xa1s de la vig\\xc3\\xbcela\\nQue el hombre que lo desvela\\nUna pena extraordinaria\\n'\" type=\"AssertionError\">\\n<![CDATA['Traceback (most recent call last):\\n  File \"solucion.py\", line 35, in test_deberia_imprimir_los_versos\\n    self.assertEqual(out, \"Aqu\\xc3\\xad me pongo a cantar\\\\nAl comp\\xc3\\xa1s de la vig\\xc3\\xbcela\\\\nQue el hombre que lo desvela\\\\nUna pena extraordinaria\\\\n\")\\nAssertionError: \\'aqu\\\\xc3\\\\xad me pongo a cantar\\\\nal comp\\\\xc3\\\\xa1s de la vig\\\\xc3\\\\xbcela\\\\nque el hombre que lo desvela\\\\nuna pena extraordinaria\\\\ny estoy por devolver el valor 0\\\\n\\' != \\'Aqu\\\\xc3\\\\xad me pongo a cantar\\\\nAl comp\\\\xc3\\\\xa1s de la vig\\\\xc3\\\\xbcela\\\\nQue el hombre que lo desvela\\\\nUna pena extraordinaria\\\\n\\'\\n']]>\\t\\t</failure>\\n\\t\\t<system-out>\\n<![CDATA[]]>\\t\\t</system-out>\\n\\t\\t<system-err>\\n<![CDATA[]]>\\t\\t</system-err>\\n\\t</testcase>\\n</testsuite>\\n\n",
              "Name: result, dtype: object"
            ]
          },
          "metadata": {
            "tags": []
          },
          "execution_count": 93
        }
      ]
    },
    {
      "cell_type": "code",
      "metadata": {
        "id": "4tPgFJmNkxs4"
      },
      "source": [
        "pruebita = { 'column': r for r in error_prueba }"
      ],
      "execution_count": 94,
      "outputs": []
    },
    {
      "cell_type": "code",
      "metadata": {
        "colab": {
          "base_uri": "https://localhost:8080/",
          "height": 35
        },
        "id": "6_XN20mUk5GO",
        "outputId": "5bd0bd2e-65fe-4254-b994-0f00a3feda00"
      },
      "source": [
        "[ x for x in pruebita['column'].split('\\n') if 'A' in x][0].split(':')[0]"
      ],
      "execution_count": 95,
      "outputs": [
        {
          "output_type": "execute_result",
          "data": {
            "application/vnd.google.colaboratory.intrinsic+json": {
              "type": "string"
            },
            "text/plain": [
              "'FAIL [0.001s]'"
            ]
          },
          "metadata": {
            "tags": []
          },
          "execution_count": 95
        }
      ]
    },
    {
      "cell_type": "code",
      "metadata": {
        "id": "QWs63j3n8hSM"
      },
      "source": [
        "#ascensor_sobrecargado(5)"
      ],
      "execution_count": 96,
      "outputs": []
    },
    {
      "cell_type": "code",
      "metadata": {
        "colab": {
          "base_uri": "https://localhost:8080/",
          "height": 1000
        },
        "id": "GSQ4B042F4Io",
        "outputId": "86b639ce-1b54-466c-f1e8-ddf7d6c131a6"
      },
      "source": [
        "df_no_paso[ df_no_paso['ErrorType'].isnull()]"
      ],
      "execution_count": 97,
      "outputs": [
        {
          "output_type": "execute_result",
          "data": {
            "text/html": [
              "<div>\n",
              "<style scoped>\n",
              "    .dataframe tbody tr th:only-of-type {\n",
              "        vertical-align: middle;\n",
              "    }\n",
              "\n",
              "    .dataframe tbody tr th {\n",
              "        vertical-align: top;\n",
              "    }\n",
              "\n",
              "    .dataframe thead th {\n",
              "        text-align: right;\n",
              "    }\n",
              "</style>\n",
              "<table border=\"1\" class=\"dataframe\">\n",
              "  <thead>\n",
              "    <tr style=\"text-align: right;\">\n",
              "      <th></th>\n",
              "      <th>exercise_name</th>\n",
              "      <th>expectation_results</th>\n",
              "      <th>guide_slug</th>\n",
              "      <th>result</th>\n",
              "      <th>sid</th>\n",
              "      <th>student_uid</th>\n",
              "      <th>submission_content</th>\n",
              "      <th>submission_created_at</th>\n",
              "      <th>submission_status</th>\n",
              "      <th>submissions_count</th>\n",
              "      <th>test_results</th>\n",
              "      <th>Estatus</th>\n",
              "      <th>Date</th>\n",
              "      <th>Periodo</th>\n",
              "      <th>Year</th>\n",
              "      <th>Month</th>\n",
              "      <th>Week</th>\n",
              "      <th>DayNroWeek</th>\n",
              "      <th>DayNameWeek</th>\n",
              "      <th>Time</th>\n",
              "      <th>Hora</th>\n",
              "      <th>Minute</th>\n",
              "      <th>lesson_number</th>\n",
              "      <th>exercise_index_per_lesson</th>\n",
              "      <th>id_exercise</th>\n",
              "      <th>created_at</th>\n",
              "      <th>ErrorType</th>\n",
              "    </tr>\n",
              "  </thead>\n",
              "  <tbody>\n",
              "    <tr>\n",
              "      <th>2692</th>\n",
              "      <td>Los premios</td>\n",
              "      <td>[]</td>\n",
              "      <td>mumukiproject/mumuki-guia-python-funciones-tipos-de-datos</td>\n",
              "      <td>File \"solucion.py\", line 9\\n    if puesto = 1:\\n</td>\n",
              "      <td>2881</td>\n",
              "      <td>165</td>\n",
              "      <td>def medalla_segun_puesto(puesto):\\r\\n  if puesto = 1:\\r\\n    return \"oro\"\\r\\n  if puesto = 2:\\r\\n    return \"plata\"\\r\\n  if puesto = 3:\\r\\n    return \"bronce\"\\r\\n  else:\\r\\n    return \"nada\"</td>\n",
              "      <td>2020-05-27 00:09:38.875</td>\n",
              "      <td>errored</td>\n",
              "      <td>1</td>\n",
              "      <td>[]</td>\n",
              "      <td>no_paso</td>\n",
              "      <td>2020-05-27</td>\n",
              "      <td>2020-05</td>\n",
              "      <td>2020</td>\n",
              "      <td>5</td>\n",
              "      <td>22</td>\n",
              "      <td>2</td>\n",
              "      <td>Wednesday</td>\n",
              "      <td>00:09:38.875000</td>\n",
              "      <td>0</td>\n",
              "      <td>9</td>\n",
              "      <td>1</td>\n",
              "      <td>14</td>\n",
              "      <td>14</td>\n",
              "      <td>2020-05-27 00:09:38.875</td>\n",
              "      <td>None</td>\n",
              "    </tr>\n",
              "    <tr>\n",
              "      <th>3391</th>\n",
              "      <td>Libros de la buena memoria</td>\n",
              "      <td>[]</td>\n",
              "      <td>mumukiproject/mumuki-guia-python-funciones-tipos-de-datos</td>\n",
              "      <td>File \"solucion.py\", line 9\\n</td>\n",
              "      <td>3751</td>\n",
              "      <td>83</td>\n",
              "      <td>def es_par(numero):\\r\\n  if numero % 2 = 0\\r\\n    return True</td>\n",
              "      <td>2019-09-23 12:48:04.651</td>\n",
              "      <td>errored</td>\n",
              "      <td>6</td>\n",
              "      <td>[]</td>\n",
              "      <td>no_paso</td>\n",
              "      <td>2019-09-23</td>\n",
              "      <td>2019-09</td>\n",
              "      <td>2019</td>\n",
              "      <td>9</td>\n",
              "      <td>39</td>\n",
              "      <td>0</td>\n",
              "      <td>Monday</td>\n",
              "      <td>12:48:04.651000</td>\n",
              "      <td>12</td>\n",
              "      <td>48</td>\n",
              "      <td>1</td>\n",
              "      <td>6</td>\n",
              "      <td>6</td>\n",
              "      <td>2019-09-23 12:48:04.651</td>\n",
              "      <td>None</td>\n",
              "    </tr>\n",
              "    <tr>\n",
              "      <th>6833</th>\n",
              "      <td>Booleanos</td>\n",
              "      <td>[{'binding': '*', 'inspection': 'Declares:=esta_entre', 'result': 'failed'}, {'binding': '*', 'inspection': 'Declares:=esta_fuera_de_rango', 'result': 'passed'}, {'binding': 'este_entre', 'inspection': 'HasDeclarationTypos:esta_entre', 'result': 'failed'}]</td>\n",
              "      <td>mumukiproject/mumuki-guia-python-funciones-tipos-de-datos</td>\n",
              "      <td>\\nRunning tests...\\n----------------------------------------------------------------------\\nEEEEEE......\\n======================================================================\\n</td>\n",
              "      <td>6134</td>\n",
              "      <td>343</td>\n",
              "      <td>def este_entre (numero1, numero2,numero3) :\\r\\n  return numero1&gt;numero2 and numero1&lt;numero3\\r\\ndef esta_fuera_de_rango(numero1,numero2,numero3):\\r\\n return numero1&gt;numero3 or numero1&lt;numero2\\r\\n</td>\n",
              "      <td>2020-10-05 03:28:01.180</td>\n",
              "      <td>errored</td>\n",
              "      <td>0</td>\n",
              "      <td>[]</td>\n",
              "      <td>no_paso</td>\n",
              "      <td>2020-10-05</td>\n",
              "      <td>2020-10</td>\n",
              "      <td>2020</td>\n",
              "      <td>10</td>\n",
              "      <td>41</td>\n",
              "      <td>0</td>\n",
              "      <td>Monday</td>\n",
              "      <td>03:28:01.180000</td>\n",
              "      <td>3</td>\n",
              "      <td>28</td>\n",
              "      <td>1</td>\n",
              "      <td>7</td>\n",
              "      <td>7</td>\n",
              "      <td>2020-10-05 03:28:01.180</td>\n",
              "      <td>None</td>\n",
              "    </tr>\n",
              "    <tr>\n",
              "      <th>12708</th>\n",
              "      <td>Palabras, sólo palabras</td>\n",
              "      <td>[{'binding': '*', 'inspection': 'DeclaresComputationWithArity1:es_fin_de_semana', 'result': 'passed'}, {'binding': 'es_fin_de_semana', 'inspection': 'HasRedundantIf', 'result': 'failed'}]</td>\n",
              "      <td>mumukiproject/mumuki-guia-python-funciones-tipos-de-datos</td>\n",
              "      <td>\\nRunning tests...\\n----------------------------------------------------------------------\\nEEEE\\n======================================================================\\nERROR [0.061s]: test_el_domingo_es_fin_de_semana (__main__.MumukiTest)\\n----------------------------------------------------------------------\\nTraceback (most recent call last):\\n  File \"solucion.py\", line 25, in test_el_domingo_es_fin_de_semana\\n    self.assertTrue(es_fin_de_semana(\"domingo\"))\\n  File \"solucion.py\", line 9, in es_fin_de_semana\\n    if es_fin_de_semana (dia==\"sábado\"):\\n  File \"solucion.py\", line 9, in es_fin_de_semana\\n    if es_fin_de_semana (dia==\"sábado\"):\\n  File \"solucion.py\", line 9, in es_fin_de_semana\\n    if es_fin_de_semana (dia==\"sábado\"):\\n  File \"solucion.py\", line 9, in es_fin_de_semana\\n    if es_fin_de_semana (dia==\"sábado\"):\\n  File \"solucion.py\", line 9, in es_fin_de_semana\\n    if es_fin_de_semana (dia==\"sábado\"):\\n  File \"solucion.py\", line 9, in es_fin_de_semana\\n    if es_fin_de_semana (dia==\"sábado\"):\\n  File \"solucion.py\", line 9, in es_fin_de_semana\\n    if es_fin_de_semana (dia==\"sábado\"):\\n  File \"solucion.py\", line 9, in es_fin_de_semana\\n    if es_fin_de_semana (dia==\"sábado\"):\\n  File \"solucion.py\", line 9, in es_fin_de_semana\\n    if es_fin_de_semana (dia==\"sábado\"):\\n  File \"solucion.py\", line 9, in es_fin_de_semana\\n    if es_fin_de_semana (dia==\"sábado\"):\\n  File \"solucion.py\", line 9, in es_fin_de_semana\\n    if es_fin_de_semana (dia==\"sábado\"):\\n  File \"solucion.py\", line 9, in es_fin_de_semana\\n    if es_fin_de_semana (dia==\"sábado\"):\\n  File \"solucion.py\", line 9, in es_fin_de_semana\\n    if es_fin_de_semana (dia==\"sábado\"):\\n  File \"solucion.py\", line 9, in es_fin_de_semana\\n    if es_fin_de_semana (dia==\"sábado\"):\\n  File \"solucion.py\", line 9, in es_fin_de_semana\\n    if es_fin_de_semana (dia==\"sábado\"):\\n  File \"solucion.py\", line 9, in es_fin_de_semana\\n    if es_fin_de_semana (dia==\"sábado\"):\\n  File \"solucion.py\", line 9, in es_fin_de_semana\\n    if es_fin_de_semana (dia==\"sábado\"):\\n  File \"solucion.py\", line 9, in es_fin_de_semana\\n    if es_fin_de_semana (dia==\"sábado\"):\\n  File \"solucion.py\", line 9, in es_fin_de_semana\\n    if es_fin_de_semana (dia==\"sábado\"):\\n  File \"solucion.py\", line 9, in es_fin_de_semana\\n    if es_fin_de_semana (dia==\"sábado\"):\\n  File \"solucion.py\", line 9, in es_fin_de_semana\\n    if es_fin_de_semana (dia==\"sábado\"):\\n  File \"solucion.py\", line 9, in es_fin_de_semana\\n    if es_fin_de_semana (dia==\"sábado\"):\\n  File \"solucion.py\", line 9, in es_fin_de_semana\\n    if es_fin_de_semana (dia==\"sábado\"):\\n  File \"solucion.py\", line 9, in es_fin_de_semana\\n    if es_fin_de_semana (dia==\"sábado\"):\\n  File \"solucion.py\", line 9, in es_fin_de_semana\\n    if es_fin_de_semana (dia==\"sábado\"):\\n  File \"solucion.py\", line 9, in es_fin_de_semana\\n    if es_fin_de_semana (dia==\"sábado\"):\\n  File \"solucion.py\", line 9, in es_fin_de_semana\\n    if es_fin_de_semana (dia==\"sábado\"):\\n  File \"solucion.py\", line 9, in es_fin_de_semana\\n    if es_fin_de_semana (dia==\"sábado\"):\\n  File \"solucion.py\", line 9, in es_fin_de_semana\\n    if es_fin_de_semana (dia==\"sábado\"):\\n  File \"solucion.py\", line 9, in es_fin_de_semana\\n    if es_fin_de_semana (dia==\"sábado\"):\\n  File \"solucion.py\", line 9, in es_fin_de_semana\\n    if es_fin_de_semana (dia==\"sábado\"):\\n  File \"solucion.py\", line 9, in es_fin_de_semana\\n    if es_fin_de_semana (dia==\"sábado\"):\\n  File \"solucion.py\", line 9, in es_fin_de_semana\\n    if es_fin_de_semana (dia==\"sábado\"):\\n  File \"solucion.py\", line 9, in es_fin_de_semana\\n    if es_fin_de_semana (dia==\"sábado\"):\\n  File \"solucion.py\", line 9, in es_fin_de_semana\\n    if es_fin_de_semana (dia==\"sábado\"):\\n  File \"solucion.py\", line 9, in es_fin_de_semana\\n    if es_fin_de_semana (dia==\"sábado\"):\\n  File \"solucion.py\", line 9, in es_fin_de_semana\\n    if es_fin_de_semana (dia==\"sábado\"):\\n  File \"solucion.py\", line 9, in es_fin_de_semana\\n    if es_fin_de_semana (dia==\"sábado\"):\\n  File \"solucion.py\", line 9, in es_fin_de_semana\\n    if es_fin_de_semana (dia==\"sábado\"):\\n  File \"solucion.py\", line 9, in es_fin_de_semana\\n    if es_fin_de_semana (dia==\"sábado\"):\\n  File \"solucion.py\", line 9, in es_fin_de_semana\\n    if es_fin_de_semana (dia==\"sábado\"):\\n  File \"solucion.py\", line 9, in es_fin_de_semana\\n    if es_fin_de_semana (dia==\"sábado\"):\\n  File \"solucion.py\", line 9, in es_fin_de_semana\\n    if es_fin_de_semana (dia==\"sábado\"):\\n  File \"solucion.py\", line 9, in es_fin_de_semana\\n    if es_fin_de_semana (dia==\"sábado\"):\\n  File \"solucion.py\", line 9, in es_fin_de_semana\\n    if es_fin_de_semana (dia==\"sábado\"):\\n  File \"solucion.py\", line 9, in es_fin_de_semana\\n    if es_fin_de_semana (dia==\"sábado\"):\\n  File \"solucion.py\", line 9, in es_fin_de_semana\\n    if es_fin_de_semana (dia==\"sábado\"):\\n  File \"solucion.py\", line 9, in es_fin_de_semana\\n    if es_fin_de_semana (dia==\"sábado\"):\\n  File \"solucion.py\", line 9, in es_fin_de_semana\\n    if es_fin_de_semana (dia==\"sábado\"):\\n  File \"solucion.py\", line 9, in es_fin_de_semana\\n    if es_fin_de_semana (dia==\"sábado\"):\\n  File \"solucion.py\", line 9, in es_fin_de_semana\\n    if es_fin_de_semana (dia==\"sábado\"):\\n  File \"solucion.py\", line 9, in es_fin_de_semana\\n    if es_fin_de_semana (dia==\"sábado\"):\\n  File \"solucion.py\", line 9, in es_fin_de_semana\\n    if es_fin_de_semana (dia==\"sábado\"):\\n  File \"solucion.py\", line 9, in es_fin_de_semana\\n    if es_fin_de_semana (dia==\"sábado\"):\\n  File \"solucion.py\", line 9, in es_fin_de_semana\\n    if es_fin_de_semana (dia==\"sábado\"):\\n  File \"solucion.py\", line 9, in es_fin_de_semana\\n    if es_fin_de_semana (dia==\"sábado\"):\\n  File \"solucion.py\", line 9, in es_fin_de_semana\\n    if es_fin_de_semana (dia==\"sábado\"):\\n  File \"solucion.py\", line 9, in es_fin_de_semana\\n    if es_fin_de_semana (dia==\"sábado\"):\\n  File \"solucion.py\", line 9, in es_fin_de_semana\\n    if es_fin_de_semana (dia==\"sábado\"):\\n  File \"solucion.py\", line 9, in es_fin_de_semana\\n    if es_fin_de_semana (dia==\"sábado\"):\\n  File \"solucion.py\", line 9, in es_fin_de_semana\\n    if es_fin_de_semana (dia==\"sábado\"):\\n  File \"solucion.py\", line 9, in es_fin_de_semana\\n    if es_fin_de_semana (dia==\"sábado\"):\\n  File \"solucion.py\", line 9, in es_fin_de_semana\\n    if es_fin_de_semana (dia==\"sábado\"):\\n  File \"solucion.py\", line 9, in es_fin_de_semana\\n    if es_fin_de_semana (dia==\"sábado\"):\\n  File \"solucion.py\", line 9, in es_fin_de_semana\\n    if es_fin_de_semana (dia==\"sábado\"):\\n  File \"solucion.py\", line 9, in es_fin_de_semana\\n    if es_fin_de_semana (dia==\"sábado\"):\\n  File \"solucion.py\", line 9, in es_fin_de_semana\\n    if es_fin_de_semana (dia==\"sábado\"):\\n  File \"solucion.py\", line 9, in es_fin_de_semana\\n    if es_fin_de_semana (dia==\"sábado\"):\\n  File \"solucion.py\", line 9, in es_fin_de_semana\\n    if es_fin_de_semana (dia==\"sábado\"):\\n  File \"solucion.py\", line 9, in es_fin_de_semana\\n    if es_fin_de_semana (dia==\"sábado\"):\\n  File \"solucion.py\", line 9, in es_fin_de_semana\\n    if es_fin_de_semana (dia==\"sábado\"):\\n  File \"solucion.py\", line 9, in es_fin_de_semana\\n    if es_fin_de_semana (dia==\"sábado\"):\\n  File \"solucion.py\", line 9, in es_fin_de_semana\\n    if es_fin_de_semana (dia==\"sábado\"):\\n  File \"solucion.py\", line 9, in es_fin_de_semana\\n    if es_fin_de_semana (dia==\"sábado\"):\\n  File \"solucion.py\", line 9, in es_fin_de_semana\\n    if es_fin_de_semana (dia==\"sábado\"):\\n  File \"solucion.py\", line 9, in es_fin_de_semana\\n    if es_fin_de_semana (dia==\"sábado\"):\\n  File \"solucion.py\", line 9, in es_fin_de_semana\\n    if es_fin_de_semana (dia==\"sábado\"):\\n  File \"solucion.py\", line 9, in es_fin_de_semana\\n    if es_fin_de_semana (dia==\"sábado\"):\\n  File \"solucion.py\", line 9, in es_fin_de_semana\\n    if es_fin_de_semana (dia==\"sábado\"):\\n  File \"solucion.py\", line 9, in es_fin_de_semana\\n    if es_fin_de_semana (dia==\"sábado\"):\\n  File \"solucion.py\", line 9, in es_fin_de_semana\\n    if es_fin_de_semana (dia==\"sábado\"):\\n  File \"solucion.py\", line 9, in es_fin_de_semana\\n    if es_fin_de_semana (dia==\"sábado\"):\\n  File \"solucion.py\", line 9, in es_fin_de_semana\\n    if es_fin_de_semana (dia==\"sábado\"):\\n  File \"solucion.py\", line 9, in es_fin_de_semana\\n    if es_fin_de_semana (dia==\"sábado\"):\\n  File \"solucion.py\", line 9, in es_fin_de_semana\\n    if es_fin_de_semana (dia==\"sábado\"):\\n  File \"solucion.py\", line 9, in es_fin_de_semana\\n    if es_fin_de_semana (dia==\"sábado\"):\\n  File \"solucion.py\", line 9, in es_fin_de_semana\\n    if es_fin_de_semana (dia==\"sábado\"):\\n  File \"solucion.py\", line 9, in es_fin_de_semana\\n    if es_fin_de_semana (dia==\"sábado\"):\\n  File \"solucion.py\", line 9, in es_fin_de_semana\\n    if es_fin_de_semana (dia==\"sábado\"):\\n  File \"solucion.py\", line 9, in es_fin_de_semana\\n    if es_fin_de_semana (dia==\"sábado\"):\\n  File \"solucion.py\", line 9, in es_fin_de_semana\\n    if es_fin_de_semana (dia==\"sábado\"):\\n  File \"solucion.py\", line 9, in es_fin_de_semana\\n    if es_fin_de_semana (dia==\"sábado\"):\\n  File \"solucion.py\", line 9, in es_fin_de_semana\\n    if es_fin_de_semana (dia==\"sábado\"):\\n  File \"solucion.py\", line 9, in es_fin_de_semana\\n    if es_fin_de_semana (dia==\"sábado\"):\\n  File \"solucion.py\", line 9, in es_fin_de_semana\\n    if es_fin_de_semana (dia==\"sábado\"):\\n  File \"solucion.py\", line 9, in es_fin_de_semana\\n    if es_fin_de_semana (dia==\"sábado\"):\\n  File \"solucion.py\", line 9, in es_fin_de_semana\\n    if es_fin_de_semana (dia==\"sábado\"):\\n  File \"solucion.py\", line 9, in es_fin_de_semana\\n    if es_fin_de_semana (dia==\"sábado\"):\\n  File \"solucion.py\", line 9, in es_fin_de_semana\\n    if es_fin_de_semana (dia==\"sábado\"):\\n  File \"solucion.py\", line 9, in es_fin_de_semana\\n    if es_fin_de_semana (dia==\"sábado\"):\\n  File \"solucion.py\", line 9, in es_fin_de_semana\\n    if es_fin_de_semana (dia==\"sábado\"):\\n  File \"solucion.py\", line 9, in es_fin_de_semana\\n    if es_fin_de_semana (dia==\"sábado\"):\\n  File \"solucion.py\", line 9, in es_fin_de_semana\\n    if es_fin_de_semana (dia==\"sábado\"):\\n  File \"solucion.py\", line 9, in es_fin_de_semana\\n    if es_fin_de_semana (dia==\"sábado\"):\\n  File \"solucion.py\", line 9, in es_fin_de_semana\\n    if es_fin_de_semana (dia==\"sábado\"):\\n  File \"solucion.py\", line 9, in es_fin_de_semana\\n    if es_fin_de_semana (dia==\"sábado\"):\\n  File \"solucion.py\", line 9, in es_fin_de_semana\\n    if es_fin_de_semana (dia==\"sábado\"):\\n  File \"solucion.py\", line 9, in es_fin_de_semana\\n    if es_fin_de_semana (dia==\"sábado\"):\\n  File \"solucion.py\", line 9, in es_fin_de_semana\\n    if es_fin_de_semana (dia==\"sábado\"):\\n  File \"solucion.py\", line 9, in es_fin_de_semana\\n    if es_fin_de_semana (dia==\"sábado\"):\\n  File \"solucion.py\", line 9, in es_fin_de_semana\\n    if es_fin_de_semana (dia==\"sábado\"):\\n  File \"solucion.py\", line 9, in es_fin_de_semana\\n    if es_fin_de_semana (dia==\"sábado\"):\\n  File \"solucion.py\", line 9, in es_fin_de_semana\\n    if es_fin_de_semana (dia==\"sábado\"):\\n  File \"solucion.py\", line 9, in es_fin_de_semana\\n    if es_fin_de_semana (dia==\"sábado\"):\\n  File \"solucion.py\", line 9, in es_fin_de_semana\\n    if es_fin_de_semana (dia==\"sábado\"):\\n  File \"solucion.py\", line 9, in es_fin_de_semana\\n    if es_fin_de_semana (dia==\"sábado\"):\\n  File \"solucion.py\", line 9, in es_fin_de_semana\\n    if es_fin_de_semana (dia==\"sábado\"):\\n  File \"solucion.py\", line 9, in es_fin_de_semana\\n    if es_fin_de_semana (dia==\"sábado\"):\\n  File \"solucion.py\", line 9, in es_fin_de_semana\\n    if es_fin_de_semana (dia==\"sábado\"):\\n  File \"solucion.py\", line 9, in es_fin_de_semana\\n    if es_fin_de_semana (dia==\"sábado\"):\\n  File \"solucion.py\", line 9, in es_fin_de_semana\\n    if es_fin_de_semana (dia==\"sábado\"):\\n  File \"solucion.py\", line 9, in es_fin_de_semana\\n    if es_fin_de_semana (dia==\"sábado\"):\\n  File \"solucion.py\", line 9, in es_fin_de_semana\\n    if es_fin_de_semana (dia==\"sábado\"):\\n  File \"solucion.py\", line 9, in es_fin_de_semana\\n    if es_fin_de_semana (dia==\"sábado\"):\\n  File \"solucion.py\", line 9, in es_fin_de_semana\\n    if es_fin_de_semana (dia==\"sábado\"):\\n  File \"solucion.py\", line 9, in es_fin_de_semana\\n    if es_fin_de_semana (dia==\"sábado\"):\\n  File \"solucion.py\", line 9, in es_fin_de_semana\\n    if es_fin_de_semana (dia==\"sábado\"):\\n  File \"solucion.py\", line 9, in es_fin_de_semana\\n    if es_fin_de_semana (dia==\"sábado\"):\\n  File \"solucion.py\", line 9, in es_fin_de_semana\\n    if es_fin_de_semana (dia==\"sábado\"):\\n  File \"solucion.py\", line 9, in es_fin_de_semana\\n    if es_fin_de_semana (dia==\"sábado\"):\\n  File \"solucion.py\", line 9, in es_fin_de_semana\\n    if es_fin_de_semana (dia==\"sábado\"):\\n  File \"solucion.py\", line 9, in es_fin_de_semana\\n    if es_fin_de_semana (dia==\"sábado\"):\\n  File \"solucion.py\", line 9, in es_fin_de_semana\\n    if es_fin_de_semana (dia==\"sábado\"):\\n  File \"solucion.py\", line 9, in es_fin_de_semana\\n    if es_fin_de_semana (dia==\"sábado\"):\\n  File \"solucion.py\", line 9, in es_fin_de_semana\\n    if es_fin_de_semana (dia==\"sábado\"):\\n  File \"solucion.py\", line 9, in es_fin_de_semana\\n    if es_fin_de_semana (dia==\"sábado\"):\\n  File \"solucion.py\", line 9, in es_fin_de_semana\\n    if es_fin_de_semana (dia==\"sábado\"):\\n  File \"solucion.py\", line 9, in es_fin_de_semana\\n    if es_fin_de_semana (dia==\"sábado\"):\\n  File \"solucion.py\", line 9, in es_fin_de_semana\\n    if es_fin_de_semana (dia==\"sábado\"):\\n  File \"solucion.py\", line 9, in es_fin_de_semana\\n    if es_fin_de_semana (dia==\"sábado\"):\\n  File \"solucion.py\", line 9, in es_fin_de_semana\\n    if es_fin_de_semana (dia==\"sábado\"):\\n  File \"solucion.py\", line 9, in es_fin_de_semana\\n    if es_fin_de_semana (dia==\"sábado\"):\\n  File \"solucion.py\", line 9, in es_fin_de_semana\\n    if es_fin_de_semana (dia==\"sábado\"):\\n  File \"solucion.py\", line 9, in es_fin_de_semana\\n    if es_fin_de_semana (dia==\"sábado\"):\\n  File \"solucion.py\", line 9, in es_fin_de_semana\\n    if es_fin_de_semana (dia==\"sábado\"):\\n  File \"solucion.py\", line 9, in es_fin_de_semana\\n    if es_fin_de_semana (dia==\"sábado\"):\\n  File \"solucion.py\", line 9, in es_fin_de_semana\\n    if es_fin_de_semana (dia==\"sábado\"):\\n  File \"solucion.py\", line 9, in es_fin_de_semana\\n    if es_fin_de_semana (dia==\"sábado\"):\\n  File \"solucion.py\", line 9, in es_fin_de_semana\\n    if es_fin_de_semana (dia==\"sábado\"):\\n  File \"solucion.py\", line 9, in es_fin_de_semana\\n    if es_fin_de_semana (dia==\"sábado\"):\\n  File \"solucion.py\", line 9, in es_fin_de_semana\\n    if es_fin_de_semana (dia==\"sábado\"):\\n  File \"solucion.py\", line 9, in es_fin_de_semana\\n    if es_fin_de_semana (dia==\"sábado\"):\\n  File \"solucion.py\", line 9, in es_fin_de_semana\\n    if es_fin_de_semana (dia==\"sábado\"):\\n  File \"solucion.py\", line 9, in es_fin_de_semana\\n    if es_fin_de_semana (dia==\"sábado\"):\\n  File \"solucion.py\", line 9, in es_fin_de_semana\\n    if es_fin_de_semana (dia==\"sábado\"):\\n  File \"solucion.py\", line 9, in es_fin_de_semana\\n    if es_fin_de_semana (dia==\"sábado\"):\\n  File \"solucion.py\", line 9, in es_fin_de_semana\\n    if es_fin_de_semana (dia==\"sábado\"):\\n  File \"solucion.py\", line 9, in es_fin_de_semana\\n    if es_fin_de_semana (dia==\"sábado\"):\\n  File \"solucion.py\", line 9, in es_fin_de_semana\\n    if es_fin_de_semana (dia==\"sábado\"):\\n  File \"solucion.py\", line 9, in es_fin_de_semana\\n    if es_fin_de_semana (dia==\"sábado\"):\\n  File \"solucion.py\", line 9, in es_fin_de_semana\\n    if es_fin_de_semana (dia==\"sábado\"):\\n  File \"solucion.py\", line 9, in es_fin_de_semana\\n    if es_fin_de_semana (dia==\"sábado\"):\\n  File \"solucion.py\", line 9, in es_fin_de_semana\\n    if es_fin_de_semana (dia==\"sábado\"):\\n  File \"solucion.py\", line 9, in es_fin_de_semana\\n    if es_fin_de_semana (dia==\"sábado\"):\\n  File \"solucion.py\", line 9, in es_fin_de_semana\\n    if es_fin_de_semana (dia==\"sábado\"):\\n  File \"solucion.py\", line 9, in es_fin_de_semana\\n    if es_fin_de_semana (dia==\"sábado\"):\\n  File \"solucion.py\", line 9, in es_fin_de_semana\\n    if es_fin_de_semana (dia==\"sábado\"):\\n  File \"solucion.py\", line 9, in es_fin_de_semana\\n    if es_fin_de_semana (dia==\"sábado\"):\\n  File \"solucion.py\", line 9, in es_fin_de_semana\\n    if es_fin_de_semana (dia==\"sábado\"):\\n  File \"solucion.py\", line 9, in es_fin_de_semana\\n    if es_fin_de_semana (dia==\"sábado\"):\\n  File \"solucion.py\", line 9, in es_fin_de_semana\\n    if es_fin_de_semana (dia==\"sábado\"):\\n  File \"solucion.py\", line 9, in es_fin_de_semana\\n    if es_fin_de_semana (dia==\"sábado\"):\\n  File \"solucion.py\", line 9, in es_fin_de_semana\\n    if es_fin_de_semana (dia==\"sábado\"):\\n  File \"solucion.py\", line 9, in es_fin_de_semana\\n    if es_fin_de_semana (dia==\"sábado\"):\\n  File \"solucion.py\", line 9, in es_fin_de_semana\\n    if es_fin_de_semana (dia==\"sábado\"):\\n  File \"solucion.py\", line 9, in es_fin_de_semana\\n    if es_fin_de_semana (dia==\"sábado\"):\\n  File \"solucion.py\", line 9, in es_fin_de_semana\\n    if es_fin_de_semana (dia==\"sábado\"):\\n  File \"solucion.py\", line 9, in es_fin_de_semana\\n    if es_fin_de_semana (dia==\"sábado\"):\\n  File \"solucion.py\", line 9, in es_fin_de_semana\\n    if es_fin_de_semana (dia==\"sábado\"):\\n  File \"solucion.py\", line 9, in es_fin_de_semana\\n    if es_fin_de_semana (dia==\"sábado\"):\\n  File \"solucion.py\", line 9, in es_fin_de_semana\\n    if es_fin_de_semana (dia==\"sábado\"):\\n  File \"solucion.py\", line 9, in es_fin_de_semana\\n    if es_fin_de_semana (dia==\"sábado\"):\\n  File \"solucion.py\", line 9, in es_fin_de_semana\\n    if es_fin_de_semana (dia==\"sábado\"):\\n  File \"solucion.py\", line 9, in es_fin_de_semana\\n    if es_fin_de_semana (dia==\"sábado\"):\\n  File \"solucion.py\", line 9, in es_fin_de_semana\\n    if es_fin_de_semana (dia==\"sábado\"):\\n  File \"solucion.py\", line 9, in es_fin_de_semana\\n    if es_fin_de_semana (dia==\"sábado\"):\\n  File \"solucion.py\", line 9, in es_fin_de_semana\\n    if es_fin_de_semana (dia==\"sábado\"):\\n  File \"solucion.py\", line 9, in es_fin_de_semana\\n    if es_fin_de_semana (dia==\"sábado\"):\\n  File \"solucion.py\", line 9, in es_fin_de_semana\\n    if es_fin_de_semana (dia==\"sábado\"):\\n  File \"solucion.py\", line 9, in es_fin_de_semana\\n    if es_fin_de_semana (dia==\"sábado\"):\\n  File \"solucion.py\", line 9, in es_fin_de_semana\\n    if es_fin_de_semana (dia==\"sábado\"):\\n  File \"solucion.py\", line 9, in es_fin_de_semana\\n    if es_fin_de_semana (dia==\"sábado\"):\\n  File \"solucion.py\", line 9, in es_fin_de_semana\\n    if es_fin_de_semana (dia==\"sábado\"):\\n  File \"solucion.py\", line 9, in es_fin_de_semana\\n    if es_fin_de_semana (dia==\"sábado\"):\\n  File \"solucion.py\", line 9, in es_fin_de_semana\\n    if es_fin_de_semana (dia==\"sábado\"):\\n  File \"solucion.py\", line 9, in es_fin_de_semana\\n    if es_fin_de_semana (dia==\"sábado\"):\\n  File \"solucion.py\", line 9, in es_fin_de_semana\\n    if es_fin_de_semana (dia==\"sábado\"):\\n  File \"solucion.py\", line 9, in es_fin_de_semana\\n    if es_fin_de_semana (dia==\"sábado\"):\\n  File \"solucion.py\", line 9, in es_fin_de_semana\\n    if es_fin_de_semana (dia==\"sábado\"):\\n  File \"solucion.py\", line 9, in es_fin_de_semana\\n    if es_fin_de_semana (dia==\"sábado\"):\\n  File \"solucion.py\", line 9, in es_fin_de_semana\\n    if es_fin_de_semana (dia==\"sábado\"):\\n  File \"solucion.py\", line 9, in es_fin_de_semana\\n    if es_fin_de_semana (dia==\"sábado\"):\\n  File \"solucion.py\", line 9, in es_fin_de_semana\\n    if es_fin_de_semana (dia==\"sábado\"):\\n  File \"solucion.py\", line 9, in es_fin_de_semana\\n    if es_fin_de_semana (dia==\"sábado\"):\\n  File \"solucion.py\", line 9, in es_fin_de_semana\\n    if es_fin_de_semana (dia==\"sábado\"):\\n  File \"solucion.py\", line 9, in es_fin_de_semana\\n    if es_fin_de_semana (dia==\"sábado\"):\\n  File \"solucion.py\", line 9, in es_fin_de_semana\\n    if es_fin_de_semana (dia==\"sábado\"):\\n  File \"solucion.py\", line 9, in es_fin_de_semana\\n</td>\n",
              "      <td>10631</td>\n",
              "      <td>85</td>\n",
              "      <td>def es_fin_de_semana (dia):\\r\\n    if es_fin_de_semana (dia==\"sábado\"):\\r\\n      return True \\r\\n    elif es_fin_de_semana (dia==\"Domingo\"):\\r\\n        return True\\r\\n    else:\\r\\n        return False\\r\\n    \\r\\n        \\r\\n    \\r\\n</td>\n",
              "      <td>2019-09-26 23:20:31.855</td>\n",
              "      <td>errored</td>\n",
              "      <td>25</td>\n",
              "      <td>[]</td>\n",
              "      <td>no_paso</td>\n",
              "      <td>2019-09-26</td>\n",
              "      <td>2019-09</td>\n",
              "      <td>2019</td>\n",
              "      <td>9</td>\n",
              "      <td>39</td>\n",
              "      <td>3</td>\n",
              "      <td>Thursday</td>\n",
              "      <td>23:20:31.855000</td>\n",
              "      <td>23</td>\n",
              "      <td>20</td>\n",
              "      <td>1</td>\n",
              "      <td>8</td>\n",
              "      <td>8</td>\n",
              "      <td>2019-09-26 23:20:31.855</td>\n",
              "      <td>None</td>\n",
              "    </tr>\n",
              "    <tr>\n",
              "      <th>15119</th>\n",
              "      <td>Operando strings</td>\n",
              "      <td>[{'binding': '*', 'inspection': 'Not:Uses:startswith', 'result': 'passed'}, {'binding': '*', 'inspection': 'DeclaresComputationWithArity2:longitud_nombre_completo', 'result': 'passed'}, {'binding': 'longitud_nombre_completo', 'inspection': 'Uses:len', 'result': 'passed'}]</td>\n",
              "      <td>mumukiproject/mumuki-guia-python-funciones-tipos-de-datos</td>\n",
              "      <td>\\nRunning tests...\\n----------------------------------------------------------------------\\nEEE.\\n======================================================================\\n</td>\n",
              "      <td>13259</td>\n",
              "      <td>148</td>\n",
              "      <td>def longitud_nombre_completo (numero, nombrecompleto):\\r\\n  return str.nombrecompleto(len(\"nombre\"+\"nombre apellido\"))+1</td>\n",
              "      <td>2020-05-08 02:38:47.099</td>\n",
              "      <td>errored</td>\n",
              "      <td>5</td>\n",
              "      <td>[]</td>\n",
              "      <td>no_paso</td>\n",
              "      <td>2020-05-08</td>\n",
              "      <td>2020-05</td>\n",
              "      <td>2020</td>\n",
              "      <td>5</td>\n",
              "      <td>19</td>\n",
              "      <td>4</td>\n",
              "      <td>Friday</td>\n",
              "      <td>02:38:47.099000</td>\n",
              "      <td>2</td>\n",
              "      <td>38</td>\n",
              "      <td>1</td>\n",
              "      <td>9</td>\n",
              "      <td>9</td>\n",
              "      <td>2020-05-08 02:38:47.099</td>\n",
              "      <td>None</td>\n",
              "    </tr>\n",
              "    <tr>\n",
              "      <th>15596</th>\n",
              "      <td>Operando strings</td>\n",
              "      <td>[]</td>\n",
              "      <td>mumukiproject/mumuki-guia-python-funciones-tipos-de-datos</td>\n",
              "      <td>File \"solucion.py\", line 8\\n    def longitud_nombre_completo (\"apellido\", \"nombre\"):\\n                                           ^\\n</td>\n",
              "      <td>13813</td>\n",
              "      <td>214</td>\n",
              "      <td>def longitud_nombre_completo (\"apellido\", \"nombre\"):\\r\\n  len(\"apellido\") + len(\"nombre\") + 1</td>\n",
              "      <td>2020-05-23 20:25:08.635</td>\n",
              "      <td>errored</td>\n",
              "      <td>0</td>\n",
              "      <td>[]</td>\n",
              "      <td>no_paso</td>\n",
              "      <td>2020-05-23</td>\n",
              "      <td>2020-05</td>\n",
              "      <td>2020</td>\n",
              "      <td>5</td>\n",
              "      <td>21</td>\n",
              "      <td>5</td>\n",
              "      <td>Saturday</td>\n",
              "      <td>20:25:08.635000</td>\n",
              "      <td>20</td>\n",
              "      <td>25</td>\n",
              "      <td>1</td>\n",
              "      <td>9</td>\n",
              "      <td>9</td>\n",
              "      <td>2020-05-23 20:25:08.635</td>\n",
              "      <td>None</td>\n",
              "    </tr>\n",
              "    <tr>\n",
              "      <th>19555</th>\n",
              "      <td>Calefones / Poniendo topes</td>\n",
              "      <td>[]</td>\n",
              "      <td>mumukiproject/mumuki-guia-python-funciones-tipos-de-datos</td>\n",
              "      <td>\\nRunning tests...\\n----------------------------------------------------------------------\\n.FFFFF\\n======================================================================\\nFAIL [0.001s]: test_extraer_100_100_es_0 (__main__.MumukiTest)\\n----------------------------------------------------------------------\\nTraceback (most recent call last):\\n  File \"solucion.py\", line 24, in test_extraer_100_100_es_0\\n    self.assertEqual(extraer(100, 100), 0)\\nAssertionError: 100 != 0\\n\\n======================================================================\\nFAIL [0.000s]: test_extraer_100_10_es_90 (__main__.MumukiTest)\\n----------------------------------------------------------------------\\nTraceback (most recent call last):\\n  File \"solucion.py\", line 18, in test_extraer_100_10_es_90\\n    self.assertEqual(extraer(100, 10), 90)\\nAssertionError: 100 != 90\\n\\n======================================================================\\nFAIL [0.000s]: test_extraer_100_120_es_0 (__main__.MumukiTest)\\n----------------------------------------------------------------------\\nTraceback (most recent call last):\\n  File \"solucion.py\", line 27, in test_extraer_100_120_es_0\\n    self.assertEqual(extraer(100, 120), 0)\\nAssertionError: 100 != 0\\n\\n======================================================================\\nFAIL [0.000s]: test_extraer_100_20_es_80 (__main__.MumukiTest)\\n----------------------------------------------------------------------\\nTraceback (most recent call last):\\n  File \"solucion.py\", line 15, in test_extraer_100_20_es_80\\n    self.assertEqual(extraer(100, 20), 80)\\nAssertionError: 100 != 80\\n\\n======================================================================\\n</td>\n",
              "      <td>17356</td>\n",
              "      <td>224</td>\n",
              "      <td>def extraer(saldo, monto):\\r\\n  return max(100, 50, 0)\\r\\n\\r\\n</td>\n",
              "      <td>2020-05-25 04:03:36.144</td>\n",
              "      <td>errored</td>\n",
              "      <td>3</td>\n",
              "      <td>[]</td>\n",
              "      <td>no_paso</td>\n",
              "      <td>2020-05-25</td>\n",
              "      <td>2020-05</td>\n",
              "      <td>2020</td>\n",
              "      <td>5</td>\n",
              "      <td>22</td>\n",
              "      <td>0</td>\n",
              "      <td>Monday</td>\n",
              "      <td>04:03:36.144000</td>\n",
              "      <td>4</td>\n",
              "      <td>3</td>\n",
              "      <td>1</td>\n",
              "      <td>5</td>\n",
              "      <td>5</td>\n",
              "      <td>2020-05-25 04:03:36.144</td>\n",
              "      <td>None</td>\n",
              "    </tr>\n",
              "    <tr>\n",
              "      <th>26659</th>\n",
              "      <td>Cartelitos</td>\n",
              "      <td>[]</td>\n",
              "      <td>mumukiproject/mumuki-guia-python-practica-funciones-y-tipos-de-datos</td>\n",
              "      <td>\\nRunning tests...\\n----------------------------------------------------------------------\\nFF\\n</td>\n",
              "      <td>25327</td>\n",
              "      <td>209</td>\n",
              "      <td>def escribir_cartelito (titulo,nombre,apellido):\\r\\n  return nombre + \"\" + apellido + \"\" + titulo + \"\"</td>\n",
              "      <td>2020-05-26 03:50:36.666</td>\n",
              "      <td>errored</td>\n",
              "      <td>1</td>\n",
              "      <td>[]</td>\n",
              "      <td>no_paso</td>\n",
              "      <td>2020-05-26</td>\n",
              "      <td>2020-05</td>\n",
              "      <td>2020</td>\n",
              "      <td>5</td>\n",
              "      <td>22</td>\n",
              "      <td>1</td>\n",
              "      <td>Tuesday</td>\n",
              "      <td>03:50:36.666000</td>\n",
              "      <td>3</td>\n",
              "      <td>50</td>\n",
              "      <td>2</td>\n",
              "      <td>6</td>\n",
              "      <td>22</td>\n",
              "      <td>2020-05-26 03:50:36.666</td>\n",
              "      <td>None</td>\n",
              "    </tr>\n",
              "    <tr>\n",
              "      <th>28412</th>\n",
              "      <td>Más Cartelitos</td>\n",
              "      <td>[]</td>\n",
              "      <td>mumukiproject/mumuki-guia-python-practica-funciones-y-tipos-de-datos</td>\n",
              "      <td>\\nRunning tests...\\n----------------------------------------------------------------------\\n....\\n</td>\n",
              "      <td>27386</td>\n",
              "      <td>200</td>\n",
              "      <td># modificá esta función\\r\\ndef escribir_cartelito(titulo, nombre, apellido, True):\\r\\n  if(True):\\r\\n    return titulo+\" \"+apellido\\r\\n  else:\\r\\n    return titulo+\" \"+nombre+\" \"+apellido</td>\n",
              "      <td>2020-06-08 20:45:57.427</td>\n",
              "      <td>errored</td>\n",
              "      <td>0</td>\n",
              "      <td>[]</td>\n",
              "      <td>no_paso</td>\n",
              "      <td>2020-06-08</td>\n",
              "      <td>2020-06</td>\n",
              "      <td>2020</td>\n",
              "      <td>6</td>\n",
              "      <td>24</td>\n",
              "      <td>0</td>\n",
              "      <td>Monday</td>\n",
              "      <td>20:45:57.427000</td>\n",
              "      <td>20</td>\n",
              "      <td>45</td>\n",
              "      <td>2</td>\n",
              "      <td>7</td>\n",
              "      <td>23</td>\n",
              "      <td>2020-06-08 20:45:57.427</td>\n",
              "      <td>None</td>\n",
              "    </tr>\n",
              "    <tr>\n",
              "      <th>31433</th>\n",
              "      <td>Cara o ceca</td>\n",
              "      <td>[{'binding': '*', 'inspection': 'Declares:=decision_con_moneda', 'result': 'passed'}]</td>\n",
              "      <td>mumukiproject/mumuki-guia-python-practica-funciones-y-tipos-de-datos</td>\n",
              "      <td>\\nRunning tests...\\n----------------------------------------------------------------------\\nEEEE\\n======================================================================\\nERROR [0.003s]: test_decision_con_moneda_cara_asado_empanadas_es_asado (__main__.MumukiTest)\\n----------------------------------------------------------------------\\nTraceback (most recent call last):\\n  File \"solucion.py\", line 19, in test_decision_con_moneda_cara_asado_empanadas_es_asado\\n    self.assertEqual(decision_con_moneda(\"cara\", \"asado\", \"empanadas\"), \"asado\")\\n  File \"solucion.py\", line 9, in decision_con_moneda\\n    if moneda == cara :\\nNameError: global name 'cara' is not defined\\n\\n======================================================================\\nERROR [0.001s]: test_decision_con_moneda_cara_pizzas_empanadas_es_pizzas (__main__.MumukiTest)\\n----------------------------------------------------------------------\\nTraceback (most recent call last):\\n  File \"solucion.py\", line 16, in test_decision_con_moneda_cara_pizzas_empanadas_es_pizzas\\n</td>\n",
              "      <td>30712</td>\n",
              "      <td>261</td>\n",
              "      <td>def decision_con_moneda (moneda, pizzas, empanadas): \\r\\n  if moneda == cara :\\r\\n    return pizzas\\r\\n  else : \\r\\n    return empanadas</td>\n",
              "      <td>2020-09-16 13:46:15.786</td>\n",
              "      <td>errored</td>\n",
              "      <td>3</td>\n",
              "      <td>[]</td>\n",
              "      <td>no_paso</td>\n",
              "      <td>2020-09-16</td>\n",
              "      <td>2020-09</td>\n",
              "      <td>2020</td>\n",
              "      <td>9</td>\n",
              "      <td>38</td>\n",
              "      <td>2</td>\n",
              "      <td>Wednesday</td>\n",
              "      <td>13:46:15.786000</td>\n",
              "      <td>13</td>\n",
              "      <td>46</td>\n",
              "      <td>2</td>\n",
              "      <td>9</td>\n",
              "      <td>25</td>\n",
              "      <td>2020-09-16 13:46:15.786</td>\n",
              "      <td>None</td>\n",
              "    </tr>\n",
              "    <tr>\n",
              "      <th>31650</th>\n",
              "      <td>¡Envido!</td>\n",
              "      <td>[]</td>\n",
              "      <td>mumukiproject/mumuki-guia-python-practica-funciones-y-tipos-de-datos</td>\n",
              "      <td>\\nRunning tests...\\n</td>\n",
              "      <td>30931</td>\n",
              "      <td>114</td>\n",
              "      <td>def valor_envido (numero):\\r\\n  if(numero &gt;= 1 and numero &lt;=7):\\r\\n    return (numero)\\r\\n  else:\\r\\n    return 0\\r\\n</td>\n",
              "      <td>2019-10-17 14:23:03.541</td>\n",
              "      <td>errored</td>\n",
              "      <td>1</td>\n",
              "      <td>[]</td>\n",
              "      <td>no_paso</td>\n",
              "      <td>2019-10-17</td>\n",
              "      <td>2019-10</td>\n",
              "      <td>2019</td>\n",
              "      <td>10</td>\n",
              "      <td>42</td>\n",
              "      <td>3</td>\n",
              "      <td>Thursday</td>\n",
              "      <td>14:23:03.541000</td>\n",
              "      <td>14</td>\n",
              "      <td>23</td>\n",
              "      <td>2</td>\n",
              "      <td>10</td>\n",
              "      <td>26</td>\n",
              "      <td>2019-10-17 14:23:03.541</td>\n",
              "      <td>None</td>\n",
              "    </tr>\n",
              "    <tr>\n",
              "      <th>32426</th>\n",
              "      <td>¡Quiero retruco!</td>\n",
              "      <td>[]</td>\n",
              "      <td>mumukiproject/mumuki-guia-python-practica-funciones-y-tipos-de-datos</td>\n",
              "      <td>\\nRunning tests...\\n----------------------------------------------------------------------\\n.FFF\\n======================================================================\\nFAIL [0.001s]: test_puntosDeEnvidoTotales_6_copas_11_copas_es_26 (__main__.MumukiTest)\\n----------------------------------------------------------------------\\nTraceback (most recent call last):\\n  File \"solucion.py\", line 24, in test_puntosDeEnvidoTotales_6_copas_11_copas_es_26\\n</td>\n",
              "      <td>31829</td>\n",
              "      <td>149</td>\n",
              "      <td>def puntos_de_envido_totales(valor1, corte1, valor2, corte2):\\r\\n  if corte1 == corte2:\\r\\n    return valor1 + valor2 + 20\\r\\n  else: valor1 + valor2</td>\n",
              "      <td>2020-05-11 23:10:00.559</td>\n",
              "      <td>errored</td>\n",
              "      <td>0</td>\n",
              "      <td>[]</td>\n",
              "      <td>no_paso</td>\n",
              "      <td>2020-05-11</td>\n",
              "      <td>2020-05</td>\n",
              "      <td>2020</td>\n",
              "      <td>5</td>\n",
              "      <td>20</td>\n",
              "      <td>0</td>\n",
              "      <td>Monday</td>\n",
              "      <td>23:10:00.559000</td>\n",
              "      <td>23</td>\n",
              "      <td>10</td>\n",
              "      <td>2</td>\n",
              "      <td>11</td>\n",
              "      <td>27</td>\n",
              "      <td>2020-05-11 23:10:00.559</td>\n",
              "      <td>None</td>\n",
              "    </tr>\n",
              "    <tr>\n",
              "      <th>36850</th>\n",
              "      <td>Variables globales</td>\n",
              "      <td>[]</td>\n",
              "      <td>mumukiproject/mumuki-guia-python-variables-y-procedimientos</td>\n",
              "      <td>File \"solucion.py\", line 31\\n</td>\n",
              "      <td>36686</td>\n",
              "      <td>123</td>\n",
              "      <td>def ascensor_sobrecargado(numero):\\r\\n  carga_maxima_en_kilogramos = 300\\r\\n  return\\r\\n  if (peso_promedio_persona_en_kilogramos * numero) &lt; carga_maxima_en_kilogramos\\r\\n  else \\r\\n  0</td>\n",
              "      <td>2019-09-26 14:27:46.224</td>\n",
              "      <td>errored</td>\n",
              "      <td>7</td>\n",
              "      <td>[]</td>\n",
              "      <td>no_paso</td>\n",
              "      <td>2019-09-26</td>\n",
              "      <td>2019-09</td>\n",
              "      <td>2019</td>\n",
              "      <td>9</td>\n",
              "      <td>39</td>\n",
              "      <td>3</td>\n",
              "      <td>Thursday</td>\n",
              "      <td>14:27:46.224000</td>\n",
              "      <td>14</td>\n",
              "      <td>27</td>\n",
              "      <td>3</td>\n",
              "      <td>9</td>\n",
              "      <td>38</td>\n",
              "      <td>2019-09-26 14:27:46.224</td>\n",
              "      <td>None</td>\n",
              "    </tr>\n",
              "    <tr>\n",
              "      <th>37825</th>\n",
              "      <td>Variables globales</td>\n",
              "      <td>[{'binding': 'ascensor_sobrecargado', 'inspection': 'Uses:carga_maxima_en_kilogramos', 'result': 'passed'}, {'binding': 'ascensor_sobrecargado', 'inspection': 'Uses:peso_promedio_persona_en_kilogramos', 'result': 'passed'}, {'binding': '*', 'inspection': 'DeclaresComputationWithArity1:ascensor_sobrecargado', 'result': 'passed'}]</td>\n",
              "      <td>mumukiproject/mumuki-guia-python-variables-y-procedimientos</td>\n",
              "      <td>\\n</td>\n",
              "      <td>37761</td>\n",
              "      <td>321</td>\n",
              "      <td>def ascensor_sobrecargado(f):\\r\\n  return f* peso_promedio_persona_en_kilogramos&gt;=carga_maxima_en_kilogramos\\r\\npeso_promedio_persona_en_kilogramo=300\\r\\ncarga_maxima_en_kilogramos=80</td>\n",
              "      <td>2020-09-28 16:40:19.441</td>\n",
              "      <td>errored</td>\n",
              "      <td>1</td>\n",
              "      <td>[]</td>\n",
              "      <td>no_paso</td>\n",
              "      <td>2020-09-28</td>\n",
              "      <td>2020-09</td>\n",
              "      <td>2020</td>\n",
              "      <td>9</td>\n",
              "      <td>40</td>\n",
              "      <td>0</td>\n",
              "      <td>Monday</td>\n",
              "      <td>16:40:19.441000</td>\n",
              "      <td>16</td>\n",
              "      <td>40</td>\n",
              "      <td>3</td>\n",
              "      <td>9</td>\n",
              "      <td>38</td>\n",
              "      <td>2020-09-28 16:40:19.441</td>\n",
              "      <td>None</td>\n",
              "    </tr>\n",
              "    <tr>\n",
              "      <th>38019</th>\n",
              "      <td>¿Y los procedimientos?</td>\n",
              "      <td>[]</td>\n",
              "      <td>mumukiproject/mumuki-guia-python-variables-y-procedimientos</td>\n",
              "      <td>\\nRunning tests...\\n----------------------------------------------------------------------\\n..\\n----------------------------------------------------------------------\\nRan 2 tests in 0.008s\\n\\nOK\\n\\nGenerating XML reports...\\nAquí me pongo a cantar\\nAl compás de la vigüela\\nQue el hombre que lo desvela\\nUna pena extraordinaria\\n&lt;?xml version=\"1.0\" encoding=\"UTF-8\"?&gt;\\n&lt;testsuite errors=\"0\" failures=\"0\" file=\".py\" name=\"MumukiTest-20191120162917\" skipped=\"0\" tests=\"2\" time=\"0.008\" timestamp=\"2019-11-20T16:29:17\"&gt;\\n\\t&lt;testcase classname=\"MumukiTest\" file=\"tmp/mumuki.compile20191120-24-uw8v39.py\" line=\"31\" name=\"test_deberia_imprimir_los_versos\" time=\"0.006\" timestamp=\"2019-11-20T16:29:17\"&gt;\\n\\t\\t&lt;system-out&gt;\\n&lt;![CDATA[]]&gt;\\t\\t&lt;/system-out&gt;\\n\\t\\t&lt;system-err&gt;\\n&lt;![CDATA[]]&gt;\\t\\t&lt;/system-err&gt;\\n\\t&lt;/testcase&gt;\\n\\t&lt;testcase classname=\"MumukiTest\" file=\"tmp/mumuki.compile20191120-24-uw8v39.py\" line=\"35\" name=\"test_no_deberia_retornar_nada\" time=\"0.001\" timestamp=\"2019-11-20T16:29:17\"&gt;\\n\\t\\t&lt;system-out&gt;\\n&lt;![CDATA['Aqu\\xc3\\xad me pongo a cantar\\nAl comp\\xc3\\xa1s de la vig\\xc3\\xbcela\\nQue el hombre que lo desvela\\nUna pena extraordinaria\\n']]&gt;\\t\\t&lt;/system-out&gt;\\n\\t\\t&lt;system-err&gt;\\n&lt;![CDATA[]]&gt;\\t\\t&lt;/system-err&gt;\\n\\t&lt;/testcase&gt;\\n&lt;/testsuite&gt;\\n</td>\n",
              "      <td>37956</td>\n",
              "      <td>125</td>\n",
              "      <td>def versos_martin_fierro():\\r\\n  print(\"Aquí me pongo a cantar\")\\r\\n  print(\"Al compás de la vigüela\")\\r\\n  print(\"Que el hombre que lo desvela\")\\r\\n  print(\"Una pena extraordinaria\")</td>\n",
              "      <td>2019-11-20 16:29:16.899</td>\n",
              "      <td>errored</td>\n",
              "      <td>2</td>\n",
              "      <td>[]</td>\n",
              "      <td>no_paso</td>\n",
              "      <td>2019-11-20</td>\n",
              "      <td>2019-11</td>\n",
              "      <td>2019</td>\n",
              "      <td>11</td>\n",
              "      <td>47</td>\n",
              "      <td>2</td>\n",
              "      <td>Wednesday</td>\n",
              "      <td>16:29:16.899000</td>\n",
              "      <td>16</td>\n",
              "      <td>29</td>\n",
              "      <td>3</td>\n",
              "      <td>3</td>\n",
              "      <td>32</td>\n",
              "      <td>2019-11-20 16:29:16.899</td>\n",
              "      <td>None</td>\n",
              "    </tr>\n",
              "    <tr>\n",
              "      <th>39206</th>\n",
              "      <td>Martin Fierro</td>\n",
              "      <td>[]</td>\n",
              "      <td>mumukiproject/mumuki-guia-python-variables-y-procedimientos</td>\n",
              "      <td>\\nRunning tests...\\n----------------------------------------------------------------------\\n..\\n----------------------------------------------------------------------\\nRan 2 tests in 0.005s\\n\\nAquí me pongo a cantar\\nAl compás de la vigüela\\nQue el hombre que lo desvela\\nOK\\n\\nGenerating XML reports...\\nUna pena extraordinaria\\n&lt;?xml version=\"1.0\" encoding=\"UTF-8\"?&gt;\\n&lt;testsuite errors=\"0\" failures=\"0\" file=\".py\" name=\"MumukiTest-20190925144832\" skipped=\"0\" tests=\"2\" time=\"0.004\" timestamp=\"2019-09-25T14:48:32\"&gt;\\n\\t&lt;testcase classname=\"MumukiTest\" file=\"tmp/mumuki.compile20190925-24-18b4ykm.py\" line=\"32\" name=\"test_deberia_imprimir_los_versos\" time=\"0.003\" timestamp=\"2019-09-25T14:48:32\"&gt;\\n\\t\\t&lt;system-out&gt;\\n&lt;![CDATA[]]&gt;\\t\\t&lt;/system-out&gt;\\n\\t\\t&lt;system-err&gt;\\n&lt;![CDATA[]]&gt;\\t\\t&lt;/system-err&gt;\\n\\t&lt;/testcase&gt;\\n\\t&lt;testcase classname=\"MumukiTest\" file=\"tmp/mumuki.compile20190925-24-18b4ykm.py\" line=\"36\" name=\"test_deberia_retornar_cero\" time=\"0.001\" timestamp=\"2019-09-25T14:48:32\"&gt;\\n\\t\\t&lt;system-out&gt;\\n&lt;![CDATA['Aqu\\xc3\\xad me pongo a cantar\\nAl comp\\xc3\\xa1s de la vig\\xc3\\xbcela\\nQue el hombre que lo desvela\\nUna pena extraordinaria\\n']]&gt;\\t\\t&lt;/system-out&gt;\\n\\t\\t&lt;system-err&gt;\\n&lt;![CDATA[]]&gt;\\t\\t&lt;/system-err&gt;\\n\\t&lt;/testcase&gt;\\n&lt;/testsuite&gt;\\n</td>\n",
              "      <td>38188</td>\n",
              "      <td>108</td>\n",
              "      <td>def versos_martin_fierro():\\r\\n  print (\"Aquí me pongo a cantar\")\\r\\n  print(\"Al compás de la vigüela\")\\r\\n  print (\"Que el hombre que lo desvela\")\\r\\n  print(\"Una pena extraordinaria\")\\r\\n  return 0</td>\n",
              "      <td>2019-09-25 14:48:32.686</td>\n",
              "      <td>errored</td>\n",
              "      <td>2</td>\n",
              "      <td>[]</td>\n",
              "      <td>no_paso</td>\n",
              "      <td>2019-09-25</td>\n",
              "      <td>2019-09</td>\n",
              "      <td>2019</td>\n",
              "      <td>9</td>\n",
              "      <td>39</td>\n",
              "      <td>2</td>\n",
              "      <td>Wednesday</td>\n",
              "      <td>14:48:32.686000</td>\n",
              "      <td>14</td>\n",
              "      <td>48</td>\n",
              "      <td>3</td>\n",
              "      <td>2</td>\n",
              "      <td>31</td>\n",
              "      <td>2019-09-25 14:48:32.686</td>\n",
              "      <td>None</td>\n",
              "    </tr>\n",
              "    <tr>\n",
              "      <th>39347</th>\n",
              "      <td>Martin Fierro</td>\n",
              "      <td>[]</td>\n",
              "      <td>mumukiproject/mumuki-guia-python-variables-y-procedimientos</td>\n",
              "      <td>\\nRunning tests...\\n----------------------------------------------------------------------\\nF.\\n======================================================================\\nFAIL [0.001s]: test_deberia_imprimir_los_versos (__main__.MumukiTest)\\n----------------------------------------------------------------------\\nTraceback (most recent call last):\\n  File \"solucion.py\", line 34, in test_deberia_imprimir_los_versos\\n    self.assertEqual(out, \"Aquí me pongo a cantar\\nAl compás de la vigüela\\nQue el hombre que lo desvela\\nUna pena extraordinaria\\n\")\\nAssertionError: 'aqui me pongo a cantar al compas de la viguela que el hombre que lo desvela una pena extraordinaria' != 'Aqu\\xc3\\xad me pongo a cantar\\nAl comp\\xc3\\xa1s de la vig\\xc3\\xbcela\\nQue el hombre que lo desvela\\nUna pena extraordinaria\\n'\\n\\n----------------------------------------------------------------------\\nRan 2 tests in 0.003s\\n\\nFAILED (failures=1)\\n\\nGenerating XML reports...\\naqui me pongo a cantar al compas de la viguela que el hombre que lo desvela una pena extraordinaria&lt;?xml version=\"1.0\" encoding=\"UTF-8\"?&gt;\\n&lt;testsuite errors=\"0\" failures=\"1\" file=\".py\" name=\"MumukiTest-20200515122210\" skipped=\"0\" tests=\"2\" time=\"0.002\" timestamp=\"2020-05-15T12:22:10\"&gt;\\n\\t&lt;testcase classname=\"MumukiTest\" file=\"tmp/mumuki.compile20200515-23-8bb9px.py\" line=\"36\" name=\"test_deberia_retornar_cero\" time=\"0.001\" timestamp=\"2020-05-15T12:22:10\"&gt;\\n\\t\\t&lt;system-out&gt;\\n&lt;![CDATA[aqui me pongo a cantar al compas de la viguela que el hombre que lo desvela una pena extraordinaria]]&gt;\\t\\t&lt;/system-out&gt;\\n\\t\\t&lt;system-err&gt;\\n&lt;![CDATA[]]&gt;\\t\\t&lt;/system-err&gt;\\n\\t&lt;/testcase&gt;\\n\\t&lt;testcase classname=\"MumukiTest\" file=\"tmp/mumuki.compile20200515-23-8bb9px.py\" line=\"32\" name=\"test_deberia_imprimir_los_versos\" time=\"0.001\" timestamp=\"2020-05-15T12:22:10\"&gt;\\n\\t\\t&lt;failure message=\"'aqui me pongo a cantar al compas de la viguela que el hombre que lo desvela una pena extraordinaria' != 'Aqu\\xc3\\xad me pongo a cantar\\nAl comp\\xc3\\xa1s de la vig\\xc3\\xbcela\\nQue el hombre que lo desvela\\nUna pena extraordinaria\\n'\" type=\"AssertionError\"&gt;\\n&lt;![CDATA['Traceback (most recent call last):\\n  File \"solucion.py\", line 34, in test_deberia_imprimir_los_versos\\n    self.assertEqual(out, \"Aqu\\xc3\\xad me pongo a cantar\\\\nAl comp\\xc3\\xa1s de la vig\\xc3\\xbcela\\\\nQue el hombre que lo desvela\\\\nUna pena extraordinaria\\\\n\")\\nAssertionError: \\'aqui me pongo a cantar al compas de la viguela que el hombre que lo desvela una pena extraordinaria\\' != \\'Aqu\\\\xc3\\\\xad me pongo a cantar\\\\nAl comp\\\\xc3\\\\xa1s de la vig\\\\xc3\\\\xbcela\\\\nQue el hombre que lo desvela\\\\nUna pena extraordinaria\\\\n\\'\\n']]&gt;\\t\\t&lt;/failure&gt;\\n\\t\\t&lt;system-out&gt;\\n&lt;![CDATA[]]&gt;\\t\\t&lt;/system-out&gt;\\n\\t\\t&lt;system-err&gt;\\n&lt;![CDATA[]]&gt;\\t\\t&lt;/system-err&gt;\\n\\t&lt;/testcase&gt;\\n&lt;/testsuite&gt;\\n</td>\n",
              "      <td>38330</td>\n",
              "      <td>158</td>\n",
              "      <td>def versos_martin_fierro ():\\r\\n  print (\"aqui me pongo a cantar\"),\\r\\n  print (\"al compas de la viguela\"),\\r\\n  print (\"que el hombre que lo desvela\"),\\r\\n  print (\"una pena extraordinaria\"),\\r\\n  return 0</td>\n",
              "      <td>2020-05-15 12:22:10.089</td>\n",
              "      <td>errored</td>\n",
              "      <td>4</td>\n",
              "      <td>[]</td>\n",
              "      <td>no_paso</td>\n",
              "      <td>2020-05-15</td>\n",
              "      <td>2020-05</td>\n",
              "      <td>2020</td>\n",
              "      <td>5</td>\n",
              "      <td>20</td>\n",
              "      <td>4</td>\n",
              "      <td>Friday</td>\n",
              "      <td>12:22:10.089000</td>\n",
              "      <td>12</td>\n",
              "      <td>22</td>\n",
              "      <td>3</td>\n",
              "      <td>2</td>\n",
              "      <td>31</td>\n",
              "      <td>2020-05-15 12:22:10.089</td>\n",
              "      <td>None</td>\n",
              "    </tr>\n",
              "    <tr>\n",
              "      <th>39456</th>\n",
              "      <td>Martin Fierro</td>\n",
              "      <td>[]</td>\n",
              "      <td>mumukiproject/mumuki-guia-python-variables-y-procedimientos</td>\n",
              "      <td>\\nRunning tests...\\n----------------------------------------------------------------------\\naquí me pongo a cantar\\nal compás de la vigüela\\nF.\\n======================================================================\\nFAIL [0.001s]: test_deberia_imprimir_los_versos (__main__.MumukiTest)\\n----------------------------------------------------------------------\\nTraceback (most recent call last):\\n  File \"solucion.py\", line 35, in test_deberia_imprimir_los_versos\\n    self.assertEqual(out, \"Aquí me pongo a cantar\\nAl compás de la vigüela\\nQue el hombre que lo desvela\\nUna pena extraordinaria\\n\")\\nAssertionError: 'aqu\\xc3\\xad me pongo a cantar\\nal comp\\xc3\\xa1s de la vig\\xc3\\xbcela\\nque el hombre que lo desvela\\nuna pena extraordinaria\\ny estoy por devolver el valor 0\\n' != 'Aqu\\xc3\\xad me pongo a cantar\\nAl comp\\xc3\\xa1s de la vig\\xc3\\xbcela\\nQue el hombre que lo desvela\\nUna pena extraordinaria\\n'\\n\\n----------------------------------------------------------------------\\nRan 2 tests in 0.003s\\n\\nFAILED (failures=1)\\n\\nGenerating XML reports...\\nque el hombre que lo desvela\\nuna pena extraordinaria\\ny estoy por devolver el valor 0\\n&lt;?xml version=\"1.0\" encoding=\"UTF-8\"?&gt;\\n&lt;testsuite errors=\"0\" failures=\"1\" file=\".py\" name=\"MumukiTest-20200525221634\" skipped=\"0\" tests=\"2\" time=\"0.002\" timestamp=\"2020-05-25T22:16:34\"&gt;\\n\\t&lt;testcase classname=\"MumukiTest\" file=\"tmp/mumuki.compile20200525-23-f80jv1.py\" line=\"37\" name=\"test_deberia_retornar_cero\" time=\"0.001\" timestamp=\"2020-05-25T22:16:34\"&gt;\\n\\t\\t&lt;system-out&gt;\\n&lt;![CDATA['aqu\\xc3\\xad me pongo a cantar\\nal comp\\xc3\\xa1s de la vig\\xc3\\xbcela\\nque el hombre que lo desvela\\nuna pena extraordinaria\\ny estoy por devolver el valor 0\\n']]&gt;\\t\\t&lt;/system-out&gt;\\n\\t\\t&lt;system-err&gt;\\n&lt;![CDATA[]]&gt;\\t\\t&lt;/system-err&gt;\\n\\t&lt;/testcase&gt;\\n\\t&lt;testcase classname=\"MumukiTest\" file=\"tmp/mumuki.compile20200525-23-f80jv1.py\" line=\"33\" name=\"test_deberia_imprimir_los_versos\" time=\"0.001\" timestamp=\"2020-05-25T22:16:34\"&gt;\\n\\t\\t&lt;failure message=\"'aqu\\xc3\\xad me pongo a cantar\\nal comp\\xc3\\xa1s de la vig\\xc3\\xbcela\\nque el hombre que lo desvela\\nuna pena extraordinaria\\ny estoy por devolver el valor 0\\n' != 'Aqu\\xc3\\xad me pongo a cantar\\nAl comp\\xc3\\xa1s de la vig\\xc3\\xbcela\\nQue el hombre que lo desvela\\nUna pena extraordinaria\\n'\" type=\"AssertionError\"&gt;\\n&lt;![CDATA['Traceback (most recent call last):\\n  File \"solucion.py\", line 35, in test_deberia_imprimir_los_versos\\n    self.assertEqual(out, \"Aqu\\xc3\\xad me pongo a cantar\\\\nAl comp\\xc3\\xa1s de la vig\\xc3\\xbcela\\\\nQue el hombre que lo desvela\\\\nUna pena extraordinaria\\\\n\")\\nAssertionError: \\'aqu\\\\xc3\\\\xad me pongo a cantar\\\\nal comp\\\\xc3\\\\xa1s de la vig\\\\xc3\\\\xbcela\\\\nque el hombre que lo desvela\\\\nuna pena extraordinaria\\\\ny estoy por devolver el valor 0\\\\n\\' != \\'Aqu\\\\xc3\\\\xad me pongo a cantar\\\\nAl comp\\\\xc3\\\\xa1s de la vig\\\\xc3\\\\xbcela\\\\nQue el hombre que lo desvela\\\\nUna pena extraordinaria\\\\n\\'\\n']]&gt;\\t\\t&lt;/failure&gt;\\n\\t\\t&lt;system-out&gt;\\n&lt;![CDATA[]]&gt;\\t\\t&lt;/system-out&gt;\\n\\t\\t&lt;system-err&gt;\\n&lt;![CDATA[]]&gt;\\t\\t&lt;/system-err&gt;\\n\\t&lt;/testcase&gt;\\n&lt;/testsuite&gt;\\n</td>\n",
              "      <td>38447</td>\n",
              "      <td>168</td>\n",
              "      <td>def versos_martin_fierro():\\r\\n  print(\"aquí me pongo a cantar\")\\r\\n  print(\"al compás de la vigüela\")\\r\\n  print(\"que el hombre que lo desvela\")\\r\\n  print(\"una pena extraordinaria\")\\r\\n  print(\"y estoy por devolver el valor 0\")\\r\\n  return 0</td>\n",
              "      <td>2020-05-25 22:16:33.793</td>\n",
              "      <td>errored</td>\n",
              "      <td>1</td>\n",
              "      <td>[]</td>\n",
              "      <td>no_paso</td>\n",
              "      <td>2020-05-25</td>\n",
              "      <td>2020-05</td>\n",
              "      <td>2020</td>\n",
              "      <td>5</td>\n",
              "      <td>22</td>\n",
              "      <td>0</td>\n",
              "      <td>Monday</td>\n",
              "      <td>22:16:33.793000</td>\n",
              "      <td>22</td>\n",
              "      <td>16</td>\n",
              "      <td>3</td>\n",
              "      <td>2</td>\n",
              "      <td>31</td>\n",
              "      <td>2020-05-25 22:16:33.793</td>\n",
              "      <td>None</td>\n",
              "    </tr>\n",
              "    <tr>\n",
              "      <th>39492</th>\n",
              "      <td>Martin Fierro</td>\n",
              "      <td>[]</td>\n",
              "      <td>mumukiproject/mumuki-guia-python-variables-y-procedimientos</td>\n",
              "      <td>\\nRunning tests...\\n----------------------------------------------------------------------\\nFF\\n======================================================================\\nFAIL [0.001s]: test_deberia_imprimir_los_versos (__main__.MumukiTest)\\n----------------------------------------------------------------------\\nTraceback (most recent call last):\\n  File \"solucion.py\", line 30, in test_deberia_imprimir_los_versos\\n    self.assertEqual(out, \"Aquí me pongo a cantar\\nAl compás de la vigüela\\nQue el hombre que lo desvela\\nUna pena extraordinaria\\n\")\\nAssertionError: '\\n' != 'Aqu\\xc3\\xad me pongo a cantar\\nAl comp\\xc3\\xa1s de la vig\\xc3\\xbcela\\nQue el hombre que lo desvela\\nUna pena extraordinaria\\n'\\n\\n======================================================================\\nFAIL [0.001s]: test_deberia_retornar_cero (__main__.MumukiTest)\\n----------------------------------------------------------------------\\nTraceback (most recent call last):\\n  File \"solucion.py\", line 33, in test_deberia_retornar_cero\\n    self.assertEqual(versos_martin_fierro(), 0)\\nAssertionError: None != 0\\n\\n----------------------------------------------------------------------\\nRan 2 tests in 0.002s\\n\\nFAILED (failures=2)\\n\\nGenerating XML reports...\\n\\n&lt;?xml version=\"1.0\" encoding=\"UTF-8\"?&gt;\\n&lt;testsuite errors=\"0\" failures=\"2\" file=\".py\" name=\"MumukiTest-20200526185015\" skipped=\"0\" tests=\"2\" time=\"0.002\" timestamp=\"2020-05-26T18:50:15\"&gt;\\n\\t&lt;testcase classname=\"MumukiTest\" file=\"tmp/mumuki.compile20200526-23-1yjldnv.py\" line=\"28\" name=\"test_deberia_imprimir_los_versos\" time=\"0.001\" timestamp=\"2020-05-26T18:50:15\"&gt;\\n\\t\\t&lt;failure message=\"'\\n' != 'Aqu\\xc3\\xad me pongo a cantar\\nAl comp\\xc3\\xa1s de la vig\\xc3\\xbcela\\nQue el hombre que lo desvela\\nUna pena extraordinaria\\n'\" type=\"AssertionError\"&gt;\\n&lt;![CDATA['Traceback (most recent call last):\\n  File \"solucion.py\", line 30, in test_deberia_imprimir_los_versos\\n    self.assertEqual(out, \"Aqu\\xc3\\xad me pongo a cantar\\\\nAl comp\\xc3\\xa1s de la vig\\xc3\\xbcela\\\\nQue el hombre que lo desvela\\\\nUna pena extraordinaria\\\\n\")\\nAssertionError: \\'\\\\n\\' != \\'Aqu\\\\xc3\\\\xad me pongo a cantar\\\\nAl comp\\\\xc3\\\\xa1s de la vig\\\\xc3\\\\xbcela\\\\nQue el hombre que lo desvela\\\\nUna pena extraordinaria\\\\n\\'\\n']]&gt;\\t\\t&lt;/failure&gt;\\n\\t\\t&lt;system-out&gt;\\n&lt;![CDATA[]]&gt;\\t\\t&lt;/system-out&gt;\\n\\t\\t&lt;system-err&gt;\\n&lt;![CDATA[]]&gt;\\t\\t&lt;/system-err&gt;\\n\\t&lt;/testcase&gt;\\n\\t&lt;testcase classname=\"MumukiTest\" file=\"tmp/mumuki.compile20200526-23-1yjldnv.py\" line=\"32\" name=\"test_deberia_retornar_cero\" time=\"0.001\" timestamp=\"2020-05-26T18:50:15\"&gt;\\n\\t\\t&lt;failure message=\"None != 0\" type=\"AssertionError\"&gt;\\n&lt;![CDATA[Traceback (most recent call last):\\n  File \"solucion.py\", line 33, in test_deberia_retornar_cero\\n    self.assertEqual(versos_martin_fierro(), 0)\\nAssertionError: None != 0\\n]]&gt;\\t\\t&lt;/failure&gt;\\n\\t\\t&lt;system-out&gt;\\n&lt;![CDATA[\\n]]&gt;\\t\\t&lt;/system-out&gt;\\n\\t\\t&lt;system-err&gt;\\n&lt;![CDATA[]]&gt;\\t\\t&lt;/system-err&gt;\\n\\t&lt;/testcase&gt;\\n&lt;/testsuite&gt;\\n</td>\n",
              "      <td>38483</td>\n",
              "      <td>197</td>\n",
              "      <td>def versos_martin_fierro():\\r\\n  print</td>\n",
              "      <td>2020-05-26 18:50:14.386</td>\n",
              "      <td>errored</td>\n",
              "      <td>0</td>\n",
              "      <td>[]</td>\n",
              "      <td>no_paso</td>\n",
              "      <td>2020-05-26</td>\n",
              "      <td>2020-05</td>\n",
              "      <td>2020</td>\n",
              "      <td>5</td>\n",
              "      <td>22</td>\n",
              "      <td>1</td>\n",
              "      <td>Tuesday</td>\n",
              "      <td>18:50:14.386000</td>\n",
              "      <td>18</td>\n",
              "      <td>50</td>\n",
              "      <td>3</td>\n",
              "      <td>2</td>\n",
              "      <td>31</td>\n",
              "      <td>2020-05-26 18:50:14.386</td>\n",
              "      <td>None</td>\n",
              "    </tr>\n",
              "    <tr>\n",
              "      <th>39510</th>\n",
              "      <td>Martin Fierro</td>\n",
              "      <td>[]</td>\n",
              "      <td>mumukiproject/mumuki-guia-python-variables-y-procedimientos</td>\n",
              "      <td>\\nRunning tests...\\n----------------------------------------------------------------------\\nF.\\n======================================================================\\nFAIL [0.003s]: test_deberia_imprimir_los_versos (__main__.MumukiTest)\\n----------------------------------------------------------------------\\nTraceback (most recent call last):\\n  File \"solucion.py\", line 34, in test_deberia_imprimir_los_versos\\n    self.assertEqual(out, \"Aquí me pongo a cantar\\nAl compás de la vigüela\\nQue el hombre que lo desvela\\nUna pena extraordinaria\\n\")\\nAssertionError: 'Aqui me pongo a cantar\\nAl comp\\xc3\\xa1s de la vig\\xc3\\xbcela\\nQue el hombre que lo desvela\\nUna pena extraordinaria\\n' != 'Aqu\\xc3\\xad me pongo a cantar\\nAl comp\\xc3\\xa1s de la vig\\xc3\\xbcela\\nQue el hombre que lo desvela\\nUna pena extraordinaria\\n'\\n\\n----------------------------------------------------------------------\\nRan 2 tests in 0.006s\\n\\nFAILED (failures=1)\\n\\nGenerating XML reports...\\nAqui me pongo a cantar\\nAl compás de la vigüela\\nQue el hombre que lo desvela\\nUna pena extraordinaria\\n&lt;?xml version=\"1.0\" encoding=\"UTF-8\"?&gt;\\n&lt;testsuite errors=\"0\" failures=\"1\" file=\".py\" name=\"MumukiTest-20200527222555\" skipped=\"0\" tests=\"2\" time=\"0.005\" timestamp=\"2020-05-27T22:25:55\"&gt;\\n\\t&lt;testcase classname=\"MumukiTest\" file=\"tmp/mumuki.compile20200527-24-1ewcl6h.py\" line=\"36\" name=\"test_deberia_retornar_cero\" time=\"0.002\" timestamp=\"2020-05-27T22:25:55\"&gt;\\n\\t\\t&lt;system-out&gt;\\n&lt;![CDATA['Aqui me pongo a cantar\\nAl comp\\xc3\\xa1s de la vig\\xc3\\xbcela\\nQue el hombre que lo desvela\\nUna pena extraordinaria\\n']]&gt;\\t\\t&lt;/system-out&gt;\\n\\t\\t&lt;system-err&gt;\\n&lt;![CDATA[]]&gt;\\t\\t&lt;/system-err&gt;\\n\\t&lt;/testcase&gt;\\n\\t&lt;testcase classname=\"MumukiTest\" file=\"tmp/mumuki.compile20200527-24-1ewcl6h.py\" line=\"32\" name=\"test_deberia_imprimir_los_versos\" time=\"0.003\" timestamp=\"2020-05-27T22:25:55\"&gt;\\n\\t\\t&lt;failure message=\"'Aqui me pongo a cantar\\nAl comp\\xc3\\xa1s de la vig\\xc3\\xbcela\\nQue el hombre que lo desvela\\nUna pena extraordinaria\\n' != 'Aqu\\xc3\\xad me pongo a cantar\\nAl comp\\xc3\\xa1s de la vig\\xc3\\xbcela\\nQue el hombre que lo desvela\\nUna pena extraordinaria\\n'\" type=\"AssertionError\"&gt;\\n&lt;![CDATA['Traceback (most recent call last):\\n  File \"solucion.py\", line 34, in test_deberia_imprimir_los_versos\\n    self.assertEqual(out, \"Aqu\\xc3\\xad me pongo a cantar\\\\nAl comp\\xc3\\xa1s de la vig\\xc3\\xbcela\\\\nQue el hombre que lo desvela\\\\nUna pena extraordinaria\\\\n\")\\nAssertionError: \\'Aqui me pongo a cantar\\\\nAl comp\\\\xc3\\\\xa1s de la vig\\\\xc3\\\\xbcela\\\\nQue el hombre que lo desvela\\\\nUna pena extraordinaria\\\\n\\' != \\'Aqu\\\\xc3\\\\xad me pongo a cantar\\\\nAl comp\\\\xc3\\\\xa1s de la vig\\\\xc3\\\\xbcela\\\\nQue el hombre que lo desvela\\\\nUna pena extraordinaria\\\\n\\'\\n']]&gt;\\t\\t&lt;/failure&gt;\\n\\t\\t&lt;system-out&gt;\\n&lt;![CDATA[]]&gt;\\t\\t&lt;/system-out&gt;\\n\\t\\t&lt;system-err&gt;\\n&lt;![CDATA[]]&gt;\\t\\t&lt;/system-err&gt;\\n\\t&lt;/testcase&gt;\\n&lt;/testsuite&gt;\\n</td>\n",
              "      <td>38501</td>\n",
              "      <td>192</td>\n",
              "      <td>def versos_martin_fierro():\\r\\n  print(\"Aqui me pongo a cantar\")\\r\\n  print(\"Al compás de la vigüela\") \\r\\n  print(\"Que el hombre que lo desvela\")\\r\\n  print(\"Una pena extraordinaria\")\\r\\n  return 0</td>\n",
              "      <td>2020-05-27 22:25:54.834</td>\n",
              "      <td>errored</td>\n",
              "      <td>5</td>\n",
              "      <td>[]</td>\n",
              "      <td>no_paso</td>\n",
              "      <td>2020-05-27</td>\n",
              "      <td>2020-05</td>\n",
              "      <td>2020</td>\n",
              "      <td>5</td>\n",
              "      <td>22</td>\n",
              "      <td>2</td>\n",
              "      <td>Wednesday</td>\n",
              "      <td>22:25:54.834000</td>\n",
              "      <td>22</td>\n",
              "      <td>25</td>\n",
              "      <td>3</td>\n",
              "      <td>2</td>\n",
              "      <td>31</td>\n",
              "      <td>2020-05-27 22:25:54.834</td>\n",
              "      <td>None</td>\n",
              "    </tr>\n",
              "    <tr>\n",
              "      <th>39676</th>\n",
              "      <td>Martin Fierro</td>\n",
              "      <td>[]</td>\n",
              "      <td>mumukiproject/mumuki-guia-python-variables-y-procedimientos</td>\n",
              "      <td>\\nRunning tests...\\n----------------------------------------------------------------------\\nF.\\n======================================================================\\nFAIL [0.002s]: test_deberia_imprimir_los_versos (__main__.MumukiTest)\\n----------------------------------------------------------------------\\nTraceback (most recent call last):\\n  File \"solucion.py\", line 34, in test_deberia_imprimir_los_versos\\n    self.assertEqual(out, \"Aquí me pongo a cantar\\nAl compás de la vigüela\\nQue el hombre que lo desvela\\nUna pena extraordinaria\\n\")\\nAssertionError: 'aqui me pongo a cantar\\nal compas de la viguela\\nque el hombre que lo desvela\\nuna pena extraordinaria\\n' != 'Aqu\\xc3\\xad me pongo a cantar\\nAl comp\\xc3\\xa1s de la vig\\xc3\\xbcela\\nQue el hombre que lo desvela\\nUna pena extraordinaria\\n'\\n\\n----------------------------------------------------------------------\\nRan 2 tests in 0.009s\\n\\nFAILED (failures=1)\\n\\nGenerating XML reports...\\naqui me pongo a cantar\\nal compas de la viguela\\nque el hombre que lo desvela\\nuna pena extraordinaria\\n&lt;?xml version=\"1.0\" encoding=\"UTF-8\"?&gt;\\n&lt;testsuite errors=\"0\" failures=\"1\" file=\".py\" name=\"MumukiTest-20200608233558\" skipped=\"0\" tests=\"2\" time=\"0.002\" timestamp=\"2020-06-08T23:35:58\"&gt;\\n\\t&lt;testcase classname=\"MumukiTest\" file=\"tmp/mumuki.compile20200608-23-iejao.py\" line=\"36\" name=\"test_deberia_retornar_cero\" time=\"0.001\" timestamp=\"2020-06-08T23:35:58\"&gt;\\n\\t\\t&lt;system-out&gt;\\n&lt;![CDATA[aqui me pongo a cantar\\nal compas de la viguela\\nque el hombre que lo desvela\\nuna pena extraordinaria\\n]]&gt;\\t\\t&lt;/system-out&gt;\\n\\t\\t&lt;system-err&gt;\\n&lt;![CDATA[]]&gt;\\t\\t&lt;/system-err&gt;\\n\\t&lt;/testcase&gt;\\n\\t&lt;testcase classname=\"MumukiTest\" file=\"tmp/mumuki.compile20200608-23-iejao.py\" line=\"32\" name=\"test_deberia_imprimir_los_versos\" time=\"0.002\" timestamp=\"2020-06-08T23:35:58\"&gt;\\n\\t\\t&lt;failure message=\"'aqui me pongo a cantar\\nal compas de la viguela\\nque el hombre que lo desvela\\nuna pena extraordinaria\\n' != 'Aqu\\xc3\\xad me pongo a cantar\\nAl comp\\xc3\\xa1s de la vig\\xc3\\xbcela\\nQue el hombre que lo desvela\\nUna pena extraordinaria\\n'\" type=\"AssertionError\"&gt;\\n&lt;![CDATA['Traceback (most recent call last):\\n  File \"solucion.py\", line 34, in test_deberia_imprimir_los_versos\\n    self.assertEqual(out, \"Aqu\\xc3\\xad me pongo a cantar\\\\nAl comp\\xc3\\xa1s de la vig\\xc3\\xbcela\\\\nQue el hombre que lo desvela\\\\nUna pena extraordinaria\\\\n\")\\nAssertionError: \\'aqui me pongo a cantar\\\\nal compas de la viguela\\\\nque el hombre que lo desvela\\\\nuna pena extraordinaria\\\\n\\' != \\'Aqu\\\\xc3\\\\xad me pongo a cantar\\\\nAl comp\\\\xc3\\\\xa1s de la vig\\\\xc3\\\\xbcela\\\\nQue el hombre que lo desvela\\\\nUna pena extraordinaria\\\\n\\'\\n']]&gt;\\t\\t&lt;/failure&gt;\\n\\t\\t&lt;system-out&gt;\\n&lt;![CDATA[]]&gt;\\t\\t&lt;/system-out&gt;\\n\\t\\t&lt;system-err&gt;\\n&lt;![CDATA[]]&gt;\\t\\t&lt;/system-err&gt;\\n\\t&lt;/testcase&gt;\\n&lt;/testsuite&gt;\\n</td>\n",
              "      <td>38694</td>\n",
              "      <td>224</td>\n",
              "      <td>def versos_martin_fierro():\\r\\n  print(\"aqui me pongo a cantar\")\\r\\n  print(\"al compas de la viguela\")\\r\\n  print(\"que el hombre que lo desvela\")\\r\\n  print(\"una pena extraordinaria\")\\r\\n  return 0</td>\n",
              "      <td>2020-06-08 23:35:57.570</td>\n",
              "      <td>errored</td>\n",
              "      <td>2</td>\n",
              "      <td>[]</td>\n",
              "      <td>no_paso</td>\n",
              "      <td>2020-06-08</td>\n",
              "      <td>2020-06</td>\n",
              "      <td>2020</td>\n",
              "      <td>6</td>\n",
              "      <td>24</td>\n",
              "      <td>0</td>\n",
              "      <td>Monday</td>\n",
              "      <td>23:35:57.570000</td>\n",
              "      <td>23</td>\n",
              "      <td>35</td>\n",
              "      <td>3</td>\n",
              "      <td>2</td>\n",
              "      <td>31</td>\n",
              "      <td>2020-06-08 23:35:57.570</td>\n",
              "      <td>None</td>\n",
              "    </tr>\n",
              "    <tr>\n",
              "      <th>39720</th>\n",
              "      <td>Martin Fierro</td>\n",
              "      <td>[]</td>\n",
              "      <td>mumukiproject/mumuki-guia-python-variables-y-procedimientos</td>\n",
              "      <td>\\nRunning tests...\\n----------------------------------------------------------------------\\nF.\\n======================================================================\\nFAIL [0.001s]: test_deberia_imprimir_los_versos (__main__.MumukiTest)\\n----------------------------------------------------------------------\\nTraceback (most recent call last):\\n  File \"solucion.py\", line 31, in test_deberia_imprimir_los_versos\\n    self.assertEqual(out, \"Aquí me pongo a cantar\\nAl compás de la vigüela\\nQue el hombre que lo desvela\\nUna pena extraordinaria\\n\")\\nAssertionError: 'Aqu\\xc3\\xad me pongo a cantar Al comp\\xc3\\xa1s de la vig\\xc3\\xbcela Que el hombre que lo desvela Una pena extraordinaria\\n' != 'Aqu\\xc3\\xad me pongo a cantar\\nAl comp\\xc3\\xa1s de la vig\\xc3\\xbcela\\nQue el hombre que lo desvela\\nUna pena extraordinaria\\n'\\n\\n----------------------------------------------------------------------\\nRan 2 tests in 0.002s\\n\\nFAILED (failures=1)\\n\\nGenerating XML reports...\\nAquí me pongo a cantar Al compás de la vigüela Que el hombre que lo desvela Una pena extraordinaria\\n&lt;?xml version=\"1.0\" encoding=\"UTF-8\"?&gt;\\n&lt;testsuite errors=\"0\" failures=\"1\" file=\".py\" name=\"MumukiTest-20200617223337\" skipped=\"0\" tests=\"2\" time=\"0.002\" timestamp=\"2020-06-17T22:33:37\"&gt;\\n\\t&lt;testcase classname=\"MumukiTest\" file=\"tmp/mumuki.compile20200617-23-5il78r.py\" line=\"33\" name=\"test_deberia_retornar_cero\" time=\"0.001\" timestamp=\"2020-06-17T22:33:37\"&gt;\\n\\t\\t&lt;system-out&gt;\\n&lt;![CDATA['Aqu\\xc3\\xad me pongo a cantar Al comp\\xc3\\xa1s de la vig\\xc3\\xbcela Que el hombre que lo desvela Una pena extraordinaria\\n']]&gt;\\t\\t&lt;/system-out&gt;\\n\\t\\t&lt;system-err&gt;\\n&lt;![CDATA[]]&gt;\\t\\t&lt;/system-err&gt;\\n\\t&lt;/testcase&gt;\\n\\t&lt;testcase classname=\"MumukiTest\" file=\"tmp/mumuki.compile20200617-23-5il78r.py\" line=\"29\" name=\"test_deberia_imprimir_los_versos\" time=\"0.001\" timestamp=\"2020-06-17T22:33:37\"&gt;\\n\\t\\t&lt;failure message=\"'Aqu\\xc3\\xad me pongo a cantar Al comp\\xc3\\xa1s de la vig\\xc3\\xbcela Que el hombre que lo desvela Una pena extraordinaria\\n' != 'Aqu\\xc3\\xad me pongo a cantar\\nAl comp\\xc3\\xa1s de la vig\\xc3\\xbcela\\nQue el hombre que lo desvela\\nUna pena extraordinaria\\n'\" type=\"AssertionError\"&gt;\\n&lt;![CDATA['Traceback (most recent call last):\\n  File \"solucion.py\", line 31, in test_deberia_imprimir_los_versos\\n    self.assertEqual(out, \"Aqu\\xc3\\xad me pongo a cantar\\\\nAl comp\\xc3\\xa1s de la vig\\xc3\\xbcela\\\\nQue el hombre que lo desvela\\\\nUna pena extraordinaria\\\\n\")\\nAssertionError: \\'Aqu\\\\xc3\\\\xad me pongo a cantar Al comp\\\\xc3\\\\xa1s de la vig\\\\xc3\\\\xbcela Que el hombre que lo desvela Una pena extraordinaria\\\\n\\' != \\'Aqu\\\\xc3\\\\xad me pongo a cantar\\\\nAl comp\\\\xc3\\\\xa1s de la vig\\\\xc3\\\\xbcela\\\\nQue el hombre que lo desvela\\\\nUna pena extraordinaria\\\\n\\'\\n']]&gt;\\t\\t&lt;/failure&gt;\\n\\t\\t&lt;system-out&gt;\\n&lt;![CDATA[]]&gt;\\t\\t&lt;/system-out&gt;\\n\\t\\t&lt;system-err&gt;\\n&lt;![CDATA[]]&gt;\\t\\t&lt;/system-err&gt;\\n\\t&lt;/testcase&gt;\\n&lt;/testsuite&gt;\\n</td>\n",
              "      <td>38751</td>\n",
              "      <td>183</td>\n",
              "      <td>def versos_martin_fierro():\\r\\n  print(\"Aquí me pongo a cantar Al compás de la vigüela Que el hombre que lo desvela Una pena extraordinaria\")\\r\\n  return 0</td>\n",
              "      <td>2020-06-17 22:33:37.025</td>\n",
              "      <td>errored</td>\n",
              "      <td>3</td>\n",
              "      <td>[]</td>\n",
              "      <td>no_paso</td>\n",
              "      <td>2020-06-17</td>\n",
              "      <td>2020-06</td>\n",
              "      <td>2020</td>\n",
              "      <td>6</td>\n",
              "      <td>25</td>\n",
              "      <td>2</td>\n",
              "      <td>Wednesday</td>\n",
              "      <td>22:33:37.025000</td>\n",
              "      <td>22</td>\n",
              "      <td>33</td>\n",
              "      <td>3</td>\n",
              "      <td>2</td>\n",
              "      <td>31</td>\n",
              "      <td>2020-06-17 22:33:37.025</td>\n",
              "      <td>None</td>\n",
              "    </tr>\n",
              "    <tr>\n",
              "      <th>39989</th>\n",
              "      <td>Martin Fierro</td>\n",
              "      <td>[]</td>\n",
              "      <td>mumukiproject/mumuki-guia-python-variables-y-procedimientos</td>\n",
              "      <td>\\nRunning tests...\\n----------------------------------------------------------------------\\nF.\\n======================================================================\\nFAIL [0.002s]: test_deberia_imprimir_los_versos (__main__.MumukiTest)\\n----------------------------------------------------------------------\\nTraceback (most recent call last):\\n  File \"solucion.py\", line 32, in test_deberia_imprimir_los_versos\\n    self.assertEqual(out, \"Aquí me pongo a cantar\\nAl compás de la vigüela\\nQue el hombre que lo desvela\\nUna pena extraordinaria\\n\")\\nAssertionError: 'Aqu\\xc3\\xad me pongo a cantar\\nAl comp\\xc3\\xa1s de la viguela\\n' != 'Aqu\\xc3\\xad me pongo a cantar\\nAl comp\\xc3\\xa1s de la vig\\xc3\\xbcela\\nQue el hombre que lo desvela\\nUna pena extraordinaria\\n'\\n\\n----------------------------------------------------------------------\\nRan 2 tests in 0.003s\\n\\nFAILED (failures=1)\\n\\nGenerating XML reports...\\nAquí me pongo a cantar\\nAl compás de la viguela\\n&lt;?xml version=\"1.0\" encoding=\"UTF-8\"?&gt;\\n&lt;testsuite errors=\"0\" failures=\"1\" file=\".py\" name=\"MumukiTest-20200917232811\" skipped=\"0\" tests=\"2\" time=\"0.002\" timestamp=\"2020-09-17T23:28:11\"&gt;\\n\\t&lt;testcase classname=\"MumukiTest\" file=\"tmp/mumuki.compile20200917-23-b655sw.py\" line=\"34\" name=\"test_deberia_retornar_cero\" time=\"0.000\" timestamp=\"2020-09-17T23:28:11\"&gt;\\n\\t\\t&lt;system-out&gt;\\n&lt;![CDATA['Aqu\\xc3\\xad me pongo a cantar\\nAl comp\\xc3\\xa1s de la viguela\\n']]&gt;\\t\\t&lt;/system-out&gt;\\n\\t\\t&lt;system-err&gt;\\n&lt;![CDATA[]]&gt;\\t\\t&lt;/system-err&gt;\\n\\t&lt;/testcase&gt;\\n\\t&lt;testcase classname=\"MumukiTest\" file=\"tmp/mumuki.compile20200917-23-b655sw.py\" line=\"30\" name=\"test_deberia_imprimir_los_versos\" time=\"0.002\" timestamp=\"2020-09-17T23:28:11\"&gt;\\n\\t\\t&lt;failure message=\"'Aqu\\xc3\\xad me pongo a cantar\\nAl comp\\xc3\\xa1s de la viguela\\n' != 'Aqu\\xc3\\xad me pongo a cantar\\nAl comp\\xc3\\xa1s de la vig\\xc3\\xbcela\\nQue el hombre que lo desvela\\nUna pena extraordinaria\\n'\" type=\"AssertionError\"&gt;\\n&lt;![CDATA['Traceback (most recent call last):\\n  File \"solucion.py\", line 32, in test_deberia_imprimir_los_versos\\n    self.assertEqual(out, \"Aqu\\xc3\\xad me pongo a cantar\\\\nAl comp\\xc3\\xa1s de la vig\\xc3\\xbcela\\\\nQue el hombre que lo desvela\\\\nUna pena extraordinaria\\\\n\")\\nAssertionError: \\'Aqu\\\\xc3\\\\xad me pongo a cantar\\\\nAl comp\\\\xc3\\\\xa1s de la viguela\\\\n\\' != \\'Aqu\\\\xc3\\\\xad me pongo a cantar\\\\nAl comp\\\\xc3\\\\xa1s de la vig\\\\xc3\\\\xbcela\\\\nQue el hombre que lo desvela\\\\nUna pena extraordinaria\\\\n\\'\\n']]&gt;\\t\\t&lt;/failure&gt;\\n\\t\\t&lt;system-out&gt;\\n&lt;![CDATA[]]&gt;\\t\\t&lt;/system-out&gt;\\n\\t\\t&lt;system-err&gt;\\n&lt;![CDATA[]]&gt;\\t\\t&lt;/system-err&gt;\\n\\t&lt;/testcase&gt;\\n&lt;/testsuite&gt;\\n</td>\n",
              "      <td>39037</td>\n",
              "      <td>276</td>\n",
              "      <td>def versos_martin_fierro():\\r\\n  print(\"Aquí me pongo a cantar\")\\r\\n  print(\"Al compás de la viguela\")\\r\\n  return 0</td>\n",
              "      <td>2020-09-17 23:28:10.446</td>\n",
              "      <td>errored</td>\n",
              "      <td>0</td>\n",
              "      <td>[]</td>\n",
              "      <td>no_paso</td>\n",
              "      <td>2020-09-17</td>\n",
              "      <td>2020-09</td>\n",
              "      <td>2020</td>\n",
              "      <td>9</td>\n",
              "      <td>38</td>\n",
              "      <td>3</td>\n",
              "      <td>Thursday</td>\n",
              "      <td>23:28:10.446000</td>\n",
              "      <td>23</td>\n",
              "      <td>28</td>\n",
              "      <td>3</td>\n",
              "      <td>2</td>\n",
              "      <td>31</td>\n",
              "      <td>2020-09-17 23:28:10.446</td>\n",
              "      <td>None</td>\n",
              "    </tr>\n",
              "    <tr>\n",
              "      <th>40003</th>\n",
              "      <td>Martin Fierro</td>\n",
              "      <td>[]</td>\n",
              "      <td>mumukiproject/mumuki-guia-python-variables-y-procedimientos</td>\n",
              "      <td>\\nRunning tests...\\n----------------------------------------------------------------------\\nAquí me pongo a cantar\\nF.\\n======================================================================\\nFAIL [0.004s]: test_deberia_imprimir_los_versos (__main__.MumukiTest)\\n----------------------------------------------------------------------\\nTraceback (most recent call last):\\n  File \"solucion.py\", line 33, in test_deberia_imprimir_los_versos\\n    self.assertEqual(out, \"Aquí me pongo a cantar\\nAl compás de la vigüela\\nQue el hombre que lo desvela\\nUna pena extraordinaria\\n\")\\nAssertionError: 'Aqu\\xc3\\xad me pongo a cantar\\nAl comp\\xc3\\xa1s de la vig\\xc3\\xbcela\\nQue el hombre que lo desvela Una pena extraordinaria\\n' != 'Aqu\\xc3\\xad me pongo a cantar\\nAl comp\\xc3\\xa1s de la vig\\xc3\\xbcela\\nQue el hombre que lo desvela\\nUna pena extraordinaria\\n'\\n\\n----------------------------------------------------------------------\\nRan 2 tests in 0.006s\\n\\nFAILED (failures=1)\\n\\nGenerating XML reports...\\nAl compás de la vigüela\\nQue el hombre que lo desvela Una pena extraordinaria\\n&lt;?xml version=\"1.0\" encoding=\"UTF-8\"?&gt;\\n&lt;testsuite errors=\"0\" failures=\"1\" file=\".py\" name=\"MumukiTest-20200918030217\" skipped=\"0\" tests=\"2\" time=\"0.005\" timestamp=\"2020-09-18T03:02:17\"&gt;\\n\\t&lt;testcase classname=\"MumukiTest\" file=\"tmp/mumuki.compile20200918-25-mvwtdp.py\" line=\"35\" name=\"test_deberia_retornar_cero\" time=\"0.001\" timestamp=\"2020-09-18T03:02:17\"&gt;\\n\\t\\t&lt;system-out&gt;\\n&lt;![CDATA['Aqu\\xc3\\xad me pongo a cantar\\nAl comp\\xc3\\xa1s de la vig\\xc3\\xbcela\\nQue el hombre que lo desvela Una pena extraordinaria\\n']]&gt;\\t\\t&lt;/system-out&gt;\\n\\t\\t&lt;system-err&gt;\\n&lt;![CDATA[]]&gt;\\t\\t&lt;/system-err&gt;\\n\\t&lt;/testcase&gt;\\n\\t&lt;testcase classname=\"MumukiTest\" file=\"tmp/mumuki.compile20200918-25-mvwtdp.py\" line=\"31\" name=\"test_deberia_imprimir_los_versos\" time=\"0.004\" timestamp=\"2020-09-18T03:02:17\"&gt;\\n\\t\\t&lt;failure message=\"'Aqu\\xc3\\xad me pongo a cantar\\nAl comp\\xc3\\xa1s de la vig\\xc3\\xbcela\\nQue el hombre que lo desvela Una pena extraordinaria\\n' != 'Aqu\\xc3\\xad me pongo a cantar\\nAl comp\\xc3\\xa1s de la vig\\xc3\\xbcela\\nQue el hombre que lo desvela\\nUna pena extraordinaria\\n'\" type=\"AssertionError\"&gt;\\n&lt;![CDATA['Traceback (most recent call last):\\n  File \"solucion.py\", line 33, in test_deberia_imprimir_los_versos\\n    self.assertEqual(out, \"Aqu\\xc3\\xad me pongo a cantar\\\\nAl comp\\xc3\\xa1s de la vig\\xc3\\xbcela\\\\nQue el hombre que lo desvela\\\\nUna pena extraordinaria\\\\n\")\\nAssertionError: \\'Aqu\\\\xc3\\\\xad me pongo a cantar\\\\nAl comp\\\\xc3\\\\xa1s de la vig\\\\xc3\\\\xbcela\\\\nQue el hombre que lo desvela Una pena extraordinaria\\\\n\\' != \\'Aqu\\\\xc3\\\\xad me pongo a cantar\\\\nAl comp\\\\xc3\\\\xa1s de la vig\\\\xc3\\\\xbcela\\\\nQue el hombre que lo desvela\\\\nUna pena extraordinaria\\\\n\\'\\n']]&gt;\\t\\t&lt;/failure&gt;\\n\\t\\t&lt;system-out&gt;\\n&lt;![CDATA[]]&gt;\\t\\t&lt;/system-out&gt;\\n\\t\\t&lt;system-err&gt;\\n&lt;![CDATA[]]&gt;\\t\\t&lt;/system-err&gt;\\n\\t&lt;/testcase&gt;\\n&lt;/testsuite&gt;\\n</td>\n",
              "      <td>39051</td>\n",
              "      <td>264</td>\n",
              "      <td>def versos_martin_fierro ():\\r\\n   print(\"Aquí me pongo a cantar\")\\r\\n   print(\"Al compás de la vigüela\")\\r\\n   print(\"Que el hombre que lo desvela Una pena extraordinaria\")\\r\\n   return 0</td>\n",
              "      <td>2020-09-18 03:02:16.867</td>\n",
              "      <td>errored</td>\n",
              "      <td>5</td>\n",
              "      <td>[]</td>\n",
              "      <td>no_paso</td>\n",
              "      <td>2020-09-18</td>\n",
              "      <td>2020-09</td>\n",
              "      <td>2020</td>\n",
              "      <td>9</td>\n",
              "      <td>38</td>\n",
              "      <td>4</td>\n",
              "      <td>Friday</td>\n",
              "      <td>03:02:16.867000</td>\n",
              "      <td>3</td>\n",
              "      <td>2</td>\n",
              "      <td>3</td>\n",
              "      <td>2</td>\n",
              "      <td>31</td>\n",
              "      <td>2020-09-18 03:02:16.867</td>\n",
              "      <td>None</td>\n",
              "    </tr>\n",
              "    <tr>\n",
              "      <th>40045</th>\n",
              "      <td>Martin Fierro</td>\n",
              "      <td>[]</td>\n",
              "      <td>mumukiproject/mumuki-guia-python-variables-y-procedimientos</td>\n",
              "      <td>\\nRunning tests...\\n----------------------------------------------------------------------\\n..\\n----------------------------------------------------------------------\\nRan 2 tests in 0.002s\\n\\nOK\\n\\nGenerating XML reports...\\nAquí me pongo a cantar\\nAl compás de la vigüela\\nQue el hombre que lo desvela\\nUna pena extraordinaria\\n&lt;?xml version=\"1.0\" encoding=\"UTF-8\"?&gt;\\n&lt;testsuite errors=\"0\" failures=\"0\" file=\".py\" name=\"MumukiTest-20200919042804\" skipped=\"0\" tests=\"2\" time=\"0.002\" timestamp=\"2020-09-19T04:28:04\"&gt;\\n\\t&lt;testcase classname=\"MumukiTest\" file=\"tmp/mumuki.compile20200919-23-127v9hs.py\" line=\"33\" name=\"test_deberia_imprimir_los_versos\" time=\"0.001\" timestamp=\"2020-09-19T04:28:04\"&gt;\\n\\t\\t&lt;system-out&gt;\\n&lt;![CDATA[]]&gt;\\t\\t&lt;/system-out&gt;\\n\\t\\t&lt;system-err&gt;\\n&lt;![CDATA[]]&gt;\\t\\t&lt;/system-err&gt;\\n\\t&lt;/testcase&gt;\\n\\t&lt;testcase classname=\"MumukiTest\" file=\"tmp/mumuki.compile20200919-23-127v9hs.py\" line=\"37\" name=\"test_deberia_retornar_cero\" time=\"0.001\" timestamp=\"2020-09-19T04:28:04\"&gt;\\n\\t\\t&lt;system-out&gt;\\n&lt;![CDATA['Aqu\\xc3\\xad me pongo a cantar\\nAl comp\\xc3\\xa1s de la vig\\xc3\\xbcela\\nQue el hombre que lo desvela\\nUna pena extraordinaria\\n']]&gt;\\t\\t&lt;/system-out&gt;\\n\\t\\t&lt;system-err&gt;\\n&lt;![CDATA[]]&gt;\\t\\t&lt;/system-err&gt;\\n\\t&lt;/testcase&gt;\\n&lt;/testsuite&gt;\\n</td>\n",
              "      <td>39093</td>\n",
              "      <td>328</td>\n",
              "      <td>def versos_martin_fierro():\\r\\n  print(\"Aquí me pongo a cantar\") \\r\\n  print(\"Al compás de la vigüela\")\\r\\n  print(\"Que el hombre que lo desvela\")\\r\\n  print(\"Una pena extraordinaria\")\\r\\n  return 0\\r\\n</td>\n",
              "      <td>2020-09-19 04:28:03.971</td>\n",
              "      <td>errored</td>\n",
              "      <td>1</td>\n",
              "      <td>[]</td>\n",
              "      <td>no_paso</td>\n",
              "      <td>2020-09-19</td>\n",
              "      <td>2020-09</td>\n",
              "      <td>2020</td>\n",
              "      <td>9</td>\n",
              "      <td>38</td>\n",
              "      <td>5</td>\n",
              "      <td>Saturday</td>\n",
              "      <td>04:28:03.971000</td>\n",
              "      <td>4</td>\n",
              "      <td>28</td>\n",
              "      <td>3</td>\n",
              "      <td>2</td>\n",
              "      <td>31</td>\n",
              "      <td>2020-09-19 04:28:03.971</td>\n",
              "      <td>None</td>\n",
              "    </tr>\n",
              "    <tr>\n",
              "      <th>40251</th>\n",
              "      <td>Conversiones</td>\n",
              "      <td>[]</td>\n",
              "      <td>mumukiproject/mumuki-guia-python-variables-y-procedimientos</td>\n",
              "      <td>\\n</td>\n",
              "      <td>39312</td>\n",
              "      <td>80</td>\n",
              "      <td>def elefantes_equilibristas(numero):\\r\\n  return numero + \"se balanceaban\"\\r\\n  \\r\\n</td>\n",
              "      <td>2019-09-23 14:40:53.570</td>\n",
              "      <td>errored</td>\n",
              "      <td>1</td>\n",
              "      <td>[]</td>\n",
              "      <td>no_paso</td>\n",
              "      <td>2019-09-23</td>\n",
              "      <td>2019-09</td>\n",
              "      <td>2019</td>\n",
              "      <td>9</td>\n",
              "      <td>39</td>\n",
              "      <td>0</td>\n",
              "      <td>Monday</td>\n",
              "      <td>14:40:53.570000</td>\n",
              "      <td>14</td>\n",
              "      <td>40</td>\n",
              "      <td>3</td>\n",
              "      <td>5</td>\n",
              "      <td>34</td>\n",
              "      <td>2019-09-23 14:40:53.570</td>\n",
              "      <td>None</td>\n",
              "    </tr>\n",
              "    <tr>\n",
              "      <th>40893</th>\n",
              "      <td>Conversiones</td>\n",
              "      <td>[{'binding': 'elefantes_equilibristas', 'inspection': 'Uses:str', 'result': 'failed'}, {'binding': '*', 'inspection': 'DoesConsolePrint', 'result': 'failed'}]</td>\n",
              "      <td>mumukiproject/mumuki-guia-python-variables-y-procedimientos</td>\n",
              "      <td>Traceback (most recent call last):\\n  File \"solucion.py\", line 26, in &lt;module&gt;\\n    print(str(elefantes_equilibristas) + \"elefantes se balanceaban\")\\nNameError: name 'elefantes_equilibristas' is not defined\\nelefantes_equilibristas\\n</td>\n",
              "      <td>40014</td>\n",
              "      <td>227</td>\n",
              "      <td>print(\"elefantes_equilibristas\")\\r\\n\\r\\nprint(str(elefantes_equilibristas) + \"elefantes se balanceaban\")\\r\\n\\r\\n      \\r\\n\\r\\n</td>\n",
              "      <td>2020-06-08 20:48:26.511</td>\n",
              "      <td>errored</td>\n",
              "      <td>5</td>\n",
              "      <td>[]</td>\n",
              "      <td>no_paso</td>\n",
              "      <td>2020-06-08</td>\n",
              "      <td>2020-06</td>\n",
              "      <td>2020</td>\n",
              "      <td>6</td>\n",
              "      <td>24</td>\n",
              "      <td>0</td>\n",
              "      <td>Monday</td>\n",
              "      <td>20:48:26.511000</td>\n",
              "      <td>20</td>\n",
              "      <td>48</td>\n",
              "      <td>3</td>\n",
              "      <td>5</td>\n",
              "      <td>34</td>\n",
              "      <td>2020-06-08 20:48:26.511</td>\n",
              "      <td>None</td>\n",
              "    </tr>\n",
              "    <tr>\n",
              "      <th>41211</th>\n",
              "      <td>Conversiones</td>\n",
              "      <td>[{'binding': 'elefantes_equilibristas', 'inspection': 'Uses:str', 'result': 'failed'}, {'binding': '*', 'inspection': 'DoesConsolePrint', 'result': 'failed'}]</td>\n",
              "      <td>mumukiproject/mumuki-guia-python-variables-y-procedimientos</td>\n",
              "      <td>Traceback (most recent call last):\\n  File \"solucion.py\", line 26, in &lt;module&gt;\\n    print (str(elefantes_equilibristas()) + \"elefantes se balanceaban\")\\nNameError: name 'elefantes_equilibristas' is not defined\\nelefantes_equilibristas\\n</td>\n",
              "      <td>40378</td>\n",
              "      <td>258</td>\n",
              "      <td>print (\"elefantes_equilibristas\") \\r\\n\\r\\nprint (str(elefantes_equilibristas()) + \"elefantes se balanceaban\")</td>\n",
              "      <td>2020-09-16 13:29:43.388</td>\n",
              "      <td>errored</td>\n",
              "      <td>8</td>\n",
              "      <td>[]</td>\n",
              "      <td>no_paso</td>\n",
              "      <td>2020-09-16</td>\n",
              "      <td>2020-09</td>\n",
              "      <td>2020</td>\n",
              "      <td>9</td>\n",
              "      <td>38</td>\n",
              "      <td>2</td>\n",
              "      <td>Wednesday</td>\n",
              "      <td>13:29:43.388000</td>\n",
              "      <td>13</td>\n",
              "      <td>29</td>\n",
              "      <td>3</td>\n",
              "      <td>5</td>\n",
              "      <td>34</td>\n",
              "      <td>2020-09-16 13:29:43.388</td>\n",
              "      <td>None</td>\n",
              "    </tr>\n",
              "  </tbody>\n",
              "</table>\n",
              "</div>"
            ],
            "text/plain": [
              "                    exercise_name  ... ErrorType\n",
              "2692                  Los premios  ...      None\n",
              "3391   Libros de la buena memoria  ...      None\n",
              "6833                    Booleanos  ...      None\n",
              "12708     Palabras, sólo palabras  ...      None\n",
              "15119            Operando strings  ...      None\n",
              "15596            Operando strings  ...      None\n",
              "19555  Calefones / Poniendo topes  ...      None\n",
              "26659                  Cartelitos  ...      None\n",
              "28412              Más Cartelitos  ...      None\n",
              "31433                 Cara o ceca  ...      None\n",
              "31650                    ¡Envido!  ...      None\n",
              "32426            ¡Quiero retruco!  ...      None\n",
              "36850          Variables globales  ...      None\n",
              "37825          Variables globales  ...      None\n",
              "38019      ¿Y los procedimientos?  ...      None\n",
              "39206               Martin Fierro  ...      None\n",
              "39347               Martin Fierro  ...      None\n",
              "39456               Martin Fierro  ...      None\n",
              "39492               Martin Fierro  ...      None\n",
              "39510               Martin Fierro  ...      None\n",
              "39676               Martin Fierro  ...      None\n",
              "39720               Martin Fierro  ...      None\n",
              "39989               Martin Fierro  ...      None\n",
              "40003               Martin Fierro  ...      None\n",
              "40045               Martin Fierro  ...      None\n",
              "40251                Conversiones  ...      None\n",
              "40893                Conversiones  ...      None\n",
              "41211                Conversiones  ...      None\n",
              "\n",
              "[28 rows x 27 columns]"
            ]
          },
          "metadata": {
            "tags": []
          },
          "execution_count": 97
        }
      ]
    },
    {
      "cell_type": "markdown",
      "metadata": {
        "id": "vmlOEbro9RHe"
      },
      "source": [
        "Analizando los casos outliers"
      ]
    },
    {
      "cell_type": "markdown",
      "metadata": {
        "id": "notYMNfJ945P"
      },
      "source": [
        "Casos en donde se equivocaron asignar una varible con comparar dos valores"
      ]
    },
    {
      "cell_type": "code",
      "metadata": {
        "id": "Dwr47waq-Z0Z",
        "colab": {
          "base_uri": "https://localhost:8080/"
        },
        "outputId": "0efe5058-4a76-4d81-be31-0c901ee40be6"
      },
      "source": [
        "df_no_paso.loc[ df_no_paso['sid']==2881, 'ErrorType' ]='SyntaxError'"
      ],
      "execution_count": 98,
      "outputs": [
        {
          "output_type": "stream",
          "text": [
            "/usr/local/lib/python3.7/dist-packages/pandas/core/indexing.py:1763: SettingWithCopyWarning: \n",
            "A value is trying to be set on a copy of a slice from a DataFrame.\n",
            "Try using .loc[row_indexer,col_indexer] = value instead\n",
            "\n",
            "See the caveats in the documentation: https://pandas.pydata.org/pandas-docs/stable/user_guide/indexing.html#returning-a-view-versus-a-copy\n",
            "  isetter(loc, value)\n"
          ],
          "name": "stderr"
        }
      ]
    },
    {
      "cell_type": "code",
      "metadata": {
        "id": "7RdC1ZZTCa5k",
        "colab": {
          "base_uri": "https://localhost:8080/"
        },
        "outputId": "5c5cd62a-3393-47fc-f8b5-cf240fd7f79f"
      },
      "source": [
        "df_no_paso.loc[ df_no_paso['sid']==3751, 'ErrorType' ]='SyntaxError'"
      ],
      "execution_count": 99,
      "outputs": [
        {
          "output_type": "stream",
          "text": [
            "/usr/local/lib/python3.7/dist-packages/pandas/core/indexing.py:1763: SettingWithCopyWarning: \n",
            "A value is trying to be set on a copy of a slice from a DataFrame.\n",
            "Try using .loc[row_indexer,col_indexer] = value instead\n",
            "\n",
            "See the caveats in the documentation: https://pandas.pydata.org/pandas-docs/stable/user_guide/indexing.html#returning-a-view-versus-a-copy\n",
            "  isetter(loc, value)\n"
          ],
          "name": "stderr"
        }
      ]
    },
    {
      "cell_type": "markdown",
      "metadata": {
        "id": "fjA0kPdvDn4I"
      },
      "source": [
        "Esperaba el nombre d ela funcion como esta_entre y encontro este_entre, NameError"
      ]
    },
    {
      "cell_type": "code",
      "metadata": {
        "id": "2WsWN7ZMDs6N",
        "colab": {
          "base_uri": "https://localhost:8080/"
        },
        "outputId": "9751429a-2689-4a99-ec43-acd754bf38c9"
      },
      "source": [
        "df_no_paso.loc[ df_no_paso['sid']==6134, 'ErrorType' ]='NameError'"
      ],
      "execution_count": 100,
      "outputs": [
        {
          "output_type": "stream",
          "text": [
            "/usr/local/lib/python3.7/dist-packages/pandas/core/indexing.py:1763: SettingWithCopyWarning: \n",
            "A value is trying to be set on a copy of a slice from a DataFrame.\n",
            "Try using .loc[row_indexer,col_indexer] = value instead\n",
            "\n",
            "See the caveats in the documentation: https://pandas.pydata.org/pandas-docs/stable/user_guide/indexing.html#returning-a-view-versus-a-copy\n",
            "  isetter(loc, value)\n"
          ],
          "name": "stderr"
        }
      ]
    },
    {
      "cell_type": "markdown",
      "metadata": {
        "id": "xVD4MqDNEFZI"
      },
      "source": [
        "10631: recursion sin breacks, comparacion de argumentos donde no se debia. SyntaxError"
      ]
    },
    {
      "cell_type": "code",
      "metadata": {
        "id": "qBBw0KdnEM_N",
        "colab": {
          "base_uri": "https://localhost:8080/"
        },
        "outputId": "bf3f93d4-8cdd-4abe-8ceb-96b842813fd4"
      },
      "source": [
        "df_no_paso.loc[ df_no_paso['sid']==10631, 'ErrorType' ]='SyntaxError'"
      ],
      "execution_count": 101,
      "outputs": [
        {
          "output_type": "stream",
          "text": [
            "/usr/local/lib/python3.7/dist-packages/pandas/core/indexing.py:1763: SettingWithCopyWarning: \n",
            "A value is trying to be set on a copy of a slice from a DataFrame.\n",
            "Try using .loc[row_indexer,col_indexer] = value instead\n",
            "\n",
            "See the caveats in the documentation: https://pandas.pydata.org/pandas-docs/stable/user_guide/indexing.html#returning-a-view-versus-a-copy\n",
            "  isetter(loc, value)\n"
          ],
          "name": "stderr"
        }
      ]
    },
    {
      "cell_type": "markdown",
      "metadata": {
        "id": "t0lbQl9hJgLd"
      },
      "source": [
        "13259 usa un argumento tipo string como si fuera una funcion. AttributeError, ya que str no tendria ese método."
      ]
    },
    {
      "cell_type": "code",
      "metadata": {
        "id": "zPuRTHngJlmr",
        "colab": {
          "base_uri": "https://localhost:8080/"
        },
        "outputId": "916f73cc-0a9a-4c81-a29f-bb73b05940df"
      },
      "source": [
        "df_no_paso.loc[ df_no_paso['sid']==13259, 'ErrorType' ]='AttributeError'"
      ],
      "execution_count": 102,
      "outputs": [
        {
          "output_type": "stream",
          "text": [
            "/usr/local/lib/python3.7/dist-packages/pandas/core/indexing.py:1763: SettingWithCopyWarning: \n",
            "A value is trying to be set on a copy of a slice from a DataFrame.\n",
            "Try using .loc[row_indexer,col_indexer] = value instead\n",
            "\n",
            "See the caveats in the documentation: https://pandas.pydata.org/pandas-docs/stable/user_guide/indexing.html#returning-a-view-versus-a-copy\n",
            "  isetter(loc, value)\n"
          ],
          "name": "stderr"
        }
      ]
    },
    {
      "cell_type": "markdown",
      "metadata": {
        "id": "v4Ty1LgFJuss"
      },
      "source": [
        "13813 No define bien los argumentos de la funcion. SyntaxError"
      ]
    },
    {
      "cell_type": "code",
      "metadata": {
        "id": "9GQbUxhyAah_",
        "colab": {
          "base_uri": "https://localhost:8080/"
        },
        "outputId": "bf887581-cf48-40d9-ed97-fd7bad93991a"
      },
      "source": [
        "df_no_paso.loc[df_no_paso['sid']==13813, 'ErrorType' ]='SyntaxError'"
      ],
      "execution_count": 103,
      "outputs": [
        {
          "output_type": "stream",
          "text": [
            "/usr/local/lib/python3.7/dist-packages/pandas/core/indexing.py:1763: SettingWithCopyWarning: \n",
            "A value is trying to be set on a copy of a slice from a DataFrame.\n",
            "Try using .loc[row_indexer,col_indexer] = value instead\n",
            "\n",
            "See the caveats in the documentation: https://pandas.pydata.org/pandas-docs/stable/user_guide/indexing.html#returning-a-view-versus-a-copy\n",
            "  isetter(loc, value)\n"
          ],
          "name": "stderr"
        }
      ]
    },
    {
      "cell_type": "markdown",
      "metadata": {
        "id": "yJhjIlwNK5vy"
      },
      "source": [
        "17356 : AssertionError"
      ]
    },
    {
      "cell_type": "code",
      "metadata": {
        "id": "9i9qNQpMK-VI",
        "colab": {
          "base_uri": "https://localhost:8080/"
        },
        "outputId": "d785e4a1-d5bd-4411-ab7d-ac556063e784"
      },
      "source": [
        "df_no_paso.loc[df_no_paso['sid']==17356, 'ErrorType' ]='AssertionError'"
      ],
      "execution_count": 104,
      "outputs": [
        {
          "output_type": "stream",
          "text": [
            "/usr/local/lib/python3.7/dist-packages/pandas/core/indexing.py:1763: SettingWithCopyWarning: \n",
            "A value is trying to be set on a copy of a slice from a DataFrame.\n",
            "Try using .loc[row_indexer,col_indexer] = value instead\n",
            "\n",
            "See the caveats in the documentation: https://pandas.pydata.org/pandas-docs/stable/user_guide/indexing.html#returning-a-view-versus-a-copy\n",
            "  isetter(loc, value)\n"
          ],
          "name": "stderr"
        }
      ]
    },
    {
      "cell_type": "markdown",
      "metadata": {
        "id": "PazK388IL_94"
      },
      "source": [
        "25327 En este ejercicio se debai devolver un string con espacios entre strings y fallo en su consigna, aunque el codigo en si estaba bien. AssertionError ya que no es el valor esperado"
      ]
    },
    {
      "cell_type": "code",
      "metadata": {
        "id": "gkaJ6T-XLFGo",
        "colab": {
          "base_uri": "https://localhost:8080/"
        },
        "outputId": "de8009d1-c87c-4536-bc95-4ced252bd49e"
      },
      "source": [
        " df_no_paso.loc[df_no_paso['sid']==25327, 'ErrorType' ]='AssertionError'"
      ],
      "execution_count": 105,
      "outputs": [
        {
          "output_type": "stream",
          "text": [
            "/usr/local/lib/python3.7/dist-packages/pandas/core/indexing.py:1763: SettingWithCopyWarning: \n",
            "A value is trying to be set on a copy of a slice from a DataFrame.\n",
            "Try using .loc[row_indexer,col_indexer] = value instead\n",
            "\n",
            "See the caveats in the documentation: https://pandas.pydata.org/pandas-docs/stable/user_guide/indexing.html#returning-a-view-versus-a-copy\n",
            "  isetter(loc, value)\n"
          ],
          "name": "stderr"
        }
      ]
    },
    {
      "cell_type": "markdown",
      "metadata": {
        "id": "djxhlvRnjinu"
      },
      "source": [
        "27386 Al definir la funcion, el argumento booleano pedido fue mal definido y detecta un error de syntaxis"
      ]
    },
    {
      "cell_type": "code",
      "metadata": {
        "id": "l-CNUlw3jrsw",
        "colab": {
          "base_uri": "https://localhost:8080/"
        },
        "outputId": "282ae889-8cf8-4dc0-ce66-520e7e2de87f"
      },
      "source": [
        "df_no_paso.loc[df_no_paso['sid']==27386, 'ErrorType' ]='SyntaxError'"
      ],
      "execution_count": 106,
      "outputs": [
        {
          "output_type": "stream",
          "text": [
            "/usr/local/lib/python3.7/dist-packages/pandas/core/indexing.py:1763: SettingWithCopyWarning: \n",
            "A value is trying to be set on a copy of a slice from a DataFrame.\n",
            "Try using .loc[row_indexer,col_indexer] = value instead\n",
            "\n",
            "See the caveats in the documentation: https://pandas.pydata.org/pandas-docs/stable/user_guide/indexing.html#returning-a-view-versus-a-copy\n",
            "  isetter(loc, value)\n"
          ],
          "name": "stderr"
        }
      ]
    },
    {
      "cell_type": "markdown",
      "metadata": {
        "id": "yXCEUmYRkHWb"
      },
      "source": [
        "30712 Se usa una variable que no esta definida en el scope - NameError"
      ]
    },
    {
      "cell_type": "code",
      "metadata": {
        "id": "93F7Z2EYkM8o",
        "colab": {
          "base_uri": "https://localhost:8080/"
        },
        "outputId": "1ec7bfa6-82b9-483a-f6ab-cc415f9b1f99"
      },
      "source": [
        "df_no_paso.loc[df_no_paso['sid']==30712, 'ErrorType' ]='NameError'"
      ],
      "execution_count": 107,
      "outputs": [
        {
          "output_type": "stream",
          "text": [
            "/usr/local/lib/python3.7/dist-packages/pandas/core/indexing.py:1763: SettingWithCopyWarning: \n",
            "A value is trying to be set on a copy of a slice from a DataFrame.\n",
            "Try using .loc[row_indexer,col_indexer] = value instead\n",
            "\n",
            "See the caveats in the documentation: https://pandas.pydata.org/pandas-docs/stable/user_guide/indexing.html#returning-a-view-versus-a-copy\n",
            "  isetter(loc, value)\n"
          ],
          "name": "stderr"
        }
      ]
    },
    {
      "cell_type": "markdown",
      "metadata": {
        "id": "IqQ4gYYuqJgS"
      },
      "source": [
        "30931 No parece que este mal el envio, asique no entiendo porque estaria con estatus errored"
      ]
    },
    {
      "cell_type": "markdown",
      "metadata": {
        "id": "B4xXY1Z2qj4P"
      },
      "source": [
        "31829 No cumple con la consigna de usar una funcion dentro de una funcion\n"
      ]
    },
    {
      "cell_type": "code",
      "metadata": {
        "id": "JPQHHU0ZrK9H",
        "colab": {
          "base_uri": "https://localhost:8080/"
        },
        "outputId": "fff05c62-64cf-4ff0-ea15-f2456ebffd1e"
      },
      "source": [
        " df_no_paso.loc[df_no_paso['sid']==31829, 'ErrorType' ]='AssertionError'"
      ],
      "execution_count": 108,
      "outputs": [
        {
          "output_type": "stream",
          "text": [
            "/usr/local/lib/python3.7/dist-packages/pandas/core/indexing.py:1763: SettingWithCopyWarning: \n",
            "A value is trying to be set on a copy of a slice from a DataFrame.\n",
            "Try using .loc[row_indexer,col_indexer] = value instead\n",
            "\n",
            "See the caveats in the documentation: https://pandas.pydata.org/pandas-docs/stable/user_guide/indexing.html#returning-a-view-versus-a-copy\n",
            "  isetter(loc, value)\n"
          ],
          "name": "stderr"
        }
      ]
    },
    {
      "cell_type": "markdown",
      "metadata": {
        "id": "DLwqEFUrrZre"
      },
      "source": [
        "40378 y 40014 Se usa una variable no declarada, ni se define bien el nombre d ela funcion como se pide en la consigna"
      ]
    },
    {
      "cell_type": "code",
      "metadata": {
        "id": "UNne4MdXrtlZ",
        "colab": {
          "base_uri": "https://localhost:8080/"
        },
        "outputId": "90e1e475-f491-40f0-b7c1-9b212a1a8833"
      },
      "source": [
        "df_no_paso.loc[df_no_paso['sid']==40378, 'ErrorType' ]='NameError'"
      ],
      "execution_count": 109,
      "outputs": [
        {
          "output_type": "stream",
          "text": [
            "/usr/local/lib/python3.7/dist-packages/pandas/core/indexing.py:1763: SettingWithCopyWarning: \n",
            "A value is trying to be set on a copy of a slice from a DataFrame.\n",
            "Try using .loc[row_indexer,col_indexer] = value instead\n",
            "\n",
            "See the caveats in the documentation: https://pandas.pydata.org/pandas-docs/stable/user_guide/indexing.html#returning-a-view-versus-a-copy\n",
            "  isetter(loc, value)\n"
          ],
          "name": "stderr"
        }
      ]
    },
    {
      "cell_type": "code",
      "metadata": {
        "id": "vL8Qk4SAruBV",
        "colab": {
          "base_uri": "https://localhost:8080/"
        },
        "outputId": "96390ec9-67e9-4e93-a474-29ff8c95dd77"
      },
      "source": [
        "df_no_paso.loc[df_no_paso['sid']==40014, 'ErrorType' ]='NameError'"
      ],
      "execution_count": 110,
      "outputs": [
        {
          "output_type": "stream",
          "text": [
            "/usr/local/lib/python3.7/dist-packages/pandas/core/indexing.py:1763: SettingWithCopyWarning: \n",
            "A value is trying to be set on a copy of a slice from a DataFrame.\n",
            "Try using .loc[row_indexer,col_indexer] = value instead\n",
            "\n",
            "See the caveats in the documentation: https://pandas.pydata.org/pandas-docs/stable/user_guide/indexing.html#returning-a-view-versus-a-copy\n",
            "  isetter(loc, value)\n"
          ],
          "name": "stderr"
        }
      ]
    },
    {
      "cell_type": "markdown",
      "metadata": {
        "id": "zgn-vjMrsYSM"
      },
      "source": [
        "39312 TypeError se intentan realizar acciones mezclando str e int"
      ]
    },
    {
      "cell_type": "code",
      "metadata": {
        "id": "ev_gNrWSsjKX",
        "colab": {
          "base_uri": "https://localhost:8080/"
        },
        "outputId": "5ed4d72a-8764-4e35-af10-3f6b34b2277d"
      },
      "source": [
        "df_no_paso.loc[df_no_paso['sid']==39312, 'ErrorType' ]='TypeError'"
      ],
      "execution_count": 111,
      "outputs": [
        {
          "output_type": "stream",
          "text": [
            "/usr/local/lib/python3.7/dist-packages/pandas/core/indexing.py:1763: SettingWithCopyWarning: \n",
            "A value is trying to be set on a copy of a slice from a DataFrame.\n",
            "Try using .loc[row_indexer,col_indexer] = value instead\n",
            "\n",
            "See the caveats in the documentation: https://pandas.pydata.org/pandas-docs/stable/user_guide/indexing.html#returning-a-view-versus-a-copy\n",
            "  isetter(loc, value)\n"
          ],
          "name": "stderr"
        }
      ]
    },
    {
      "cell_type": "markdown",
      "metadata": {
        "id": "O9mFqMB2H5AU"
      },
      "source": [
        "39051, 38751, 39037, 38694, 38501, 38483, 38447, 37956, 38330 AssertionError Martin Fierro sin los prints necesarios"
      ]
    },
    {
      "cell_type": "code",
      "metadata": {
        "id": "6M-xpw7_JeCd",
        "colab": {
          "base_uri": "https://localhost:8080/"
        },
        "outputId": "216171f6-a26d-450b-f3b6-87c91e97b699"
      },
      "source": [
        "df_no_paso.loc[df_no_paso['sid']==39051, 'ErrorType' ]='AssertionError'"
      ],
      "execution_count": 112,
      "outputs": [
        {
          "output_type": "stream",
          "text": [
            "/usr/local/lib/python3.7/dist-packages/pandas/core/indexing.py:1763: SettingWithCopyWarning: \n",
            "A value is trying to be set on a copy of a slice from a DataFrame.\n",
            "Try using .loc[row_indexer,col_indexer] = value instead\n",
            "\n",
            "See the caveats in the documentation: https://pandas.pydata.org/pandas-docs/stable/user_guide/indexing.html#returning-a-view-versus-a-copy\n",
            "  isetter(loc, value)\n"
          ],
          "name": "stderr"
        }
      ]
    },
    {
      "cell_type": "code",
      "metadata": {
        "id": "dkp21a6AJ3mh",
        "colab": {
          "base_uri": "https://localhost:8080/"
        },
        "outputId": "3bc5ec7c-cdae-4829-d206-cfed795edaff"
      },
      "source": [
        "df_no_paso.loc[df_no_paso['sid']==38751, 'ErrorType' ]='AssertionError'"
      ],
      "execution_count": 113,
      "outputs": [
        {
          "output_type": "stream",
          "text": [
            "/usr/local/lib/python3.7/dist-packages/pandas/core/indexing.py:1763: SettingWithCopyWarning: \n",
            "A value is trying to be set on a copy of a slice from a DataFrame.\n",
            "Try using .loc[row_indexer,col_indexer] = value instead\n",
            "\n",
            "See the caveats in the documentation: https://pandas.pydata.org/pandas-docs/stable/user_guide/indexing.html#returning-a-view-versus-a-copy\n",
            "  isetter(loc, value)\n"
          ],
          "name": "stderr"
        }
      ]
    },
    {
      "cell_type": "code",
      "metadata": {
        "id": "yQ5bDhRiKHMJ",
        "colab": {
          "base_uri": "https://localhost:8080/"
        },
        "outputId": "90d50b44-f6de-43a1-ec9c-afa95f241c30"
      },
      "source": [
        "df_no_paso.loc[df_no_paso['sid']==39037, 'ErrorType' ]='AssertionError'"
      ],
      "execution_count": 114,
      "outputs": [
        {
          "output_type": "stream",
          "text": [
            "/usr/local/lib/python3.7/dist-packages/pandas/core/indexing.py:1763: SettingWithCopyWarning: \n",
            "A value is trying to be set on a copy of a slice from a DataFrame.\n",
            "Try using .loc[row_indexer,col_indexer] = value instead\n",
            "\n",
            "See the caveats in the documentation: https://pandas.pydata.org/pandas-docs/stable/user_guide/indexing.html#returning-a-view-versus-a-copy\n",
            "  isetter(loc, value)\n"
          ],
          "name": "stderr"
        }
      ]
    },
    {
      "cell_type": "code",
      "metadata": {
        "id": "k8LQX65cKXvQ",
        "colab": {
          "base_uri": "https://localhost:8080/"
        },
        "outputId": "c052eaa5-7295-47bf-f9a7-d45ffd87bd64"
      },
      "source": [
        "df_no_paso.loc[df_no_paso['sid']==38694, 'ErrorType' ]='AssertionError'"
      ],
      "execution_count": 115,
      "outputs": [
        {
          "output_type": "stream",
          "text": [
            "/usr/local/lib/python3.7/dist-packages/pandas/core/indexing.py:1763: SettingWithCopyWarning: \n",
            "A value is trying to be set on a copy of a slice from a DataFrame.\n",
            "Try using .loc[row_indexer,col_indexer] = value instead\n",
            "\n",
            "See the caveats in the documentation: https://pandas.pydata.org/pandas-docs/stable/user_guide/indexing.html#returning-a-view-versus-a-copy\n",
            "  isetter(loc, value)\n"
          ],
          "name": "stderr"
        }
      ]
    },
    {
      "cell_type": "code",
      "metadata": {
        "id": "hhYLdDDPK0Hu",
        "colab": {
          "base_uri": "https://localhost:8080/"
        },
        "outputId": "db53326f-0f56-4695-91af-362acf8eba9c"
      },
      "source": [
        "df_no_paso.loc[df_no_paso['sid']==38501, 'ErrorType' ]='AssertionError'"
      ],
      "execution_count": 116,
      "outputs": [
        {
          "output_type": "stream",
          "text": [
            "/usr/local/lib/python3.7/dist-packages/pandas/core/indexing.py:1763: SettingWithCopyWarning: \n",
            "A value is trying to be set on a copy of a slice from a DataFrame.\n",
            "Try using .loc[row_indexer,col_indexer] = value instead\n",
            "\n",
            "See the caveats in the documentation: https://pandas.pydata.org/pandas-docs/stable/user_guide/indexing.html#returning-a-view-versus-a-copy\n",
            "  isetter(loc, value)\n"
          ],
          "name": "stderr"
        }
      ]
    },
    {
      "cell_type": "code",
      "metadata": {
        "id": "22eVQLa9LZJh",
        "colab": {
          "base_uri": "https://localhost:8080/"
        },
        "outputId": "2ad5cd97-1e9c-43b2-9173-3d6c10274d6c"
      },
      "source": [
        "df_no_paso.loc[df_no_paso['sid']==38483, 'ErrorType' ]='AssertionError'"
      ],
      "execution_count": 117,
      "outputs": [
        {
          "output_type": "stream",
          "text": [
            "/usr/local/lib/python3.7/dist-packages/pandas/core/indexing.py:1763: SettingWithCopyWarning: \n",
            "A value is trying to be set on a copy of a slice from a DataFrame.\n",
            "Try using .loc[row_indexer,col_indexer] = value instead\n",
            "\n",
            "See the caveats in the documentation: https://pandas.pydata.org/pandas-docs/stable/user_guide/indexing.html#returning-a-view-versus-a-copy\n",
            "  isetter(loc, value)\n"
          ],
          "name": "stderr"
        }
      ]
    },
    {
      "cell_type": "code",
      "metadata": {
        "id": "LMb0oigJLn5r",
        "colab": {
          "base_uri": "https://localhost:8080/"
        },
        "outputId": "29998585-2bd8-4e9d-a7ff-73b85a7f3313"
      },
      "source": [
        "df_no_paso.loc[df_no_paso['sid']==38447, 'ErrorType' ]='AssertionError'"
      ],
      "execution_count": 118,
      "outputs": [
        {
          "output_type": "stream",
          "text": [
            "/usr/local/lib/python3.7/dist-packages/pandas/core/indexing.py:1763: SettingWithCopyWarning: \n",
            "A value is trying to be set on a copy of a slice from a DataFrame.\n",
            "Try using .loc[row_indexer,col_indexer] = value instead\n",
            "\n",
            "See the caveats in the documentation: https://pandas.pydata.org/pandas-docs/stable/user_guide/indexing.html#returning-a-view-versus-a-copy\n",
            "  isetter(loc, value)\n"
          ],
          "name": "stderr"
        }
      ]
    },
    {
      "cell_type": "code",
      "metadata": {
        "id": "t-Wa84USL7vk",
        "colab": {
          "base_uri": "https://localhost:8080/"
        },
        "outputId": "3bb1a558-c8dc-4c1f-b1d4-a21827ceb22a"
      },
      "source": [
        "df_no_paso.loc[df_no_paso['sid']==37956, 'ErrorType' ]='AssertionError'"
      ],
      "execution_count": 119,
      "outputs": [
        {
          "output_type": "stream",
          "text": [
            "/usr/local/lib/python3.7/dist-packages/pandas/core/indexing.py:1763: SettingWithCopyWarning: \n",
            "A value is trying to be set on a copy of a slice from a DataFrame.\n",
            "Try using .loc[row_indexer,col_indexer] = value instead\n",
            "\n",
            "See the caveats in the documentation: https://pandas.pydata.org/pandas-docs/stable/user_guide/indexing.html#returning-a-view-versus-a-copy\n",
            "  isetter(loc, value)\n"
          ],
          "name": "stderr"
        }
      ]
    },
    {
      "cell_type": "code",
      "metadata": {
        "id": "col3x26pMI0q",
        "colab": {
          "base_uri": "https://localhost:8080/"
        },
        "outputId": "d6d34bcb-83f3-4c97-bb18-9984298b6c71"
      },
      "source": [
        "df_no_paso.loc[df_no_paso['sid']==38330, 'ErrorType' ]='AssertionError'"
      ],
      "execution_count": 120,
      "outputs": [
        {
          "output_type": "stream",
          "text": [
            "/usr/local/lib/python3.7/dist-packages/pandas/core/indexing.py:1763: SettingWithCopyWarning: \n",
            "A value is trying to be set on a copy of a slice from a DataFrame.\n",
            "Try using .loc[row_indexer,col_indexer] = value instead\n",
            "\n",
            "See the caveats in the documentation: https://pandas.pydata.org/pandas-docs/stable/user_guide/indexing.html#returning-a-view-versus-a-copy\n",
            "  isetter(loc, value)\n"
          ],
          "name": "stderr"
        }
      ]
    },
    {
      "cell_type": "markdown",
      "metadata": {
        "id": "ixdwl6CZNWq_"
      },
      "source": [
        "37761 NameError variable no definida"
      ]
    },
    {
      "cell_type": "code",
      "metadata": {
        "id": "a_QVautUNbVC",
        "colab": {
          "base_uri": "https://localhost:8080/"
        },
        "outputId": "a5404fde-e2ec-4d8f-cca2-fcc9d70dc33d"
      },
      "source": [
        "df_no_paso.loc[df_no_paso['sid']==37761, 'ErrorType' ]='NameError'"
      ],
      "execution_count": 121,
      "outputs": [
        {
          "output_type": "stream",
          "text": [
            "/usr/local/lib/python3.7/dist-packages/pandas/core/indexing.py:1763: SettingWithCopyWarning: \n",
            "A value is trying to be set on a copy of a slice from a DataFrame.\n",
            "Try using .loc[row_indexer,col_indexer] = value instead\n",
            "\n",
            "See the caveats in the documentation: https://pandas.pydata.org/pandas-docs/stable/user_guide/indexing.html#returning-a-view-versus-a-copy\n",
            "  isetter(loc, value)\n"
          ],
          "name": "stderr"
        }
      ]
    },
    {
      "cell_type": "markdown",
      "metadata": {
        "id": "biPdcAf3zlFe"
      },
      "source": [
        "36686 Colocacion de la condicion donde no se acepta "
      ]
    },
    {
      "cell_type": "code",
      "metadata": {
        "id": "8lEY31ClzvwG",
        "colab": {
          "base_uri": "https://localhost:8080/"
        },
        "outputId": "99b09d25-9625-45d8-ec8a-1d4b61f1c507"
      },
      "source": [
        "df_no_paso.loc[df_no_paso['sid']==36686, 'ErrorType' ]='SyntaxError'"
      ],
      "execution_count": 122,
      "outputs": [
        {
          "output_type": "stream",
          "text": [
            "/usr/local/lib/python3.7/dist-packages/pandas/core/indexing.py:1763: SettingWithCopyWarning: \n",
            "A value is trying to be set on a copy of a slice from a DataFrame.\n",
            "Try using .loc[row_indexer,col_indexer] = value instead\n",
            "\n",
            "See the caveats in the documentation: https://pandas.pydata.org/pandas-docs/stable/user_guide/indexing.html#returning-a-view-versus-a-copy\n",
            "  isetter(loc, value)\n"
          ],
          "name": "stderr"
        }
      ]
    },
    {
      "cell_type": "markdown",
      "metadata": {
        "id": "eeEWqtc14rsU"
      },
      "source": [
        "7411 Se usan caracteres no validos SyntaxError"
      ]
    },
    {
      "cell_type": "code",
      "metadata": {
        "id": "Cjetf8bM4rWJ",
        "colab": {
          "base_uri": "https://localhost:8080/"
        },
        "outputId": "0cee7925-7891-44b0-faf6-48faeb0b8a90"
      },
      "source": [
        "df_no_paso.loc[df_no_paso['sid']==7411, 'ErrorType' ]='SyntaxError'"
      ],
      "execution_count": 123,
      "outputs": [
        {
          "output_type": "stream",
          "text": [
            "/usr/local/lib/python3.7/dist-packages/pandas/core/indexing.py:1763: SettingWithCopyWarning: \n",
            "A value is trying to be set on a copy of a slice from a DataFrame.\n",
            "Try using .loc[row_indexer,col_indexer] = value instead\n",
            "\n",
            "See the caveats in the documentation: https://pandas.pydata.org/pandas-docs/stable/user_guide/indexing.html#returning-a-view-versus-a-copy\n",
            "  isetter(loc, value)\n"
          ],
          "name": "stderr"
        }
      ]
    },
    {
      "cell_type": "markdown",
      "metadata": {
        "id": "apuvn_MZhf_H"
      },
      "source": [
        "7411 Se usan caracteres no apropiados como < numero > SyntaxError"
      ]
    },
    {
      "cell_type": "code",
      "metadata": {
        "colab": {
          "base_uri": "https://localhost:8080/"
        },
        "id": "8Mg2vyFoAeMr",
        "outputId": "d557e619-650f-4dbc-9baf-744feb089394"
      },
      "source": [
        "df_no_paso['ErrorType'].value_counts(dropna=False)"
      ],
      "execution_count": 124,
      "outputs": [
        {
          "output_type": "execute_result",
          "data": {
            "text/plain": [
              "SyntaxError         10919\n",
              "IndentationError     2826\n",
              "NameError             237\n",
              "AssertionError         12\n",
              "TypeError               4\n",
              "NaN                     3\n",
              "AttributeError          1\n",
              "EOFError                1\n",
              "Name: ErrorType, dtype: int64"
            ]
          },
          "metadata": {
            "tags": []
          },
          "execution_count": 124
        }
      ]
    },
    {
      "cell_type": "markdown",
      "metadata": {
        "id": "np29yy61MQeh"
      },
      "source": [
        ""
      ]
    },
    {
      "cell_type": "code",
      "metadata": {
        "id": "A07kuWghOzaG"
      },
      "source": [
        "df_mumuki['ErrorType']=df_mumuki[ df_mumuki['result'].notna()].apply(lambda row: get_error_type(row),axis=1)"
      ],
      "execution_count": 125,
      "outputs": []
    },
    {
      "cell_type": "code",
      "metadata": {
        "colab": {
          "base_uri": "https://localhost:8080/"
        },
        "id": "fUgoyrN7O7J0",
        "outputId": "a61ef719-4e69-4d1d-b405-4c789bd8c977"
      },
      "source": [
        "df_no_paso['ErrorType'].value_counts(dropna=False)"
      ],
      "execution_count": 126,
      "outputs": [
        {
          "output_type": "execute_result",
          "data": {
            "text/plain": [
              "SyntaxError         10919\n",
              "IndentationError     2826\n",
              "NameError             237\n",
              "AssertionError         12\n",
              "TypeError               4\n",
              "NaN                     3\n",
              "AttributeError          1\n",
              "EOFError                1\n",
              "Name: ErrorType, dtype: int64"
            ]
          },
          "metadata": {
            "tags": []
          },
          "execution_count": 126
        }
      ]
    },
    {
      "cell_type": "code",
      "metadata": {
        "id": "yiJ7w5kUM7_m"
      },
      "source": [
        "exeptions_dic = {\n",
        "    'SyntaxError':[2881,3751,10631,13813,27386,36686,7411],\n",
        "    'NameError':[6134,30712,40378,40014,37761],\n",
        "    'AttributeError':[13259],\n",
        "    'AssertionError':[17356, 25327,31829,39051, 38751, 39037, 38694, 38501, 38483, 38447, 37956, 38330]\n",
        "}"
      ],
      "execution_count": 127,
      "outputs": []
    },
    {
      "cell_type": "code",
      "metadata": {
        "id": "UPKVVqq0PQZR"
      },
      "source": [
        "#df_mumuki[df_mumuki['sid'].isin(exeptions_dic).values()]"
      ],
      "execution_count": 128,
      "outputs": []
    },
    {
      "cell_type": "code",
      "metadata": {
        "id": "Z_OjPwrVY6ej"
      },
      "source": [
        "#exeptions_dic.values()"
      ],
      "execution_count": 129,
      "outputs": []
    },
    {
      "cell_type": "code",
      "metadata": {
        "id": "T_8rFyUnfkhr"
      },
      "source": [
        "df_mumuki['ErrorType']=df_mumuki[ df_mumuki['result'].notna()].apply(lambda row: get_error_type(row),axis=1)"
      ],
      "execution_count": 130,
      "outputs": []
    },
    {
      "cell_type": "code",
      "metadata": {
        "colab": {
          "base_uri": "https://localhost:8080/"
        },
        "id": "J68QtRCTjodl",
        "outputId": "daadbdf3-f34b-4c01-e63e-904ba8e63b71"
      },
      "source": [
        "df_mumuki['ErrorType'].value_counts(dropna=False)"
      ],
      "execution_count": 131,
      "outputs": [
        {
          "output_type": "execute_result",
          "data": {
            "text/plain": [
              "NaN                 28810\n",
              "SyntaxError         10912\n",
              "IndentationError     2826\n",
              "NameError             232\n",
              "TypeError               3\n",
              "Otra cosa               1\n",
              "EOFError                1\n",
              "Name: ErrorType, dtype: int64"
            ]
          },
          "metadata": {
            "tags": []
          },
          "execution_count": 131
        }
      ]
    },
    {
      "cell_type": "code",
      "metadata": {
        "id": "6N2k63ltPBl7"
      },
      "source": [
        "def set_exeptions(row):\n",
        "  if row['sid'] in [2881,3751,10631,13813,27386,36686,7411]:\n",
        "    return 'SyntaxError'\n",
        "  elif row['sid'] in [6134,30712,40378,40014,37761]:\n",
        "    return 'NameError'\n",
        "  elif row['sid'] in [17356, 25327,31829,39051, 38751, 39037, 38694, 38501, 38483, 38447, 37956, 38330]:\n",
        "    return 'AssertionError'\n",
        "  elif row['sid'] in [13259]:\n",
        "    return 'AttributeError'\n",
        "  else:\n",
        "    return row['ErrorType']"
      ],
      "execution_count": 132,
      "outputs": []
    },
    {
      "cell_type": "code",
      "metadata": {
        "id": "jySXYli9a_AZ"
      },
      "source": [
        "df_mumuki['ErrorType']=df_mumuki.apply( lambda x: set_exeptions(x),axis=1 )"
      ],
      "execution_count": 133,
      "outputs": []
    },
    {
      "cell_type": "code",
      "metadata": {
        "colab": {
          "base_uri": "https://localhost:8080/"
        },
        "id": "EGuwOWajjvUZ",
        "outputId": "6d7bad12-da3d-4cff-b298-2cbbe857e3eb"
      },
      "source": [
        "df_mumuki['ErrorType'].value_counts(dropna=False)"
      ],
      "execution_count": 134,
      "outputs": [
        {
          "output_type": "execute_result",
          "data": {
            "text/plain": [
              "NaN                 28786\n",
              "SyntaxError         10919\n",
              "IndentationError     2826\n",
              "NameError             237\n",
              "AssertionError         12\n",
              "TypeError               3\n",
              "EOFError                1\n",
              "AttributeError          1\n",
              "Name: ErrorType, dtype: int64"
            ]
          },
          "metadata": {
            "tags": []
          },
          "execution_count": 134
        }
      ]
    },
    {
      "cell_type": "code",
      "metadata": {
        "id": "VnPqovPdlP3_"
      },
      "source": [
        "df_mumuki.to_csv('df_mumuki_errortype.csv',index=False)"
      ],
      "execution_count": 137,
      "outputs": []
    }
  ]
}