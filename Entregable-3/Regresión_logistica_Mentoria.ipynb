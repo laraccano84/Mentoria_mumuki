{
  "nbformat": 4,
  "nbformat_minor": 0,
  "metadata": {
    "colab": {
      "name": "Regresión logistica Mentoria.ipynb",
      "provenance": [],
      "toc_visible": true,
      "include_colab_link": true
    },
    "kernelspec": {
      "name": "python3",
      "display_name": "Python 3"
    },
    "language_info": {
      "name": "python"
    }
  },
  "cells": [
    {
      "cell_type": "markdown",
      "metadata": {
        "id": "view-in-github",
        "colab_type": "text"
      },
      "source": [
        "<a href=\"https://colab.research.google.com/github/laraccano84/Mentoria_mumuki/blob/main/Regresi%C3%B3n_logistica_Mentoria.ipynb\" target=\"_parent\"><img src=\"https://colab.research.google.com/assets/colab-badge.svg\" alt=\"Open In Colab\"/></a>"
      ]
    },
    {
      "cell_type": "code",
      "metadata": {
        "id": "-0cl0Ug0d4Zr"
      },
      "source": [
        "import io\n",
        "import matplotlib.pyplot as plt\n",
        "import numpy as np\n",
        "import pandas as pd\n",
        "import seaborn \n",
        "import datetime as dt\n",
        "import requests\n",
        "import json\n",
        "import math\n",
        "import glob\n",
        "import cufflinks as cf\n",
        "import scipy.stats"
      ],
      "execution_count": null,
      "outputs": []
    },
    {
      "cell_type": "code",
      "metadata": {
        "id": "22Jjz5_3eaLj"
      },
      "source": [
        "sns  = seaborn"
      ],
      "execution_count": null,
      "outputs": []
    },
    {
      "cell_type": "code",
      "metadata": {
        "id": "TzTOG3U3dwpA"
      },
      "source": [
        "url = 'https://raw.githubusercontent.com/laraccano84/Mentoria_mumuki/main/Entregable-3/df_regresion_log.csv'\n",
        "df_reg_log = pd.read_csv(url)"
      ],
      "execution_count": null,
      "outputs": []
    },
    {
      "cell_type": "markdown",
      "metadata": {
        "id": "VRY_wlBPghz4"
      },
      "source": [
        "Se realizó un filtro del data set creado en la notebook de analisis multivariado, con el criterio de quedarnos con las filas de los envios de ejercicios menores al numero 11 del orden natural de presentación. "
      ]
    },
    {
      "cell_type": "code",
      "metadata": {
        "colab": {
          "base_uri": "https://localhost:8080/",
          "height": 261
        },
        "id": "WMIwqWwteCK4",
        "outputId": "ad2b975c-0114-4c86-fff0-c78a8b4e8b54"
      },
      "source": [
        "df_reg_log.sample(4)"
      ],
      "execution_count": null,
      "outputs": [
        {
          "output_type": "execute_result",
          "data": {
            "text/html": [
              "<div>\n",
              "<style scoped>\n",
              "    .dataframe tbody tr th:only-of-type {\n",
              "        vertical-align: middle;\n",
              "    }\n",
              "\n",
              "    .dataframe tbody tr th {\n",
              "        vertical-align: top;\n",
              "    }\n",
              "\n",
              "    .dataframe thead th {\n",
              "        text-align: right;\n",
              "    }\n",
              "</style>\n",
              "<table border=\"1\" class=\"dataframe\">\n",
              "  <thead>\n",
              "    <tr style=\"text-align: right;\">\n",
              "      <th></th>\n",
              "      <th>Cantidad_Envios</th>\n",
              "      <th>Ejercicios_unicos_caller</th>\n",
              "      <th>Cant_envios_paso</th>\n",
              "      <th>Cant_envios_no_paso</th>\n",
              "      <th>Cant_ejerc_pasoTotal_envios</th>\n",
              "      <th>Cant_ejerc_no_pasoTotal_envios</th>\n",
              "      <th>dif_ejerciciosUnicos_Paso</th>\n",
              "      <th>cant_envios</th>\n",
              "      <th>cant_ejercicios_unicos</th>\n",
              "      <th>f_primer_envio</th>\n",
              "      <th>f_ultimo_envio</th>\n",
              "      <th>tiempo_invertido</th>\n",
              "      <th>tiempo_invertido_horas</th>\n",
              "      <th>tiempo_invertido_dias</th>\n",
              "      <th>Avance_caller</th>\n",
              "      <th>avg_tiempo</th>\n",
              "      <th>ID_ultimo_ejercicio_enviado</th>\n",
              "      <th>Ejercicios_unicos_other</th>\n",
              "      <th>Avance_other</th>\n",
              "      <th>Avance_original</th>\n",
              "    </tr>\n",
              "  </thead>\n",
              "  <tbody>\n",
              "    <tr>\n",
              "      <th>217</th>\n",
              "      <td>91</td>\n",
              "      <td>10</td>\n",
              "      <td>20</td>\n",
              "      <td>71</td>\n",
              "      <td>10</td>\n",
              "      <td>8</td>\n",
              "      <td>0</td>\n",
              "      <td>91</td>\n",
              "      <td>10</td>\n",
              "      <td>2020-09-14 13:27:42.530</td>\n",
              "      <td>2020-10-05 13:44:54.240</td>\n",
              "      <td>21 days 00:17:11.710000</td>\n",
              "      <td>504.29</td>\n",
              "      <td>21.0121</td>\n",
              "      <td>0</td>\n",
              "      <td>5.541648</td>\n",
              "      <td>10</td>\n",
              "      <td>40</td>\n",
              "      <td>Completo</td>\n",
              "      <td>0</td>\n",
              "    </tr>\n",
              "    <tr>\n",
              "      <th>125</th>\n",
              "      <td>40</td>\n",
              "      <td>10</td>\n",
              "      <td>24</td>\n",
              "      <td>16</td>\n",
              "      <td>10</td>\n",
              "      <td>6</td>\n",
              "      <td>0</td>\n",
              "      <td>40</td>\n",
              "      <td>10</td>\n",
              "      <td>2020-05-20 04:19:57.700</td>\n",
              "      <td>2020-06-07 20:10:39.919</td>\n",
              "      <td>18 days 15:50:42.219000</td>\n",
              "      <td>447.85</td>\n",
              "      <td>18.6604</td>\n",
              "      <td>0</td>\n",
              "      <td>11.196250</td>\n",
              "      <td>9</td>\n",
              "      <td>40</td>\n",
              "      <td>Completo</td>\n",
              "      <td>0</td>\n",
              "    </tr>\n",
              "    <tr>\n",
              "      <th>97</th>\n",
              "      <td>43</td>\n",
              "      <td>10</td>\n",
              "      <td>14</td>\n",
              "      <td>29</td>\n",
              "      <td>10</td>\n",
              "      <td>6</td>\n",
              "      <td>0</td>\n",
              "      <td>43</td>\n",
              "      <td>10</td>\n",
              "      <td>2020-05-15 00:10:23.444</td>\n",
              "      <td>2020-05-15 11:50:46.350</td>\n",
              "      <td>0 days 11:40:22.906000</td>\n",
              "      <td>11.67</td>\n",
              "      <td>0.4862</td>\n",
              "      <td>0</td>\n",
              "      <td>0.271395</td>\n",
              "      <td>10</td>\n",
              "      <td>28</td>\n",
              "      <td>Deserto</td>\n",
              "      <td>1</td>\n",
              "    </tr>\n",
              "    <tr>\n",
              "      <th>133</th>\n",
              "      <td>61</td>\n",
              "      <td>10</td>\n",
              "      <td>21</td>\n",
              "      <td>40</td>\n",
              "      <td>10</td>\n",
              "      <td>7</td>\n",
              "      <td>0</td>\n",
              "      <td>61</td>\n",
              "      <td>10</td>\n",
              "      <td>2020-05-24 22:28:27.617</td>\n",
              "      <td>2020-05-26 17:51:49.478</td>\n",
              "      <td>1 days 19:23:21.861000</td>\n",
              "      <td>43.39</td>\n",
              "      <td>1.8079</td>\n",
              "      <td>0</td>\n",
              "      <td>0.711311</td>\n",
              "      <td>10</td>\n",
              "      <td>40</td>\n",
              "      <td>Completo</td>\n",
              "      <td>0</td>\n",
              "    </tr>\n",
              "  </tbody>\n",
              "</table>\n",
              "</div>"
            ],
            "text/plain": [
              "     Cantidad_Envios  Ejercicios_unicos_caller  ...  Avance_other  Avance_original\n",
              "217               91                        10  ...      Completo                0\n",
              "125               40                        10  ...      Completo                0\n",
              "97                43                        10  ...       Deserto                1\n",
              "133               61                        10  ...      Completo                0\n",
              "\n",
              "[4 rows x 20 columns]"
            ]
          },
          "metadata": {
            "tags": []
          },
          "execution_count": 31
        }
      ]
    },
    {
      "cell_type": "markdown",
      "metadata": {
        "id": "KJkkkPMDaheL"
      },
      "source": [
        "Nos quedamos con las columnas que nos interesan, al ver de nuevo la matriz de correlación."
      ]
    },
    {
      "cell_type": "code",
      "metadata": {
        "colab": {
          "base_uri": "https://localhost:8080/",
          "height": 548
        },
        "id": "sRArAOfHfhmc",
        "outputId": "27de6c79-8bd7-44d5-8094-5f277d22fe3c"
      },
      "source": [
        "sns.set(rc={'figure.figsize':(8,6)})\n",
        "correlation_matrix = df_reg_log.corr().round(2)\n",
        "# annot = True to print the values inside the square\n",
        "sns.heatmap(data=correlation_matrix, annot=True, cmap='Blues', annot_kws = {\"size\": 8});"
      ],
      "execution_count": null,
      "outputs": [
        {
          "output_type": "display_data",
          "data": {
            "image/png": "[encoded data removed]",
            "text/plain": [
              "<Figure size 576x432 with 2 Axes>"
            ]
          },
          "metadata": {
            "tags": []
          }
        }
      ]
    },
    {
      "cell_type": "code",
      "metadata": {
        "id": "FJot0D8fQz8k"
      },
      "source": [
        "df_reg_log_prediccion=df_reg_log.drop([\"f_primer_envio\",'f_ultimo_envio', 'tiempo_invertido', 'Avance_other', 'Avance_caller'], axis=1)"
      ],
      "execution_count": null,
      "outputs": []
    },
    {
      "cell_type": "code",
      "metadata": {
        "id": "VSstvWGdeejp"
      },
      "source": [
        "from sklearn.model_selection import train_test_split"
      ],
      "execution_count": null,
      "outputs": []
    },
    {
      "cell_type": "code",
      "metadata": {
        "id": "8fA6WZ4K7URP"
      },
      "source": [
        "# División entre instancias y etiquetas\n",
        "X, y = df_reg_log_prediccion.drop(['Avance_original'], axis=1), df_reg_log_prediccion.Avance_original\n",
        "\n",
        "# división entre entrenamiento y evaluación\n",
        "X_train, X_test, y_train, y_test = train_test_split(X, y, test_size=0.2,random_state=0)"
      ],
      "execution_count": null,
      "outputs": []
    },
    {
      "cell_type": "code",
      "metadata": {
        "id": "8sED4EDU7Utz",
        "colab": {
          "base_uri": "https://localhost:8080/"
        },
        "outputId": "5134dbc2-4592-4c63-d23c-fb8bb9f45c7f"
      },
      "source": [
        "X_train.shape, X_test.shape"
      ],
      "execution_count": null,
      "outputs": [
        {
          "output_type": "execute_result",
          "data": {
            "text/plain": [
              "((207, 14), (52, 14))"
            ]
          },
          "metadata": {
            "tags": []
          },
          "execution_count": 36
        }
      ]
    },
    {
      "cell_type": "code",
      "metadata": {
        "id": "EDW2tYIQ7W0M",
        "colab": {
          "base_uri": "https://localhost:8080/"
        },
        "outputId": "b14d3d73-0bbb-4337-d5a0-054d0fa00871"
      },
      "source": [
        "from sklearn.linear_model import LogisticRegression\n",
        "\n",
        "model = LogisticRegression()\n",
        "model.fit(X_train, y_train)"
      ],
      "execution_count": null,
      "outputs": [
        {
          "output_type": "stream",
          "text": [
            "/usr/local/lib/python3.7/dist-packages/sklearn/linear_model/_logistic.py:940: ConvergenceWarning:\n",
            "\n",
            "lbfgs failed to converge (status=1):\n",
            "STOP: TOTAL NO. of ITERATIONS REACHED LIMIT.\n",
            "\n",
            "Increase the number of iterations (max_iter) or scale the data as shown in:\n",
            "    https://scikit-learn.org/stable/modules/preprocessing.html\n",
            "Please also refer to the documentation for alternative solver options:\n",
            "    https://scikit-learn.org/stable/modules/linear_model.html#logistic-regression\n",
            "\n"
          ],
          "name": "stderr"
        },
        {
          "output_type": "execute_result",
          "data": {
            "text/plain": [
              "LogisticRegression(C=1.0, class_weight=None, dual=False, fit_intercept=True,\n",
              "                   intercept_scaling=1, l1_ratio=None, max_iter=100,\n",
              "                   multi_class='auto', n_jobs=None, penalty='l2',\n",
              "                   random_state=None, solver='lbfgs', tol=0.0001, verbose=0,\n",
              "                   warm_start=False)"
            ]
          },
          "metadata": {
            "tags": []
          },
          "execution_count": 37
        }
      ]
    },
    {
      "cell_type": "code",
      "metadata": {
        "id": "uMzequoq7aTC"
      },
      "source": [
        "from sklearn.linear_model import SGDClassifier\n",
        "from sklearn.metrics import confusion_matrix\n",
        "from sklearn.metrics import plot_confusion_matrix\n",
        "from sklearn.preprocessing import StandardScaler\n",
        "from sklearn.pipeline import make_pipeline\n",
        "from sklearn.metrics import precision_score\n",
        "from sklearn.metrics import recall_score\n",
        "from sklearn.metrics import f1_score\n",
        "from sklearn.metrics import accuracy_score"
      ],
      "execution_count": null,
      "outputs": []
    },
    {
      "cell_type": "code",
      "metadata": {
        "id": "X0Aoj5cl7dBX"
      },
      "source": [
        "def get_metrics(true_values, pred_values):\n",
        "    \n",
        "    result = {\n",
        "        'precision_score' : precision_score(true_values, pred_values) ,\n",
        "        'recall_score': recall_score(true_values, pred_values),\n",
        "        'f1_score' : f1_score(true_values, pred_values),\n",
        "        'accuracy_score': accuracy_score(true_values, pred_values)\n",
        "    }\n",
        "    \n",
        "    return result\n",
        "\n",
        "def plot_metrics(model, X_train, y_train, y_train_pred):\n",
        "    result = get_metrics(y_train, y_train_pred)\n",
        "    print(result)\n",
        "    \n",
        "    plot_confusion_matrix(model, X_train, y_train)"
      ],
      "execution_count": null,
      "outputs": []
    },
    {
      "cell_type": "code",
      "metadata": {
        "id": "_LitTiG07paN"
      },
      "source": [
        "y_train_pred = model.predict(X_train)"
      ],
      "execution_count": null,
      "outputs": []
    },
    {
      "cell_type": "markdown",
      "metadata": {
        "id": "hRwo5F7baw25"
      },
      "source": [
        "Obtenemos la matriz de confusión y las métricas del modelo"
      ]
    },
    {
      "cell_type": "code",
      "metadata": {
        "id": "DVIrGdp57rl2",
        "colab": {
          "base_uri": "https://localhost:8080/",
          "height": 411
        },
        "outputId": "06214fcd-a428-4525-8461-c14cdaa11bd7"
      },
      "source": [
        "plot_metrics(model, X_train, y_train, y_train_pred)"
      ],
      "execution_count": null,
      "outputs": [
        {
          "output_type": "stream",
          "text": [
            "{'precision_score': 0.9864864864864865, 'recall_score': 0.8295454545454546, 'f1_score': 0.9012345679012347, 'accuracy_score': 0.9227053140096618}\n"
          ],
          "name": "stdout"
        },
        {
          "output_type": "display_data",
          "data": {
            "image/png": "[encoded data removed]",
            "text/plain": [
              "<Figure size 576x432 with 2 Axes>"
            ]
          },
          "metadata": {
            "tags": []
          }
        }
      ]
    },
    {
      "cell_type": "markdown",
      "metadata": {
        "id": "3FTh9unJa5RL"
      },
      "source": [
        "#### Hiperparámetros"
      ]
    },
    {
      "cell_type": "code",
      "metadata": {
        "id": "gwF5kKU-7sHA"
      },
      "source": [
        "from sklearn.model_selection import GridSearchCV\n",
        "from sklearn.utils.fixes import loguniform\n",
        "from sklearn.pipeline import Pipeline"
      ],
      "execution_count": null,
      "outputs": []
    },
    {
      "cell_type": "code",
      "metadata": {
        "id": "ULlKxvaq7uEU"
      },
      "source": [
        "def print_results(cv):\n",
        "    results = cv.cv_results_\n",
        "    params = results['params']\n",
        "    mean = results['mean_test_score']\n",
        "    std = results['std_test_score']\n",
        "    rank = results['rank_test_score']\n",
        "    \n",
        "    #print(\"crit.\\tdepth\\t| mean\\tstd\\trank\")\n",
        "    print(\"mean\\tstd\\trank\")\n",
        "    \n",
        "    for m, s, r in zip( mean, std, rank):\n",
        "        #print(f\"{p['criterion']}\\t{p['max_depth']}\\t| {m:0.2f}\\t{s:0.2f}\\t{r}\")\n",
        "        print(f\"{m:0.2f}\\t{s:0.2f}\\t{r}\")\n",
        "\n",
        "    for param in params:\n",
        "        print (param)"
      ],
      "execution_count": null,
      "outputs": []
    },
    {
      "cell_type": "code",
      "metadata": {
        "id": "ekf1qm5n7w-p"
      },
      "source": [
        "param_dist = {\n",
        "    'sgdc__loss': ['hinge', 'log', 'modified_huber', 'squared_hinge','perceptron'],\n",
        "    'sgdc__alpha': [0.1,0.01,0.001,0.0001],\n",
        "    'sgdc__penalty' : ['l2' , 'l1' , 'elasticnet']\n",
        "}"
      ],
      "execution_count": null,
      "outputs": []
    },
    {
      "cell_type": "code",
      "metadata": {
        "id": "2uS7hV4N7z0n",
        "colab": {
          "base_uri": "https://localhost:8080/"
        },
        "outputId": "9767e278-3f37-49d1-dc24-5bda701bb5a4"
      },
      "source": [
        "param_dist"
      ],
      "execution_count": null,
      "outputs": [
        {
          "output_type": "execute_result",
          "data": {
            "text/plain": [
              "{'sgdc__alpha': [0.1, 0.01, 0.001, 0.0001],\n",
              " 'sgdc__loss': ['hinge',\n",
              "  'log',\n",
              "  'modified_huber',\n",
              "  'squared_hinge',\n",
              "  'perceptron'],\n",
              " 'sgdc__penalty': ['l2', 'l1', 'elasticnet']}"
            ]
          },
          "metadata": {
            "tags": []
          },
          "execution_count": 45
        }
      ]
    },
    {
      "cell_type": "code",
      "metadata": {
        "id": "j_sgJhNr71zW"
      },
      "source": [
        "test_model = Pipeline(steps = [('standard', StandardScaler()),('sgdc', SGDClassifier(random_state=0))])\n",
        "cv = GridSearchCV(test_model, param_dist, scoring='accuracy', cv=5 ,verbose=10)"
      ],
      "execution_count": null,
      "outputs": []
    },
    {
      "cell_type": "code",
      "metadata": {
        "id": "bbcgPyVl74wg",
        "colab": {
          "base_uri": "https://localhost:8080/"
        },
        "outputId": "8dba2eaf-757e-49e3-fa39-47f0c1213473"
      },
      "source": [
        "cv.fit(X_train,y_train);"
      ],
      "execution_count": null,
      "outputs": [
        {
          "output_type": "stream",
          "text": [
            "Fitting 5 folds for each of 60 candidates, totalling 300 fits\n",
            "[CV] sgdc__alpha=0.1, sgdc__loss=hinge, sgdc__penalty=l2 .............\n",
            "[CV]  sgdc__alpha=0.1, sgdc__loss=hinge, sgdc__penalty=l2, score=0.905, total=   0.0s\n",
            "[CV] sgdc__alpha=0.1, sgdc__loss=hinge, sgdc__penalty=l2 .............\n",
            "[CV]  sgdc__alpha=0.1, sgdc__loss=hinge, sgdc__penalty=l2, score=0.905, total=   0.0s\n",
            "[CV] sgdc__alpha=0.1, sgdc__loss=hinge, sgdc__penalty=l2 .............\n",
            "[CV]  sgdc__alpha=0.1, sgdc__loss=hinge, sgdc__penalty=l2, score=0.829, total=   0.0s\n",
            "[CV] sgdc__alpha=0.1, sgdc__loss=hinge, sgdc__penalty=l2 .............\n",
            "[CV]  sgdc__alpha=0.1, sgdc__loss=hinge, sgdc__penalty=l2, score=0.805, total=   0.0s\n",
            "[CV] sgdc__alpha=0.1, sgdc__loss=hinge, sgdc__penalty=l2 .............\n",
            "[CV]  sgdc__alpha=0.1, sgdc__loss=hinge, sgdc__penalty=l2, score=0.902, total=   0.0s\n",
            "[CV] sgdc__alpha=0.1, sgdc__loss=hinge, sgdc__penalty=l1 .............\n",
            "[CV]  sgdc__alpha=0.1, sgdc__loss=hinge, sgdc__penalty=l1, score=0.905, total=   0.0s\n",
            "[CV] sgdc__alpha=0.1, sgdc__loss=hinge, sgdc__penalty=l1 .............\n",
            "[CV]  sgdc__alpha=0.1, sgdc__loss=hinge, sgdc__penalty=l1, score=0.905, total=   0.0s\n",
            "[CV] sgdc__alpha=0.1, sgdc__loss=hinge, sgdc__penalty=l1 .............\n",
            "[CV]  sgdc__alpha=0.1, sgdc__loss=hinge, sgdc__penalty=l1, score=0.829, total=   0.0s\n",
            "[CV] sgdc__alpha=0.1, sgdc__loss=hinge, sgdc__penalty=l1 .............\n",
            "[CV]  sgdc__alpha=0.1, sgdc__loss=hinge, sgdc__penalty=l1, score=0.854, total=   0.0s\n",
            "[CV] sgdc__alpha=0.1, sgdc__loss=hinge, sgdc__penalty=l1 .............\n",
            "[CV]  sgdc__alpha=0.1, sgdc__loss=hinge, sgdc__penalty=l1, score=0.878, total=   0.0s\n",
            "[CV] sgdc__alpha=0.1, sgdc__loss=hinge, sgdc__penalty=elasticnet .....\n",
            "[CV]  sgdc__alpha=0.1, sgdc__loss=hinge, sgdc__penalty=elasticnet, score=0.905, total=   0.0s\n",
            "[CV] sgdc__alpha=0.1, sgdc__loss=hinge, sgdc__penalty=elasticnet .....\n",
            "[CV]  sgdc__alpha=0.1, sgdc__loss=hinge, sgdc__penalty=elasticnet, score=0.905, total=   0.0s\n",
            "[CV] sgdc__alpha=0.1, sgdc__loss=hinge, sgdc__penalty=elasticnet .....\n",
            "[CV]  sgdc__alpha=0.1, sgdc__loss=hinge, sgdc__penalty=elasticnet, score=0.829, total=   0.0s\n",
            "[CV] sgdc__alpha=0.1, sgdc__loss=hinge, sgdc__penalty=elasticnet .....\n",
            "[CV]  sgdc__alpha=0.1, sgdc__loss=hinge, sgdc__penalty=elasticnet, score=0.805, total=   0.0s\n",
            "[CV] sgdc__alpha=0.1, sgdc__loss=hinge, sgdc__penalty=elasticnet .....\n",
            "[CV]  sgdc__alpha=0.1, sgdc__loss=hinge, sgdc__penalty=elasticnet, score=0.902, total=   0.0s\n",
            "[CV] sgdc__alpha=0.1, sgdc__loss=log, sgdc__penalty=l2 ...............\n",
            "[CV]  sgdc__alpha=0.1, sgdc__loss=log, sgdc__penalty=l2, score=0.857, total=   0.0s\n",
            "[CV] sgdc__alpha=0.1, sgdc__loss=log, sgdc__penalty=l2 ...............\n",
            "[CV]  sgdc__alpha=0.1, sgdc__loss=log, sgdc__penalty=l2, score=0.905, total=   0.0s\n",
            "[CV] sgdc__alpha=0.1, sgdc__loss=log, sgdc__penalty=l2 ...............\n",
            "[CV]  sgdc__alpha=0.1, sgdc__loss=log, sgdc__penalty=l2, score=0.805, total=   0.0s\n",
            "[CV] sgdc__alpha=0.1, sgdc__loss=log, sgdc__penalty=l2 ...............\n",
            "[CV]  sgdc__alpha=0.1, sgdc__loss=log, sgdc__penalty=l2, score=0.805, total=   0.0s\n",
            "[CV] sgdc__alpha=0.1, sgdc__loss=log, sgdc__penalty=l2 ...............\n",
            "[CV]  sgdc__alpha=0.1, sgdc__loss=log, sgdc__penalty=l2, score=0.878, total=   0.0s\n",
            "[CV] sgdc__alpha=0.1, sgdc__loss=log, sgdc__penalty=l1 ...............\n",
            "[CV]  sgdc__alpha=0.1, sgdc__loss=log, sgdc__penalty=l1, score=0.905, total=   0.0s\n",
            "[CV] sgdc__alpha=0.1, sgdc__loss=log, sgdc__penalty=l1 ...............\n",
            "[CV]  sgdc__alpha=0.1, sgdc__loss=log, sgdc__penalty=l1, score=0.857, total=   0.0s\n",
            "[CV] sgdc__alpha=0.1, sgdc__loss=log, sgdc__penalty=l1 ...............\n",
            "[CV]  sgdc__alpha=0.1, sgdc__loss=log, sgdc__penalty=l1, score=0.829, total=   0.0s\n",
            "[CV] sgdc__alpha=0.1, sgdc__loss=log, sgdc__penalty=l1 ...............\n",
            "[CV]  sgdc__alpha=0.1, sgdc__loss=log, sgdc__penalty=l1, score=0.854, total=   0.0s\n",
            "[CV] sgdc__alpha=0.1, sgdc__loss=log, sgdc__penalty=l1 ...............\n"
          ],
          "name": "stdout"
        },
        {
          "output_type": "stream",
          "text": [
            "[Parallel(n_jobs=1)]: Using backend SequentialBackend with 1 concurrent workers.\n",
            "[Parallel(n_jobs=1)]: Done   1 out of   1 | elapsed:    0.0s remaining:    0.0s\n",
            "[Parallel(n_jobs=1)]: Done   2 out of   2 | elapsed:    0.0s remaining:    0.0s\n",
            "[Parallel(n_jobs=1)]: Done   3 out of   3 | elapsed:    0.0s remaining:    0.0s\n",
            "[Parallel(n_jobs=1)]: Done   4 out of   4 | elapsed:    0.0s remaining:    0.0s\n",
            "[Parallel(n_jobs=1)]: Done   5 out of   5 | elapsed:    0.1s remaining:    0.0s\n",
            "[Parallel(n_jobs=1)]: Done   6 out of   6 | elapsed:    0.1s remaining:    0.0s\n",
            "[Parallel(n_jobs=1)]: Done   7 out of   7 | elapsed:    0.1s remaining:    0.0s\n",
            "[Parallel(n_jobs=1)]: Done   8 out of   8 | elapsed:    0.1s remaining:    0.0s\n",
            "[Parallel(n_jobs=1)]: Done   9 out of   9 | elapsed:    0.1s remaining:    0.0s\n"
          ],
          "name": "stderr"
        },
        {
          "output_type": "stream",
          "text": [
            "[CV]  sgdc__alpha=0.1, sgdc__loss=log, sgdc__penalty=l1, score=0.878, total=   0.0s\n",
            "[CV] sgdc__alpha=0.1, sgdc__loss=log, sgdc__penalty=elasticnet .......\n",
            "[CV]  sgdc__alpha=0.1, sgdc__loss=log, sgdc__penalty=elasticnet, score=0.881, total=   0.0s\n",
            "[CV] sgdc__alpha=0.1, sgdc__loss=log, sgdc__penalty=elasticnet .......\n",
            "[CV]  sgdc__alpha=0.1, sgdc__loss=log, sgdc__penalty=elasticnet, score=0.905, total=   0.0s\n",
            "[CV] sgdc__alpha=0.1, sgdc__loss=log, sgdc__penalty=elasticnet .......\n",
            "[CV]  sgdc__alpha=0.1, sgdc__loss=log, sgdc__penalty=elasticnet, score=0.805, total=   0.0s\n",
            "[CV] sgdc__alpha=0.1, sgdc__loss=log, sgdc__penalty=elasticnet .......\n",
            "[CV]  sgdc__alpha=0.1, sgdc__loss=log, sgdc__penalty=elasticnet, score=0.805, total=   0.0s\n",
            "[CV] sgdc__alpha=0.1, sgdc__loss=log, sgdc__penalty=elasticnet .......\n",
            "[CV]  sgdc__alpha=0.1, sgdc__loss=log, sgdc__penalty=elasticnet, score=0.902, total=   0.0s\n",
            "[CV] sgdc__alpha=0.1, sgdc__loss=modified_huber, sgdc__penalty=l2 ....\n",
            "[CV]  sgdc__alpha=0.1, sgdc__loss=modified_huber, sgdc__penalty=l2, score=0.881, total=   0.0s\n",
            "[CV] sgdc__alpha=0.1, sgdc__loss=modified_huber, sgdc__penalty=l2 ....\n",
            "[CV]  sgdc__alpha=0.1, sgdc__loss=modified_huber, sgdc__penalty=l2, score=0.857, total=   0.0s\n",
            "[CV] sgdc__alpha=0.1, sgdc__loss=modified_huber, sgdc__penalty=l2 ....\n",
            "[CV]  sgdc__alpha=0.1, sgdc__loss=modified_huber, sgdc__penalty=l2, score=0.854, total=   0.0s\n",
            "[CV] sgdc__alpha=0.1, sgdc__loss=modified_huber, sgdc__penalty=l2 ....\n",
            "[CV]  sgdc__alpha=0.1, sgdc__loss=modified_huber, sgdc__penalty=l2, score=0.902, total=   0.0s\n",
            "[CV] sgdc__alpha=0.1, sgdc__loss=modified_huber, sgdc__penalty=l2 ....\n",
            "[CV]  sgdc__alpha=0.1, sgdc__loss=modified_huber, sgdc__penalty=l2, score=0.951, total=   0.0s\n",
            "[CV] sgdc__alpha=0.1, sgdc__loss=modified_huber, sgdc__penalty=l1 ....\n",
            "[CV]  sgdc__alpha=0.1, sgdc__loss=modified_huber, sgdc__penalty=l1, score=0.905, total=   0.0s\n",
            "[CV] sgdc__alpha=0.1, sgdc__loss=modified_huber, sgdc__penalty=l1 ....\n",
            "[CV]  sgdc__alpha=0.1, sgdc__loss=modified_huber, sgdc__penalty=l1, score=0.952, total=   0.0s\n",
            "[CV] sgdc__alpha=0.1, sgdc__loss=modified_huber, sgdc__penalty=l1 ....\n",
            "[CV]  sgdc__alpha=0.1, sgdc__loss=modified_huber, sgdc__penalty=l1, score=0.927, total=   0.0s\n",
            "[CV] sgdc__alpha=0.1, sgdc__loss=modified_huber, sgdc__penalty=l1 ....\n",
            "[CV]  sgdc__alpha=0.1, sgdc__loss=modified_huber, sgdc__penalty=l1, score=0.976, total=   0.0s\n",
            "[CV] sgdc__alpha=0.1, sgdc__loss=modified_huber, sgdc__penalty=l1 ....\n",
            "[CV]  sgdc__alpha=0.1, sgdc__loss=modified_huber, sgdc__penalty=l1, score=0.951, total=   0.0s\n",
            "[CV] sgdc__alpha=0.1, sgdc__loss=modified_huber, sgdc__penalty=elasticnet \n",
            "[CV]  sgdc__alpha=0.1, sgdc__loss=modified_huber, sgdc__penalty=elasticnet, score=0.881, total=   0.0s\n",
            "[CV] sgdc__alpha=0.1, sgdc__loss=modified_huber, sgdc__penalty=elasticnet \n",
            "[CV]  sgdc__alpha=0.1, sgdc__loss=modified_huber, sgdc__penalty=elasticnet, score=0.905, total=   0.0s\n",
            "[CV] sgdc__alpha=0.1, sgdc__loss=modified_huber, sgdc__penalty=elasticnet \n",
            "[CV]  sgdc__alpha=0.1, sgdc__loss=modified_huber, sgdc__penalty=elasticnet, score=0.854, total=   0.0s\n",
            "[CV] sgdc__alpha=0.1, sgdc__loss=modified_huber, sgdc__penalty=elasticnet \n",
            "[CV]  sgdc__alpha=0.1, sgdc__loss=modified_huber, sgdc__penalty=elasticnet, score=0.927, total=   0.0s\n",
            "[CV] sgdc__alpha=0.1, sgdc__loss=modified_huber, sgdc__penalty=elasticnet \n",
            "[CV]  sgdc__alpha=0.1, sgdc__loss=modified_huber, sgdc__penalty=elasticnet, score=0.951, total=   0.0s\n",
            "[CV] sgdc__alpha=0.1, sgdc__loss=squared_hinge, sgdc__penalty=l2 .....\n",
            "[CV]  sgdc__alpha=0.1, sgdc__loss=squared_hinge, sgdc__penalty=l2, score=0.905, total=   0.0s\n",
            "[CV] sgdc__alpha=0.1, sgdc__loss=squared_hinge, sgdc__penalty=l2 .....\n",
            "[CV]  sgdc__alpha=0.1, sgdc__loss=squared_hinge, sgdc__penalty=l2, score=0.476, total=   0.0s\n",
            "[CV] sgdc__alpha=0.1, sgdc__loss=squared_hinge, sgdc__penalty=l2 .....\n",
            "[CV]  sgdc__alpha=0.1, sgdc__loss=squared_hinge, sgdc__penalty=l2, score=0.488, total=   0.0s\n",
            "[CV] sgdc__alpha=0.1, sgdc__loss=squared_hinge, sgdc__penalty=l2 .....\n"
          ],
          "name": "stdout"
        },
        {
          "output_type": "stream",
          "text": [
            "/usr/local/lib/python3.7/dist-packages/sklearn/linear_model/_stochastic_gradient.py:557: ConvergenceWarning:\n",
            "\n",
            "Maximum number of iteration reached before convergence. Consider increasing max_iter to improve the fit.\n",
            "\n",
            "/usr/local/lib/python3.7/dist-packages/sklearn/linear_model/_stochastic_gradient.py:557: ConvergenceWarning:\n",
            "\n",
            "Maximum number of iteration reached before convergence. Consider increasing max_iter to improve the fit.\n",
            "\n",
            "/usr/local/lib/python3.7/dist-packages/sklearn/linear_model/_stochastic_gradient.py:557: ConvergenceWarning:\n",
            "\n",
            "Maximum number of iteration reached before convergence. Consider increasing max_iter to improve the fit.\n",
            "\n",
            "/usr/local/lib/python3.7/dist-packages/sklearn/linear_model/_stochastic_gradient.py:557: ConvergenceWarning:\n",
            "\n",
            "Maximum number of iteration reached before convergence. Consider increasing max_iter to improve the fit.\n",
            "\n",
            "/usr/local/lib/python3.7/dist-packages/sklearn/linear_model/_stochastic_gradient.py:557: ConvergenceWarning:\n",
            "\n",
            "Maximum number of iteration reached before convergence. Consider increasing max_iter to improve the fit.\n",
            "\n",
            "/usr/local/lib/python3.7/dist-packages/sklearn/linear_model/_stochastic_gradient.py:557: ConvergenceWarning:\n",
            "\n",
            "Maximum number of iteration reached before convergence. Consider increasing max_iter to improve the fit.\n",
            "\n",
            "/usr/local/lib/python3.7/dist-packages/sklearn/linear_model/_stochastic_gradient.py:557: ConvergenceWarning:\n",
            "\n",
            "Maximum number of iteration reached before convergence. Consider increasing max_iter to improve the fit.\n",
            "\n",
            "/usr/local/lib/python3.7/dist-packages/sklearn/linear_model/_stochastic_gradient.py:557: ConvergenceWarning:\n",
            "\n",
            "Maximum number of iteration reached before convergence. Consider increasing max_iter to improve the fit.\n",
            "\n",
            "/usr/local/lib/python3.7/dist-packages/sklearn/linear_model/_stochastic_gradient.py:557: ConvergenceWarning:\n",
            "\n",
            "Maximum number of iteration reached before convergence. Consider increasing max_iter to improve the fit.\n",
            "\n"
          ],
          "name": "stderr"
        },
        {
          "output_type": "stream",
          "text": [
            "[CV]  sgdc__alpha=0.1, sgdc__loss=squared_hinge, sgdc__penalty=l2, score=0.463, total=   0.0s\n",
            "[CV] sgdc__alpha=0.1, sgdc__loss=squared_hinge, sgdc__penalty=l2 .....\n",
            "[CV]  sgdc__alpha=0.1, sgdc__loss=squared_hinge, sgdc__penalty=l2, score=0.439, total=   0.0s\n",
            "[CV] sgdc__alpha=0.1, sgdc__loss=squared_hinge, sgdc__penalty=l1 .....\n",
            "[CV]  sgdc__alpha=0.1, sgdc__loss=squared_hinge, sgdc__penalty=l1, score=0.881, total=   0.0s\n",
            "[CV] sgdc__alpha=0.1, sgdc__loss=squared_hinge, sgdc__penalty=l1 .....\n",
            "[CV]  sgdc__alpha=0.1, sgdc__loss=squared_hinge, sgdc__penalty=l1, score=0.905, total=   0.0s\n",
            "[CV] sgdc__alpha=0.1, sgdc__loss=squared_hinge, sgdc__penalty=l1 .....\n",
            "[CV]  sgdc__alpha=0.1, sgdc__loss=squared_hinge, sgdc__penalty=l1, score=0.951, total=   0.0s\n",
            "[CV] sgdc__alpha=0.1, sgdc__loss=squared_hinge, sgdc__penalty=l1 .....\n",
            "[CV]  sgdc__alpha=0.1, sgdc__loss=squared_hinge, sgdc__penalty=l1, score=0.976, total=   0.0s\n",
            "[CV] sgdc__alpha=0.1, sgdc__loss=squared_hinge, sgdc__penalty=l1 .....\n",
            "[CV]  sgdc__alpha=0.1, sgdc__loss=squared_hinge, sgdc__penalty=l1, score=0.951, total=   0.0s\n",
            "[CV] sgdc__alpha=0.1, sgdc__loss=squared_hinge, sgdc__penalty=elasticnet \n",
            "[CV]  sgdc__alpha=0.1, sgdc__loss=squared_hinge, sgdc__penalty=elasticnet, score=0.548, total=   0.0s\n",
            "[CV] sgdc__alpha=0.1, sgdc__loss=squared_hinge, sgdc__penalty=elasticnet \n"
          ],
          "name": "stdout"
        },
        {
          "output_type": "stream",
          "text": [
            "/usr/local/lib/python3.7/dist-packages/sklearn/linear_model/_stochastic_gradient.py:557: ConvergenceWarning:\n",
            "\n",
            "Maximum number of iteration reached before convergence. Consider increasing max_iter to improve the fit.\n",
            "\n",
            "/usr/local/lib/python3.7/dist-packages/sklearn/linear_model/_stochastic_gradient.py:557: ConvergenceWarning:\n",
            "\n",
            "Maximum number of iteration reached before convergence. Consider increasing max_iter to improve the fit.\n",
            "\n",
            "/usr/local/lib/python3.7/dist-packages/sklearn/linear_model/_stochastic_gradient.py:557: ConvergenceWarning:\n",
            "\n",
            "Maximum number of iteration reached before convergence. Consider increasing max_iter to improve the fit.\n",
            "\n",
            "/usr/local/lib/python3.7/dist-packages/sklearn/linear_model/_stochastic_gradient.py:557: ConvergenceWarning:\n",
            "\n",
            "Maximum number of iteration reached before convergence. Consider increasing max_iter to improve the fit.\n",
            "\n",
            "/usr/local/lib/python3.7/dist-packages/sklearn/linear_model/_stochastic_gradient.py:557: ConvergenceWarning:\n",
            "\n",
            "Maximum number of iteration reached before convergence. Consider increasing max_iter to improve the fit.\n",
            "\n"
          ],
          "name": "stderr"
        },
        {
          "output_type": "stream",
          "text": [
            "[CV]  sgdc__alpha=0.1, sgdc__loss=squared_hinge, sgdc__penalty=elasticnet, score=0.500, total=   0.0s\n",
            "[CV] sgdc__alpha=0.1, sgdc__loss=squared_hinge, sgdc__penalty=elasticnet \n",
            "[CV]  sgdc__alpha=0.1, sgdc__loss=squared_hinge, sgdc__penalty=elasticnet, score=0.488, total=   0.0s\n",
            "[CV] sgdc__alpha=0.1, sgdc__loss=squared_hinge, sgdc__penalty=elasticnet \n",
            "[CV]  sgdc__alpha=0.1, sgdc__loss=squared_hinge, sgdc__penalty=elasticnet, score=0.463, total=   0.0s\n",
            "[CV] sgdc__alpha=0.1, sgdc__loss=squared_hinge, sgdc__penalty=elasticnet \n",
            "[CV]  sgdc__alpha=0.1, sgdc__loss=squared_hinge, sgdc__penalty=elasticnet, score=0.439, total=   0.0s\n",
            "[CV] sgdc__alpha=0.1, sgdc__loss=perceptron, sgdc__penalty=l2 ........\n",
            "[CV]  sgdc__alpha=0.1, sgdc__loss=perceptron, sgdc__penalty=l2, score=0.905, total=   0.0s\n",
            "[CV] sgdc__alpha=0.1, sgdc__loss=perceptron, sgdc__penalty=l2 ........\n",
            "[CV]  sgdc__alpha=0.1, sgdc__loss=perceptron, sgdc__penalty=l2, score=1.000, total=   0.0s\n",
            "[CV] sgdc__alpha=0.1, sgdc__loss=perceptron, sgdc__penalty=l2 ........\n",
            "[CV]  sgdc__alpha=0.1, sgdc__loss=perceptron, sgdc__penalty=l2, score=0.878, total=   0.0s\n",
            "[CV] sgdc__alpha=0.1, sgdc__loss=perceptron, sgdc__penalty=l2 ........\n",
            "[CV]  sgdc__alpha=0.1, sgdc__loss=perceptron, sgdc__penalty=l2, score=1.000, total=   0.0s\n",
            "[CV] sgdc__alpha=0.1, sgdc__loss=perceptron, sgdc__penalty=l2 ........\n",
            "[CV]  sgdc__alpha=0.1, sgdc__loss=perceptron, sgdc__penalty=l2, score=0.951, total=   0.0s\n",
            "[CV] sgdc__alpha=0.1, sgdc__loss=perceptron, sgdc__penalty=l1 ........\n",
            "[CV]  sgdc__alpha=0.1, sgdc__loss=perceptron, sgdc__penalty=l1, score=0.905, total=   0.0s\n",
            "[CV] sgdc__alpha=0.1, sgdc__loss=perceptron, sgdc__penalty=l1 ........\n",
            "[CV]  sgdc__alpha=0.1, sgdc__loss=perceptron, sgdc__penalty=l1, score=0.952, total=   0.0s\n",
            "[CV] sgdc__alpha=0.1, sgdc__loss=perceptron, sgdc__penalty=l1 ........\n",
            "[CV]  sgdc__alpha=0.1, sgdc__loss=perceptron, sgdc__penalty=l1, score=0.829, total=   0.0s\n",
            "[CV] sgdc__alpha=0.1, sgdc__loss=perceptron, sgdc__penalty=l1 ........\n",
            "[CV]  sgdc__alpha=0.1, sgdc__loss=perceptron, sgdc__penalty=l1, score=0.976, total=   0.0s\n",
            "[CV] sgdc__alpha=0.1, sgdc__loss=perceptron, sgdc__penalty=l1 ........\n",
            "[CV]  sgdc__alpha=0.1, sgdc__loss=perceptron, sgdc__penalty=l1, score=0.415, total=   0.0s\n",
            "[CV] sgdc__alpha=0.1, sgdc__loss=perceptron, sgdc__penalty=elasticnet \n",
            "[CV]  sgdc__alpha=0.1, sgdc__loss=perceptron, sgdc__penalty=elasticnet, score=0.905, total=   0.0s\n",
            "[CV] sgdc__alpha=0.1, sgdc__loss=perceptron, sgdc__penalty=elasticnet \n",
            "[CV]  sgdc__alpha=0.1, sgdc__loss=perceptron, sgdc__penalty=elasticnet, score=1.000, total=   0.0s\n",
            "[CV] sgdc__alpha=0.1, sgdc__loss=perceptron, sgdc__penalty=elasticnet \n",
            "[CV]  sgdc__alpha=0.1, sgdc__loss=perceptron, sgdc__penalty=elasticnet, score=0.927, total=   0.0s\n",
            "[CV] sgdc__alpha=0.1, sgdc__loss=perceptron, sgdc__penalty=elasticnet \n",
            "[CV]  sgdc__alpha=0.1, sgdc__loss=perceptron, sgdc__penalty=elasticnet, score=1.000, total=   0.0s\n",
            "[CV] sgdc__alpha=0.1, sgdc__loss=perceptron, sgdc__penalty=elasticnet \n",
            "[CV]  sgdc__alpha=0.1, sgdc__loss=perceptron, sgdc__penalty=elasticnet, score=0.976, total=   0.0s\n",
            "[CV] sgdc__alpha=0.01, sgdc__loss=hinge, sgdc__penalty=l2 ............\n",
            "[CV]  sgdc__alpha=0.01, sgdc__loss=hinge, sgdc__penalty=l2, score=0.905, total=   0.0s\n",
            "[CV] sgdc__alpha=0.01, sgdc__loss=hinge, sgdc__penalty=l2 ............\n",
            "[CV]  sgdc__alpha=0.01, sgdc__loss=hinge, sgdc__penalty=l2, score=0.881, total=   0.0s\n",
            "[CV] sgdc__alpha=0.01, sgdc__loss=hinge, sgdc__penalty=l2 ............\n",
            "[CV]  sgdc__alpha=0.01, sgdc__loss=hinge, sgdc__penalty=l2, score=0.854, total=   0.0s\n",
            "[CV] sgdc__alpha=0.01, sgdc__loss=hinge, sgdc__penalty=l2 ............\n",
            "[CV]  sgdc__alpha=0.01, sgdc__loss=hinge, sgdc__penalty=l2, score=0.951, total=   0.0s\n",
            "[CV] sgdc__alpha=0.01, sgdc__loss=hinge, sgdc__penalty=l2 ............\n",
            "[CV]  sgdc__alpha=0.01, sgdc__loss=hinge, sgdc__penalty=l2, score=0.951, total=   0.0s\n",
            "[CV] sgdc__alpha=0.01, sgdc__loss=hinge, sgdc__penalty=l1 ............\n",
            "[CV]  sgdc__alpha=0.01, sgdc__loss=hinge, sgdc__penalty=l1, score=0.929, total=   0.0s\n",
            "[CV] sgdc__alpha=0.01, sgdc__loss=hinge, sgdc__penalty=l1 ............\n",
            "[CV]  sgdc__alpha=0.01, sgdc__loss=hinge, sgdc__penalty=l1, score=0.976, total=   0.0s\n",
            "[CV] sgdc__alpha=0.01, sgdc__loss=hinge, sgdc__penalty=l1 ............\n",
            "[CV]  sgdc__alpha=0.01, sgdc__loss=hinge, sgdc__penalty=l1, score=0.951, total=   0.0s\n",
            "[CV] sgdc__alpha=0.01, sgdc__loss=hinge, sgdc__penalty=l1 ............\n",
            "[CV]  sgdc__alpha=0.01, sgdc__loss=hinge, sgdc__penalty=l1, score=1.000, total=   0.0s\n",
            "[CV] sgdc__alpha=0.01, sgdc__loss=hinge, sgdc__penalty=l1 ............\n",
            "[CV]  sgdc__alpha=0.01, sgdc__loss=hinge, sgdc__penalty=l1, score=0.976, total=   0.0s\n",
            "[CV] sgdc__alpha=0.01, sgdc__loss=hinge, sgdc__penalty=elasticnet ....\n",
            "[CV]  sgdc__alpha=0.01, sgdc__loss=hinge, sgdc__penalty=elasticnet, score=0.905, total=   0.0s\n",
            "[CV] sgdc__alpha=0.01, sgdc__loss=hinge, sgdc__penalty=elasticnet ....\n",
            "[CV]  sgdc__alpha=0.01, sgdc__loss=hinge, sgdc__penalty=elasticnet, score=0.905, total=   0.0s\n",
            "[CV] sgdc__alpha=0.01, sgdc__loss=hinge, sgdc__penalty=elasticnet ....\n",
            "[CV]  sgdc__alpha=0.01, sgdc__loss=hinge, sgdc__penalty=elasticnet, score=0.854, total=   0.0s\n",
            "[CV] sgdc__alpha=0.01, sgdc__loss=hinge, sgdc__penalty=elasticnet ....\n",
            "[CV]  sgdc__alpha=0.01, sgdc__loss=hinge, sgdc__penalty=elasticnet, score=0.951, total=   0.0s\n",
            "[CV] sgdc__alpha=0.01, sgdc__loss=hinge, sgdc__penalty=elasticnet ....\n",
            "[CV]  sgdc__alpha=0.01, sgdc__loss=hinge, sgdc__penalty=elasticnet, score=0.976, total=   0.0s\n",
            "[CV] sgdc__alpha=0.01, sgdc__loss=log, sgdc__penalty=l2 ..............\n",
            "[CV]  sgdc__alpha=0.01, sgdc__loss=log, sgdc__penalty=l2, score=0.881, total=   0.0s\n",
            "[CV] sgdc__alpha=0.01, sgdc__loss=log, sgdc__penalty=l2 ..............\n",
            "[CV]  sgdc__alpha=0.01, sgdc__loss=log, sgdc__penalty=l2, score=0.881, total=   0.0s\n",
            "[CV] sgdc__alpha=0.01, sgdc__loss=log, sgdc__penalty=l2 ..............\n",
            "[CV]  sgdc__alpha=0.01, sgdc__loss=log, sgdc__penalty=l2, score=0.854, total=   0.0s\n",
            "[CV] sgdc__alpha=0.01, sgdc__loss=log, sgdc__penalty=l2 ..............\n",
            "[CV]  sgdc__alpha=0.01, sgdc__loss=log, sgdc__penalty=l2, score=0.902, total=   0.0s\n",
            "[CV] sgdc__alpha=0.01, sgdc__loss=log, sgdc__penalty=l2 ..............\n",
            "[CV]  sgdc__alpha=0.01, sgdc__loss=log, sgdc__penalty=l2, score=0.951, total=   0.0s\n",
            "[CV] sgdc__alpha=0.01, sgdc__loss=log, sgdc__penalty=l1 ..............\n",
            "[CV]  sgdc__alpha=0.01, sgdc__loss=log, sgdc__penalty=l1, score=0.905, total=   0.0s\n",
            "[CV] sgdc__alpha=0.01, sgdc__loss=log, sgdc__penalty=l1 ..............\n",
            "[CV]  sgdc__alpha=0.01, sgdc__loss=log, sgdc__penalty=l1, score=0.929, total=   0.0s\n",
            "[CV] sgdc__alpha=0.01, sgdc__loss=log, sgdc__penalty=l1 ..............\n",
            "[CV]  sgdc__alpha=0.01, sgdc__loss=log, sgdc__penalty=l1, score=0.927, total=   0.0s\n",
            "[CV] sgdc__alpha=0.01, sgdc__loss=log, sgdc__penalty=l1 ..............\n",
            "[CV]  sgdc__alpha=0.01, sgdc__loss=log, sgdc__penalty=l1, score=0.976, total=   0.0s\n",
            "[CV] sgdc__alpha=0.01, sgdc__loss=log, sgdc__penalty=l1 ..............\n",
            "[CV]  sgdc__alpha=0.01, sgdc__loss=log, sgdc__penalty=l1, score=0.951, total=   0.0s\n",
            "[CV] sgdc__alpha=0.01, sgdc__loss=log, sgdc__penalty=elasticnet ......\n",
            "[CV]  sgdc__alpha=0.01, sgdc__loss=log, sgdc__penalty=elasticnet, score=0.881, total=   0.0s\n",
            "[CV] sgdc__alpha=0.01, sgdc__loss=log, sgdc__penalty=elasticnet ......\n",
            "[CV]  sgdc__alpha=0.01, sgdc__loss=log, sgdc__penalty=elasticnet, score=0.905, total=   0.0s\n",
            "[CV] sgdc__alpha=0.01, sgdc__loss=log, sgdc__penalty=elasticnet ......\n",
            "[CV]  sgdc__alpha=0.01, sgdc__loss=log, sgdc__penalty=elasticnet, score=0.854, total=   0.0s\n",
            "[CV] sgdc__alpha=0.01, sgdc__loss=log, sgdc__penalty=elasticnet ......\n",
            "[CV]  sgdc__alpha=0.01, sgdc__loss=log, sgdc__penalty=elasticnet, score=0.927, total=   0.0s\n",
            "[CV] sgdc__alpha=0.01, sgdc__loss=log, sgdc__penalty=elasticnet ......\n",
            "[CV]  sgdc__alpha=0.01, sgdc__loss=log, sgdc__penalty=elasticnet, score=0.951, total=   0.0s\n",
            "[CV] sgdc__alpha=0.01, sgdc__loss=modified_huber, sgdc__penalty=l2 ...\n",
            "[CV]  sgdc__alpha=0.01, sgdc__loss=modified_huber, sgdc__penalty=l2, score=0.905, total=   0.0s\n",
            "[CV] sgdc__alpha=0.01, sgdc__loss=modified_huber, sgdc__penalty=l2 ...\n",
            "[CV]  sgdc__alpha=0.01, sgdc__loss=modified_huber, sgdc__penalty=l2, score=0.905, total=   0.0s\n",
            "[CV] sgdc__alpha=0.01, sgdc__loss=modified_huber, sgdc__penalty=l2 ...\n",
            "[CV]  sgdc__alpha=0.01, sgdc__loss=modified_huber, sgdc__penalty=l2, score=0.927, total=   0.0s\n",
            "[CV] sgdc__alpha=0.01, sgdc__loss=modified_huber, sgdc__penalty=l2 ...\n",
            "[CV]  sgdc__alpha=0.01, sgdc__loss=modified_huber, sgdc__penalty=l2, score=0.976, total=   0.0s\n",
            "[CV] sgdc__alpha=0.01, sgdc__loss=modified_huber, sgdc__penalty=l2 ...\n",
            "[CV]  sgdc__alpha=0.01, sgdc__loss=modified_huber, sgdc__penalty=l2, score=0.976, total=   0.0s\n",
            "[CV] sgdc__alpha=0.01, sgdc__loss=modified_huber, sgdc__penalty=l1 ...\n",
            "[CV]  sgdc__alpha=0.01, sgdc__loss=modified_huber, sgdc__penalty=l1, score=0.952, total=   0.0s\n",
            "[CV] sgdc__alpha=0.01, sgdc__loss=modified_huber, sgdc__penalty=l1 ...\n",
            "[CV]  sgdc__alpha=0.01, sgdc__loss=modified_huber, sgdc__penalty=l1, score=1.000, total=   0.0s\n",
            "[CV] sgdc__alpha=0.01, sgdc__loss=modified_huber, sgdc__penalty=l1 ...\n",
            "[CV]  sgdc__alpha=0.01, sgdc__loss=modified_huber, sgdc__penalty=l1, score=1.000, total=   0.0s\n",
            "[CV] sgdc__alpha=0.01, sgdc__loss=modified_huber, sgdc__penalty=l1 ...\n",
            "[CV]  sgdc__alpha=0.01, sgdc__loss=modified_huber, sgdc__penalty=l1, score=0.976, total=   0.0s\n",
            "[CV] sgdc__alpha=0.01, sgdc__loss=modified_huber, sgdc__penalty=l1 ...\n",
            "[CV]  sgdc__alpha=0.01, sgdc__loss=modified_huber, sgdc__penalty=l1, score=1.000, total=   0.0s\n",
            "[CV] sgdc__alpha=0.01, sgdc__loss=modified_huber, sgdc__penalty=elasticnet \n",
            "[CV]  sgdc__alpha=0.01, sgdc__loss=modified_huber, sgdc__penalty=elasticnet, score=0.905, total=   0.0s\n",
            "[CV] sgdc__alpha=0.01, sgdc__loss=modified_huber, sgdc__penalty=elasticnet \n",
            "[CV]  sgdc__alpha=0.01, sgdc__loss=modified_huber, sgdc__penalty=elasticnet, score=0.905, total=   0.0s\n",
            "[CV] sgdc__alpha=0.01, sgdc__loss=modified_huber, sgdc__penalty=elasticnet \n",
            "[CV]  sgdc__alpha=0.01, sgdc__loss=modified_huber, sgdc__penalty=elasticnet, score=0.976, total=   0.0s\n",
            "[CV] sgdc__alpha=0.01, sgdc__loss=modified_huber, sgdc__penalty=elasticnet \n",
            "[CV]  sgdc__alpha=0.01, sgdc__loss=modified_huber, sgdc__penalty=elasticnet, score=0.976, total=   0.0s\n",
            "[CV] sgdc__alpha=0.01, sgdc__loss=modified_huber, sgdc__penalty=elasticnet \n",
            "[CV]  sgdc__alpha=0.01, sgdc__loss=modified_huber, sgdc__penalty=elasticnet, score=1.000, total=   0.0s\n",
            "[CV] sgdc__alpha=0.01, sgdc__loss=squared_hinge, sgdc__penalty=l2 ....\n",
            "[CV]  sgdc__alpha=0.01, sgdc__loss=squared_hinge, sgdc__penalty=l2, score=0.643, total=   0.0s\n",
            "[CV] sgdc__alpha=0.01, sgdc__loss=squared_hinge, sgdc__penalty=l2 ....\n",
            "[CV]  sgdc__alpha=0.01, sgdc__loss=squared_hinge, sgdc__penalty=l2, score=0.524, total=   0.0s\n",
            "[CV] sgdc__alpha=0.01, sgdc__loss=squared_hinge, sgdc__penalty=l2 ....\n",
            "[CV]  sgdc__alpha=0.01, sgdc__loss=squared_hinge, sgdc__penalty=l2, score=0.512, total=   0.0s\n",
            "[CV] sgdc__alpha=0.01, sgdc__loss=squared_hinge, sgdc__penalty=l2 ....\n",
            "[CV]  sgdc__alpha=0.01, sgdc__loss=squared_hinge, sgdc__penalty=l2, score=0.463, total=   0.0s\n",
            "[CV] sgdc__alpha=0.01, sgdc__loss=squared_hinge, sgdc__penalty=l2 ....\n",
            "[CV]  sgdc__alpha=0.01, sgdc__loss=squared_hinge, sgdc__penalty=l2, score=0.488, total=   0.0s\n",
            "[CV] sgdc__alpha=0.01, sgdc__loss=squared_hinge, sgdc__penalty=l1 ....\n",
            "[CV]  sgdc__alpha=0.01, sgdc__loss=squared_hinge, sgdc__penalty=l1, score=0.881, total=   0.0s\n",
            "[CV] sgdc__alpha=0.01, sgdc__loss=squared_hinge, sgdc__penalty=l1 ....\n"
          ],
          "name": "stdout"
        },
        {
          "output_type": "stream",
          "text": [
            "/usr/local/lib/python3.7/dist-packages/sklearn/linear_model/_stochastic_gradient.py:557: ConvergenceWarning:\n",
            "\n",
            "Maximum number of iteration reached before convergence. Consider increasing max_iter to improve the fit.\n",
            "\n",
            "/usr/local/lib/python3.7/dist-packages/sklearn/linear_model/_stochastic_gradient.py:557: ConvergenceWarning:\n",
            "\n",
            "Maximum number of iteration reached before convergence. Consider increasing max_iter to improve the fit.\n",
            "\n",
            "/usr/local/lib/python3.7/dist-packages/sklearn/linear_model/_stochastic_gradient.py:557: ConvergenceWarning:\n",
            "\n",
            "Maximum number of iteration reached before convergence. Consider increasing max_iter to improve the fit.\n",
            "\n",
            "/usr/local/lib/python3.7/dist-packages/sklearn/linear_model/_stochastic_gradient.py:557: ConvergenceWarning:\n",
            "\n",
            "Maximum number of iteration reached before convergence. Consider increasing max_iter to improve the fit.\n",
            "\n"
          ],
          "name": "stderr"
        },
        {
          "output_type": "stream",
          "text": [
            "[CV]  sgdc__alpha=0.01, sgdc__loss=squared_hinge, sgdc__penalty=l1, score=0.976, total=   0.0s\n",
            "[CV] sgdc__alpha=0.01, sgdc__loss=squared_hinge, sgdc__penalty=l1 ....\n",
            "[CV]  sgdc__alpha=0.01, sgdc__loss=squared_hinge, sgdc__penalty=l1, score=0.951, total=   0.0s\n",
            "[CV] sgdc__alpha=0.01, sgdc__loss=squared_hinge, sgdc__penalty=l1 ....\n",
            "[CV]  sgdc__alpha=0.01, sgdc__loss=squared_hinge, sgdc__penalty=l1, score=0.927, total=   0.0s\n",
            "[CV] sgdc__alpha=0.01, sgdc__loss=squared_hinge, sgdc__penalty=l1 ....\n",
            "[CV]  sgdc__alpha=0.01, sgdc__loss=squared_hinge, sgdc__penalty=l1, score=0.976, total=   0.0s\n",
            "[CV] sgdc__alpha=0.01, sgdc__loss=squared_hinge, sgdc__penalty=elasticnet \n",
            "[CV]  sgdc__alpha=0.01, sgdc__loss=squared_hinge, sgdc__penalty=elasticnet, score=0.619, total=   0.0s\n",
            "[CV] sgdc__alpha=0.01, sgdc__loss=squared_hinge, sgdc__penalty=elasticnet \n",
            "[CV]  sgdc__alpha=0.01, sgdc__loss=squared_hinge, sgdc__penalty=elasticnet, score=0.571, total=   0.0s\n",
            "[CV] sgdc__alpha=0.01, sgdc__loss=squared_hinge, sgdc__penalty=elasticnet \n",
            "[CV]  sgdc__alpha=0.01, sgdc__loss=squared_hinge, sgdc__penalty=elasticnet, score=0.780, total=   0.0s\n",
            "[CV] sgdc__alpha=0.01, sgdc__loss=squared_hinge, sgdc__penalty=elasticnet \n",
            "[CV]  sgdc__alpha=0.01, sgdc__loss=squared_hinge, sgdc__penalty=elasticnet, score=0.463, total=   0.0s\n",
            "[CV] sgdc__alpha=0.01, sgdc__loss=squared_hinge, sgdc__penalty=elasticnet \n",
            "[CV]  sgdc__alpha=0.01, sgdc__loss=squared_hinge, sgdc__penalty=elasticnet, score=0.659, total=   0.0s\n",
            "[CV] sgdc__alpha=0.01, sgdc__loss=perceptron, sgdc__penalty=l2 .......\n",
            "[CV]  sgdc__alpha=0.01, sgdc__loss=perceptron, sgdc__penalty=l2, score=0.952, total=   0.0s\n",
            "[CV] sgdc__alpha=0.01, sgdc__loss=perceptron, sgdc__penalty=l2 .......\n",
            "[CV]  sgdc__alpha=0.01, sgdc__loss=perceptron, sgdc__penalty=l2, score=0.952, total=   0.0s\n",
            "[CV] sgdc__alpha=0.01, sgdc__loss=perceptron, sgdc__penalty=l2 .......\n",
            "[CV]  sgdc__alpha=0.01, sgdc__loss=perceptron, sgdc__penalty=l2, score=0.951, total=   0.0s\n",
            "[CV] sgdc__alpha=0.01, sgdc__loss=perceptron, sgdc__penalty=l2 .......\n",
            "[CV]  sgdc__alpha=0.01, sgdc__loss=perceptron, sgdc__penalty=l2, score=0.976, total=   0.0s\n",
            "[CV] sgdc__alpha=0.01, sgdc__loss=perceptron, sgdc__penalty=l2 .......\n",
            "[CV]  sgdc__alpha=0.01, sgdc__loss=perceptron, sgdc__penalty=l2, score=0.976, total=   0.0s\n",
            "[CV] sgdc__alpha=0.01, sgdc__loss=perceptron, sgdc__penalty=l1 .......\n",
            "[CV]  sgdc__alpha=0.01, sgdc__loss=perceptron, sgdc__penalty=l1, score=1.000, total=   0.0s\n",
            "[CV] sgdc__alpha=0.01, sgdc__loss=perceptron, sgdc__penalty=l1 .......\n",
            "[CV]  sgdc__alpha=0.01, sgdc__loss=perceptron, sgdc__penalty=l1, score=0.976, total=   0.0s\n",
            "[CV] sgdc__alpha=0.01, sgdc__loss=perceptron, sgdc__penalty=l1 .......\n",
            "[CV]  sgdc__alpha=0.01, sgdc__loss=perceptron, sgdc__penalty=l1, score=1.000, total=   0.0s\n",
            "[CV] sgdc__alpha=0.01, sgdc__loss=perceptron, sgdc__penalty=l1 .......\n",
            "[CV]  sgdc__alpha=0.01, sgdc__loss=perceptron, sgdc__penalty=l1, score=1.000, total=   0.0s\n",
            "[CV] sgdc__alpha=0.01, sgdc__loss=perceptron, sgdc__penalty=l1 .......\n",
            "[CV]  sgdc__alpha=0.01, sgdc__loss=perceptron, sgdc__penalty=l1, score=1.000, total=   0.0s\n",
            "[CV] sgdc__alpha=0.01, sgdc__loss=perceptron, sgdc__penalty=elasticnet \n",
            "[CV]  sgdc__alpha=0.01, sgdc__loss=perceptron, sgdc__penalty=elasticnet, score=0.976, total=   0.0s\n",
            "[CV] sgdc__alpha=0.01, sgdc__loss=perceptron, sgdc__penalty=elasticnet \n",
            "[CV]  sgdc__alpha=0.01, sgdc__loss=perceptron, sgdc__penalty=elasticnet, score=0.976, total=   0.0s\n",
            "[CV] sgdc__alpha=0.01, sgdc__loss=perceptron, sgdc__penalty=elasticnet \n",
            "[CV]  sgdc__alpha=0.01, sgdc__loss=perceptron, sgdc__penalty=elasticnet, score=1.000, total=   0.0s\n",
            "[CV] sgdc__alpha=0.01, sgdc__loss=perceptron, sgdc__penalty=elasticnet \n",
            "[CV]  sgdc__alpha=0.01, sgdc__loss=perceptron, sgdc__penalty=elasticnet, score=1.000, total=   0.0s\n",
            "[CV] sgdc__alpha=0.01, sgdc__loss=perceptron, sgdc__penalty=elasticnet \n",
            "[CV]  sgdc__alpha=0.01, sgdc__loss=perceptron, sgdc__penalty=elasticnet, score=1.000, total=   0.0s\n",
            "[CV] sgdc__alpha=0.001, sgdc__loss=hinge, sgdc__penalty=l2 ...........\n",
            "[CV]  sgdc__alpha=0.001, sgdc__loss=hinge, sgdc__penalty=l2, score=0.929, total=   0.0s\n",
            "[CV] sgdc__alpha=0.001, sgdc__loss=hinge, sgdc__penalty=l2 ...........\n",
            "[CV]  sgdc__alpha=0.001, sgdc__loss=hinge, sgdc__penalty=l2, score=0.929, total=   0.0s\n",
            "[CV] sgdc__alpha=0.001, sgdc__loss=hinge, sgdc__penalty=l2 ...........\n",
            "[CV]  sgdc__alpha=0.001, sgdc__loss=hinge, sgdc__penalty=l2, score=0.878, total=   0.0s\n",
            "[CV] sgdc__alpha=0.001, sgdc__loss=hinge, sgdc__penalty=l2 ...........\n",
            "[CV]  sgdc__alpha=0.001, sgdc__loss=hinge, sgdc__penalty=l2, score=0.976, total=   0.0s\n",
            "[CV] sgdc__alpha=0.001, sgdc__loss=hinge, sgdc__penalty=l2 ...........\n",
            "[CV]  sgdc__alpha=0.001, sgdc__loss=hinge, sgdc__penalty=l2, score=0.976, total=   0.0s\n",
            "[CV] sgdc__alpha=0.001, sgdc__loss=hinge, sgdc__penalty=l1 ...........\n",
            "[CV]  sgdc__alpha=0.001, sgdc__loss=hinge, sgdc__penalty=l1, score=0.952, total=   0.0s\n",
            "[CV] sgdc__alpha=0.001, sgdc__loss=hinge, sgdc__penalty=l1 ...........\n",
            "[CV]  sgdc__alpha=0.001, sgdc__loss=hinge, sgdc__penalty=l1, score=1.000, total=   0.0s\n",
            "[CV] sgdc__alpha=0.001, sgdc__loss=hinge, sgdc__penalty=l1 ...........\n",
            "[CV]  sgdc__alpha=0.001, sgdc__loss=hinge, sgdc__penalty=l1, score=1.000, total=   0.0s\n",
            "[CV] sgdc__alpha=0.001, sgdc__loss=hinge, sgdc__penalty=l1 ...........\n",
            "[CV]  sgdc__alpha=0.001, sgdc__loss=hinge, sgdc__penalty=l1, score=1.000, total=   0.0s\n",
            "[CV] sgdc__alpha=0.001, sgdc__loss=hinge, sgdc__penalty=l1 ...........\n",
            "[CV]  sgdc__alpha=0.001, sgdc__loss=hinge, sgdc__penalty=l1, score=1.000, total=   0.0s\n",
            "[CV] sgdc__alpha=0.001, sgdc__loss=hinge, sgdc__penalty=elasticnet ...\n",
            "[CV]  sgdc__alpha=0.001, sgdc__loss=hinge, sgdc__penalty=elasticnet, score=0.905, total=   0.0s\n",
            "[CV] sgdc__alpha=0.001, sgdc__loss=hinge, sgdc__penalty=elasticnet ...\n",
            "[CV]  sgdc__alpha=0.001, sgdc__loss=hinge, sgdc__penalty=elasticnet, score=0.976, total=   0.0s\n",
            "[CV] sgdc__alpha=0.001, sgdc__loss=hinge, sgdc__penalty=elasticnet ...\n",
            "[CV]  sgdc__alpha=0.001, sgdc__loss=hinge, sgdc__penalty=elasticnet, score=0.976, total=   0.0s\n",
            "[CV] sgdc__alpha=0.001, sgdc__loss=hinge, sgdc__penalty=elasticnet ...\n",
            "[CV]  sgdc__alpha=0.001, sgdc__loss=hinge, sgdc__penalty=elasticnet, score=0.976, total=   0.0s\n",
            "[CV] sgdc__alpha=0.001, sgdc__loss=hinge, sgdc__penalty=elasticnet ...\n",
            "[CV]  sgdc__alpha=0.001, sgdc__loss=hinge, sgdc__penalty=elasticnet, score=1.000, total=   0.0s\n",
            "[CV] sgdc__alpha=0.001, sgdc__loss=log, sgdc__penalty=l2 .............\n",
            "[CV]  sgdc__alpha=0.001, sgdc__loss=log, sgdc__penalty=l2, score=0.905, total=   0.0s\n",
            "[CV] sgdc__alpha=0.001, sgdc__loss=log, sgdc__penalty=l2 .............\n",
            "[CV]  sgdc__alpha=0.001, sgdc__loss=log, sgdc__penalty=l2, score=0.929, total=   0.0s\n",
            "[CV] sgdc__alpha=0.001, sgdc__loss=log, sgdc__penalty=l2 .............\n",
            "[CV]  sgdc__alpha=0.001, sgdc__loss=log, sgdc__penalty=l2, score=0.854, total=   0.0s\n",
            "[CV] sgdc__alpha=0.001, sgdc__loss=log, sgdc__penalty=l2 .............\n",
            "[CV]  sgdc__alpha=0.001, sgdc__loss=log, sgdc__penalty=l2, score=0.976, total=   0.0s\n",
            "[CV] sgdc__alpha=0.001, sgdc__loss=log, sgdc__penalty=l2 .............\n",
            "[CV]  sgdc__alpha=0.001, sgdc__loss=log, sgdc__penalty=l2, score=0.976, total=   0.0s\n",
            "[CV] sgdc__alpha=0.001, sgdc__loss=log, sgdc__penalty=l1 .............\n",
            "[CV]  sgdc__alpha=0.001, sgdc__loss=log, sgdc__penalty=l1, score=0.905, total=   0.0s\n",
            "[CV] sgdc__alpha=0.001, sgdc__loss=log, sgdc__penalty=l1 .............\n",
            "[CV]  sgdc__alpha=0.001, sgdc__loss=log, sgdc__penalty=l1, score=0.976, total=   0.0s\n",
            "[CV] sgdc__alpha=0.001, sgdc__loss=log, sgdc__penalty=l1 .............\n",
            "[CV]  sgdc__alpha=0.001, sgdc__loss=log, sgdc__penalty=l1, score=0.976, total=   0.0s\n",
            "[CV] sgdc__alpha=0.001, sgdc__loss=log, sgdc__penalty=l1 .............\n",
            "[CV]  sgdc__alpha=0.001, sgdc__loss=log, sgdc__penalty=l1, score=1.000, total=   0.0s\n",
            "[CV] sgdc__alpha=0.001, sgdc__loss=log, sgdc__penalty=l1 .............\n",
            "[CV]  sgdc__alpha=0.001, sgdc__loss=log, sgdc__penalty=l1, score=1.000, total=   0.0s\n",
            "[CV] sgdc__alpha=0.001, sgdc__loss=log, sgdc__penalty=elasticnet .....\n",
            "[CV]  sgdc__alpha=0.001, sgdc__loss=log, sgdc__penalty=elasticnet, score=0.905, total=   0.0s\n",
            "[CV] sgdc__alpha=0.001, sgdc__loss=log, sgdc__penalty=elasticnet .....\n",
            "[CV]  sgdc__alpha=0.001, sgdc__loss=log, sgdc__penalty=elasticnet, score=0.905, total=   0.0s\n",
            "[CV] sgdc__alpha=0.001, sgdc__loss=log, sgdc__penalty=elasticnet .....\n",
            "[CV]  sgdc__alpha=0.001, sgdc__loss=log, sgdc__penalty=elasticnet, score=0.976, total=   0.0s\n",
            "[CV] sgdc__alpha=0.001, sgdc__loss=log, sgdc__penalty=elasticnet .....\n",
            "[CV]  sgdc__alpha=0.001, sgdc__loss=log, sgdc__penalty=elasticnet, score=0.976, total=   0.0s\n",
            "[CV] sgdc__alpha=0.001, sgdc__loss=log, sgdc__penalty=elasticnet .....\n",
            "[CV]  sgdc__alpha=0.001, sgdc__loss=log, sgdc__penalty=elasticnet, score=0.976, total=   0.0s\n",
            "[CV] sgdc__alpha=0.001, sgdc__loss=modified_huber, sgdc__penalty=l2 ..\n",
            "[CV]  sgdc__alpha=0.001, sgdc__loss=modified_huber, sgdc__penalty=l2, score=0.881, total=   0.0s\n",
            "[CV] sgdc__alpha=0.001, sgdc__loss=modified_huber, sgdc__penalty=l2 ..\n",
            "[CV]  sgdc__alpha=0.001, sgdc__loss=modified_huber, sgdc__penalty=l2, score=0.929, total=   0.0s\n",
            "[CV] sgdc__alpha=0.001, sgdc__loss=modified_huber, sgdc__penalty=l2 ..\n",
            "[CV]  sgdc__alpha=0.001, sgdc__loss=modified_huber, sgdc__penalty=l2, score=0.927, total=   0.0s\n",
            "[CV] sgdc__alpha=0.001, sgdc__loss=modified_huber, sgdc__penalty=l2 ..\n",
            "[CV]  sgdc__alpha=0.001, sgdc__loss=modified_huber, sgdc__penalty=l2, score=0.976, total=   0.0s\n",
            "[CV] sgdc__alpha=0.001, sgdc__loss=modified_huber, sgdc__penalty=l2 ..\n",
            "[CV]  sgdc__alpha=0.001, sgdc__loss=modified_huber, sgdc__penalty=l2, score=0.927, total=   0.0s\n",
            "[CV] sgdc__alpha=0.001, sgdc__loss=modified_huber, sgdc__penalty=l1 ..\n",
            "[CV]  sgdc__alpha=0.001, sgdc__loss=modified_huber, sgdc__penalty=l1, score=0.881, total=   0.0s\n",
            "[CV] sgdc__alpha=0.001, sgdc__loss=modified_huber, sgdc__penalty=l1 ..\n",
            "[CV]  sgdc__alpha=0.001, sgdc__loss=modified_huber, sgdc__penalty=l1, score=0.976, total=   0.0s\n",
            "[CV] sgdc__alpha=0.001, sgdc__loss=modified_huber, sgdc__penalty=l1 ..\n",
            "[CV]  sgdc__alpha=0.001, sgdc__loss=modified_huber, sgdc__penalty=l1, score=1.000, total=   0.0s\n",
            "[CV] sgdc__alpha=0.001, sgdc__loss=modified_huber, sgdc__penalty=l1 ..\n",
            "[CV]  sgdc__alpha=0.001, sgdc__loss=modified_huber, sgdc__penalty=l1, score=1.000, total=   0.0s\n",
            "[CV] sgdc__alpha=0.001, sgdc__loss=modified_huber, sgdc__penalty=l1 ..\n",
            "[CV]  sgdc__alpha=0.001, sgdc__loss=modified_huber, sgdc__penalty=l1, score=1.000, total=   0.0s\n",
            "[CV] sgdc__alpha=0.001, sgdc__loss=modified_huber, sgdc__penalty=elasticnet \n",
            "[CV]  sgdc__alpha=0.001, sgdc__loss=modified_huber, sgdc__penalty=elasticnet, score=0.952, total=   0.0s\n",
            "[CV] sgdc__alpha=0.001, sgdc__loss=modified_huber, sgdc__penalty=elasticnet \n",
            "[CV]  sgdc__alpha=0.001, sgdc__loss=modified_huber, sgdc__penalty=elasticnet, score=0.976, total=   0.0s\n",
            "[CV] sgdc__alpha=0.001, sgdc__loss=modified_huber, sgdc__penalty=elasticnet \n",
            "[CV]  sgdc__alpha=0.001, sgdc__loss=modified_huber, sgdc__penalty=elasticnet, score=1.000, total=   0.0s\n",
            "[CV] sgdc__alpha=0.001, sgdc__loss=modified_huber, sgdc__penalty=elasticnet \n",
            "[CV]  sgdc__alpha=0.001, sgdc__loss=modified_huber, sgdc__penalty=elasticnet, score=1.000, total=   0.0s\n",
            "[CV] sgdc__alpha=0.001, sgdc__loss=modified_huber, sgdc__penalty=elasticnet \n",
            "[CV]  sgdc__alpha=0.001, sgdc__loss=modified_huber, sgdc__penalty=elasticnet, score=1.000, total=   0.0s\n",
            "[CV] sgdc__alpha=0.001, sgdc__loss=squared_hinge, sgdc__penalty=l2 ...\n",
            "[CV]  sgdc__alpha=0.001, sgdc__loss=squared_hinge, sgdc__penalty=l2, score=0.952, total=   0.0s\n",
            "[CV] sgdc__alpha=0.001, sgdc__loss=squared_hinge, sgdc__penalty=l2 ...\n",
            "[CV]  sgdc__alpha=0.001, sgdc__loss=squared_hinge, sgdc__penalty=l2, score=0.905, total=   0.0s\n",
            "[CV] sgdc__alpha=0.001, sgdc__loss=squared_hinge, sgdc__penalty=l2 ...\n",
            "[CV]  sgdc__alpha=0.001, sgdc__loss=squared_hinge, sgdc__penalty=l2, score=0.976, total=   0.0s\n",
            "[CV] sgdc__alpha=0.001, sgdc__loss=squared_hinge, sgdc__penalty=l2 ...\n",
            "[CV]  sgdc__alpha=0.001, sgdc__loss=squared_hinge, sgdc__penalty=l2, score=0.927, total=   0.0s\n",
            "[CV] sgdc__alpha=0.001, sgdc__loss=squared_hinge, sgdc__penalty=l2 ...\n",
            "[CV]  sgdc__alpha=0.001, sgdc__loss=squared_hinge, sgdc__penalty=l2, score=0.976, total=   0.0s\n",
            "[CV] sgdc__alpha=0.001, sgdc__loss=squared_hinge, sgdc__penalty=l1 ...\n",
            "[CV]  sgdc__alpha=0.001, sgdc__loss=squared_hinge, sgdc__penalty=l1, score=0.881, total=   0.0s\n",
            "[CV] sgdc__alpha=0.001, sgdc__loss=squared_hinge, sgdc__penalty=l1 ...\n",
            "[CV]  sgdc__alpha=0.001, sgdc__loss=squared_hinge, sgdc__penalty=l1, score=0.952, total=   0.0s\n",
            "[CV] sgdc__alpha=0.001, sgdc__loss=squared_hinge, sgdc__penalty=l1 ...\n",
            "[CV]  sgdc__alpha=0.001, sgdc__loss=squared_hinge, sgdc__penalty=l1, score=1.000, total=   0.0s\n",
            "[CV] sgdc__alpha=0.001, sgdc__loss=squared_hinge, sgdc__penalty=l1 ...\n",
            "[CV]  sgdc__alpha=0.001, sgdc__loss=squared_hinge, sgdc__penalty=l1, score=0.951, total=   0.0s\n",
            "[CV] sgdc__alpha=0.001, sgdc__loss=squared_hinge, sgdc__penalty=l1 ...\n",
            "[CV]  sgdc__alpha=0.001, sgdc__loss=squared_hinge, sgdc__penalty=l1, score=0.976, total=   0.0s\n",
            "[CV] sgdc__alpha=0.001, sgdc__loss=squared_hinge, sgdc__penalty=elasticnet \n",
            "[CV]  sgdc__alpha=0.001, sgdc__loss=squared_hinge, sgdc__penalty=elasticnet, score=0.952, total=   0.0s\n",
            "[CV] sgdc__alpha=0.001, sgdc__loss=squared_hinge, sgdc__penalty=elasticnet \n",
            "[CV]  sgdc__alpha=0.001, sgdc__loss=squared_hinge, sgdc__penalty=elasticnet, score=0.929, total=   0.0s\n",
            "[CV] sgdc__alpha=0.001, sgdc__loss=squared_hinge, sgdc__penalty=elasticnet \n",
            "[CV]  sgdc__alpha=0.001, sgdc__loss=squared_hinge, sgdc__penalty=elasticnet, score=0.976, total=   0.0s\n",
            "[CV] sgdc__alpha=0.001, sgdc__loss=squared_hinge, sgdc__penalty=elasticnet \n",
            "[CV]  sgdc__alpha=0.001, sgdc__loss=squared_hinge, sgdc__penalty=elasticnet, score=0.976, total=   0.0s\n",
            "[CV] sgdc__alpha=0.001, sgdc__loss=squared_hinge, sgdc__penalty=elasticnet \n",
            "[CV]  sgdc__alpha=0.001, sgdc__loss=squared_hinge, sgdc__penalty=elasticnet, score=0.878, total=   0.0s\n",
            "[CV] sgdc__alpha=0.001, sgdc__loss=perceptron, sgdc__penalty=l2 ......\n",
            "[CV]  sgdc__alpha=0.001, sgdc__loss=perceptron, sgdc__penalty=l2, score=0.929, total=   0.0s\n",
            "[CV] sgdc__alpha=0.001, sgdc__loss=perceptron, sgdc__penalty=l2 ......\n",
            "[CV]  sgdc__alpha=0.001, sgdc__loss=perceptron, sgdc__penalty=l2, score=1.000, total=   0.0s\n",
            "[CV] sgdc__alpha=0.001, sgdc__loss=perceptron, sgdc__penalty=l2 ......\n",
            "[CV]  sgdc__alpha=0.001, sgdc__loss=perceptron, sgdc__penalty=l2, score=0.878, total=   0.0s\n",
            "[CV] sgdc__alpha=0.001, sgdc__loss=perceptron, sgdc__penalty=l2 ......\n",
            "[CV]  sgdc__alpha=0.001, sgdc__loss=perceptron, sgdc__penalty=l2, score=0.976, total=   0.0s\n",
            "[CV] sgdc__alpha=0.001, sgdc__loss=perceptron, sgdc__penalty=l2 ......\n",
            "[CV]  sgdc__alpha=0.001, sgdc__loss=perceptron, sgdc__penalty=l2, score=0.976, total=   0.0s\n",
            "[CV] sgdc__alpha=0.001, sgdc__loss=perceptron, sgdc__penalty=l1 ......\n",
            "[CV]  sgdc__alpha=0.001, sgdc__loss=perceptron, sgdc__penalty=l1, score=0.952, total=   0.0s\n",
            "[CV] sgdc__alpha=0.001, sgdc__loss=perceptron, sgdc__penalty=l1 ......\n",
            "[CV]  sgdc__alpha=0.001, sgdc__loss=perceptron, sgdc__penalty=l1, score=0.976, total=   0.0s\n",
            "[CV] sgdc__alpha=0.001, sgdc__loss=perceptron, sgdc__penalty=l1 ......\n",
            "[CV]  sgdc__alpha=0.001, sgdc__loss=perceptron, sgdc__penalty=l1, score=1.000, total=   0.0s\n",
            "[CV] sgdc__alpha=0.001, sgdc__loss=perceptron, sgdc__penalty=l1 ......\n",
            "[CV]  sgdc__alpha=0.001, sgdc__loss=perceptron, sgdc__penalty=l1, score=1.000, total=   0.0s\n",
            "[CV] sgdc__alpha=0.001, sgdc__loss=perceptron, sgdc__penalty=l1 ......\n",
            "[CV]  sgdc__alpha=0.001, sgdc__loss=perceptron, sgdc__penalty=l1, score=1.000, total=   0.0s\n",
            "[CV] sgdc__alpha=0.001, sgdc__loss=perceptron, sgdc__penalty=elasticnet \n",
            "[CV]  sgdc__alpha=0.001, sgdc__loss=perceptron, sgdc__penalty=elasticnet, score=0.905, total=   0.0s\n",
            "[CV] sgdc__alpha=0.001, sgdc__loss=perceptron, sgdc__penalty=elasticnet \n",
            "[CV]  sgdc__alpha=0.001, sgdc__loss=perceptron, sgdc__penalty=elasticnet, score=0.929, total=   0.0s\n",
            "[CV] sgdc__alpha=0.001, sgdc__loss=perceptron, sgdc__penalty=elasticnet \n",
            "[CV]  sgdc__alpha=0.001, sgdc__loss=perceptron, sgdc__penalty=elasticnet, score=0.878, total=   0.0s\n",
            "[CV] sgdc__alpha=0.001, sgdc__loss=perceptron, sgdc__penalty=elasticnet \n",
            "[CV]  sgdc__alpha=0.001, sgdc__loss=perceptron, sgdc__penalty=elasticnet, score=0.976, total=   0.0s\n",
            "[CV] sgdc__alpha=0.001, sgdc__loss=perceptron, sgdc__penalty=elasticnet \n",
            "[CV]  sgdc__alpha=0.001, sgdc__loss=perceptron, sgdc__penalty=elasticnet, score=0.976, total=   0.0s\n",
            "[CV] sgdc__alpha=0.0001, sgdc__loss=hinge, sgdc__penalty=l2 ..........\n",
            "[CV]  sgdc__alpha=0.0001, sgdc__loss=hinge, sgdc__penalty=l2, score=0.929, total=   0.0s\n",
            "[CV] sgdc__alpha=0.0001, sgdc__loss=hinge, sgdc__penalty=l2 ..........\n",
            "[CV]  sgdc__alpha=0.0001, sgdc__loss=hinge, sgdc__penalty=l2, score=0.929, total=   0.0s\n",
            "[CV] sgdc__alpha=0.0001, sgdc__loss=hinge, sgdc__penalty=l2 ..........\n",
            "[CV]  sgdc__alpha=0.0001, sgdc__loss=hinge, sgdc__penalty=l2, score=0.854, total=   0.0s\n",
            "[CV] sgdc__alpha=0.0001, sgdc__loss=hinge, sgdc__penalty=l2 ..........\n",
            "[CV]  sgdc__alpha=0.0001, sgdc__loss=hinge, sgdc__penalty=l2, score=0.976, total=   0.0s\n",
            "[CV] sgdc__alpha=0.0001, sgdc__loss=hinge, sgdc__penalty=l2 ..........\n",
            "[CV]  sgdc__alpha=0.0001, sgdc__loss=hinge, sgdc__penalty=l2, score=0.976, total=   0.0s\n",
            "[CV] sgdc__alpha=0.0001, sgdc__loss=hinge, sgdc__penalty=l1 ..........\n",
            "[CV]  sgdc__alpha=0.0001, sgdc__loss=hinge, sgdc__penalty=l1, score=0.905, total=   0.0s\n",
            "[CV] sgdc__alpha=0.0001, sgdc__loss=hinge, sgdc__penalty=l1 ..........\n",
            "[CV]  sgdc__alpha=0.0001, sgdc__loss=hinge, sgdc__penalty=l1, score=0.952, total=   0.0s\n",
            "[CV] sgdc__alpha=0.0001, sgdc__loss=hinge, sgdc__penalty=l1 ..........\n",
            "[CV]  sgdc__alpha=0.0001, sgdc__loss=hinge, sgdc__penalty=l1, score=0.951, total=   0.0s\n",
            "[CV] sgdc__alpha=0.0001, sgdc__loss=hinge, sgdc__penalty=l1 ..........\n",
            "[CV]  sgdc__alpha=0.0001, sgdc__loss=hinge, sgdc__penalty=l1, score=1.000, total=   0.0s\n",
            "[CV] sgdc__alpha=0.0001, sgdc__loss=hinge, sgdc__penalty=l1 ..........\n",
            "[CV]  sgdc__alpha=0.0001, sgdc__loss=hinge, sgdc__penalty=l1, score=1.000, total=   0.0s\n",
            "[CV] sgdc__alpha=0.0001, sgdc__loss=hinge, sgdc__penalty=elasticnet ..\n",
            "[CV]  sgdc__alpha=0.0001, sgdc__loss=hinge, sgdc__penalty=elasticnet, score=0.881, total=   0.0s\n",
            "[CV] sgdc__alpha=0.0001, sgdc__loss=hinge, sgdc__penalty=elasticnet ..\n",
            "[CV]  sgdc__alpha=0.0001, sgdc__loss=hinge, sgdc__penalty=elasticnet, score=0.952, total=   0.0s\n",
            "[CV] sgdc__alpha=0.0001, sgdc__loss=hinge, sgdc__penalty=elasticnet ..\n",
            "[CV]  sgdc__alpha=0.0001, sgdc__loss=hinge, sgdc__penalty=elasticnet, score=0.902, total=   0.0s\n",
            "[CV] sgdc__alpha=0.0001, sgdc__loss=hinge, sgdc__penalty=elasticnet ..\n",
            "[CV]  sgdc__alpha=0.0001, sgdc__loss=hinge, sgdc__penalty=elasticnet, score=0.927, total=   0.0s\n",
            "[CV] sgdc__alpha=0.0001, sgdc__loss=hinge, sgdc__penalty=elasticnet ..\n",
            "[CV]  sgdc__alpha=0.0001, sgdc__loss=hinge, sgdc__penalty=elasticnet, score=0.951, total=   0.0s\n",
            "[CV] sgdc__alpha=0.0001, sgdc__loss=log, sgdc__penalty=l2 ............\n",
            "[CV]  sgdc__alpha=0.0001, sgdc__loss=log, sgdc__penalty=l2, score=0.905, total=   0.0s\n",
            "[CV] sgdc__alpha=0.0001, sgdc__loss=log, sgdc__penalty=l2 ............\n",
            "[CV]  sgdc__alpha=0.0001, sgdc__loss=log, sgdc__penalty=l2, score=1.000, total=   0.0s\n",
            "[CV] sgdc__alpha=0.0001, sgdc__loss=log, sgdc__penalty=l2 ............\n",
            "[CV]  sgdc__alpha=0.0001, sgdc__loss=log, sgdc__penalty=l2, score=0.902, total=   0.0s\n",
            "[CV] sgdc__alpha=0.0001, sgdc__loss=log, sgdc__penalty=l2 ............\n",
            "[CV]  sgdc__alpha=0.0001, sgdc__loss=log, sgdc__penalty=l2, score=0.976, total=   0.0s\n",
            "[CV] sgdc__alpha=0.0001, sgdc__loss=log, sgdc__penalty=l2 ............\n",
            "[CV]  sgdc__alpha=0.0001, sgdc__loss=log, sgdc__penalty=l2, score=0.976, total=   0.0s\n",
            "[CV] sgdc__alpha=0.0001, sgdc__loss=log, sgdc__penalty=l1 ............\n",
            "[CV]  sgdc__alpha=0.0001, sgdc__loss=log, sgdc__penalty=l1, score=0.881, total=   0.0s\n",
            "[CV] sgdc__alpha=0.0001, sgdc__loss=log, sgdc__penalty=l1 ............\n",
            "[CV]  sgdc__alpha=0.0001, sgdc__loss=log, sgdc__penalty=l1, score=0.976, total=   0.0s\n",
            "[CV] sgdc__alpha=0.0001, sgdc__loss=log, sgdc__penalty=l1 ............\n",
            "[CV]  sgdc__alpha=0.0001, sgdc__loss=log, sgdc__penalty=l1, score=1.000, total=   0.0s\n",
            "[CV] sgdc__alpha=0.0001, sgdc__loss=log, sgdc__penalty=l1 ............\n",
            "[CV]  sgdc__alpha=0.0001, sgdc__loss=log, sgdc__penalty=l1, score=1.000, total=   0.0s\n",
            "[CV] sgdc__alpha=0.0001, sgdc__loss=log, sgdc__penalty=l1 ............\n",
            "[CV]  sgdc__alpha=0.0001, sgdc__loss=log, sgdc__penalty=l1, score=1.000, total=   0.0s\n",
            "[CV] sgdc__alpha=0.0001, sgdc__loss=log, sgdc__penalty=elasticnet ....\n",
            "[CV]  sgdc__alpha=0.0001, sgdc__loss=log, sgdc__penalty=elasticnet, score=0.929, total=   0.0s\n",
            "[CV] sgdc__alpha=0.0001, sgdc__loss=log, sgdc__penalty=elasticnet ....\n",
            "[CV]  sgdc__alpha=0.0001, sgdc__loss=log, sgdc__penalty=elasticnet, score=0.905, total=   0.0s\n",
            "[CV] sgdc__alpha=0.0001, sgdc__loss=log, sgdc__penalty=elasticnet ....\n",
            "[CV]  sgdc__alpha=0.0001, sgdc__loss=log, sgdc__penalty=elasticnet, score=0.951, total=   0.0s\n",
            "[CV] sgdc__alpha=0.0001, sgdc__loss=log, sgdc__penalty=elasticnet ....\n",
            "[CV]  sgdc__alpha=0.0001, sgdc__loss=log, sgdc__penalty=elasticnet, score=1.000, total=   0.0s\n",
            "[CV] sgdc__alpha=0.0001, sgdc__loss=log, sgdc__penalty=elasticnet ....\n",
            "[CV]  sgdc__alpha=0.0001, sgdc__loss=log, sgdc__penalty=elasticnet, score=0.951, total=   0.0s\n",
            "[CV] sgdc__alpha=0.0001, sgdc__loss=modified_huber, sgdc__penalty=l2 .\n",
            "[CV]  sgdc__alpha=0.0001, sgdc__loss=modified_huber, sgdc__penalty=l2, score=0.905, total=   0.0s\n",
            "[CV] sgdc__alpha=0.0001, sgdc__loss=modified_huber, sgdc__penalty=l2 .\n",
            "[CV]  sgdc__alpha=0.0001, sgdc__loss=modified_huber, sgdc__penalty=l2, score=0.929, total=   0.0s\n",
            "[CV] sgdc__alpha=0.0001, sgdc__loss=modified_huber, sgdc__penalty=l2 .\n",
            "[CV]  sgdc__alpha=0.0001, sgdc__loss=modified_huber, sgdc__penalty=l2, score=0.854, total=   0.0s\n",
            "[CV] sgdc__alpha=0.0001, sgdc__loss=modified_huber, sgdc__penalty=l2 .\n",
            "[CV]  sgdc__alpha=0.0001, sgdc__loss=modified_huber, sgdc__penalty=l2, score=0.976, total=   0.0s\n",
            "[CV] sgdc__alpha=0.0001, sgdc__loss=modified_huber, sgdc__penalty=l2 .\n",
            "[CV]  sgdc__alpha=0.0001, sgdc__loss=modified_huber, sgdc__penalty=l2, score=0.927, total=   0.0s\n",
            "[CV] sgdc__alpha=0.0001, sgdc__loss=modified_huber, sgdc__penalty=l1 .\n",
            "[CV]  sgdc__alpha=0.0001, sgdc__loss=modified_huber, sgdc__penalty=l1, score=0.905, total=   0.0s\n",
            "[CV] sgdc__alpha=0.0001, sgdc__loss=modified_huber, sgdc__penalty=l1 .\n",
            "[CV]  sgdc__alpha=0.0001, sgdc__loss=modified_huber, sgdc__penalty=l1, score=0.929, total=   0.0s\n",
            "[CV] sgdc__alpha=0.0001, sgdc__loss=modified_huber, sgdc__penalty=l1 .\n",
            "[CV]  sgdc__alpha=0.0001, sgdc__loss=modified_huber, sgdc__penalty=l1, score=0.951, total=   0.0s\n",
            "[CV] sgdc__alpha=0.0001, sgdc__loss=modified_huber, sgdc__penalty=l1 .\n",
            "[CV]  sgdc__alpha=0.0001, sgdc__loss=modified_huber, sgdc__penalty=l1, score=1.000, total=   0.0s\n",
            "[CV] sgdc__alpha=0.0001, sgdc__loss=modified_huber, sgdc__penalty=l1 .\n",
            "[CV]  sgdc__alpha=0.0001, sgdc__loss=modified_huber, sgdc__penalty=l1, score=1.000, total=   0.0s\n",
            "[CV] sgdc__alpha=0.0001, sgdc__loss=modified_huber, sgdc__penalty=elasticnet \n",
            "[CV]  sgdc__alpha=0.0001, sgdc__loss=modified_huber, sgdc__penalty=elasticnet, score=0.905, total=   0.0s\n",
            "[CV] sgdc__alpha=0.0001, sgdc__loss=modified_huber, sgdc__penalty=elasticnet \n",
            "[CV]  sgdc__alpha=0.0001, sgdc__loss=modified_huber, sgdc__penalty=elasticnet, score=0.905, total=   0.0s\n",
            "[CV] sgdc__alpha=0.0001, sgdc__loss=modified_huber, sgdc__penalty=elasticnet \n",
            "[CV]  sgdc__alpha=0.0001, sgdc__loss=modified_huber, sgdc__penalty=elasticnet, score=0.927, total=   0.0s\n",
            "[CV] sgdc__alpha=0.0001, sgdc__loss=modified_huber, sgdc__penalty=elasticnet \n",
            "[CV]  sgdc__alpha=0.0001, sgdc__loss=modified_huber, sgdc__penalty=elasticnet, score=0.878, total=   0.0s\n",
            "[CV] sgdc__alpha=0.0001, sgdc__loss=modified_huber, sgdc__penalty=elasticnet \n",
            "[CV]  sgdc__alpha=0.0001, sgdc__loss=modified_huber, sgdc__penalty=elasticnet, score=0.976, total=   0.0s\n",
            "[CV] sgdc__alpha=0.0001, sgdc__loss=squared_hinge, sgdc__penalty=l2 ..\n",
            "[CV]  sgdc__alpha=0.0001, sgdc__loss=squared_hinge, sgdc__penalty=l2, score=0.905, total=   0.0s\n",
            "[CV] sgdc__alpha=0.0001, sgdc__loss=squared_hinge, sgdc__penalty=l2 ..\n",
            "[CV]  sgdc__alpha=0.0001, sgdc__loss=squared_hinge, sgdc__penalty=l2, score=0.857, total=   0.0s\n",
            "[CV] sgdc__alpha=0.0001, sgdc__loss=squared_hinge, sgdc__penalty=l2 ..\n",
            "[CV]  sgdc__alpha=0.0001, sgdc__loss=squared_hinge, sgdc__penalty=l2, score=0.976, total=   0.0s\n",
            "[CV] sgdc__alpha=0.0001, sgdc__loss=squared_hinge, sgdc__penalty=l2 ..\n",
            "[CV]  sgdc__alpha=0.0001, sgdc__loss=squared_hinge, sgdc__penalty=l2, score=0.976, total=   0.0s\n",
            "[CV] sgdc__alpha=0.0001, sgdc__loss=squared_hinge, sgdc__penalty=l2 ..\n",
            "[CV]  sgdc__alpha=0.0001, sgdc__loss=squared_hinge, sgdc__penalty=l2, score=0.976, total=   0.0s\n",
            "[CV] sgdc__alpha=0.0001, sgdc__loss=squared_hinge, sgdc__penalty=l1 ..\n",
            "[CV]  sgdc__alpha=0.0001, sgdc__loss=squared_hinge, sgdc__penalty=l1, score=0.881, total=   0.0s\n",
            "[CV] sgdc__alpha=0.0001, sgdc__loss=squared_hinge, sgdc__penalty=l1 ..\n",
            "[CV]  sgdc__alpha=0.0001, sgdc__loss=squared_hinge, sgdc__penalty=l1, score=0.952, total=   0.0s\n",
            "[CV] sgdc__alpha=0.0001, sgdc__loss=squared_hinge, sgdc__penalty=l1 ..\n",
            "[CV]  sgdc__alpha=0.0001, sgdc__loss=squared_hinge, sgdc__penalty=l1, score=0.976, total=   0.0s\n",
            "[CV] sgdc__alpha=0.0001, sgdc__loss=squared_hinge, sgdc__penalty=l1 ..\n",
            "[CV]  sgdc__alpha=0.0001, sgdc__loss=squared_hinge, sgdc__penalty=l1, score=1.000, total=   0.0s\n",
            "[CV] sgdc__alpha=0.0001, sgdc__loss=squared_hinge, sgdc__penalty=l1 ..\n",
            "[CV]  sgdc__alpha=0.0001, sgdc__loss=squared_hinge, sgdc__penalty=l1, score=0.951, total=   0.0s\n",
            "[CV] sgdc__alpha=0.0001, sgdc__loss=squared_hinge, sgdc__penalty=elasticnet \n",
            "[CV]  sgdc__alpha=0.0001, sgdc__loss=squared_hinge, sgdc__penalty=elasticnet, score=0.929, total=   0.0s\n",
            "[CV] sgdc__alpha=0.0001, sgdc__loss=squared_hinge, sgdc__penalty=elasticnet \n",
            "[CV]  sgdc__alpha=0.0001, sgdc__loss=squared_hinge, sgdc__penalty=elasticnet, score=0.929, total=   0.0s\n",
            "[CV] sgdc__alpha=0.0001, sgdc__loss=squared_hinge, sgdc__penalty=elasticnet \n",
            "[CV]  sgdc__alpha=0.0001, sgdc__loss=squared_hinge, sgdc__penalty=elasticnet, score=0.951, total=   0.0s\n",
            "[CV] sgdc__alpha=0.0001, sgdc__loss=squared_hinge, sgdc__penalty=elasticnet \n",
            "[CV]  sgdc__alpha=0.0001, sgdc__loss=squared_hinge, sgdc__penalty=elasticnet, score=0.927, total=   0.0s\n",
            "[CV] sgdc__alpha=0.0001, sgdc__loss=squared_hinge, sgdc__penalty=elasticnet \n",
            "[CV]  sgdc__alpha=0.0001, sgdc__loss=squared_hinge, sgdc__penalty=elasticnet, score=0.976, total=   0.0s\n",
            "[CV] sgdc__alpha=0.0001, sgdc__loss=perceptron, sgdc__penalty=l2 .....\n",
            "[CV]  sgdc__alpha=0.0001, sgdc__loss=perceptron, sgdc__penalty=l2, score=0.881, total=   0.0s\n",
            "[CV] sgdc__alpha=0.0001, sgdc__loss=perceptron, sgdc__penalty=l2 .....\n",
            "[CV]  sgdc__alpha=0.0001, sgdc__loss=perceptron, sgdc__penalty=l2, score=0.952, total=   0.0s\n",
            "[CV] sgdc__alpha=0.0001, sgdc__loss=perceptron, sgdc__penalty=l2 .....\n",
            "[CV]  sgdc__alpha=0.0001, sgdc__loss=perceptron, sgdc__penalty=l2, score=0.902, total=   0.0s\n",
            "[CV] sgdc__alpha=0.0001, sgdc__loss=perceptron, sgdc__penalty=l2 .....\n",
            "[CV]  sgdc__alpha=0.0001, sgdc__loss=perceptron, sgdc__penalty=l2, score=0.902, total=   0.0s\n",
            "[CV] sgdc__alpha=0.0001, sgdc__loss=perceptron, sgdc__penalty=l2 .....\n",
            "[CV]  sgdc__alpha=0.0001, sgdc__loss=perceptron, sgdc__penalty=l2, score=0.927, total=   0.0s\n",
            "[CV] sgdc__alpha=0.0001, sgdc__loss=perceptron, sgdc__penalty=l1 .....\n",
            "[CV]  sgdc__alpha=0.0001, sgdc__loss=perceptron, sgdc__penalty=l1, score=0.881, total=   0.0s\n",
            "[CV] sgdc__alpha=0.0001, sgdc__loss=perceptron, sgdc__penalty=l1 .....\n",
            "[CV]  sgdc__alpha=0.0001, sgdc__loss=perceptron, sgdc__penalty=l1, score=0.929, total=   0.0s\n",
            "[CV] sgdc__alpha=0.0001, sgdc__loss=perceptron, sgdc__penalty=l1 .....\n",
            "[CV]  sgdc__alpha=0.0001, sgdc__loss=perceptron, sgdc__penalty=l1, score=0.951, total=   0.0s\n",
            "[CV] sgdc__alpha=0.0001, sgdc__loss=perceptron, sgdc__penalty=l1 .....\n",
            "[CV]  sgdc__alpha=0.0001, sgdc__loss=perceptron, sgdc__penalty=l1, score=1.000, total=   0.0s\n",
            "[CV] sgdc__alpha=0.0001, sgdc__loss=perceptron, sgdc__penalty=l1 .....\n",
            "[CV]  sgdc__alpha=0.0001, sgdc__loss=perceptron, sgdc__penalty=l1, score=0.976, total=   0.0s\n",
            "[CV] sgdc__alpha=0.0001, sgdc__loss=perceptron, sgdc__penalty=elasticnet \n",
            "[CV]  sgdc__alpha=0.0001, sgdc__loss=perceptron, sgdc__penalty=elasticnet, score=0.929, total=   0.0s\n",
            "[CV] sgdc__alpha=0.0001, sgdc__loss=perceptron, sgdc__penalty=elasticnet \n",
            "[CV]  sgdc__alpha=0.0001, sgdc__loss=perceptron, sgdc__penalty=elasticnet, score=0.952, total=   0.0s\n",
            "[CV] sgdc__alpha=0.0001, sgdc__loss=perceptron, sgdc__penalty=elasticnet \n",
            "[CV]  sgdc__alpha=0.0001, sgdc__loss=perceptron, sgdc__penalty=elasticnet, score=0.976, total=   0.0s\n",
            "[CV] sgdc__alpha=0.0001, sgdc__loss=perceptron, sgdc__penalty=elasticnet \n",
            "[CV]  sgdc__alpha=0.0001, sgdc__loss=perceptron, sgdc__penalty=elasticnet, score=0.976, total=   0.0s\n",
            "[CV] sgdc__alpha=0.0001, sgdc__loss=perceptron, sgdc__penalty=elasticnet \n",
            "[CV]  sgdc__alpha=0.0001, sgdc__loss=perceptron, sgdc__penalty=elasticnet, score=0.951, total=   0.0s\n"
          ],
          "name": "stdout"
        },
        {
          "output_type": "stream",
          "text": [
            "[Parallel(n_jobs=1)]: Done 300 out of 300 | elapsed:    2.7s finished\n"
          ],
          "name": "stderr"
        }
      ]
    },
    {
      "cell_type": "code",
      "metadata": {
        "id": "UkryENNX76z-"
      },
      "source": [
        "y_pred = cv.predict(X_train);"
      ],
      "execution_count": null,
      "outputs": []
    },
    {
      "cell_type": "code",
      "metadata": {
        "id": "gDNJTEyE781x",
        "colab": {
          "base_uri": "https://localhost:8080/",
          "height": 411
        },
        "outputId": "c4b8db64-27a2-4633-fad3-9554245bae68"
      },
      "source": [
        "plot_metrics(model, X_train, y_train, y_pred)"
      ],
      "execution_count": null,
      "outputs": [
        {
          "output_type": "stream",
          "text": [
            "{'precision_score': 0.9263157894736842, 'recall_score': 1.0, 'f1_score': 0.9617486338797814, 'accuracy_score': 0.966183574879227}\n"
          ],
          "name": "stdout"
        },
        {
          "output_type": "display_data",
          "data": {
            "image/png": "[encoded data removed]",
            "text/plain": [
              "<Figure size 576x432 with 2 Axes>"
            ]
          },
          "metadata": {
            "tags": []
          }
        }
      ]
    },
    {
      "cell_type": "code",
      "metadata": {
        "id": "mRPeZ9oE7-5P"
      },
      "source": [
        "y_pred = cv.predict(X_test);"
      ],
      "execution_count": null,
      "outputs": []
    },
    {
      "cell_type": "code",
      "metadata": {
        "id": "2YzVOG7w8AvA",
        "colab": {
          "base_uri": "https://localhost:8080/",
          "height": 411
        },
        "outputId": "0ffb1215-36ae-445f-8242-a2e0d1b06927"
      },
      "source": [
        "plot_metrics(model, X_test, y_test, y_pred)"
      ],
      "execution_count": null,
      "outputs": [
        {
          "output_type": "stream",
          "text": [
            "{'precision_score': 0.9285714285714286, 'recall_score': 1.0, 'f1_score': 0.962962962962963, 'accuracy_score': 0.9615384615384616}\n"
          ],
          "name": "stdout"
        },
        {
          "output_type": "display_data",
          "data": {
            "image/png": "[encoded data removed]",
            "text/plain": [
              "<Figure size 576x432 with 2 Axes>"
            ]
          },
          "metadata": {
            "tags": []
          }
        }
      ]
    },
    {
      "cell_type": "markdown",
      "metadata": {
        "id": "hPny9XfPf9aU"
      },
      "source": [
        "Observación: A continuación la siguiente semana vamos a analizar las metricas obtenidas y realizar los ajustes de hiperparametros correspondientes."
      ]
    }
  ]
}
